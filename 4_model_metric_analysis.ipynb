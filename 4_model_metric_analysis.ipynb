{
 "cells": [
  {
   "cell_type": "markdown",
   "metadata": {},
   "source": [
    "## Model Metrics Analysis for LLaMa-2 benchmarking\n",
    "---------\n",
    "*This notebook works best with the conda_python3 kernel on a ml.t3.medium machine*.\n",
    "\n",
    "### This part of our solution design includes the chunk of taking the metrics generated and creating visualizations from it for further analysis to make decisions more quicker, efficient, and cost optimal.\n",
    "\n",
    "- In this file, we will go over and create side by side visualizations of different models deployed, how their inference latency is impacted based on the concurrency level, instance size and different model configurations. Using these visualizations and charts, making executive decisions, saving on time and cost becomes critical. \n",
    "\n",
    "\n",
    "- In this notebook, we will also record the error rates for each of the deployed model endpoints based on how it ran against different metrics as specified above. These visualizations will be applicable and work for any and every jumpstart and non jumpstart model if deployed correctly using the prior steps."
   ]
  },
  {
   "cell_type": "code",
   "execution_count": 1,
   "metadata": {
    "tags": []
   },
   "outputs": [],
   "source": [
    "## auto reload all of the changes made in the config/globals.py file \n",
    "!touch globals.py\n",
    "%reload_ext autoreload"
   ]
  },
  {
   "cell_type": "markdown",
   "metadata": {},
   "source": [
    "#### Import all of the necessary libraries below to run this notebook"
   ]
  },
  {
   "cell_type": "code",
   "execution_count": 2,
   "metadata": {},
   "outputs": [
    {
     "name": "stdout",
     "output_type": "stream",
     "text": [
      "sagemaker.config INFO - Not applying SDK defaults from location: /opt/homebrew/share/sagemaker/config.yaml\n",
      "sagemaker.config INFO - Not applying SDK defaults from location: /Users/madhurpt/Library/Application Support/sagemaker/config.yaml\n",
      "CONFIG_FILE=configs/config-mistral-7b-tgi-g5.yml\n"
     ]
    }
   ],
   "source": [
    "import glob\n",
    "import time\n",
    "import json\n",
    "import copy\n",
    "import asyncio\n",
    "import io\n",
    "import logging\n",
    "import itertools\n",
    "import sagemaker\n",
    "import numpy as np\n",
    "import pandas as pd\n",
    "from utils import write_to_s3\n",
    "\n",
    "## Import seaborn and other related libraries for visualizations and plotting charts\n",
    "import seaborn as sns\n",
    "from globals import *\n",
    "from datetime import datetime\n",
    "from typing import Dict, List\n",
    "from transformers import AutoTokenizer\n",
    "from sagemaker.predictor import Predictor\n",
    "from utils import load_config, count_tokens\n",
    "from sagemaker.serializers import JSONSerializer"
   ]
  },
  {
   "cell_type": "code",
   "execution_count": 3,
   "metadata": {},
   "outputs": [],
   "source": [
    "# Importing the necessary libraries for data visualization\n",
    "import seaborn as sns # enhanced visualization capabilities\n",
    "\n",
    "## for plotting\n",
    "import matplotlib.pyplot as plt\n",
    "# rcParams for configuring Matplotlib settings\n",
    "from matplotlib import rcParams\n",
    "\n",
    "# figure size in inches\n",
    "rcParams['figure.figsize'] = 10, 6"
   ]
  },
  {
   "cell_type": "markdown",
   "metadata": {},
   "source": [
    "#### Pygmentize globals.py to view and use any of the globally initialized variables "
   ]
  },
  {
   "cell_type": "code",
   "execution_count": 4,
   "metadata": {},
   "outputs": [
    {
     "name": "stdout",
     "output_type": "stream",
     "text": [
      "\u001b[34mimport\u001b[39;49;00m \u001b[04m\u001b[36mos\u001b[39;49;00m\u001b[37m\u001b[39;49;00m\n",
      "\u001b[34mimport\u001b[39;49;00m \u001b[04m\u001b[36myaml\u001b[39;49;00m\u001b[37m\u001b[39;49;00m\n",
      "\u001b[34mfrom\u001b[39;49;00m \u001b[04m\u001b[36menum\u001b[39;49;00m \u001b[34mimport\u001b[39;49;00m Enum\u001b[37m\u001b[39;49;00m\n",
      "\u001b[34mfrom\u001b[39;49;00m \u001b[04m\u001b[36mpathlib\u001b[39;49;00m \u001b[34mimport\u001b[39;49;00m Path\u001b[37m\u001b[39;49;00m\n",
      "\u001b[34mimport\u001b[39;49;00m \u001b[04m\u001b[36mboto3\u001b[39;49;00m\u001b[37m\u001b[39;49;00m\n",
      "\u001b[34mfrom\u001b[39;49;00m \u001b[04m\u001b[36mdatetime\u001b[39;49;00m \u001b[34mimport\u001b[39;49;00m datetime\u001b[37m\u001b[39;49;00m\n",
      "\u001b[37m\u001b[39;49;00m\n",
      "CONFIG_FILEPATH_FILE: \u001b[36mstr\u001b[39;49;00m = \u001b[33m\"\u001b[39;49;00m\u001b[33mconfig_filepath.txt\u001b[39;49;00m\u001b[33m\"\u001b[39;49;00m\u001b[37m\u001b[39;49;00m\n",
      "\u001b[37m\u001b[39;49;00m\n",
      "\u001b[37m# S3 client initialization\u001b[39;49;00m\u001b[37m\u001b[39;49;00m\n",
      "s3_client = boto3.client(\u001b[33m'\u001b[39;49;00m\u001b[33ms3\u001b[39;49;00m\u001b[33m'\u001b[39;49;00m)\u001b[37m\u001b[39;49;00m\n",
      "\u001b[37m\u001b[39;49;00m\n",
      "CONFIG_FILE: \u001b[36mstr\u001b[39;49;00m = Path(CONFIG_FILEPATH_FILE).read_text()\u001b[37m\u001b[39;49;00m\n",
      "\u001b[36mprint\u001b[39;49;00m(\u001b[33mf\u001b[39;49;00m\u001b[33m\"\u001b[39;49;00m\u001b[33mCONFIG_FILE=\u001b[39;49;00m\u001b[33m{\u001b[39;49;00mCONFIG_FILE\u001b[33m}\u001b[39;49;00m\u001b[33m\"\u001b[39;49;00m)\u001b[37m\u001b[39;49;00m\n",
      "\u001b[34mwith\u001b[39;49;00m \u001b[36mopen\u001b[39;49;00m(CONFIG_FILE, \u001b[33m'\u001b[39;49;00m\u001b[33mr\u001b[39;49;00m\u001b[33m'\u001b[39;49;00m) \u001b[34mas\u001b[39;49;00m file:\u001b[37m\u001b[39;49;00m\n",
      "    config = yaml.safe_load(file)\u001b[37m\u001b[39;49;00m\n",
      "\u001b[37m\u001b[39;49;00m\n",
      "\u001b[37m## data directory and prompts\u001b[39;49;00m\u001b[37m\u001b[39;49;00m\n",
      "DATA_DIR: \u001b[36mstr\u001b[39;49;00m = config[\u001b[33m'\u001b[39;49;00m\u001b[33mdir_paths\u001b[39;49;00m\u001b[33m'\u001b[39;49;00m][\u001b[33m'\u001b[39;49;00m\u001b[33mdata_prefix\u001b[39;49;00m\u001b[33m'\u001b[39;49;00m]\u001b[37m\u001b[39;49;00m\n",
      "PROMPTS_DIR = os.path.join(DATA_DIR, config[\u001b[33m'\u001b[39;49;00m\u001b[33mdir_paths\u001b[39;49;00m\u001b[33m'\u001b[39;49;00m][\u001b[33m'\u001b[39;49;00m\u001b[33mprompts_prefix\u001b[39;49;00m\u001b[33m'\u001b[39;49;00m])\u001b[37m\u001b[39;49;00m\n",
      "\u001b[37m\u001b[39;49;00m\n",
      "\u001b[37m## --------------------- Metrics directory based on date and time ---------------------------\u001b[39;49;00m\u001b[37m\u001b[39;49;00m\n",
      "current_time = datetime.now()\u001b[37m\u001b[39;49;00m\n",
      "\u001b[37m\u001b[39;49;00m\n",
      "\u001b[37m## Adding minutes for greater detail of when and how the results/endpoint was deployed\u001b[39;49;00m\u001b[37m\u001b[39;49;00m\n",
      "formatted_time = current_time.strftime(\u001b[33m\"\u001b[39;49;00m\u001b[33m%\u001b[39;49;00m\u001b[33mY/\u001b[39;49;00m\u001b[33m%\u001b[39;49;00m\u001b[33mm/\u001b[39;49;00m\u001b[33m%d\u001b[39;49;00m\u001b[33m/\u001b[39;49;00m\u001b[33m%\u001b[39;49;00m\u001b[33mH/\u001b[39;49;00m\u001b[33m%\u001b[39;49;00m\u001b[33mM\u001b[39;49;00m\u001b[33m\"\u001b[39;49;00m)\u001b[37m\u001b[39;49;00m\n",
      "\u001b[37m\u001b[39;49;00m\n",
      "METRICS_DIR = \u001b[33mf\u001b[39;49;00m\u001b[33m\"\u001b[39;49;00m\u001b[33m{\u001b[39;49;00mconfig[\u001b[33m'\u001b[39;49;00m\u001b[33mdir_paths\u001b[39;49;00m\u001b[33m'\u001b[39;49;00m][\u001b[33m'\u001b[39;49;00m\u001b[33mdata_prefix\u001b[39;49;00m\u001b[33m'\u001b[39;49;00m]\u001b[33m}\u001b[39;49;00m\u001b[33m/metrics/\u001b[39;49;00m\u001b[33m{\u001b[39;49;00mformatted_time\u001b[33m}\u001b[39;49;00m\u001b[33m/\u001b[39;49;00m\u001b[33m{\u001b[39;49;00mconfig[\u001b[33m'\u001b[39;49;00m\u001b[33mgeneral\u001b[39;49;00m\u001b[33m'\u001b[39;49;00m][\u001b[33m'\u001b[39;49;00m\u001b[33mname\u001b[39;49;00m\u001b[33m'\u001b[39;49;00m]\u001b[33m}\u001b[39;49;00m\u001b[33m\"\u001b[39;49;00m\u001b[37m\u001b[39;49;00m\n",
      "\u001b[37m\u001b[39;49;00m\n",
      "\u001b[37m\u001b[39;49;00m\n",
      "METRICS_PER_INFERENCE_DIR  = os.path.join(METRICS_DIR, \u001b[33m\"\u001b[39;49;00m\u001b[33mper_inference\u001b[39;49;00m\u001b[33m\"\u001b[39;49;00m)\u001b[37m\u001b[39;49;00m\n",
      "METRICS_PER_CHUNK_DIR  = os.path.join(METRICS_DIR, \u001b[33m\"\u001b[39;49;00m\u001b[33mper_chunk\u001b[39;49;00m\u001b[33m\"\u001b[39;49;00m)\u001b[37m\u001b[39;49;00m\n",
      "\u001b[37m\u001b[39;49;00m\n",
      "\u001b[37m\u001b[39;49;00m\n",
      "\u001b[37m## --------------------- Models directory based on date and time ---------------------------\u001b[39;49;00m\u001b[37m\u001b[39;49;00m\n",
      "MODELS_DIR = \u001b[33mf\u001b[39;49;00m\u001b[33m\"\u001b[39;49;00m\u001b[33m{\u001b[39;49;00mconfig[\u001b[33m'\u001b[39;49;00m\u001b[33mdir_paths\u001b[39;49;00m\u001b[33m'\u001b[39;49;00m][\u001b[33m'\u001b[39;49;00m\u001b[33mdata_prefix\u001b[39;49;00m\u001b[33m'\u001b[39;49;00m]\u001b[33m}\u001b[39;49;00m\u001b[33m/models/\u001b[39;49;00m\u001b[33m{\u001b[39;49;00mformatted_time\u001b[33m}\u001b[39;49;00m\u001b[33m/\u001b[39;49;00m\u001b[33m{\u001b[39;49;00mconfig[\u001b[33m'\u001b[39;49;00m\u001b[33mgeneral\u001b[39;49;00m\u001b[33m'\u001b[39;49;00m][\u001b[33m'\u001b[39;49;00m\u001b[33mname\u001b[39;49;00m\u001b[33m'\u001b[39;49;00m]\u001b[33m}\u001b[39;49;00m\u001b[33m\"\u001b[39;49;00m\u001b[37m\u001b[39;49;00m\n",
      "\u001b[37m\u001b[39;49;00m\n",
      "\u001b[37m## Use this to upload to the s3 bucket (extracted from the config file)\u001b[39;49;00m\u001b[37m\u001b[39;49;00m\n",
      "BUCKET_NAME = config[\u001b[33m'\u001b[39;49;00m\u001b[33maws\u001b[39;49;00m\u001b[33m'\u001b[39;49;00m][\u001b[33m'\u001b[39;49;00m\u001b[33mbucket\u001b[39;49;00m\u001b[33m'\u001b[39;49;00m]\u001b[37m\u001b[39;49;00m\n",
      "\u001b[37m\u001b[39;49;00m\n",
      "\u001b[37m## S3 prefix\u001b[39;49;00m\u001b[37m\u001b[39;49;00m\n",
      "PREFIX_NAME = config[\u001b[33m'\u001b[39;49;00m\u001b[33mdir_paths\u001b[39;49;00m\u001b[33m'\u001b[39;49;00m][\u001b[33m'\u001b[39;49;00m\u001b[33mdata_prefix\u001b[39;49;00m\u001b[33m'\u001b[39;49;00m]\u001b[37m\u001b[39;49;00m\n",
      "\u001b[37m\u001b[39;49;00m\n",
      "\u001b[37m## SOURCE data is where your actual data resides in s3\u001b[39;49;00m\u001b[37m\u001b[39;49;00m\n",
      "SOURCE_DATA = config[\u001b[33m'\u001b[39;49;00m\u001b[33mdir_paths\u001b[39;49;00m\u001b[33m'\u001b[39;49;00m][\u001b[33m'\u001b[39;49;00m\u001b[33msource_data_prefix\u001b[39;49;00m\u001b[33m'\u001b[39;49;00m]\u001b[37m\u001b[39;49;00m\n",
      "\u001b[37m\u001b[39;49;00m\n",
      "\u001b[37m## Read the prompt template that the user uploads\u001b[39;49;00m\u001b[37m\u001b[39;49;00m\n",
      "PROMPT_TEMPLATE_S3_PREFIX = config[\u001b[33m'\u001b[39;49;00m\u001b[33mdir_paths\u001b[39;49;00m\u001b[33m'\u001b[39;49;00m][\u001b[33m'\u001b[39;49;00m\u001b[33mprompt_template_dir\u001b[39;49;00m\u001b[33m'\u001b[39;49;00m]\u001b[37m\u001b[39;49;00m\n",
      "\u001b[37m\u001b[39;49;00m\n",
      "\u001b[37m## Initialize the scripts directory\u001b[39;49;00m\u001b[37m\u001b[39;49;00m\n",
      "SCRIPTS_DIR: \u001b[36mstr\u001b[39;49;00m = \u001b[33m\"\u001b[39;49;00m\u001b[33mscripts\u001b[39;49;00m\u001b[33m\"\u001b[39;49;00m\u001b[37m\u001b[39;49;00m\n",
      "\u001b[37m\u001b[39;49;00m\n",
      "DIR_LIST = [DATA_DIR, PROMPTS_DIR, METRICS_DIR, MODELS_DIR, METRICS_PER_INFERENCE_DIR, METRICS_PER_CHUNK_DIR]\u001b[37m\u001b[39;49;00m\n",
      "\u001b[37m\u001b[39;49;00m\n",
      "\u001b[37m## this is for custom tokenizers\u001b[39;49;00m\u001b[37m\u001b[39;49;00m\n",
      "TOKENIZER_DIR_S3 = config[\u001b[33m'\u001b[39;49;00m\u001b[33mdir_paths\u001b[39;49;00m\u001b[33m'\u001b[39;49;00m][\u001b[33m'\u001b[39;49;00m\u001b[33mtokenizer_prefix\u001b[39;49;00m\u001b[33m'\u001b[39;49;00m]\u001b[37m\u001b[39;49;00m\n",
      "TOKENIZER = \u001b[33m'\u001b[39;49;00m\u001b[33mtokenizer\u001b[39;49;00m\u001b[33m'\u001b[39;49;00m\u001b[37m\u001b[39;49;00m\n",
      "\u001b[37m\u001b[39;49;00m\n",
      "DEPLOYMENT_SCRIPT_S3 = config[\u001b[33m'\u001b[39;49;00m\u001b[33mdir_paths\u001b[39;49;00m\u001b[33m'\u001b[39;49;00m][\u001b[33m'\u001b[39;49;00m\u001b[33mscripts_prefix\u001b[39;49;00m\u001b[33m'\u001b[39;49;00m]\u001b[37m\u001b[39;49;00m\n",
      "\u001b[37m\u001b[39;49;00m\n",
      "_ = \u001b[36mlist\u001b[39;49;00m(\u001b[36mmap\u001b[39;49;00m(\u001b[34mlambda\u001b[39;49;00m x: os.makedirs(x, exist_ok=\u001b[34mTrue\u001b[39;49;00m), DIR_LIST))\u001b[37m\u001b[39;49;00m\n",
      "\u001b[37m\u001b[39;49;00m\n",
      "ENDPOINT_LIST_FPATH:\u001b[36mstr\u001b[39;49;00m = os.path.join(MODELS_DIR, \u001b[33m\"\u001b[39;49;00m\u001b[33mendpoints.json\u001b[39;49;00m\u001b[33m\"\u001b[39;49;00m)\u001b[37m\u001b[39;49;00m\n",
      "REQUEST_PAYLOAD_FPATH:\u001b[36mstr\u001b[39;49;00m = os.path.join(PROMPTS_DIR, \u001b[33m\"\u001b[39;49;00m\u001b[33mpayload.jsonl\u001b[39;49;00m\u001b[33m\"\u001b[39;49;00m)\u001b[37m\u001b[39;49;00m\n",
      "RESULTS_FPATH:\u001b[36mstr\u001b[39;49;00m = os.path.join(METRICS_DIR, \u001b[33m\"\u001b[39;49;00m\u001b[33mresults.csv\u001b[39;49;00m\u001b[33m\"\u001b[39;49;00m)\u001b[37m\u001b[39;49;00m\n",
      "\u001b[34mclass\u001b[39;49;00m \u001b[04m\u001b[32mTRUNCATE_POLICY\u001b[39;49;00m(\u001b[36mstr\u001b[39;49;00m, Enum):\u001b[37m\u001b[39;49;00m\n",
      "    AT_PROMPT_TOKEN_LENGTH = \u001b[33m'\u001b[39;49;00m\u001b[33mat-prompt-token-length\u001b[39;49;00m\u001b[33m'\u001b[39;49;00m\u001b[37m\u001b[39;49;00m\n",
      "\u001b[37m\u001b[39;49;00m\n",
      "\u001b[37m# misc. metrics related\u001b[39;49;00m\u001b[37m\u001b[39;49;00m\n",
      "PLACE_HOLDER: \u001b[36mint\u001b[39;49;00m = -\u001b[34m1705338041\u001b[39;49;00m\u001b[37m\u001b[39;49;00m\n",
      "\u001b[37m\u001b[39;49;00m\n",
      "\u001b[37m# metric filenames\u001b[39;49;00m\u001b[37m\u001b[39;49;00m\n",
      "COUNTS_FNAME: \u001b[36mstr\u001b[39;49;00m = \u001b[33m\"\u001b[39;49;00m\u001b[33mexperiment_counts.csv\u001b[39;49;00m\u001b[33m\"\u001b[39;49;00m\u001b[37m\u001b[39;49;00m\n",
      "ERROR_RATES_FNAME: \u001b[36mstr\u001b[39;49;00m = \u001b[33m\"\u001b[39;49;00m\u001b[33merror_rates.csv\u001b[39;49;00m\u001b[33m\"\u001b[39;49;00m\u001b[37m\u001b[39;49;00m\n",
      "RESULTS_DESC_MD_FNAME: \u001b[36mstr\u001b[39;49;00m = \u001b[33m\"\u001b[39;49;00m\u001b[33mresults.md\u001b[39;49;00m\u001b[33m\"\u001b[39;49;00m\u001b[37m\u001b[39;49;00m\n",
      "SUMMARY_METRICS_W_PRICING_FNAME: \u001b[36mstr\u001b[39;49;00m = \u001b[33m\"\u001b[39;49;00m\u001b[33msummary_metrics_w_pricing.csv\u001b[39;49;00m\u001b[33m\"\u001b[39;49;00m\u001b[37m\u001b[39;49;00m\n",
      "INSTANCE_PRICING_PER_HOUR_FNAME: \u001b[36mstr\u001b[39;49;00m = \u001b[33m\"\u001b[39;49;00m\u001b[33minstance_pricing_per_hour.csv\u001b[39;49;00m\u001b[33m\"\u001b[39;49;00m\u001b[37m\u001b[39;49;00m\n",
      "SUMMARY_METRICS_FOR_DATASET_W_SCORES_FNAME: \u001b[36mstr\u001b[39;49;00m = \u001b[33m\"\u001b[39;49;00m\u001b[33msummary_metrics_for_dataset_w_scores.csv\u001b[39;49;00m\u001b[33m\"\u001b[39;49;00m\u001b[37m\u001b[39;49;00m\n",
      "SUMMARY_METRICS_FOR_DATASET_W_SCORES_BEST_OPTION_FNAME: \u001b[36mstr\u001b[39;49;00m = \u001b[33m\"\u001b[39;49;00m\u001b[33msummary_metrics_for_dataset_best_option.csv\u001b[39;49;00m\u001b[33m\"\u001b[39;49;00m\u001b[37m\u001b[39;49;00m\n",
      "SUMMARY_METRICS_FOR_DATASET_W_SCORES_BEST_OPTION_EACH_INSTANCE_TYPE_FNAME: \u001b[36mstr\u001b[39;49;00m = \u001b[33m\"\u001b[39;49;00m\u001b[33msummary_metrics_for_dataset_best_option_each_instance_type.csv\u001b[39;49;00m\u001b[33m\"\u001b[39;49;00m\u001b[37m\u001b[39;49;00m\n",
      "BUSINESS_SUMMARY_PLOT_FNAME: \u001b[36mstr\u001b[39;49;00m = \u001b[33m\"\u001b[39;49;00m\u001b[33mbusiness_summary.png\u001b[39;49;00m\u001b[33m\"\u001b[39;49;00m\u001b[37m\u001b[39;49;00m\n",
      "\u001b[37m\u001b[39;49;00m\n",
      "\u001b[37m# plot filenames\u001b[39;49;00m\u001b[37m\u001b[39;49;00m\n",
      "ERROR_RATES_PLOT_TEXT: \u001b[36mstr\u001b[39;49;00m = \u001b[33m\"\u001b[39;49;00m\u001b[33mError rates for different concurrency levels and instance types\u001b[39;49;00m\u001b[33m\"\u001b[39;49;00m\u001b[37m\u001b[39;49;00m\n",
      "ERROR_RATES_PLOT_FNAME: \u001b[36mstr\u001b[39;49;00m = \u001b[33m\"\u001b[39;49;00m\u001b[33merror_rates.png\u001b[39;49;00m\u001b[33m\"\u001b[39;49;00m\u001b[37m\u001b[39;49;00m\n",
      "TOKENS_VS_LATENCY_PLOT_TEXT: \u001b[36mstr\u001b[39;49;00m = \u001b[33m\"\u001b[39;49;00m\u001b[33mTokens vs latency for different concurrency levels and instance types\u001b[39;49;00m\u001b[33m\"\u001b[39;49;00m\u001b[37m\u001b[39;49;00m\n",
      "TOKENS_VS_LATENCY_PLOT_FNAME: \u001b[36mstr\u001b[39;49;00m = \u001b[33m\"\u001b[39;49;00m\u001b[33mtokens_vs_latency.png\u001b[39;49;00m\u001b[33m\"\u001b[39;49;00m\u001b[37m\u001b[39;49;00m\n",
      "CONCURRENCY_VS_INFERENCE_LATENCY_PLOT_FNAME: \u001b[36mstr\u001b[39;49;00m = \u001b[33m\"\u001b[39;49;00m\u001b[33mconcurrency_vs_inference_latency.png\u001b[39;49;00m\u001b[33m\"\u001b[39;49;00m\u001b[37m\u001b[39;49;00m\n",
      "CONCURRENCY_VS_INFERENCE_LATENCY_PLOT_TEXT: \u001b[36mstr\u001b[39;49;00m = \u001b[33m\"\u001b[39;49;00m\u001b[33mConcurrency Vs latency for different instance type for selected dataset\u001b[39;49;00m\u001b[33m\"\u001b[39;49;00m\u001b[37m\u001b[39;49;00m\n",
      "\u001b[37m\u001b[39;49;00m\n",
      "\u001b[37m\u001b[39;49;00m\n",
      "LATENCY_BUDGET: \u001b[36mint\u001b[39;49;00m = \u001b[34m20\u001b[39;49;00m\u001b[37m\u001b[39;49;00m\n",
      "\u001b[37m\u001b[39;49;00m\n",
      "OVERALL_RESULTS_MD: \u001b[36mstr\u001b[39;49;00m = \u001b[33m\"\"\"\u001b[39;49;00m\u001b[33m\u001b[39;49;00m\n",
      "\u001b[33m# Results for performance benchmarking\u001b[39;49;00m\u001b[33m\u001b[39;49;00m\n",
      "\u001b[33m\u001b[39;49;00m\n",
      "\u001b[33m**Last modified (UTC): \u001b[39;49;00m\u001b[33m{dttm}\u001b[39;49;00m\u001b[33m**\u001b[39;49;00m\u001b[33m\u001b[39;49;00m\n",
      "\u001b[33m\u001b[39;49;00m\n",
      "\u001b[33m## Summary\u001b[39;49;00m\u001b[33m\u001b[39;49;00m\n",
      "\u001b[33m\u001b[39;49;00m\n",
      "\u001b[33m{business_summary}\u001b[39;49;00m\u001b[33m\u001b[39;49;00m\n",
      "\u001b[33m\u001b[39;49;00m\n",
      "\u001b[33m## Per instance results\u001b[39;49;00m\u001b[33m\u001b[39;49;00m\n",
      "\u001b[33m\u001b[39;49;00m\n",
      "\u001b[33mThe following table provides the best combinations for running inference for different sizes prompts on different instance types.\u001b[39;49;00m\u001b[33m\u001b[39;49;00m\n",
      "\u001b[33m|Dataset   | Instance type   | Recommendation   |\u001b[39;49;00m\u001b[33m\u001b[39;49;00m\n",
      "\u001b[33m|---|---|---|\u001b[39;49;00m\u001b[33m\u001b[39;49;00m\n",
      "\u001b[33m\"\"\"\u001b[39;49;00m\u001b[37m\u001b[39;49;00m\n",
      "\u001b[37m\u001b[39;49;00m\n",
      "\u001b[37m## Dataset=`{dataset}`, instance_type=`{instance_type}`\u001b[39;49;00m\u001b[37m\u001b[39;49;00m\n",
      "RESULT_DESC: \u001b[36mstr\u001b[39;49;00m = \u001b[33m\"\"\"\u001b[39;49;00m\u001b[33mThe best option for staying within a latency budget of `\u001b[39;49;00m\u001b[33m{latency_budget}\u001b[39;49;00m\u001b[33m seconds` on a `\u001b[39;49;00m\u001b[33m{instance_type}\u001b[39;49;00m\u001b[33m` for the `\u001b[39;49;00m\u001b[33m{dataset}\u001b[39;49;00m\u001b[33m` dataset is a `concurrency level of \u001b[39;49;00m\u001b[33m{concurrency}\u001b[39;49;00m\u001b[33m`. A concurrency level of \u001b[39;49;00m\u001b[33m{concurrency}\u001b[39;49;00m\u001b[33m achieves an `average latency of \u001b[39;49;00m\u001b[33m{latency_mean}\u001b[39;49;00m\u001b[33m seconds`, for an `average prompt size of \u001b[39;49;00m\u001b[33m{prompt_size}\u001b[39;49;00m\u001b[33m tokens` and `completion size of \u001b[39;49;00m\u001b[33m{completion_size}\u001b[39;49;00m\u001b[33m tokens` with `\u001b[39;49;00m\u001b[33m{tpm}\u001b[39;49;00m\u001b[33m transactions/minute`.\u001b[39;49;00m\u001b[33m\"\"\"\u001b[39;49;00m\u001b[37m\u001b[39;49;00m\n",
      "\u001b[37m\u001b[39;49;00m\n",
      "RESULT_ROW: \u001b[36mstr\u001b[39;49;00m = \u001b[33m\"\u001b[39;49;00m\u001b[33m|`\u001b[39;49;00m\u001b[33m{dataset}\u001b[39;49;00m\u001b[33m`|`\u001b[39;49;00m\u001b[33m{instance_type}\u001b[39;49;00m\u001b[33m`|\u001b[39;49;00m\u001b[33m{desc}\u001b[39;49;00m\u001b[33m|\u001b[39;49;00m\u001b[33m\"\u001b[39;49;00m\u001b[37m\u001b[39;49;00m\n",
      "\u001b[37m\u001b[39;49;00m\n",
      "RESULT_FAILURE_DESC: \u001b[36mstr\u001b[39;49;00m = \u001b[33m\"\"\"\u001b[39;49;00m\u001b[33mThis experiment did not find any combination of concurrency level and other configuration settings that could provide a response within a latency budget of `\u001b[39;49;00m\u001b[33m{latency_budget}\u001b[39;49;00m\u001b[33m seconds` on a `\u001b[39;49;00m\u001b[33m{instance_type}\u001b[39;49;00m\u001b[33m` for the `\u001b[39;49;00m\u001b[33m{dataset}\u001b[39;49;00m\u001b[33m` dataset.\u001b[39;49;00m\u001b[33m\"\"\"\u001b[39;49;00m\u001b[37m\u001b[39;49;00m\n"
     ]
    }
   ],
   "source": [
    "# global constants\n",
    "!pygmentize globals.py"
   ]
  },
  {
   "cell_type": "code",
   "execution_count": 5,
   "metadata": {},
   "outputs": [],
   "source": [
    "logging.basicConfig(format='[%(asctime)s] p%(process)s {%(filename)s:%(lineno)d} %(levelname)s - %(message)s', level=logging.INFO)\n",
    "logger = logging.getLogger(__name__)"
   ]
  },
  {
   "cell_type": "markdown",
   "metadata": {},
   "source": [
    "Load the Config.yml file contains information that is used across this benchmarking environment, such as information about the aws account, prompts, payloads to be used for invocations"
   ]
  },
  {
   "cell_type": "code",
   "execution_count": 6,
   "metadata": {},
   "outputs": [
    {
     "name": "stderr",
     "output_type": "stream",
     "text": [
      "[2024-01-30 10:54:09,343] p22335 {635462509.py:2} INFO - {\n",
      "  \"general\": {\n",
      "    \"name\": \"mistral-7b-tgi-g5-v1\",\n",
      "    \"model_name\": \"mistral7b\"\n",
      "  },\n",
      "  \"aws\": {\n",
      "    \"region\": \"us-east-1\",\n",
      "    \"sagemaker_execution_role\": \"arn:aws:iam::015469603702:role/service-role/AmazonSageMaker-ExecutionRole-20220504T122644\",\n",
      "    \"bucket\": \"fmbttest\"\n",
      "  },\n",
      "  \"dir_paths\": {\n",
      "    \"data_prefix\": \"data\",\n",
      "    \"source_data_prefix\": \"source_data\",\n",
      "    \"prompt_template_dir\": \"prompt_template\",\n",
      "    \"prompt_template_file\": \"prompt_template.txt\",\n",
      "    \"tokenizer_prefix\": \"tokenizer\",\n",
      "    \"scripts_prefix\": \"scripts\",\n",
      "    \"prompts_prefix\": \"prompts\",\n",
      "    \"all_prompts_file\": \"all_prompts.csv\",\n",
      "    \"metrics_dir\": \"metrics_{datetime}\",\n",
      "    \"models_dir\": \"models_{datetime}\"\n",
      "  },\n",
      "  \"datasets\": [\n",
      "    {\n",
      "      \"language\": \"en\",\n",
      "      \"min_length_in_tokens\": 1,\n",
      "      \"max_length_in_tokens\": 500,\n",
      "      \"payload_file\": \"payload_{lang}_{min}-{max}.jsonl\"\n",
      "    },\n",
      "    {\n",
      "      \"language\": \"en\",\n",
      "      \"min_length_in_tokens\": 500,\n",
      "      \"max_length_in_tokens\": 1000,\n",
      "      \"payload_file\": \"payload_{lang}_{min}-{max}.jsonl\"\n",
      "    },\n",
      "    {\n",
      "      \"language\": \"en\",\n",
      "      \"min_length_in_tokens\": 1000,\n",
      "      \"max_length_in_tokens\": 2000,\n",
      "      \"payload_file\": \"payload_{lang}_{min}-{max}.jsonl\"\n",
      "    },\n",
      "    {\n",
      "      \"language\": \"en\",\n",
      "      \"min_length_in_tokens\": 2000,\n",
      "      \"max_length_in_tokens\": 3000,\n",
      "      \"payload_file\": \"payload_{lang}_{min}-{max}.jsonl\"\n",
      "    },\n",
      "    {\n",
      "      \"language\": \"en\",\n",
      "      \"min_length_in_tokens\": 3000,\n",
      "      \"max_length_in_tokens\": 4000,\n",
      "      \"payload_file\": \"payload_{lang}_{min}-{max}.jsonl\"\n",
      "    },\n",
      "    {\n",
      "      \"language\": \"en\",\n",
      "      \"min_length_in_tokens\": 305,\n",
      "      \"max_length_in_tokens\": 3997,\n",
      "      \"payload_file\": \"payload_{lang}_{min}-{max}.jsonl\"\n",
      "    }\n",
      "  ],\n",
      "  \"metrics\": {\n",
      "    \"dataset_of_interest\": \"en_1-500\",\n",
      "    \"weights\": {\n",
      "      \"price_per_tx_wt\": 0.65,\n",
      "      \"latenct_wt\": 0.35\n",
      "    }\n",
      "  },\n",
      "  \"pricing\": {\n",
      "    \"ml.g5.2xlarge\": 1.515,\n",
      "    \"ml.g5.12xlarge\": 7.09,\n",
      "    \"ml.g5.24xlarge\": 10.18,\n",
      "    \"ml.g5.48xlarge\": 20.36,\n",
      "    \"ml.inf2.24xlarge\": 7.79,\n",
      "    \"ml.inf2.48xlarge\": 15.58,\n",
      "    \"ml.p4d.24xlarge\": 37.688\n",
      "  },\n",
      "  \"inference_parameters\": {\n",
      "    \"do_sample\": true,\n",
      "    \"temperature\": 0.1,\n",
      "    \"top_p\": 0.92,\n",
      "    \"top_k\": 120,\n",
      "    \"max_new_tokens\": 100,\n",
      "    \"truncate\": \"at-prompt-token-length\"\n",
      "  },\n",
      "  \"experiments\": [\n",
      "    {\n",
      "      \"name\": \"mistral-7b-g5-huggingface-pytorch-tgi-inference-2.0.1-tgi1.1.0\",\n",
      "      \"model_id\": \"huggingface-llm-mistral-7b\",\n",
      "      \"model_version\": \"*\",\n",
      "      \"model_name\": \"mistral7b\",\n",
      "      \"ep_name\": \"lmistral7b-g5-2xlarge\",\n",
      "      \"instance_type\": \"ml.g5.2xlarge\",\n",
      "      \"image_uri\": \"763104351884.dkr.ecr.us-east-1.amazonaws.com/huggingface-pytorch-tgi-inference:2.0.1-tgi1.1.0-gpu-py39-cu118-ubuntu20.04\",\n",
      "      \"deploy\": true,\n",
      "      \"instance_count\": 1,\n",
      "      \"deployment_script\": \"jumpstart.py\",\n",
      "      \"payload_files\": [\n",
      "        \"payload_en_1-500.jsonl\"\n",
      "      ],\n",
      "      \"concurrency_levels\": [\n",
      "        1,\n",
      "        2\n",
      "      ],\n",
      "      \"accept_eula\": true,\n",
      "      \"env\": {\n",
      "        \"SAGEMAKER_PROGRAM\": \"inference.py\",\n",
      "        \"ENDPOINT_SERVER_TIMEOUT\": \"3600\",\n",
      "        \"MODEL_CACHE_ROOT\": \"/opt/ml/model\",\n",
      "        \"SAGEMAKER_ENV\": \"1\",\n",
      "        \"HF_MODEL_ID\": \"/opt/ml/model\",\n",
      "        \"MAX_INPUT_LENGTH\": \"8191\",\n",
      "        \"MAX_TOTAL_TOKENS\": \"8192\",\n",
      "        \"MAX_BATCH_PREFILL_TOKENS\": \"8191\",\n",
      "        \"SM_NUM_GPUS\": \"1\",\n",
      "        \"SAGEMAKER_MODEL_SERVER_WORKERS\": \"1\"\n",
      "      }\n",
      "    }\n",
      "  ],\n",
      "  \"results\": {\n",
      "    \"per_inference_request_file\": \"per_inference_request_results.csv\",\n",
      "    \"all_metrics_file\": \"all_metrics.csv\"\n",
      "  }\n",
      "}\n"
     ]
    }
   ],
   "source": [
    "config = load_config(CONFIG_FILE)\n",
    "logger.info(json.dumps(config, indent=2))"
   ]
  },
  {
   "cell_type": "code",
   "execution_count": 7,
   "metadata": {
    "tags": []
   },
   "outputs": [
    {
     "name": "stderr",
     "output_type": "stream",
     "text": [
      "[2024-01-30 10:54:09,349] p22335 {144294996.py:3} INFO - CONFIG_FILE=configs/config-mistral-7b-tgi-g5.yml\n",
      "[2024-01-30 10:54:09,350] p22335 {144294996.py:5} INFO - saving a copy of the config in data/metrics/2024/01/30/10/54/mistral-7b-tgi-g5-v1/config-mistral-7b-tgi-g5.yml\n"
     ]
    }
   ],
   "source": [
    "# make a local copy of the config in the metrics dir so that the results markdown has easy access and we can \n",
    "# have a complete results package with the config AND the results\n",
    "logger.info(f\"CONFIG_FILE={CONFIG_FILE}\")\n",
    "local_config_copy = os.path.join(METRICS_DIR, os.path.basename(CONFIG_FILE))\n",
    "logger.info(f\"saving a copy of the config in {local_config_copy}\")\n",
    "with open(local_config_copy, 'w') as yaml_file:\n",
    "    yaml.dump(config, yaml_file)\n"
   ]
  },
  {
   "cell_type": "code",
   "execution_count": 8,
   "metadata": {},
   "outputs": [
    {
     "name": "stderr",
     "output_type": "stream",
     "text": [
      "[2024-01-30 10:54:09,360] p22335 {1189391484.py:3} INFO - s3 path for results to interact with --> data/metrics/2024/01/30/10/53/mistral-7b-tgi-g5-v1\n"
     ]
    },
    {
     "data": {
      "text/plain": [
       "'data/metrics/2024/01/30/10/53/mistral-7b-tgi-g5-v1'"
      ]
     },
     "execution_count": 8,
     "metadata": {},
     "output_type": "execute_result"
    }
   ],
   "source": [
    "with open('results_path.txt', 'r') as file:\n",
    "    results_s3_path = file.read().strip()\n",
    "    logger.info(f's3 path for results to interact with --> {results_s3_path}')\n",
    "\n",
    "METRICS_DIR = results_s3_path\n",
    "\n",
    "METRICS_DIR"
   ]
  },
  {
   "cell_type": "code",
   "execution_count": 9,
   "metadata": {},
   "outputs": [
    {
     "name": "stderr",
     "output_type": "stream",
     "text": [
      "[2024-01-30 10:54:09,371] p22335 {4158383853.py:2} INFO - File path containing the metrics per inference folder --> data/metrics/2024/01/30/10/53/mistral-7b-tgi-g5-v1/per_inference_request_results.csv\n",
      "[2024-01-30 10:54:09,617] p22335 {4158383853.py:10} INFO - data/metrics/2024/01/30/10/53/mistral-7b-tgi-g5-v1/per_inference_request_results.csv read into dataframe of shape (3, 29)\n"
     ]
    },
    {
     "data": {
      "text/html": [
       "<div>\n",
       "<style scoped>\n",
       "    .dataframe tbody tr th:only-of-type {\n",
       "        vertical-align: middle;\n",
       "    }\n",
       "\n",
       "    .dataframe tbody tr th {\n",
       "        vertical-align: top;\n",
       "    }\n",
       "\n",
       "    .dataframe thead th {\n",
       "        text-align: right;\n",
       "    }\n",
       "</style>\n",
       "<table border=\"1\" class=\"dataframe\">\n",
       "  <thead>\n",
       "    <tr style=\"text-align: right;\">\n",
       "      <th></th>\n",
       "      <th>endpoint_name</th>\n",
       "      <th>prompt</th>\n",
       "      <th>do_sample</th>\n",
       "      <th>temperature</th>\n",
       "      <th>top_p</th>\n",
       "      <th>top_k</th>\n",
       "      <th>max_new_tokens</th>\n",
       "      <th>truncate</th>\n",
       "      <th>completion</th>\n",
       "      <th>prompt_tokens</th>\n",
       "      <th>...</th>\n",
       "      <th>ENDPOINT_SERVER_TIMEOUT</th>\n",
       "      <th>HF_MODEL_ID</th>\n",
       "      <th>MAX_BATCH_PREFILL_TOKENS</th>\n",
       "      <th>MAX_INPUT_LENGTH</th>\n",
       "      <th>MAX_TOTAL_TOKENS</th>\n",
       "      <th>MODEL_CACHE_ROOT</th>\n",
       "      <th>SAGEMAKER_ENV</th>\n",
       "      <th>SAGEMAKER_MODEL_SERVER_WORKERS</th>\n",
       "      <th>SAGEMAKER_PROGRAM</th>\n",
       "      <th>SM_NUM_GPUS</th>\n",
       "    </tr>\n",
       "  </thead>\n",
       "  <tbody>\n",
       "    <tr>\n",
       "      <th>0</th>\n",
       "      <td>lmistral7b-g5-2xlarge-1706629547</td>\n",
       "      <td>&lt;s&gt;[INST] &lt;&lt;SYS&gt;&gt;\\nYou are an assistant for qu...</td>\n",
       "      <td>True</td>\n",
       "      <td>0.1</td>\n",
       "      <td>0.92</td>\n",
       "      <td>120</td>\n",
       "      <td>100</td>\n",
       "      <td>304</td>\n",
       "      <td>\\n\\n```\\nPassage 1:\\nStauntonia\\nStauntonia is...</td>\n",
       "      <td>304</td>\n",
       "      <td>...</td>\n",
       "      <td>3600</td>\n",
       "      <td>/opt/ml/model</td>\n",
       "      <td>8191</td>\n",
       "      <td>8191</td>\n",
       "      <td>8192</td>\n",
       "      <td>/opt/ml/model</td>\n",
       "      <td>1</td>\n",
       "      <td>1</td>\n",
       "      <td>inference.py</td>\n",
       "      <td>1</td>\n",
       "    </tr>\n",
       "    <tr>\n",
       "      <th>1</th>\n",
       "      <td>lmistral7b-g5-2xlarge-1706629547</td>\n",
       "      <td>&lt;s&gt;[INST] &lt;&lt;SYS&gt;&gt;\\nYou are an assistant for qu...</td>\n",
       "      <td>True</td>\n",
       "      <td>0.1</td>\n",
       "      <td>0.92</td>\n",
       "      <td>120</td>\n",
       "      <td>100</td>\n",
       "      <td>304</td>\n",
       "      <td>\\n\\n```\\nThe genus Sinofranchetia is from the ...</td>\n",
       "      <td>304</td>\n",
       "      <td>...</td>\n",
       "      <td>3600</td>\n",
       "      <td>/opt/ml/model</td>\n",
       "      <td>8191</td>\n",
       "      <td>8191</td>\n",
       "      <td>8192</td>\n",
       "      <td>/opt/ml/model</td>\n",
       "      <td>1</td>\n",
       "      <td>1</td>\n",
       "      <td>inference.py</td>\n",
       "      <td>1</td>\n",
       "    </tr>\n",
       "    <tr>\n",
       "      <th>2</th>\n",
       "      <td>lmistral7b-g5-2xlarge-1706629547</td>\n",
       "      <td>&lt;s&gt;[INST] &lt;&lt;SYS&gt;&gt;\\nYou are an assistant for qu...</td>\n",
       "      <td>True</td>\n",
       "      <td>0.1</td>\n",
       "      <td>0.92</td>\n",
       "      <td>120</td>\n",
       "      <td>100</td>\n",
       "      <td>304</td>\n",
       "      <td>\\n\\n```\\nThe genus Sinofranchetia is from the ...</td>\n",
       "      <td>304</td>\n",
       "      <td>...</td>\n",
       "      <td>3600</td>\n",
       "      <td>/opt/ml/model</td>\n",
       "      <td>8191</td>\n",
       "      <td>8191</td>\n",
       "      <td>8192</td>\n",
       "      <td>/opt/ml/model</td>\n",
       "      <td>1</td>\n",
       "      <td>1</td>\n",
       "      <td>inference.py</td>\n",
       "      <td>1</td>\n",
       "    </tr>\n",
       "  </tbody>\n",
       "</table>\n",
       "<p>3 rows × 29 columns</p>\n",
       "</div>"
      ],
      "text/plain": [
       "                      endpoint_name  \\\n",
       "0  lmistral7b-g5-2xlarge-1706629547   \n",
       "1  lmistral7b-g5-2xlarge-1706629547   \n",
       "2  lmistral7b-g5-2xlarge-1706629547   \n",
       "\n",
       "                                              prompt  do_sample  temperature  \\\n",
       "0  <s>[INST] <<SYS>>\\nYou are an assistant for qu...       True          0.1   \n",
       "1  <s>[INST] <<SYS>>\\nYou are an assistant for qu...       True          0.1   \n",
       "2  <s>[INST] <<SYS>>\\nYou are an assistant for qu...       True          0.1   \n",
       "\n",
       "   top_p  top_k  max_new_tokens  truncate  \\\n",
       "0   0.92    120             100       304   \n",
       "1   0.92    120             100       304   \n",
       "2   0.92    120             100       304   \n",
       "\n",
       "                                          completion  prompt_tokens  ...  \\\n",
       "0  \\n\\n```\\nPassage 1:\\nStauntonia\\nStauntonia is...            304  ...   \n",
       "1  \\n\\n```\\nThe genus Sinofranchetia is from the ...            304  ...   \n",
       "2  \\n\\n```\\nThe genus Sinofranchetia is from the ...            304  ...   \n",
       "\n",
       "   ENDPOINT_SERVER_TIMEOUT    HF_MODEL_ID MAX_BATCH_PREFILL_TOKENS  \\\n",
       "0                     3600  /opt/ml/model                     8191   \n",
       "1                     3600  /opt/ml/model                     8191   \n",
       "2                     3600  /opt/ml/model                     8191   \n",
       "\n",
       "   MAX_INPUT_LENGTH MAX_TOTAL_TOKENS MODEL_CACHE_ROOT SAGEMAKER_ENV  \\\n",
       "0              8191             8192    /opt/ml/model             1   \n",
       "1              8191             8192    /opt/ml/model             1   \n",
       "2              8191             8192    /opt/ml/model             1   \n",
       "\n",
       "  SAGEMAKER_MODEL_SERVER_WORKERS SAGEMAKER_PROGRAM  SM_NUM_GPUS  \n",
       "0                              1      inference.py            1  \n",
       "1                              1      inference.py            1  \n",
       "2                              1      inference.py            1  \n",
       "\n",
       "[3 rows x 29 columns]"
      ]
     },
     "execution_count": 9,
     "metadata": {},
     "output_type": "execute_result"
    }
   ],
   "source": [
    "file_path = os.path.join(METRICS_DIR, config[\"results\"][\"per_inference_request_file\"])\n",
    "logger.info(f\"File path containing the metrics per inference folder --> {file_path}\")\n",
    "\n",
    "# Read the file from S3\n",
    "try:\n",
    "    response = s3_client.get_object(Bucket=config['aws']['bucket'], Key=file_path)\n",
    "    file_content = response['Body'].read().decode('utf-8')\n",
    "    # Use pandas to read the CSV content\n",
    "    df_per_inference = pd.read_csv(io.StringIO(file_content))\n",
    "    logger.info(f\"{file_path} read into dataframe of shape {df_per_inference.shape}\")\n",
    "    df_per_inference.head()\n",
    "except Exception as e:\n",
    "    logger.error(f\"Error reading from S3: {e}\")\n",
    "\n",
    "df_per_inference.head()"
   ]
  },
  {
   "cell_type": "markdown",
   "metadata": {},
   "source": [
    "### Relationship between prompt token length and inference latency for different instances and concurrency levels"
   ]
  },
  {
   "cell_type": "code",
   "execution_count": 10,
   "metadata": {},
   "outputs": [
    {
     "name": "stderr",
     "output_type": "stream",
     "text": [
      "[2024-01-30 10:54:10,476] p22335 {2626749833.py:35} INFO - Plot saved to s3://fmbttest/data/metrics/2024/01/30/10/53/mistral-7b-tgi-g5-v1/tokens_vs_latency.png\n"
     ]
    },
    {
     "data": {
      "text/plain": [
       "<seaborn.axisgrid.FacetGrid at 0x291ef85d0>"
      ]
     },
     "execution_count": 10,
     "metadata": {},
     "output_type": "execute_result"
    },
    {
     "data": {
      "image/png": "[encoded data removed]",
      "text/plain": [
       "<Figure size 437.5x700 with 2 Axes>"
      ]
     },
     "metadata": {},
     "output_type": "display_data"
    }
   ],
   "source": [
    "# Rename a column in the dataframe for clarity of the instance parameter of the model used\n",
    "df_per_inference = df_per_inference.rename(columns={\"instance_type\": \"instance\"})\n",
    "\n",
    "\n",
    "# This created a FacetGrid for plotting multiple scatter plots based on 'instance' and 'concurrency' categories\n",
    "g = sns.FacetGrid(df_per_inference, col=\"instance\", row=\"concurrency\", hue=\"instance\", height=3.5, aspect=1.25)\n",
    "\n",
    "## Subtitle of the facetgrid\n",
    "g.fig.suptitle(\"Effect of token length on inference latency\")\n",
    "\n",
    "# # This will map a scatterplot to the FacetGrid for each subset of the data\n",
    "sns_plot = g.map(sns.scatterplot, \"prompt_tokens\", \"latency\")\n",
    "\n",
    "# Set the y-axis label for all plots\n",
    "g = g.set_ylabels(\"Latency (seconds)\")\n",
    "\n",
    "# Y-axis ticks based on the maximum latency value and setting them in that manner\n",
    "yticks: List = list(range(0, (int(df_per_inference.latency.max())//10+2)*10, 5))\n",
    "g = g.set(yticks=yticks)\n",
    "\n",
    "# Set the x-axis label for all plots as the prompt length or tokens\n",
    "g = g.set_xlabels(\"Prompt length (tokens)\")\n",
    "\n",
    "# Create a bytes buffer to save the plot\n",
    "buffer = io.BytesIO()\n",
    "sns_plot.savefig(buffer, format='png')\n",
    "buffer.seek(0)  # Rewind buffer to the beginning\n",
    "\n",
    "# Specify the S3 path and file name for the plot\n",
    "plot_file_name = TOKENS_VS_LATENCY_PLOT_FNAME\n",
    "plot_s3_path = os.path.join(METRICS_DIR, plot_file_name)\n",
    "\n",
    "# Write the plot to S3\n",
    "write_to_s3(buffer.getvalue(), BUCKET_NAME, \"\", METRICS_DIR, plot_file_name)\n",
    "logger.info(f\"Plot saved to s3://{BUCKET_NAME}/{plot_s3_path}\")\n",
    "\n",
    "# Optionally, display the plot\n",
    "sns_plot"
   ]
  },
  {
   "cell_type": "markdown",
   "metadata": {},
   "source": [
    "#### Define the all metrics file path and read it to generate visualizations"
   ]
  },
  {
   "cell_type": "code",
   "execution_count": 11,
   "metadata": {},
   "outputs": [
    {
     "name": "stderr",
     "output_type": "stream",
     "text": [
      "[2024-01-30 10:54:10,650] p22335 {2213641313.py:16} INFO - data/metrics/2024/01/30/10/53/mistral-7b-tgi-g5-v1/all_metrics.csv read into dataframe of shape (2, 31)\n"
     ]
    },
    {
     "data": {
      "text/html": [
       "<div>\n",
       "<style scoped>\n",
       "    .dataframe tbody tr th:only-of-type {\n",
       "        vertical-align: middle;\n",
       "    }\n",
       "\n",
       "    .dataframe tbody tr th {\n",
       "        vertical-align: top;\n",
       "    }\n",
       "\n",
       "    .dataframe thead th {\n",
       "        text-align: right;\n",
       "    }\n",
       "</style>\n",
       "<table border=\"1\" class=\"dataframe\">\n",
       "  <thead>\n",
       "    <tr style=\"text-align: right;\">\n",
       "      <th></th>\n",
       "      <th>experiment_name</th>\n",
       "      <th>concurrency</th>\n",
       "      <th>payload_file</th>\n",
       "      <th>errors</th>\n",
       "      <th>successes</th>\n",
       "      <th>error_rate</th>\n",
       "      <th>all_prompts_token_count</th>\n",
       "      <th>prompt_token_count_mean</th>\n",
       "      <th>prompt_token_throughput</th>\n",
       "      <th>all_completions_token_count</th>\n",
       "      <th>...</th>\n",
       "      <th>ENDPOINT_SERVER_TIMEOUT</th>\n",
       "      <th>HF_MODEL_ID</th>\n",
       "      <th>MAX_BATCH_PREFILL_TOKENS</th>\n",
       "      <th>MAX_INPUT_LENGTH</th>\n",
       "      <th>MAX_TOTAL_TOKENS</th>\n",
       "      <th>MODEL_CACHE_ROOT</th>\n",
       "      <th>SAGEMAKER_ENV</th>\n",
       "      <th>SAGEMAKER_MODEL_SERVER_WORKERS</th>\n",
       "      <th>SAGEMAKER_PROGRAM</th>\n",
       "      <th>SM_NUM_GPUS</th>\n",
       "    </tr>\n",
       "  </thead>\n",
       "  <tbody>\n",
       "    <tr>\n",
       "      <th>0</th>\n",
       "      <td>mistral-7b-g5-huggingface-pytorch-tgi-inferenc...</td>\n",
       "      <td>1</td>\n",
       "      <td>payload_en_1-500.jsonl</td>\n",
       "      <td>[]</td>\n",
       "      <td>1</td>\n",
       "      <td>0.0</td>\n",
       "      <td>304</td>\n",
       "      <td>304.0</td>\n",
       "      <td>79.38</td>\n",
       "      <td>101</td>\n",
       "      <td>...</td>\n",
       "      <td>3600</td>\n",
       "      <td>/opt/ml/model</td>\n",
       "      <td>8191</td>\n",
       "      <td>8191</td>\n",
       "      <td>8192</td>\n",
       "      <td>/opt/ml/model</td>\n",
       "      <td>1</td>\n",
       "      <td>1</td>\n",
       "      <td>inference.py</td>\n",
       "      <td>1</td>\n",
       "    </tr>\n",
       "    <tr>\n",
       "      <th>1</th>\n",
       "      <td>mistral-7b-g5-huggingface-pytorch-tgi-inferenc...</td>\n",
       "      <td>2</td>\n",
       "      <td>payload_en_1-500.jsonl</td>\n",
       "      <td>[]</td>\n",
       "      <td>2</td>\n",
       "      <td>0.0</td>\n",
       "      <td>608</td>\n",
       "      <td>304.0</td>\n",
       "      <td>156.72</td>\n",
       "      <td>197</td>\n",
       "      <td>...</td>\n",
       "      <td>3600</td>\n",
       "      <td>/opt/ml/model</td>\n",
       "      <td>8191</td>\n",
       "      <td>8191</td>\n",
       "      <td>8192</td>\n",
       "      <td>/opt/ml/model</td>\n",
       "      <td>1</td>\n",
       "      <td>1</td>\n",
       "      <td>inference.py</td>\n",
       "      <td>1</td>\n",
       "    </tr>\n",
       "  </tbody>\n",
       "</table>\n",
       "<p>2 rows × 31 columns</p>\n",
       "</div>"
      ],
      "text/plain": [
       "                                     experiment_name  concurrency  \\\n",
       "0  mistral-7b-g5-huggingface-pytorch-tgi-inferenc...            1   \n",
       "1  mistral-7b-g5-huggingface-pytorch-tgi-inferenc...            2   \n",
       "\n",
       "             payload_file errors  successes  error_rate  \\\n",
       "0  payload_en_1-500.jsonl     []          1         0.0   \n",
       "1  payload_en_1-500.jsonl     []          2         0.0   \n",
       "\n",
       "   all_prompts_token_count  prompt_token_count_mean  prompt_token_throughput  \\\n",
       "0                      304                    304.0                    79.38   \n",
       "1                      608                    304.0                   156.72   \n",
       "\n",
       "   all_completions_token_count  ...  ENDPOINT_SERVER_TIMEOUT    HF_MODEL_ID  \\\n",
       "0                          101  ...                     3600  /opt/ml/model   \n",
       "1                          197  ...                     3600  /opt/ml/model   \n",
       "\n",
       "   MAX_BATCH_PREFILL_TOKENS  MAX_INPUT_LENGTH  MAX_TOTAL_TOKENS  \\\n",
       "0                      8191              8191              8192   \n",
       "1                      8191              8191              8192   \n",
       "\n",
       "   MODEL_CACHE_ROOT SAGEMAKER_ENV SAGEMAKER_MODEL_SERVER_WORKERS  \\\n",
       "0     /opt/ml/model             1                              1   \n",
       "1     /opt/ml/model             1                              1   \n",
       "\n",
       "  SAGEMAKER_PROGRAM SM_NUM_GPUS  \n",
       "0      inference.py           1  \n",
       "1      inference.py           1  \n",
       "\n",
       "[2 rows x 31 columns]"
      ]
     },
     "execution_count": 11,
     "metadata": {},
     "output_type": "execute_result"
    }
   ],
   "source": [
    "# all_metrics_fpath: str = os.path.join(METRICS_DIR, config[\"results\"][\"all_metrics_file\"])\n",
    "\n",
    "# df_all_metrics = pd.read_csv(all_metrics_fpath)\n",
    "# logger.info(f\"{all_metrics_fpath} contains {df_all_metrics.shape[0]} results\")\n",
    "# df_all_metrics.head()\n",
    "\n",
    "all_metrics_fpath = os.path.join(METRICS_DIR, config[\"results\"][\"all_metrics_file\"])\n",
    "\n",
    "# Read the file from S3\n",
    "try:\n",
    "    response = s3_client.get_object(Bucket=BUCKET_NAME, Key=all_metrics_fpath)\n",
    "    file_content = response['Body'].read().decode('utf-8')\n",
    "\n",
    "    # Use pandas to read the CSV content\n",
    "    df_all_metrics = pd.read_csv(io.StringIO(file_content))\n",
    "    logger.info(f\"{all_metrics_fpath} read into dataframe of shape {df_all_metrics.shape}\")\n",
    "    df_all_metrics.head()\n",
    "except Exception as e:\n",
    "    logger.error(f\"Error reading from S3: {e}\")\n",
    "\n",
    "df_all_metrics.head()"
   ]
  },
  {
   "cell_type": "code",
   "execution_count": 12,
   "metadata": {},
   "outputs": [
    {
     "data": {
      "text/plain": [
       "Index(['experiment_name', 'concurrency', 'payload_file', 'errors', 'successes',\n",
       "       'error_rate', 'all_prompts_token_count', 'prompt_token_count_mean',\n",
       "       'prompt_token_throughput', 'all_completions_token_count',\n",
       "       'completion_token_count_mean', 'completion_token_throughput',\n",
       "       'transactions', 'transactions_per_second', 'transactions_per_minute',\n",
       "       'latency_mean', 'instance_type', 'EndpointName', 'ModelName', 'Image',\n",
       "       'S3Uri', 'ENDPOINT_SERVER_TIMEOUT', 'HF_MODEL_ID',\n",
       "       'MAX_BATCH_PREFILL_TOKENS', 'MAX_INPUT_LENGTH', 'MAX_TOTAL_TOKENS',\n",
       "       'MODEL_CACHE_ROOT', 'SAGEMAKER_ENV', 'SAGEMAKER_MODEL_SERVER_WORKERS',\n",
       "       'SAGEMAKER_PROGRAM', 'SM_NUM_GPUS'],\n",
       "      dtype='object')"
      ]
     },
     "execution_count": 12,
     "metadata": {},
     "output_type": "execute_result"
    }
   ],
   "source": [
    "## displaying all of the available columns in the all metrics dataframe\n",
    "df_all_metrics.columns"
   ]
  },
  {
   "cell_type": "markdown",
   "metadata": {},
   "source": [
    "#### Display the number of experiment names within the metrics dataframe, instance types and models"
   ]
  },
  {
   "cell_type": "code",
   "execution_count": 13,
   "metadata": {},
   "outputs": [
    {
     "name": "stderr",
     "output_type": "stream",
     "text": [
      "[2024-01-30 10:54:10,719] p22335 {369708136.py:4} INFO - contains information about 1 experiments, 1 instance types, 1 models\n"
     ]
    }
   ],
   "source": [
    "experiments = df_all_metrics.experiment_name.unique()\n",
    "instance_types = df_all_metrics.instance_type.unique()\n",
    "model_names = df_all_metrics.ModelName.unique()\n",
    "logger.info(f\"contains information about {len(experiments)} experiments, {len(instance_types)} instance types, {len(model_names)} models\")"
   ]
  },
  {
   "cell_type": "code",
   "execution_count": 14,
   "metadata": {},
   "outputs": [],
   "source": [
    "## extract some of the columns\n",
    "relevant_cols = ['experiment_name',\n",
    "                   'payload_file',\n",
    "                     'instance_type',\n",
    "                       'concurrency',\n",
    "                         'error_rate',\n",
    "                           'prompt_token_count_mean',\n",
    "                             'prompt_token_throughput',\n",
    "                               'completion_token_count_mean',\n",
    "                                 'completion_token_throughput',\n",
    "                                   'latency_mean',\n",
    "                                     'transactions_per_minute']\n",
    "\n",
    "## initialize a group by columns to use further in generating portions of the dataframe and filtering it\n",
    "group_by_cols = ['experiment_name',\n",
    "                   'payload_file',\n",
    "                     'instance_type',\n",
    "                      'concurrency']\n"
   ]
  },
  {
   "cell_type": "markdown",
   "metadata": {},
   "source": [
    "#### Create an 'experiment_counts.csv' to store metrics on experiment name, the pauloaf file, concurrency and the total counts associated to that given experiment to visualize the distribution"
   ]
  },
  {
   "cell_type": "code",
   "execution_count": 15,
   "metadata": {},
   "outputs": [
    {
     "name": "stderr",
     "output_type": "stream",
     "text": [
      "[2024-01-30 10:54:11,009] p22335 {684866909.py:18} INFO - Counts DataFrame saved to s3://fmbttest/data/metrics/2024/01/30/10/53/mistral-7b-tgi-g5-v1/experiment_counts.csv\n"
     ]
    },
    {
     "data": {
      "text/html": [
       "<div>\n",
       "<style scoped>\n",
       "    .dataframe tbody tr th:only-of-type {\n",
       "        vertical-align: middle;\n",
       "    }\n",
       "\n",
       "    .dataframe tbody tr th {\n",
       "        vertical-align: top;\n",
       "    }\n",
       "\n",
       "    .dataframe thead th {\n",
       "        text-align: right;\n",
       "    }\n",
       "</style>\n",
       "<table border=\"1\" class=\"dataframe\">\n",
       "  <thead>\n",
       "    <tr style=\"text-align: right;\">\n",
       "      <th></th>\n",
       "      <th>experiment_name</th>\n",
       "      <th>payload_file</th>\n",
       "      <th>instance_type</th>\n",
       "      <th>concurrency</th>\n",
       "      <th>count</th>\n",
       "    </tr>\n",
       "  </thead>\n",
       "  <tbody>\n",
       "    <tr>\n",
       "      <th>0</th>\n",
       "      <td>mistral-7b-g5-huggingface-pytorch-tgi-inferenc...</td>\n",
       "      <td>payload_en_1-500.jsonl</td>\n",
       "      <td>ml.g5.2xlarge</td>\n",
       "      <td>1</td>\n",
       "      <td>1</td>\n",
       "    </tr>\n",
       "    <tr>\n",
       "      <th>1</th>\n",
       "      <td>mistral-7b-g5-huggingface-pytorch-tgi-inferenc...</td>\n",
       "      <td>payload_en_1-500.jsonl</td>\n",
       "      <td>ml.g5.2xlarge</td>\n",
       "      <td>2</td>\n",
       "      <td>1</td>\n",
       "    </tr>\n",
       "  </tbody>\n",
       "</table>\n",
       "</div>"
      ],
      "text/plain": [
       "                                     experiment_name            payload_file  \\\n",
       "0  mistral-7b-g5-huggingface-pytorch-tgi-inferenc...  payload_en_1-500.jsonl   \n",
       "1  mistral-7b-g5-huggingface-pytorch-tgi-inferenc...  payload_en_1-500.jsonl   \n",
       "\n",
       "   instance_type  concurrency  count  \n",
       "0  ml.g5.2xlarge            1      1  \n",
       "1  ml.g5.2xlarge            2      1  "
      ]
     },
     "execution_count": 15,
     "metadata": {},
     "output_type": "execute_result"
    }
   ],
   "source": [
    "# COUNTS_FNAME: str = \"experiment_counts.csv\"\n",
    "# fpath: str = os.path.join(METRICS_DIR, COUNTS_FNAME)\n",
    "df_counts = df_all_metrics[group_by_cols].value_counts().reset_index()\n",
    "# df_counts.to_csv(fpath, index=False)\n",
    "# df_counts\n",
    "\n",
    "# Convert df_counts to CSV format\n",
    "csv_buffer = io.StringIO()\n",
    "df_counts.to_csv(csv_buffer, index=False)\n",
    "csv_data = csv_buffer.getvalue()\n",
    "\n",
    "# Define the file name and the S3 path\n",
    "COUNTS_FNAME = \"experiment_counts.csv\"\n",
    "counts_s3_path = os.path.join(METRICS_DIR, COUNTS_FNAME)\n",
    "\n",
    "# Write the CSV data to S3\n",
    "write_to_s3(csv_data, BUCKET_NAME, \"\", METRICS_DIR, COUNTS_FNAME)\n",
    "logger.info(f\"Counts DataFrame saved to s3://{BUCKET_NAME}/{counts_s3_path}\")\n",
    "\n",
    "df_counts\n",
    "\n"
   ]
  },
  {
   "cell_type": "markdown",
   "metadata": {},
   "source": [
    "#### Display the mean error rates for each experiment with different congifurations using the same columns of interest used in the cell above"
   ]
  },
  {
   "cell_type": "code",
   "execution_count": 16,
   "metadata": {},
   "outputs": [
    {
     "name": "stderr",
     "output_type": "stream",
     "text": [
      "[2024-01-30 10:54:11,265] p22335 {1475599444.py:21} INFO - Error Counts DataFrame saved to s3://fmbttest/data/metrics/2024/01/30/10/53/mistral-7b-tgi-g5-v1/error_rates.csv\n"
     ]
    },
    {
     "data": {
      "text/html": [
       "<div>\n",
       "<style scoped>\n",
       "    .dataframe tbody tr th:only-of-type {\n",
       "        vertical-align: middle;\n",
       "    }\n",
       "\n",
       "    .dataframe tbody tr th {\n",
       "        vertical-align: top;\n",
       "    }\n",
       "\n",
       "    .dataframe thead th {\n",
       "        text-align: right;\n",
       "    }\n",
       "</style>\n",
       "<table border=\"1\" class=\"dataframe\">\n",
       "  <thead>\n",
       "    <tr style=\"text-align: right;\">\n",
       "      <th></th>\n",
       "      <th>experiment_name</th>\n",
       "      <th>payload_file</th>\n",
       "      <th>instance_type</th>\n",
       "      <th>concurrency</th>\n",
       "      <th>error_rate</th>\n",
       "    </tr>\n",
       "  </thead>\n",
       "  <tbody>\n",
       "    <tr>\n",
       "      <th>0</th>\n",
       "      <td>mistral-7b-g5-huggingface-pytorch-tgi-inferenc...</td>\n",
       "      <td>payload_en_1-500.jsonl</td>\n",
       "      <td>ml.g5.2xlarge</td>\n",
       "      <td>1</td>\n",
       "      <td>0.0</td>\n",
       "    </tr>\n",
       "    <tr>\n",
       "      <th>1</th>\n",
       "      <td>mistral-7b-g5-huggingface-pytorch-tgi-inferenc...</td>\n",
       "      <td>payload_en_1-500.jsonl</td>\n",
       "      <td>ml.g5.2xlarge</td>\n",
       "      <td>2</td>\n",
       "      <td>0.0</td>\n",
       "    </tr>\n",
       "  </tbody>\n",
       "</table>\n",
       "</div>"
      ],
      "text/plain": [
       "                                     experiment_name            payload_file  \\\n",
       "0  mistral-7b-g5-huggingface-pytorch-tgi-inferenc...  payload_en_1-500.jsonl   \n",
       "1  mistral-7b-g5-huggingface-pytorch-tgi-inferenc...  payload_en_1-500.jsonl   \n",
       "\n",
       "   instance_type  concurrency  error_rate  \n",
       "0  ml.g5.2xlarge            1         0.0  \n",
       "1  ml.g5.2xlarge            2         0.0  "
      ]
     },
     "execution_count": 16,
     "metadata": {},
     "output_type": "execute_result"
    }
   ],
   "source": [
    "# ERROR_RATES_FNAME: str = \"error_rates.csv\"\n",
    "# fpath: str = os.path.join(METRICS_DIR, ERROR_RATES_FNAME)\n",
    "df_error_rates = df_all_metrics.groupby(group_by_cols).agg({'error_rate': 'mean'}).reset_index()\n",
    "df_error_rates = df_error_rates.round(2)\n",
    "# df_error_rates.to_csv(fpath, index=False)\n",
    "# df_error_rates\n",
    "\n",
    "\n",
    "\n",
    "\n",
    "\n",
    "df_error_rates.to_csv(csv_buffer, index=False)\n",
    "csv_data = csv_buffer.getvalue()\n",
    "\n",
    "# Define the file name and the S3 path\n",
    "ERROR_RATES_FNAME: str = \"error_rates.csv\"\n",
    "counts_s3_path = os.path.join(METRICS_DIR, ERROR_RATES_FNAME)\n",
    "\n",
    "# Write the CSV data to S3\n",
    "write_to_s3(csv_data, BUCKET_NAME, \"\", METRICS_DIR, ERROR_RATES_FNAME)\n",
    "logger.info(f\"Error Counts DataFrame saved to s3://{BUCKET_NAME}/{counts_s3_path}\")\n",
    "\n",
    "df_error_rates"
   ]
  },
  {
   "cell_type": "markdown",
   "metadata": {},
   "source": [
    "### Visualize Inference error rates across different concurrency levels and instance types"
   ]
  },
  {
   "cell_type": "code",
   "execution_count": 17,
   "metadata": {},
   "outputs": [
    {
     "name": "stderr",
     "output_type": "stream",
     "text": [
      "[2024-01-30 10:54:11,905] p22335 {1752248061.py:26} INFO - Plot saved to s3://fmbttest/data/metrics/2024/01/30/10/53/mistral-7b-tgi-g5-v1/error_rates.png\n"
     ]
    },
    {
     "data": {
      "text/plain": [
       "<seaborn.axisgrid.FacetGrid at 0x292854710>"
      ]
     },
     "execution_count": 17,
     "metadata": {},
     "output_type": "execute_result"
    },
    {
     "data": {
      "image/png": "[encoded data removed]",
      "text/plain": [
       "<Figure size 437.5x350 with 1 Axes>"
      ]
     },
     "metadata": {},
     "output_type": "display_data"
    }
   ],
   "source": [
    "df_error_rates = df_error_rates.rename(columns={\"instance_type\": \"instance\", \"payload_file\": \"dataset\"})\n",
    "\n",
    "# Clean up the dataset names by removing json file extensions and prefixes\n",
    "df_error_rates.dataset = df_error_rates.dataset.map(lambda x: x.replace(\".jsonl\", \"\").replace(\"payload_\", \"\"))\n",
    "\n",
    "# this creates a facetGrid for plotting scatter plots based on 'instance' and 'dataset'\n",
    "g = sns.FacetGrid(df_error_rates, col=\"instance\", row=\"dataset\", hue=\"instance\", height=3.5, aspect=1.25)\n",
    "\n",
    "# Maps a scatterplot to the FacetGrid for each subset of the data\n",
    "sns_plot = g.map(sns.scatterplot, \"concurrency\", \"error_rate\")\n",
    "\n",
    "# Create a subtitle\n",
    "g.fig.suptitle(\"Inference error rates for different concurrency levels and instance types\")\n",
    "\n",
    "## Set x and y labels for this chart\n",
    "g = g.set_ylabels(\"Error rate (failed / total inferences)\")\n",
    "g = g.set_xlabels(\"Concurrency level\")\n",
    "\n",
    "\n",
    "plot_s3_path = os.path.join(METRICS_DIR, ERROR_RATES_PLOT_FNAME)\n",
    "sns_plot.savefig(buffer, format='png')\n",
    "buffer.seek(0)\n",
    "\n",
    "# Write the plot to S3\n",
    "write_to_s3(buffer.getvalue(), BUCKET_NAME, \"\", METRICS_DIR, plot_s3_path)\n",
    "logger.info(f\"Plot saved to s3://{BUCKET_NAME}/{plot_s3_path}\")\n",
    "\n",
    "## Display the plot \n",
    "sns_plot\n",
    "\n",
    "\n"
   ]
  },
  {
   "cell_type": "markdown",
   "metadata": {},
   "source": [
    "#### Check for the df elements that have error rates above 0"
   ]
  },
  {
   "cell_type": "code",
   "execution_count": 18,
   "metadata": {},
   "outputs": [
    {
     "data": {
      "text/html": [
       "<div>\n",
       "<style scoped>\n",
       "    .dataframe tbody tr th:only-of-type {\n",
       "        vertical-align: middle;\n",
       "    }\n",
       "\n",
       "    .dataframe tbody tr th {\n",
       "        vertical-align: top;\n",
       "    }\n",
       "\n",
       "    .dataframe thead th {\n",
       "        text-align: right;\n",
       "    }\n",
       "</style>\n",
       "<table border=\"1\" class=\"dataframe\">\n",
       "  <thead>\n",
       "    <tr style=\"text-align: right;\">\n",
       "      <th></th>\n",
       "      <th>experiment_name</th>\n",
       "      <th>dataset</th>\n",
       "      <th>instance</th>\n",
       "      <th>concurrency</th>\n",
       "      <th>error_rate</th>\n",
       "    </tr>\n",
       "  </thead>\n",
       "  <tbody>\n",
       "  </tbody>\n",
       "</table>\n",
       "</div>"
      ],
      "text/plain": [
       "Empty DataFrame\n",
       "Columns: [experiment_name, dataset, instance, concurrency, error_rate]\n",
       "Index: []"
      ]
     },
     "execution_count": 18,
     "metadata": {},
     "output_type": "execute_result"
    }
   ],
   "source": [
    "df_error_rates_nz = df_error_rates[df_error_rates.error_rate > 0]\n",
    "df_error_rates_nz"
   ]
  },
  {
   "cell_type": "code",
   "execution_count": 19,
   "metadata": {},
   "outputs": [
    {
     "name": "stderr",
     "output_type": "stream",
     "text": [
      "[2024-01-30 10:54:12,265] p22335 {4227015848.py:28} INFO - Summary metrics DataFrame saved to s3://fmbttest/data/metrics/2024/01/30/10/53/mistral-7b-tgi-g5-v1/all_metrics_summary.csv\n"
     ]
    },
    {
     "data": {
      "text/html": [
       "<div>\n",
       "<style scoped>\n",
       "    .dataframe tbody tr th:only-of-type {\n",
       "        vertical-align: middle;\n",
       "    }\n",
       "\n",
       "    .dataframe tbody tr th {\n",
       "        vertical-align: top;\n",
       "    }\n",
       "\n",
       "    .dataframe thead th {\n",
       "        text-align: right;\n",
       "    }\n",
       "</style>\n",
       "<table border=\"1\" class=\"dataframe\">\n",
       "  <thead>\n",
       "    <tr style=\"text-align: right;\">\n",
       "      <th></th>\n",
       "      <th>experiment_name</th>\n",
       "      <th>payload_file</th>\n",
       "      <th>instance_type</th>\n",
       "      <th>concurrency</th>\n",
       "      <th>error_rate</th>\n",
       "      <th>prompt_token_count_mean</th>\n",
       "      <th>prompt_token_throughput</th>\n",
       "      <th>completion_token_count_mean</th>\n",
       "      <th>completion_token_throughput</th>\n",
       "      <th>latency_mean</th>\n",
       "      <th>transactions_per_minute</th>\n",
       "    </tr>\n",
       "  </thead>\n",
       "  <tbody>\n",
       "    <tr>\n",
       "      <th>0</th>\n",
       "      <td>mistral-7b-g5-huggingface-pytorch-tgi-inferenc...</td>\n",
       "      <td>payload_en_1-500.jsonl</td>\n",
       "      <td>ml.g5.2xlarge</td>\n",
       "      <td>1</td>\n",
       "      <td>0.0</td>\n",
       "      <td>304</td>\n",
       "      <td>79</td>\n",
       "      <td>101</td>\n",
       "      <td>26</td>\n",
       "      <td>3.74</td>\n",
       "      <td>15</td>\n",
       "    </tr>\n",
       "    <tr>\n",
       "      <th>1</th>\n",
       "      <td>mistral-7b-g5-huggingface-pytorch-tgi-inferenc...</td>\n",
       "      <td>payload_en_1-500.jsonl</td>\n",
       "      <td>ml.g5.2xlarge</td>\n",
       "      <td>2</td>\n",
       "      <td>0.0</td>\n",
       "      <td>304</td>\n",
       "      <td>156</td>\n",
       "      <td>98</td>\n",
       "      <td>50</td>\n",
       "      <td>3.84</td>\n",
       "      <td>31</td>\n",
       "    </tr>\n",
       "  </tbody>\n",
       "</table>\n",
       "</div>"
      ],
      "text/plain": [
       "                                     experiment_name            payload_file  \\\n",
       "0  mistral-7b-g5-huggingface-pytorch-tgi-inferenc...  payload_en_1-500.jsonl   \n",
       "1  mistral-7b-g5-huggingface-pytorch-tgi-inferenc...  payload_en_1-500.jsonl   \n",
       "\n",
       "   instance_type  concurrency  error_rate  prompt_token_count_mean  \\\n",
       "0  ml.g5.2xlarge            1         0.0                      304   \n",
       "1  ml.g5.2xlarge            2         0.0                      304   \n",
       "\n",
       "   prompt_token_throughput  completion_token_count_mean  \\\n",
       "0                       79                          101   \n",
       "1                      156                           98   \n",
       "\n",
       "   completion_token_throughput  latency_mean  transactions_per_minute  \n",
       "0                           26          3.74                       15  \n",
       "1                           50          3.84                       31  "
      ]
     },
     "execution_count": 19,
     "metadata": {},
     "output_type": "execute_result"
    }
   ],
   "source": [
    "## initialize a dataframe to get the mean of the columns in consideration\n",
    "df_summary_metrics = df_all_metrics[relevant_cols].groupby(group_by_cols).mean().reset_index()\n",
    "\n",
    "# ugly way of doing this, will refactor this later (maybe)\n",
    "df_summary_metrics.fillna(PLACE_HOLDER, inplace=True)\n",
    "int_cols = ['prompt_token_count_mean', 'prompt_token_throughput', 'completion_token_count_mean', 'completion_token_throughput', 'transactions_per_minute']\n",
    "for ic in int_cols:\n",
    "    df_summary_metrics[ic] = df_summary_metrics[ic].astype(int)\n",
    "\n",
    "df_summary_metrics.replace(PLACE_HOLDER, np.nan, inplace=True)\n",
    "df_summary_metrics.latency_mean\t= df_summary_metrics.latency_mean.round(2)\n",
    "df_summary_metrics.error_rate\t= df_summary_metrics.error_rate.round(2)\n",
    "\n",
    "# fpath: str = all_metrics_fpath.replace(\"all_metrics\", \"all_metrics_summary\")\n",
    "\n",
    "# df_summary_metrics.to_csv(fpath, index=False)\n",
    "# df_summary_metrics\n",
    "\n",
    "df_summary_metrics.to_csv(csv_buffer, index=False)\n",
    "csv_data = csv_buffer.getvalue()\n",
    "\n",
    "# Define the file name for S3 based on the original file path\n",
    "summary_file_name = all_metrics_fpath.replace(\"all_metrics\", \"all_metrics_summary\").split('/')[-1] \n",
    "summary_s3_path = os.path.join(METRICS_DIR, summary_file_name)  # Define full S3 path\n",
    "\n",
    "# Write the CSV data to S3\n",
    "write_to_s3(csv_data, BUCKET_NAME, \"\", METRICS_DIR, summary_file_name)\n",
    "logger.info(f\"Summary metrics DataFrame saved to s3://{BUCKET_NAME}/{summary_s3_path}\")\n",
    "\n",
    "df_summary_metrics"
   ]
  },
  {
   "cell_type": "code",
   "execution_count": 20,
   "metadata": {},
   "outputs": [
    {
     "name": "stderr",
     "output_type": "stream",
     "text": [
      "[2024-01-30 10:54:12,278] p22335 {3483828648.py:2} INFO - there are 2 entries out of 2 in the summary data for which error rate is 0\n"
     ]
    }
   ],
   "source": [
    "df_summary_metrics_nz = df_summary_metrics[df_summary_metrics.error_rate == 0]\n",
    "logger.info(f\"there are {len(df_summary_metrics_nz)} entries out of {len(df_summary_metrics)} in the summary data for which error rate is 0\")"
   ]
  },
  {
   "cell_type": "code",
   "execution_count": 21,
   "metadata": {},
   "outputs": [
    {
     "name": "stderr",
     "output_type": "stream",
     "text": [
      "[2024-01-30 10:54:12,286] p22335 {381626756.py:2} INFO - shape of dataframe with summary metrics for en_1-500 is (2, 11)\n",
      "[2024-01-30 10:54:12,552] p22335 {381626756.py:9} INFO - Summary metrics dataset saved to s3://fmbttest/data/metrics/2024/01/30/10/53/mistral-7b-tgi-g5-v1/summary_metrics_w_pricing.csv\n"
     ]
    },
    {
     "data": {
      "text/html": [
       "<div>\n",
       "<style scoped>\n",
       "    .dataframe tbody tr th:only-of-type {\n",
       "        vertical-align: middle;\n",
       "    }\n",
       "\n",
       "    .dataframe tbody tr th {\n",
       "        vertical-align: top;\n",
       "    }\n",
       "\n",
       "    .dataframe thead th {\n",
       "        text-align: right;\n",
       "    }\n",
       "</style>\n",
       "<table border=\"1\" class=\"dataframe\">\n",
       "  <thead>\n",
       "    <tr style=\"text-align: right;\">\n",
       "      <th></th>\n",
       "      <th>experiment_name</th>\n",
       "      <th>payload_file</th>\n",
       "      <th>instance_type</th>\n",
       "      <th>concurrency</th>\n",
       "      <th>error_rate</th>\n",
       "      <th>prompt_token_count_mean</th>\n",
       "      <th>prompt_token_throughput</th>\n",
       "      <th>completion_token_count_mean</th>\n",
       "      <th>completion_token_throughput</th>\n",
       "      <th>latency_mean</th>\n",
       "      <th>transactions_per_minute</th>\n",
       "    </tr>\n",
       "  </thead>\n",
       "  <tbody>\n",
       "    <tr>\n",
       "      <th>0</th>\n",
       "      <td>mistral-7b-g5-huggingface-pytorch-tgi-inferenc...</td>\n",
       "      <td>payload_en_1-500.jsonl</td>\n",
       "      <td>ml.g5.2xlarge</td>\n",
       "      <td>1</td>\n",
       "      <td>0.0</td>\n",
       "      <td>304</td>\n",
       "      <td>79</td>\n",
       "      <td>101</td>\n",
       "      <td>26</td>\n",
       "      <td>3.74</td>\n",
       "      <td>15</td>\n",
       "    </tr>\n",
       "    <tr>\n",
       "      <th>1</th>\n",
       "      <td>mistral-7b-g5-huggingface-pytorch-tgi-inferenc...</td>\n",
       "      <td>payload_en_1-500.jsonl</td>\n",
       "      <td>ml.g5.2xlarge</td>\n",
       "      <td>2</td>\n",
       "      <td>0.0</td>\n",
       "      <td>304</td>\n",
       "      <td>156</td>\n",
       "      <td>98</td>\n",
       "      <td>50</td>\n",
       "      <td>3.84</td>\n",
       "      <td>31</td>\n",
       "    </tr>\n",
       "  </tbody>\n",
       "</table>\n",
       "</div>"
      ],
      "text/plain": [
       "                                     experiment_name            payload_file  \\\n",
       "0  mistral-7b-g5-huggingface-pytorch-tgi-inferenc...  payload_en_1-500.jsonl   \n",
       "1  mistral-7b-g5-huggingface-pytorch-tgi-inferenc...  payload_en_1-500.jsonl   \n",
       "\n",
       "   instance_type  concurrency  error_rate  prompt_token_count_mean  \\\n",
       "0  ml.g5.2xlarge            1         0.0                      304   \n",
       "1  ml.g5.2xlarge            2         0.0                      304   \n",
       "\n",
       "   prompt_token_throughput  completion_token_count_mean  \\\n",
       "0                       79                          101   \n",
       "1                      156                           98   \n",
       "\n",
       "   completion_token_throughput  latency_mean  transactions_per_minute  \n",
       "0                           26          3.74                       15  \n",
       "1                           50          3.84                       31  "
      ]
     },
     "execution_count": 21,
     "metadata": {},
     "output_type": "execute_result"
    }
   ],
   "source": [
    "df_summary_metrics_dataset = df_summary_metrics[df_summary_metrics.payload_file.str.contains(config['metrics']['dataset_of_interest'])]\n",
    "logger.info(f\"shape of dataframe with summary metrics for {config['metrics']['dataset_of_interest']} is {df_summary_metrics_dataset.shape}\")\n",
    "\n",
    "df_summary_metrics_dataset.to_csv(csv_buffer, index=False)\n",
    "csv_data = csv_buffer.getvalue()\n",
    "\n",
    "# Write the CSV data to S3\n",
    "write_to_s3(csv_data, BUCKET_NAME, \"\", METRICS_DIR, SUMMARY_METRICS_W_PRICING_FNAME)\n",
    "logger.info(f\"Summary metrics dataset saved to s3://{BUCKET_NAME}/{METRICS_DIR}/{SUMMARY_METRICS_W_PRICING_FNAME}\")\n",
    "\n",
    "df_summary_metrics_dataset"
   ]
  },
  {
   "cell_type": "code",
   "execution_count": 22,
   "metadata": {
    "tags": []
   },
   "outputs": [
    {
     "name": "stderr",
     "output_type": "stream",
     "text": [
      "[2024-01-30 10:54:12,602] p22335 {category.py:223} INFO - Using categorical units to plot a list of strings that are all parsable as floats or dates. If these strings should be plotted as numbers, cast to the appropriate data type before plotting.\n",
      "[2024-01-30 10:54:12,608] p22335 {category.py:223} INFO - Using categorical units to plot a list of strings that are all parsable as floats or dates. If these strings should be plotted as numbers, cast to the appropriate data type before plotting.\n"
     ]
    },
    {
     "name": "stdout",
     "output_type": "stream",
     "text": [
      "['ml.g5.2xlarge']\n"
     ]
    },
    {
     "name": "stderr",
     "output_type": "stream",
     "text": [
      "[2024-01-30 10:54:13,166] p22335 {4019277021.py:23} INFO - Plot saved to s3://fmbttest/data/metrics/2024/01/30/10/53/mistral-7b-tgi-g5-v1/error_rates.png\n"
     ]
    },
    {
     "data": {
      "image/png": "[encoded data removed]",
      "text/plain": [
       "<Figure size 646.125x500 with 1 Axes>"
      ]
     },
     "metadata": {},
     "output_type": "display_data"
    }
   ],
   "source": [
    "df_all_metrics_for_dataset = df_all_metrics.rename(columns={\"instance_type\": \"instance\", \"payload_file\": \"dataset\"})\n",
    "df_all_metrics_for_dataset.dataset = df_all_metrics_for_dataset.dataset.map(lambda x: x.replace(\".jsonl\", \"\").replace(\"payload_\", \"\"))\n",
    "ds = config['metrics']['dataset_of_interest']\n",
    "df_all_metrics_for_dataset = df_all_metrics_for_dataset[df_all_metrics_for_dataset.dataset.str.contains(ds)]\n",
    "# df_all_metrics_for_dataset.concurrency = df_all_metrics_for_dataset.concurrency.astype(str)\n",
    "row_order = list(df_all_metrics_for_dataset[[\"instance\", \"latency_mean\"]].groupby(\"instance\").mean(\"latency_mean\").reset_index()[\"instance\"])\n",
    "print(row_order)\n",
    "sns_plot = sns.catplot(\n",
    "    data=df_all_metrics_for_dataset, x='concurrency', y='latency_mean',\n",
    "    col='instance', kind='box', col_wrap=len(row_order), hue=\"instance\", row_order=row_order #, height=4.5, aspect=1.25\n",
    ")\n",
    "sns_plot._legend.remove()\n",
    "sns_plot.fig.suptitle(f\"Effect of concurrency on inference latency for each instance type for the {ds} dataset\\n\\n\")\n",
    "sns_plot = sns_plot.set_ylabels(\"Latency (seconds)\")\n",
    "sns_plot = sns_plot.set_xlabels(\"Concurrency level\")\n",
    "sns_plot.fig.subplots_adjust(top=0.8)\n",
    "\n",
    "sns_plot.savefig(buffer, format='png')\n",
    "buffer.seek(0)\n",
    "\n",
    "# Write the plot to S3\n",
    "write_to_s3(buffer.getvalue(), BUCKET_NAME, \"\", METRICS_DIR, CONCURRENCY_VS_INFERENCE_LATENCY_PLOT_FNAME)\n",
    "logger.info(f\"Plot saved to s3://{BUCKET_NAME}/{plot_s3_path}\")"
   ]
  },
  {
   "cell_type": "code",
   "execution_count": 23,
   "metadata": {
    "tags": []
   },
   "outputs": [
    {
     "data": {
      "text/html": [
       "<div>\n",
       "<style scoped>\n",
       "    .dataframe tbody tr th:only-of-type {\n",
       "        vertical-align: middle;\n",
       "    }\n",
       "\n",
       "    .dataframe tbody tr th {\n",
       "        vertical-align: top;\n",
       "    }\n",
       "\n",
       "    .dataframe thead th {\n",
       "        text-align: right;\n",
       "    }\n",
       "</style>\n",
       "<table border=\"1\" class=\"dataframe\">\n",
       "  <thead>\n",
       "    <tr style=\"text-align: right;\">\n",
       "      <th></th>\n",
       "      <th>instance_type</th>\n",
       "      <th>price_per_hour</th>\n",
       "    </tr>\n",
       "  </thead>\n",
       "  <tbody>\n",
       "    <tr>\n",
       "      <th>0</th>\n",
       "      <td>ml.g5.2xlarge</td>\n",
       "      <td>1.515</td>\n",
       "    </tr>\n",
       "    <tr>\n",
       "      <th>1</th>\n",
       "      <td>ml.g5.12xlarge</td>\n",
       "      <td>7.090</td>\n",
       "    </tr>\n",
       "    <tr>\n",
       "      <th>2</th>\n",
       "      <td>ml.g5.24xlarge</td>\n",
       "      <td>10.180</td>\n",
       "    </tr>\n",
       "    <tr>\n",
       "      <th>3</th>\n",
       "      <td>ml.g5.48xlarge</td>\n",
       "      <td>20.360</td>\n",
       "    </tr>\n",
       "    <tr>\n",
       "      <th>4</th>\n",
       "      <td>ml.inf2.24xlarge</td>\n",
       "      <td>7.790</td>\n",
       "    </tr>\n",
       "    <tr>\n",
       "      <th>5</th>\n",
       "      <td>ml.inf2.48xlarge</td>\n",
       "      <td>15.580</td>\n",
       "    </tr>\n",
       "    <tr>\n",
       "      <th>6</th>\n",
       "      <td>ml.p4d.24xlarge</td>\n",
       "      <td>37.688</td>\n",
       "    </tr>\n",
       "  </tbody>\n",
       "</table>\n",
       "</div>"
      ],
      "text/plain": [
       "      instance_type  price_per_hour\n",
       "0     ml.g5.2xlarge           1.515\n",
       "1    ml.g5.12xlarge           7.090\n",
       "2    ml.g5.24xlarge          10.180\n",
       "3    ml.g5.48xlarge          20.360\n",
       "4  ml.inf2.24xlarge           7.790\n",
       "5  ml.inf2.48xlarge          15.580\n",
       "6   ml.p4d.24xlarge          37.688"
      ]
     },
     "execution_count": 23,
     "metadata": {},
     "output_type": "execute_result"
    }
   ],
   "source": [
    "df_pricing = pd.DataFrame.from_dict(config['pricing'], orient='index').reset_index()\n",
    "df_pricing.columns = ['instance_type', 'price_per_hour']\n",
    "# fpath: str = os.path.join(METRICS_DIR, INSTANCE_PRICING_PER_HOUR_FNAME)\n",
    "\n",
    "df_pricing.to_csv(csv_buffer, index=False)\n",
    "csv_data = csv_buffer.getvalue()\n",
    "\n",
    "# Write the CSV data to S3\n",
    "write_to_s3(csv_data, BUCKET_NAME, \"\", METRICS_DIR, INSTANCE_PRICING_PER_HOUR_FNAME)\n",
    "\n",
    "df_pricing"
   ]
  },
  {
   "cell_type": "code",
   "execution_count": 24,
   "metadata": {
    "tags": []
   },
   "outputs": [
    {
     "name": "stderr",
     "output_type": "stream",
     "text": [
      "[2024-01-30 10:54:13,906] p22335 {2321836915.py:22} INFO - Summary metrics dataset saved to s3://fmbttest/data/metrics/2024/01/30/10/53/mistral-7b-tgi-g5-v1/summary_metrics_for_dataset_w_scores.csv\n"
     ]
    },
    {
     "data": {
      "text/html": [
       "<div>\n",
       "<style scoped>\n",
       "    .dataframe tbody tr th:only-of-type {\n",
       "        vertical-align: middle;\n",
       "    }\n",
       "\n",
       "    .dataframe tbody tr th {\n",
       "        vertical-align: top;\n",
       "    }\n",
       "\n",
       "    .dataframe thead th {\n",
       "        text-align: right;\n",
       "    }\n",
       "</style>\n",
       "<table border=\"1\" class=\"dataframe\">\n",
       "  <thead>\n",
       "    <tr style=\"text-align: right;\">\n",
       "      <th></th>\n",
       "      <th>experiment_name</th>\n",
       "      <th>payload_file</th>\n",
       "      <th>instance_type</th>\n",
       "      <th>concurrency</th>\n",
       "      <th>error_rate</th>\n",
       "      <th>prompt_token_count_mean</th>\n",
       "      <th>prompt_token_throughput</th>\n",
       "      <th>completion_token_count_mean</th>\n",
       "      <th>completion_token_throughput</th>\n",
       "      <th>latency_mean</th>\n",
       "      <th>transactions_per_minute</th>\n",
       "      <th>price_per_hour</th>\n",
       "      <th>price_per_txn</th>\n",
       "      <th>score</th>\n",
       "    </tr>\n",
       "  </thead>\n",
       "  <tbody>\n",
       "    <tr>\n",
       "      <th>1</th>\n",
       "      <td>mistral-7b-g5-huggingface-pytorch-tgi-inferenc...</td>\n",
       "      <td>payload_en_1-500.jsonl</td>\n",
       "      <td>ml.g5.2xlarge</td>\n",
       "      <td>2</td>\n",
       "      <td>0.0</td>\n",
       "      <td>304</td>\n",
       "      <td>156</td>\n",
       "      <td>98</td>\n",
       "      <td>50</td>\n",
       "      <td>3.84</td>\n",
       "      <td>31</td>\n",
       "      <td>1.515</td>\n",
       "      <td>0.000815</td>\n",
       "      <td>613.991594</td>\n",
       "    </tr>\n",
       "    <tr>\n",
       "      <th>0</th>\n",
       "      <td>mistral-7b-g5-huggingface-pytorch-tgi-inferenc...</td>\n",
       "      <td>payload_en_1-500.jsonl</td>\n",
       "      <td>ml.g5.2xlarge</td>\n",
       "      <td>1</td>\n",
       "      <td>0.0</td>\n",
       "      <td>304</td>\n",
       "      <td>79</td>\n",
       "      <td>101</td>\n",
       "      <td>26</td>\n",
       "      <td>3.74</td>\n",
       "      <td>15</td>\n",
       "      <td>1.515</td>\n",
       "      <td>0.001683</td>\n",
       "      <td>297.163393</td>\n",
       "    </tr>\n",
       "  </tbody>\n",
       "</table>\n",
       "</div>"
      ],
      "text/plain": [
       "                                     experiment_name            payload_file  \\\n",
       "1  mistral-7b-g5-huggingface-pytorch-tgi-inferenc...  payload_en_1-500.jsonl   \n",
       "0  mistral-7b-g5-huggingface-pytorch-tgi-inferenc...  payload_en_1-500.jsonl   \n",
       "\n",
       "   instance_type  concurrency  error_rate  prompt_token_count_mean  \\\n",
       "1  ml.g5.2xlarge            2         0.0                      304   \n",
       "0  ml.g5.2xlarge            1         0.0                      304   \n",
       "\n",
       "   prompt_token_throughput  completion_token_count_mean  \\\n",
       "1                      156                           98   \n",
       "0                       79                          101   \n",
       "\n",
       "   completion_token_throughput  latency_mean  transactions_per_minute  \\\n",
       "1                           50          3.84                       31   \n",
       "0                           26          3.74                       15   \n",
       "\n",
       "   price_per_hour  price_per_txn       score  \n",
       "1           1.515       0.000815  613.991594  \n",
       "0           1.515       0.001683  297.163393  "
      ]
     },
     "execution_count": 24,
     "metadata": {},
     "output_type": "execute_result"
    }
   ],
   "source": [
    "df_summary_metrics_dataset = pd.merge(df_summary_metrics_dataset, df_pricing, how='left')\n",
    "\n",
    "df_summary_metrics_dataset['price_per_txn'] = (df_summary_metrics_dataset['price_per_hour']/60)/df_summary_metrics_dataset['transactions_per_minute']\n",
    "price_per_tx_wt = config['metrics']['weights']['price_per_tx_wt']\n",
    "latency_wt = config['metrics']['weights']['latenct_wt']\n",
    "#df_summary_metrics_dataset['score'] = price_per_tx_wt*(1/df_summary_metrics_dataset['price_per_txn']) + latency_wt*(1/df_summary_metrics_dataset['latency_mean'])\n",
    "df_summary_metrics_dataset['score'] = 0.5*(1/df_summary_metrics_dataset['price_per_txn']) + 0.5*(1/df_summary_metrics_dataset['latency_mean'])\n",
    "\n",
    "\"\"\"\n",
    "df_summary_metrics_dataset['rank'] = (df_summary_metrics_dataset.sort_values(by=\"score\", ascending=False)\n",
    "                      .groupby(['instance_type'])['concurrency']\n",
    "                      .rank(method='first', ascending=False)\n",
    "                   )\n",
    "\"\"\"\n",
    "df_summary_metrics_dataset = df_summary_metrics_dataset.sort_values(by=\"score\", ascending=False)\n",
    "fpath: str = os.path.join(METRICS_DIR, SUMMARY_METRICS_FOR_DATASET_W_SCORES_FNAME)\n",
    "df_summary_metrics_dataset.to_csv(fpath, index=False)\n",
    "csv_data = csv_buffer.getvalue()\n",
    "\n",
    "# Write the CSV data to S3\n",
    "write_to_s3(csv_data, BUCKET_NAME, \"\", METRICS_DIR, SUMMARY_METRICS_FOR_DATASET_W_SCORES_FNAME)\n",
    "logger.info(f\"Summary metrics dataset saved to s3://{BUCKET_NAME}/{METRICS_DIR}/{SUMMARY_METRICS_FOR_DATASET_W_SCORES_FNAME}\")\n",
    "\n",
    "df_summary_metrics_dataset\n",
    "\n"
   ]
  },
  {
   "cell_type": "code",
   "execution_count": 25,
   "metadata": {
    "tags": []
   },
   "outputs": [
    {
     "data": {
      "text/html": [
       "<div>\n",
       "<style scoped>\n",
       "    .dataframe tbody tr th:only-of-type {\n",
       "        vertical-align: middle;\n",
       "    }\n",
       "\n",
       "    .dataframe tbody tr th {\n",
       "        vertical-align: top;\n",
       "    }\n",
       "\n",
       "    .dataframe thead th {\n",
       "        text-align: right;\n",
       "    }\n",
       "</style>\n",
       "<table border=\"1\" class=\"dataframe\">\n",
       "  <thead>\n",
       "    <tr style=\"text-align: right;\">\n",
       "      <th></th>\n",
       "      <th>experiment_name</th>\n",
       "      <th>payload_file</th>\n",
       "      <th>instance_type</th>\n",
       "      <th>concurrency</th>\n",
       "      <th>error_rate</th>\n",
       "      <th>prompt_token_count_mean</th>\n",
       "      <th>prompt_token_throughput</th>\n",
       "      <th>completion_token_count_mean</th>\n",
       "      <th>completion_token_throughput</th>\n",
       "      <th>latency_mean</th>\n",
       "      <th>transactions_per_minute</th>\n",
       "      <th>price_per_hour</th>\n",
       "      <th>price_per_txn</th>\n",
       "      <th>score</th>\n",
       "    </tr>\n",
       "  </thead>\n",
       "  <tbody>\n",
       "    <tr>\n",
       "      <th>1</th>\n",
       "      <td>mistral-7b-g5-huggingface-pytorch-tgi-inferenc...</td>\n",
       "      <td>payload_en_1-500.jsonl</td>\n",
       "      <td>ml.g5.2xlarge</td>\n",
       "      <td>2</td>\n",
       "      <td>0.0</td>\n",
       "      <td>304</td>\n",
       "      <td>156</td>\n",
       "      <td>98</td>\n",
       "      <td>50</td>\n",
       "      <td>3.84</td>\n",
       "      <td>31</td>\n",
       "      <td>1.515</td>\n",
       "      <td>0.000815</td>\n",
       "      <td>613.991594</td>\n",
       "    </tr>\n",
       "  </tbody>\n",
       "</table>\n",
       "</div>"
      ],
      "text/plain": [
       "                                     experiment_name            payload_file  \\\n",
       "1  mistral-7b-g5-huggingface-pytorch-tgi-inferenc...  payload_en_1-500.jsonl   \n",
       "\n",
       "   instance_type  concurrency  error_rate  prompt_token_count_mean  \\\n",
       "1  ml.g5.2xlarge            2         0.0                      304   \n",
       "\n",
       "   prompt_token_throughput  completion_token_count_mean  \\\n",
       "1                      156                           98   \n",
       "\n",
       "   completion_token_throughput  latency_mean  transactions_per_minute  \\\n",
       "1                           50          3.84                       31   \n",
       "\n",
       "   price_per_hour  price_per_txn       score  \n",
       "1           1.515       0.000815  613.991594  "
      ]
     },
     "execution_count": 25,
     "metadata": {},
     "output_type": "execute_result"
    }
   ],
   "source": [
    "# select the best option overall and for each instance type\n",
    "df_summary_metrics_dataset_overall = df_summary_metrics_dataset[df_summary_metrics_dataset.score == df_summary_metrics_dataset.score.max()]\n",
    "\n",
    "df_summary_metrics_dataset_overall.to_csv(csv_buffer, index=False)\n",
    "csv_data = csv_buffer.getvalue()\n",
    "\n",
    "# Write the CSV data to S3\n",
    "write_to_s3(csv_data, BUCKET_NAME, \"\", METRICS_DIR, SUMMARY_METRICS_FOR_DATASET_W_SCORES_BEST_OPTION_FNAME)\n",
    "\n",
    "df_summary_metrics_dataset_overall"
   ]
  },
  {
   "cell_type": "code",
   "execution_count": 26,
   "metadata": {
    "tags": []
   },
   "outputs": [
    {
     "data": {
      "text/plain": [
       "[{'experiment_name': 'mistral-7b-g5-huggingface-pytorch-tgi-inference-2.0.1-tgi1.1.0',\n",
       "  'payload_file': 'payload_en_1-500.jsonl',\n",
       "  'instance_type': 'ml.g5.2xlarge',\n",
       "  'concurrency': 2,\n",
       "  'error_rate': 0.0,\n",
       "  'prompt_token_count_mean': 304,\n",
       "  'prompt_token_throughput': 156,\n",
       "  'completion_token_count_mean': 98,\n",
       "  'completion_token_throughput': 50,\n",
       "  'latency_mean': 3.84,\n",
       "  'transactions_per_minute': 31,\n",
       "  'price_per_hour': 1.515,\n",
       "  'price_per_txn': 0.0008,\n",
       "  'score': 613.9916}]"
      ]
     },
     "execution_count": 26,
     "metadata": {},
     "output_type": "execute_result"
    }
   ],
   "source": [
    "df_summary_metrics_dataset_overall = df_summary_metrics_dataset_overall.round(4)\n",
    "df_summary_metrics_dataset_overall.to_dict(orient='records')"
   ]
  },
  {
   "cell_type": "code",
   "execution_count": 27,
   "metadata": {},
   "outputs": [
    {
     "data": {
      "text/html": [
       "<div>\n",
       "<style scoped>\n",
       "    .dataframe tbody tr th:only-of-type {\n",
       "        vertical-align: middle;\n",
       "    }\n",
       "\n",
       "    .dataframe tbody tr th {\n",
       "        vertical-align: top;\n",
       "    }\n",
       "\n",
       "    .dataframe thead th {\n",
       "        text-align: right;\n",
       "    }\n",
       "</style>\n",
       "<table border=\"1\" class=\"dataframe\">\n",
       "  <thead>\n",
       "    <tr style=\"text-align: right;\">\n",
       "      <th></th>\n",
       "      <th>experiment_name</th>\n",
       "      <th>payload_file</th>\n",
       "      <th>instance_type</th>\n",
       "      <th>concurrency</th>\n",
       "      <th>error_rate</th>\n",
       "      <th>prompt_token_count_mean</th>\n",
       "      <th>prompt_token_throughput</th>\n",
       "      <th>completion_token_count_mean</th>\n",
       "      <th>completion_token_throughput</th>\n",
       "      <th>latency_mean</th>\n",
       "      <th>transactions_per_minute</th>\n",
       "      <th>price_per_hour</th>\n",
       "      <th>price_per_txn</th>\n",
       "      <th>score</th>\n",
       "    </tr>\n",
       "  </thead>\n",
       "  <tbody>\n",
       "    <tr>\n",
       "      <th>1</th>\n",
       "      <td>mistral-7b-g5-huggingface-pytorch-tgi-inferenc...</td>\n",
       "      <td>payload_en_1-500.jsonl</td>\n",
       "      <td>ml.g5.2xlarge</td>\n",
       "      <td>2</td>\n",
       "      <td>0.0</td>\n",
       "      <td>304</td>\n",
       "      <td>156</td>\n",
       "      <td>98</td>\n",
       "      <td>50</td>\n",
       "      <td>3.84</td>\n",
       "      <td>31</td>\n",
       "      <td>1.515</td>\n",
       "      <td>0.000815</td>\n",
       "      <td>613.991594</td>\n",
       "    </tr>\n",
       "  </tbody>\n",
       "</table>\n",
       "</div>"
      ],
      "text/plain": [
       "                                     experiment_name            payload_file  \\\n",
       "1  mistral-7b-g5-huggingface-pytorch-tgi-inferenc...  payload_en_1-500.jsonl   \n",
       "\n",
       "   instance_type  concurrency  error_rate  prompt_token_count_mean  \\\n",
       "1  ml.g5.2xlarge            2         0.0                      304   \n",
       "\n",
       "   prompt_token_throughput  completion_token_count_mean  \\\n",
       "1                      156                           98   \n",
       "\n",
       "   completion_token_throughput  latency_mean  transactions_per_minute  \\\n",
       "1                           50          3.84                       31   \n",
       "\n",
       "   price_per_hour  price_per_txn       score  \n",
       "1           1.515       0.000815  613.991594  "
      ]
     },
     "execution_count": 27,
     "metadata": {},
     "output_type": "execute_result"
    }
   ],
   "source": [
    "idx = df_summary_metrics_dataset.groupby(['instance_type']).score.idxmax()\n",
    "\n",
    "df_summary_metrics_best_option_instance_type = df_summary_metrics_dataset.loc[idx]\n",
    "\n",
    "df_summary_metrics_best_option_instance_type.to_csv(csv_buffer, index=False)\n",
    "csv_data = csv_buffer.getvalue()\n",
    "\n",
    "# Write the CSV data to S3\n",
    "write_to_s3(csv_data, BUCKET_NAME, \"\", METRICS_DIR, SUMMARY_METRICS_FOR_DATASET_W_SCORES_BEST_OPTION_EACH_INSTANCE_TYPE_FNAME)\n",
    "\n",
    "df_summary_metrics_best_option_instance_type\n"
   ]
  },
  {
   "cell_type": "code",
   "execution_count": 28,
   "metadata": {
    "tags": []
   },
   "outputs": [
    {
     "name": "stdout",
     "output_type": "stream",
     "text": [
      "v_shift=0.1\n",
      "x=ml.g5.2xlarge, y=8.1, text=31 txn/min, 3.84s per txn\n"
     ]
    },
    {
     "name": "stderr",
     "output_type": "stream",
     "text": [
      "[2024-01-30 10:54:14,941] p22335 {491005180.py:37} INFO - Plot saved to s3://fmbttest/data/metrics/2024/01/30/10/53/mistral-7b-tgi-g5-v1/business_summary.png\n"
     ]
    },
    {
     "data": {
      "text/plain": [
       "<Axes: title={'center': 'Comparing performance of mistral7b across instance types for en_1-500 dataset'}, xlabel='Instance type', ylabel='Cost per 10000 transactions (USD)'>"
      ]
     },
     "execution_count": 28,
     "metadata": {},
     "output_type": "execute_result"
    },
    {
     "data": {
      "image/png": "[encoded data removed]",
      "text/plain": [
       "<Figure size 1000x600 with 1 Axes>"
      ]
     },
     "metadata": {},
     "output_type": "display_data"
    }
   ],
   "source": [
    "min_price_per_tx = df_summary_metrics_best_option_instance_type.price_per_txn.min()\n",
    "count: int = 1000\n",
    "multiplier: int = 10 if int(min_price_per_tx * count) == 0 else 1\n",
    "\n",
    "price_tx_col_name = f\"price_per_tx_{count*multiplier}_txn\"\n",
    "\n",
    "df_summary_metrics_best_option_instance_type[price_tx_col_name] = df_summary_metrics_best_option_instance_type.price_per_txn * 10000\n",
    "df_summary_metrics_best_option_instance_type[price_tx_col_name] = df_summary_metrics_best_option_instance_type[price_tx_col_name].astype(int)\n",
    "df_summary_metrics_best_option_instance_type = df_summary_metrics_best_option_instance_type.sort_values(by=price_tx_col_name)\n",
    "sns_plot = sns.barplot(df_summary_metrics_best_option_instance_type, x=\"instance_type\", y=price_tx_col_name)\n",
    "title: str = f\"Comparing performance of {config['general']['model_name']} across instance types for {config['metrics']['dataset_of_interest']} dataset\"\n",
    "sns_plot.set(xlabel=\"Instance type\", ylabel=f\"Cost per {count*multiplier} transactions (USD)\", title=title)\n",
    "num_instance_types = len(df_summary_metrics_dataset.instance_type.unique())\n",
    "for r in df_summary_metrics_best_option_instance_type.iterrows():\n",
    "    x = r[1]['instance_type']\n",
    "    if num_instance_types == 1:\n",
    "        v_shift = 0.1\n",
    "    else:\n",
    "        v_shift = 5 + 5/num_instance_types\n",
    "    print(f\"v_shift={v_shift}\")    \n",
    "    y = r[1][price_tx_col_name] + v_shift\n",
    "    text = f\"{r[1]['transactions_per_minute']} txn/min, {r[1]['latency_mean']}s per txn\"\n",
    "    print(f\"x={x}, y={y}, text={text}\")\n",
    "    sns_plot.text(x, y, text, \n",
    "       fontsize = 8,          # Size\n",
    "       #fontstyle = \"oblique\",  # Style\n",
    "       color = \"red\",          # Color\n",
    "       ha = \"center\", # Horizontal alignment\n",
    "       va = \"center\") # Vertical alignment \n",
    "\n",
    "business_summary_plot_fpath: str = os.path.join(METRICS_DIR, BUSINESS_SUMMARY_PLOT_FNAME)\n",
    "sns_plot.figure.savefig(business_summary_plot_fpath, format='png')\n",
    "buffer.seek(0)\n",
    "\n",
    "# Write the plot to S3\n",
    "write_to_s3(buffer.getvalue(), BUCKET_NAME, \"\", METRICS_DIR, business_summary_plot_fpath)\n",
    "logger.info(f\"Plot saved to s3://{BUCKET_NAME}/{business_summary_plot_fpath}\")\n",
    "\n",
    "## Display the plot \n",
    "sns_plot"
   ]
  },
  {
   "cell_type": "code",
   "execution_count": 29,
   "metadata": {
    "tags": []
   },
   "outputs": [
    {
     "data": {
      "text/html": [
       "<div>\n",
       "<style scoped>\n",
       "    .dataframe tbody tr th:only-of-type {\n",
       "        vertical-align: middle;\n",
       "    }\n",
       "\n",
       "    .dataframe tbody tr th {\n",
       "        vertical-align: top;\n",
       "    }\n",
       "\n",
       "    .dataframe thead th {\n",
       "        text-align: right;\n",
       "    }\n",
       "</style>\n",
       "<table border=\"1\" class=\"dataframe\">\n",
       "  <thead>\n",
       "    <tr style=\"text-align: right;\">\n",
       "      <th></th>\n",
       "      <th>experiment_name</th>\n",
       "      <th>payload_file</th>\n",
       "      <th>instance_type</th>\n",
       "      <th>concurrency</th>\n",
       "      <th>error_rate</th>\n",
       "      <th>prompt_token_count_mean</th>\n",
       "      <th>prompt_token_throughput</th>\n",
       "      <th>completion_token_count_mean</th>\n",
       "      <th>completion_token_throughput</th>\n",
       "      <th>latency_mean</th>\n",
       "      <th>transactions_per_minute</th>\n",
       "      <th>price_per_hour</th>\n",
       "      <th>price_per_txn</th>\n",
       "      <th>score</th>\n",
       "      <th>price_per_tx_10000_txn</th>\n",
       "    </tr>\n",
       "  </thead>\n",
       "  <tbody>\n",
       "    <tr>\n",
       "      <th>1</th>\n",
       "      <td>mistral-7b-g5-huggingface-pytorch-tgi-inferenc...</td>\n",
       "      <td>payload_en_1-500.jsonl</td>\n",
       "      <td>ml.g5.2xlarge</td>\n",
       "      <td>2</td>\n",
       "      <td>0.0</td>\n",
       "      <td>304</td>\n",
       "      <td>156</td>\n",
       "      <td>98</td>\n",
       "      <td>50</td>\n",
       "      <td>3.84</td>\n",
       "      <td>31</td>\n",
       "      <td>1.515</td>\n",
       "      <td>0.000815</td>\n",
       "      <td>613.991594</td>\n",
       "      <td>8</td>\n",
       "    </tr>\n",
       "  </tbody>\n",
       "</table>\n",
       "</div>"
      ],
      "text/plain": [
       "                                     experiment_name            payload_file  \\\n",
       "1  mistral-7b-g5-huggingface-pytorch-tgi-inferenc...  payload_en_1-500.jsonl   \n",
       "\n",
       "   instance_type  concurrency  error_rate  prompt_token_count_mean  \\\n",
       "1  ml.g5.2xlarge            2         0.0                      304   \n",
       "\n",
       "   prompt_token_throughput  completion_token_count_mean  \\\n",
       "1                      156                           98   \n",
       "\n",
       "   completion_token_throughput  latency_mean  transactions_per_minute  \\\n",
       "1                           50          3.84                       31   \n",
       "\n",
       "   price_per_hour  price_per_txn       score  price_per_tx_10000_txn  \n",
       "1           1.515       0.000815  613.991594                       8  "
      ]
     },
     "metadata": {},
     "output_type": "display_data"
    }
   ],
   "source": [
    "display(df_summary_metrics_best_option_instance_type)"
   ]
  },
  {
   "cell_type": "code",
   "execution_count": null,
   "metadata": {
    "tags": []
   },
   "outputs": [],
   "source": []
  },
  {
   "cell_type": "code",
   "execution_count": 30,
   "metadata": {
    "tags": []
   },
   "outputs": [
    {
     "data": {
      "text/plain": [
       "'We did performance benchmarking for the `mistral7b` model on \"`ml.g5.2xlarge`\" instance on multiple datasets and based on the test results the best price performance for dataset `en_1-500` is provided by the `ml.g5.2xlarge` instance type.  \\n| Information | Value |\\n|-----|-----|\\n| experiment_name | mistral-7b-g5-huggingface-pytorch-tgi-inference-2.0.1-tgi1.1.0 |\\n| payload_file | payload_en_1-500.jsonl |\\n| instance_type | ml.g5.2xlarge |\\n| concurrency | 2 |\\n| error_rate | 0.0 |\\n| prompt_token_count_mean | 304 |\\n| prompt_token_throughput | 156 |\\n| completion_token_count_mean | 98 |\\n| completion_token_throughput | 50 |\\n| latency_mean | 3.84 |\\n| transactions_per_minute | 31 |\\n| price_per_hour | 1.515 |\\n| price_per_txn | 0.0008 |\\n\\n\\nThe price performance comparison for different instance types is presented below:\\n\\n![Price performance comparison](business_summary.png)\\n\\nThe configuration used for these tests is available in the [`config`](config-mistral-7b-tgi-g5.yml) file.\\n'"
      ]
     },
     "execution_count": 30,
     "metadata": {},
     "output_type": "execute_result"
    }
   ],
   "source": [
    "BUSINESS_SUMMARY: str = \"\"\"We did performance benchmarking for the `{model_name}` model on \"{instance_types}\" instance{plural} on multiple datasets and based on the test results the best price performance for dataset `{ds}` is provided by the `{selected_instance_type}` instance type.  {mkdn_table}\n",
    "\n",
    "The price performance comparison for different instance types is presented below:\n",
    "\n",
    "![Price performance comparison]({business_summary_plot_fpath})\n",
    "\n",
    "The configuration used for these tests is available in the [`config`]({cfg_file_path}) file.\n",
    "\"\"\"\n",
    "\n",
    "from tomark import Tomark\n",
    "transposed_list = []\n",
    "best_instance_type_info = df_summary_metrics_dataset_overall.to_dict(orient='records')[0]\n",
    "del best_instance_type_info[\"score\"]\n",
    "for k,v in best_instance_type_info.items():\n",
    "    transposed_list.append({\"Information\": k, \"Value\": v})\n",
    "mkdn_table = Tomark.table(transposed_list)\n",
    "mkdn_table\n",
    "\n",
    "\n",
    "plural = \"s\" if len(df_summary_metrics.instance_type.unique()) > 1 else \"\"\n",
    "instance_types_md = \", \".join([f\"`{it}`\" for it in df_summary_metrics.instance_type.unique()])\n",
    "selected_instance_type: str = df_summary_metrics_dataset_overall.to_dict(orient='records')[0]['instance_type']\n",
    "ds: str = config['metrics']['dataset_of_interest']\n",
    "business_summary: str = BUSINESS_SUMMARY.format(model_name=config['general']['model_name'],\n",
    "                                              instance_types=instance_types_md,\n",
    "                                              plural=plural,\n",
    "                                              ds=ds,\n",
    "                                              selected_instance_type=selected_instance_type,\n",
    "                                              mkdn_table=\"\\n\" + mkdn_table,\n",
    "                                              cfg_file_path=os.path.basename(CONFIG_FILE),\n",
    "                                              business_summary_plot_fpath=BUSINESS_SUMMARY_PLOT_FNAME\n",
    "                                              )\n",
    "business_summary"
   ]
  },
  {
   "cell_type": "code",
   "execution_count": 31,
   "metadata": {},
   "outputs": [
    {
     "name": "stderr",
     "output_type": "stream",
     "text": [
      "[2024-01-30 10:54:15,087] p22335 {613866550.py:19} INFO - there are 2 options to choose the best option from for instance_type=ml.g5.2xlarge, dataset=payload_en_1-500.jsonl\n",
      "[2024-01-30 10:54:15,095] p22335 {613866550.py:71} INFO - writing final markdown to data/metrics/2024/01/30/10/53/mistral-7b-tgi-g5-v1/results.md\n",
      "[2024-01-30 10:54:15,098] p22335 {613866550.py:73} INFO - \n",
      "# Results for performance benchmarking\n",
      "\n",
      "**Last modified (UTC): 2024-01-30 15:54:15.086341**\n",
      "\n",
      "## Summary\n",
      "\n",
      "We did performance benchmarking for the `mistral7b` model on \"`ml.g5.2xlarge`\" instance on multiple datasets and based on the test results the best price performance for dataset `en_1-500` is provided by the `ml.g5.2xlarge` instance type.  \n",
      "| Information | Value |\n",
      "|-----|-----|\n",
      "| experiment_name | mistral-7b-g5-huggingface-pytorch-tgi-inference-2.0.1-tgi1.1.0 |\n",
      "| payload_file | payload_en_1-500.jsonl |\n",
      "| instance_type | ml.g5.2xlarge |\n",
      "| concurrency | 2 |\n",
      "| error_rate | 0.0 |\n",
      "| prompt_token_count_mean | 304 |\n",
      "| prompt_token_throughput | 156 |\n",
      "| completion_token_count_mean | 98 |\n",
      "| completion_token_throughput | 50 |\n",
      "| latency_mean | 3.84 |\n",
      "| transactions_per_minute | 31 |\n",
      "| price_per_hour | 1.515 |\n",
      "| price_per_txn | 0.0008 |\n",
      "\n",
      "\n",
      "The price performance comparison for different instance types is presented below:\n",
      "\n",
      "![Price performance comparison](business_summary.png)\n",
      "\n",
      "The configuration used for these tests is available in the [`config`](config-mistral-7b-tgi-g5.yml) file.\n",
      "\n",
      "\n",
      "## Per instance results\n",
      "\n",
      "The following table provides the best combinations for running inference for different sizes prompts on different instance types.\n",
      "|Dataset   | Instance type   | Recommendation   |\n",
      "|---|---|---|\n",
      "|`payload_en_1-500.jsonl`|`ml.g5.2xlarge`|The best option for staying within a latency budget of `20 seconds` on a `ml.g5.2xlarge` for the `payload_en_1-500.jsonl` dataset is a `concurrency level of 2`. A concurrency level of 2 achieves an `average latency of 3.84 seconds`, for an `average prompt size of 304 tokens` and `completion size of 98 tokens` with `31 transactions/minute`.|\n",
      "\n",
      "## Plots\n",
      "\n",
      "The following plots provide insights into the results from the different experiments run.\n",
      "\n",
      "![Error rates for different concurrency levels and instance types](error_rates.png)\n",
      "\n",
      "![Tokens vs latency for different concurrency levels and instance types](tokens_vs_latency.png)\n",
      "\n",
      "![Concurrency Vs latency for different instance type for selected dataset](concurrency_vs_inference_latency.png)\n",
      "\n",
      "[2024-01-30 10:54:15,362] p22335 {613866550.py:78} INFO - Results.md file saved to to s3://fmbttest/data/metrics/2024/01/30/10/53/mistral-7b-tgi-g5-v1/results.md\n"
     ]
    }
   ],
   "source": [
    "from typing import Optional\n",
    "dttm = str(datetime.utcnow())\n",
    "#RESULT_ROW: str = \"|`{dataset}`|`{instance_type}`|{desc}|\"\n",
    "#RESULT_DESC: str = \"\"\"The best option for staying within a latency budget of `{latency_budget} seconds` on a `{instance_type}` for the `{dataset}` dataset is a `concurrency level of {concurrency}`. A concurrency level of {concurrency} achieves an `average latency of {latency_mean} seconds`, for an `average prompt size of {prompt_size} tokens` and `completion size of {completion_size} tokens` with `{tpm} transactions/minute`.\"\"\"\n",
    "\n",
    "overall_results_md = OVERALL_RESULTS_MD.format(dttm=dttm,\n",
    "                                               business_summary=business_summary)\n",
    "results_group_cols: List[str] = ['instance_type', 'payload_file']\n",
    "result_rows: List[str] = []\n",
    "for row in df_summary_metrics[results_group_cols].drop_duplicates().iterrows():\n",
    "    instance_type = row[1]['instance_type']\n",
    "    dataset = row[1]['payload_file']\n",
    "    df_summary_metrics_nz_subset = df_summary_metrics_nz[(df_summary_metrics_nz.instance_type == instance_type) &\n",
    "                                                          (df_summary_metrics_nz.payload_file == dataset) &\n",
    "                                                           (df_summary_metrics_nz.latency_mean <= LATENCY_BUDGET)]\n",
    "    num_results = df_summary_metrics_nz_subset.shape[0]\n",
    "    result_row: Optional[str] = None\n",
    "    if num_results > 0:\n",
    "        logger.info(f\"there are {num_results} options to choose the best option from for instance_type={instance_type}, dataset={dataset}\")\n",
    "        df_summary_metrics_nz_subset_selected = df_summary_metrics_nz_subset[df_summary_metrics_nz_subset.concurrency == df_summary_metrics_nz_subset.concurrency.max()]\n",
    "        best = df_summary_metrics_nz_subset_selected.to_dict(orient='records')[0]\n",
    "        # logger.info(best)\n",
    "        result_desc = RESULT_DESC.format(latency_budget=LATENCY_BUDGET,\n",
    "                           instance_type=best['instance_type'],\n",
    "                           dataset=dataset,\n",
    "                           concurrency=best['concurrency'],\n",
    "                           latency_mean=best['latency_mean'],\n",
    "                           prompt_size=int(best['prompt_token_count_mean']),\n",
    "                           completion_size=int(best['completion_token_count_mean']),\n",
    "                           tpm=int(best['transactions_per_minute']))     \n",
    "        \n",
    "        # logger.info(result_desc)\n",
    "    else:\n",
    "        logger.info(f\"there are NO options to choose from for instance_type={instance_type}, dataset={dataset}\")\n",
    "        result_desc = RESULT_FAILURE_DESC.format(latency_budget=LATENCY_BUDGET,\n",
    "                           instance_type=best['instance_type'],\n",
    "                           dataset=dataset)\n",
    "    result_row: str = RESULT_ROW.format(instance_type=best['instance_type'],\n",
    "                                        dataset=dataset,\n",
    "                                        desc=result_desc)\n",
    "    result_rows.append(result_row)\n",
    "        \n",
    "    \n",
    "    #logger.info(f\"instance_type={row[0]}, payload_file={row[1]}\")\n",
    "overall_results_md += \"\\n\".join(result_rows)\n",
    "\n",
    "OVERALL_RESULTS_PLOTS_MD: str = \"\"\"\n",
    "\n",
    "## Plots\n",
    "\n",
    "The following plots provide insights into the results from the different experiments run.\n",
    "\n",
    "![{plot1_text}]({plot1_fname})\n",
    "\n",
    "![{plot2_text}]({plot2_fname})\n",
    "\n",
    "![{plot3_text}]({plot3_fname})\n",
    "\"\"\"\n",
    "\n",
    "overall_results_plots_md: str = OVERALL_RESULTS_PLOTS_MD.format(plot1_text=ERROR_RATES_PLOT_TEXT, \n",
    "                                                                plot1_fname=ERROR_RATES_PLOT_FNAME,\n",
    "                                                                plot2_text=TOKENS_VS_LATENCY_PLOT_TEXT, \n",
    "                                                                plot2_fname=TOKENS_VS_LATENCY_PLOT_FNAME,\n",
    "                                                                plot3_text=CONCURRENCY_VS_INFERENCE_LATENCY_PLOT_TEXT, \n",
    "                                                                plot3_fname=CONCURRENCY_VS_INFERENCE_LATENCY_PLOT_FNAME)\n",
    "\n",
    "overall_results_md += overall_results_plots_md\n",
    "\n",
    "\n",
    "fpath: str = os.path.join(METRICS_DIR, RESULTS_DESC_MD_FNAME)\n",
    "logger.info(f\"writing final markdown to {fpath}\")\n",
    "Path(fpath).write_text(overall_results_md)\n",
    "logger.info(overall_results_md)\n",
    "\n",
    "\n",
    "# Write the CSV data to S3\n",
    "write_to_s3(overall_results_md, BUCKET_NAME, \"\", METRICS_DIR, RESULTS_DESC_MD_FNAME)\n",
    "logger.info(f\"Results.md file saved to to s3://{BUCKET_NAME}/{METRICS_DIR}/{RESULTS_DESC_MD_FNAME}\")"
   ]
  },
  {
   "cell_type": "code",
   "execution_count": null,
   "metadata": {},
   "outputs": [],
   "source": []
  },
  {
   "cell_type": "code",
   "execution_count": null,
   "metadata": {},
   "outputs": [],
   "source": []
  },
  {
   "cell_type": "code",
   "execution_count": null,
   "metadata": {},
   "outputs": [],
   "source": []
  }
 ],
 "metadata": {
  "availableInstances": [
   {
    "_defaultOrder": 0,
    "_isFastLaunch": true,
    "category": "General purpose",
    "gpuNum": 0,
    "hideHardwareSpecs": false,
    "memoryGiB": 4,
    "name": "ml.t3.medium",
    "vcpuNum": 2
   },
   {
    "_defaultOrder": 1,
    "_isFastLaunch": false,
    "category": "General purpose",
    "gpuNum": 0,
    "hideHardwareSpecs": false,
    "memoryGiB": 8,
    "name": "ml.t3.large",
    "vcpuNum": 2
   },
   {
    "_defaultOrder": 2,
    "_isFastLaunch": false,
    "category": "General purpose",
    "gpuNum": 0,
    "hideHardwareSpecs": false,
    "memoryGiB": 16,
    "name": "ml.t3.xlarge",
    "vcpuNum": 4
   },
   {
    "_defaultOrder": 3,
    "_isFastLaunch": false,
    "category": "General purpose",
    "gpuNum": 0,
    "hideHardwareSpecs": false,
    "memoryGiB": 32,
    "name": "ml.t3.2xlarge",
    "vcpuNum": 8
   },
   {
    "_defaultOrder": 4,
    "_isFastLaunch": true,
    "category": "General purpose",
    "gpuNum": 0,
    "hideHardwareSpecs": false,
    "memoryGiB": 8,
    "name": "ml.m5.large",
    "vcpuNum": 2
   },
   {
    "_defaultOrder": 5,
    "_isFastLaunch": false,
    "category": "General purpose",
    "gpuNum": 0,
    "hideHardwareSpecs": false,
    "memoryGiB": 16,
    "name": "ml.m5.xlarge",
    "vcpuNum": 4
   },
   {
    "_defaultOrder": 6,
    "_isFastLaunch": false,
    "category": "General purpose",
    "gpuNum": 0,
    "hideHardwareSpecs": false,
    "memoryGiB": 32,
    "name": "ml.m5.2xlarge",
    "vcpuNum": 8
   },
   {
    "_defaultOrder": 7,
    "_isFastLaunch": false,
    "category": "General purpose",
    "gpuNum": 0,
    "hideHardwareSpecs": false,
    "memoryGiB": 64,
    "name": "ml.m5.4xlarge",
    "vcpuNum": 16
   },
   {
    "_defaultOrder": 8,
    "_isFastLaunch": false,
    "category": "General purpose",
    "gpuNum": 0,
    "hideHardwareSpecs": false,
    "memoryGiB": 128,
    "name": "ml.m5.8xlarge",
    "vcpuNum": 32
   },
   {
    "_defaultOrder": 9,
    "_isFastLaunch": false,
    "category": "General purpose",
    "gpuNum": 0,
    "hideHardwareSpecs": false,
    "memoryGiB": 192,
    "name": "ml.m5.12xlarge",
    "vcpuNum": 48
   },
   {
    "_defaultOrder": 10,
    "_isFastLaunch": false,
    "category": "General purpose",
    "gpuNum": 0,
    "hideHardwareSpecs": false,
    "memoryGiB": 256,
    "name": "ml.m5.16xlarge",
    "vcpuNum": 64
   },
   {
    "_defaultOrder": 11,
    "_isFastLaunch": false,
    "category": "General purpose",
    "gpuNum": 0,
    "hideHardwareSpecs": false,
    "memoryGiB": 384,
    "name": "ml.m5.24xlarge",
    "vcpuNum": 96
   },
   {
    "_defaultOrder": 12,
    "_isFastLaunch": false,
    "category": "General purpose",
    "gpuNum": 0,
    "hideHardwareSpecs": false,
    "memoryGiB": 8,
    "name": "ml.m5d.large",
    "vcpuNum": 2
   },
   {
    "_defaultOrder": 13,
    "_isFastLaunch": false,
    "category": "General purpose",
    "gpuNum": 0,
    "hideHardwareSpecs": false,
    "memoryGiB": 16,
    "name": "ml.m5d.xlarge",
    "vcpuNum": 4
   },
   {
    "_defaultOrder": 14,
    "_isFastLaunch": false,
    "category": "General purpose",
    "gpuNum": 0,
    "hideHardwareSpecs": false,
    "memoryGiB": 32,
    "name": "ml.m5d.2xlarge",
    "vcpuNum": 8
   },
   {
    "_defaultOrder": 15,
    "_isFastLaunch": false,
    "category": "General purpose",
    "gpuNum": 0,
    "hideHardwareSpecs": false,
    "memoryGiB": 64,
    "name": "ml.m5d.4xlarge",
    "vcpuNum": 16
   },
   {
    "_defaultOrder": 16,
    "_isFastLaunch": false,
    "category": "General purpose",
    "gpuNum": 0,
    "hideHardwareSpecs": false,
    "memoryGiB": 128,
    "name": "ml.m5d.8xlarge",
    "vcpuNum": 32
   },
   {
    "_defaultOrder": 17,
    "_isFastLaunch": false,
    "category": "General purpose",
    "gpuNum": 0,
    "hideHardwareSpecs": false,
    "memoryGiB": 192,
    "name": "ml.m5d.12xlarge",
    "vcpuNum": 48
   },
   {
    "_defaultOrder": 18,
    "_isFastLaunch": false,
    "category": "General purpose",
    "gpuNum": 0,
    "hideHardwareSpecs": false,
    "memoryGiB": 256,
    "name": "ml.m5d.16xlarge",
    "vcpuNum": 64
   },
   {
    "_defaultOrder": 19,
    "_isFastLaunch": false,
    "category": "General purpose",
    "gpuNum": 0,
    "hideHardwareSpecs": false,
    "memoryGiB": 384,
    "name": "ml.m5d.24xlarge",
    "vcpuNum": 96
   },
   {
    "_defaultOrder": 20,
    "_isFastLaunch": false,
    "category": "General purpose",
    "gpuNum": 0,
    "hideHardwareSpecs": true,
    "memoryGiB": 0,
    "name": "ml.geospatial.interactive",
    "supportedImageNames": [
     "sagemaker-geospatial-v1-0"
    ],
    "vcpuNum": 0
   },
   {
    "_defaultOrder": 21,
    "_isFastLaunch": true,
    "category": "Compute optimized",
    "gpuNum": 0,
    "hideHardwareSpecs": false,
    "memoryGiB": 4,
    "name": "ml.c5.large",
    "vcpuNum": 2
   },
   {
    "_defaultOrder": 22,
    "_isFastLaunch": false,
    "category": "Compute optimized",
    "gpuNum": 0,
    "hideHardwareSpecs": false,
    "memoryGiB": 8,
    "name": "ml.c5.xlarge",
    "vcpuNum": 4
   },
   {
    "_defaultOrder": 23,
    "_isFastLaunch": false,
    "category": "Compute optimized",
    "gpuNum": 0,
    "hideHardwareSpecs": false,
    "memoryGiB": 16,
    "name": "ml.c5.2xlarge",
    "vcpuNum": 8
   },
   {
    "_defaultOrder": 24,
    "_isFastLaunch": false,
    "category": "Compute optimized",
    "gpuNum": 0,
    "hideHardwareSpecs": false,
    "memoryGiB": 32,
    "name": "ml.c5.4xlarge",
    "vcpuNum": 16
   },
   {
    "_defaultOrder": 25,
    "_isFastLaunch": false,
    "category": "Compute optimized",
    "gpuNum": 0,
    "hideHardwareSpecs": false,
    "memoryGiB": 72,
    "name": "ml.c5.9xlarge",
    "vcpuNum": 36
   },
   {
    "_defaultOrder": 26,
    "_isFastLaunch": false,
    "category": "Compute optimized",
    "gpuNum": 0,
    "hideHardwareSpecs": false,
    "memoryGiB": 96,
    "name": "ml.c5.12xlarge",
    "vcpuNum": 48
   },
   {
    "_defaultOrder": 27,
    "_isFastLaunch": false,
    "category": "Compute optimized",
    "gpuNum": 0,
    "hideHardwareSpecs": false,
    "memoryGiB": 144,
    "name": "ml.c5.18xlarge",
    "vcpuNum": 72
   },
   {
    "_defaultOrder": 28,
    "_isFastLaunch": false,
    "category": "Compute optimized",
    "gpuNum": 0,
    "hideHardwareSpecs": false,
    "memoryGiB": 192,
    "name": "ml.c5.24xlarge",
    "vcpuNum": 96
   },
   {
    "_defaultOrder": 29,
    "_isFastLaunch": true,
    "category": "Accelerated computing",
    "gpuNum": 1,
    "hideHardwareSpecs": false,
    "memoryGiB": 16,
    "name": "ml.g4dn.xlarge",
    "vcpuNum": 4
   },
   {
    "_defaultOrder": 30,
    "_isFastLaunch": false,
    "category": "Accelerated computing",
    "gpuNum": 1,
    "hideHardwareSpecs": false,
    "memoryGiB": 32,
    "name": "ml.g4dn.2xlarge",
    "vcpuNum": 8
   },
   {
    "_defaultOrder": 31,
    "_isFastLaunch": false,
    "category": "Accelerated computing",
    "gpuNum": 1,
    "hideHardwareSpecs": false,
    "memoryGiB": 64,
    "name": "ml.g4dn.4xlarge",
    "vcpuNum": 16
   },
   {
    "_defaultOrder": 32,
    "_isFastLaunch": false,
    "category": "Accelerated computing",
    "gpuNum": 1,
    "hideHardwareSpecs": false,
    "memoryGiB": 128,
    "name": "ml.g4dn.8xlarge",
    "vcpuNum": 32
   },
   {
    "_defaultOrder": 33,
    "_isFastLaunch": false,
    "category": "Accelerated computing",
    "gpuNum": 4,
    "hideHardwareSpecs": false,
    "memoryGiB": 192,
    "name": "ml.g4dn.12xlarge",
    "vcpuNum": 48
   },
   {
    "_defaultOrder": 34,
    "_isFastLaunch": false,
    "category": "Accelerated computing",
    "gpuNum": 1,
    "hideHardwareSpecs": false,
    "memoryGiB": 256,
    "name": "ml.g4dn.16xlarge",
    "vcpuNum": 64
   },
   {
    "_defaultOrder": 35,
    "_isFastLaunch": false,
    "category": "Accelerated computing",
    "gpuNum": 1,
    "hideHardwareSpecs": false,
    "memoryGiB": 61,
    "name": "ml.p3.2xlarge",
    "vcpuNum": 8
   },
   {
    "_defaultOrder": 36,
    "_isFastLaunch": false,
    "category": "Accelerated computing",
    "gpuNum": 4,
    "hideHardwareSpecs": false,
    "memoryGiB": 244,
    "name": "ml.p3.8xlarge",
    "vcpuNum": 32
   },
   {
    "_defaultOrder": 37,
    "_isFastLaunch": false,
    "category": "Accelerated computing",
    "gpuNum": 8,
    "hideHardwareSpecs": false,
    "memoryGiB": 488,
    "name": "ml.p3.16xlarge",
    "vcpuNum": 64
   },
   {
    "_defaultOrder": 38,
    "_isFastLaunch": false,
    "category": "Accelerated computing",
    "gpuNum": 8,
    "hideHardwareSpecs": false,
    "memoryGiB": 768,
    "name": "ml.p3dn.24xlarge",
    "vcpuNum": 96
   },
   {
    "_defaultOrder": 39,
    "_isFastLaunch": false,
    "category": "Memory Optimized",
    "gpuNum": 0,
    "hideHardwareSpecs": false,
    "memoryGiB": 16,
    "name": "ml.r5.large",
    "vcpuNum": 2
   },
   {
    "_defaultOrder": 40,
    "_isFastLaunch": false,
    "category": "Memory Optimized",
    "gpuNum": 0,
    "hideHardwareSpecs": false,
    "memoryGiB": 32,
    "name": "ml.r5.xlarge",
    "vcpuNum": 4
   },
   {
    "_defaultOrder": 41,
    "_isFastLaunch": false,
    "category": "Memory Optimized",
    "gpuNum": 0,
    "hideHardwareSpecs": false,
    "memoryGiB": 64,
    "name": "ml.r5.2xlarge",
    "vcpuNum": 8
   },
   {
    "_defaultOrder": 42,
    "_isFastLaunch": false,
    "category": "Memory Optimized",
    "gpuNum": 0,
    "hideHardwareSpecs": false,
    "memoryGiB": 128,
    "name": "ml.r5.4xlarge",
    "vcpuNum": 16
   },
   {
    "_defaultOrder": 43,
    "_isFastLaunch": false,
    "category": "Memory Optimized",
    "gpuNum": 0,
    "hideHardwareSpecs": false,
    "memoryGiB": 256,
    "name": "ml.r5.8xlarge",
    "vcpuNum": 32
   },
   {
    "_defaultOrder": 44,
    "_isFastLaunch": false,
    "category": "Memory Optimized",
    "gpuNum": 0,
    "hideHardwareSpecs": false,
    "memoryGiB": 384,
    "name": "ml.r5.12xlarge",
    "vcpuNum": 48
   },
   {
    "_defaultOrder": 45,
    "_isFastLaunch": false,
    "category": "Memory Optimized",
    "gpuNum": 0,
    "hideHardwareSpecs": false,
    "memoryGiB": 512,
    "name": "ml.r5.16xlarge",
    "vcpuNum": 64
   },
   {
    "_defaultOrder": 46,
    "_isFastLaunch": false,
    "category": "Memory Optimized",
    "gpuNum": 0,
    "hideHardwareSpecs": false,
    "memoryGiB": 768,
    "name": "ml.r5.24xlarge",
    "vcpuNum": 96
   },
   {
    "_defaultOrder": 47,
    "_isFastLaunch": false,
    "category": "Accelerated computing",
    "gpuNum": 1,
    "hideHardwareSpecs": false,
    "memoryGiB": 16,
    "name": "ml.g5.xlarge",
    "vcpuNum": 4
   },
   {
    "_defaultOrder": 48,
    "_isFastLaunch": false,
    "category": "Accelerated computing",
    "gpuNum": 1,
    "hideHardwareSpecs": false,
    "memoryGiB": 32,
    "name": "ml.g5.2xlarge",
    "vcpuNum": 8
   },
   {
    "_defaultOrder": 49,
    "_isFastLaunch": false,
    "category": "Accelerated computing",
    "gpuNum": 1,
    "hideHardwareSpecs": false,
    "memoryGiB": 64,
    "name": "ml.g5.4xlarge",
    "vcpuNum": 16
   },
   {
    "_defaultOrder": 50,
    "_isFastLaunch": false,
    "category": "Accelerated computing",
    "gpuNum": 1,
    "hideHardwareSpecs": false,
    "memoryGiB": 128,
    "name": "ml.g5.8xlarge",
    "vcpuNum": 32
   },
   {
    "_defaultOrder": 51,
    "_isFastLaunch": false,
    "category": "Accelerated computing",
    "gpuNum": 1,
    "hideHardwareSpecs": false,
    "memoryGiB": 256,
    "name": "ml.g5.16xlarge",
    "vcpuNum": 64
   },
   {
    "_defaultOrder": 52,
    "_isFastLaunch": false,
    "category": "Accelerated computing",
    "gpuNum": 4,
    "hideHardwareSpecs": false,
    "memoryGiB": 192,
    "name": "ml.g5.12xlarge",
    "vcpuNum": 48
   },
   {
    "_defaultOrder": 53,
    "_isFastLaunch": false,
    "category": "Accelerated computing",
    "gpuNum": 4,
    "hideHardwareSpecs": false,
    "memoryGiB": 384,
    "name": "ml.g5.24xlarge",
    "vcpuNum": 96
   },
   {
    "_defaultOrder": 54,
    "_isFastLaunch": false,
    "category": "Accelerated computing",
    "gpuNum": 8,
    "hideHardwareSpecs": false,
    "memoryGiB": 768,
    "name": "ml.g5.48xlarge",
    "vcpuNum": 192
   },
   {
    "_defaultOrder": 55,
    "_isFastLaunch": false,
    "category": "Accelerated computing",
    "gpuNum": 8,
    "hideHardwareSpecs": false,
    "memoryGiB": 1152,
    "name": "ml.p4d.24xlarge",
    "vcpuNum": 96
   },
   {
    "_defaultOrder": 56,
    "_isFastLaunch": false,
    "category": "Accelerated computing",
    "gpuNum": 8,
    "hideHardwareSpecs": false,
    "memoryGiB": 1152,
    "name": "ml.p4de.24xlarge",
    "vcpuNum": 96
   },
   {
    "_defaultOrder": 57,
    "_isFastLaunch": false,
    "category": "Accelerated computing",
    "gpuNum": 0,
    "hideHardwareSpecs": false,
    "memoryGiB": 32,
    "name": "ml.trn1.2xlarge",
    "vcpuNum": 8
   },
   {
    "_defaultOrder": 58,
    "_isFastLaunch": false,
    "category": "Accelerated computing",
    "gpuNum": 0,
    "hideHardwareSpecs": false,
    "memoryGiB": 512,
    "name": "ml.trn1.32xlarge",
    "vcpuNum": 128
   },
   {
    "_defaultOrder": 59,
    "_isFastLaunch": false,
    "category": "Accelerated computing",
    "gpuNum": 0,
    "hideHardwareSpecs": false,
    "memoryGiB": 512,
    "name": "ml.trn1n.32xlarge",
    "vcpuNum": 128
   }
  ],
  "instance_type": "ml.c5.large",
  "kernelspec": {
   "display_name": "Python 3",
   "language": "python",
   "name": "python3"
  },
  "language_info": {
   "codemirror_mode": {
    "name": "ipython",
    "version": 3
   },
   "file_extension": ".py",
   "mimetype": "text/x-python",
   "name": "python",
   "nbconvert_exporter": "python",
   "pygments_lexer": "ipython3",
   "version": "3.11.7"
  }
 },
 "nbformat": 4,
 "nbformat_minor": 4
}
