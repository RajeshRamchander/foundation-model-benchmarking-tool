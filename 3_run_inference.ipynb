{
 "cells": [
  {
   "cell_type": "markdown",
   "metadata": {},
   "source": [
    "## Run Inference on all deployed endpoints: Various combinations of payloads, concurrency levels, model configurations\n",
    "---------------------\n",
    "*This notebook works best with the conda_python3 kernel on a ml.t3.medium machine*.\n",
    "\n",
    "#### This step of our solution design includes running inferences on all deployed model endpoints (with different configurations, concurrency levels and payload sizes). This notebook runs inferences in a manner that is calls endpoints concurrently and asychronously to generate responses and record metrics. Here are some of the key components:\n",
    "\n",
    "- **Accessing the deployed endpoints**, creating a predictor object for these endpoints to call them during inference time.\n",
    "\n",
    "- **Functions to define metrics**: This notebook sets stage for metrics to be recorded during the time of invocation of all these models for benchmarking purposes.\n",
    "\n",
    "- **Running Actual Inferences**: Once the metrics are defined, we set a blocker function that is responsible for creating inference on a single payload called get_inference. We then run a series of asynchronous functions that can be viewed in the code (link above), to create asychronous inferefences on the deployed models. The way we send requests are by creating combinations: this means creating combinations of payloads of different sizes that can be viewed in the config.yml file, with different concurrency levels (in this case we first go through all patches of payloads with a concurrency level of 1, then 2, and then 4). You can set this to your desired value."
   ]
  },
  {
   "cell_type": "code",
   "execution_count": 1,
   "metadata": {
    "tags": []
   },
   "outputs": [],
   "source": [
    "## auto reload all of the changes made in the config/globals.py file \n",
    "%load_ext autoreload\n",
    "%autoreload 2"
   ]
  },
  {
   "cell_type": "markdown",
   "metadata": {},
   "source": [
    "### Import all of the necessary libraries below to run this notebook"
   ]
  },
  {
   "cell_type": "code",
   "execution_count": 2,
   "metadata": {
    "tags": []
   },
   "outputs": [
    {
     "name": "stdout",
     "output_type": "stream",
     "text": [
      "sagemaker.config INFO - Not applying SDK defaults from location: /opt/homebrew/share/sagemaker/config.yaml\n",
      "sagemaker.config INFO - Not applying SDK defaults from location: /Users/madhurpt/Library/Application Support/sagemaker/config.yaml\n",
      "CONFIG_FILE=configs/config-llama2-70b-g5-p4d-trt.yml\n"
     ]
    }
   ],
   "source": [
    "import glob\n",
    "import time\n",
    "import json\n",
    "import io\n",
    "import copy\n",
    "import boto3\n",
    "import asyncio\n",
    "import logging\n",
    "import itertools\n",
    "import sagemaker\n",
    "import pandas as pd\n",
    "from globals import *\n",
    "from datetime import datetime\n",
    "from transformers import AutoTokenizer\n",
    "from sagemaker.predictor import Predictor\n",
    "from utils import load_config, count_tokens, write_to_s3, read_from_s3\n",
    "from sagemaker.serializers import JSONSerializer\n",
    "from typing import Dict, List, Optional, Tuple, Union"
   ]
  },
  {
   "cell_type": "markdown",
   "metadata": {},
   "source": [
    "#### Pygmentize globals.py to view and use any of the globally initialized variables "
   ]
  },
  {
   "cell_type": "code",
   "execution_count": 3,
   "metadata": {
    "tags": []
   },
   "outputs": [
    {
     "name": "stdout",
     "output_type": "stream",
     "text": [
      "\u001b[34mimport\u001b[39;49;00m \u001b[04m\u001b[36mos\u001b[39;49;00m\u001b[37m\u001b[39;49;00m\n",
      "\u001b[34mimport\u001b[39;49;00m \u001b[04m\u001b[36myaml\u001b[39;49;00m\u001b[37m\u001b[39;49;00m\n",
      "\u001b[34mfrom\u001b[39;49;00m \u001b[04m\u001b[36menum\u001b[39;49;00m \u001b[34mimport\u001b[39;49;00m Enum\u001b[37m\u001b[39;49;00m\n",
      "\u001b[34mfrom\u001b[39;49;00m \u001b[04m\u001b[36mpathlib\u001b[39;49;00m \u001b[34mimport\u001b[39;49;00m Path\u001b[37m\u001b[39;49;00m\n",
      "\u001b[34mimport\u001b[39;49;00m \u001b[04m\u001b[36mboto3\u001b[39;49;00m\u001b[37m\u001b[39;49;00m\n",
      "\u001b[37m\u001b[39;49;00m\n",
      "CONFIG_FILEPATH_FILE: \u001b[36mstr\u001b[39;49;00m = \u001b[33m\"\u001b[39;49;00m\u001b[33mconfig_filepath.txt\u001b[39;49;00m\u001b[33m\"\u001b[39;49;00m\u001b[37m\u001b[39;49;00m\n",
      "\u001b[37m\u001b[39;49;00m\n",
      "\u001b[37m# S3 client initialization\u001b[39;49;00m\u001b[37m\u001b[39;49;00m\n",
      "s3_client = boto3.client(\u001b[33m'\u001b[39;49;00m\u001b[33ms3\u001b[39;49;00m\u001b[33m'\u001b[39;49;00m)\u001b[37m\u001b[39;49;00m\n",
      "\u001b[37m\u001b[39;49;00m\n",
      "CONFIG_FILE: \u001b[36mstr\u001b[39;49;00m = Path(CONFIG_FILEPATH_FILE).read_text()\u001b[37m\u001b[39;49;00m\n",
      "\u001b[36mprint\u001b[39;49;00m(\u001b[33mf\u001b[39;49;00m\u001b[33m\"\u001b[39;49;00m\u001b[33mCONFIG_FILE=\u001b[39;49;00m\u001b[33m{\u001b[39;49;00mCONFIG_FILE\u001b[33m}\u001b[39;49;00m\u001b[33m\"\u001b[39;49;00m)\u001b[37m\u001b[39;49;00m\n",
      "\u001b[34mwith\u001b[39;49;00m \u001b[36mopen\u001b[39;49;00m(CONFIG_FILE, \u001b[33m'\u001b[39;49;00m\u001b[33mr\u001b[39;49;00m\u001b[33m'\u001b[39;49;00m) \u001b[34mas\u001b[39;49;00m file:\u001b[37m\u001b[39;49;00m\n",
      "    config = yaml.safe_load(file)\u001b[37m\u001b[39;49;00m\n",
      "\u001b[37m\u001b[39;49;00m\n",
      "DATA_DIR: \u001b[36mstr\u001b[39;49;00m = \u001b[33m\"\u001b[39;49;00m\u001b[33mdata\u001b[39;49;00m\u001b[33m\"\u001b[39;49;00m\u001b[37m\u001b[39;49;00m\n",
      "PROMPTS_DIR = os.path.join(DATA_DIR, \u001b[33m\"\u001b[39;49;00m\u001b[33mprompts\u001b[39;49;00m\u001b[33m\"\u001b[39;49;00m)\u001b[37m\u001b[39;49;00m\n",
      "METRICS_DIR = os.path.join(DATA_DIR, \u001b[33m\"\u001b[39;49;00m\u001b[33mmetrics\u001b[39;49;00m\u001b[33m\"\u001b[39;49;00m, config[\u001b[33m'\u001b[39;49;00m\u001b[33mgeneral\u001b[39;49;00m\u001b[33m'\u001b[39;49;00m][\u001b[33m'\u001b[39;49;00m\u001b[33mname\u001b[39;49;00m\u001b[33m'\u001b[39;49;00m])\u001b[37m\u001b[39;49;00m\n",
      "METRICS_PER_INFERENCE_DIR  = os.path.join(METRICS_DIR, \u001b[33m\"\u001b[39;49;00m\u001b[33mper_inference\u001b[39;49;00m\u001b[33m\"\u001b[39;49;00m)\u001b[37m\u001b[39;49;00m\n",
      "METRICS_PER_CHUNK_DIR  = os.path.join(METRICS_DIR, \u001b[33m\"\u001b[39;49;00m\u001b[33mper_chunk\u001b[39;49;00m\u001b[33m\"\u001b[39;49;00m)\u001b[37m\u001b[39;49;00m\n",
      "\u001b[37m\u001b[39;49;00m\n",
      "\u001b[37m# MODELS_DIR = os.path.join(DATA_DIR, \"models\", config['general']['name'])\u001b[39;49;00m\u001b[37m\u001b[39;49;00m\n",
      "MODELS_DIR = config[\u001b[33m'\u001b[39;49;00m\u001b[33maws\u001b[39;49;00m\u001b[33m'\u001b[39;49;00m][\u001b[33m'\u001b[39;49;00m\u001b[33mprefix\u001b[39;49;00m\u001b[33m'\u001b[39;49;00m] + \u001b[33m\"\u001b[39;49;00m\u001b[33m/models\u001b[39;49;00m\u001b[33m\"\u001b[39;49;00m\u001b[37m\u001b[39;49;00m\n",
      "\u001b[37m\u001b[39;49;00m\n",
      "\u001b[37m## DEFINE THE S3 PATH FOR ENDPOINTS TO READ FROM DURING RUN INFERENCE\u001b[39;49;00m\u001b[37m\u001b[39;49;00m\n",
      "ENDPOINT_S3_PATH = \u001b[33mf\u001b[39;49;00m\u001b[33m\"\u001b[39;49;00m\u001b[33m{\u001b[39;49;00mMODELS_DIR\u001b[33m}\u001b[39;49;00m\u001b[33m/\u001b[39;49;00m\u001b[33m{\u001b[39;49;00mconfig[\u001b[33m'\u001b[39;49;00m\u001b[33mgeneral\u001b[39;49;00m\u001b[33m'\u001b[39;49;00m][\u001b[33m'\u001b[39;49;00m\u001b[33mname\u001b[39;49;00m\u001b[33m'\u001b[39;49;00m]\u001b[33m}\u001b[39;49;00m\u001b[33m/endpoints.json\u001b[39;49;00m\u001b[33m\"\u001b[39;49;00m\u001b[37m\u001b[39;49;00m\n",
      "\u001b[37m\u001b[39;49;00m\n",
      "\u001b[37m## Use this to upload to the s3 bucket (extracted from the config file)\u001b[39;49;00m\u001b[37m\u001b[39;49;00m\n",
      "BUCKET_NAME = config[\u001b[33m'\u001b[39;49;00m\u001b[33maws\u001b[39;49;00m\u001b[33m'\u001b[39;49;00m][\u001b[33m'\u001b[39;49;00m\u001b[33mbucket\u001b[39;49;00m\u001b[33m'\u001b[39;49;00m]\u001b[37m\u001b[39;49;00m\n",
      "\u001b[37m\u001b[39;49;00m\n",
      "\u001b[37m## S3 prefix\u001b[39;49;00m\u001b[37m\u001b[39;49;00m\n",
      "PREFIX_NAME = config[\u001b[33m'\u001b[39;49;00m\u001b[33maws\u001b[39;49;00m\u001b[33m'\u001b[39;49;00m][\u001b[33m'\u001b[39;49;00m\u001b[33mprefix\u001b[39;49;00m\u001b[33m'\u001b[39;49;00m]\u001b[37m\u001b[39;49;00m\n",
      "\u001b[37m\u001b[39;49;00m\n",
      "\u001b[37m## SOURCE data is where your actual data resides in s3\u001b[39;49;00m\u001b[37m\u001b[39;49;00m\n",
      "SOURCE_DATA = config[\u001b[33m'\u001b[39;49;00m\u001b[33maws\u001b[39;49;00m\u001b[33m'\u001b[39;49;00m][\u001b[33m'\u001b[39;49;00m\u001b[33msource_data_bucket_prefix\u001b[39;49;00m\u001b[33m'\u001b[39;49;00m]\u001b[37m\u001b[39;49;00m\n",
      "\u001b[37m\u001b[39;49;00m\n",
      "\u001b[37m## Read the prompt template that the user uploads\u001b[39;49;00m\u001b[37m\u001b[39;49;00m\n",
      "PROMPT_TEMPLATE_S3_PREFIX = config[\u001b[33m'\u001b[39;49;00m\u001b[33maws\u001b[39;49;00m\u001b[33m'\u001b[39;49;00m][\u001b[33m'\u001b[39;49;00m\u001b[33mprompt_template\u001b[39;49;00m\u001b[33m'\u001b[39;49;00m]\u001b[37m\u001b[39;49;00m\n",
      "DATASET_DIR = os.path.join(DATA_DIR, \u001b[33m\"\u001b[39;49;00m\u001b[33mdataset\u001b[39;49;00m\u001b[33m\"\u001b[39;49;00m)\u001b[37m\u001b[39;49;00m\n",
      "SCRIPTS_DIR: \u001b[36mstr\u001b[39;49;00m = \u001b[33m\"\u001b[39;49;00m\u001b[33mscripts\u001b[39;49;00m\u001b[33m\"\u001b[39;49;00m\u001b[37m\u001b[39;49;00m\n",
      "DIR_LIST = [DATA_DIR, PROMPTS_DIR, METRICS_DIR, MODELS_DIR, DATASET_DIR, METRICS_PER_INFERENCE_DIR, METRICS_PER_CHUNK_DIR]\u001b[37m\u001b[39;49;00m\n",
      "\u001b[37m# TOKENIZER_DIR = 'llama2_tokenizer'\u001b[39;49;00m\u001b[37m\u001b[39;49;00m\n",
      "\u001b[37m\u001b[39;49;00m\n",
      "\u001b[37m## this is for custom tokenizers\u001b[39;49;00m\u001b[37m\u001b[39;49;00m\n",
      "TOKENIZER_DIR_S3 = config[\u001b[33m'\u001b[39;49;00m\u001b[33maws\u001b[39;49;00m\u001b[33m'\u001b[39;49;00m][\u001b[33m'\u001b[39;49;00m\u001b[33mcustom_tokenizer\u001b[39;49;00m\u001b[33m'\u001b[39;49;00m]\u001b[37m\u001b[39;49;00m\n",
      "LOCAL_CUSTOM_TOKENIZER = \u001b[33m'\u001b[39;49;00m\u001b[33mcustom_tokenizer\u001b[39;49;00m\u001b[33m'\u001b[39;49;00m\u001b[37m\u001b[39;49;00m\n",
      "\u001b[37m\u001b[39;49;00m\n",
      "DEPLOYMENT_SCRIPT_S3 = config[\u001b[33m'\u001b[39;49;00m\u001b[33maws\u001b[39;49;00m\u001b[33m'\u001b[39;49;00m][\u001b[33m'\u001b[39;49;00m\u001b[33mbring_your_script\u001b[39;49;00m\u001b[33m'\u001b[39;49;00m]\u001b[37m\u001b[39;49;00m\n",
      "\u001b[37m\u001b[39;49;00m\n",
      "_ = \u001b[36mlist\u001b[39;49;00m(\u001b[36mmap\u001b[39;49;00m(\u001b[34mlambda\u001b[39;49;00m x: os.makedirs(x, exist_ok=\u001b[34mTrue\u001b[39;49;00m), DIR_LIST))\u001b[37m\u001b[39;49;00m\n",
      "\u001b[37m\u001b[39;49;00m\n",
      "ENDPOINT_LIST_FPATH:\u001b[36mstr\u001b[39;49;00m = os.path.join(MODELS_DIR, \u001b[33m\"\u001b[39;49;00m\u001b[33mendpoints.json\u001b[39;49;00m\u001b[33m\"\u001b[39;49;00m)\u001b[37m\u001b[39;49;00m\n",
      "REQUEST_PAYLOAD_FPATH:\u001b[36mstr\u001b[39;49;00m = os.path.join(PROMPTS_DIR, \u001b[33m\"\u001b[39;49;00m\u001b[33mpayload.jsonl\u001b[39;49;00m\u001b[33m\"\u001b[39;49;00m)\u001b[37m\u001b[39;49;00m\n",
      "RESULTS_FPATH:\u001b[36mstr\u001b[39;49;00m = os.path.join(METRICS_DIR, \u001b[33m\"\u001b[39;49;00m\u001b[33mresults.csv\u001b[39;49;00m\u001b[33m\"\u001b[39;49;00m)\u001b[37m\u001b[39;49;00m\n",
      "\u001b[34mclass\u001b[39;49;00m \u001b[04m\u001b[32mTRUNCATE_POLICY\u001b[39;49;00m(\u001b[36mstr\u001b[39;49;00m, Enum):\u001b[37m\u001b[39;49;00m\n",
      "    AT_PROMPT_TOKEN_LENGTH = \u001b[33m'\u001b[39;49;00m\u001b[33mat-prompt-token-length\u001b[39;49;00m\u001b[33m'\u001b[39;49;00m\u001b[37m\u001b[39;49;00m\n",
      "\u001b[37m\u001b[39;49;00m\n",
      "\u001b[37m# misc. metrics related\u001b[39;49;00m\u001b[37m\u001b[39;49;00m\n",
      "PLACE_HOLDER: \u001b[36mint\u001b[39;49;00m = -\u001b[34m1705338041\u001b[39;49;00m\u001b[37m\u001b[39;49;00m\n",
      "\u001b[37m\u001b[39;49;00m\n",
      "\u001b[37m# metric filenames\u001b[39;49;00m\u001b[37m\u001b[39;49;00m\n",
      "COUNTS_FNAME: \u001b[36mstr\u001b[39;49;00m = \u001b[33m\"\u001b[39;49;00m\u001b[33mexperiment_counts.csv\u001b[39;49;00m\u001b[33m\"\u001b[39;49;00m\u001b[37m\u001b[39;49;00m\n",
      "ERROR_RATES_FNAME: \u001b[36mstr\u001b[39;49;00m = \u001b[33m\"\u001b[39;49;00m\u001b[33merror_rates.csv\u001b[39;49;00m\u001b[33m\"\u001b[39;49;00m\u001b[37m\u001b[39;49;00m\n",
      "RESULTS_DESC_MD_FNAME: \u001b[36mstr\u001b[39;49;00m = \u001b[33m\"\u001b[39;49;00m\u001b[33mresults.md\u001b[39;49;00m\u001b[33m\"\u001b[39;49;00m\u001b[37m\u001b[39;49;00m\n",
      "SUMMARY_METRICS_W_PRICING_FNAME: \u001b[36mstr\u001b[39;49;00m = \u001b[33m\"\u001b[39;49;00m\u001b[33msummary_metrics_w_pricing.csv\u001b[39;49;00m\u001b[33m\"\u001b[39;49;00m\u001b[37m\u001b[39;49;00m\n",
      "INSTANCE_PRICING_PER_HOUR_FNAME: \u001b[36mstr\u001b[39;49;00m = \u001b[33m\"\u001b[39;49;00m\u001b[33minstance_pricing_per_hour.csv\u001b[39;49;00m\u001b[33m\"\u001b[39;49;00m\u001b[37m\u001b[39;49;00m\n",
      "SUMMARY_METRICS_FOR_DATASET_W_SCORES_FNAME: \u001b[36mstr\u001b[39;49;00m = \u001b[33m\"\u001b[39;49;00m\u001b[33msummary_metrics_for_dataset_w_scores.csv\u001b[39;49;00m\u001b[33m\"\u001b[39;49;00m\u001b[37m\u001b[39;49;00m\n",
      "SUMMARY_METRICS_FOR_DATASET_W_SCORES_BEST_OPTION_FNAME: \u001b[36mstr\u001b[39;49;00m = \u001b[33m\"\u001b[39;49;00m\u001b[33msummary_metrics_for_dataset_best_option.csv\u001b[39;49;00m\u001b[33m\"\u001b[39;49;00m\u001b[37m\u001b[39;49;00m\n",
      "SUMMARY_METRICS_FOR_DATASET_W_SCORES_BEST_OPTION_EACH_INSTANCE_TYPE_FNAME: \u001b[36mstr\u001b[39;49;00m = \u001b[33m\"\u001b[39;49;00m\u001b[33msummary_metrics_for_dataset_best_option_each_instance_type.csv\u001b[39;49;00m\u001b[33m\"\u001b[39;49;00m\u001b[37m\u001b[39;49;00m\n",
      "BUSINESS_SUMMARY_PLOT_FNAME: \u001b[36mstr\u001b[39;49;00m = \u001b[33m\"\u001b[39;49;00m\u001b[33mbusiness_summary.png\u001b[39;49;00m\u001b[33m\"\u001b[39;49;00m\u001b[37m\u001b[39;49;00m\n",
      "\u001b[37m\u001b[39;49;00m\n",
      "\u001b[37m# plot filenames\u001b[39;49;00m\u001b[37m\u001b[39;49;00m\n",
      "ERROR_RATES_PLOT_TEXT: \u001b[36mstr\u001b[39;49;00m = \u001b[33m\"\u001b[39;49;00m\u001b[33mError rates for different concurrency levels and instance types\u001b[39;49;00m\u001b[33m\"\u001b[39;49;00m\u001b[37m\u001b[39;49;00m\n",
      "ERROR_RATES_PLOT_FNAME: \u001b[36mstr\u001b[39;49;00m = \u001b[33m\"\u001b[39;49;00m\u001b[33merror_rates.png\u001b[39;49;00m\u001b[33m\"\u001b[39;49;00m\u001b[37m\u001b[39;49;00m\n",
      "TOKENS_VS_LATENCY_PLOT_TEXT: \u001b[36mstr\u001b[39;49;00m = \u001b[33m\"\u001b[39;49;00m\u001b[33mTokens vs latency for different concurrency levels and instance types\u001b[39;49;00m\u001b[33m\"\u001b[39;49;00m\u001b[37m\u001b[39;49;00m\n",
      "TOKENS_VS_LATENCY_PLOT_FNAME: \u001b[36mstr\u001b[39;49;00m = \u001b[33m\"\u001b[39;49;00m\u001b[33mtokens_vs_latency.png\u001b[39;49;00m\u001b[33m\"\u001b[39;49;00m\u001b[37m\u001b[39;49;00m\n",
      "CONCURRENCY_VS_INFERENCE_LATENCY_PLOT_FNAME: \u001b[36mstr\u001b[39;49;00m = \u001b[33m\"\u001b[39;49;00m\u001b[33mconcurrency_vs_inference_latency.png\u001b[39;49;00m\u001b[33m\"\u001b[39;49;00m\u001b[37m\u001b[39;49;00m\n",
      "CONCURRENCY_VS_INFERENCE_LATENCY_PLOT_TEXT: \u001b[36mstr\u001b[39;49;00m = \u001b[33m\"\u001b[39;49;00m\u001b[33mConcurrency Vs latency for different instance type for selected dataset\u001b[39;49;00m\u001b[33m\"\u001b[39;49;00m\u001b[37m\u001b[39;49;00m\n",
      "\u001b[37m\u001b[39;49;00m\n",
      "\u001b[37m\u001b[39;49;00m\n",
      "LATENCY_BUDGET: \u001b[36mint\u001b[39;49;00m = \u001b[34m20\u001b[39;49;00m\u001b[37m\u001b[39;49;00m\n",
      "\u001b[37m\u001b[39;49;00m\n",
      "OVERALL_RESULTS_MD: \u001b[36mstr\u001b[39;49;00m = \u001b[33m\"\"\"\u001b[39;49;00m\u001b[33m\u001b[39;49;00m\n",
      "\u001b[33m# Results for performance benchmarking\u001b[39;49;00m\u001b[33m\u001b[39;49;00m\n",
      "\u001b[33m\u001b[39;49;00m\n",
      "\u001b[33m**Last modified (UTC): \u001b[39;49;00m\u001b[33m{dttm}\u001b[39;49;00m\u001b[33m**\u001b[39;49;00m\u001b[33m\u001b[39;49;00m\n",
      "\u001b[33m\u001b[39;49;00m\n",
      "\u001b[33m## Summary\u001b[39;49;00m\u001b[33m\u001b[39;49;00m\n",
      "\u001b[33m\u001b[39;49;00m\n",
      "\u001b[33m{business_summary}\u001b[39;49;00m\u001b[33m\u001b[39;49;00m\n",
      "\u001b[33m\u001b[39;49;00m\n",
      "\u001b[33m## Per instance results\u001b[39;49;00m\u001b[33m\u001b[39;49;00m\n",
      "\u001b[33m\u001b[39;49;00m\n",
      "\u001b[33mThe following table provides the best combinations for running inference for different sizes prompts on different instance types.\u001b[39;49;00m\u001b[33m\u001b[39;49;00m\n",
      "\u001b[33m|Dataset   | Instance type   | Recommendation   |\u001b[39;49;00m\u001b[33m\u001b[39;49;00m\n",
      "\u001b[33m|---|---|---|\u001b[39;49;00m\u001b[33m\u001b[39;49;00m\n",
      "\u001b[33m\"\"\"\u001b[39;49;00m\u001b[37m\u001b[39;49;00m\n",
      "\u001b[37m\u001b[39;49;00m\n",
      "\u001b[37m## Dataset=`{dataset}`, instance_type=`{instance_type}`\u001b[39;49;00m\u001b[37m\u001b[39;49;00m\n",
      "RESULT_DESC: \u001b[36mstr\u001b[39;49;00m = \u001b[33m\"\"\"\u001b[39;49;00m\u001b[33mThe best option for staying within a latency budget of `\u001b[39;49;00m\u001b[33m{latency_budget}\u001b[39;49;00m\u001b[33m seconds` on a `\u001b[39;49;00m\u001b[33m{instance_type}\u001b[39;49;00m\u001b[33m` for the `\u001b[39;49;00m\u001b[33m{dataset}\u001b[39;49;00m\u001b[33m` dataset is a `concurrency level of \u001b[39;49;00m\u001b[33m{concurrency}\u001b[39;49;00m\u001b[33m`. A concurrency level of \u001b[39;49;00m\u001b[33m{concurrency}\u001b[39;49;00m\u001b[33m achieves an `average latency of \u001b[39;49;00m\u001b[33m{latency_mean}\u001b[39;49;00m\u001b[33m seconds`, for an `average prompt size of \u001b[39;49;00m\u001b[33m{prompt_size}\u001b[39;49;00m\u001b[33m tokens` and `completion size of \u001b[39;49;00m\u001b[33m{completion_size}\u001b[39;49;00m\u001b[33m tokens` with `\u001b[39;49;00m\u001b[33m{tpm}\u001b[39;49;00m\u001b[33m transactions/minute`.\u001b[39;49;00m\u001b[33m\"\"\"\u001b[39;49;00m\u001b[37m\u001b[39;49;00m\n",
      "\u001b[37m\u001b[39;49;00m\n",
      "RESULT_ROW: \u001b[36mstr\u001b[39;49;00m = \u001b[33m\"\u001b[39;49;00m\u001b[33m|`\u001b[39;49;00m\u001b[33m{dataset}\u001b[39;49;00m\u001b[33m`|`\u001b[39;49;00m\u001b[33m{instance_type}\u001b[39;49;00m\u001b[33m`|\u001b[39;49;00m\u001b[33m{desc}\u001b[39;49;00m\u001b[33m|\u001b[39;49;00m\u001b[33m\"\u001b[39;49;00m\u001b[37m\u001b[39;49;00m\n",
      "\u001b[37m\u001b[39;49;00m\n",
      "RESULT_FAILURE_DESC: \u001b[36mstr\u001b[39;49;00m = \u001b[33m\"\"\"\u001b[39;49;00m\u001b[33mThis experiment did not find any combination of concurrency level and other configuration settings that could provide a response within a latency budget of `\u001b[39;49;00m\u001b[33m{latency_budget}\u001b[39;49;00m\u001b[33m seconds` on a `\u001b[39;49;00m\u001b[33m{instance_type}\u001b[39;49;00m\u001b[33m` for the `\u001b[39;49;00m\u001b[33m{dataset}\u001b[39;49;00m\u001b[33m` dataset.\u001b[39;49;00m\u001b[33m\"\"\"\u001b[39;49;00m\u001b[37m\u001b[39;49;00m\n"
     ]
    }
   ],
   "source": [
    "# global constants\n",
    "!pygmentize globals.py"
   ]
  },
  {
   "cell_type": "code",
   "execution_count": 4,
   "metadata": {
    "tags": []
   },
   "outputs": [],
   "source": [
    "logging.basicConfig(format='[%(asctime)s] p%(process)s {%(filename)s:%(lineno)d} %(levelname)s - %(message)s', level=logging.INFO)\n",
    "logger = logging.getLogger(__name__)"
   ]
  },
  {
   "cell_type": "markdown",
   "metadata": {},
   "source": [
    "#### Load the Config.yml file that contains information that is used across this benchmarking environment"
   ]
  },
  {
   "cell_type": "code",
   "execution_count": 5,
   "metadata": {
    "tags": []
   },
   "outputs": [
    {
     "name": "stderr",
     "output_type": "stream",
     "text": [
      "[2024-01-28 12:05:12,820] p75618 {635462509.py:2} INFO - {\n",
      "  \"general\": {\n",
      "    \"name\": \"llama2-70b-g5-p4d-trt-v1\",\n",
      "    \"model_name\": \"Llama2-70b\"\n",
      "  },\n",
      "  \"aws\": {\n",
      "    \"region\": \"us-east-1\",\n",
      "    \"sagemaker_execution_role\": \"arn:aws:iam::015469603702:role/service-role/SageMaker-ExecutionRole-20240111T084686\",\n",
      "    \"bucket\": \"fmbt2039\",\n",
      "    \"prefix\": \"data\",\n",
      "    \"source_data_bucket_prefix\": \"source_data\",\n",
      "    \"prompt_template\": \"prompt_template/prompt_template.txt\",\n",
      "    \"custom_tokenizer\": \"tokenizer\",\n",
      "    \"bring_your_script\": \"byo_script\"\n",
      "  },\n",
      "  \"prompt\": {\n",
      "    \"template_file\": \"prompt_template.txt\",\n",
      "    \"all_prompts_file\": \"all_prompts.csv\"\n",
      "  },\n",
      "  \"datasets\": [\n",
      "    {\n",
      "      \"language\": \"en\",\n",
      "      \"min_length_in_tokens\": 1,\n",
      "      \"max_length_in_tokens\": 500,\n",
      "      \"payload_file\": \"payload_{lang}_{min}-{max}.jsonl\"\n",
      "    },\n",
      "    {\n",
      "      \"language\": \"en\",\n",
      "      \"min_length_in_tokens\": 500,\n",
      "      \"max_length_in_tokens\": 1000,\n",
      "      \"payload_file\": \"payload_{lang}_{min}-{max}.jsonl\"\n",
      "    },\n",
      "    {\n",
      "      \"language\": \"en\",\n",
      "      \"min_length_in_tokens\": 1000,\n",
      "      \"max_length_in_tokens\": 2000,\n",
      "      \"payload_file\": \"payload_{lang}_{min}-{max}.jsonl\"\n",
      "    },\n",
      "    {\n",
      "      \"language\": \"en\",\n",
      "      \"min_length_in_tokens\": 2000,\n",
      "      \"max_length_in_tokens\": 3000,\n",
      "      \"payload_file\": \"payload_{lang}_{min}-{max}.jsonl\"\n",
      "    },\n",
      "    {\n",
      "      \"language\": \"en\",\n",
      "      \"min_length_in_tokens\": 3000,\n",
      "      \"max_length_in_tokens\": 4000,\n",
      "      \"payload_file\": \"payload_{lang}_{min}-{max}.jsonl\"\n",
      "    },\n",
      "    {\n",
      "      \"language\": \"en\",\n",
      "      \"min_length_in_tokens\": 305,\n",
      "      \"max_length_in_tokens\": 3997,\n",
      "      \"payload_file\": \"payload_{lang}_{min}-{max}.jsonl\"\n",
      "    }\n",
      "  ],\n",
      "  \"metrics\": {\n",
      "    \"dataset_of_interest\": \"en_3000-4000\",\n",
      "    \"weights\": {\n",
      "      \"price_per_tx_wt\": 0.65,\n",
      "      \"latenct_wt\": 0.35\n",
      "    }\n",
      "  },\n",
      "  \"pricing\": {\n",
      "    \"ml.g5.12xlarge\": 7.09,\n",
      "    \"ml.g5.24xlarge\": 10.18,\n",
      "    \"ml.g5.48xlarge\": 20.36,\n",
      "    \"ml.inf2.24xlarge\": 7.79,\n",
      "    \"ml.inf2.48xlarge\": 15.58,\n",
      "    \"ml.p4d.24xlarge\": 37.688\n",
      "  },\n",
      "  \"inference_parameters\": {\n",
      "    \"do_sample\": true,\n",
      "    \"temperature\": 0.1,\n",
      "    \"top_p\": 0.92,\n",
      "    \"top_k\": 120,\n",
      "    \"max_new_tokens\": 100,\n",
      "    \"truncate\": \"at-prompt-token-length\"\n",
      "  },\n",
      "  \"experiments\": [\n",
      "    {\n",
      "      \"name\": \"llama2-70b-g5.48xlarge-huggingface-pytorch-tgi-inference-2.0.1-tgi1.1.0\",\n",
      "      \"model_id\": \"meta-textgeneration-llama-2-70b\",\n",
      "      \"model_version\": \"*\",\n",
      "      \"model_name\": \"llama2-70b\",\n",
      "      \"ep_name\": \"llama-2-70b-g5-48xlarge\",\n",
      "      \"instance_type\": \"ml.g5.48xlarge\",\n",
      "      \"image_uri\": \"763104351884.dkr.ecr.us-east-1.amazonaws.com/huggingface-pytorch-tgi-inference:2.0.1-tgi1.1.0-gpu-py39-cu118-ubuntu20.04\",\n",
      "      \"deploy\": true,\n",
      "      \"instance_count\": 1,\n",
      "      \"deployment_script\": \"jumpstart.py\",\n",
      "      \"payload_files\": [\n",
      "        \"payload_en_1-500.jsonl\",\n",
      "        \"payload_en_500-1000.jsonl\",\n",
      "        \"payload_en_1000-2000.jsonl\",\n",
      "        \"payload_en_2000-3000.jsonl\",\n",
      "        \"payload_en_3000-4000.jsonl\"\n",
      "      ],\n",
      "      \"concurrency_levels\": [\n",
      "        1,\n",
      "        2,\n",
      "        4,\n",
      "        6,\n",
      "        8\n",
      "      ],\n",
      "      \"accept_eula\": true,\n",
      "      \"env\": {\n",
      "        \"SAGEMAKER_PROGRAM\": \"inference.py\",\n",
      "        \"ENDPOINT_SERVER_TIMEOUT\": \"3600\",\n",
      "        \"MODEL_CACHE_ROOT\": \"/opt/ml/model\",\n",
      "        \"SAGEMAKER_ENV\": \"1\",\n",
      "        \"HF_MODEL_ID\": \"/opt/ml/model\",\n",
      "        \"MAX_INPUT_LENGTH\": \"4095\",\n",
      "        \"MAX_TOTAL_TOKENS\": \"4096\",\n",
      "        \"SM_NUM_GPUS\": \"8\",\n",
      "        \"SAGEMAKER_MODEL_SERVER_WORKERS\": \"1\"\n",
      "      }\n",
      "    },\n",
      "    {\n",
      "      \"name\": \"llama2-70b-chat-p4d.24xlarge-djl-inference-0.26.0-tensorrtllm0.7.1-cu122\",\n",
      "      \"model_id\": \"meta-llama/Llama-2-70b-hf\",\n",
      "      \"model_version\": \"*\",\n",
      "      \"model_name\": \"llama2-70bdjl\",\n",
      "      \"bucket_name\": \"sagemaker-us-east-1-015469603702\",\n",
      "      \"key_name\": \"hf-large-model-djl/code_llama2\",\n",
      "      \"s3_path\": \"s3://sagemaker-us-east-1-015469603702/llama-2-70B-fp16/lmi/\",\n",
      "      \"ep_name\": \"llama-2-70b-chat-p4d-24xlarge\",\n",
      "      \"instance_type\": \"ml.p4d.24xlarge\",\n",
      "      \"image_uri\": \"763104351884.dkr.ecr.us-east-1.amazonaws.com/djl-inference:0.26.0-tensorrtllm0.7.1-cu122\",\n",
      "      \"deploy\": true,\n",
      "      \"instance_count\": 1,\n",
      "      \"deployment_script\": \"p4d_djl.py\",\n",
      "      \"payload_files\": [\n",
      "        \"payload_en_1-500.jsonl\",\n",
      "        \"payload_en_500-1000.jsonl\",\n",
      "        \"payload_en_1000-2000.jsonl\",\n",
      "        \"payload_en_2000-3000.jsonl\",\n",
      "        \"payload_en_3000-4000.jsonl\"\n",
      "      ],\n",
      "      \"concurrency_levels\": [\n",
      "        1,\n",
      "        2,\n",
      "        4,\n",
      "        6,\n",
      "        8\n",
      "      ],\n",
      "      \"accept_eula\": true,\n",
      "      \"remove_truncate\": true,\n",
      "      \"env\": {\n",
      "        \"MODEL_LOADING_TIMEOUT\": \"3600\",\n",
      "        \"NUMBER_OF_GPU\": \"8\",\n",
      "        \"INSTANCE_COUNT\": \"1\",\n",
      "        \"HEALTH_CHECK_TIMOUT\": \"300\"\n",
      "      }\n",
      "    }\n",
      "  ],\n",
      "  \"results\": {\n",
      "    \"per_inference_request_file\": \"per_inference_request_results.csv\",\n",
      "    \"all_metrics_file\": \"all_metrics.csv\"\n",
      "  }\n",
      "}\n"
     ]
    }
   ],
   "source": [
    "config = load_config(CONFIG_FILE)\n",
    "logger.info(json.dumps(config, indent=2))"
   ]
  },
  {
   "cell_type": "code",
   "execution_count": 6,
   "metadata": {
    "tags": []
   },
   "outputs": [],
   "source": [
    "date_time = datetime.now().strftime(\"%Y-%m-%d-%H-%M-%S\")"
   ]
  },
  {
   "cell_type": "code",
   "execution_count": 7,
   "metadata": {},
   "outputs": [],
   "source": [
    "## getting access to the s3 bucket where endpoints.json for different models resides\n",
    "s3_client = boto3.client('s3')"
   ]
  },
  {
   "cell_type": "markdown",
   "metadata": {},
   "source": [
    "### Access the deployed model endpoints from the endpoints.json file "
   ]
  },
  {
   "cell_type": "code",
   "execution_count": 8,
   "metadata": {
    "tags": []
   },
   "outputs": [
    {
     "name": "stderr",
     "output_type": "stream",
     "text": [
      "[2024-01-28 12:05:13,130] p75618 {1472297992.py:2} INFO - endpoint from --> s3://fmbt2039/data/models/llama2-70b-g5-p4d-trt-v1/endpoints.json\n",
      "[2024-01-28 12:05:13,130] p75618 {1472297992.py:8} INFO - Found information for 2 endpoints in the respective S3 path\n",
      "[2024-01-28 12:05:13,131] p75618 {1472297992.py:9} INFO - [\n",
      "  {\n",
      "    \"experiment_name\": \"llama2-70b-g5.48xlarge-huggingface-pytorch-tgi-inference-2.0.1-tgi1.1.0\",\n",
      "    \"endpoint\": {\n",
      "      \"EndpointName\": \"llama-2-70b-g5-48xlarge-1706460294\",\n",
      "      \"EndpointArn\": \"arn:aws:sagemaker:us-east-1:015469603702:endpoint/llama-2-70b-g5-48xlarge-1706460294\",\n",
      "      \"EndpointConfigName\": \"llama-2-70b-g5-48xlarge-1706460294\",\n",
      "      \"ProductionVariants\": [\n",
      "        {\n",
      "          \"VariantName\": \"AllTraffic\",\n",
      "          \"DeployedImages\": [\n",
      "            {\n",
      "              \"SpecifiedImage\": \"763104351884.dkr.ecr.us-east-1.amazonaws.com/huggingface-pytorch-tgi-inference:2.0.1-tgi1.1.0-gpu-py39-cu118-ubuntu20.04\",\n",
      "              \"ResolvedImage\": \"763104351884.dkr.ecr.us-east-1.amazonaws.com/huggingface-pytorch-tgi-inference@sha256:2739b630b95d8a95e6b4665e66d8243dd43b99c4fdb865feff13aab9c1da06eb\",\n",
      "              \"ResolutionTime\": \"2024-01-28 11:44:56.908000-05:00\"\n",
      "            }\n",
      "          ],\n",
      "          \"CurrentWeight\": 1.0,\n",
      "          \"DesiredWeight\": 1.0,\n",
      "          \"CurrentInstanceCount\": 1,\n",
      "          \"DesiredInstanceCount\": 1\n",
      "        }\n",
      "      ],\n",
      "      \"EndpointStatus\": \"InService\",\n",
      "      \"CreationTime\": \"2024-01-28 11:44:56.168000-05:00\",\n",
      "      \"LastModifiedTime\": \"2024-01-28 11:50:54.613000-05:00\",\n",
      "      \"ResponseMetadata\": {\n",
      "        \"RequestId\": \"e43e05ad-83fe-4408-a3d3-093472df31a2\",\n",
      "        \"HTTPStatusCode\": 200,\n",
      "        \"HTTPHeaders\": {\n",
      "          \"x-amzn-requestid\": \"e43e05ad-83fe-4408-a3d3-093472df31a2\",\n",
      "          \"content-type\": \"application/x-amz-json-1.1\",\n",
      "          \"content-length\": \"815\",\n",
      "          \"date\": \"Sun, 28 Jan 2024 16:56:58 GMT\"\n",
      "        },\n",
      "        \"RetryAttempts\": 0\n",
      "      }\n",
      "    },\n",
      "    \"endpoint_config\": {\n",
      "      \"EndpointConfigName\": \"llama-2-70b-g5-48xlarge-1706460294\",\n",
      "      \"EndpointConfigArn\": \"arn:aws:sagemaker:us-east-1:015469603702:endpoint-config/llama-2-70b-g5-48xlarge-1706460294\",\n",
      "      \"ProductionVariants\": [\n",
      "        {\n",
      "          \"VariantName\": \"AllTraffic\",\n",
      "          \"ModelName\": \"meta-textgeneration-llama-2-70b-2024-01-28-16-44-54-412\",\n",
      "          \"InitialInstanceCount\": 1,\n",
      "          \"InstanceType\": \"ml.g5.48xlarge\",\n",
      "          \"InitialVariantWeight\": 1.0,\n",
      "          \"ModelDataDownloadTimeoutInSeconds\": 1200,\n",
      "          \"ContainerStartupHealthCheckTimeoutInSeconds\": 1200\n",
      "        }\n",
      "      ],\n",
      "      \"CreationTime\": \"2024-01-28 11:44:55.670000-05:00\",\n",
      "      \"EnableNetworkIsolation\": false,\n",
      "      \"ResponseMetadata\": {\n",
      "        \"RequestId\": \"6676f7a3-dfc7-4d6d-bd04-1836fdfc4417\",\n",
      "        \"HTTPStatusCode\": 200,\n",
      "        \"HTTPHeaders\": {\n",
      "          \"x-amzn-requestid\": \"6676f7a3-dfc7-4d6d-bd04-1836fdfc4417\",\n",
      "          \"content-type\": \"application/x-amz-json-1.1\",\n",
      "          \"content-length\": \"533\",\n",
      "          \"date\": \"Sun, 28 Jan 2024 16:56:58 GMT\"\n",
      "        },\n",
      "        \"RetryAttempts\": 0\n",
      "      }\n",
      "    },\n",
      "    \"model_config\": {\n",
      "      \"ModelName\": \"meta-textgeneration-llama-2-70b-2024-01-28-16-44-54-412\",\n",
      "      \"PrimaryContainer\": {\n",
      "        \"Image\": \"763104351884.dkr.ecr.us-east-1.amazonaws.com/huggingface-pytorch-tgi-inference:2.0.1-tgi1.1.0-gpu-py39-cu118-ubuntu20.04\",\n",
      "        \"Mode\": \"SingleModel\",\n",
      "        \"ModelDataSource\": {\n",
      "          \"S3DataSource\": {\n",
      "            \"S3Uri\": \"s3://jumpstart-private-cache-prod-us-east-1/meta-textgeneration/meta-textgeneration-llama-2-70b/artifacts/inference-prepack/v1.0.0/\",\n",
      "            \"S3DataType\": \"S3Prefix\",\n",
      "            \"CompressionType\": \"None\",\n",
      "            \"ModelAccessConfig\": {\n",
      "              \"AcceptEula\": true\n",
      "            }\n",
      "          }\n",
      "        },\n",
      "        \"Environment\": {\n",
      "          \"ENDPOINT_SERVER_TIMEOUT\": \"3600\",\n",
      "          \"HF_MODEL_ID\": \"/opt/ml/model\",\n",
      "          \"MAX_INPUT_LENGTH\": \"4095\",\n",
      "          \"MAX_TOTAL_TOKENS\": \"4096\",\n",
      "          \"MODEL_CACHE_ROOT\": \"/opt/ml/model\",\n",
      "          \"SAGEMAKER_ENV\": \"1\",\n",
      "          \"SAGEMAKER_MODEL_SERVER_WORKERS\": \"1\",\n",
      "          \"SAGEMAKER_PROGRAM\": \"inference.py\",\n",
      "          \"SM_NUM_GPUS\": \"8\"\n",
      "        }\n",
      "      },\n",
      "      \"ExecutionRoleArn\": \"arn:aws:iam::015469603702:role/service-role/SageMaker-ExecutionRole-20240111T084686\",\n",
      "      \"CreationTime\": \"2024-01-28 11:44:55.175000-05:00\",\n",
      "      \"ModelArn\": \"arn:aws:sagemaker:us-east-1:015469603702:model/meta-textgeneration-llama-2-70b-2024-01-28-16-44-54-412\",\n",
      "      \"EnableNetworkIsolation\": true,\n",
      "      \"DeploymentRecommendation\": {\n",
      "        \"RecommendationStatus\": \"COMPLETED\",\n",
      "        \"RealTimeInferenceRecommendations\": []\n",
      "      },\n",
      "      \"ResponseMetadata\": {\n",
      "        \"RequestId\": \"67128f79-1c14-48f6-98f4-27ff4e037662\",\n",
      "        \"HTTPStatusCode\": 200,\n",
      "        \"HTTPHeaders\": {\n",
      "          \"x-amzn-requestid\": \"67128f79-1c14-48f6-98f4-27ff4e037662\",\n",
      "          \"content-type\": \"application/x-amz-json-1.1\",\n",
      "          \"content-length\": \"1173\",\n",
      "          \"date\": \"Sun, 28 Jan 2024 16:56:59 GMT\"\n",
      "        },\n",
      "        \"RetryAttempts\": 0\n",
      "      }\n",
      "    }\n",
      "  },\n",
      "  {\n",
      "    \"experiment_name\": \"llama2-70b-chat-p4d.24xlarge-djl-inference-0.26.0-tensorrtllm0.7.1-cu122\",\n",
      "    \"endpoint\": {\n",
      "      \"EndpointName\": \"llama2-70bdjl-2024-01-28-16-44-54-820-endpoint\",\n",
      "      \"EndpointArn\": \"arn:aws:sagemaker:us-east-1:015469603702:endpoint/llama2-70bdjl-2024-01-28-16-44-54-820-endpoint\",\n",
      "      \"EndpointConfigName\": \"llama2-70bdjl-2024-01-28-16-44-54-820-config\",\n",
      "      \"ProductionVariants\": [\n",
      "        {\n",
      "          \"VariantName\": \"variant1\",\n",
      "          \"DeployedImages\": [\n",
      "            {\n",
      "              \"SpecifiedImage\": \"763104351884.dkr.ecr.us-east-1.amazonaws.com/djl-inference:0.26.0-tensorrtllm0.7.1-cu122\",\n",
      "              \"ResolvedImage\": \"763104351884.dkr.ecr.us-east-1.amazonaws.com/djl-inference@sha256:b38eb2b4ff0b49f65cefb2507c34b2669db86c5e427615c61136642710eda8ad\",\n",
      "              \"ResolutionTime\": \"2024-01-28 11:44:57.177000-05:00\"\n",
      "            }\n",
      "          ],\n",
      "          \"CurrentWeight\": 1.0,\n",
      "          \"DesiredWeight\": 1.0,\n",
      "          \"CurrentInstanceCount\": 1,\n",
      "          \"DesiredInstanceCount\": 1\n",
      "        }\n",
      "      ],\n",
      "      \"EndpointStatus\": \"InService\",\n",
      "      \"CreationTime\": \"2024-01-28 11:44:56.237000-05:00\",\n",
      "      \"LastModifiedTime\": \"2024-01-28 11:56:19.069000-05:00\",\n",
      "      \"ResponseMetadata\": {\n",
      "        \"RequestId\": \"62604717-079d-453c-b05e-60edfcf0ab79\",\n",
      "        \"HTTPStatusCode\": 200,\n",
      "        \"HTTPHeaders\": {\n",
      "          \"x-amzn-requestid\": \"62604717-079d-453c-b05e-60edfcf0ab79\",\n",
      "          \"content-type\": \"application/x-amz-json-1.1\",\n",
      "          \"content-length\": \"795\",\n",
      "          \"date\": \"Sun, 28 Jan 2024 16:56:58 GMT\"\n",
      "        },\n",
      "        \"RetryAttempts\": 0\n",
      "      }\n",
      "    },\n",
      "    \"endpoint_config\": {\n",
      "      \"EndpointConfigName\": \"llama2-70bdjl-2024-01-28-16-44-54-820-config\",\n",
      "      \"EndpointConfigArn\": \"arn:aws:sagemaker:us-east-1:015469603702:endpoint-config/llama2-70bdjl-2024-01-28-16-44-54-820-config\",\n",
      "      \"ProductionVariants\": [\n",
      "        {\n",
      "          \"VariantName\": \"variant1\",\n",
      "          \"ModelName\": \"llama2-70bdjl-2024-01-28-16-44-54-820\",\n",
      "          \"InitialInstanceCount\": 1,\n",
      "          \"InstanceType\": \"ml.p4d.24xlarge\",\n",
      "          \"InitialVariantWeight\": 1.0,\n",
      "          \"ModelDataDownloadTimeoutInSeconds\": 3600,\n",
      "          \"ContainerStartupHealthCheckTimeoutInSeconds\": 3600\n",
      "        }\n",
      "      ],\n",
      "      \"CreationTime\": \"2024-01-28 11:44:55.898000-05:00\",\n",
      "      \"EnableNetworkIsolation\": false,\n",
      "      \"ResponseMetadata\": {\n",
      "        \"RequestId\": \"6f5012d6-175b-43f5-80d5-8e8c2abebd9b\",\n",
      "        \"HTTPStatusCode\": 200,\n",
      "        \"HTTPHeaders\": {\n",
      "          \"x-amzn-requestid\": \"6f5012d6-175b-43f5-80d5-8e8c2abebd9b\",\n",
      "          \"content-type\": \"application/x-amz-json-1.1\",\n",
      "          \"content-length\": \"535\",\n",
      "          \"date\": \"Sun, 28 Jan 2024 16:56:58 GMT\"\n",
      "        },\n",
      "        \"RetryAttempts\": 0\n",
      "      }\n",
      "    },\n",
      "    \"model_config\": {\n",
      "      \"ModelName\": \"llama2-70bdjl-2024-01-28-16-44-54-820\",\n",
      "      \"PrimaryContainer\": {\n",
      "        \"Image\": \"763104351884.dkr.ecr.us-east-1.amazonaws.com/djl-inference:0.26.0-tensorrtllm0.7.1-cu122\",\n",
      "        \"Mode\": \"SingleModel\",\n",
      "        \"ModelDataUrl\": \"s3://sagemaker-us-east-1-015469603702/hf-large-model-djl/code_llama2/model.tar.gz\",\n",
      "        \"ModelDataSource\": {\n",
      "          \"S3DataSource\": {\n",
      "            \"S3Uri\": \"s3://sagemaker-us-east-1-015469603702/hf-large-model-djl/code_llama2/model.tar.gz\",\n",
      "            \"S3DataType\": \"S3Object\",\n",
      "            \"CompressionType\": \"Gzip\"\n",
      "          }\n",
      "        },\n",
      "        \"Environment\": {\n",
      "          \"HEALTH_CHECK_TIMOUT\": \"300\",\n",
      "          \"INSTANCE_COUNT\": \"1\",\n",
      "          \"MODEL_LOADING_TIMEOUT\": \"3600\",\n",
      "          \"NUMBER_OF_GPU\": \"8\"\n",
      "        }\n",
      "      },\n",
      "      \"ExecutionRoleArn\": \"arn:aws:iam::015469603702:role/service-role/SageMaker-ExecutionRole-20240111T084686\",\n",
      "      \"CreationTime\": \"2024-01-28 11:44:55.500000-05:00\",\n",
      "      \"ModelArn\": \"arn:aws:sagemaker:us-east-1:015469603702:model/llama2-70bdjl-2024-01-28-16-44-54-820\",\n",
      "      \"EnableNetworkIsolation\": false,\n",
      "      \"DeploymentRecommendation\": {\n",
      "        \"RecommendationStatus\": \"COMPLETED\",\n",
      "        \"RealTimeInferenceRecommendations\": [\n",
      "          {\n",
      "            \"RecommendationId\": \"llama2-70bdjl-2024-01-28-16-44-54-820/yZ0Hw4Cn\",\n",
      "            \"InstanceType\": \"ml.c6i.large\",\n",
      "            \"Environment\": {}\n",
      "          },\n",
      "          {\n",
      "            \"RecommendationId\": \"llama2-70bdjl-2024-01-28-16-44-54-820/tiwN7ltr\",\n",
      "            \"InstanceType\": \"ml.c6i.xlarge\",\n",
      "            \"Environment\": {}\n",
      "          },\n",
      "          {\n",
      "            \"RecommendationId\": \"llama2-70bdjl-2024-01-28-16-44-54-820/kiRrt6SX\",\n",
      "            \"InstanceType\": \"ml.c6i.2xlarge\",\n",
      "            \"Environment\": {}\n",
      "          }\n",
      "        ]\n",
      "      },\n",
      "      \"ResponseMetadata\": {\n",
      "        \"RequestId\": \"fb0055b1-9ffa-4359-800e-89dd654825cd\",\n",
      "        \"HTTPStatusCode\": 200,\n",
      "        \"HTTPHeaders\": {\n",
      "          \"x-amzn-requestid\": \"fb0055b1-9ffa-4359-800e-89dd654825cd\",\n",
      "          \"content-type\": \"application/x-amz-json-1.1\",\n",
      "          \"content-length\": \"1306\",\n",
      "          \"date\": \"Sun, 28 Jan 2024 16:56:58 GMT\"\n",
      "        },\n",
      "        \"RetryAttempts\": 0\n",
      "      }\n",
      "    }\n",
      "  }\n",
      "]\n"
     ]
    }
   ],
   "source": [
    "endpoint_info_str = read_from_s3(BUCKET_NAME, ENDPOINT_S3_PATH)\n",
    "logger.info(f\"endpoint from --> s3://{BUCKET_NAME}/{ENDPOINT_S3_PATH}\")\n",
    "\n",
    "# Process the retrieved content\n",
    "if endpoint_info_str:\n",
    "    try:\n",
    "        endpoint_info_list = json.loads(endpoint_info_str)\n",
    "        logger.info(f\"Found information for {len(endpoint_info_list)} endpoints in the respective S3 path\")\n",
    "        logger.info(json.dumps(endpoint_info_list, indent=2))\n",
    "    except json.JSONDecodeError as e:\n",
    "        logger.error(f\"Error parsing JSON from S3: {e}\")\n",
    "else:\n",
    "    logger.error(\"Error reading from S3 or no data found\")"
   ]
  },
  {
   "cell_type": "code",
   "execution_count": 9,
   "metadata": {
    "tags": []
   },
   "outputs": [
    {
     "name": "stderr",
     "output_type": "stream",
     "text": [
      "[2024-01-28 12:05:13,161] p75618 {1455142584.py:3} INFO - there are 2 deployed endpoint(s), endpoint_name_list->['llama-2-70b-g5-48xlarge-1706460294', 'llama2-70bdjl-2024-01-28-16-44-54-820-endpoint']\n"
     ]
    }
   ],
   "source": [
    "# List down the endpoint names that have been deployed\n",
    "endpoint_name_list = [e['endpoint']['EndpointName'] for e in endpoint_info_list]\n",
    "logger.info(f\"there are {len(endpoint_name_list)} deployed endpoint(s), endpoint_name_list->{endpoint_name_list}\")"
   ]
  },
  {
   "cell_type": "markdown",
   "metadata": {},
   "source": [
    "### Creating predictor objects from the deployed endpoints"
   ]
  },
  {
   "cell_type": "code",
   "execution_count": 10,
   "metadata": {
    "tags": []
   },
   "outputs": [
    {
     "name": "stderr",
     "output_type": "stream",
     "text": [
      "[2024-01-28 12:05:13,268] p75618 {3970465137.py:15} INFO - [<sagemaker.base_predictor.Predictor object at 0x289b412d0>, <sagemaker.base_predictor.Predictor object at 0x28c3dca10>]\n"
     ]
    }
   ],
   "source": [
    "# create predictor objects\n",
    "\n",
    "## create a sagemaker predictor for these endpoints\n",
    "def create_predictor(endpoint_name: str) -> Optional[sagemaker.base_predictor.Predictor]:\n",
    "    # Create a SageMaker Predictor object\n",
    "    predictor = Predictor(\n",
    "        endpoint_name=endpoint_name,\n",
    "        sagemaker_session=sagemaker.Session(),\n",
    "        serializer=JSONSerializer()\n",
    "    )\n",
    "    return predictor\n",
    "\n",
    "## Display the list of predictor objects that have been deployed ready for inferencing from\n",
    "predictor_list: List = [create_predictor(ep) for ep in endpoint_name_list]\n",
    "logger.info(predictor_list)"
   ]
  },
  {
   "cell_type": "markdown",
   "metadata": {},
   "source": [
    "### Creating functions to define and calculate metrics during the time of invocations"
   ]
  },
  {
   "cell_type": "code",
   "execution_count": 11,
   "metadata": {
    "tags": []
   },
   "outputs": [],
   "source": [
    "def safe_sum(l: List) -> Union[int, float]:\n",
    "    return sum(filter(None, l))\n",
    "\n",
    "def safe_div(n: Union[int, float], d: Union[int, float]) -> Optional[Union[int, float]]:\n",
    "    return n/d if d else None\n",
    "\n",
    "## Represents the function to calculate all of the metrics at the time of inference\n",
    "def calculate_metrics(responses, chunk, elapsed_async, experiment_name, concurrency, payload_file) -> Dict:\n",
    "    \n",
    "    ## calculate errors based on the completion status of the inference prompt\n",
    "    errors = [r for r in responses if r['completion'] is None]\n",
    "    \n",
    "    ## Calculate the difference as the successes \n",
    "    successes = len(chunk) - len(errors)\n",
    "    \n",
    "    ## Count all of the prompts token count during inference\n",
    "    all_prompts_token_count = safe_sum([r['prompt_tokens'] for r in responses])\n",
    "    prompt_token_throughput = round(all_prompts_token_count / elapsed_async, 2)\n",
    "    prompt_token_count_mean = safe_div(all_prompts_token_count, successes)\n",
    "    all_completions_token_count = safe_sum([r['completion_tokens'] for r in responses])\n",
    "    completion_token_throughput = round(all_completions_token_count / elapsed_async, 2)\n",
    "    completion_token_count_mean = safe_div(all_completions_token_count, successes)\n",
    "    transactions_per_second = round(successes / elapsed_async, 2)\n",
    "    transactions_per_minute = int(transactions_per_second * 60)\n",
    "    \n",
    "    ## calculate the latency mean utilizing the safe_sum function defined above\n",
    "    latency_mean = safe_div(safe_sum([r['latency'] for r in responses]), successes)\n",
    "    \n",
    "    ## Function returns all these values at the time of the invocations\n",
    "    return {\n",
    "        'experiment_name': experiment_name,\n",
    "        'concurrency': concurrency,\n",
    "        'payload_file': payload_file,\n",
    "        'errors': errors,\n",
    "        'successes': successes,\n",
    "        'error_rate': len(errors)/len(chunk),\n",
    "        'all_prompts_token_count': all_prompts_token_count,\n",
    "        'prompt_token_count_mean': prompt_token_count_mean,\n",
    "        'prompt_token_throughput': prompt_token_throughput,\n",
    "        'all_completions_token_count': all_completions_token_count,\n",
    "        'completion_token_count_mean': completion_token_count_mean,\n",
    "        'completion_token_throughput': completion_token_throughput,\n",
    "        'transactions': len(chunk),\n",
    "        'transactions_per_second': transactions_per_second,\n",
    "        'transactions_per_minute': transactions_per_minute,\n",
    "        'latency_mean': latency_mean\n",
    "    }"
   ]
  },
  {
   "cell_type": "markdown",
   "metadata": {},
   "source": [
    "### Set a blocker function and a series of asynchronous concurrent model prompt invocations"
   ]
  },
  {
   "cell_type": "code",
   "execution_count": 12,
   "metadata": {
    "tags": []
   },
   "outputs": [],
   "source": [
    "def set_metrics(endpoint_name=None,\n",
    "                    prompt=None,\n",
    "                    inference_params=None,\n",
    "                    completion=None,\n",
    "                    prompt_tokens=None,\n",
    "                    completion_tokens=None,\n",
    "                    latency=None) -> Dict:\n",
    "    return dict(endpoint_name=endpoint_name,                \n",
    "                prompt=prompt,\n",
    "                **inference_params,\n",
    "                completion=completion,\n",
    "                prompt_tokens=prompt_tokens,\n",
    "                completion_tokens=completion_tokens,\n",
    "                latency=latency)\n",
    "\n",
    "def get_inference(predictor, payload) -> Dict:\n",
    "    \n",
    "    smr_client = boto3.client(\"sagemaker-runtime\")\n",
    "    latency = 0\n",
    "\n",
    "    try:\n",
    "        prompt_tokens = count_tokens(payload['inputs'])\n",
    "        logger.info(f\"get_inference, endpoint={predictor.endpoint_name}, prompt_tokens={prompt_tokens}\")\n",
    "\n",
    "        # get inference\n",
    "        st = time.perf_counter()        \n",
    "        response = predictor.predict(payload)        \n",
    "        latency = time.perf_counter() - st\n",
    "\n",
    "        if isinstance(response, bytes):\n",
    "            response = response.decode('utf-8')\n",
    "        response_json = json.loads(response)\n",
    "        if isinstance(response_json, list):\n",
    "            response_json = response_json[0]\n",
    "\n",
    "        completion = response_json.get(\"generated_text\", \"\")\n",
    "        completion_tokens = count_tokens(completion)\n",
    "\n",
    "        # Set metrics and logging for both cases\n",
    "        response = set_metrics(predictor.endpoint_name,\n",
    "                               payload['inputs'],\n",
    "                               payload['parameters'],\n",
    "                               completion,\n",
    "                               prompt_tokens,\n",
    "                               completion_tokens,\n",
    "                               latency)\n",
    "        # logger.info(f\"get_inference, done, endpoint={predictor.endpoint_name}, response={json.dumps(response, indent=2)}, latency={latency:.2f}\")\n",
    "        logger.info(f\"get_inference, done, endpoint={predictor.endpoint_name}, completion_tokens={completion_tokens}, latency={latency:.2f}\")\n",
    "    except Exception as e:\n",
    "        print(f\"error occurred with {predictor.endpoint_name}, exception={str(e)}\")\n",
    "        response = set_metrics(predictor.endpoint_name,\n",
    "                               payload['inputs'],\n",
    "                               payload['parameters'],\n",
    "                               None,\n",
    "                               prompt_tokens,\n",
    "                               None,\n",
    "                               None)\n",
    "\n",
    "    return response"
   ]
  },
  {
   "cell_type": "markdown",
   "metadata": {},
   "source": [
    "### Setting a series of asynchronous functions to invoke and run inferences concurrently and asynchronously"
   ]
  },
  {
   "cell_type": "code",
   "execution_count": 13,
   "metadata": {
    "tags": []
   },
   "outputs": [],
   "source": [
    "## Represents a function to start invoking models in separate thread asynchronously for the blocker function\n",
    "async def async_get_inference(predictor, payload: Dict) -> Dict:\n",
    "    return await asyncio.to_thread(get_inference, predictor, payload)\n",
    "\n",
    "## Gathers all of the tasks and sets of the concurrent calling of the asychronous invocations\n",
    "async def async_get_all_inferences(predictor, payload_list: List) -> List:\n",
    "    return await asyncio.gather(*[async_get_inference(predictor, payload) for payload in payload_list])"
   ]
  },
  {
   "cell_type": "code",
   "execution_count": 14,
   "metadata": {
    "tags": []
   },
   "outputs": [],
   "source": [
    "## This function runs the asychronous function series above together for different experiments and concurrency levels.\n",
    "async def run_inferences(predictor: sagemaker.base_predictor.Predictor, chunk: List, experiment: Dict, concurrency: int, payload_file: str) -> Tuple[List, Dict]:\n",
    "    logger.info(f\"Processing chunk with concurrency={concurrency}\")\n",
    "    s = time.perf_counter()\n",
    "    responses = await async_get_all_inferences(predictor, chunk)\n",
    "    elapsed_async = time.perf_counter() - s\n",
    "\n",
    "    # Add more metadata about this experiment\n",
    "    for r in responses:\n",
    "        r['experiment_name'] = experiment['name']\n",
    "        r['concurrency'] = concurrency\n",
    "\n",
    "    metrics = calculate_metrics(responses, chunk, elapsed_async, experiment['name'], concurrency, payload_file)\n",
    "    return responses, metrics"
   ]
  },
  {
   "cell_type": "code",
   "execution_count": 15,
   "metadata": {
    "tags": []
   },
   "outputs": [],
   "source": [
    "## Function to create the predictors from the experiment we are iterating over\n",
    "def create_predictor_for_experiment(experiment: str, config: Dict, endpoint_info_list: List) -> Optional[sagemaker.base_predictor.Predictor]:\n",
    "\n",
    "    ## Here, we set the index and then iterate through the experiments\n",
    "    e_idx = config['experiments'].index(experiment) + 1\n",
    "\n",
    "    ## Iterate through the endpoint information to fetch the endpoint name\n",
    "    ep_info = [e for e in endpoint_info_list if e['experiment_name'] == experiment['name']]\n",
    "    if not ep_info:\n",
    "        logger.error(f\"endpoint for experiment={experiment['name']} not found, skipping\")\n",
    "        return None\n",
    "    ep_name = ep_info[0]['endpoint']['EndpointName']\n",
    "    logger.info(f\"experiment={e_idx}, name={experiment['name']}, ep_name={ep_name}\")\n",
    "\n",
    "    # create a predictor from each endpoint in experiments\n",
    "    return create_predictor(ep_name)"
   ]
  },
  {
   "cell_type": "code",
   "execution_count": 16,
   "metadata": {
    "tags": []
   },
   "outputs": [],
   "source": [
    "## Here, we will process combinations of concurrency levels, the payload files and then loop through the \n",
    "## different combinations to make payloads splitted in terms of the concurrency metric and how we can run \n",
    "## it and make inference\n",
    "\n",
    "def create_payload_dict(jline: str, experiment: Dict) -> Dict:\n",
    "    payload: Dict = json.loads(jline)\n",
    "    if experiment.get('remove_truncate', False) is True:\n",
    "        if payload['parameters'].get('truncate'):\n",
    "            del payload['parameters']['truncate']\n",
    "    return payload\n",
    "    \n",
    "    \n",
    "def create_combinations(experiment: Dict) -> List[Tuple]:\n",
    "    combinations_data = []\n",
    "\n",
    "    # Repeat for each concurrency level\n",
    "    combinations = list(itertools.product(experiment['concurrency_levels'], experiment['payload_files']))\n",
    "    logger.info(f\"there are {len(combinations)} combinations of {combinations} to run\")\n",
    "\n",
    "    for concurrency, payload_file in combinations:\n",
    "        # Construct the full S3 file path\n",
    "        s3_file_path = os.path.join(PROMPTS_DIR, payload_file)\n",
    "        logger.info(f\"s3 path where the payload files are being read from -> {s3_file_path}\")\n",
    "\n",
    "        # Read the payload file from S3\n",
    "        try:\n",
    "            response = s3_client.get_object(Bucket=BUCKET_NAME, Key=s3_file_path)\n",
    "            payload_file_content = response['Body'].read().decode('utf-8')\n",
    "\n",
    "            # Create a payload list by processing each line\n",
    "            payload_list = [create_payload_dict(jline, experiment) for jline in payload_file_content.splitlines()]\n",
    "            logger.info(f\"read from s3://{BUCKET_NAME}/{s3_file_path}, contains {len(payload_list)} lines\")\n",
    "\n",
    "        except Exception as e:\n",
    "            logger.error(f\"Error reading file from S3: {e}\")\n",
    "            continue\n",
    "\n",
    "        logger.info(f\"creating combinations for concurrency={concurrency}, payload_file={payload_file}, payload_list length={len(payload_list)}\")\n",
    "        \n",
    "        n = concurrency\n",
    "        \n",
    "        if len(payload_list) < n:\n",
    "            elements_to_add = n - len(payload_list)\n",
    "            element_to_replicate = payload_list[0]\n",
    "            # payload_list = payload_list.extend([element_to_replicate]*elements_to_add)\n",
    "            payload_list.extend([element_to_replicate]*elements_to_add)\n",
    "            \n",
    "        # Split the original list into sublists which contain the number of requests we want to send concurrently        \n",
    "        payload_list_splitted = [payload_list[i * n:(i + 1) * n] for i in range((len(payload_list) + n - 1) // n )]  \n",
    "        \n",
    "        for p in payload_list_splitted:\n",
    "            if len(p) < n:\n",
    "                elements_to_add = n - len(p)\n",
    "                element_to_replicate = p[0]\n",
    "                # p = p.extend([element_to_replicate]*elements_to_add)\n",
    "                p.extend([element_to_replicate]*elements_to_add)\n",
    "            \n",
    "\n",
    "        # Only keep lists that have at least concurrency number of elements\n",
    "        len_before = len(payload_list_splitted)\n",
    "        payload_list_splitted = [p for p in payload_list_splitted if len(p) == concurrency]\n",
    "        logger.info(f\"after only retaining chunks of length {concurrency}, we have {len(payload_list_splitted)} chunks, previously we had {len_before} chunks\")\n",
    "        combinations_data.append((concurrency, payload_file, payload_list_splitted))\n",
    "    logger.info(f\"there are {len(combinations)} for {experiment}\")\n",
    "    return combinations_data\n",
    "\n",
    "# process_combinations(experiment, predictor, PROMPTS_DIR)"
   ]
  },
  {
   "cell_type": "code",
   "execution_count": 17,
   "metadata": {
    "tags": []
   },
   "outputs": [
    {
     "name": "stderr",
     "output_type": "stream",
     "text": [
      "[2024-01-28 12:05:13,506] p75618 {663335596.py:13} INFO - experiment=1, name=llama2-70b-g5.48xlarge-huggingface-pytorch-tgi-inference-2.0.1-tgi1.1.0, ep_name=llama-2-70b-g5-48xlarge-1706460294\n",
      "[2024-01-28 12:05:13,520] p75618 {2873079850.py:18} INFO - there are 25 combinations of [(1, 'payload_en_1-500.jsonl'), (1, 'payload_en_500-1000.jsonl'), (1, 'payload_en_1000-2000.jsonl'), (1, 'payload_en_2000-3000.jsonl'), (1, 'payload_en_3000-4000.jsonl'), (2, 'payload_en_1-500.jsonl'), (2, 'payload_en_500-1000.jsonl'), (2, 'payload_en_1000-2000.jsonl'), (2, 'payload_en_2000-3000.jsonl'), (2, 'payload_en_3000-4000.jsonl'), (4, 'payload_en_1-500.jsonl'), (4, 'payload_en_500-1000.jsonl'), (4, 'payload_en_1000-2000.jsonl'), (4, 'payload_en_2000-3000.jsonl'), (4, 'payload_en_3000-4000.jsonl'), (6, 'payload_en_1-500.jsonl'), (6, 'payload_en_500-1000.jsonl'), (6, 'payload_en_1000-2000.jsonl'), (6, 'payload_en_2000-3000.jsonl'), (6, 'payload_en_3000-4000.jsonl'), (8, 'payload_en_1-500.jsonl'), (8, 'payload_en_500-1000.jsonl'), (8, 'payload_en_1000-2000.jsonl'), (8, 'payload_en_2000-3000.jsonl'), (8, 'payload_en_3000-4000.jsonl')] to run\n",
      "[2024-01-28 12:05:13,521] p75618 {2873079850.py:23} INFO - s3 path where the payload files are being read from -> data/prompts/payload_en_1-500.jsonl\n"
     ]
    },
    {
     "name": "stderr",
     "output_type": "stream",
     "text": [
      "[2024-01-28 12:05:13,631] p75618 {2873079850.py:32} INFO - read from s3://fmbt2039/data/prompts/payload_en_1-500.jsonl, contains 1 lines\n",
      "[2024-01-28 12:05:13,632] p75618 {2873079850.py:38} INFO - creating combinations for concurrency=1, payload_file=payload_en_1-500.jsonl, payload_list length=1\n",
      "[2024-01-28 12:05:13,633] p75618 {2873079850.py:62} INFO - after only retaining chunks of length 1, we have 1 chunks, previously we had 1 chunks\n",
      "[2024-01-28 12:05:13,633] p75618 {2873079850.py:23} INFO - s3 path where the payload files are being read from -> data/prompts/payload_en_500-1000.jsonl\n",
      "[2024-01-28 12:05:13,682] p75618 {2873079850.py:32} INFO - read from s3://fmbt2039/data/prompts/payload_en_500-1000.jsonl, contains 1 lines\n",
      "[2024-01-28 12:05:13,687] p75618 {2873079850.py:38} INFO - creating combinations for concurrency=1, payload_file=payload_en_500-1000.jsonl, payload_list length=1\n",
      "[2024-01-28 12:05:13,689] p75618 {2873079850.py:62} INFO - after only retaining chunks of length 1, we have 1 chunks, previously we had 1 chunks\n",
      "[2024-01-28 12:05:13,695] p75618 {2873079850.py:23} INFO - s3 path where the payload files are being read from -> data/prompts/payload_en_1000-2000.jsonl\n",
      "[2024-01-28 12:05:13,834] p75618 {2873079850.py:32} INFO - read from s3://fmbt2039/data/prompts/payload_en_1000-2000.jsonl, contains 15 lines\n",
      "[2024-01-28 12:05:13,834] p75618 {2873079850.py:38} INFO - creating combinations for concurrency=1, payload_file=payload_en_1000-2000.jsonl, payload_list length=15\n",
      "[2024-01-28 12:05:13,835] p75618 {2873079850.py:62} INFO - after only retaining chunks of length 1, we have 15 chunks, previously we had 15 chunks\n",
      "[2024-01-28 12:05:13,835] p75618 {2873079850.py:23} INFO - s3 path where the payload files are being read from -> data/prompts/payload_en_2000-3000.jsonl\n",
      "[2024-01-28 12:05:13,904] p75618 {2873079850.py:32} INFO - read from s3://fmbt2039/data/prompts/payload_en_2000-3000.jsonl, contains 32 lines\n",
      "[2024-01-28 12:05:13,904] p75618 {2873079850.py:38} INFO - creating combinations for concurrency=1, payload_file=payload_en_2000-3000.jsonl, payload_list length=32\n",
      "[2024-01-28 12:05:13,905] p75618 {2873079850.py:62} INFO - after only retaining chunks of length 1, we have 32 chunks, previously we had 32 chunks\n",
      "[2024-01-28 12:05:13,905] p75618 {2873079850.py:23} INFO - s3 path where the payload files are being read from -> data/prompts/payload_en_3000-4000.jsonl\n",
      "[2024-01-28 12:05:14,118] p75618 {2873079850.py:32} INFO - read from s3://fmbt2039/data/prompts/payload_en_3000-4000.jsonl, contains 57 lines\n",
      "[2024-01-28 12:05:14,119] p75618 {2873079850.py:38} INFO - creating combinations for concurrency=1, payload_file=payload_en_3000-4000.jsonl, payload_list length=57\n",
      "[2024-01-28 12:05:14,121] p75618 {2873079850.py:62} INFO - after only retaining chunks of length 1, we have 57 chunks, previously we had 57 chunks\n",
      "[2024-01-28 12:05:14,122] p75618 {2873079850.py:23} INFO - s3 path where the payload files are being read from -> data/prompts/payload_en_1-500.jsonl\n",
      "[2024-01-28 12:05:14,160] p75618 {2873079850.py:32} INFO - read from s3://fmbt2039/data/prompts/payload_en_1-500.jsonl, contains 1 lines\n",
      "[2024-01-28 12:05:14,161] p75618 {2873079850.py:38} INFO - creating combinations for concurrency=2, payload_file=payload_en_1-500.jsonl, payload_list length=1\n",
      "[2024-01-28 12:05:14,162] p75618 {2873079850.py:62} INFO - after only retaining chunks of length 2, we have 1 chunks, previously we had 1 chunks\n",
      "[2024-01-28 12:05:14,162] p75618 {2873079850.py:23} INFO - s3 path where the payload files are being read from -> data/prompts/payload_en_500-1000.jsonl\n",
      "[2024-01-28 12:05:14,260] p75618 {2873079850.py:32} INFO - read from s3://fmbt2039/data/prompts/payload_en_500-1000.jsonl, contains 1 lines\n",
      "[2024-01-28 12:05:14,260] p75618 {2873079850.py:38} INFO - creating combinations for concurrency=2, payload_file=payload_en_500-1000.jsonl, payload_list length=1\n",
      "[2024-01-28 12:05:14,260] p75618 {2873079850.py:62} INFO - after only retaining chunks of length 2, we have 1 chunks, previously we had 1 chunks\n",
      "[2024-01-28 12:05:14,261] p75618 {2873079850.py:23} INFO - s3 path where the payload files are being read from -> data/prompts/payload_en_1000-2000.jsonl\n",
      "[2024-01-28 12:05:14,326] p75618 {2873079850.py:32} INFO - read from s3://fmbt2039/data/prompts/payload_en_1000-2000.jsonl, contains 15 lines\n",
      "[2024-01-28 12:05:14,327] p75618 {2873079850.py:38} INFO - creating combinations for concurrency=2, payload_file=payload_en_1000-2000.jsonl, payload_list length=15\n",
      "[2024-01-28 12:05:14,327] p75618 {2873079850.py:62} INFO - after only retaining chunks of length 2, we have 8 chunks, previously we had 8 chunks\n",
      "[2024-01-28 12:05:14,328] p75618 {2873079850.py:23} INFO - s3 path where the payload files are being read from -> data/prompts/payload_en_2000-3000.jsonl\n",
      "[2024-01-28 12:05:14,364] p75618 {2873079850.py:32} INFO - read from s3://fmbt2039/data/prompts/payload_en_2000-3000.jsonl, contains 32 lines\n",
      "[2024-01-28 12:05:14,364] p75618 {2873079850.py:38} INFO - creating combinations for concurrency=2, payload_file=payload_en_2000-3000.jsonl, payload_list length=32\n",
      "[2024-01-28 12:05:14,365] p75618 {2873079850.py:62} INFO - after only retaining chunks of length 2, we have 16 chunks, previously we had 16 chunks\n",
      "[2024-01-28 12:05:14,365] p75618 {2873079850.py:23} INFO - s3 path where the payload files are being read from -> data/prompts/payload_en_3000-4000.jsonl\n",
      "[2024-01-28 12:05:14,461] p75618 {2873079850.py:32} INFO - read from s3://fmbt2039/data/prompts/payload_en_3000-4000.jsonl, contains 57 lines\n",
      "[2024-01-28 12:05:14,462] p75618 {2873079850.py:38} INFO - creating combinations for concurrency=2, payload_file=payload_en_3000-4000.jsonl, payload_list length=57\n",
      "[2024-01-28 12:05:14,462] p75618 {2873079850.py:62} INFO - after only retaining chunks of length 2, we have 29 chunks, previously we had 29 chunks\n",
      "[2024-01-28 12:05:14,462] p75618 {2873079850.py:23} INFO - s3 path where the payload files are being read from -> data/prompts/payload_en_1-500.jsonl\n",
      "[2024-01-28 12:05:14,498] p75618 {2873079850.py:32} INFO - read from s3://fmbt2039/data/prompts/payload_en_1-500.jsonl, contains 1 lines\n",
      "[2024-01-28 12:05:14,499] p75618 {2873079850.py:38} INFO - creating combinations for concurrency=4, payload_file=payload_en_1-500.jsonl, payload_list length=1\n",
      "[2024-01-28 12:05:14,499] p75618 {2873079850.py:62} INFO - after only retaining chunks of length 4, we have 1 chunks, previously we had 1 chunks\n",
      "[2024-01-28 12:05:14,499] p75618 {2873079850.py:23} INFO - s3 path where the payload files are being read from -> data/prompts/payload_en_500-1000.jsonl\n",
      "[2024-01-28 12:05:14,538] p75618 {2873079850.py:32} INFO - read from s3://fmbt2039/data/prompts/payload_en_500-1000.jsonl, contains 1 lines\n",
      "[2024-01-28 12:05:14,538] p75618 {2873079850.py:38} INFO - creating combinations for concurrency=4, payload_file=payload_en_500-1000.jsonl, payload_list length=1\n",
      "[2024-01-28 12:05:14,539] p75618 {2873079850.py:62} INFO - after only retaining chunks of length 4, we have 1 chunks, previously we had 1 chunks\n",
      "[2024-01-28 12:05:14,539] p75618 {2873079850.py:23} INFO - s3 path where the payload files are being read from -> data/prompts/payload_en_1000-2000.jsonl\n",
      "[2024-01-28 12:05:14,581] p75618 {2873079850.py:32} INFO - read from s3://fmbt2039/data/prompts/payload_en_1000-2000.jsonl, contains 15 lines\n",
      "[2024-01-28 12:05:14,582] p75618 {2873079850.py:38} INFO - creating combinations for concurrency=4, payload_file=payload_en_1000-2000.jsonl, payload_list length=15\n",
      "[2024-01-28 12:05:14,582] p75618 {2873079850.py:62} INFO - after only retaining chunks of length 4, we have 4 chunks, previously we had 4 chunks\n",
      "[2024-01-28 12:05:14,583] p75618 {2873079850.py:23} INFO - s3 path where the payload files are being read from -> data/prompts/payload_en_2000-3000.jsonl\n",
      "[2024-01-28 12:05:14,622] p75618 {2873079850.py:32} INFO - read from s3://fmbt2039/data/prompts/payload_en_2000-3000.jsonl, contains 32 lines\n",
      "[2024-01-28 12:05:14,622] p75618 {2873079850.py:38} INFO - creating combinations for concurrency=4, payload_file=payload_en_2000-3000.jsonl, payload_list length=32\n",
      "[2024-01-28 12:05:14,623] p75618 {2873079850.py:62} INFO - after only retaining chunks of length 4, we have 8 chunks, previously we had 8 chunks\n",
      "[2024-01-28 12:05:14,623] p75618 {2873079850.py:23} INFO - s3 path where the payload files are being read from -> data/prompts/payload_en_3000-4000.jsonl\n",
      "[2024-01-28 12:05:14,694] p75618 {2873079850.py:32} INFO - read from s3://fmbt2039/data/prompts/payload_en_3000-4000.jsonl, contains 57 lines\n",
      "[2024-01-28 12:05:14,694] p75618 {2873079850.py:38} INFO - creating combinations for concurrency=4, payload_file=payload_en_3000-4000.jsonl, payload_list length=57\n",
      "[2024-01-28 12:05:14,695] p75618 {2873079850.py:62} INFO - after only retaining chunks of length 4, we have 15 chunks, previously we had 15 chunks\n",
      "[2024-01-28 12:05:14,695] p75618 {2873079850.py:23} INFO - s3 path where the payload files are being read from -> data/prompts/payload_en_1-500.jsonl\n",
      "[2024-01-28 12:05:14,728] p75618 {2873079850.py:32} INFO - read from s3://fmbt2039/data/prompts/payload_en_1-500.jsonl, contains 1 lines\n",
      "[2024-01-28 12:05:14,728] p75618 {2873079850.py:38} INFO - creating combinations for concurrency=6, payload_file=payload_en_1-500.jsonl, payload_list length=1\n",
      "[2024-01-28 12:05:14,729] p75618 {2873079850.py:62} INFO - after only retaining chunks of length 6, we have 1 chunks, previously we had 1 chunks\n",
      "[2024-01-28 12:05:14,729] p75618 {2873079850.py:23} INFO - s3 path where the payload files are being read from -> data/prompts/payload_en_500-1000.jsonl\n",
      "[2024-01-28 12:05:14,760] p75618 {2873079850.py:32} INFO - read from s3://fmbt2039/data/prompts/payload_en_500-1000.jsonl, contains 1 lines\n",
      "[2024-01-28 12:05:14,760] p75618 {2873079850.py:38} INFO - creating combinations for concurrency=6, payload_file=payload_en_500-1000.jsonl, payload_list length=1\n",
      "[2024-01-28 12:05:14,761] p75618 {2873079850.py:62} INFO - after only retaining chunks of length 6, we have 1 chunks, previously we had 1 chunks\n",
      "[2024-01-28 12:05:14,761] p75618 {2873079850.py:23} INFO - s3 path where the payload files are being read from -> data/prompts/payload_en_1000-2000.jsonl\n",
      "[2024-01-28 12:05:14,796] p75618 {2873079850.py:32} INFO - read from s3://fmbt2039/data/prompts/payload_en_1000-2000.jsonl, contains 15 lines\n",
      "[2024-01-28 12:05:14,797] p75618 {2873079850.py:38} INFO - creating combinations for concurrency=6, payload_file=payload_en_1000-2000.jsonl, payload_list length=15\n",
      "[2024-01-28 12:05:14,797] p75618 {2873079850.py:62} INFO - after only retaining chunks of length 6, we have 3 chunks, previously we had 3 chunks\n",
      "[2024-01-28 12:05:14,797] p75618 {2873079850.py:23} INFO - s3 path where the payload files are being read from -> data/prompts/payload_en_2000-3000.jsonl\n",
      "[2024-01-28 12:05:14,837] p75618 {2873079850.py:32} INFO - read from s3://fmbt2039/data/prompts/payload_en_2000-3000.jsonl, contains 32 lines\n",
      "[2024-01-28 12:05:14,843] p75618 {2873079850.py:38} INFO - creating combinations for concurrency=6, payload_file=payload_en_2000-3000.jsonl, payload_list length=32\n",
      "[2024-01-28 12:05:14,847] p75618 {2873079850.py:62} INFO - after only retaining chunks of length 6, we have 6 chunks, previously we had 6 chunks\n",
      "[2024-01-28 12:05:14,852] p75618 {2873079850.py:23} INFO - s3 path where the payload files are being read from -> data/prompts/payload_en_3000-4000.jsonl\n",
      "[2024-01-28 12:05:14,960] p75618 {2873079850.py:32} INFO - read from s3://fmbt2039/data/prompts/payload_en_3000-4000.jsonl, contains 57 lines\n",
      "[2024-01-28 12:05:14,961] p75618 {2873079850.py:38} INFO - creating combinations for concurrency=6, payload_file=payload_en_3000-4000.jsonl, payload_list length=57\n",
      "[2024-01-28 12:05:14,961] p75618 {2873079850.py:62} INFO - after only retaining chunks of length 6, we have 10 chunks, previously we had 10 chunks\n",
      "[2024-01-28 12:05:14,961] p75618 {2873079850.py:23} INFO - s3 path where the payload files are being read from -> data/prompts/payload_en_1-500.jsonl\n",
      "[2024-01-28 12:05:14,998] p75618 {2873079850.py:32} INFO - read from s3://fmbt2039/data/prompts/payload_en_1-500.jsonl, contains 1 lines\n",
      "[2024-01-28 12:05:14,998] p75618 {2873079850.py:38} INFO - creating combinations for concurrency=8, payload_file=payload_en_1-500.jsonl, payload_list length=1\n",
      "[2024-01-28 12:05:14,999] p75618 {2873079850.py:62} INFO - after only retaining chunks of length 8, we have 1 chunks, previously we had 1 chunks\n",
      "[2024-01-28 12:05:14,999] p75618 {2873079850.py:23} INFO - s3 path where the payload files are being read from -> data/prompts/payload_en_500-1000.jsonl\n",
      "[2024-01-28 12:05:15,032] p75618 {2873079850.py:32} INFO - read from s3://fmbt2039/data/prompts/payload_en_500-1000.jsonl, contains 1 lines\n",
      "[2024-01-28 12:05:15,032] p75618 {2873079850.py:38} INFO - creating combinations for concurrency=8, payload_file=payload_en_500-1000.jsonl, payload_list length=1\n",
      "[2024-01-28 12:05:15,032] p75618 {2873079850.py:62} INFO - after only retaining chunks of length 8, we have 1 chunks, previously we had 1 chunks\n",
      "[2024-01-28 12:05:15,032] p75618 {2873079850.py:23} INFO - s3 path where the payload files are being read from -> data/prompts/payload_en_1000-2000.jsonl\n",
      "[2024-01-28 12:05:15,064] p75618 {2873079850.py:32} INFO - read from s3://fmbt2039/data/prompts/payload_en_1000-2000.jsonl, contains 15 lines\n",
      "[2024-01-28 12:05:15,064] p75618 {2873079850.py:38} INFO - creating combinations for concurrency=8, payload_file=payload_en_1000-2000.jsonl, payload_list length=15\n",
      "[2024-01-28 12:05:15,064] p75618 {2873079850.py:62} INFO - after only retaining chunks of length 8, we have 2 chunks, previously we had 2 chunks\n",
      "[2024-01-28 12:05:15,064] p75618 {2873079850.py:23} INFO - s3 path where the payload files are being read from -> data/prompts/payload_en_2000-3000.jsonl\n",
      "[2024-01-28 12:05:15,118] p75618 {2873079850.py:32} INFO - read from s3://fmbt2039/data/prompts/payload_en_2000-3000.jsonl, contains 32 lines\n",
      "[2024-01-28 12:05:15,119] p75618 {2873079850.py:38} INFO - creating combinations for concurrency=8, payload_file=payload_en_2000-3000.jsonl, payload_list length=32\n",
      "[2024-01-28 12:05:15,119] p75618 {2873079850.py:62} INFO - after only retaining chunks of length 8, we have 4 chunks, previously we had 4 chunks\n",
      "[2024-01-28 12:05:15,120] p75618 {2873079850.py:23} INFO - s3 path where the payload files are being read from -> data/prompts/payload_en_3000-4000.jsonl\n",
      "[2024-01-28 12:05:15,206] p75618 {2873079850.py:32} INFO - read from s3://fmbt2039/data/prompts/payload_en_3000-4000.jsonl, contains 57 lines\n",
      "[2024-01-28 12:05:15,207] p75618 {2873079850.py:38} INFO - creating combinations for concurrency=8, payload_file=payload_en_3000-4000.jsonl, payload_list length=57\n",
      "[2024-01-28 12:05:15,207] p75618 {2873079850.py:62} INFO - after only retaining chunks of length 8, we have 8 chunks, previously we had 8 chunks\n",
      "[2024-01-28 12:05:15,207] p75618 {2873079850.py:64} INFO - there are 25 for {'name': 'llama2-70b-g5.48xlarge-huggingface-pytorch-tgi-inference-2.0.1-tgi1.1.0', 'model_id': 'meta-textgeneration-llama-2-70b', 'model_version': '*', 'model_name': 'llama2-70b', 'ep_name': 'llama-2-70b-g5-48xlarge', 'instance_type': 'ml.g5.48xlarge', 'image_uri': '763104351884.dkr.ecr.us-east-1.amazonaws.com/huggingface-pytorch-tgi-inference:2.0.1-tgi1.1.0-gpu-py39-cu118-ubuntu20.04', 'deploy': True, 'instance_count': 1, 'deployment_script': 'jumpstart.py', 'payload_files': ['payload_en_1-500.jsonl', 'payload_en_500-1000.jsonl', 'payload_en_1000-2000.jsonl', 'payload_en_2000-3000.jsonl', 'payload_en_3000-4000.jsonl'], 'concurrency_levels': [1, 2, 4, 6, 8], 'accept_eula': True, 'env': {'SAGEMAKER_PROGRAM': 'inference.py', 'ENDPOINT_SERVER_TIMEOUT': '3600', 'MODEL_CACHE_ROOT': '/opt/ml/model', 'SAGEMAKER_ENV': '1', 'HF_MODEL_ID': '/opt/ml/model', 'MAX_INPUT_LENGTH': '4095', 'MAX_TOTAL_TOKENS': '4096', 'SM_NUM_GPUS': '8', 'SAGEMAKER_MODEL_SERVER_WORKERS': '1'}}\n",
      "[2024-01-28 12:05:15,208] p75618 {1751706209.py:26} INFO - e_idx=1/2, chunk_index=1/1\n",
      "[2024-01-28 12:05:15,209] p75618 {1750118496.py:3} INFO - Processing chunk with concurrency=1\n",
      "[2024-01-28 12:05:15,300] p75618 {701838357.py:23} INFO - get_inference, endpoint=llama-2-70b-g5-48xlarge-1706460294, prompt_tokens=304\n",
      "[2024-01-28 12:05:21,614] p75618 {701838357.py:48} INFO - get_inference, done, endpoint=llama-2-70b-g5-48xlarge-1706460294, completion_tokens=102, latency=6.31\n",
      "[2024-01-28 12:05:21,946] p75618 {1751706209.py:26} INFO - e_idx=1/2, chunk_index=1/1\n",
      "[2024-01-28 12:05:21,946] p75618 {1750118496.py:3} INFO - Processing chunk with concurrency=1\n",
      "[2024-01-28 12:05:21,951] p75618 {701838357.py:23} INFO - get_inference, endpoint=llama-2-70b-g5-48xlarge-1706460294, prompt_tokens=980\n"
     ]
    },
    {
     "name": "stdout",
     "output_type": "stream",
     "text": [
      "Data successfully written to s3://fmbt2039/data/metrics/llama2-70b-g5-p4d-trt-v1/per_chunk/1706461521.6148639.json\n",
      "Data successfully written to s3://fmbt2039/data/metrics/llama2-70b-g5-p4d-trt-v1/per_inference/1706461521.801458.json\n"
     ]
    },
    {
     "name": "stderr",
     "output_type": "stream",
     "text": [
      "[2024-01-28 12:05:30,413] p75618 {701838357.py:48} INFO - get_inference, done, endpoint=llama-2-70b-g5-48xlarge-1706460294, completion_tokens=102, latency=8.46\n",
      "[2024-01-28 12:05:30,764] p75618 {1751706209.py:26} INFO - e_idx=1/2, chunk_index=1/15\n",
      "[2024-01-28 12:05:30,764] p75618 {1750118496.py:3} INFO - Processing chunk with concurrency=1\n",
      "[2024-01-28 12:05:30,768] p75618 {701838357.py:23} INFO - get_inference, endpoint=llama-2-70b-g5-48xlarge-1706460294, prompt_tokens=1339\n"
     ]
    },
    {
     "name": "stdout",
     "output_type": "stream",
     "text": [
      "Data successfully written to s3://fmbt2039/data/metrics/llama2-70b-g5-p4d-trt-v1/per_chunk/1706461530.4140658.json\n",
      "Data successfully written to s3://fmbt2039/data/metrics/llama2-70b-g5-p4d-trt-v1/per_inference/1706461530.573148.json\n"
     ]
    },
    {
     "name": "stderr",
     "output_type": "stream",
     "text": [
      "[2024-01-28 12:05:41,542] p75618 {701838357.py:48} INFO - get_inference, done, endpoint=llama-2-70b-g5-48xlarge-1706460294, completion_tokens=102, latency=10.77\n"
     ]
    },
    {
     "name": "stdout",
     "output_type": "stream",
     "text": [
      "Data successfully written to s3://fmbt2039/data/metrics/llama2-70b-g5-p4d-trt-v1/per_chunk/1706461541.544867.json\n"
     ]
    },
    {
     "name": "stderr",
     "output_type": "stream",
     "text": [
      "[2024-01-28 12:05:41,964] p75618 {1751706209.py:26} INFO - e_idx=1/2, chunk_index=2/15\n",
      "[2024-01-28 12:05:41,964] p75618 {1750118496.py:3} INFO - Processing chunk with concurrency=1\n",
      "[2024-01-28 12:05:41,973] p75618 {701838357.py:23} INFO - get_inference, endpoint=llama-2-70b-g5-48xlarge-1706460294, prompt_tokens=1932\n"
     ]
    },
    {
     "name": "stdout",
     "output_type": "stream",
     "text": [
      "Data successfully written to s3://fmbt2039/data/metrics/llama2-70b-g5-p4d-trt-v1/per_inference/1706461541.758087.json\n"
     ]
    },
    {
     "name": "stderr",
     "output_type": "stream",
     "text": [
      "[2024-01-28 12:05:54,326] p75618 {701838357.py:48} INFO - get_inference, done, endpoint=llama-2-70b-g5-48xlarge-1706460294, completion_tokens=102, latency=12.35\n",
      "[2024-01-28 12:05:54,651] p75618 {1751706209.py:26} INFO - e_idx=1/2, chunk_index=3/15\n",
      "[2024-01-28 12:05:54,652] p75618 {1750118496.py:3} INFO - Processing chunk with concurrency=1\n",
      "[2024-01-28 12:05:54,656] p75618 {701838357.py:23} INFO - get_inference, endpoint=llama-2-70b-g5-48xlarge-1706460294, prompt_tokens=1154\n"
     ]
    },
    {
     "name": "stdout",
     "output_type": "stream",
     "text": [
      "Data successfully written to s3://fmbt2039/data/metrics/llama2-70b-g5-p4d-trt-v1/per_chunk/1706461554.327583.json\n",
      "Data successfully written to s3://fmbt2039/data/metrics/llama2-70b-g5-p4d-trt-v1/per_inference/1706461554.474415.json\n"
     ]
    },
    {
     "name": "stderr",
     "output_type": "stream",
     "text": [
      "[2024-01-28 12:06:04,104] p75618 {701838357.py:48} INFO - get_inference, done, endpoint=llama-2-70b-g5-48xlarge-1706460294, completion_tokens=102, latency=9.45\n",
      "[2024-01-28 12:06:04,447] p75618 {1751706209.py:26} INFO - e_idx=1/2, chunk_index=4/15\n",
      "[2024-01-28 12:06:04,448] p75618 {1750118496.py:3} INFO - Processing chunk with concurrency=1\n",
      "[2024-01-28 12:06:04,458] p75618 {701838357.py:23} INFO - get_inference, endpoint=llama-2-70b-g5-48xlarge-1706460294, prompt_tokens=1646\n"
     ]
    },
    {
     "name": "stdout",
     "output_type": "stream",
     "text": [
      "Data successfully written to s3://fmbt2039/data/metrics/llama2-70b-g5-p4d-trt-v1/per_chunk/1706461564.104956.json\n",
      "Data successfully written to s3://fmbt2039/data/metrics/llama2-70b-g5-p4d-trt-v1/per_inference/1706461564.278544.json\n"
     ]
    },
    {
     "name": "stderr",
     "output_type": "stream",
     "text": [
      "[2024-01-28 12:06:15,961] p75618 {701838357.py:48} INFO - get_inference, done, endpoint=llama-2-70b-g5-48xlarge-1706460294, completion_tokens=102, latency=11.50\n"
     ]
    },
    {
     "name": "stdout",
     "output_type": "stream",
     "text": [
      "Data successfully written to s3://fmbt2039/data/metrics/llama2-70b-g5-p4d-trt-v1/per_chunk/1706461575.9685252.json\n"
     ]
    },
    {
     "name": "stderr",
     "output_type": "stream",
     "text": [
      "[2024-01-28 12:06:16,368] p75618 {1751706209.py:26} INFO - e_idx=1/2, chunk_index=5/15\n",
      "[2024-01-28 12:06:16,369] p75618 {1750118496.py:3} INFO - Processing chunk with concurrency=1\n",
      "[2024-01-28 12:06:16,386] p75618 {701838357.py:23} INFO - get_inference, endpoint=llama-2-70b-g5-48xlarge-1706460294, prompt_tokens=1397\n"
     ]
    },
    {
     "name": "stdout",
     "output_type": "stream",
     "text": [
      "Data successfully written to s3://fmbt2039/data/metrics/llama2-70b-g5-p4d-trt-v1/per_inference/1706461576.151705.json\n"
     ]
    },
    {
     "name": "stderr",
     "output_type": "stream",
     "text": [
      "[2024-01-28 12:06:26,746] p75618 {701838357.py:48} INFO - get_inference, done, endpoint=llama-2-70b-g5-48xlarge-1706460294, completion_tokens=102, latency=10.36\n",
      "[2024-01-28 12:06:27,173] p75618 {1751706209.py:26} INFO - e_idx=1/2, chunk_index=6/15\n",
      "[2024-01-28 12:06:27,174] p75618 {1750118496.py:3} INFO - Processing chunk with concurrency=1\n"
     ]
    },
    {
     "name": "stdout",
     "output_type": "stream",
     "text": [
      "Data successfully written to s3://fmbt2039/data/metrics/llama2-70b-g5-p4d-trt-v1/per_chunk/1706461586.7482932.json\n",
      "Data successfully written to s3://fmbt2039/data/metrics/llama2-70b-g5-p4d-trt-v1/per_inference/1706461586.977518.json\n"
     ]
    },
    {
     "name": "stderr",
     "output_type": "stream",
     "text": [
      "[2024-01-28 12:06:27,193] p75618 {701838357.py:23} INFO - get_inference, endpoint=llama-2-70b-g5-48xlarge-1706460294, prompt_tokens=1746\n",
      "[2024-01-28 12:06:39,107] p75618 {701838357.py:48} INFO - get_inference, done, endpoint=llama-2-70b-g5-48xlarge-1706460294, completion_tokens=102, latency=11.91\n",
      "[2024-01-28 12:06:39,520] p75618 {1751706209.py:26} INFO - e_idx=1/2, chunk_index=7/15\n",
      "[2024-01-28 12:06:39,521] p75618 {1750118496.py:3} INFO - Processing chunk with concurrency=1\n"
     ]
    },
    {
     "name": "stdout",
     "output_type": "stream",
     "text": [
      "Data successfully written to s3://fmbt2039/data/metrics/llama2-70b-g5-p4d-trt-v1/per_chunk/1706461599.109429.json\n",
      "Data successfully written to s3://fmbt2039/data/metrics/llama2-70b-g5-p4d-trt-v1/per_inference/1706461599.323955.json\n"
     ]
    },
    {
     "name": "stderr",
     "output_type": "stream",
     "text": [
      "[2024-01-28 12:06:39,539] p75618 {701838357.py:23} INFO - get_inference, endpoint=llama-2-70b-g5-48xlarge-1706460294, prompt_tokens=1373\n",
      "[2024-01-28 12:06:49,623] p75618 {701838357.py:48} INFO - get_inference, done, endpoint=llama-2-70b-g5-48xlarge-1706460294, completion_tokens=102, latency=10.07\n"
     ]
    },
    {
     "name": "stdout",
     "output_type": "stream",
     "text": [
      "Data successfully written to s3://fmbt2039/data/metrics/llama2-70b-g5-p4d-trt-v1/per_chunk/1706461609.632614.json\n"
     ]
    },
    {
     "name": "stderr",
     "output_type": "stream",
     "text": [
      "[2024-01-28 12:06:50,060] p75618 {1751706209.py:26} INFO - e_idx=1/2, chunk_index=8/15\n",
      "[2024-01-28 12:06:50,061] p75618 {1750118496.py:3} INFO - Processing chunk with concurrency=1\n",
      "[2024-01-28 12:06:50,077] p75618 {701838357.py:23} INFO - get_inference, endpoint=llama-2-70b-g5-48xlarge-1706460294, prompt_tokens=1598\n"
     ]
    },
    {
     "name": "stdout",
     "output_type": "stream",
     "text": [
      "Data successfully written to s3://fmbt2039/data/metrics/llama2-70b-g5-p4d-trt-v1/per_inference/1706461609.818618.json\n"
     ]
    },
    {
     "name": "stderr",
     "output_type": "stream",
     "text": [
      "[2024-01-28 12:07:01,341] p75618 {701838357.py:48} INFO - get_inference, done, endpoint=llama-2-70b-g5-48xlarge-1706460294, completion_tokens=102, latency=11.26\n"
     ]
    },
    {
     "name": "stdout",
     "output_type": "stream",
     "text": [
      "Data successfully written to s3://fmbt2039/data/metrics/llama2-70b-g5-p4d-trt-v1/per_chunk/1706461621.343738.json\n"
     ]
    },
    {
     "name": "stderr",
     "output_type": "stream",
     "text": [
      "[2024-01-28 12:07:01,779] p75618 {1751706209.py:26} INFO - e_idx=1/2, chunk_index=9/15\n",
      "[2024-01-28 12:07:01,783] p75618 {1750118496.py:3} INFO - Processing chunk with concurrency=1\n",
      "[2024-01-28 12:07:01,799] p75618 {701838357.py:23} INFO - get_inference, endpoint=llama-2-70b-g5-48xlarge-1706460294, prompt_tokens=1743\n"
     ]
    },
    {
     "name": "stdout",
     "output_type": "stream",
     "text": [
      "Data successfully written to s3://fmbt2039/data/metrics/llama2-70b-g5-p4d-trt-v1/per_inference/1706461621.561663.json\n"
     ]
    },
    {
     "name": "stderr",
     "output_type": "stream",
     "text": [
      "[2024-01-28 12:07:14,237] p75618 {701838357.py:48} INFO - get_inference, done, endpoint=llama-2-70b-g5-48xlarge-1706460294, completion_tokens=102, latency=12.44\n"
     ]
    },
    {
     "name": "stdout",
     "output_type": "stream",
     "text": [
      "Data successfully written to s3://fmbt2039/data/metrics/llama2-70b-g5-p4d-trt-v1/per_chunk/1706461634.239818.json\n"
     ]
    },
    {
     "name": "stderr",
     "output_type": "stream",
     "text": [
      "[2024-01-28 12:07:14,670] p75618 {1751706209.py:26} INFO - e_idx=1/2, chunk_index=10/15\n",
      "[2024-01-28 12:07:14,675] p75618 {1750118496.py:3} INFO - Processing chunk with concurrency=1\n",
      "[2024-01-28 12:07:14,731] p75618 {701838357.py:23} INFO - get_inference, endpoint=llama-2-70b-g5-48xlarge-1706460294, prompt_tokens=1539\n"
     ]
    },
    {
     "name": "stdout",
     "output_type": "stream",
     "text": [
      "Data successfully written to s3://fmbt2039/data/metrics/llama2-70b-g5-p4d-trt-v1/per_inference/1706461634.44089.json\n"
     ]
    },
    {
     "name": "stderr",
     "output_type": "stream",
     "text": [
      "[2024-01-28 12:07:25,479] p75618 {701838357.py:48} INFO - get_inference, done, endpoint=llama-2-70b-g5-48xlarge-1706460294, completion_tokens=102, latency=10.75\n"
     ]
    },
    {
     "name": "stdout",
     "output_type": "stream",
     "text": [
      "Data successfully written to s3://fmbt2039/data/metrics/llama2-70b-g5-p4d-trt-v1/per_chunk/1706461645.480931.json\n"
     ]
    },
    {
     "name": "stderr",
     "output_type": "stream",
     "text": [
      "[2024-01-28 12:07:25,902] p75618 {1751706209.py:26} INFO - e_idx=1/2, chunk_index=11/15\n",
      "[2024-01-28 12:07:25,903] p75618 {1750118496.py:3} INFO - Processing chunk with concurrency=1\n",
      "[2024-01-28 12:07:25,919] p75618 {701838357.py:23} INFO - get_inference, endpoint=llama-2-70b-g5-48xlarge-1706460294, prompt_tokens=1695\n"
     ]
    },
    {
     "name": "stdout",
     "output_type": "stream",
     "text": [
      "Data successfully written to s3://fmbt2039/data/metrics/llama2-70b-g5-p4d-trt-v1/per_inference/1706461645.681529.json\n"
     ]
    },
    {
     "name": "stderr",
     "output_type": "stream",
     "text": [
      "[2024-01-28 12:07:37,632] p75618 {701838357.py:48} INFO - get_inference, done, endpoint=llama-2-70b-g5-48xlarge-1706460294, completion_tokens=102, latency=11.71\n"
     ]
    },
    {
     "name": "stdout",
     "output_type": "stream",
     "text": [
      "Data successfully written to s3://fmbt2039/data/metrics/llama2-70b-g5-p4d-trt-v1/per_chunk/1706461657.633645.json\n"
     ]
    },
    {
     "name": "stderr",
     "output_type": "stream",
     "text": [
      "[2024-01-28 12:07:38,055] p75618 {1751706209.py:26} INFO - e_idx=1/2, chunk_index=12/15\n",
      "[2024-01-28 12:07:38,057] p75618 {1750118496.py:3} INFO - Processing chunk with concurrency=1\n",
      "[2024-01-28 12:07:38,083] p75618 {701838357.py:23} INFO - get_inference, endpoint=llama-2-70b-g5-48xlarge-1706460294, prompt_tokens=1421\n"
     ]
    },
    {
     "name": "stdout",
     "output_type": "stream",
     "text": [
      "Data successfully written to s3://fmbt2039/data/metrics/llama2-70b-g5-p4d-trt-v1/per_inference/1706461657.8373399.json\n"
     ]
    },
    {
     "name": "stderr",
     "output_type": "stream",
     "text": [
      "[2024-01-28 12:07:48,711] p75618 {701838357.py:48} INFO - get_inference, done, endpoint=llama-2-70b-g5-48xlarge-1706460294, completion_tokens=102, latency=10.63\n"
     ]
    },
    {
     "name": "stdout",
     "output_type": "stream",
     "text": [
      "Data successfully written to s3://fmbt2039/data/metrics/llama2-70b-g5-p4d-trt-v1/per_chunk/1706461668.713842.json\n"
     ]
    },
    {
     "name": "stderr",
     "output_type": "stream",
     "text": [
      "[2024-01-28 12:07:49,189] p75618 {1751706209.py:26} INFO - e_idx=1/2, chunk_index=13/15\n",
      "[2024-01-28 12:07:49,190] p75618 {1750118496.py:3} INFO - Processing chunk with concurrency=1\n",
      "[2024-01-28 12:07:49,208] p75618 {701838357.py:23} INFO - get_inference, endpoint=llama-2-70b-g5-48xlarge-1706460294, prompt_tokens=1918\n"
     ]
    },
    {
     "name": "stdout",
     "output_type": "stream",
     "text": [
      "Data successfully written to s3://fmbt2039/data/metrics/llama2-70b-g5-p4d-trt-v1/per_inference/1706461668.970093.json\n"
     ]
    },
    {
     "name": "stderr",
     "output_type": "stream",
     "text": [
      "[2024-01-28 12:08:01,365] p75618 {701838357.py:48} INFO - get_inference, done, endpoint=llama-2-70b-g5-48xlarge-1706460294, completion_tokens=102, latency=12.16\n"
     ]
    },
    {
     "name": "stdout",
     "output_type": "stream",
     "text": [
      "Data successfully written to s3://fmbt2039/data/metrics/llama2-70b-g5-p4d-trt-v1/per_chunk/1706461681.367708.json\n",
      "Data successfully written to s3://fmbt2039/data/metrics/llama2-70b-g5-p4d-trt-v1/per_inference/1706461681.583321.json\n"
     ]
    },
    {
     "name": "stderr",
     "output_type": "stream",
     "text": [
      "[2024-01-28 12:08:01,784] p75618 {1751706209.py:26} INFO - e_idx=1/2, chunk_index=14/15\n",
      "[2024-01-28 12:08:01,785] p75618 {1750118496.py:3} INFO - Processing chunk with concurrency=1\n",
      "[2024-01-28 12:08:01,805] p75618 {701838357.py:23} INFO - get_inference, endpoint=llama-2-70b-g5-48xlarge-1706460294, prompt_tokens=1910\n",
      "[2024-01-28 12:08:13,638] p75618 {701838357.py:48} INFO - get_inference, done, endpoint=llama-2-70b-g5-48xlarge-1706460294, completion_tokens=102, latency=11.83\n"
     ]
    },
    {
     "name": "stdout",
     "output_type": "stream",
     "text": [
      "Data successfully written to s3://fmbt2039/data/metrics/llama2-70b-g5-p4d-trt-v1/per_chunk/1706461693.642186.json\n"
     ]
    },
    {
     "name": "stderr",
     "output_type": "stream",
     "text": [
      "[2024-01-28 12:08:14,036] p75618 {1751706209.py:26} INFO - e_idx=1/2, chunk_index=15/15\n",
      "[2024-01-28 12:08:14,043] p75618 {1750118496.py:3} INFO - Processing chunk with concurrency=1\n",
      "[2024-01-28 12:08:14,065] p75618 {701838357.py:23} INFO - get_inference, endpoint=llama-2-70b-g5-48xlarge-1706460294, prompt_tokens=1939\n"
     ]
    },
    {
     "name": "stdout",
     "output_type": "stream",
     "text": [
      "Data successfully written to s3://fmbt2039/data/metrics/llama2-70b-g5-p4d-trt-v1/per_inference/1706461693.822013.json\n"
     ]
    },
    {
     "name": "stderr",
     "output_type": "stream",
     "text": [
      "[2024-01-28 12:08:27,359] p75618 {701838357.py:48} INFO - get_inference, done, endpoint=llama-2-70b-g5-48xlarge-1706460294, completion_tokens=102, latency=13.29\n"
     ]
    },
    {
     "name": "stdout",
     "output_type": "stream",
     "text": [
      "Data successfully written to s3://fmbt2039/data/metrics/llama2-70b-g5-p4d-trt-v1/per_chunk/1706461707.362029.json\n"
     ]
    },
    {
     "name": "stderr",
     "output_type": "stream",
     "text": [
      "[2024-01-28 12:08:27,780] p75618 {1751706209.py:26} INFO - e_idx=1/2, chunk_index=1/32\n",
      "[2024-01-28 12:08:27,780] p75618 {1750118496.py:3} INFO - Processing chunk with concurrency=1\n",
      "[2024-01-28 12:08:27,797] p75618 {701838357.py:23} INFO - get_inference, endpoint=llama-2-70b-g5-48xlarge-1706460294, prompt_tokens=2637\n"
     ]
    },
    {
     "name": "stdout",
     "output_type": "stream",
     "text": [
      "Data successfully written to s3://fmbt2039/data/metrics/llama2-70b-g5-p4d-trt-v1/per_inference/1706461707.5642219.json\n"
     ]
    },
    {
     "name": "stderr",
     "output_type": "stream",
     "text": [
      "[2024-01-28 12:08:43,088] p75618 {701838357.py:48} INFO - get_inference, done, endpoint=llama-2-70b-g5-48xlarge-1706460294, completion_tokens=102, latency=15.29\n"
     ]
    },
    {
     "name": "stdout",
     "output_type": "stream",
     "text": [
      "Data successfully written to s3://fmbt2039/data/metrics/llama2-70b-g5-p4d-trt-v1/per_chunk/1706461723.0910258.json\n"
     ]
    },
    {
     "name": "stderr",
     "output_type": "stream",
     "text": [
      "[2024-01-28 12:08:43,534] p75618 {1751706209.py:26} INFO - e_idx=1/2, chunk_index=2/32\n",
      "[2024-01-28 12:08:43,534] p75618 {1750118496.py:3} INFO - Processing chunk with concurrency=1\n",
      "[2024-01-28 12:08:43,543] p75618 {701838357.py:23} INFO - get_inference, endpoint=llama-2-70b-g5-48xlarge-1706460294, prompt_tokens=3000\n"
     ]
    },
    {
     "name": "stdout",
     "output_type": "stream",
     "text": [
      "Data successfully written to s3://fmbt2039/data/metrics/llama2-70b-g5-p4d-trt-v1/per_inference/1706461723.269987.json\n"
     ]
    },
    {
     "name": "stderr",
     "output_type": "stream",
     "text": [
      "[2024-01-28 12:09:00,102] p75618 {701838357.py:48} INFO - get_inference, done, endpoint=llama-2-70b-g5-48xlarge-1706460294, completion_tokens=102, latency=16.56\n"
     ]
    },
    {
     "name": "stdout",
     "output_type": "stream",
     "text": [
      "Data successfully written to s3://fmbt2039/data/metrics/llama2-70b-g5-p4d-trt-v1/per_chunk/1706461740.1047628.json\n"
     ]
    },
    {
     "name": "stderr",
     "output_type": "stream",
     "text": [
      "[2024-01-28 12:09:00,513] p75618 {1751706209.py:26} INFO - e_idx=1/2, chunk_index=3/32\n",
      "[2024-01-28 12:09:00,513] p75618 {1750118496.py:3} INFO - Processing chunk with concurrency=1\n",
      "[2024-01-28 12:09:00,528] p75618 {701838357.py:23} INFO - get_inference, endpoint=llama-2-70b-g5-48xlarge-1706460294, prompt_tokens=2148\n"
     ]
    },
    {
     "name": "stdout",
     "output_type": "stream",
     "text": [
      "Data successfully written to s3://fmbt2039/data/metrics/llama2-70b-g5-p4d-trt-v1/per_inference/1706461740.299179.json\n"
     ]
    },
    {
     "name": "stderr",
     "output_type": "stream",
     "text": [
      "[2024-01-28 12:09:13,646] p75618 {701838357.py:48} INFO - get_inference, done, endpoint=llama-2-70b-g5-48xlarge-1706460294, completion_tokens=102, latency=13.12\n",
      "[2024-01-28 12:09:14,005] p75618 {1751706209.py:26} INFO - e_idx=1/2, chunk_index=4/32\n",
      "[2024-01-28 12:09:14,006] p75618 {1750118496.py:3} INFO - Processing chunk with concurrency=1\n"
     ]
    },
    {
     "name": "stdout",
     "output_type": "stream",
     "text": [
      "Data successfully written to s3://fmbt2039/data/metrics/llama2-70b-g5-p4d-trt-v1/per_chunk/1706461753.649469.json\n",
      "Data successfully written to s3://fmbt2039/data/metrics/llama2-70b-g5-p4d-trt-v1/per_inference/1706461753.8224158.json\n"
     ]
    },
    {
     "name": "stderr",
     "output_type": "stream",
     "text": [
      "[2024-01-28 12:09:14,024] p75618 {701838357.py:23} INFO - get_inference, endpoint=llama-2-70b-g5-48xlarge-1706460294, prompt_tokens=2715\n",
      "[2024-01-28 12:09:29,543] p75618 {701838357.py:48} INFO - get_inference, done, endpoint=llama-2-70b-g5-48xlarge-1706460294, completion_tokens=102, latency=15.52\n"
     ]
    },
    {
     "name": "stdout",
     "output_type": "stream",
     "text": [
      "Data successfully written to s3://fmbt2039/data/metrics/llama2-70b-g5-p4d-trt-v1/per_chunk/1706461769.547829.json\n"
     ]
    },
    {
     "name": "stderr",
     "output_type": "stream",
     "text": [
      "[2024-01-28 12:09:29,943] p75618 {1751706209.py:26} INFO - e_idx=1/2, chunk_index=5/32\n",
      "[2024-01-28 12:09:29,943] p75618 {1750118496.py:3} INFO - Processing chunk with concurrency=1\n",
      "[2024-01-28 12:09:29,959] p75618 {701838357.py:23} INFO - get_inference, endpoint=llama-2-70b-g5-48xlarge-1706460294, prompt_tokens=2404\n"
     ]
    },
    {
     "name": "stdout",
     "output_type": "stream",
     "text": [
      "Data successfully written to s3://fmbt2039/data/metrics/llama2-70b-g5-p4d-trt-v1/per_inference/1706461769.737819.json\n"
     ]
    },
    {
     "name": "stderr",
     "output_type": "stream",
     "text": [
      "[2024-01-28 12:09:43,734] p75618 {701838357.py:48} INFO - get_inference, done, endpoint=llama-2-70b-g5-48xlarge-1706460294, completion_tokens=102, latency=13.77\n"
     ]
    },
    {
     "name": "stdout",
     "output_type": "stream",
     "text": [
      "Data successfully written to s3://fmbt2039/data/metrics/llama2-70b-g5-p4d-trt-v1/per_chunk/1706461783.736483.json\n"
     ]
    },
    {
     "name": "stderr",
     "output_type": "stream",
     "text": [
      "[2024-01-28 12:09:44,179] p75618 {1751706209.py:26} INFO - e_idx=1/2, chunk_index=6/32\n",
      "[2024-01-28 12:09:44,180] p75618 {1750118496.py:3} INFO - Processing chunk with concurrency=1\n",
      "[2024-01-28 12:09:44,193] p75618 {701838357.py:23} INFO - get_inference, endpoint=llama-2-70b-g5-48xlarge-1706460294, prompt_tokens=2150\n"
     ]
    },
    {
     "name": "stdout",
     "output_type": "stream",
     "text": [
      "Data successfully written to s3://fmbt2039/data/metrics/llama2-70b-g5-p4d-trt-v1/per_inference/1706461783.951519.json\n"
     ]
    },
    {
     "name": "stderr",
     "output_type": "stream",
     "text": [
      "[2024-01-28 12:09:57,090] p75618 {701838357.py:48} INFO - get_inference, done, endpoint=llama-2-70b-g5-48xlarge-1706460294, completion_tokens=102, latency=12.84\n"
     ]
    },
    {
     "name": "stdout",
     "output_type": "stream",
     "text": [
      "Data successfully written to s3://fmbt2039/data/metrics/llama2-70b-g5-p4d-trt-v1/per_chunk/1706461797.092932.json\n"
     ]
    },
    {
     "name": "stderr",
     "output_type": "stream",
     "text": [
      "[2024-01-28 12:09:57,545] p75618 {1751706209.py:26} INFO - e_idx=1/2, chunk_index=7/32\n",
      "[2024-01-28 12:09:57,546] p75618 {1750118496.py:3} INFO - Processing chunk with concurrency=1\n",
      "[2024-01-28 12:09:57,554] p75618 {701838357.py:23} INFO - get_inference, endpoint=llama-2-70b-g5-48xlarge-1706460294, prompt_tokens=2803\n"
     ]
    },
    {
     "name": "stdout",
     "output_type": "stream",
     "text": [
      "Data successfully written to s3://fmbt2039/data/metrics/llama2-70b-g5-p4d-trt-v1/per_inference/1706461797.3226082.json\n"
     ]
    },
    {
     "name": "stderr",
     "output_type": "stream",
     "text": [
      "[2024-01-28 12:10:13,274] p75618 {701838357.py:48} INFO - get_inference, done, endpoint=llama-2-70b-g5-48xlarge-1706460294, completion_tokens=101, latency=15.72\n",
      "[2024-01-28 12:10:13,714] p75618 {1751706209.py:26} INFO - e_idx=1/2, chunk_index=8/32\n",
      "[2024-01-28 12:10:13,715] p75618 {1750118496.py:3} INFO - Processing chunk with concurrency=1\n",
      "[2024-01-28 12:10:13,734] p75618 {701838357.py:23} INFO - get_inference, endpoint=llama-2-70b-g5-48xlarge-1706460294, prompt_tokens=2369\n"
     ]
    },
    {
     "name": "stdout",
     "output_type": "stream",
     "text": [
      "Data successfully written to s3://fmbt2039/data/metrics/llama2-70b-g5-p4d-trt-v1/per_chunk/1706461813.278052.json\n",
      "Data successfully written to s3://fmbt2039/data/metrics/llama2-70b-g5-p4d-trt-v1/per_inference/1706461813.549855.json\n"
     ]
    },
    {
     "name": "stderr",
     "output_type": "stream",
     "text": [
      "[2024-01-28 12:10:27,401] p75618 {701838357.py:48} INFO - get_inference, done, endpoint=llama-2-70b-g5-48xlarge-1706460294, completion_tokens=102, latency=13.67\n",
      "[2024-01-28 12:10:27,770] p75618 {1751706209.py:26} INFO - e_idx=1/2, chunk_index=9/32\n",
      "[2024-01-28 12:10:27,771] p75618 {1750118496.py:3} INFO - Processing chunk with concurrency=1\n",
      "[2024-01-28 12:10:27,790] p75618 {701838357.py:23} INFO - get_inference, endpoint=llama-2-70b-g5-48xlarge-1706460294, prompt_tokens=2675\n"
     ]
    },
    {
     "name": "stdout",
     "output_type": "stream",
     "text": [
      "Data successfully written to s3://fmbt2039/data/metrics/llama2-70b-g5-p4d-trt-v1/per_chunk/1706461827.403563.json\n",
      "Data successfully written to s3://fmbt2039/data/metrics/llama2-70b-g5-p4d-trt-v1/per_inference/1706461827.598955.json\n"
     ]
    },
    {
     "name": "stderr",
     "output_type": "stream",
     "text": [
      "[2024-01-28 12:10:43,069] p75618 {701838357.py:48} INFO - get_inference, done, endpoint=llama-2-70b-g5-48xlarge-1706460294, completion_tokens=102, latency=15.27\n"
     ]
    },
    {
     "name": "stdout",
     "output_type": "stream",
     "text": [
      "Data successfully written to s3://fmbt2039/data/metrics/llama2-70b-g5-p4d-trt-v1/per_chunk/1706461843.074733.json\n"
     ]
    },
    {
     "name": "stderr",
     "output_type": "stream",
     "text": [
      "[2024-01-28 12:10:43,554] p75618 {1751706209.py:26} INFO - e_idx=1/2, chunk_index=10/32\n",
      "[2024-01-28 12:10:43,555] p75618 {1750118496.py:3} INFO - Processing chunk with concurrency=1\n",
      "[2024-01-28 12:10:43,567] p75618 {701838357.py:23} INFO - get_inference, endpoint=llama-2-70b-g5-48xlarge-1706460294, prompt_tokens=2541\n"
     ]
    },
    {
     "name": "stdout",
     "output_type": "stream",
     "text": [
      "Data successfully written to s3://fmbt2039/data/metrics/llama2-70b-g5-p4d-trt-v1/per_inference/1706461843.289514.json\n"
     ]
    },
    {
     "name": "stderr",
     "output_type": "stream",
     "text": [
      "[2024-01-28 12:10:57,775] p75618 {701838357.py:48} INFO - get_inference, done, endpoint=llama-2-70b-g5-48xlarge-1706460294, completion_tokens=102, latency=14.21\n"
     ]
    },
    {
     "name": "stdout",
     "output_type": "stream",
     "text": [
      "Data successfully written to s3://fmbt2039/data/metrics/llama2-70b-g5-p4d-trt-v1/per_chunk/1706461857.778465.json\n"
     ]
    },
    {
     "name": "stderr",
     "output_type": "stream",
     "text": [
      "[2024-01-28 12:10:58,218] p75618 {1751706209.py:26} INFO - e_idx=1/2, chunk_index=11/32\n",
      "[2024-01-28 12:10:58,218] p75618 {1750118496.py:3} INFO - Processing chunk with concurrency=1\n",
      "[2024-01-28 12:10:58,229] p75618 {701838357.py:23} INFO - get_inference, endpoint=llama-2-70b-g5-48xlarge-1706460294, prompt_tokens=2186\n"
     ]
    },
    {
     "name": "stdout",
     "output_type": "stream",
     "text": [
      "Data successfully written to s3://fmbt2039/data/metrics/llama2-70b-g5-p4d-trt-v1/per_inference/1706461857.968318.json\n"
     ]
    },
    {
     "name": "stderr",
     "output_type": "stream",
     "text": [
      "[2024-01-28 12:11:11,185] p75618 {701838357.py:48} INFO - get_inference, done, endpoint=llama-2-70b-g5-48xlarge-1706460294, completion_tokens=101, latency=12.95\n"
     ]
    },
    {
     "name": "stdout",
     "output_type": "stream",
     "text": [
      "Data successfully written to s3://fmbt2039/data/metrics/llama2-70b-g5-p4d-trt-v1/per_chunk/1706461871.188097.json\n"
     ]
    },
    {
     "name": "stderr",
     "output_type": "stream",
     "text": [
      "[2024-01-28 12:11:11,753] p75618 {1751706209.py:26} INFO - e_idx=1/2, chunk_index=12/32\n",
      "[2024-01-28 12:11:11,753] p75618 {1750118496.py:3} INFO - Processing chunk with concurrency=1\n",
      "[2024-01-28 12:11:11,771] p75618 {701838357.py:23} INFO - get_inference, endpoint=llama-2-70b-g5-48xlarge-1706460294, prompt_tokens=2775\n"
     ]
    },
    {
     "name": "stdout",
     "output_type": "stream",
     "text": [
      "Data successfully written to s3://fmbt2039/data/metrics/llama2-70b-g5-p4d-trt-v1/per_inference/1706461871.5273972.json\n"
     ]
    },
    {
     "name": "stderr",
     "output_type": "stream",
     "text": [
      "[2024-01-28 12:11:27,281] p75618 {701838357.py:48} INFO - get_inference, done, endpoint=llama-2-70b-g5-48xlarge-1706460294, completion_tokens=102, latency=15.51\n"
     ]
    },
    {
     "name": "stdout",
     "output_type": "stream",
     "text": [
      "Data successfully written to s3://fmbt2039/data/metrics/llama2-70b-g5-p4d-trt-v1/per_chunk/1706461887.283442.json\n"
     ]
    },
    {
     "name": "stderr",
     "output_type": "stream",
     "text": [
      "[2024-01-28 12:11:27,725] p75618 {1751706209.py:26} INFO - e_idx=1/2, chunk_index=13/32\n",
      "[2024-01-28 12:11:27,726] p75618 {1750118496.py:3} INFO - Processing chunk with concurrency=1\n",
      "[2024-01-28 12:11:27,743] p75618 {701838357.py:23} INFO - get_inference, endpoint=llama-2-70b-g5-48xlarge-1706460294, prompt_tokens=2686\n"
     ]
    },
    {
     "name": "stdout",
     "output_type": "stream",
     "text": [
      "Data successfully written to s3://fmbt2039/data/metrics/llama2-70b-g5-p4d-trt-v1/per_inference/1706461887.483595.json\n"
     ]
    },
    {
     "name": "stderr",
     "output_type": "stream",
     "text": [
      "[2024-01-28 12:11:42,617] p75618 {701838357.py:48} INFO - get_inference, done, endpoint=llama-2-70b-g5-48xlarge-1706460294, completion_tokens=102, latency=14.87\n"
     ]
    },
    {
     "name": "stdout",
     "output_type": "stream",
     "text": [
      "Data successfully written to s3://fmbt2039/data/metrics/llama2-70b-g5-p4d-trt-v1/per_chunk/1706461902.620367.json\n"
     ]
    },
    {
     "name": "stderr",
     "output_type": "stream",
     "text": [
      "[2024-01-28 12:11:43,062] p75618 {1751706209.py:26} INFO - e_idx=1/2, chunk_index=14/32\n",
      "[2024-01-28 12:11:43,063] p75618 {1750118496.py:3} INFO - Processing chunk with concurrency=1\n",
      "[2024-01-28 12:11:43,082] p75618 {701838357.py:23} INFO - get_inference, endpoint=llama-2-70b-g5-48xlarge-1706460294, prompt_tokens=2500\n"
     ]
    },
    {
     "name": "stdout",
     "output_type": "stream",
     "text": [
      "Data successfully written to s3://fmbt2039/data/metrics/llama2-70b-g5-p4d-trt-v1/per_inference/1706461902.815459.json\n"
     ]
    },
    {
     "name": "stderr",
     "output_type": "stream",
     "text": [
      "[2024-01-28 12:11:57,339] p75618 {701838357.py:48} INFO - get_inference, done, endpoint=llama-2-70b-g5-48xlarge-1706460294, completion_tokens=102, latency=14.26\n"
     ]
    },
    {
     "name": "stdout",
     "output_type": "stream",
     "text": [
      "Data successfully written to s3://fmbt2039/data/metrics/llama2-70b-g5-p4d-trt-v1/per_chunk/1706461917.342035.json\n"
     ]
    },
    {
     "name": "stderr",
     "output_type": "stream",
     "text": [
      "[2024-01-28 12:11:57,923] p75618 {1751706209.py:26} INFO - e_idx=1/2, chunk_index=15/32\n",
      "[2024-01-28 12:11:57,924] p75618 {1750118496.py:3} INFO - Processing chunk with concurrency=1\n",
      "[2024-01-28 12:11:57,942] p75618 {701838357.py:23} INFO - get_inference, endpoint=llama-2-70b-g5-48xlarge-1706460294, prompt_tokens=2443\n"
     ]
    },
    {
     "name": "stdout",
     "output_type": "stream",
     "text": [
      "Data successfully written to s3://fmbt2039/data/metrics/llama2-70b-g5-p4d-trt-v1/per_inference/1706461917.536362.json\n"
     ]
    },
    {
     "name": "stderr",
     "output_type": "stream",
     "text": [
      "[2024-01-28 12:12:11,836] p75618 {701838357.py:48} INFO - get_inference, done, endpoint=llama-2-70b-g5-48xlarge-1706460294, completion_tokens=102, latency=13.89\n"
     ]
    },
    {
     "name": "stdout",
     "output_type": "stream",
     "text": [
      "Data successfully written to s3://fmbt2039/data/metrics/llama2-70b-g5-p4d-trt-v1/per_chunk/1706461931.840127.json\n"
     ]
    },
    {
     "name": "stderr",
     "output_type": "stream",
     "text": [
      "[2024-01-28 12:12:12,219] p75618 {1751706209.py:26} INFO - e_idx=1/2, chunk_index=16/32\n",
      "[2024-01-28 12:12:12,220] p75618 {1750118496.py:3} INFO - Processing chunk with concurrency=1\n",
      "[2024-01-28 12:12:12,238] p75618 {701838357.py:23} INFO - get_inference, endpoint=llama-2-70b-g5-48xlarge-1706460294, prompt_tokens=2321\n"
     ]
    },
    {
     "name": "stdout",
     "output_type": "stream",
     "text": [
      "Data successfully written to s3://fmbt2039/data/metrics/llama2-70b-g5-p4d-trt-v1/per_inference/1706461932.00141.json\n"
     ]
    },
    {
     "name": "stderr",
     "output_type": "stream",
     "text": [
      "[2024-01-28 12:12:25,619] p75618 {701838357.py:48} INFO - get_inference, done, endpoint=llama-2-70b-g5-48xlarge-1706460294, completion_tokens=102, latency=13.38\n",
      "[2024-01-28 12:12:25,970] p75618 {1751706209.py:26} INFO - e_idx=1/2, chunk_index=17/32\n",
      "[2024-01-28 12:12:25,970] p75618 {1750118496.py:3} INFO - Processing chunk with concurrency=1\n",
      "[2024-01-28 12:12:25,979] p75618 {701838357.py:23} INFO - get_inference, endpoint=llama-2-70b-g5-48xlarge-1706460294, prompt_tokens=2428\n"
     ]
    },
    {
     "name": "stdout",
     "output_type": "stream",
     "text": [
      "Data successfully written to s3://fmbt2039/data/metrics/llama2-70b-g5-p4d-trt-v1/per_chunk/1706461945.6207302.json\n",
      "Data successfully written to s3://fmbt2039/data/metrics/llama2-70b-g5-p4d-trt-v1/per_inference/1706461945.8007429.json\n"
     ]
    },
    {
     "name": "stderr",
     "output_type": "stream",
     "text": [
      "[2024-01-28 12:12:39,743] p75618 {701838357.py:48} INFO - get_inference, done, endpoint=llama-2-70b-g5-48xlarge-1706460294, completion_tokens=102, latency=13.76\n"
     ]
    },
    {
     "name": "stdout",
     "output_type": "stream",
     "text": [
      "Data successfully written to s3://fmbt2039/data/metrics/llama2-70b-g5-p4d-trt-v1/per_chunk/1706461959.74683.json\n"
     ]
    },
    {
     "name": "stderr",
     "output_type": "stream",
     "text": [
      "[2024-01-28 12:12:40,187] p75618 {1751706209.py:26} INFO - e_idx=1/2, chunk_index=18/32\n",
      "[2024-01-28 12:12:40,189] p75618 {1750118496.py:3} INFO - Processing chunk with concurrency=1\n",
      "[2024-01-28 12:12:40,210] p75618 {701838357.py:23} INFO - get_inference, endpoint=llama-2-70b-g5-48xlarge-1706460294, prompt_tokens=2458\n"
     ]
    },
    {
     "name": "stdout",
     "output_type": "stream",
     "text": [
      "Data successfully written to s3://fmbt2039/data/metrics/llama2-70b-g5-p4d-trt-v1/per_inference/1706461959.939127.json\n"
     ]
    },
    {
     "name": "stderr",
     "output_type": "stream",
     "text": [
      "[2024-01-28 12:12:54,330] p75618 {701838357.py:48} INFO - get_inference, done, endpoint=llama-2-70b-g5-48xlarge-1706460294, completion_tokens=102, latency=14.12\n"
     ]
    },
    {
     "name": "stdout",
     "output_type": "stream",
     "text": [
      "Data successfully written to s3://fmbt2039/data/metrics/llama2-70b-g5-p4d-trt-v1/per_chunk/1706461974.334408.json\n"
     ]
    },
    {
     "name": "stderr",
     "output_type": "stream",
     "text": [
      "[2024-01-28 12:12:54,771] p75618 {1751706209.py:26} INFO - e_idx=1/2, chunk_index=19/32\n",
      "[2024-01-28 12:12:54,772] p75618 {1750118496.py:3} INFO - Processing chunk with concurrency=1\n",
      "[2024-01-28 12:12:54,788] p75618 {701838357.py:23} INFO - get_inference, endpoint=llama-2-70b-g5-48xlarge-1706460294, prompt_tokens=2101\n"
     ]
    },
    {
     "name": "stdout",
     "output_type": "stream",
     "text": [
      "Data successfully written to s3://fmbt2039/data/metrics/llama2-70b-g5-p4d-trt-v1/per_inference/1706461974.5237792.json\n"
     ]
    },
    {
     "name": "stderr",
     "output_type": "stream",
     "text": [
      "[2024-01-28 12:13:07,409] p75618 {701838357.py:48} INFO - get_inference, done, endpoint=llama-2-70b-g5-48xlarge-1706460294, completion_tokens=102, latency=12.62\n"
     ]
    },
    {
     "name": "stdout",
     "output_type": "stream",
     "text": [
      "Data successfully written to s3://fmbt2039/data/metrics/llama2-70b-g5-p4d-trt-v1/per_chunk/1706461987.412029.json\n"
     ]
    },
    {
     "name": "stderr",
     "output_type": "stream",
     "text": [
      "[2024-01-28 12:13:07,812] p75618 {1751706209.py:26} INFO - e_idx=1/2, chunk_index=20/32\n",
      "[2024-01-28 12:13:07,813] p75618 {1750118496.py:3} INFO - Processing chunk with concurrency=1\n",
      "[2024-01-28 12:13:07,829] p75618 {701838357.py:23} INFO - get_inference, endpoint=llama-2-70b-g5-48xlarge-1706460294, prompt_tokens=2440\n"
     ]
    },
    {
     "name": "stdout",
     "output_type": "stream",
     "text": [
      "Data successfully written to s3://fmbt2039/data/metrics/llama2-70b-g5-p4d-trt-v1/per_inference/1706461987.5814872.json\n"
     ]
    },
    {
     "name": "stderr",
     "output_type": "stream",
     "text": [
      "[2024-01-28 12:13:22,125] p75618 {701838357.py:48} INFO - get_inference, done, endpoint=llama-2-70b-g5-48xlarge-1706460294, completion_tokens=102, latency=14.29\n",
      "[2024-01-28 12:13:22,531] p75618 {1751706209.py:26} INFO - e_idx=1/2, chunk_index=21/32\n",
      "[2024-01-28 12:13:22,532] p75618 {1750118496.py:3} INFO - Processing chunk with concurrency=1\n"
     ]
    },
    {
     "name": "stdout",
     "output_type": "stream",
     "text": [
      "Data successfully written to s3://fmbt2039/data/metrics/llama2-70b-g5-p4d-trt-v1/per_chunk/1706462002.130007.json\n",
      "Data successfully written to s3://fmbt2039/data/metrics/llama2-70b-g5-p4d-trt-v1/per_inference/1706462002.348941.json\n"
     ]
    },
    {
     "name": "stderr",
     "output_type": "stream",
     "text": [
      "[2024-01-28 12:13:22,553] p75618 {701838357.py:23} INFO - get_inference, endpoint=llama-2-70b-g5-48xlarge-1706460294, prompt_tokens=2711\n",
      "[2024-01-28 12:13:37,795] p75618 {701838357.py:48} INFO - get_inference, done, endpoint=llama-2-70b-g5-48xlarge-1706460294, completion_tokens=102, latency=15.24\n",
      "[2024-01-28 12:13:38,226] p75618 {1751706209.py:26} INFO - e_idx=1/2, chunk_index=22/32\n",
      "[2024-01-28 12:13:38,228] p75618 {1750118496.py:3} INFO - Processing chunk with concurrency=1\n"
     ]
    },
    {
     "name": "stdout",
     "output_type": "stream",
     "text": [
      "Data successfully written to s3://fmbt2039/data/metrics/llama2-70b-g5-p4d-trt-v1/per_chunk/1706462017.801107.json\n",
      "Data successfully written to s3://fmbt2039/data/metrics/llama2-70b-g5-p4d-trt-v1/per_inference/1706462018.030903.json\n"
     ]
    },
    {
     "name": "stderr",
     "output_type": "stream",
     "text": [
      "[2024-01-28 12:13:38,263] p75618 {701838357.py:23} INFO - get_inference, endpoint=llama-2-70b-g5-48xlarge-1706460294, prompt_tokens=2771\n",
      "[2024-01-28 12:13:53,824] p75618 {701838357.py:48} INFO - get_inference, done, endpoint=llama-2-70b-g5-48xlarge-1706460294, completion_tokens=102, latency=15.56\n"
     ]
    },
    {
     "name": "stdout",
     "output_type": "stream",
     "text": [
      "Data successfully written to s3://fmbt2039/data/metrics/llama2-70b-g5-p4d-trt-v1/per_chunk/1706462033.826321.json\n"
     ]
    },
    {
     "name": "stderr",
     "output_type": "stream",
     "text": [
      "[2024-01-28 12:13:54,278] p75618 {1751706209.py:26} INFO - e_idx=1/2, chunk_index=23/32\n",
      "[2024-01-28 12:13:54,278] p75618 {1750118496.py:3} INFO - Processing chunk with concurrency=1\n",
      "[2024-01-28 12:13:54,287] p75618 {701838357.py:23} INFO - get_inference, endpoint=llama-2-70b-g5-48xlarge-1706460294, prompt_tokens=2691\n"
     ]
    },
    {
     "name": "stdout",
     "output_type": "stream",
     "text": [
      "Data successfully written to s3://fmbt2039/data/metrics/llama2-70b-g5-p4d-trt-v1/per_inference/1706462034.051965.json\n"
     ]
    },
    {
     "name": "stderr",
     "output_type": "stream",
     "text": [
      "[2024-01-28 12:14:09,352] p75618 {701838357.py:48} INFO - get_inference, done, endpoint=llama-2-70b-g5-48xlarge-1706460294, completion_tokens=102, latency=15.06\n"
     ]
    },
    {
     "name": "stdout",
     "output_type": "stream",
     "text": [
      "Data successfully written to s3://fmbt2039/data/metrics/llama2-70b-g5-p4d-trt-v1/per_chunk/1706462049.3540711.json\n"
     ]
    },
    {
     "name": "stderr",
     "output_type": "stream",
     "text": [
      "[2024-01-28 12:14:09,803] p75618 {1751706209.py:26} INFO - e_idx=1/2, chunk_index=24/32\n",
      "[2024-01-28 12:14:09,803] p75618 {1750118496.py:3} INFO - Processing chunk with concurrency=1\n",
      "[2024-01-28 12:14:09,825] p75618 {701838357.py:23} INFO - get_inference, endpoint=llama-2-70b-g5-48xlarge-1706460294, prompt_tokens=2624\n"
     ]
    },
    {
     "name": "stdout",
     "output_type": "stream",
     "text": [
      "Data successfully written to s3://fmbt2039/data/metrics/llama2-70b-g5-p4d-trt-v1/per_inference/1706462049.569994.json\n"
     ]
    },
    {
     "name": "stderr",
     "output_type": "stream",
     "text": [
      "[2024-01-28 12:14:24,799] p75618 {701838357.py:48} INFO - get_inference, done, endpoint=llama-2-70b-g5-48xlarge-1706460294, completion_tokens=102, latency=14.97\n"
     ]
    },
    {
     "name": "stdout",
     "output_type": "stream",
     "text": [
      "Data successfully written to s3://fmbt2039/data/metrics/llama2-70b-g5-p4d-trt-v1/per_chunk/1706462064.8038452.json\n"
     ]
    },
    {
     "name": "stderr",
     "output_type": "stream",
     "text": [
      "[2024-01-28 12:14:25,266] p75618 {1751706209.py:26} INFO - e_idx=1/2, chunk_index=25/32\n",
      "[2024-01-28 12:14:25,267] p75618 {1750118496.py:3} INFO - Processing chunk with concurrency=1\n",
      "[2024-01-28 12:14:25,293] p75618 {701838357.py:23} INFO - get_inference, endpoint=llama-2-70b-g5-48xlarge-1706460294, prompt_tokens=2062\n"
     ]
    },
    {
     "name": "stdout",
     "output_type": "stream",
     "text": [
      "Data successfully written to s3://fmbt2039/data/metrics/llama2-70b-g5-p4d-trt-v1/per_inference/1706462065.020154.json\n"
     ]
    },
    {
     "name": "stderr",
     "output_type": "stream",
     "text": [
      "[2024-01-28 12:14:38,005] p75618 {701838357.py:48} INFO - get_inference, done, endpoint=llama-2-70b-g5-48xlarge-1706460294, completion_tokens=102, latency=12.71\n"
     ]
    },
    {
     "name": "stdout",
     "output_type": "stream",
     "text": [
      "Data successfully written to s3://fmbt2039/data/metrics/llama2-70b-g5-p4d-trt-v1/per_chunk/1706462078.0071738.json\n"
     ]
    },
    {
     "name": "stderr",
     "output_type": "stream",
     "text": [
      "[2024-01-28 12:14:38,423] p75618 {1751706209.py:26} INFO - e_idx=1/2, chunk_index=26/32\n",
      "[2024-01-28 12:14:38,424] p75618 {1750118496.py:3} INFO - Processing chunk with concurrency=1\n",
      "[2024-01-28 12:14:38,445] p75618 {701838357.py:23} INFO - get_inference, endpoint=llama-2-70b-g5-48xlarge-1706460294, prompt_tokens=2213\n"
     ]
    },
    {
     "name": "stdout",
     "output_type": "stream",
     "text": [
      "Data successfully written to s3://fmbt2039/data/metrics/llama2-70b-g5-p4d-trt-v1/per_inference/1706462078.193016.json\n"
     ]
    },
    {
     "name": "stderr",
     "output_type": "stream",
     "text": [
      "[2024-01-28 12:14:51,550] p75618 {701838357.py:48} INFO - get_inference, done, endpoint=llama-2-70b-g5-48xlarge-1706460294, completion_tokens=102, latency=13.10\n"
     ]
    },
    {
     "name": "stdout",
     "output_type": "stream",
     "text": [
      "Data successfully written to s3://fmbt2039/data/metrics/llama2-70b-g5-p4d-trt-v1/per_chunk/1706462091.553428.json\n"
     ]
    },
    {
     "name": "stderr",
     "output_type": "stream",
     "text": [
      "[2024-01-28 12:14:52,017] p75618 {1751706209.py:26} INFO - e_idx=1/2, chunk_index=27/32\n",
      "[2024-01-28 12:14:52,018] p75618 {1750118496.py:3} INFO - Processing chunk with concurrency=1\n",
      "[2024-01-28 12:14:52,043] p75618 {701838357.py:23} INFO - get_inference, endpoint=llama-2-70b-g5-48xlarge-1706460294, prompt_tokens=2608\n"
     ]
    },
    {
     "name": "stdout",
     "output_type": "stream",
     "text": [
      "Data successfully written to s3://fmbt2039/data/metrics/llama2-70b-g5-p4d-trt-v1/per_inference/1706462091.7648919.json\n"
     ]
    },
    {
     "name": "stderr",
     "output_type": "stream",
     "text": [
      "[2024-01-28 12:15:07,067] p75618 {701838357.py:48} INFO - get_inference, done, endpoint=llama-2-70b-g5-48xlarge-1706460294, completion_tokens=102, latency=15.02\n"
     ]
    },
    {
     "name": "stdout",
     "output_type": "stream",
     "text": [
      "Data successfully written to s3://fmbt2039/data/metrics/llama2-70b-g5-p4d-trt-v1/per_chunk/1706462107.074784.json\n",
      "Data successfully written to s3://fmbt2039/data/metrics/llama2-70b-g5-p4d-trt-v1/per_inference/1706462107.328418.json\n"
     ]
    },
    {
     "name": "stderr",
     "output_type": "stream",
     "text": [
      "[2024-01-28 12:15:07,527] p75618 {1751706209.py:26} INFO - e_idx=1/2, chunk_index=28/32\n",
      "[2024-01-28 12:15:07,529] p75618 {1750118496.py:3} INFO - Processing chunk with concurrency=1\n",
      "[2024-01-28 12:15:07,549] p75618 {701838357.py:23} INFO - get_inference, endpoint=llama-2-70b-g5-48xlarge-1706460294, prompt_tokens=2770\n",
      "[2024-01-28 12:15:22,792] p75618 {701838357.py:48} INFO - get_inference, done, endpoint=llama-2-70b-g5-48xlarge-1706460294, completion_tokens=102, latency=15.24\n",
      "[2024-01-28 12:15:23,209] p75618 {1751706209.py:26} INFO - e_idx=1/2, chunk_index=29/32\n",
      "[2024-01-28 12:15:23,211] p75618 {1750118496.py:3} INFO - Processing chunk with concurrency=1\n"
     ]
    },
    {
     "name": "stdout",
     "output_type": "stream",
     "text": [
      "Data successfully written to s3://fmbt2039/data/metrics/llama2-70b-g5-p4d-trt-v1/per_chunk/1706462122.793779.json\n",
      "Data successfully written to s3://fmbt2039/data/metrics/llama2-70b-g5-p4d-trt-v1/per_inference/1706462123.0149179.json\n"
     ]
    },
    {
     "name": "stderr",
     "output_type": "stream",
     "text": [
      "[2024-01-28 12:15:23,242] p75618 {701838357.py:23} INFO - get_inference, endpoint=llama-2-70b-g5-48xlarge-1706460294, prompt_tokens=2564\n",
      "[2024-01-28 12:15:37,610] p75618 {701838357.py:48} INFO - get_inference, done, endpoint=llama-2-70b-g5-48xlarge-1706460294, completion_tokens=102, latency=14.37\n"
     ]
    },
    {
     "name": "stdout",
     "output_type": "stream",
     "text": [
      "Data successfully written to s3://fmbt2039/data/metrics/llama2-70b-g5-p4d-trt-v1/per_chunk/1706462137.6164749.json\n"
     ]
    },
    {
     "name": "stderr",
     "output_type": "stream",
     "text": [
      "[2024-01-28 12:15:38,649] p75618 {1751706209.py:26} INFO - e_idx=1/2, chunk_index=30/32\n",
      "[2024-01-28 12:15:38,649] p75618 {1750118496.py:3} INFO - Processing chunk with concurrency=1\n",
      "[2024-01-28 12:15:38,660] p75618 {701838357.py:23} INFO - get_inference, endpoint=llama-2-70b-g5-48xlarge-1706460294, prompt_tokens=2333\n"
     ]
    },
    {
     "name": "stdout",
     "output_type": "stream",
     "text": [
      "Data successfully written to s3://fmbt2039/data/metrics/llama2-70b-g5-p4d-trt-v1/per_inference/1706462138.083358.json\n"
     ]
    },
    {
     "name": "stderr",
     "output_type": "stream",
     "text": [
      "[2024-01-28 12:15:52,145] p75618 {701838357.py:48} INFO - get_inference, done, endpoint=llama-2-70b-g5-48xlarge-1706460294, completion_tokens=102, latency=13.48\n"
     ]
    },
    {
     "name": "stdout",
     "output_type": "stream",
     "text": [
      "Data successfully written to s3://fmbt2039/data/metrics/llama2-70b-g5-p4d-trt-v1/per_chunk/1706462152.147295.json\n"
     ]
    },
    {
     "name": "stderr",
     "output_type": "stream",
     "text": [
      "[2024-01-28 12:15:52,525] p75618 {1751706209.py:26} INFO - e_idx=1/2, chunk_index=31/32\n",
      "[2024-01-28 12:15:52,526] p75618 {1750118496.py:3} INFO - Processing chunk with concurrency=1\n",
      "[2024-01-28 12:15:52,547] p75618 {701838357.py:23} INFO - get_inference, endpoint=llama-2-70b-g5-48xlarge-1706460294, prompt_tokens=2613\n"
     ]
    },
    {
     "name": "stdout",
     "output_type": "stream",
     "text": [
      "Data successfully written to s3://fmbt2039/data/metrics/llama2-70b-g5-p4d-trt-v1/per_inference/1706462152.322217.json\n"
     ]
    },
    {
     "name": "stderr",
     "output_type": "stream",
     "text": [
      "[2024-01-28 12:16:07,366] p75618 {701838357.py:48} INFO - get_inference, done, endpoint=llama-2-70b-g5-48xlarge-1706460294, completion_tokens=102, latency=14.82\n",
      "[2024-01-28 12:16:07,757] p75618 {1751706209.py:26} INFO - e_idx=1/2, chunk_index=32/32\n",
      "[2024-01-28 12:16:07,758] p75618 {1750118496.py:3} INFO - Processing chunk with concurrency=1\n"
     ]
    },
    {
     "name": "stdout",
     "output_type": "stream",
     "text": [
      "Data successfully written to s3://fmbt2039/data/metrics/llama2-70b-g5-p4d-trt-v1/per_chunk/1706462167.3698492.json\n",
      "Data successfully written to s3://fmbt2039/data/metrics/llama2-70b-g5-p4d-trt-v1/per_inference/1706462167.564896.json\n"
     ]
    },
    {
     "name": "stderr",
     "output_type": "stream",
     "text": [
      "[2024-01-28 12:16:07,775] p75618 {701838357.py:23} INFO - get_inference, endpoint=llama-2-70b-g5-48xlarge-1706460294, prompt_tokens=2358\n",
      "[2024-01-28 12:16:21,427] p75618 {701838357.py:48} INFO - get_inference, done, endpoint=llama-2-70b-g5-48xlarge-1706460294, completion_tokens=102, latency=13.65\n",
      "[2024-01-28 12:16:21,806] p75618 {1751706209.py:26} INFO - e_idx=1/2, chunk_index=1/57\n",
      "[2024-01-28 12:16:21,807] p75618 {1750118496.py:3} INFO - Processing chunk with concurrency=1\n"
     ]
    },
    {
     "name": "stdout",
     "output_type": "stream",
     "text": [
      "Data successfully written to s3://fmbt2039/data/metrics/llama2-70b-g5-p4d-trt-v1/per_chunk/1706462181.43024.json\n",
      "Data successfully written to s3://fmbt2039/data/metrics/llama2-70b-g5-p4d-trt-v1/per_inference/1706462181.6110039.json\n"
     ]
    },
    {
     "name": "stderr",
     "output_type": "stream",
     "text": [
      "[2024-01-28 12:16:21,825] p75618 {701838357.py:23} INFO - get_inference, endpoint=llama-2-70b-g5-48xlarge-1706460294, prompt_tokens=3000\n",
      "[2024-01-28 12:16:38,144] p75618 {701838357.py:48} INFO - get_inference, done, endpoint=llama-2-70b-g5-48xlarge-1706460294, completion_tokens=102, latency=16.32\n"
     ]
    },
    {
     "name": "stdout",
     "output_type": "stream",
     "text": [
      "Data successfully written to s3://fmbt2039/data/metrics/llama2-70b-g5-p4d-trt-v1/per_chunk/1706462198.151179.json\n"
     ]
    },
    {
     "name": "stderr",
     "output_type": "stream",
     "text": [
      "[2024-01-28 12:16:38,634] p75618 {1751706209.py:26} INFO - e_idx=1/2, chunk_index=2/57\n",
      "[2024-01-28 12:16:38,636] p75618 {1750118496.py:3} INFO - Processing chunk with concurrency=1\n",
      "[2024-01-28 12:16:38,679] p75618 {701838357.py:23} INFO - get_inference, endpoint=llama-2-70b-g5-48xlarge-1706460294, prompt_tokens=3896\n"
     ]
    },
    {
     "name": "stdout",
     "output_type": "stream",
     "text": [
      "Data successfully written to s3://fmbt2039/data/metrics/llama2-70b-g5-p4d-trt-v1/per_inference/1706462198.3777769.json\n"
     ]
    },
    {
     "name": "stderr",
     "output_type": "stream",
     "text": [
      "[2024-01-28 12:16:58,302] p75618 {701838357.py:48} INFO - get_inference, done, endpoint=llama-2-70b-g5-48xlarge-1706460294, completion_tokens=102, latency=19.62\n"
     ]
    },
    {
     "name": "stdout",
     "output_type": "stream",
     "text": [
      "Data successfully written to s3://fmbt2039/data/metrics/llama2-70b-g5-p4d-trt-v1/per_chunk/1706462218.303953.json\n"
     ]
    },
    {
     "name": "stderr",
     "output_type": "stream",
     "text": [
      "[2024-01-28 12:16:58,706] p75618 {1751706209.py:26} INFO - e_idx=1/2, chunk_index=3/57\n",
      "[2024-01-28 12:16:58,707] p75618 {1750118496.py:3} INFO - Processing chunk with concurrency=1\n",
      "[2024-01-28 12:16:58,741] p75618 {701838357.py:23} INFO - get_inference, endpoint=llama-2-70b-g5-48xlarge-1706460294, prompt_tokens=3789\n"
     ]
    },
    {
     "name": "stdout",
     "output_type": "stream",
     "text": [
      "Data successfully written to s3://fmbt2039/data/metrics/llama2-70b-g5-p4d-trt-v1/per_inference/1706462218.499069.json\n"
     ]
    },
    {
     "name": "stderr",
     "output_type": "stream",
     "text": [
      "[2024-01-28 12:17:18,083] p75618 {701838357.py:48} INFO - get_inference, done, endpoint=llama-2-70b-g5-48xlarge-1706460294, completion_tokens=102, latency=19.34\n"
     ]
    },
    {
     "name": "stdout",
     "output_type": "stream",
     "text": [
      "Data successfully written to s3://fmbt2039/data/metrics/llama2-70b-g5-p4d-trt-v1/per_chunk/1706462238.085845.json\n"
     ]
    },
    {
     "name": "stderr",
     "output_type": "stream",
     "text": [
      "[2024-01-28 12:17:18,513] p75618 {1751706209.py:26} INFO - e_idx=1/2, chunk_index=4/57\n",
      "[2024-01-28 12:17:18,514] p75618 {1750118496.py:3} INFO - Processing chunk with concurrency=1\n",
      "[2024-01-28 12:17:18,537] p75618 {701838357.py:23} INFO - get_inference, endpoint=llama-2-70b-g5-48xlarge-1706460294, prompt_tokens=3450\n"
     ]
    },
    {
     "name": "stdout",
     "output_type": "stream",
     "text": [
      "Data successfully written to s3://fmbt2039/data/metrics/llama2-70b-g5-p4d-trt-v1/per_inference/1706462238.272243.json\n"
     ]
    },
    {
     "name": "stderr",
     "output_type": "stream",
     "text": [
      "[2024-01-28 12:17:36,284] p75618 {701838357.py:48} INFO - get_inference, done, endpoint=llama-2-70b-g5-48xlarge-1706460294, completion_tokens=102, latency=17.74\n"
     ]
    },
    {
     "name": "stdout",
     "output_type": "stream",
     "text": [
      "Data successfully written to s3://fmbt2039/data/metrics/llama2-70b-g5-p4d-trt-v1/per_chunk/1706462256.286.json\n"
     ]
    },
    {
     "name": "stderr",
     "output_type": "stream",
     "text": [
      "[2024-01-28 12:17:36,783] p75618 {1751706209.py:26} INFO - e_idx=1/2, chunk_index=5/57\n",
      "[2024-01-28 12:17:36,783] p75618 {1750118496.py:3} INFO - Processing chunk with concurrency=1\n",
      "[2024-01-28 12:17:36,806] p75618 {701838357.py:23} INFO - get_inference, endpoint=llama-2-70b-g5-48xlarge-1706460294, prompt_tokens=3482\n"
     ]
    },
    {
     "name": "stdout",
     "output_type": "stream",
     "text": [
      "Data successfully written to s3://fmbt2039/data/metrics/llama2-70b-g5-p4d-trt-v1/per_inference/1706462256.5015428.json\n"
     ]
    },
    {
     "name": "stderr",
     "output_type": "stream",
     "text": [
      "[2024-01-28 12:17:54,798] p75618 {701838357.py:48} INFO - get_inference, done, endpoint=llama-2-70b-g5-48xlarge-1706460294, completion_tokens=102, latency=17.99\n"
     ]
    },
    {
     "name": "stdout",
     "output_type": "stream",
     "text": [
      "Data successfully written to s3://fmbt2039/data/metrics/llama2-70b-g5-p4d-trt-v1/per_chunk/1706462274.800815.json\n"
     ]
    },
    {
     "name": "stderr",
     "output_type": "stream",
     "text": [
      "[2024-01-28 12:17:55,258] p75618 {1751706209.py:26} INFO - e_idx=1/2, chunk_index=6/57\n",
      "[2024-01-28 12:17:55,258] p75618 {1750118496.py:3} INFO - Processing chunk with concurrency=1\n",
      "[2024-01-28 12:17:55,276] p75618 {701838357.py:23} INFO - get_inference, endpoint=llama-2-70b-g5-48xlarge-1706460294, prompt_tokens=3144\n"
     ]
    },
    {
     "name": "stdout",
     "output_type": "stream",
     "text": [
      "Data successfully written to s3://fmbt2039/data/metrics/llama2-70b-g5-p4d-trt-v1/per_inference/1706462275.005314.json\n"
     ]
    },
    {
     "name": "stderr",
     "output_type": "stream",
     "text": [
      "[2024-01-28 12:18:12,027] p75618 {701838357.py:48} INFO - get_inference, done, endpoint=llama-2-70b-g5-48xlarge-1706460294, completion_tokens=102, latency=16.75\n"
     ]
    },
    {
     "name": "stdout",
     "output_type": "stream",
     "text": [
      "Data successfully written to s3://fmbt2039/data/metrics/llama2-70b-g5-p4d-trt-v1/per_chunk/1706462292.0298188.json\n"
     ]
    },
    {
     "name": "stderr",
     "output_type": "stream",
     "text": [
      "[2024-01-28 12:18:12,509] p75618 {1751706209.py:26} INFO - e_idx=1/2, chunk_index=7/57\n",
      "[2024-01-28 12:18:12,509] p75618 {1750118496.py:3} INFO - Processing chunk with concurrency=1\n",
      "[2024-01-28 12:18:12,531] p75618 {701838357.py:23} INFO - get_inference, endpoint=llama-2-70b-g5-48xlarge-1706460294, prompt_tokens=3639\n"
     ]
    },
    {
     "name": "stdout",
     "output_type": "stream",
     "text": [
      "Data successfully written to s3://fmbt2039/data/metrics/llama2-70b-g5-p4d-trt-v1/per_inference/1706462292.277594.json\n"
     ]
    },
    {
     "name": "stderr",
     "output_type": "stream",
     "text": [
      "[2024-01-28 12:18:31,103] p75618 {701838357.py:48} INFO - get_inference, done, endpoint=llama-2-70b-g5-48xlarge-1706460294, completion_tokens=102, latency=18.57\n"
     ]
    },
    {
     "name": "stdout",
     "output_type": "stream",
     "text": [
      "Data successfully written to s3://fmbt2039/data/metrics/llama2-70b-g5-p4d-trt-v1/per_chunk/1706462311.1054301.json\n"
     ]
    },
    {
     "name": "stderr",
     "output_type": "stream",
     "text": [
      "[2024-01-28 12:18:31,571] p75618 {1751706209.py:26} INFO - e_idx=1/2, chunk_index=8/57\n",
      "[2024-01-28 12:18:31,571] p75618 {1750118496.py:3} INFO - Processing chunk with concurrency=1\n",
      "[2024-01-28 12:18:31,587] p75618 {701838357.py:23} INFO - get_inference, endpoint=llama-2-70b-g5-48xlarge-1706460294, prompt_tokens=3014\n"
     ]
    },
    {
     "name": "stdout",
     "output_type": "stream",
     "text": [
      "Data successfully written to s3://fmbt2039/data/metrics/llama2-70b-g5-p4d-trt-v1/per_inference/1706462311.326041.json\n"
     ]
    },
    {
     "name": "stderr",
     "output_type": "stream",
     "text": [
      "[2024-01-28 12:18:47,944] p75618 {701838357.py:48} INFO - get_inference, done, endpoint=llama-2-70b-g5-48xlarge-1706460294, completion_tokens=102, latency=16.35\n"
     ]
    },
    {
     "name": "stdout",
     "output_type": "stream",
     "text": [
      "Data successfully written to s3://fmbt2039/data/metrics/llama2-70b-g5-p4d-trt-v1/per_chunk/1706462327.946704.json\n"
     ]
    },
    {
     "name": "stderr",
     "output_type": "stream",
     "text": [
      "[2024-01-28 12:18:48,381] p75618 {1751706209.py:26} INFO - e_idx=1/2, chunk_index=9/57\n",
      "[2024-01-28 12:18:48,382] p75618 {1750118496.py:3} INFO - Processing chunk with concurrency=1\n",
      "[2024-01-28 12:18:48,405] p75618 {701838357.py:23} INFO - get_inference, endpoint=llama-2-70b-g5-48xlarge-1706460294, prompt_tokens=3891\n"
     ]
    },
    {
     "name": "stdout",
     "output_type": "stream",
     "text": [
      "Data successfully written to s3://fmbt2039/data/metrics/llama2-70b-g5-p4d-trt-v1/per_inference/1706462328.16227.json\n"
     ]
    },
    {
     "name": "stderr",
     "output_type": "stream",
     "text": [
      "[2024-01-28 12:19:07,766] p75618 {701838357.py:48} INFO - get_inference, done, endpoint=llama-2-70b-g5-48xlarge-1706460294, completion_tokens=102, latency=19.36\n"
     ]
    },
    {
     "name": "stdout",
     "output_type": "stream",
     "text": [
      "Data successfully written to s3://fmbt2039/data/metrics/llama2-70b-g5-p4d-trt-v1/per_chunk/1706462347.768356.json\n"
     ]
    },
    {
     "name": "stderr",
     "output_type": "stream",
     "text": [
      "[2024-01-28 12:19:08,207] p75618 {1751706209.py:26} INFO - e_idx=1/2, chunk_index=10/57\n",
      "[2024-01-28 12:19:08,207] p75618 {1750118496.py:3} INFO - Processing chunk with concurrency=1\n",
      "[2024-01-28 12:19:08,231] p75618 {701838357.py:23} INFO - get_inference, endpoint=llama-2-70b-g5-48xlarge-1706460294, prompt_tokens=3575\n"
     ]
    },
    {
     "name": "stdout",
     "output_type": "stream",
     "text": [
      "Data successfully written to s3://fmbt2039/data/metrics/llama2-70b-g5-p4d-trt-v1/per_inference/1706462347.961466.json\n"
     ]
    },
    {
     "name": "stderr",
     "output_type": "stream",
     "text": [
      "[2024-01-28 12:19:26,670] p75618 {701838357.py:48} INFO - get_inference, done, endpoint=llama-2-70b-g5-48xlarge-1706460294, completion_tokens=102, latency=18.44\n"
     ]
    },
    {
     "name": "stdout",
     "output_type": "stream",
     "text": [
      "Data successfully written to s3://fmbt2039/data/metrics/llama2-70b-g5-p4d-trt-v1/per_chunk/1706462366.6720252.json\n"
     ]
    },
    {
     "name": "stderr",
     "output_type": "stream",
     "text": [
      "[2024-01-28 12:19:27,087] p75618 {1751706209.py:26} INFO - e_idx=1/2, chunk_index=11/57\n",
      "[2024-01-28 12:19:27,088] p75618 {1750118496.py:3} INFO - Processing chunk with concurrency=1\n",
      "[2024-01-28 12:19:27,108] p75618 {701838357.py:23} INFO - get_inference, endpoint=llama-2-70b-g5-48xlarge-1706460294, prompt_tokens=3419\n"
     ]
    },
    {
     "name": "stdout",
     "output_type": "stream",
     "text": [
      "Data successfully written to s3://fmbt2039/data/metrics/llama2-70b-g5-p4d-trt-v1/per_inference/1706462366.872112.json\n"
     ]
    },
    {
     "name": "stderr",
     "output_type": "stream",
     "text": [
      "[2024-01-28 12:19:44,812] p75618 {701838357.py:48} INFO - get_inference, done, endpoint=llama-2-70b-g5-48xlarge-1706460294, completion_tokens=102, latency=17.70\n"
     ]
    },
    {
     "name": "stdout",
     "output_type": "stream",
     "text": [
      "Data successfully written to s3://fmbt2039/data/metrics/llama2-70b-g5-p4d-trt-v1/per_chunk/1706462384.813555.json\n"
     ]
    },
    {
     "name": "stderr",
     "output_type": "stream",
     "text": [
      "[2024-01-28 12:19:45,294] p75618 {1751706209.py:26} INFO - e_idx=1/2, chunk_index=12/57\n",
      "[2024-01-28 12:19:45,295] p75618 {1750118496.py:3} INFO - Processing chunk with concurrency=1\n",
      "[2024-01-28 12:19:45,316] p75618 {701838357.py:23} INFO - get_inference, endpoint=llama-2-70b-g5-48xlarge-1706460294, prompt_tokens=3458\n"
     ]
    },
    {
     "name": "stdout",
     "output_type": "stream",
     "text": [
      "Data successfully written to s3://fmbt2039/data/metrics/llama2-70b-g5-p4d-trt-v1/per_inference/1706462385.027553.json\n"
     ]
    },
    {
     "name": "stderr",
     "output_type": "stream",
     "text": [
      "[2024-01-28 12:20:03,341] p75618 {701838357.py:48} INFO - get_inference, done, endpoint=llama-2-70b-g5-48xlarge-1706460294, completion_tokens=102, latency=18.02\n"
     ]
    },
    {
     "name": "stdout",
     "output_type": "stream",
     "text": [
      "Data successfully written to s3://fmbt2039/data/metrics/llama2-70b-g5-p4d-trt-v1/per_chunk/1706462403.343495.json\n"
     ]
    },
    {
     "name": "stderr",
     "output_type": "stream",
     "text": [
      "[2024-01-28 12:20:03,743] p75618 {1751706209.py:26} INFO - e_idx=1/2, chunk_index=13/57\n",
      "[2024-01-28 12:20:03,743] p75618 {1750118496.py:3} INFO - Processing chunk with concurrency=1\n",
      "[2024-01-28 12:20:03,755] p75618 {701838357.py:23} INFO - get_inference, endpoint=llama-2-70b-g5-48xlarge-1706460294, prompt_tokens=3508\n"
     ]
    },
    {
     "name": "stdout",
     "output_type": "stream",
     "text": [
      "Data successfully written to s3://fmbt2039/data/metrics/llama2-70b-g5-p4d-trt-v1/per_inference/1706462403.524118.json\n"
     ]
    },
    {
     "name": "stderr",
     "output_type": "stream",
     "text": [
      "[2024-01-28 12:20:21,767] p75618 {701838357.py:48} INFO - get_inference, done, endpoint=llama-2-70b-g5-48xlarge-1706460294, completion_tokens=102, latency=18.01\n",
      "[2024-01-28 12:20:22,129] p75618 {1751706209.py:26} INFO - e_idx=1/2, chunk_index=14/57\n",
      "[2024-01-28 12:20:22,130] p75618 {1750118496.py:3} INFO - Processing chunk with concurrency=1\n",
      "[2024-01-28 12:20:22,151] p75618 {701838357.py:23} INFO - get_inference, endpoint=llama-2-70b-g5-48xlarge-1706460294, prompt_tokens=3436\n"
     ]
    },
    {
     "name": "stdout",
     "output_type": "stream",
     "text": [
      "Data successfully written to s3://fmbt2039/data/metrics/llama2-70b-g5-p4d-trt-v1/per_chunk/1706462421.768918.json\n",
      "Data successfully written to s3://fmbt2039/data/metrics/llama2-70b-g5-p4d-trt-v1/per_inference/1706462421.960552.json\n"
     ]
    },
    {
     "name": "stderr",
     "output_type": "stream",
     "text": [
      "[2024-01-28 12:20:39,879] p75618 {701838357.py:48} INFO - get_inference, done, endpoint=llama-2-70b-g5-48xlarge-1706460294, completion_tokens=102, latency=17.73\n"
     ]
    },
    {
     "name": "stdout",
     "output_type": "stream",
     "text": [
      "Data successfully written to s3://fmbt2039/data/metrics/llama2-70b-g5-p4d-trt-v1/per_chunk/1706462439.880791.json\n",
      "Data successfully written to s3://fmbt2039/data/metrics/llama2-70b-g5-p4d-trt-v1/per_inference/1706462440.0628722.json\n"
     ]
    },
    {
     "name": "stderr",
     "output_type": "stream",
     "text": [
      "[2024-01-28 12:20:40,263] p75618 {1751706209.py:26} INFO - e_idx=1/2, chunk_index=15/57\n",
      "[2024-01-28 12:20:40,264] p75618 {1750118496.py:3} INFO - Processing chunk with concurrency=1\n",
      "[2024-01-28 12:20:40,288] p75618 {701838357.py:23} INFO - get_inference, endpoint=llama-2-70b-g5-48xlarge-1706460294, prompt_tokens=3249\n",
      "[2024-01-28 12:20:57,143] p75618 {701838357.py:48} INFO - get_inference, done, endpoint=llama-2-70b-g5-48xlarge-1706460294, completion_tokens=102, latency=16.85\n"
     ]
    },
    {
     "name": "stdout",
     "output_type": "stream",
     "text": [
      "Data successfully written to s3://fmbt2039/data/metrics/llama2-70b-g5-p4d-trt-v1/per_chunk/1706462457.1449118.json\n"
     ]
    },
    {
     "name": "stderr",
     "output_type": "stream",
     "text": [
      "[2024-01-28 12:20:57,572] p75618 {1751706209.py:26} INFO - e_idx=1/2, chunk_index=16/57\n",
      "[2024-01-28 12:20:57,573] p75618 {1750118496.py:3} INFO - Processing chunk with concurrency=1\n",
      "[2024-01-28 12:20:57,589] p75618 {701838357.py:23} INFO - get_inference, endpoint=llama-2-70b-g5-48xlarge-1706460294, prompt_tokens=3087\n"
     ]
    },
    {
     "name": "stdout",
     "output_type": "stream",
     "text": [
      "Data successfully written to s3://fmbt2039/data/metrics/llama2-70b-g5-p4d-trt-v1/per_inference/1706462457.344359.json\n"
     ]
    },
    {
     "name": "stderr",
     "output_type": "stream",
     "text": [
      "[2024-01-28 12:21:14,502] p75618 {701838357.py:48} INFO - get_inference, done, endpoint=llama-2-70b-g5-48xlarge-1706460294, completion_tokens=102, latency=16.91\n"
     ]
    },
    {
     "name": "stdout",
     "output_type": "stream",
     "text": [
      "Data successfully written to s3://fmbt2039/data/metrics/llama2-70b-g5-p4d-trt-v1/per_chunk/1706462474.504142.json\n"
     ]
    },
    {
     "name": "stderr",
     "output_type": "stream",
     "text": [
      "[2024-01-28 12:21:14,980] p75618 {1751706209.py:26} INFO - e_idx=1/2, chunk_index=17/57\n",
      "[2024-01-28 12:21:14,980] p75618 {1750118496.py:3} INFO - Processing chunk with concurrency=1\n",
      "[2024-01-28 12:21:15,002] p75618 {701838357.py:23} INFO - get_inference, endpoint=llama-2-70b-g5-48xlarge-1706460294, prompt_tokens=3680\n"
     ]
    },
    {
     "name": "stdout",
     "output_type": "stream",
     "text": [
      "Data successfully written to s3://fmbt2039/data/metrics/llama2-70b-g5-p4d-trt-v1/per_inference/1706462474.7255309.json\n"
     ]
    },
    {
     "name": "stderr",
     "output_type": "stream",
     "text": [
      "[2024-01-28 12:21:33,814] p75618 {701838357.py:48} INFO - get_inference, done, endpoint=llama-2-70b-g5-48xlarge-1706460294, completion_tokens=102, latency=18.81\n"
     ]
    },
    {
     "name": "stdout",
     "output_type": "stream",
     "text": [
      "Data successfully written to s3://fmbt2039/data/metrics/llama2-70b-g5-p4d-trt-v1/per_chunk/1706462493.819278.json\n"
     ]
    },
    {
     "name": "stderr",
     "output_type": "stream",
     "text": [
      "[2024-01-28 12:21:34,283] p75618 {1751706209.py:26} INFO - e_idx=1/2, chunk_index=18/57\n",
      "[2024-01-28 12:21:34,283] p75618 {1750118496.py:3} INFO - Processing chunk with concurrency=1\n",
      "[2024-01-28 12:21:34,297] p75618 {701838357.py:23} INFO - get_inference, endpoint=llama-2-70b-g5-48xlarge-1706460294, prompt_tokens=3950\n"
     ]
    },
    {
     "name": "stdout",
     "output_type": "stream",
     "text": [
      "Data successfully written to s3://fmbt2039/data/metrics/llama2-70b-g5-p4d-trt-v1/per_inference/1706462494.0411992.json\n"
     ]
    },
    {
     "name": "stderr",
     "output_type": "stream",
     "text": [
      "[2024-01-28 12:21:53,702] p75618 {701838357.py:48} INFO - get_inference, done, endpoint=llama-2-70b-g5-48xlarge-1706460294, completion_tokens=102, latency=19.40\n"
     ]
    },
    {
     "name": "stdout",
     "output_type": "stream",
     "text": [
      "Data successfully written to s3://fmbt2039/data/metrics/llama2-70b-g5-p4d-trt-v1/per_chunk/1706462513.7047622.json\n"
     ]
    },
    {
     "name": "stderr",
     "output_type": "stream",
     "text": [
      "[2024-01-28 12:21:54,169] p75618 {1751706209.py:26} INFO - e_idx=1/2, chunk_index=19/57\n",
      "[2024-01-28 12:21:54,170] p75618 {1750118496.py:3} INFO - Processing chunk with concurrency=1\n",
      "[2024-01-28 12:21:54,190] p75618 {701838357.py:23} INFO - get_inference, endpoint=llama-2-70b-g5-48xlarge-1706460294, prompt_tokens=3463\n"
     ]
    },
    {
     "name": "stdout",
     "output_type": "stream",
     "text": [
      "Data successfully written to s3://fmbt2039/data/metrics/llama2-70b-g5-p4d-trt-v1/per_inference/1706462513.90523.json\n"
     ]
    },
    {
     "name": "stderr",
     "output_type": "stream",
     "text": [
      "[2024-01-28 12:22:12,485] p75618 {701838357.py:48} INFO - get_inference, done, endpoint=llama-2-70b-g5-48xlarge-1706460294, completion_tokens=102, latency=18.29\n"
     ]
    },
    {
     "name": "stdout",
     "output_type": "stream",
     "text": [
      "Data successfully written to s3://fmbt2039/data/metrics/llama2-70b-g5-p4d-trt-v1/per_chunk/1706462532.486422.json\n"
     ]
    },
    {
     "name": "stderr",
     "output_type": "stream",
     "text": [
      "[2024-01-28 12:22:12,991] p75618 {1751706209.py:26} INFO - e_idx=1/2, chunk_index=20/57\n",
      "[2024-01-28 12:22:12,993] p75618 {1750118496.py:3} INFO - Processing chunk with concurrency=1\n",
      "[2024-01-28 12:22:13,041] p75618 {701838357.py:23} INFO - get_inference, endpoint=llama-2-70b-g5-48xlarge-1706460294, prompt_tokens=3996\n"
     ]
    },
    {
     "name": "stdout",
     "output_type": "stream",
     "text": [
      "Data successfully written to s3://fmbt2039/data/metrics/llama2-70b-g5-p4d-trt-v1/per_inference/1706462532.682731.json\n"
     ]
    },
    {
     "name": "stderr",
     "output_type": "stream",
     "text": [
      "[2024-01-28 12:22:32,794] p75618 {701838357.py:48} INFO - get_inference, done, endpoint=llama-2-70b-g5-48xlarge-1706460294, completion_tokens=102, latency=19.75\n"
     ]
    },
    {
     "name": "stdout",
     "output_type": "stream",
     "text": [
      "Data successfully written to s3://fmbt2039/data/metrics/llama2-70b-g5-p4d-trt-v1/per_chunk/1706462552.8015842.json\n"
     ]
    },
    {
     "name": "stderr",
     "output_type": "stream",
     "text": [
      "[2024-01-28 12:22:33,263] p75618 {1751706209.py:26} INFO - e_idx=1/2, chunk_index=21/57\n",
      "[2024-01-28 12:22:33,264] p75618 {1750118496.py:3} INFO - Processing chunk with concurrency=1\n",
      "[2024-01-28 12:22:33,290] p75618 {701838357.py:23} INFO - get_inference, endpoint=llama-2-70b-g5-48xlarge-1706460294, prompt_tokens=3050\n"
     ]
    },
    {
     "name": "stdout",
     "output_type": "stream",
     "text": [
      "Data successfully written to s3://fmbt2039/data/metrics/llama2-70b-g5-p4d-trt-v1/per_inference/1706462553.00823.json\n"
     ]
    },
    {
     "name": "stderr",
     "output_type": "stream",
     "text": [
      "[2024-01-28 12:22:49,660] p75618 {701838357.py:48} INFO - get_inference, done, endpoint=llama-2-70b-g5-48xlarge-1706460294, completion_tokens=102, latency=16.37\n"
     ]
    },
    {
     "name": "stdout",
     "output_type": "stream",
     "text": [
      "Data successfully written to s3://fmbt2039/data/metrics/llama2-70b-g5-p4d-trt-v1/per_chunk/1706462569.664415.json\n"
     ]
    },
    {
     "name": "stderr",
     "output_type": "stream",
     "text": [
      "[2024-01-28 12:22:50,219] p75618 {1751706209.py:26} INFO - e_idx=1/2, chunk_index=22/57\n",
      "[2024-01-28 12:22:50,220] p75618 {1750118496.py:3} INFO - Processing chunk with concurrency=1\n",
      "[2024-01-28 12:22:50,262] p75618 {701838357.py:23} INFO - get_inference, endpoint=llama-2-70b-g5-48xlarge-1706460294, prompt_tokens=3737\n"
     ]
    },
    {
     "name": "stdout",
     "output_type": "stream",
     "text": [
      "Data successfully written to s3://fmbt2039/data/metrics/llama2-70b-g5-p4d-trt-v1/per_inference/1706462569.956404.json\n"
     ]
    },
    {
     "name": "stderr",
     "output_type": "stream",
     "text": [
      "[2024-01-28 12:23:09,093] p75618 {701838357.py:48} INFO - get_inference, done, endpoint=llama-2-70b-g5-48xlarge-1706460294, completion_tokens=102, latency=18.83\n"
     ]
    },
    {
     "name": "stdout",
     "output_type": "stream",
     "text": [
      "Data successfully written to s3://fmbt2039/data/metrics/llama2-70b-g5-p4d-trt-v1/per_chunk/1706462589.096591.json\n"
     ]
    },
    {
     "name": "stderr",
     "output_type": "stream",
     "text": [
      "[2024-01-28 12:23:09,560] p75618 {1751706209.py:26} INFO - e_idx=1/2, chunk_index=23/57\n",
      "[2024-01-28 12:23:09,561] p75618 {1750118496.py:3} INFO - Processing chunk with concurrency=1\n",
      "[2024-01-28 12:23:09,595] p75618 {701838357.py:23} INFO - get_inference, endpoint=llama-2-70b-g5-48xlarge-1706460294, prompt_tokens=3410\n"
     ]
    },
    {
     "name": "stdout",
     "output_type": "stream",
     "text": [
      "Data successfully written to s3://fmbt2039/data/metrics/llama2-70b-g5-p4d-trt-v1/per_inference/1706462589.302536.json\n"
     ]
    },
    {
     "name": "stderr",
     "output_type": "stream",
     "text": [
      "[2024-01-28 12:23:27,094] p75618 {701838357.py:48} INFO - get_inference, done, endpoint=llama-2-70b-g5-48xlarge-1706460294, completion_tokens=102, latency=17.50\n"
     ]
    },
    {
     "name": "stdout",
     "output_type": "stream",
     "text": [
      "Data successfully written to s3://fmbt2039/data/metrics/llama2-70b-g5-p4d-trt-v1/per_chunk/1706462607.0958998.json\n"
     ]
    },
    {
     "name": "stderr",
     "output_type": "stream",
     "text": [
      "[2024-01-28 12:23:27,589] p75618 {1751706209.py:26} INFO - e_idx=1/2, chunk_index=24/57\n",
      "[2024-01-28 12:23:27,589] p75618 {1750118496.py:3} INFO - Processing chunk with concurrency=1\n",
      "[2024-01-28 12:23:27,615] p75618 {701838357.py:23} INFO - get_inference, endpoint=llama-2-70b-g5-48xlarge-1706460294, prompt_tokens=3979\n"
     ]
    },
    {
     "name": "stdout",
     "output_type": "stream",
     "text": [
      "Data successfully written to s3://fmbt2039/data/metrics/llama2-70b-g5-p4d-trt-v1/per_inference/1706462607.316318.json\n"
     ]
    },
    {
     "name": "stderr",
     "output_type": "stream",
     "text": [
      "[2024-01-28 12:23:47,704] p75618 {701838357.py:48} INFO - get_inference, done, endpoint=llama-2-70b-g5-48xlarge-1706460294, completion_tokens=102, latency=20.09\n"
     ]
    },
    {
     "name": "stdout",
     "output_type": "stream",
     "text": [
      "Data successfully written to s3://fmbt2039/data/metrics/llama2-70b-g5-p4d-trt-v1/per_chunk/1706462627.7070668.json\n"
     ]
    },
    {
     "name": "stderr",
     "output_type": "stream",
     "text": [
      "[2024-01-28 12:23:48,184] p75618 {1751706209.py:26} INFO - e_idx=1/2, chunk_index=25/57\n",
      "[2024-01-28 12:23:48,185] p75618 {1750118496.py:3} INFO - Processing chunk with concurrency=1\n",
      "[2024-01-28 12:23:48,204] p75618 {701838357.py:23} INFO - get_inference, endpoint=llama-2-70b-g5-48xlarge-1706460294, prompt_tokens=3171\n"
     ]
    },
    {
     "name": "stdout",
     "output_type": "stream",
     "text": [
      "Data successfully written to s3://fmbt2039/data/metrics/llama2-70b-g5-p4d-trt-v1/per_inference/1706462627.900641.json\n"
     ]
    },
    {
     "name": "stderr",
     "output_type": "stream",
     "text": [
      "[2024-01-28 12:24:04,753] p75618 {701838357.py:48} INFO - get_inference, done, endpoint=llama-2-70b-g5-48xlarge-1706460294, completion_tokens=102, latency=16.55\n",
      "[2024-01-28 12:24:05,142] p75618 {1751706209.py:26} INFO - e_idx=1/2, chunk_index=26/57\n"
     ]
    },
    {
     "name": "stdout",
     "output_type": "stream",
     "text": [
      "Data successfully written to s3://fmbt2039/data/metrics/llama2-70b-g5-p4d-trt-v1/per_chunk/1706462644.755378.json\n",
      "Data successfully written to s3://fmbt2039/data/metrics/llama2-70b-g5-p4d-trt-v1/per_inference/1706462644.944352.json\n"
     ]
    },
    {
     "name": "stderr",
     "output_type": "stream",
     "text": [
      "[2024-01-28 12:24:05,143] p75618 {1750118496.py:3} INFO - Processing chunk with concurrency=1\n",
      "[2024-01-28 12:24:05,169] p75618 {701838357.py:23} INFO - get_inference, endpoint=llama-2-70b-g5-48xlarge-1706460294, prompt_tokens=3655\n",
      "[2024-01-28 12:24:24,164] p75618 {701838357.py:48} INFO - get_inference, done, endpoint=llama-2-70b-g5-48xlarge-1706460294, completion_tokens=102, latency=18.99\n"
     ]
    },
    {
     "name": "stdout",
     "output_type": "stream",
     "text": [
      "Data successfully written to s3://fmbt2039/data/metrics/llama2-70b-g5-p4d-trt-v1/per_chunk/1706462664.167101.json\n"
     ]
    },
    {
     "name": "stderr",
     "output_type": "stream",
     "text": [
      "[2024-01-28 12:24:24,611] p75618 {1751706209.py:26} INFO - e_idx=1/2, chunk_index=27/57\n",
      "[2024-01-28 12:24:24,611] p75618 {1750118496.py:3} INFO - Processing chunk with concurrency=1\n",
      "[2024-01-28 12:24:24,631] p75618 {701838357.py:23} INFO - get_inference, endpoint=llama-2-70b-g5-48xlarge-1706460294, prompt_tokens=3662\n"
     ]
    },
    {
     "name": "stdout",
     "output_type": "stream",
     "text": [
      "Data successfully written to s3://fmbt2039/data/metrics/llama2-70b-g5-p4d-trt-v1/per_inference/1706462664.3570712.json\n"
     ]
    },
    {
     "name": "stderr",
     "output_type": "stream",
     "text": [
      "[2024-01-28 12:24:42,958] p75618 {701838357.py:48} INFO - get_inference, done, endpoint=llama-2-70b-g5-48xlarge-1706460294, completion_tokens=102, latency=18.33\n"
     ]
    },
    {
     "name": "stdout",
     "output_type": "stream",
     "text": [
      "Data successfully written to s3://fmbt2039/data/metrics/llama2-70b-g5-p4d-trt-v1/per_chunk/1706462682.959716.json\n"
     ]
    },
    {
     "name": "stderr",
     "output_type": "stream",
     "text": [
      "[2024-01-28 12:24:43,402] p75618 {1751706209.py:26} INFO - e_idx=1/2, chunk_index=28/57\n",
      "[2024-01-28 12:24:43,403] p75618 {1750118496.py:3} INFO - Processing chunk with concurrency=1\n",
      "[2024-01-28 12:24:43,418] p75618 {701838357.py:23} INFO - get_inference, endpoint=llama-2-70b-g5-48xlarge-1706460294, prompt_tokens=3098\n"
     ]
    },
    {
     "name": "stdout",
     "output_type": "stream",
     "text": [
      "Data successfully written to s3://fmbt2039/data/metrics/llama2-70b-g5-p4d-trt-v1/per_inference/1706462683.1493142.json\n"
     ]
    },
    {
     "name": "stderr",
     "output_type": "stream",
     "text": [
      "[2024-01-28 12:24:59,893] p75618 {701838357.py:48} INFO - get_inference, done, endpoint=llama-2-70b-g5-48xlarge-1706460294, completion_tokens=102, latency=16.47\n"
     ]
    },
    {
     "name": "stdout",
     "output_type": "stream",
     "text": [
      "Data successfully written to s3://fmbt2039/data/metrics/llama2-70b-g5-p4d-trt-v1/per_chunk/1706462699.8949828.json\n"
     ]
    },
    {
     "name": "stderr",
     "output_type": "stream",
     "text": [
      "[2024-01-28 12:25:00,355] p75618 {1751706209.py:26} INFO - e_idx=1/2, chunk_index=29/57\n",
      "[2024-01-28 12:25:00,355] p75618 {1750118496.py:3} INFO - Processing chunk with concurrency=1\n",
      "[2024-01-28 12:25:00,368] p75618 {701838357.py:23} INFO - get_inference, endpoint=llama-2-70b-g5-48xlarge-1706460294, prompt_tokens=3704\n"
     ]
    },
    {
     "name": "stdout",
     "output_type": "stream",
     "text": [
      "Data successfully written to s3://fmbt2039/data/metrics/llama2-70b-g5-p4d-trt-v1/per_inference/1706462700.123463.json\n"
     ]
    },
    {
     "name": "stderr",
     "output_type": "stream",
     "text": [
      "[2024-01-28 12:25:19,263] p75618 {701838357.py:48} INFO - get_inference, done, endpoint=llama-2-70b-g5-48xlarge-1706460294, completion_tokens=102, latency=18.89\n"
     ]
    },
    {
     "name": "stdout",
     "output_type": "stream",
     "text": [
      "Data successfully written to s3://fmbt2039/data/metrics/llama2-70b-g5-p4d-trt-v1/per_chunk/1706462719.2658198.json\n"
     ]
    },
    {
     "name": "stderr",
     "output_type": "stream",
     "text": [
      "[2024-01-28 12:25:19,712] p75618 {1751706209.py:26} INFO - e_idx=1/2, chunk_index=30/57\n",
      "[2024-01-28 12:25:19,712] p75618 {1750118496.py:3} INFO - Processing chunk with concurrency=1\n",
      "[2024-01-28 12:25:19,731] p75618 {701838357.py:23} INFO - get_inference, endpoint=llama-2-70b-g5-48xlarge-1706460294, prompt_tokens=3400\n"
     ]
    },
    {
     "name": "stdout",
     "output_type": "stream",
     "text": [
      "Data successfully written to s3://fmbt2039/data/metrics/llama2-70b-g5-p4d-trt-v1/per_inference/1706462719.462038.json\n"
     ]
    },
    {
     "name": "stderr",
     "output_type": "stream",
     "text": [
      "[2024-01-28 12:25:37,267] p75618 {701838357.py:48} INFO - get_inference, done, endpoint=llama-2-70b-g5-48xlarge-1706460294, completion_tokens=102, latency=17.53\n"
     ]
    },
    {
     "name": "stdout",
     "output_type": "stream",
     "text": [
      "Data successfully written to s3://fmbt2039/data/metrics/llama2-70b-g5-p4d-trt-v1/per_chunk/1706462737.269637.json\n"
     ]
    },
    {
     "name": "stderr",
     "output_type": "stream",
     "text": [
      "[2024-01-28 12:25:37,705] p75618 {1751706209.py:26} INFO - e_idx=1/2, chunk_index=31/57\n",
      "[2024-01-28 12:25:37,705] p75618 {1750118496.py:3} INFO - Processing chunk with concurrency=1\n",
      "[2024-01-28 12:25:37,725] p75618 {701838357.py:23} INFO - get_inference, endpoint=llama-2-70b-g5-48xlarge-1706460294, prompt_tokens=3098\n"
     ]
    },
    {
     "name": "stdout",
     "output_type": "stream",
     "text": [
      "Data successfully written to s3://fmbt2039/data/metrics/llama2-70b-g5-p4d-trt-v1/per_inference/1706462737.455301.json\n"
     ]
    },
    {
     "name": "stderr",
     "output_type": "stream",
     "text": [
      "[2024-01-28 12:25:54,097] p75618 {701838357.py:48} INFO - get_inference, done, endpoint=llama-2-70b-g5-48xlarge-1706460294, completion_tokens=102, latency=16.37\n"
     ]
    },
    {
     "name": "stdout",
     "output_type": "stream",
     "text": [
      "Data successfully written to s3://fmbt2039/data/metrics/llama2-70b-g5-p4d-trt-v1/per_chunk/1706462754.0993059.json\n"
     ]
    },
    {
     "name": "stderr",
     "output_type": "stream",
     "text": [
      "[2024-01-28 12:25:54,529] p75618 {1751706209.py:26} INFO - e_idx=1/2, chunk_index=32/57\n",
      "[2024-01-28 12:25:54,530] p75618 {1750118496.py:3} INFO - Processing chunk with concurrency=1\n",
      "[2024-01-28 12:25:54,558] p75618 {701838357.py:23} INFO - get_inference, endpoint=llama-2-70b-g5-48xlarge-1706460294, prompt_tokens=3909\n"
     ]
    },
    {
     "name": "stdout",
     "output_type": "stream",
     "text": [
      "Data successfully written to s3://fmbt2039/data/metrics/llama2-70b-g5-p4d-trt-v1/per_inference/1706462754.304333.json\n"
     ]
    },
    {
     "name": "stderr",
     "output_type": "stream",
     "text": [
      "[2024-01-28 12:26:14,107] p75618 {701838357.py:48} INFO - get_inference, done, endpoint=llama-2-70b-g5-48xlarge-1706460294, completion_tokens=102, latency=19.55\n"
     ]
    },
    {
     "name": "stdout",
     "output_type": "stream",
     "text": [
      "Data successfully written to s3://fmbt2039/data/metrics/llama2-70b-g5-p4d-trt-v1/per_chunk/1706462774.109914.json\n"
     ]
    },
    {
     "name": "stderr",
     "output_type": "stream",
     "text": [
      "[2024-01-28 12:26:14,558] p75618 {1751706209.py:26} INFO - e_idx=1/2, chunk_index=33/57\n",
      "[2024-01-28 12:26:14,559] p75618 {1750118496.py:3} INFO - Processing chunk with concurrency=1\n",
      "[2024-01-28 12:26:14,586] p75618 {701838357.py:23} INFO - get_inference, endpoint=llama-2-70b-g5-48xlarge-1706460294, prompt_tokens=3971\n"
     ]
    },
    {
     "name": "stdout",
     "output_type": "stream",
     "text": [
      "Data successfully written to s3://fmbt2039/data/metrics/llama2-70b-g5-p4d-trt-v1/per_inference/1706462774.3107488.json\n"
     ]
    },
    {
     "name": "stderr",
     "output_type": "stream",
     "text": [
      "[2024-01-28 12:26:34,377] p75618 {701838357.py:48} INFO - get_inference, done, endpoint=llama-2-70b-g5-48xlarge-1706460294, completion_tokens=102, latency=19.79\n"
     ]
    },
    {
     "name": "stdout",
     "output_type": "stream",
     "text": [
      "Data successfully written to s3://fmbt2039/data/metrics/llama2-70b-g5-p4d-trt-v1/per_chunk/1706462794.3792992.json\n"
     ]
    },
    {
     "name": "stderr",
     "output_type": "stream",
     "text": [
      "[2024-01-28 12:26:34,783] p75618 {1751706209.py:26} INFO - e_idx=1/2, chunk_index=34/57\n",
      "[2024-01-28 12:26:34,783] p75618 {1750118496.py:3} INFO - Processing chunk with concurrency=1\n",
      "[2024-01-28 12:26:34,809] p75618 {701838357.py:23} INFO - get_inference, endpoint=llama-2-70b-g5-48xlarge-1706460294, prompt_tokens=3132\n"
     ]
    },
    {
     "name": "stdout",
     "output_type": "stream",
     "text": [
      "Data successfully written to s3://fmbt2039/data/metrics/llama2-70b-g5-p4d-trt-v1/per_inference/1706462794.569195.json\n"
     ]
    },
    {
     "name": "stderr",
     "output_type": "stream",
     "text": [
      "[2024-01-28 12:26:51,345] p75618 {701838357.py:48} INFO - get_inference, done, endpoint=llama-2-70b-g5-48xlarge-1706460294, completion_tokens=102, latency=16.53\n",
      "[2024-01-28 12:26:51,712] p75618 {1751706209.py:26} INFO - e_idx=1/2, chunk_index=35/57\n",
      "[2024-01-28 12:26:51,713] p75618 {1750118496.py:3} INFO - Processing chunk with concurrency=1\n",
      "[2024-01-28 12:26:51,732] p75618 {701838357.py:23} INFO - get_inference, endpoint=llama-2-70b-g5-48xlarge-1706460294, prompt_tokens=3135\n"
     ]
    },
    {
     "name": "stdout",
     "output_type": "stream",
     "text": [
      "Data successfully written to s3://fmbt2039/data/metrics/llama2-70b-g5-p4d-trt-v1/per_chunk/1706462811.3466802.json\n",
      "Data successfully written to s3://fmbt2039/data/metrics/llama2-70b-g5-p4d-trt-v1/per_inference/1706462811.536299.json\n"
     ]
    },
    {
     "name": "stderr",
     "output_type": "stream",
     "text": [
      "[2024-01-28 12:27:08,316] p75618 {701838357.py:48} INFO - get_inference, done, endpoint=llama-2-70b-g5-48xlarge-1706460294, completion_tokens=102, latency=16.58\n"
     ]
    },
    {
     "name": "stdout",
     "output_type": "stream",
     "text": [
      "Data successfully written to s3://fmbt2039/data/metrics/llama2-70b-g5-p4d-trt-v1/per_chunk/1706462828.3201332.json\n"
     ]
    },
    {
     "name": "stderr",
     "output_type": "stream",
     "text": [
      "[2024-01-28 12:27:08,747] p75618 {1751706209.py:26} INFO - e_idx=1/2, chunk_index=36/57\n",
      "[2024-01-28 12:27:08,747] p75618 {1750118496.py:3} INFO - Processing chunk with concurrency=1\n",
      "[2024-01-28 12:27:08,764] p75618 {701838357.py:23} INFO - get_inference, endpoint=llama-2-70b-g5-48xlarge-1706460294, prompt_tokens=3030\n"
     ]
    },
    {
     "name": "stdout",
     "output_type": "stream",
     "text": [
      "Data successfully written to s3://fmbt2039/data/metrics/llama2-70b-g5-p4d-trt-v1/per_inference/1706462828.511977.json\n"
     ]
    },
    {
     "name": "stderr",
     "output_type": "stream",
     "text": [
      "[2024-01-28 12:27:24,923] p75618 {701838357.py:48} INFO - get_inference, done, endpoint=llama-2-70b-g5-48xlarge-1706460294, completion_tokens=102, latency=16.16\n"
     ]
    },
    {
     "name": "stdout",
     "output_type": "stream",
     "text": [
      "Data successfully written to s3://fmbt2039/data/metrics/llama2-70b-g5-p4d-trt-v1/per_chunk/1706462844.9260318.json\n"
     ]
    },
    {
     "name": "stderr",
     "output_type": "stream",
     "text": [
      "[2024-01-28 12:27:25,355] p75618 {1751706209.py:26} INFO - e_idx=1/2, chunk_index=37/57\n",
      "[2024-01-28 12:27:25,356] p75618 {1750118496.py:3} INFO - Processing chunk with concurrency=1\n",
      "[2024-01-28 12:27:25,379] p75618 {701838357.py:23} INFO - get_inference, endpoint=llama-2-70b-g5-48xlarge-1706460294, prompt_tokens=3848\n"
     ]
    },
    {
     "name": "stdout",
     "output_type": "stream",
     "text": [
      "Data successfully written to s3://fmbt2039/data/metrics/llama2-70b-g5-p4d-trt-v1/per_inference/1706462845.114121.json\n"
     ]
    },
    {
     "name": "stderr",
     "output_type": "stream",
     "text": [
      "[2024-01-28 12:27:44,573] p75618 {701838357.py:48} INFO - get_inference, done, endpoint=llama-2-70b-g5-48xlarge-1706460294, completion_tokens=102, latency=19.19\n"
     ]
    },
    {
     "name": "stdout",
     "output_type": "stream",
     "text": [
      "Data successfully written to s3://fmbt2039/data/metrics/llama2-70b-g5-p4d-trt-v1/per_chunk/1706462864.575946.json\n"
     ]
    },
    {
     "name": "stderr",
     "output_type": "stream",
     "text": [
      "[2024-01-28 12:27:45,038] p75618 {1751706209.py:26} INFO - e_idx=1/2, chunk_index=38/57\n",
      "[2024-01-28 12:27:45,038] p75618 {1750118496.py:3} INFO - Processing chunk with concurrency=1\n",
      "[2024-01-28 12:27:45,060] p75618 {701838357.py:23} INFO - get_inference, endpoint=llama-2-70b-g5-48xlarge-1706460294, prompt_tokens=3208\n"
     ]
    },
    {
     "name": "stdout",
     "output_type": "stream",
     "text": [
      "Data successfully written to s3://fmbt2039/data/metrics/llama2-70b-g5-p4d-trt-v1/per_inference/1706462864.7654452.json\n"
     ]
    },
    {
     "name": "stderr",
     "output_type": "stream",
     "text": [
      "[2024-01-28 12:28:02,013] p75618 {701838357.py:48} INFO - get_inference, done, endpoint=llama-2-70b-g5-48xlarge-1706460294, completion_tokens=102, latency=16.95\n"
     ]
    },
    {
     "name": "stdout",
     "output_type": "stream",
     "text": [
      "Data successfully written to s3://fmbt2039/data/metrics/llama2-70b-g5-p4d-trt-v1/per_chunk/1706462882.016337.json\n"
     ]
    },
    {
     "name": "stderr",
     "output_type": "stream",
     "text": [
      "[2024-01-28 12:28:02,685] p75618 {1751706209.py:26} INFO - e_idx=1/2, chunk_index=39/57\n",
      "[2024-01-28 12:28:02,686] p75618 {1750118496.py:3} INFO - Processing chunk with concurrency=1\n",
      "[2024-01-28 12:28:02,712] p75618 {701838357.py:23} INFO - get_inference, endpoint=llama-2-70b-g5-48xlarge-1706460294, prompt_tokens=3475\n"
     ]
    },
    {
     "name": "stdout",
     "output_type": "stream",
     "text": [
      "Data successfully written to s3://fmbt2039/data/metrics/llama2-70b-g5-p4d-trt-v1/per_inference/1706462882.213212.json\n"
     ]
    },
    {
     "name": "stderr",
     "output_type": "stream",
     "text": [
      "[2024-01-28 12:28:21,623] p75618 {701838357.py:48} INFO - get_inference, done, endpoint=llama-2-70b-g5-48xlarge-1706460294, completion_tokens=102, latency=18.91\n"
     ]
    },
    {
     "name": "stdout",
     "output_type": "stream",
     "text": [
      "Data successfully written to s3://fmbt2039/data/metrics/llama2-70b-g5-p4d-trt-v1/per_chunk/1706462901.625699.json\n"
     ]
    },
    {
     "name": "stderr",
     "output_type": "stream",
     "text": [
      "[2024-01-28 12:28:22,035] p75618 {1751706209.py:26} INFO - e_idx=1/2, chunk_index=40/57\n",
      "[2024-01-28 12:28:22,038] p75618 {1750118496.py:3} INFO - Processing chunk with concurrency=1\n",
      "[2024-01-28 12:28:22,063] p75618 {701838357.py:23} INFO - get_inference, endpoint=llama-2-70b-g5-48xlarge-1706460294, prompt_tokens=3681\n"
     ]
    },
    {
     "name": "stdout",
     "output_type": "stream",
     "text": [
      "Data successfully written to s3://fmbt2039/data/metrics/llama2-70b-g5-p4d-trt-v1/per_inference/1706462901.8119512.json\n"
     ]
    },
    {
     "name": "stderr",
     "output_type": "stream",
     "text": [
      "[2024-01-28 12:28:41,138] p75618 {701838357.py:48} INFO - get_inference, done, endpoint=llama-2-70b-g5-48xlarge-1706460294, completion_tokens=102, latency=19.07\n"
     ]
    },
    {
     "name": "stdout",
     "output_type": "stream",
     "text": [
      "Data successfully written to s3://fmbt2039/data/metrics/llama2-70b-g5-p4d-trt-v1/per_chunk/1706462921.1406112.json\n"
     ]
    },
    {
     "name": "stderr",
     "output_type": "stream",
     "text": [
      "[2024-01-28 12:28:41,630] p75618 {1751706209.py:26} INFO - e_idx=1/2, chunk_index=41/57\n",
      "[2024-01-28 12:28:41,630] p75618 {1750118496.py:3} INFO - Processing chunk with concurrency=1\n",
      "[2024-01-28 12:28:41,657] p75618 {701838357.py:23} INFO - get_inference, endpoint=llama-2-70b-g5-48xlarge-1706460294, prompt_tokens=3581\n"
     ]
    },
    {
     "name": "stdout",
     "output_type": "stream",
     "text": [
      "Data successfully written to s3://fmbt2039/data/metrics/llama2-70b-g5-p4d-trt-v1/per_inference/1706462921.333308.json\n"
     ]
    },
    {
     "name": "stderr",
     "output_type": "stream",
     "text": [
      "[2024-01-28 12:29:00,207] p75618 {701838357.py:48} INFO - get_inference, done, endpoint=llama-2-70b-g5-48xlarge-1706460294, completion_tokens=102, latency=18.55\n"
     ]
    },
    {
     "name": "stdout",
     "output_type": "stream",
     "text": [
      "Data successfully written to s3://fmbt2039/data/metrics/llama2-70b-g5-p4d-trt-v1/per_chunk/1706462940.209284.json\n"
     ]
    },
    {
     "name": "stderr",
     "output_type": "stream",
     "text": [
      "[2024-01-28 12:29:00,799] p75618 {1751706209.py:26} INFO - e_idx=1/2, chunk_index=42/57\n",
      "[2024-01-28 12:29:00,800] p75618 {1750118496.py:3} INFO - Processing chunk with concurrency=1\n",
      "[2024-01-28 12:29:00,820] p75618 {701838357.py:23} INFO - get_inference, endpoint=llama-2-70b-g5-48xlarge-1706460294, prompt_tokens=3302\n"
     ]
    },
    {
     "name": "stdout",
     "output_type": "stream",
     "text": [
      "Data successfully written to s3://fmbt2039/data/metrics/llama2-70b-g5-p4d-trt-v1/per_inference/1706462940.571202.json\n"
     ]
    },
    {
     "name": "stderr",
     "output_type": "stream",
     "text": [
      "[2024-01-28 12:29:18,252] p75618 {701838357.py:48} INFO - get_inference, done, endpoint=llama-2-70b-g5-48xlarge-1706460294, completion_tokens=102, latency=17.43\n"
     ]
    },
    {
     "name": "stdout",
     "output_type": "stream",
     "text": [
      "Data successfully written to s3://fmbt2039/data/metrics/llama2-70b-g5-p4d-trt-v1/per_chunk/1706462958.254721.json\n"
     ]
    },
    {
     "name": "stderr",
     "output_type": "stream",
     "text": [
      "[2024-01-28 12:29:18,841] p75618 {1751706209.py:26} INFO - e_idx=1/2, chunk_index=43/57\n",
      "[2024-01-28 12:29:18,842] p75618 {1750118496.py:3} INFO - Processing chunk with concurrency=1\n",
      "[2024-01-28 12:29:18,871] p75618 {701838357.py:23} INFO - get_inference, endpoint=llama-2-70b-g5-48xlarge-1706460294, prompt_tokens=3614\n"
     ]
    },
    {
     "name": "stdout",
     "output_type": "stream",
     "text": [
      "Data successfully written to s3://fmbt2039/data/metrics/llama2-70b-g5-p4d-trt-v1/per_inference/1706462958.469755.json\n"
     ]
    },
    {
     "name": "stderr",
     "output_type": "stream",
     "text": [
      "[2024-01-28 12:29:37,273] p75618 {701838357.py:48} INFO - get_inference, done, endpoint=llama-2-70b-g5-48xlarge-1706460294, completion_tokens=102, latency=18.40\n"
     ]
    },
    {
     "name": "stdout",
     "output_type": "stream",
     "text": [
      "Data successfully written to s3://fmbt2039/data/metrics/llama2-70b-g5-p4d-trt-v1/per_chunk/1706462977.2757728.json\n"
     ]
    },
    {
     "name": "stderr",
     "output_type": "stream",
     "text": [
      "[2024-01-28 12:29:37,743] p75618 {1751706209.py:26} INFO - e_idx=1/2, chunk_index=44/57\n",
      "[2024-01-28 12:29:37,743] p75618 {1750118496.py:3} INFO - Processing chunk with concurrency=1\n",
      "[2024-01-28 12:29:37,761] p75618 {701838357.py:23} INFO - get_inference, endpoint=llama-2-70b-g5-48xlarge-1706460294, prompt_tokens=3537\n"
     ]
    },
    {
     "name": "stdout",
     "output_type": "stream",
     "text": [
      "Data successfully written to s3://fmbt2039/data/metrics/llama2-70b-g5-p4d-trt-v1/per_inference/1706462977.504333.json\n"
     ]
    },
    {
     "name": "stderr",
     "output_type": "stream",
     "text": [
      "[2024-01-28 12:29:56,074] p75618 {701838357.py:48} INFO - get_inference, done, endpoint=llama-2-70b-g5-48xlarge-1706460294, completion_tokens=102, latency=18.31\n",
      "[2024-01-28 12:29:56,446] p75618 {1751706209.py:26} INFO - e_idx=1/2, chunk_index=45/57\n",
      "[2024-01-28 12:29:56,447] p75618 {1750118496.py:3} INFO - Processing chunk with concurrency=1\n"
     ]
    },
    {
     "name": "stdout",
     "output_type": "stream",
     "text": [
      "Data successfully written to s3://fmbt2039/data/metrics/llama2-70b-g5-p4d-trt-v1/per_chunk/1706462996.075784.json\n",
      "Data successfully written to s3://fmbt2039/data/metrics/llama2-70b-g5-p4d-trt-v1/per_inference/1706462996.2660182.json\n"
     ]
    },
    {
     "name": "stderr",
     "output_type": "stream",
     "text": [
      "[2024-01-28 12:29:56,465] p75618 {701838357.py:23} INFO - get_inference, endpoint=llama-2-70b-g5-48xlarge-1706460294, prompt_tokens=3165\n"
     ]
    }
   ],
   "source": [
    "# for each experiment\n",
    "#   - for each endpoint and concurrency in an experiment\n",
    "\n",
    "def clear_dir(dir_path: str):\n",
    "    files = glob.glob(os.path.join(dir_path, \"*\"))\n",
    "    for f in files:\n",
    "        os.remove(f)\n",
    "\n",
    "_ = list(map(clear_dir, [METRICS_PER_INFERENCE_DIR, METRICS_PER_CHUNK_DIR]))\n",
    "\n",
    "num_experiments: int = len(config['experiments'])\n",
    "for e_idx, experiment in enumerate(config['experiments']):\n",
    "    e_idx += 1  # Increment experiment index\n",
    "    # Call do_experiment function to create the predictor object\n",
    " \n",
    "    predictor = create_predictor_for_experiment(experiment, config, endpoint_info_list)\n",
    "    if predictor is None:\n",
    "        logger.error(f\"predictor could not be created for experiment={experiment}, moving to next...\")\n",
    "        continue\n",
    "\n",
    "    # Process combinations of concurrency levels and payload files\n",
    "    combination_data = create_combinations(experiment)\n",
    "\n",
    "    for concurrency, payload_file, split_payload in combination_data:\n",
    "        for chunk_index, chunk in enumerate(split_payload):\n",
    "            logger.info(f\"e_idx={e_idx}/{num_experiments}, chunk_index={chunk_index+1}/{len(split_payload)}\")\n",
    "\n",
    "            # Process each chunk and calculate metrics\n",
    "            responses, metrics = await run_inferences(predictor, chunk, experiment, concurrency, payload_file)\n",
    "            if metrics:\n",
    "                # Convert metrics to JSON string\n",
    "                metrics_json = json.dumps(metrics, indent=2)\n",
    "                # Define S3 file path\n",
    "                metrics_file_name = f\"{time.time()}.json\"\n",
    "                metrics_s3_path = os.path.join(METRICS_PER_CHUNK_DIR, metrics_file_name)\n",
    "                # Write to S3\n",
    "                write_to_s3(metrics_json, BUCKET_NAME, \"\", METRICS_PER_CHUNK_DIR, metrics_file_name)\n",
    "\n",
    "            if responses:\n",
    "                for r in responses:\n",
    "                    # Convert response to JSON string\n",
    "                    response_json = json.dumps(r, indent=2)\n",
    "                    # Define S3 file path\n",
    "                    response_file_name = f\"{time.time()}.json\"\n",
    "                    response_s3_path = os.path.join(METRICS_PER_INFERENCE_DIR, response_file_name)\n",
    "                    # Write to S3\n",
    "                    write_to_s3(response_json, BUCKET_NAME, \"\", METRICS_PER_INFERENCE_DIR, response_file_name)\n",
    "\n",
    "    logger.info(f\"experiment={e_idx}/{num_experiments}, name={experiment['name']}, done\")"
   ]
  },
  {
   "cell_type": "code",
   "execution_count": null,
   "metadata": {},
   "outputs": [
    {
     "name": "stderr",
     "output_type": "stream",
     "text": [
      "[2024-01-26 23:45:52,931] p32493 {2679022863.py:19} INFO - created dataframe of shape (42, 14) from all responses\n"
     ]
    },
    {
     "data": {
      "text/html": [
       "<div>\n",
       "<style scoped>\n",
       "    .dataframe tbody tr th:only-of-type {\n",
       "        vertical-align: middle;\n",
       "    }\n",
       "\n",
       "    .dataframe tbody tr th {\n",
       "        vertical-align: top;\n",
       "    }\n",
       "\n",
       "    .dataframe thead th {\n",
       "        text-align: right;\n",
       "    }\n",
       "</style>\n",
       "<table border=\"1\" class=\"dataframe\">\n",
       "  <thead>\n",
       "    <tr style=\"text-align: right;\">\n",
       "      <th></th>\n",
       "      <th>endpoint_name</th>\n",
       "      <th>prompt</th>\n",
       "      <th>do_sample</th>\n",
       "      <th>temperature</th>\n",
       "      <th>top_p</th>\n",
       "      <th>top_k</th>\n",
       "      <th>max_new_tokens</th>\n",
       "      <th>truncate</th>\n",
       "      <th>completion</th>\n",
       "      <th>prompt_tokens</th>\n",
       "      <th>completion_tokens</th>\n",
       "      <th>latency</th>\n",
       "      <th>experiment_name</th>\n",
       "      <th>concurrency</th>\n",
       "    </tr>\n",
       "  </thead>\n",
       "  <tbody>\n",
       "    <tr>\n",
       "      <th>0</th>\n",
       "      <td>lmistral7b-g5-2xlarge-1706329863</td>\n",
       "      <td>&lt;s&gt;[INST] &lt;&lt;SYS&gt;&gt;\\nYou are an assistant for qu...</td>\n",
       "      <td>True</td>\n",
       "      <td>0.1</td>\n",
       "      <td>0.92</td>\n",
       "      <td>120</td>\n",
       "      <td>100</td>\n",
       "      <td>304</td>\n",
       "      <td>\\n\\n```\\nThe genus Sinofranchetia is from the ...</td>\n",
       "      <td>304</td>\n",
       "      <td>98</td>\n",
       "      <td>3.752459</td>\n",
       "      <td>mistral-7b-g5-huggingface-pytorch-tgi-inferenc...</td>\n",
       "      <td>1</td>\n",
       "    </tr>\n",
       "    <tr>\n",
       "      <th>1</th>\n",
       "      <td>lmistral7b-g5-2xlarge-1706329863</td>\n",
       "      <td>&lt;s&gt;[INST] &lt;&lt;SYS&gt;&gt;\\nYou are an assistant for qu...</td>\n",
       "      <td>True</td>\n",
       "      <td>0.1</td>\n",
       "      <td>0.92</td>\n",
       "      <td>120</td>\n",
       "      <td>100</td>\n",
       "      <td>980</td>\n",
       "      <td>Both WAGS Atlanta and WAGS are reality televi...</td>\n",
       "      <td>980</td>\n",
       "      <td>100</td>\n",
       "      <td>3.940795</td>\n",
       "      <td>mistral-7b-g5-huggingface-pytorch-tgi-inferenc...</td>\n",
       "      <td>1</td>\n",
       "    </tr>\n",
       "    <tr>\n",
       "      <th>2</th>\n",
       "      <td>lmistral7b-g5-2xlarge-1706329863</td>\n",
       "      <td>&lt;s&gt;[INST] &lt;&lt;SYS&gt;&gt;\\nYou are an assistant for qu...</td>\n",
       "      <td>True</td>\n",
       "      <td>0.1</td>\n",
       "      <td>0.92</td>\n",
       "      <td>120</td>\n",
       "      <td>100</td>\n",
       "      <td>304</td>\n",
       "      <td>\\n\\n```\\nThe genus Sinofranchetia and Staunton...</td>\n",
       "      <td>304</td>\n",
       "      <td>39</td>\n",
       "      <td>1.648553</td>\n",
       "      <td>mistral-7b-g5-huggingface-pytorch-tgi-inferenc...</td>\n",
       "      <td>2</td>\n",
       "    </tr>\n",
       "    <tr>\n",
       "      <th>3</th>\n",
       "      <td>lmistral7b-g5-2xlarge-1706329863</td>\n",
       "      <td>&lt;s&gt;[INST] &lt;&lt;SYS&gt;&gt;\\nYou are an assistant for qu...</td>\n",
       "      <td>True</td>\n",
       "      <td>0.1</td>\n",
       "      <td>0.92</td>\n",
       "      <td>120</td>\n",
       "      <td>100</td>\n",
       "      <td>304</td>\n",
       "      <td>\\n\\n```\\nThe genus Sinofranchetia is from the ...</td>\n",
       "      <td>304</td>\n",
       "      <td>99</td>\n",
       "      <td>3.759369</td>\n",
       "      <td>mistral-7b-g5-huggingface-pytorch-tgi-inferenc...</td>\n",
       "      <td>2</td>\n",
       "    </tr>\n",
       "    <tr>\n",
       "      <th>4</th>\n",
       "      <td>lmistral7b-g5-2xlarge-1706329863</td>\n",
       "      <td>&lt;s&gt;[INST] &lt;&lt;SYS&gt;&gt;\\nYou are an assistant for qu...</td>\n",
       "      <td>True</td>\n",
       "      <td>0.1</td>\n",
       "      <td>0.92</td>\n",
       "      <td>120</td>\n",
       "      <td>100</td>\n",
       "      <td>980</td>\n",
       "      <td>Both WAGS Atlanta and WAGS are reality televi...</td>\n",
       "      <td>980</td>\n",
       "      <td>16</td>\n",
       "      <td>1.085169</td>\n",
       "      <td>mistral-7b-g5-huggingface-pytorch-tgi-inferenc...</td>\n",
       "      <td>2</td>\n",
       "    </tr>\n",
       "  </tbody>\n",
       "</table>\n",
       "</div>"
      ],
      "text/plain": [
       "                      endpoint_name  \\\n",
       "0  lmistral7b-g5-2xlarge-1706329863   \n",
       "1  lmistral7b-g5-2xlarge-1706329863   \n",
       "2  lmistral7b-g5-2xlarge-1706329863   \n",
       "3  lmistral7b-g5-2xlarge-1706329863   \n",
       "4  lmistral7b-g5-2xlarge-1706329863   \n",
       "\n",
       "                                              prompt  do_sample  temperature  \\\n",
       "0  <s>[INST] <<SYS>>\\nYou are an assistant for qu...       True          0.1   \n",
       "1  <s>[INST] <<SYS>>\\nYou are an assistant for qu...       True          0.1   \n",
       "2  <s>[INST] <<SYS>>\\nYou are an assistant for qu...       True          0.1   \n",
       "3  <s>[INST] <<SYS>>\\nYou are an assistant for qu...       True          0.1   \n",
       "4  <s>[INST] <<SYS>>\\nYou are an assistant for qu...       True          0.1   \n",
       "\n",
       "   top_p  top_k  max_new_tokens  truncate  \\\n",
       "0   0.92    120             100       304   \n",
       "1   0.92    120             100       980   \n",
       "2   0.92    120             100       304   \n",
       "3   0.92    120             100       304   \n",
       "4   0.92    120             100       980   \n",
       "\n",
       "                                          completion  prompt_tokens  \\\n",
       "0  \\n\\n```\\nThe genus Sinofranchetia is from the ...            304   \n",
       "1   Both WAGS Atlanta and WAGS are reality televi...            980   \n",
       "2  \\n\\n```\\nThe genus Sinofranchetia and Staunton...            304   \n",
       "3  \\n\\n```\\nThe genus Sinofranchetia is from the ...            304   \n",
       "4   Both WAGS Atlanta and WAGS are reality televi...            980   \n",
       "\n",
       "   completion_tokens   latency  \\\n",
       "0                 98  3.752459   \n",
       "1                100  3.940795   \n",
       "2                 39  1.648553   \n",
       "3                 99  3.759369   \n",
       "4                 16  1.085169   \n",
       "\n",
       "                                     experiment_name  concurrency  \n",
       "0  mistral-7b-g5-huggingface-pytorch-tgi-inferenc...            1  \n",
       "1  mistral-7b-g5-huggingface-pytorch-tgi-inferenc...            1  \n",
       "2  mistral-7b-g5-huggingface-pytorch-tgi-inferenc...            2  \n",
       "3  mistral-7b-g5-huggingface-pytorch-tgi-inferenc...            2  \n",
       "4  mistral-7b-g5-huggingface-pytorch-tgi-inferenc...            2  "
      ]
     },
     "execution_count": 25,
     "metadata": {},
     "output_type": "execute_result"
    }
   ],
   "source": [
    "# Function to list files in S3 bucket with a specific prefix\n",
    "def list_s3_files(bucket, prefix, suffix='.json'):\n",
    "    response = s3_client.list_objects_v2(Bucket=bucket, Prefix=prefix)\n",
    "    return [item['Key'] for item in response.get('Contents', []) if item['Key'].endswith(suffix)]\n",
    "\n",
    "# List .json files in the specified S3 directory\n",
    "s3_files = list_s3_files(BUCKET_NAME, METRICS_PER_INFERENCE_DIR)\n",
    "\n",
    "# Read and parse each JSON file from S3\n",
    "json_list = []\n",
    "for file_key in s3_files:\n",
    "    response = s3_client.get_object(Bucket=BUCKET_NAME, Key=file_key)\n",
    "    file_content = response['Body'].read().decode('utf-8')\n",
    "    json_obj = json.loads(file_content)\n",
    "    json_list.append(json_obj)\n",
    "\n",
    "# Create DataFrame\n",
    "df_responses = pd.DataFrame(json_list)\n",
    "logger.info(f\"created dataframe of shape {df_responses.shape} from all responses\")\n",
    "df_responses.head()\n"
   ]
  },
  {
   "cell_type": "code",
   "execution_count": null,
   "metadata": {
    "tags": []
   },
   "outputs": [
    {
     "data": {
      "text/html": [
       "<div>\n",
       "<style scoped>\n",
       "    .dataframe tbody tr th:only-of-type {\n",
       "        vertical-align: middle;\n",
       "    }\n",
       "\n",
       "    .dataframe tbody tr th {\n",
       "        vertical-align: top;\n",
       "    }\n",
       "\n",
       "    .dataframe thead th {\n",
       "        text-align: right;\n",
       "    }\n",
       "</style>\n",
       "<table border=\"1\" class=\"dataframe\">\n",
       "  <thead>\n",
       "    <tr style=\"text-align: right;\">\n",
       "      <th></th>\n",
       "      <th>endpoint_name</th>\n",
       "      <th>prompt</th>\n",
       "      <th>do_sample</th>\n",
       "      <th>temperature</th>\n",
       "      <th>top_p</th>\n",
       "      <th>top_k</th>\n",
       "      <th>max_new_tokens</th>\n",
       "      <th>truncate</th>\n",
       "      <th>completion</th>\n",
       "      <th>prompt_tokens</th>\n",
       "      <th>completion_tokens</th>\n",
       "      <th>latency</th>\n",
       "      <th>experiment_name</th>\n",
       "      <th>concurrency</th>\n",
       "    </tr>\n",
       "  </thead>\n",
       "  <tbody>\n",
       "    <tr>\n",
       "      <th>0</th>\n",
       "      <td>lmistral7b-g5-2xlarge-1706329863</td>\n",
       "      <td>&lt;s&gt;[INST] &lt;&lt;SYS&gt;&gt;\\nYou are an assistant for qu...</td>\n",
       "      <td>True</td>\n",
       "      <td>0.1</td>\n",
       "      <td>0.92</td>\n",
       "      <td>120</td>\n",
       "      <td>100</td>\n",
       "      <td>304</td>\n",
       "      <td>\\n\\n```\\nThe genus Sinofranchetia is from the ...</td>\n",
       "      <td>304</td>\n",
       "      <td>98</td>\n",
       "      <td>3.752459</td>\n",
       "      <td>mistral-7b-g5-huggingface-pytorch-tgi-inferenc...</td>\n",
       "      <td>1</td>\n",
       "    </tr>\n",
       "    <tr>\n",
       "      <th>1</th>\n",
       "      <td>lmistral7b-g5-2xlarge-1706329863</td>\n",
       "      <td>&lt;s&gt;[INST] &lt;&lt;SYS&gt;&gt;\\nYou are an assistant for qu...</td>\n",
       "      <td>True</td>\n",
       "      <td>0.1</td>\n",
       "      <td>0.92</td>\n",
       "      <td>120</td>\n",
       "      <td>100</td>\n",
       "      <td>980</td>\n",
       "      <td>Both WAGS Atlanta and WAGS are reality televi...</td>\n",
       "      <td>980</td>\n",
       "      <td>100</td>\n",
       "      <td>3.940795</td>\n",
       "      <td>mistral-7b-g5-huggingface-pytorch-tgi-inferenc...</td>\n",
       "      <td>1</td>\n",
       "    </tr>\n",
       "    <tr>\n",
       "      <th>2</th>\n",
       "      <td>lmistral7b-g5-2xlarge-1706329863</td>\n",
       "      <td>&lt;s&gt;[INST] &lt;&lt;SYS&gt;&gt;\\nYou are an assistant for qu...</td>\n",
       "      <td>True</td>\n",
       "      <td>0.1</td>\n",
       "      <td>0.92</td>\n",
       "      <td>120</td>\n",
       "      <td>100</td>\n",
       "      <td>304</td>\n",
       "      <td>\\n\\n```\\nThe genus Sinofranchetia and Staunton...</td>\n",
       "      <td>304</td>\n",
       "      <td>39</td>\n",
       "      <td>1.648553</td>\n",
       "      <td>mistral-7b-g5-huggingface-pytorch-tgi-inferenc...</td>\n",
       "      <td>2</td>\n",
       "    </tr>\n",
       "    <tr>\n",
       "      <th>3</th>\n",
       "      <td>lmistral7b-g5-2xlarge-1706329863</td>\n",
       "      <td>&lt;s&gt;[INST] &lt;&lt;SYS&gt;&gt;\\nYou are an assistant for qu...</td>\n",
       "      <td>True</td>\n",
       "      <td>0.1</td>\n",
       "      <td>0.92</td>\n",
       "      <td>120</td>\n",
       "      <td>100</td>\n",
       "      <td>304</td>\n",
       "      <td>\\n\\n```\\nThe genus Sinofranchetia is from the ...</td>\n",
       "      <td>304</td>\n",
       "      <td>99</td>\n",
       "      <td>3.759369</td>\n",
       "      <td>mistral-7b-g5-huggingface-pytorch-tgi-inferenc...</td>\n",
       "      <td>2</td>\n",
       "    </tr>\n",
       "    <tr>\n",
       "      <th>4</th>\n",
       "      <td>lmistral7b-g5-2xlarge-1706329863</td>\n",
       "      <td>&lt;s&gt;[INST] &lt;&lt;SYS&gt;&gt;\\nYou are an assistant for qu...</td>\n",
       "      <td>True</td>\n",
       "      <td>0.1</td>\n",
       "      <td>0.92</td>\n",
       "      <td>120</td>\n",
       "      <td>100</td>\n",
       "      <td>980</td>\n",
       "      <td>Both WAGS Atlanta and WAGS are reality televi...</td>\n",
       "      <td>980</td>\n",
       "      <td>16</td>\n",
       "      <td>1.085169</td>\n",
       "      <td>mistral-7b-g5-huggingface-pytorch-tgi-inferenc...</td>\n",
       "      <td>2</td>\n",
       "    </tr>\n",
       "    <tr>\n",
       "      <th>5</th>\n",
       "      <td>lmistral7b-g5-2xlarge-1706329863</td>\n",
       "      <td>&lt;s&gt;[INST] &lt;&lt;SYS&gt;&gt;\\nYou are an assistant for qu...</td>\n",
       "      <td>True</td>\n",
       "      <td>0.1</td>\n",
       "      <td>0.92</td>\n",
       "      <td>120</td>\n",
       "      <td>100</td>\n",
       "      <td>980</td>\n",
       "      <td>Both WAGS Atlanta and WAGS are reality televi...</td>\n",
       "      <td>980</td>\n",
       "      <td>100</td>\n",
       "      <td>4.162502</td>\n",
       "      <td>mistral-7b-g5-huggingface-pytorch-tgi-inferenc...</td>\n",
       "      <td>2</td>\n",
       "    </tr>\n",
       "    <tr>\n",
       "      <th>6</th>\n",
       "      <td>lmistral7b-g5-2xlarge-1706329863</td>\n",
       "      <td>&lt;s&gt;[INST] &lt;&lt;SYS&gt;&gt;\\nYou are an assistant for qu...</td>\n",
       "      <td>True</td>\n",
       "      <td>0.1</td>\n",
       "      <td>0.92</td>\n",
       "      <td>120</td>\n",
       "      <td>100</td>\n",
       "      <td>304</td>\n",
       "      <td>\\n\\n```\\nThe genus Sinofranchetia and Staunton...</td>\n",
       "      <td>304</td>\n",
       "      <td>98</td>\n",
       "      <td>4.013820</td>\n",
       "      <td>mistral-7b-g5-huggingface-pytorch-tgi-inferenc...</td>\n",
       "      <td>4</td>\n",
       "    </tr>\n",
       "    <tr>\n",
       "      <th>7</th>\n",
       "      <td>lmistral7b-g5-2xlarge-1706329863</td>\n",
       "      <td>&lt;s&gt;[INST] &lt;&lt;SYS&gt;&gt;\\nYou are an assistant for qu...</td>\n",
       "      <td>True</td>\n",
       "      <td>0.1</td>\n",
       "      <td>0.92</td>\n",
       "      <td>120</td>\n",
       "      <td>100</td>\n",
       "      <td>304</td>\n",
       "      <td>\\n\\n```\\nPassage 1:\\nStauntonia\\nStauntonia is...</td>\n",
       "      <td>304</td>\n",
       "      <td>101</td>\n",
       "      <td>4.012472</td>\n",
       "      <td>mistral-7b-g5-huggingface-pytorch-tgi-inferenc...</td>\n",
       "      <td>4</td>\n",
       "    </tr>\n",
       "    <tr>\n",
       "      <th>8</th>\n",
       "      <td>lmistral7b-g5-2xlarge-1706329863</td>\n",
       "      <td>&lt;s&gt;[INST] &lt;&lt;SYS&gt;&gt;\\nYou are an assistant for qu...</td>\n",
       "      <td>True</td>\n",
       "      <td>0.1</td>\n",
       "      <td>0.92</td>\n",
       "      <td>120</td>\n",
       "      <td>100</td>\n",
       "      <td>304</td>\n",
       "      <td>\\n\\n```\\nThe genus Sinofranchetia is from the ...</td>\n",
       "      <td>304</td>\n",
       "      <td>98</td>\n",
       "      <td>4.048025</td>\n",
       "      <td>mistral-7b-g5-huggingface-pytorch-tgi-inferenc...</td>\n",
       "      <td>4</td>\n",
       "    </tr>\n",
       "    <tr>\n",
       "      <th>9</th>\n",
       "      <td>lmistral7b-g5-2xlarge-1706329863</td>\n",
       "      <td>&lt;s&gt;[INST] &lt;&lt;SYS&gt;&gt;\\nYou are an assistant for qu...</td>\n",
       "      <td>True</td>\n",
       "      <td>0.1</td>\n",
       "      <td>0.92</td>\n",
       "      <td>120</td>\n",
       "      <td>100</td>\n",
       "      <td>304</td>\n",
       "      <td>\\n\\n```\\nPassage 1:\\nStauntonia\\nStauntonia is...</td>\n",
       "      <td>304</td>\n",
       "      <td>101</td>\n",
       "      <td>4.039957</td>\n",
       "      <td>mistral-7b-g5-huggingface-pytorch-tgi-inferenc...</td>\n",
       "      <td>4</td>\n",
       "    </tr>\n",
       "    <tr>\n",
       "      <th>10</th>\n",
       "      <td>lmistral7b-g5-2xlarge-1706329863</td>\n",
       "      <td>&lt;s&gt;[INST] &lt;&lt;SYS&gt;&gt;\\nYou are an assistant for qu...</td>\n",
       "      <td>True</td>\n",
       "      <td>0.1</td>\n",
       "      <td>0.92</td>\n",
       "      <td>120</td>\n",
       "      <td>100</td>\n",
       "      <td>980</td>\n",
       "      <td>Both WAGS Atlanta and WAGS are reality televi...</td>\n",
       "      <td>980</td>\n",
       "      <td>100</td>\n",
       "      <td>4.801634</td>\n",
       "      <td>mistral-7b-g5-huggingface-pytorch-tgi-inferenc...</td>\n",
       "      <td>4</td>\n",
       "    </tr>\n",
       "    <tr>\n",
       "      <th>11</th>\n",
       "      <td>lmistral7b-g5-2xlarge-1706329863</td>\n",
       "      <td>&lt;s&gt;[INST] &lt;&lt;SYS&gt;&gt;\\nYou are an assistant for qu...</td>\n",
       "      <td>True</td>\n",
       "      <td>0.1</td>\n",
       "      <td>0.92</td>\n",
       "      <td>120</td>\n",
       "      <td>100</td>\n",
       "      <td>980</td>\n",
       "      <td>Both WAGS Atlanta and WAGS are reality televi...</td>\n",
       "      <td>980</td>\n",
       "      <td>100</td>\n",
       "      <td>4.798831</td>\n",
       "      <td>mistral-7b-g5-huggingface-pytorch-tgi-inferenc...</td>\n",
       "      <td>4</td>\n",
       "    </tr>\n",
       "    <tr>\n",
       "      <th>12</th>\n",
       "      <td>lmistral7b-g5-2xlarge-1706329863</td>\n",
       "      <td>&lt;s&gt;[INST] &lt;&lt;SYS&gt;&gt;\\nYou are an assistant for qu...</td>\n",
       "      <td>True</td>\n",
       "      <td>0.1</td>\n",
       "      <td>0.92</td>\n",
       "      <td>120</td>\n",
       "      <td>100</td>\n",
       "      <td>980</td>\n",
       "      <td>Both WAGS Atlanta and WAGS are reality televi...</td>\n",
       "      <td>980</td>\n",
       "      <td>100</td>\n",
       "      <td>4.800179</td>\n",
       "      <td>mistral-7b-g5-huggingface-pytorch-tgi-inferenc...</td>\n",
       "      <td>4</td>\n",
       "    </tr>\n",
       "    <tr>\n",
       "      <th>13</th>\n",
       "      <td>lmistral7b-g5-2xlarge-1706329863</td>\n",
       "      <td>&lt;s&gt;[INST] &lt;&lt;SYS&gt;&gt;\\nYou are an assistant for qu...</td>\n",
       "      <td>True</td>\n",
       "      <td>0.1</td>\n",
       "      <td>0.92</td>\n",
       "      <td>120</td>\n",
       "      <td>100</td>\n",
       "      <td>980</td>\n",
       "      <td>Both WAGS Atlanta and WAGS are reality televi...</td>\n",
       "      <td>980</td>\n",
       "      <td>16</td>\n",
       "      <td>1.533044</td>\n",
       "      <td>mistral-7b-g5-huggingface-pytorch-tgi-inferenc...</td>\n",
       "      <td>4</td>\n",
       "    </tr>\n",
       "    <tr>\n",
       "      <th>14</th>\n",
       "      <td>lmistral7b-g5-2xlarge-1706329863</td>\n",
       "      <td>&lt;s&gt;[INST] &lt;&lt;SYS&gt;&gt;\\nYou are an assistant for qu...</td>\n",
       "      <td>True</td>\n",
       "      <td>0.1</td>\n",
       "      <td>0.92</td>\n",
       "      <td>120</td>\n",
       "      <td>100</td>\n",
       "      <td>304</td>\n",
       "      <td>\\n\\n```\\nPassage 1:\\nStauntonia\\nStauntonia is...</td>\n",
       "      <td>304</td>\n",
       "      <td>101</td>\n",
       "      <td>4.173361</td>\n",
       "      <td>mistral-7b-g5-huggingface-pytorch-tgi-inferenc...</td>\n",
       "      <td>6</td>\n",
       "    </tr>\n",
       "    <tr>\n",
       "      <th>15</th>\n",
       "      <td>lmistral7b-g5-2xlarge-1706329863</td>\n",
       "      <td>&lt;s&gt;[INST] &lt;&lt;SYS&gt;&gt;\\nYou are an assistant for qu...</td>\n",
       "      <td>True</td>\n",
       "      <td>0.1</td>\n",
       "      <td>0.92</td>\n",
       "      <td>120</td>\n",
       "      <td>100</td>\n",
       "      <td>304</td>\n",
       "      <td>\\n\\n```\\nPassage 1:\\nStauntonia\\nStauntonia is...</td>\n",
       "      <td>304</td>\n",
       "      <td>101</td>\n",
       "      <td>4.170755</td>\n",
       "      <td>mistral-7b-g5-huggingface-pytorch-tgi-inferenc...</td>\n",
       "      <td>6</td>\n",
       "    </tr>\n",
       "    <tr>\n",
       "      <th>16</th>\n",
       "      <td>lmistral7b-g5-2xlarge-1706329863</td>\n",
       "      <td>&lt;s&gt;[INST] &lt;&lt;SYS&gt;&gt;\\nYou are an assistant for qu...</td>\n",
       "      <td>True</td>\n",
       "      <td>0.1</td>\n",
       "      <td>0.92</td>\n",
       "      <td>120</td>\n",
       "      <td>100</td>\n",
       "      <td>304</td>\n",
       "      <td>\\n\\n```\\nThe genus Sinofranchetia is from the ...</td>\n",
       "      <td>304</td>\n",
       "      <td>98</td>\n",
       "      <td>4.166439</td>\n",
       "      <td>mistral-7b-g5-huggingface-pytorch-tgi-inferenc...</td>\n",
       "      <td>6</td>\n",
       "    </tr>\n",
       "    <tr>\n",
       "      <th>17</th>\n",
       "      <td>lmistral7b-g5-2xlarge-1706329863</td>\n",
       "      <td>&lt;s&gt;[INST] &lt;&lt;SYS&gt;&gt;\\nYou are an assistant for qu...</td>\n",
       "      <td>True</td>\n",
       "      <td>0.1</td>\n",
       "      <td>0.92</td>\n",
       "      <td>120</td>\n",
       "      <td>100</td>\n",
       "      <td>304</td>\n",
       "      <td>\\n\\n```\\nPassage 1:\\nStauntonia\\nStauntonia is...</td>\n",
       "      <td>304</td>\n",
       "      <td>101</td>\n",
       "      <td>4.166709</td>\n",
       "      <td>mistral-7b-g5-huggingface-pytorch-tgi-inferenc...</td>\n",
       "      <td>6</td>\n",
       "    </tr>\n",
       "    <tr>\n",
       "      <th>18</th>\n",
       "      <td>lmistral7b-g5-2xlarge-1706329863</td>\n",
       "      <td>&lt;s&gt;[INST] &lt;&lt;SYS&gt;&gt;\\nYou are an assistant for qu...</td>\n",
       "      <td>True</td>\n",
       "      <td>0.1</td>\n",
       "      <td>0.92</td>\n",
       "      <td>120</td>\n",
       "      <td>100</td>\n",
       "      <td>304</td>\n",
       "      <td>\\n\\n```\\nThe genus Sinofranchetia is from the ...</td>\n",
       "      <td>304</td>\n",
       "      <td>98</td>\n",
       "      <td>4.851937</td>\n",
       "      <td>mistral-7b-g5-huggingface-pytorch-tgi-inferenc...</td>\n",
       "      <td>6</td>\n",
       "    </tr>\n",
       "    <tr>\n",
       "      <th>19</th>\n",
       "      <td>lmistral7b-g5-2xlarge-1706329863</td>\n",
       "      <td>&lt;s&gt;[INST] &lt;&lt;SYS&gt;&gt;\\nYou are an assistant for qu...</td>\n",
       "      <td>True</td>\n",
       "      <td>0.1</td>\n",
       "      <td>0.92</td>\n",
       "      <td>120</td>\n",
       "      <td>100</td>\n",
       "      <td>304</td>\n",
       "      <td>\\n\\n```\\nPassage 1:\\nStauntonia\\nStauntonia is...</td>\n",
       "      <td>304</td>\n",
       "      <td>101</td>\n",
       "      <td>4.850728</td>\n",
       "      <td>mistral-7b-g5-huggingface-pytorch-tgi-inferenc...</td>\n",
       "      <td>6</td>\n",
       "    </tr>\n",
       "    <tr>\n",
       "      <th>20</th>\n",
       "      <td>lmistral7b-g5-2xlarge-1706329863</td>\n",
       "      <td>&lt;s&gt;[INST] &lt;&lt;SYS&gt;&gt;\\nYou are an assistant for qu...</td>\n",
       "      <td>True</td>\n",
       "      <td>0.1</td>\n",
       "      <td>0.92</td>\n",
       "      <td>120</td>\n",
       "      <td>100</td>\n",
       "      <td>980</td>\n",
       "      <td>Both WAGS Atlanta and WAGS are reality televi...</td>\n",
       "      <td>980</td>\n",
       "      <td>100</td>\n",
       "      <td>5.308070</td>\n",
       "      <td>mistral-7b-g5-huggingface-pytorch-tgi-inferenc...</td>\n",
       "      <td>6</td>\n",
       "    </tr>\n",
       "    <tr>\n",
       "      <th>21</th>\n",
       "      <td>lmistral7b-g5-2xlarge-1706329863</td>\n",
       "      <td>&lt;s&gt;[INST] &lt;&lt;SYS&gt;&gt;\\nYou are an assistant for qu...</td>\n",
       "      <td>True</td>\n",
       "      <td>0.1</td>\n",
       "      <td>0.92</td>\n",
       "      <td>120</td>\n",
       "      <td>100</td>\n",
       "      <td>980</td>\n",
       "      <td>Both WAGS Atlanta and WAGS are reality televi...</td>\n",
       "      <td>980</td>\n",
       "      <td>100</td>\n",
       "      <td>5.268401</td>\n",
       "      <td>mistral-7b-g5-huggingface-pytorch-tgi-inferenc...</td>\n",
       "      <td>6</td>\n",
       "    </tr>\n",
       "    <tr>\n",
       "      <th>22</th>\n",
       "      <td>lmistral7b-g5-2xlarge-1706329863</td>\n",
       "      <td>&lt;s&gt;[INST] &lt;&lt;SYS&gt;&gt;\\nYou are an assistant for qu...</td>\n",
       "      <td>True</td>\n",
       "      <td>0.1</td>\n",
       "      <td>0.92</td>\n",
       "      <td>120</td>\n",
       "      <td>100</td>\n",
       "      <td>980</td>\n",
       "      <td>Both WAGS Atlanta and WAGS are reality televi...</td>\n",
       "      <td>980</td>\n",
       "      <td>16</td>\n",
       "      <td>1.990644</td>\n",
       "      <td>mistral-7b-g5-huggingface-pytorch-tgi-inferenc...</td>\n",
       "      <td>6</td>\n",
       "    </tr>\n",
       "    <tr>\n",
       "      <th>23</th>\n",
       "      <td>lmistral7b-g5-2xlarge-1706329863</td>\n",
       "      <td>&lt;s&gt;[INST] &lt;&lt;SYS&gt;&gt;\\nYou are an assistant for qu...</td>\n",
       "      <td>True</td>\n",
       "      <td>0.1</td>\n",
       "      <td>0.92</td>\n",
       "      <td>120</td>\n",
       "      <td>100</td>\n",
       "      <td>980</td>\n",
       "      <td>Both WAGS Atlanta and WAGS are reality televi...</td>\n",
       "      <td>980</td>\n",
       "      <td>100</td>\n",
       "      <td>5.228678</td>\n",
       "      <td>mistral-7b-g5-huggingface-pytorch-tgi-inferenc...</td>\n",
       "      <td>6</td>\n",
       "    </tr>\n",
       "    <tr>\n",
       "      <th>24</th>\n",
       "      <td>lmistral7b-g5-2xlarge-1706329863</td>\n",
       "      <td>&lt;s&gt;[INST] &lt;&lt;SYS&gt;&gt;\\nYou are an assistant for qu...</td>\n",
       "      <td>True</td>\n",
       "      <td>0.1</td>\n",
       "      <td>0.92</td>\n",
       "      <td>120</td>\n",
       "      <td>100</td>\n",
       "      <td>980</td>\n",
       "      <td>Both WAGS Atlanta and WAGS are reality televi...</td>\n",
       "      <td>980</td>\n",
       "      <td>100</td>\n",
       "      <td>5.249698</td>\n",
       "      <td>mistral-7b-g5-huggingface-pytorch-tgi-inferenc...</td>\n",
       "      <td>6</td>\n",
       "    </tr>\n",
       "    <tr>\n",
       "      <th>25</th>\n",
       "      <td>lmistral7b-g5-2xlarge-1706329863</td>\n",
       "      <td>&lt;s&gt;[INST] &lt;&lt;SYS&gt;&gt;\\nYou are an assistant for qu...</td>\n",
       "      <td>True</td>\n",
       "      <td>0.1</td>\n",
       "      <td>0.92</td>\n",
       "      <td>120</td>\n",
       "      <td>100</td>\n",
       "      <td>980</td>\n",
       "      <td>Both WAGS Atlanta and WAGS are reality televi...</td>\n",
       "      <td>980</td>\n",
       "      <td>16</td>\n",
       "      <td>1.936525</td>\n",
       "      <td>mistral-7b-g5-huggingface-pytorch-tgi-inferenc...</td>\n",
       "      <td>6</td>\n",
       "    </tr>\n",
       "    <tr>\n",
       "      <th>26</th>\n",
       "      <td>lmistral7b-g5-2xlarge-1706329863</td>\n",
       "      <td>&lt;s&gt;[INST] &lt;&lt;SYS&gt;&gt;\\nYou are an assistant for qu...</td>\n",
       "      <td>True</td>\n",
       "      <td>0.1</td>\n",
       "      <td>0.92</td>\n",
       "      <td>120</td>\n",
       "      <td>100</td>\n",
       "      <td>304</td>\n",
       "      <td>\\n\\n```\\nThe family of the genus' Sinofranchet...</td>\n",
       "      <td>304</td>\n",
       "      <td>98</td>\n",
       "      <td>4.327651</td>\n",
       "      <td>mistral-7b-g5-huggingface-pytorch-tgi-inferenc...</td>\n",
       "      <td>8</td>\n",
       "    </tr>\n",
       "    <tr>\n",
       "      <th>27</th>\n",
       "      <td>lmistral7b-g5-2xlarge-1706329863</td>\n",
       "      <td>&lt;s&gt;[INST] &lt;&lt;SYS&gt;&gt;\\nYou are an assistant for qu...</td>\n",
       "      <td>True</td>\n",
       "      <td>0.1</td>\n",
       "      <td>0.92</td>\n",
       "      <td>120</td>\n",
       "      <td>100</td>\n",
       "      <td>304</td>\n",
       "      <td>\\n\\n```\\nThe genus Sinofranchetia is from the ...</td>\n",
       "      <td>304</td>\n",
       "      <td>49</td>\n",
       "      <td>2.473660</td>\n",
       "      <td>mistral-7b-g5-huggingface-pytorch-tgi-inferenc...</td>\n",
       "      <td>8</td>\n",
       "    </tr>\n",
       "    <tr>\n",
       "      <th>28</th>\n",
       "      <td>lmistral7b-g5-2xlarge-1706329863</td>\n",
       "      <td>&lt;s&gt;[INST] &lt;&lt;SYS&gt;&gt;\\nYou are an assistant for qu...</td>\n",
       "      <td>True</td>\n",
       "      <td>0.1</td>\n",
       "      <td>0.92</td>\n",
       "      <td>120</td>\n",
       "      <td>100</td>\n",
       "      <td>304</td>\n",
       "      <td>\\n\\n```\\nPassage 1:\\nStauntonia\\nStauntonia is...</td>\n",
       "      <td>304</td>\n",
       "      <td>101</td>\n",
       "      <td>4.321864</td>\n",
       "      <td>mistral-7b-g5-huggingface-pytorch-tgi-inferenc...</td>\n",
       "      <td>8</td>\n",
       "    </tr>\n",
       "    <tr>\n",
       "      <th>29</th>\n",
       "      <td>lmistral7b-g5-2xlarge-1706329863</td>\n",
       "      <td>&lt;s&gt;[INST] &lt;&lt;SYS&gt;&gt;\\nYou are an assistant for qu...</td>\n",
       "      <td>True</td>\n",
       "      <td>0.1</td>\n",
       "      <td>0.92</td>\n",
       "      <td>120</td>\n",
       "      <td>100</td>\n",
       "      <td>304</td>\n",
       "      <td>\\n\\n```\\nThe genus Sinofranchetia and Staunton...</td>\n",
       "      <td>304</td>\n",
       "      <td>39</td>\n",
       "      <td>2.107191</td>\n",
       "      <td>mistral-7b-g5-huggingface-pytorch-tgi-inferenc...</td>\n",
       "      <td>8</td>\n",
       "    </tr>\n",
       "    <tr>\n",
       "      <th>30</th>\n",
       "      <td>lmistral7b-g5-2xlarge-1706329863</td>\n",
       "      <td>&lt;s&gt;[INST] &lt;&lt;SYS&gt;&gt;\\nYou are an assistant for qu...</td>\n",
       "      <td>True</td>\n",
       "      <td>0.1</td>\n",
       "      <td>0.92</td>\n",
       "      <td>120</td>\n",
       "      <td>100</td>\n",
       "      <td>304</td>\n",
       "      <td>\\n\\n```\\nPassage 1:\\nStauntonia\\nStauntonia is...</td>\n",
       "      <td>304</td>\n",
       "      <td>101</td>\n",
       "      <td>4.308198</td>\n",
       "      <td>mistral-7b-g5-huggingface-pytorch-tgi-inferenc...</td>\n",
       "      <td>8</td>\n",
       "    </tr>\n",
       "    <tr>\n",
       "      <th>31</th>\n",
       "      <td>lmistral7b-g5-2xlarge-1706329863</td>\n",
       "      <td>&lt;s&gt;[INST] &lt;&lt;SYS&gt;&gt;\\nYou are an assistant for qu...</td>\n",
       "      <td>True</td>\n",
       "      <td>0.1</td>\n",
       "      <td>0.92</td>\n",
       "      <td>120</td>\n",
       "      <td>100</td>\n",
       "      <td>304</td>\n",
       "      <td>\\n\\n```\\nThe genus Sinofranchetia is from the ...</td>\n",
       "      <td>304</td>\n",
       "      <td>98</td>\n",
       "      <td>4.921414</td>\n",
       "      <td>mistral-7b-g5-huggingface-pytorch-tgi-inferenc...</td>\n",
       "      <td>8</td>\n",
       "    </tr>\n",
       "    <tr>\n",
       "      <th>32</th>\n",
       "      <td>lmistral7b-g5-2xlarge-1706329863</td>\n",
       "      <td>&lt;s&gt;[INST] &lt;&lt;SYS&gt;&gt;\\nYou are an assistant for qu...</td>\n",
       "      <td>True</td>\n",
       "      <td>0.1</td>\n",
       "      <td>0.92</td>\n",
       "      <td>120</td>\n",
       "      <td>100</td>\n",
       "      <td>304</td>\n",
       "      <td>\\n\\n```\\nPassage 1:\\nStauntonia\\nStauntonia is...</td>\n",
       "      <td>304</td>\n",
       "      <td>101</td>\n",
       "      <td>4.287606</td>\n",
       "      <td>mistral-7b-g5-huggingface-pytorch-tgi-inferenc...</td>\n",
       "      <td>8</td>\n",
       "    </tr>\n",
       "    <tr>\n",
       "      <th>33</th>\n",
       "      <td>lmistral7b-g5-2xlarge-1706329863</td>\n",
       "      <td>&lt;s&gt;[INST] &lt;&lt;SYS&gt;&gt;\\nYou are an assistant for qu...</td>\n",
       "      <td>True</td>\n",
       "      <td>0.1</td>\n",
       "      <td>0.92</td>\n",
       "      <td>120</td>\n",
       "      <td>100</td>\n",
       "      <td>304</td>\n",
       "      <td>\\n\\n```\\nThe family of the genus Sinofrancheti...</td>\n",
       "      <td>304</td>\n",
       "      <td>98</td>\n",
       "      <td>4.931896</td>\n",
       "      <td>mistral-7b-g5-huggingface-pytorch-tgi-inferenc...</td>\n",
       "      <td>8</td>\n",
       "    </tr>\n",
       "    <tr>\n",
       "      <th>34</th>\n",
       "      <td>lmistral7b-g5-2xlarge-1706329863</td>\n",
       "      <td>&lt;s&gt;[INST] &lt;&lt;SYS&gt;&gt;\\nYou are an assistant for qu...</td>\n",
       "      <td>True</td>\n",
       "      <td>0.1</td>\n",
       "      <td>0.92</td>\n",
       "      <td>120</td>\n",
       "      <td>100</td>\n",
       "      <td>980</td>\n",
       "      <td>Both WAGS Atlanta and WAGS are reality televi...</td>\n",
       "      <td>980</td>\n",
       "      <td>100</td>\n",
       "      <td>5.920573</td>\n",
       "      <td>mistral-7b-g5-huggingface-pytorch-tgi-inferenc...</td>\n",
       "      <td>8</td>\n",
       "    </tr>\n",
       "    <tr>\n",
       "      <th>35</th>\n",
       "      <td>lmistral7b-g5-2xlarge-1706329863</td>\n",
       "      <td>&lt;s&gt;[INST] &lt;&lt;SYS&gt;&gt;\\nYou are an assistant for qu...</td>\n",
       "      <td>True</td>\n",
       "      <td>0.1</td>\n",
       "      <td>0.92</td>\n",
       "      <td>120</td>\n",
       "      <td>100</td>\n",
       "      <td>980</td>\n",
       "      <td>Both WAGS Atlanta and WAGS are reality televi...</td>\n",
       "      <td>980</td>\n",
       "      <td>100</td>\n",
       "      <td>5.915512</td>\n",
       "      <td>mistral-7b-g5-huggingface-pytorch-tgi-inferenc...</td>\n",
       "      <td>8</td>\n",
       "    </tr>\n",
       "    <tr>\n",
       "      <th>36</th>\n",
       "      <td>lmistral7b-g5-2xlarge-1706329863</td>\n",
       "      <td>&lt;s&gt;[INST] &lt;&lt;SYS&gt;&gt;\\nYou are an assistant for qu...</td>\n",
       "      <td>True</td>\n",
       "      <td>0.1</td>\n",
       "      <td>0.92</td>\n",
       "      <td>120</td>\n",
       "      <td>100</td>\n",
       "      <td>980</td>\n",
       "      <td>Both WAGS Atlanta and WAGS are reality televi...</td>\n",
       "      <td>980</td>\n",
       "      <td>100</td>\n",
       "      <td>5.915175</td>\n",
       "      <td>mistral-7b-g5-huggingface-pytorch-tgi-inferenc...</td>\n",
       "      <td>8</td>\n",
       "    </tr>\n",
       "    <tr>\n",
       "      <th>37</th>\n",
       "      <td>lmistral7b-g5-2xlarge-1706329863</td>\n",
       "      <td>&lt;s&gt;[INST] &lt;&lt;SYS&gt;&gt;\\nYou are an assistant for qu...</td>\n",
       "      <td>True</td>\n",
       "      <td>0.1</td>\n",
       "      <td>0.92</td>\n",
       "      <td>120</td>\n",
       "      <td>100</td>\n",
       "      <td>980</td>\n",
       "      <td>Both WAGS Atlanta and WAGS are reality televi...</td>\n",
       "      <td>980</td>\n",
       "      <td>100</td>\n",
       "      <td>5.912963</td>\n",
       "      <td>mistral-7b-g5-huggingface-pytorch-tgi-inferenc...</td>\n",
       "      <td>8</td>\n",
       "    </tr>\n",
       "    <tr>\n",
       "      <th>38</th>\n",
       "      <td>lmistral7b-g5-2xlarge-1706329863</td>\n",
       "      <td>&lt;s&gt;[INST] &lt;&lt;SYS&gt;&gt;\\nYou are an assistant for qu...</td>\n",
       "      <td>True</td>\n",
       "      <td>0.1</td>\n",
       "      <td>0.92</td>\n",
       "      <td>120</td>\n",
       "      <td>100</td>\n",
       "      <td>980</td>\n",
       "      <td>Both WAGS Atlanta and WAGS are reality televi...</td>\n",
       "      <td>980</td>\n",
       "      <td>100</td>\n",
       "      <td>5.911190</td>\n",
       "      <td>mistral-7b-g5-huggingface-pytorch-tgi-inferenc...</td>\n",
       "      <td>8</td>\n",
       "    </tr>\n",
       "    <tr>\n",
       "      <th>39</th>\n",
       "      <td>lmistral7b-g5-2xlarge-1706329863</td>\n",
       "      <td>&lt;s&gt;[INST] &lt;&lt;SYS&gt;&gt;\\nYou are an assistant for qu...</td>\n",
       "      <td>True</td>\n",
       "      <td>0.1</td>\n",
       "      <td>0.92</td>\n",
       "      <td>120</td>\n",
       "      <td>100</td>\n",
       "      <td>980</td>\n",
       "      <td>Both WAGS Atlanta and WAGS are reality televi...</td>\n",
       "      <td>980</td>\n",
       "      <td>100</td>\n",
       "      <td>5.910658</td>\n",
       "      <td>mistral-7b-g5-huggingface-pytorch-tgi-inferenc...</td>\n",
       "      <td>8</td>\n",
       "    </tr>\n",
       "    <tr>\n",
       "      <th>40</th>\n",
       "      <td>lmistral7b-g5-2xlarge-1706329863</td>\n",
       "      <td>&lt;s&gt;[INST] &lt;&lt;SYS&gt;&gt;\\nYou are an assistant for qu...</td>\n",
       "      <td>True</td>\n",
       "      <td>0.1</td>\n",
       "      <td>0.92</td>\n",
       "      <td>120</td>\n",
       "      <td>100</td>\n",
       "      <td>980</td>\n",
       "      <td>Both WAGS Atlanta and WAGS are reality televi...</td>\n",
       "      <td>980</td>\n",
       "      <td>100</td>\n",
       "      <td>5.912362</td>\n",
       "      <td>mistral-7b-g5-huggingface-pytorch-tgi-inferenc...</td>\n",
       "      <td>8</td>\n",
       "    </tr>\n",
       "    <tr>\n",
       "      <th>41</th>\n",
       "      <td>lmistral7b-g5-2xlarge-1706329863</td>\n",
       "      <td>&lt;s&gt;[INST] &lt;&lt;SYS&gt;&gt;\\nYou are an assistant for qu...</td>\n",
       "      <td>True</td>\n",
       "      <td>0.1</td>\n",
       "      <td>0.92</td>\n",
       "      <td>120</td>\n",
       "      <td>100</td>\n",
       "      <td>980</td>\n",
       "      <td>Both WAGS Atlanta and WAGS are reality televi...</td>\n",
       "      <td>980</td>\n",
       "      <td>100</td>\n",
       "      <td>5.907974</td>\n",
       "      <td>mistral-7b-g5-huggingface-pytorch-tgi-inferenc...</td>\n",
       "      <td>8</td>\n",
       "    </tr>\n",
       "  </tbody>\n",
       "</table>\n",
       "</div>"
      ],
      "text/plain": [
       "                       endpoint_name  \\\n",
       "0   lmistral7b-g5-2xlarge-1706329863   \n",
       "1   lmistral7b-g5-2xlarge-1706329863   \n",
       "2   lmistral7b-g5-2xlarge-1706329863   \n",
       "3   lmistral7b-g5-2xlarge-1706329863   \n",
       "4   lmistral7b-g5-2xlarge-1706329863   \n",
       "5   lmistral7b-g5-2xlarge-1706329863   \n",
       "6   lmistral7b-g5-2xlarge-1706329863   \n",
       "7   lmistral7b-g5-2xlarge-1706329863   \n",
       "8   lmistral7b-g5-2xlarge-1706329863   \n",
       "9   lmistral7b-g5-2xlarge-1706329863   \n",
       "10  lmistral7b-g5-2xlarge-1706329863   \n",
       "11  lmistral7b-g5-2xlarge-1706329863   \n",
       "12  lmistral7b-g5-2xlarge-1706329863   \n",
       "13  lmistral7b-g5-2xlarge-1706329863   \n",
       "14  lmistral7b-g5-2xlarge-1706329863   \n",
       "15  lmistral7b-g5-2xlarge-1706329863   \n",
       "16  lmistral7b-g5-2xlarge-1706329863   \n",
       "17  lmistral7b-g5-2xlarge-1706329863   \n",
       "18  lmistral7b-g5-2xlarge-1706329863   \n",
       "19  lmistral7b-g5-2xlarge-1706329863   \n",
       "20  lmistral7b-g5-2xlarge-1706329863   \n",
       "21  lmistral7b-g5-2xlarge-1706329863   \n",
       "22  lmistral7b-g5-2xlarge-1706329863   \n",
       "23  lmistral7b-g5-2xlarge-1706329863   \n",
       "24  lmistral7b-g5-2xlarge-1706329863   \n",
       "25  lmistral7b-g5-2xlarge-1706329863   \n",
       "26  lmistral7b-g5-2xlarge-1706329863   \n",
       "27  lmistral7b-g5-2xlarge-1706329863   \n",
       "28  lmistral7b-g5-2xlarge-1706329863   \n",
       "29  lmistral7b-g5-2xlarge-1706329863   \n",
       "30  lmistral7b-g5-2xlarge-1706329863   \n",
       "31  lmistral7b-g5-2xlarge-1706329863   \n",
       "32  lmistral7b-g5-2xlarge-1706329863   \n",
       "33  lmistral7b-g5-2xlarge-1706329863   \n",
       "34  lmistral7b-g5-2xlarge-1706329863   \n",
       "35  lmistral7b-g5-2xlarge-1706329863   \n",
       "36  lmistral7b-g5-2xlarge-1706329863   \n",
       "37  lmistral7b-g5-2xlarge-1706329863   \n",
       "38  lmistral7b-g5-2xlarge-1706329863   \n",
       "39  lmistral7b-g5-2xlarge-1706329863   \n",
       "40  lmistral7b-g5-2xlarge-1706329863   \n",
       "41  lmistral7b-g5-2xlarge-1706329863   \n",
       "\n",
       "                                               prompt  do_sample  temperature  \\\n",
       "0   <s>[INST] <<SYS>>\\nYou are an assistant for qu...       True          0.1   \n",
       "1   <s>[INST] <<SYS>>\\nYou are an assistant for qu...       True          0.1   \n",
       "2   <s>[INST] <<SYS>>\\nYou are an assistant for qu...       True          0.1   \n",
       "3   <s>[INST] <<SYS>>\\nYou are an assistant for qu...       True          0.1   \n",
       "4   <s>[INST] <<SYS>>\\nYou are an assistant for qu...       True          0.1   \n",
       "5   <s>[INST] <<SYS>>\\nYou are an assistant for qu...       True          0.1   \n",
       "6   <s>[INST] <<SYS>>\\nYou are an assistant for qu...       True          0.1   \n",
       "7   <s>[INST] <<SYS>>\\nYou are an assistant for qu...       True          0.1   \n",
       "8   <s>[INST] <<SYS>>\\nYou are an assistant for qu...       True          0.1   \n",
       "9   <s>[INST] <<SYS>>\\nYou are an assistant for qu...       True          0.1   \n",
       "10  <s>[INST] <<SYS>>\\nYou are an assistant for qu...       True          0.1   \n",
       "11  <s>[INST] <<SYS>>\\nYou are an assistant for qu...       True          0.1   \n",
       "12  <s>[INST] <<SYS>>\\nYou are an assistant for qu...       True          0.1   \n",
       "13  <s>[INST] <<SYS>>\\nYou are an assistant for qu...       True          0.1   \n",
       "14  <s>[INST] <<SYS>>\\nYou are an assistant for qu...       True          0.1   \n",
       "15  <s>[INST] <<SYS>>\\nYou are an assistant for qu...       True          0.1   \n",
       "16  <s>[INST] <<SYS>>\\nYou are an assistant for qu...       True          0.1   \n",
       "17  <s>[INST] <<SYS>>\\nYou are an assistant for qu...       True          0.1   \n",
       "18  <s>[INST] <<SYS>>\\nYou are an assistant for qu...       True          0.1   \n",
       "19  <s>[INST] <<SYS>>\\nYou are an assistant for qu...       True          0.1   \n",
       "20  <s>[INST] <<SYS>>\\nYou are an assistant for qu...       True          0.1   \n",
       "21  <s>[INST] <<SYS>>\\nYou are an assistant for qu...       True          0.1   \n",
       "22  <s>[INST] <<SYS>>\\nYou are an assistant for qu...       True          0.1   \n",
       "23  <s>[INST] <<SYS>>\\nYou are an assistant for qu...       True          0.1   \n",
       "24  <s>[INST] <<SYS>>\\nYou are an assistant for qu...       True          0.1   \n",
       "25  <s>[INST] <<SYS>>\\nYou are an assistant for qu...       True          0.1   \n",
       "26  <s>[INST] <<SYS>>\\nYou are an assistant for qu...       True          0.1   \n",
       "27  <s>[INST] <<SYS>>\\nYou are an assistant for qu...       True          0.1   \n",
       "28  <s>[INST] <<SYS>>\\nYou are an assistant for qu...       True          0.1   \n",
       "29  <s>[INST] <<SYS>>\\nYou are an assistant for qu...       True          0.1   \n",
       "30  <s>[INST] <<SYS>>\\nYou are an assistant for qu...       True          0.1   \n",
       "31  <s>[INST] <<SYS>>\\nYou are an assistant for qu...       True          0.1   \n",
       "32  <s>[INST] <<SYS>>\\nYou are an assistant for qu...       True          0.1   \n",
       "33  <s>[INST] <<SYS>>\\nYou are an assistant for qu...       True          0.1   \n",
       "34  <s>[INST] <<SYS>>\\nYou are an assistant for qu...       True          0.1   \n",
       "35  <s>[INST] <<SYS>>\\nYou are an assistant for qu...       True          0.1   \n",
       "36  <s>[INST] <<SYS>>\\nYou are an assistant for qu...       True          0.1   \n",
       "37  <s>[INST] <<SYS>>\\nYou are an assistant for qu...       True          0.1   \n",
       "38  <s>[INST] <<SYS>>\\nYou are an assistant for qu...       True          0.1   \n",
       "39  <s>[INST] <<SYS>>\\nYou are an assistant for qu...       True          0.1   \n",
       "40  <s>[INST] <<SYS>>\\nYou are an assistant for qu...       True          0.1   \n",
       "41  <s>[INST] <<SYS>>\\nYou are an assistant for qu...       True          0.1   \n",
       "\n",
       "    top_p  top_k  max_new_tokens  truncate  \\\n",
       "0    0.92    120             100       304   \n",
       "1    0.92    120             100       980   \n",
       "2    0.92    120             100       304   \n",
       "3    0.92    120             100       304   \n",
       "4    0.92    120             100       980   \n",
       "5    0.92    120             100       980   \n",
       "6    0.92    120             100       304   \n",
       "7    0.92    120             100       304   \n",
       "8    0.92    120             100       304   \n",
       "9    0.92    120             100       304   \n",
       "10   0.92    120             100       980   \n",
       "11   0.92    120             100       980   \n",
       "12   0.92    120             100       980   \n",
       "13   0.92    120             100       980   \n",
       "14   0.92    120             100       304   \n",
       "15   0.92    120             100       304   \n",
       "16   0.92    120             100       304   \n",
       "17   0.92    120             100       304   \n",
       "18   0.92    120             100       304   \n",
       "19   0.92    120             100       304   \n",
       "20   0.92    120             100       980   \n",
       "21   0.92    120             100       980   \n",
       "22   0.92    120             100       980   \n",
       "23   0.92    120             100       980   \n",
       "24   0.92    120             100       980   \n",
       "25   0.92    120             100       980   \n",
       "26   0.92    120             100       304   \n",
       "27   0.92    120             100       304   \n",
       "28   0.92    120             100       304   \n",
       "29   0.92    120             100       304   \n",
       "30   0.92    120             100       304   \n",
       "31   0.92    120             100       304   \n",
       "32   0.92    120             100       304   \n",
       "33   0.92    120             100       304   \n",
       "34   0.92    120             100       980   \n",
       "35   0.92    120             100       980   \n",
       "36   0.92    120             100       980   \n",
       "37   0.92    120             100       980   \n",
       "38   0.92    120             100       980   \n",
       "39   0.92    120             100       980   \n",
       "40   0.92    120             100       980   \n",
       "41   0.92    120             100       980   \n",
       "\n",
       "                                           completion  prompt_tokens  \\\n",
       "0   \\n\\n```\\nThe genus Sinofranchetia is from the ...            304   \n",
       "1    Both WAGS Atlanta and WAGS are reality televi...            980   \n",
       "2   \\n\\n```\\nThe genus Sinofranchetia and Staunton...            304   \n",
       "3   \\n\\n```\\nThe genus Sinofranchetia is from the ...            304   \n",
       "4    Both WAGS Atlanta and WAGS are reality televi...            980   \n",
       "5    Both WAGS Atlanta and WAGS are reality televi...            980   \n",
       "6   \\n\\n```\\nThe genus Sinofranchetia and Staunton...            304   \n",
       "7   \\n\\n```\\nPassage 1:\\nStauntonia\\nStauntonia is...            304   \n",
       "8   \\n\\n```\\nThe genus Sinofranchetia is from the ...            304   \n",
       "9   \\n\\n```\\nPassage 1:\\nStauntonia\\nStauntonia is...            304   \n",
       "10   Both WAGS Atlanta and WAGS are reality televi...            980   \n",
       "11   Both WAGS Atlanta and WAGS are reality televi...            980   \n",
       "12   Both WAGS Atlanta and WAGS are reality televi...            980   \n",
       "13   Both WAGS Atlanta and WAGS are reality televi...            980   \n",
       "14  \\n\\n```\\nPassage 1:\\nStauntonia\\nStauntonia is...            304   \n",
       "15  \\n\\n```\\nPassage 1:\\nStauntonia\\nStauntonia is...            304   \n",
       "16  \\n\\n```\\nThe genus Sinofranchetia is from the ...            304   \n",
       "17  \\n\\n```\\nPassage 1:\\nStauntonia\\nStauntonia is...            304   \n",
       "18  \\n\\n```\\nThe genus Sinofranchetia is from the ...            304   \n",
       "19  \\n\\n```\\nPassage 1:\\nStauntonia\\nStauntonia is...            304   \n",
       "20   Both WAGS Atlanta and WAGS are reality televi...            980   \n",
       "21   Both WAGS Atlanta and WAGS are reality televi...            980   \n",
       "22   Both WAGS Atlanta and WAGS are reality televi...            980   \n",
       "23   Both WAGS Atlanta and WAGS are reality televi...            980   \n",
       "24   Both WAGS Atlanta and WAGS are reality televi...            980   \n",
       "25   Both WAGS Atlanta and WAGS are reality televi...            980   \n",
       "26  \\n\\n```\\nThe family of the genus' Sinofranchet...            304   \n",
       "27  \\n\\n```\\nThe genus Sinofranchetia is from the ...            304   \n",
       "28  \\n\\n```\\nPassage 1:\\nStauntonia\\nStauntonia is...            304   \n",
       "29  \\n\\n```\\nThe genus Sinofranchetia and Staunton...            304   \n",
       "30  \\n\\n```\\nPassage 1:\\nStauntonia\\nStauntonia is...            304   \n",
       "31  \\n\\n```\\nThe genus Sinofranchetia is from the ...            304   \n",
       "32  \\n\\n```\\nPassage 1:\\nStauntonia\\nStauntonia is...            304   \n",
       "33  \\n\\n```\\nThe family of the genus Sinofrancheti...            304   \n",
       "34   Both WAGS Atlanta and WAGS are reality televi...            980   \n",
       "35   Both WAGS Atlanta and WAGS are reality televi...            980   \n",
       "36   Both WAGS Atlanta and WAGS are reality televi...            980   \n",
       "37   Both WAGS Atlanta and WAGS are reality televi...            980   \n",
       "38   Both WAGS Atlanta and WAGS are reality televi...            980   \n",
       "39   Both WAGS Atlanta and WAGS are reality televi...            980   \n",
       "40   Both WAGS Atlanta and WAGS are reality televi...            980   \n",
       "41   Both WAGS Atlanta and WAGS are reality televi...            980   \n",
       "\n",
       "    completion_tokens   latency  \\\n",
       "0                  98  3.752459   \n",
       "1                 100  3.940795   \n",
       "2                  39  1.648553   \n",
       "3                  99  3.759369   \n",
       "4                  16  1.085169   \n",
       "5                 100  4.162502   \n",
       "6                  98  4.013820   \n",
       "7                 101  4.012472   \n",
       "8                  98  4.048025   \n",
       "9                 101  4.039957   \n",
       "10                100  4.801634   \n",
       "11                100  4.798831   \n",
       "12                100  4.800179   \n",
       "13                 16  1.533044   \n",
       "14                101  4.173361   \n",
       "15                101  4.170755   \n",
       "16                 98  4.166439   \n",
       "17                101  4.166709   \n",
       "18                 98  4.851937   \n",
       "19                101  4.850728   \n",
       "20                100  5.308070   \n",
       "21                100  5.268401   \n",
       "22                 16  1.990644   \n",
       "23                100  5.228678   \n",
       "24                100  5.249698   \n",
       "25                 16  1.936525   \n",
       "26                 98  4.327651   \n",
       "27                 49  2.473660   \n",
       "28                101  4.321864   \n",
       "29                 39  2.107191   \n",
       "30                101  4.308198   \n",
       "31                 98  4.921414   \n",
       "32                101  4.287606   \n",
       "33                 98  4.931896   \n",
       "34                100  5.920573   \n",
       "35                100  5.915512   \n",
       "36                100  5.915175   \n",
       "37                100  5.912963   \n",
       "38                100  5.911190   \n",
       "39                100  5.910658   \n",
       "40                100  5.912362   \n",
       "41                100  5.907974   \n",
       "\n",
       "                                      experiment_name  concurrency  \n",
       "0   mistral-7b-g5-huggingface-pytorch-tgi-inferenc...            1  \n",
       "1   mistral-7b-g5-huggingface-pytorch-tgi-inferenc...            1  \n",
       "2   mistral-7b-g5-huggingface-pytorch-tgi-inferenc...            2  \n",
       "3   mistral-7b-g5-huggingface-pytorch-tgi-inferenc...            2  \n",
       "4   mistral-7b-g5-huggingface-pytorch-tgi-inferenc...            2  \n",
       "5   mistral-7b-g5-huggingface-pytorch-tgi-inferenc...            2  \n",
       "6   mistral-7b-g5-huggingface-pytorch-tgi-inferenc...            4  \n",
       "7   mistral-7b-g5-huggingface-pytorch-tgi-inferenc...            4  \n",
       "8   mistral-7b-g5-huggingface-pytorch-tgi-inferenc...            4  \n",
       "9   mistral-7b-g5-huggingface-pytorch-tgi-inferenc...            4  \n",
       "10  mistral-7b-g5-huggingface-pytorch-tgi-inferenc...            4  \n",
       "11  mistral-7b-g5-huggingface-pytorch-tgi-inferenc...            4  \n",
       "12  mistral-7b-g5-huggingface-pytorch-tgi-inferenc...            4  \n",
       "13  mistral-7b-g5-huggingface-pytorch-tgi-inferenc...            4  \n",
       "14  mistral-7b-g5-huggingface-pytorch-tgi-inferenc...            6  \n",
       "15  mistral-7b-g5-huggingface-pytorch-tgi-inferenc...            6  \n",
       "16  mistral-7b-g5-huggingface-pytorch-tgi-inferenc...            6  \n",
       "17  mistral-7b-g5-huggingface-pytorch-tgi-inferenc...            6  \n",
       "18  mistral-7b-g5-huggingface-pytorch-tgi-inferenc...            6  \n",
       "19  mistral-7b-g5-huggingface-pytorch-tgi-inferenc...            6  \n",
       "20  mistral-7b-g5-huggingface-pytorch-tgi-inferenc...            6  \n",
       "21  mistral-7b-g5-huggingface-pytorch-tgi-inferenc...            6  \n",
       "22  mistral-7b-g5-huggingface-pytorch-tgi-inferenc...            6  \n",
       "23  mistral-7b-g5-huggingface-pytorch-tgi-inferenc...            6  \n",
       "24  mistral-7b-g5-huggingface-pytorch-tgi-inferenc...            6  \n",
       "25  mistral-7b-g5-huggingface-pytorch-tgi-inferenc...            6  \n",
       "26  mistral-7b-g5-huggingface-pytorch-tgi-inferenc...            8  \n",
       "27  mistral-7b-g5-huggingface-pytorch-tgi-inferenc...            8  \n",
       "28  mistral-7b-g5-huggingface-pytorch-tgi-inferenc...            8  \n",
       "29  mistral-7b-g5-huggingface-pytorch-tgi-inferenc...            8  \n",
       "30  mistral-7b-g5-huggingface-pytorch-tgi-inferenc...            8  \n",
       "31  mistral-7b-g5-huggingface-pytorch-tgi-inferenc...            8  \n",
       "32  mistral-7b-g5-huggingface-pytorch-tgi-inferenc...            8  \n",
       "33  mistral-7b-g5-huggingface-pytorch-tgi-inferenc...            8  \n",
       "34  mistral-7b-g5-huggingface-pytorch-tgi-inferenc...            8  \n",
       "35  mistral-7b-g5-huggingface-pytorch-tgi-inferenc...            8  \n",
       "36  mistral-7b-g5-huggingface-pytorch-tgi-inferenc...            8  \n",
       "37  mistral-7b-g5-huggingface-pytorch-tgi-inferenc...            8  \n",
       "38  mistral-7b-g5-huggingface-pytorch-tgi-inferenc...            8  \n",
       "39  mistral-7b-g5-huggingface-pytorch-tgi-inferenc...            8  \n",
       "40  mistral-7b-g5-huggingface-pytorch-tgi-inferenc...            8  \n",
       "41  mistral-7b-g5-huggingface-pytorch-tgi-inferenc...            8  "
      ]
     },
     "execution_count": 26,
     "metadata": {},
     "output_type": "execute_result"
    }
   ],
   "source": [
    "df_responses[df_responses.endpoint_name.str.contains(\"g5\")]"
   ]
  },
  {
   "cell_type": "code",
   "execution_count": null,
   "metadata": {},
   "outputs": [
    {
     "name": "stderr",
     "output_type": "stream",
     "text": [
      "[2024-01-26 23:45:56,531] p32493 {2358223361.py:3} INFO - files recieved from s3 for per inference request --> {'ResponseMetadata': {'RequestId': '151CGWQ29AH11640', 'HostId': '2Tc4L6zuZ/KwUbEYBUBIMp4B1gtzy6ReNumKl1xQ1JMmNgy11R91Y6giv2UNiF2KqsXs72J4phs=', 'HTTPStatusCode': 200, 'HTTPHeaders': {'x-amz-id-2': '2Tc4L6zuZ/KwUbEYBUBIMp4B1gtzy6ReNumKl1xQ1JMmNgy11R91Y6giv2UNiF2KqsXs72J4phs=', 'x-amz-request-id': '151CGWQ29AH11640', 'date': 'Sat, 27 Jan 2024 04:45:57 GMT', 'x-amz-bucket-region': 'us-east-1', 'content-type': 'application/xml', 'transfer-encoding': 'chunked', 'server': 'AmazonS3'}, 'RetryAttempts': 0}, 'IsTruncated': False, 'Contents': [{'Key': 'data/metrics/mistral-7b-tgi-g5-v1/per_chunk/1706330672.592785.json', 'LastModified': datetime.datetime(2024, 1, 27, 4, 44, 33, tzinfo=tzutc()), 'ETag': '\"201806841e991778e563be75b30c06ad\"', 'Size': 556, 'StorageClass': 'STANDARD'}, {'Key': 'data/metrics/mistral-7b-tgi-g5-v1/per_chunk/1706330677.033725.json', 'LastModified': datetime.datetime(2024, 1, 27, 4, 44, 38, tzinfo=tzutc()), 'ETag': '\"6db4cae1570df7d4458f09f5b8bc633f\"', 'Size': 563, 'StorageClass': 'STANDARD'}, {'Key': 'data/metrics/mistral-7b-tgi-g5-v1/per_chunk/1706330681.2890382.json', 'LastModified': datetime.datetime(2024, 1, 27, 4, 44, 42, tzinfo=tzutc()), 'ETag': '\"8730e4268e148c80c065af6d773b4211\"', 'Size': 557, 'StorageClass': 'STANDARD'}, {'Key': 'data/metrics/mistral-7b-tgi-g5-v1/per_chunk/1706330686.2784798.json', 'LastModified': datetime.datetime(2024, 1, 27, 4, 44, 47, tzinfo=tzutc()), 'ETag': '\"a5ccae13bfccdeaec51b60627921221e\"', 'Size': 561, 'StorageClass': 'STANDARD'}, {'Key': 'data/metrics/mistral-7b-tgi-g5-v1/per_chunk/1706330691.229632.json', 'LastModified': datetime.datetime(2024, 1, 27, 4, 44, 52, tzinfo=tzutc()), 'ETag': '\"b8fd7756e3bcd27b907cd7be2cad372b\"', 'Size': 559, 'StorageClass': 'STANDARD'}, {'Key': 'data/metrics/mistral-7b-tgi-g5-v1/per_chunk/1706330697.344887.json', 'LastModified': datetime.datetime(2024, 1, 27, 4, 44, 58, tzinfo=tzutc()), 'ETag': '\"f13bf18f9885a7a53e9af4ca8d46a609\"', 'Size': 563, 'StorageClass': 'STANDARD'}, {'Key': 'data/metrics/mistral-7b-tgi-g5-v1/per_chunk/1706330703.627626.json', 'LastModified': datetime.datetime(2024, 1, 27, 4, 45, 4, tzinfo=tzutc()), 'ETag': '\"71137225aaebc42fbd933c32fec376cc\"', 'Size': 560, 'StorageClass': 'STANDARD'}, {'Key': 'data/metrics/mistral-7b-tgi-g5-v1/per_chunk/1706330710.842338.json', 'LastModified': datetime.datetime(2024, 1, 27, 4, 45, 12, tzinfo=tzutc()), 'ETag': '\"4d91d3add425bdf60c54027ae61e0b47\"', 'Size': 562, 'StorageClass': 'STANDARD'}, {'Key': 'data/metrics/mistral-7b-tgi-g5-v1/per_chunk/1706330718.023802.json', 'LastModified': datetime.datetime(2024, 1, 27, 4, 45, 19, tzinfo=tzutc()), 'ETag': '\"c64af6d64aeb507e68cbb6a1e9ba8bff\"', 'Size': 562, 'StorageClass': 'STANDARD'}, {'Key': 'data/metrics/mistral-7b-tgi-g5-v1/per_chunk/1706330726.353272.json', 'LastModified': datetime.datetime(2024, 1, 27, 4, 45, 27, tzinfo=tzutc()), 'ETag': '\"2fd7c67487882d4be875c84ccb7728e3\"', 'Size': 566, 'StorageClass': 'STANDARD'}], 'Name': 'fmbt', 'Prefix': 'data/metrics/mistral-7b-tgi-g5-v1/per_chunk', 'MaxKeys': 1000, 'EncodingType': 'url', 'KeyCount': 10}\n",
      "[2024-01-26 23:45:57,131] p32493 {2358223361.py:19} INFO - created dataframe of shape (10, 16) from all responses\n"
     ]
    },
    {
     "data": {
      "text/html": [
       "<div>\n",
       "<style scoped>\n",
       "    .dataframe tbody tr th:only-of-type {\n",
       "        vertical-align: middle;\n",
       "    }\n",
       "\n",
       "    .dataframe tbody tr th {\n",
       "        vertical-align: top;\n",
       "    }\n",
       "\n",
       "    .dataframe thead th {\n",
       "        text-align: right;\n",
       "    }\n",
       "</style>\n",
       "<table border=\"1\" class=\"dataframe\">\n",
       "  <thead>\n",
       "    <tr style=\"text-align: right;\">\n",
       "      <th></th>\n",
       "      <th>experiment_name</th>\n",
       "      <th>concurrency</th>\n",
       "      <th>payload_file</th>\n",
       "      <th>errors</th>\n",
       "      <th>successes</th>\n",
       "      <th>error_rate</th>\n",
       "      <th>all_prompts_token_count</th>\n",
       "      <th>prompt_token_count_mean</th>\n",
       "      <th>prompt_token_throughput</th>\n",
       "      <th>all_completions_token_count</th>\n",
       "      <th>completion_token_count_mean</th>\n",
       "      <th>completion_token_throughput</th>\n",
       "      <th>transactions</th>\n",
       "      <th>transactions_per_second</th>\n",
       "      <th>transactions_per_minute</th>\n",
       "      <th>latency_mean</th>\n",
       "    </tr>\n",
       "  </thead>\n",
       "  <tbody>\n",
       "    <tr>\n",
       "      <th>0</th>\n",
       "      <td>mistral-7b-g5-huggingface-pytorch-tgi-inferenc...</td>\n",
       "      <td>1</td>\n",
       "      <td>payload_en_1-500.jsonl</td>\n",
       "      <td>[]</td>\n",
       "      <td>1</td>\n",
       "      <td>0.0</td>\n",
       "      <td>304</td>\n",
       "      <td>304.0</td>\n",
       "      <td>79.07</td>\n",
       "      <td>98</td>\n",
       "      <td>98.0</td>\n",
       "      <td>25.49</td>\n",
       "      <td>1</td>\n",
       "      <td>0.26</td>\n",
       "      <td>15</td>\n",
       "      <td>3.752459</td>\n",
       "    </tr>\n",
       "    <tr>\n",
       "      <th>1</th>\n",
       "      <td>mistral-7b-g5-huggingface-pytorch-tgi-inferenc...</td>\n",
       "      <td>1</td>\n",
       "      <td>payload_en_500-1000.jsonl</td>\n",
       "      <td>[]</td>\n",
       "      <td>1</td>\n",
       "      <td>0.0</td>\n",
       "      <td>980</td>\n",
       "      <td>980.0</td>\n",
       "      <td>248.06</td>\n",
       "      <td>100</td>\n",
       "      <td>100.0</td>\n",
       "      <td>25.31</td>\n",
       "      <td>1</td>\n",
       "      <td>0.25</td>\n",
       "      <td>15</td>\n",
       "      <td>3.940795</td>\n",
       "    </tr>\n",
       "    <tr>\n",
       "      <th>2</th>\n",
       "      <td>mistral-7b-g5-huggingface-pytorch-tgi-inferenc...</td>\n",
       "      <td>2</td>\n",
       "      <td>payload_en_1-500.jsonl</td>\n",
       "      <td>[]</td>\n",
       "      <td>2</td>\n",
       "      <td>0.0</td>\n",
       "      <td>608</td>\n",
       "      <td>304.0</td>\n",
       "      <td>161.40</td>\n",
       "      <td>138</td>\n",
       "      <td>69.0</td>\n",
       "      <td>36.63</td>\n",
       "      <td>2</td>\n",
       "      <td>0.53</td>\n",
       "      <td>31</td>\n",
       "      <td>2.703961</td>\n",
       "    </tr>\n",
       "    <tr>\n",
       "      <th>3</th>\n",
       "      <td>mistral-7b-g5-huggingface-pytorch-tgi-inferenc...</td>\n",
       "      <td>2</td>\n",
       "      <td>payload_en_500-1000.jsonl</td>\n",
       "      <td>[]</td>\n",
       "      <td>2</td>\n",
       "      <td>0.0</td>\n",
       "      <td>1960</td>\n",
       "      <td>980.0</td>\n",
       "      <td>470.13</td>\n",
       "      <td>116</td>\n",
       "      <td>58.0</td>\n",
       "      <td>27.82</td>\n",
       "      <td>2</td>\n",
       "      <td>0.48</td>\n",
       "      <td>28</td>\n",
       "      <td>2.623836</td>\n",
       "    </tr>\n",
       "    <tr>\n",
       "      <th>4</th>\n",
       "      <td>mistral-7b-g5-huggingface-pytorch-tgi-inferenc...</td>\n",
       "      <td>4</td>\n",
       "      <td>payload_en_1-500.jsonl</td>\n",
       "      <td>[]</td>\n",
       "      <td>4</td>\n",
       "      <td>0.0</td>\n",
       "      <td>1216</td>\n",
       "      <td>304.0</td>\n",
       "      <td>299.26</td>\n",
       "      <td>398</td>\n",
       "      <td>99.5</td>\n",
       "      <td>97.95</td>\n",
       "      <td>4</td>\n",
       "      <td>0.98</td>\n",
       "      <td>58</td>\n",
       "      <td>4.028569</td>\n",
       "    </tr>\n",
       "  </tbody>\n",
       "</table>\n",
       "</div>"
      ],
      "text/plain": [
       "                                     experiment_name  concurrency  \\\n",
       "0  mistral-7b-g5-huggingface-pytorch-tgi-inferenc...            1   \n",
       "1  mistral-7b-g5-huggingface-pytorch-tgi-inferenc...            1   \n",
       "2  mistral-7b-g5-huggingface-pytorch-tgi-inferenc...            2   \n",
       "3  mistral-7b-g5-huggingface-pytorch-tgi-inferenc...            2   \n",
       "4  mistral-7b-g5-huggingface-pytorch-tgi-inferenc...            4   \n",
       "\n",
       "                payload_file errors  successes  error_rate  \\\n",
       "0     payload_en_1-500.jsonl     []          1         0.0   \n",
       "1  payload_en_500-1000.jsonl     []          1         0.0   \n",
       "2     payload_en_1-500.jsonl     []          2         0.0   \n",
       "3  payload_en_500-1000.jsonl     []          2         0.0   \n",
       "4     payload_en_1-500.jsonl     []          4         0.0   \n",
       "\n",
       "   all_prompts_token_count  prompt_token_count_mean  prompt_token_throughput  \\\n",
       "0                      304                    304.0                    79.07   \n",
       "1                      980                    980.0                   248.06   \n",
       "2                      608                    304.0                   161.40   \n",
       "3                     1960                    980.0                   470.13   \n",
       "4                     1216                    304.0                   299.26   \n",
       "\n",
       "   all_completions_token_count  completion_token_count_mean  \\\n",
       "0                           98                         98.0   \n",
       "1                          100                        100.0   \n",
       "2                          138                         69.0   \n",
       "3                          116                         58.0   \n",
       "4                          398                         99.5   \n",
       "\n",
       "   completion_token_throughput  transactions  transactions_per_second  \\\n",
       "0                        25.49             1                     0.26   \n",
       "1                        25.31             1                     0.25   \n",
       "2                        36.63             2                     0.53   \n",
       "3                        27.82             2                     0.48   \n",
       "4                        97.95             4                     0.98   \n",
       "\n",
       "   transactions_per_minute  latency_mean  \n",
       "0                       15      3.752459  \n",
       "1                       15      3.940795  \n",
       "2                       31      2.703961  \n",
       "3                       28      2.623836  \n",
       "4                       58      4.028569  "
      ]
     },
     "execution_count": 27,
     "metadata": {},
     "output_type": "execute_result"
    }
   ],
   "source": [
    "def list_s3_files(bucket, prefix, suffix='.json'):\n",
    "    response = s3_client.list_objects_v2(Bucket=bucket, Prefix=prefix)\n",
    "    logger.info(f\"files recieved from s3 for per inference request --> {response}\")\n",
    "    return [item['Key'] for item in response.get('Contents', []) if item['Key'].endswith(suffix)]\n",
    "\n",
    "# List .json files in the specified S3 directory\n",
    "s3_files = list_s3_files(BUCKET_NAME, METRICS_PER_CHUNK_DIR)\n",
    "\n",
    "# Read and parse each JSON file from S3\n",
    "json_list = []\n",
    "for file_key in s3_files:\n",
    "    response = s3_client.get_object(Bucket=BUCKET_NAME, Key=file_key)\n",
    "    file_content = response['Body'].read().decode('utf-8')\n",
    "    json_obj = json.loads(file_content)\n",
    "    json_list.append(json_obj)\n",
    "\n",
    "# Create DataFrame\n",
    "df_metrics = pd.DataFrame(json_list)\n",
    "logger.info(f\"created dataframe of shape {df_metrics.shape} from all responses\")\n",
    "df_metrics.head()"
   ]
  },
  {
   "cell_type": "code",
   "execution_count": null,
   "metadata": {
    "tags": []
   },
   "outputs": [
    {
     "name": "stdout",
     "output_type": "stream",
     "text": [
      "['model_config.PrimaryContainer.Environment.ENDPOINT_SERVER_TIMEOUT', 'model_config.PrimaryContainer.Environment.HF_MODEL_ID', 'model_config.PrimaryContainer.Environment.MAX_BATCH_PREFILL_TOKENS', 'model_config.PrimaryContainer.Environment.MAX_INPUT_LENGTH', 'model_config.PrimaryContainer.Environment.MAX_TOTAL_TOKENS', 'model_config.PrimaryContainer.Environment.MODEL_CACHE_ROOT', 'model_config.PrimaryContainer.Environment.SAGEMAKER_ENV', 'model_config.PrimaryContainer.Environment.SAGEMAKER_MODEL_SERVER_WORKERS', 'model_config.PrimaryContainer.Environment.SAGEMAKER_PROGRAM', 'model_config.PrimaryContainer.Environment.SM_NUM_GPUS']\n",
      "Columns in df_responses: Index(['endpoint_name', 'prompt', 'do_sample', 'temperature', 'top_p', 'top_k',\n",
      "       'max_new_tokens', 'truncate', 'completion', 'prompt_tokens',\n",
      "       'completion_tokens', 'latency', 'experiment_name', 'concurrency'],\n",
      "      dtype='object')\n",
      "Columns in df_endpoints: Index(['experiment_name', 'instance_type', 'EndpointName', 'ModelName',\n",
      "       'Image', 'S3Uri', 'ENDPOINT_SERVER_TIMEOUT', 'HF_MODEL_ID',\n",
      "       'MAX_BATCH_PREFILL_TOKENS', 'MAX_INPUT_LENGTH', 'MAX_TOTAL_TOKENS',\n",
      "       'MODEL_CACHE_ROOT', 'SAGEMAKER_ENV', 'SAGEMAKER_MODEL_SERVER_WORKERS',\n",
      "       'SAGEMAKER_PROGRAM', 'SM_NUM_GPUS'],\n",
      "      dtype='object')\n"
     ]
    },
    {
     "data": {
      "text/html": [
       "<div>\n",
       "<style scoped>\n",
       "    .dataframe tbody tr th:only-of-type {\n",
       "        vertical-align: middle;\n",
       "    }\n",
       "\n",
       "    .dataframe tbody tr th {\n",
       "        vertical-align: top;\n",
       "    }\n",
       "\n",
       "    .dataframe thead th {\n",
       "        text-align: right;\n",
       "    }\n",
       "</style>\n",
       "<table border=\"1\" class=\"dataframe\">\n",
       "  <thead>\n",
       "    <tr style=\"text-align: right;\">\n",
       "      <th></th>\n",
       "      <th>endpoint_name</th>\n",
       "      <th>prompt</th>\n",
       "      <th>do_sample</th>\n",
       "      <th>temperature</th>\n",
       "      <th>top_p</th>\n",
       "      <th>top_k</th>\n",
       "      <th>max_new_tokens</th>\n",
       "      <th>truncate</th>\n",
       "      <th>completion</th>\n",
       "      <th>prompt_tokens</th>\n",
       "      <th>...</th>\n",
       "      <th>ENDPOINT_SERVER_TIMEOUT</th>\n",
       "      <th>HF_MODEL_ID</th>\n",
       "      <th>MAX_BATCH_PREFILL_TOKENS</th>\n",
       "      <th>MAX_INPUT_LENGTH</th>\n",
       "      <th>MAX_TOTAL_TOKENS</th>\n",
       "      <th>MODEL_CACHE_ROOT</th>\n",
       "      <th>SAGEMAKER_ENV</th>\n",
       "      <th>SAGEMAKER_MODEL_SERVER_WORKERS</th>\n",
       "      <th>SAGEMAKER_PROGRAM</th>\n",
       "      <th>SM_NUM_GPUS</th>\n",
       "    </tr>\n",
       "  </thead>\n",
       "  <tbody>\n",
       "    <tr>\n",
       "      <th>0</th>\n",
       "      <td>lmistral7b-g5-2xlarge-1706329863</td>\n",
       "      <td>&lt;s&gt;[INST] &lt;&lt;SYS&gt;&gt;\\nYou are an assistant for qu...</td>\n",
       "      <td>True</td>\n",
       "      <td>0.1</td>\n",
       "      <td>0.92</td>\n",
       "      <td>120</td>\n",
       "      <td>100</td>\n",
       "      <td>304</td>\n",
       "      <td>\\n\\n```\\nThe genus Sinofranchetia is from the ...</td>\n",
       "      <td>304</td>\n",
       "      <td>...</td>\n",
       "      <td>3600</td>\n",
       "      <td>/opt/ml/model</td>\n",
       "      <td>8191</td>\n",
       "      <td>8191</td>\n",
       "      <td>8192</td>\n",
       "      <td>/opt/ml/model</td>\n",
       "      <td>1</td>\n",
       "      <td>1</td>\n",
       "      <td>inference.py</td>\n",
       "      <td>1</td>\n",
       "    </tr>\n",
       "    <tr>\n",
       "      <th>1</th>\n",
       "      <td>lmistral7b-g5-2xlarge-1706329863</td>\n",
       "      <td>&lt;s&gt;[INST] &lt;&lt;SYS&gt;&gt;\\nYou are an assistant for qu...</td>\n",
       "      <td>True</td>\n",
       "      <td>0.1</td>\n",
       "      <td>0.92</td>\n",
       "      <td>120</td>\n",
       "      <td>100</td>\n",
       "      <td>980</td>\n",
       "      <td>Both WAGS Atlanta and WAGS are reality televi...</td>\n",
       "      <td>980</td>\n",
       "      <td>...</td>\n",
       "      <td>3600</td>\n",
       "      <td>/opt/ml/model</td>\n",
       "      <td>8191</td>\n",
       "      <td>8191</td>\n",
       "      <td>8192</td>\n",
       "      <td>/opt/ml/model</td>\n",
       "      <td>1</td>\n",
       "      <td>1</td>\n",
       "      <td>inference.py</td>\n",
       "      <td>1</td>\n",
       "    </tr>\n",
       "    <tr>\n",
       "      <th>2</th>\n",
       "      <td>lmistral7b-g5-2xlarge-1706329863</td>\n",
       "      <td>&lt;s&gt;[INST] &lt;&lt;SYS&gt;&gt;\\nYou are an assistant for qu...</td>\n",
       "      <td>True</td>\n",
       "      <td>0.1</td>\n",
       "      <td>0.92</td>\n",
       "      <td>120</td>\n",
       "      <td>100</td>\n",
       "      <td>304</td>\n",
       "      <td>\\n\\n```\\nThe genus Sinofranchetia and Staunton...</td>\n",
       "      <td>304</td>\n",
       "      <td>...</td>\n",
       "      <td>3600</td>\n",
       "      <td>/opt/ml/model</td>\n",
       "      <td>8191</td>\n",
       "      <td>8191</td>\n",
       "      <td>8192</td>\n",
       "      <td>/opt/ml/model</td>\n",
       "      <td>1</td>\n",
       "      <td>1</td>\n",
       "      <td>inference.py</td>\n",
       "      <td>1</td>\n",
       "    </tr>\n",
       "    <tr>\n",
       "      <th>3</th>\n",
       "      <td>lmistral7b-g5-2xlarge-1706329863</td>\n",
       "      <td>&lt;s&gt;[INST] &lt;&lt;SYS&gt;&gt;\\nYou are an assistant for qu...</td>\n",
       "      <td>True</td>\n",
       "      <td>0.1</td>\n",
       "      <td>0.92</td>\n",
       "      <td>120</td>\n",
       "      <td>100</td>\n",
       "      <td>304</td>\n",
       "      <td>\\n\\n```\\nThe genus Sinofranchetia is from the ...</td>\n",
       "      <td>304</td>\n",
       "      <td>...</td>\n",
       "      <td>3600</td>\n",
       "      <td>/opt/ml/model</td>\n",
       "      <td>8191</td>\n",
       "      <td>8191</td>\n",
       "      <td>8192</td>\n",
       "      <td>/opt/ml/model</td>\n",
       "      <td>1</td>\n",
       "      <td>1</td>\n",
       "      <td>inference.py</td>\n",
       "      <td>1</td>\n",
       "    </tr>\n",
       "    <tr>\n",
       "      <th>4</th>\n",
       "      <td>lmistral7b-g5-2xlarge-1706329863</td>\n",
       "      <td>&lt;s&gt;[INST] &lt;&lt;SYS&gt;&gt;\\nYou are an assistant for qu...</td>\n",
       "      <td>True</td>\n",
       "      <td>0.1</td>\n",
       "      <td>0.92</td>\n",
       "      <td>120</td>\n",
       "      <td>100</td>\n",
       "      <td>980</td>\n",
       "      <td>Both WAGS Atlanta and WAGS are reality televi...</td>\n",
       "      <td>980</td>\n",
       "      <td>...</td>\n",
       "      <td>3600</td>\n",
       "      <td>/opt/ml/model</td>\n",
       "      <td>8191</td>\n",
       "      <td>8191</td>\n",
       "      <td>8192</td>\n",
       "      <td>/opt/ml/model</td>\n",
       "      <td>1</td>\n",
       "      <td>1</td>\n",
       "      <td>inference.py</td>\n",
       "      <td>1</td>\n",
       "    </tr>\n",
       "  </tbody>\n",
       "</table>\n",
       "<p>5 rows × 29 columns</p>\n",
       "</div>"
      ],
      "text/plain": [
       "                      endpoint_name  \\\n",
       "0  lmistral7b-g5-2xlarge-1706329863   \n",
       "1  lmistral7b-g5-2xlarge-1706329863   \n",
       "2  lmistral7b-g5-2xlarge-1706329863   \n",
       "3  lmistral7b-g5-2xlarge-1706329863   \n",
       "4  lmistral7b-g5-2xlarge-1706329863   \n",
       "\n",
       "                                              prompt  do_sample  temperature  \\\n",
       "0  <s>[INST] <<SYS>>\\nYou are an assistant for qu...       True          0.1   \n",
       "1  <s>[INST] <<SYS>>\\nYou are an assistant for qu...       True          0.1   \n",
       "2  <s>[INST] <<SYS>>\\nYou are an assistant for qu...       True          0.1   \n",
       "3  <s>[INST] <<SYS>>\\nYou are an assistant for qu...       True          0.1   \n",
       "4  <s>[INST] <<SYS>>\\nYou are an assistant for qu...       True          0.1   \n",
       "\n",
       "   top_p  top_k  max_new_tokens  truncate  \\\n",
       "0   0.92    120             100       304   \n",
       "1   0.92    120             100       980   \n",
       "2   0.92    120             100       304   \n",
       "3   0.92    120             100       304   \n",
       "4   0.92    120             100       980   \n",
       "\n",
       "                                          completion  prompt_tokens  ...  \\\n",
       "0  \\n\\n```\\nThe genus Sinofranchetia is from the ...            304  ...   \n",
       "1   Both WAGS Atlanta and WAGS are reality televi...            980  ...   \n",
       "2  \\n\\n```\\nThe genus Sinofranchetia and Staunton...            304  ...   \n",
       "3  \\n\\n```\\nThe genus Sinofranchetia is from the ...            304  ...   \n",
       "4   Both WAGS Atlanta and WAGS are reality televi...            980  ...   \n",
       "\n",
       "   ENDPOINT_SERVER_TIMEOUT    HF_MODEL_ID MAX_BATCH_PREFILL_TOKENS  \\\n",
       "0                     3600  /opt/ml/model                     8191   \n",
       "1                     3600  /opt/ml/model                     8191   \n",
       "2                     3600  /opt/ml/model                     8191   \n",
       "3                     3600  /opt/ml/model                     8191   \n",
       "4                     3600  /opt/ml/model                     8191   \n",
       "\n",
       "   MAX_INPUT_LENGTH MAX_TOTAL_TOKENS MODEL_CACHE_ROOT SAGEMAKER_ENV  \\\n",
       "0              8191             8192    /opt/ml/model             1   \n",
       "1              8191             8192    /opt/ml/model             1   \n",
       "2              8191             8192    /opt/ml/model             1   \n",
       "3              8191             8192    /opt/ml/model             1   \n",
       "4              8191             8192    /opt/ml/model             1   \n",
       "\n",
       "  SAGEMAKER_MODEL_SERVER_WORKERS SAGEMAKER_PROGRAM SM_NUM_GPUS  \n",
       "0                              1      inference.py           1  \n",
       "1                              1      inference.py           1  \n",
       "2                              1      inference.py           1  \n",
       "3                              1      inference.py           1  \n",
       "4                              1      inference.py           1  \n",
       "\n",
       "[5 rows x 29 columns]"
      ]
     },
     "execution_count": 28,
     "metadata": {},
     "output_type": "execute_result"
    }
   ],
   "source": [
    "df_endpoints = pd.json_normalize(endpoint_info_list)\n",
    "df_endpoints['instance_type'] = df_endpoints['endpoint_config.ProductionVariants'].map(lambda x: x[0]['InstanceType'])\n",
    "df_endpoints\n",
    "cols_for_env = [c for c in df_endpoints.columns if 'Environment' in c]\n",
    "print(cols_for_env)\n",
    "cols_of_interest = ['experiment_name', \n",
    "                    'instance_type',\n",
    "                    'endpoint.EndpointName',\n",
    "                    'model_config.ModelName',\n",
    "                    'model_config.PrimaryContainer.Image',   \n",
    "                    'model_config.PrimaryContainer.ModelDataSource.S3DataSource.S3Uri']\n",
    "cols_of_interest.extend(cols_for_env)\n",
    "\n",
    "df_endpoints = df_endpoints[cols_of_interest]\n",
    "df_endpoints = df_endpoints[cols_of_interest]\n",
    "cols_of_interest_renamed = [c.split('.')[-1] for c in cols_of_interest]\n",
    "df_endpoints.columns = cols_of_interest_renamed\n",
    "\n",
    "# Check if 'experiment_name' column exists in both DataFrames\n",
    "print(\"Columns in df_responses:\", df_responses.columns)\n",
    "print(\"Columns in df_endpoints:\", df_endpoints.columns)\n",
    "\n",
    "# Merge operation\n",
    "df_results = pd.merge(left=df_responses, right=df_endpoints, how='left', left_on='experiment_name', right_on='experiment_name')\n",
    "\n",
    "# Inspect the result\n",
    "df_results.head()"
   ]
  },
  {
   "cell_type": "code",
   "execution_count": null,
   "metadata": {
    "tags": []
   },
   "outputs": [
    {
     "data": {
      "text/html": [
       "<div>\n",
       "<style scoped>\n",
       "    .dataframe tbody tr th:only-of-type {\n",
       "        vertical-align: middle;\n",
       "    }\n",
       "\n",
       "    .dataframe tbody tr th {\n",
       "        vertical-align: top;\n",
       "    }\n",
       "\n",
       "    .dataframe thead th {\n",
       "        text-align: right;\n",
       "    }\n",
       "</style>\n",
       "<table border=\"1\" class=\"dataframe\">\n",
       "  <thead>\n",
       "    <tr style=\"text-align: right;\">\n",
       "      <th></th>\n",
       "      <th>endpoint_name</th>\n",
       "      <th>prompt</th>\n",
       "      <th>do_sample</th>\n",
       "      <th>temperature</th>\n",
       "      <th>top_p</th>\n",
       "      <th>top_k</th>\n",
       "      <th>max_new_tokens</th>\n",
       "      <th>truncate</th>\n",
       "      <th>completion</th>\n",
       "      <th>prompt_tokens</th>\n",
       "      <th>...</th>\n",
       "      <th>ENDPOINT_SERVER_TIMEOUT</th>\n",
       "      <th>HF_MODEL_ID</th>\n",
       "      <th>MAX_BATCH_PREFILL_TOKENS</th>\n",
       "      <th>MAX_INPUT_LENGTH</th>\n",
       "      <th>MAX_TOTAL_TOKENS</th>\n",
       "      <th>MODEL_CACHE_ROOT</th>\n",
       "      <th>SAGEMAKER_ENV</th>\n",
       "      <th>SAGEMAKER_MODEL_SERVER_WORKERS</th>\n",
       "      <th>SAGEMAKER_PROGRAM</th>\n",
       "      <th>SM_NUM_GPUS</th>\n",
       "    </tr>\n",
       "  </thead>\n",
       "  <tbody>\n",
       "    <tr>\n",
       "      <th>0</th>\n",
       "      <td>lmistral7b-g5-2xlarge-1706329863</td>\n",
       "      <td>&lt;s&gt;[INST] &lt;&lt;SYS&gt;&gt;\\nYou are an assistant for qu...</td>\n",
       "      <td>True</td>\n",
       "      <td>0.1</td>\n",
       "      <td>0.92</td>\n",
       "      <td>120</td>\n",
       "      <td>100</td>\n",
       "      <td>304</td>\n",
       "      <td>\\n\\n```\\nThe genus Sinofranchetia is from the ...</td>\n",
       "      <td>304</td>\n",
       "      <td>...</td>\n",
       "      <td>3600</td>\n",
       "      <td>/opt/ml/model</td>\n",
       "      <td>8191</td>\n",
       "      <td>8191</td>\n",
       "      <td>8192</td>\n",
       "      <td>/opt/ml/model</td>\n",
       "      <td>1</td>\n",
       "      <td>1</td>\n",
       "      <td>inference.py</td>\n",
       "      <td>1</td>\n",
       "    </tr>\n",
       "    <tr>\n",
       "      <th>1</th>\n",
       "      <td>lmistral7b-g5-2xlarge-1706329863</td>\n",
       "      <td>&lt;s&gt;[INST] &lt;&lt;SYS&gt;&gt;\\nYou are an assistant for qu...</td>\n",
       "      <td>True</td>\n",
       "      <td>0.1</td>\n",
       "      <td>0.92</td>\n",
       "      <td>120</td>\n",
       "      <td>100</td>\n",
       "      <td>980</td>\n",
       "      <td>Both WAGS Atlanta and WAGS are reality televi...</td>\n",
       "      <td>980</td>\n",
       "      <td>...</td>\n",
       "      <td>3600</td>\n",
       "      <td>/opt/ml/model</td>\n",
       "      <td>8191</td>\n",
       "      <td>8191</td>\n",
       "      <td>8192</td>\n",
       "      <td>/opt/ml/model</td>\n",
       "      <td>1</td>\n",
       "      <td>1</td>\n",
       "      <td>inference.py</td>\n",
       "      <td>1</td>\n",
       "    </tr>\n",
       "    <tr>\n",
       "      <th>2</th>\n",
       "      <td>lmistral7b-g5-2xlarge-1706329863</td>\n",
       "      <td>&lt;s&gt;[INST] &lt;&lt;SYS&gt;&gt;\\nYou are an assistant for qu...</td>\n",
       "      <td>True</td>\n",
       "      <td>0.1</td>\n",
       "      <td>0.92</td>\n",
       "      <td>120</td>\n",
       "      <td>100</td>\n",
       "      <td>304</td>\n",
       "      <td>\\n\\n```\\nThe genus Sinofranchetia and Staunton...</td>\n",
       "      <td>304</td>\n",
       "      <td>...</td>\n",
       "      <td>3600</td>\n",
       "      <td>/opt/ml/model</td>\n",
       "      <td>8191</td>\n",
       "      <td>8191</td>\n",
       "      <td>8192</td>\n",
       "      <td>/opt/ml/model</td>\n",
       "      <td>1</td>\n",
       "      <td>1</td>\n",
       "      <td>inference.py</td>\n",
       "      <td>1</td>\n",
       "    </tr>\n",
       "    <tr>\n",
       "      <th>3</th>\n",
       "      <td>lmistral7b-g5-2xlarge-1706329863</td>\n",
       "      <td>&lt;s&gt;[INST] &lt;&lt;SYS&gt;&gt;\\nYou are an assistant for qu...</td>\n",
       "      <td>True</td>\n",
       "      <td>0.1</td>\n",
       "      <td>0.92</td>\n",
       "      <td>120</td>\n",
       "      <td>100</td>\n",
       "      <td>304</td>\n",
       "      <td>\\n\\n```\\nThe genus Sinofranchetia is from the ...</td>\n",
       "      <td>304</td>\n",
       "      <td>...</td>\n",
       "      <td>3600</td>\n",
       "      <td>/opt/ml/model</td>\n",
       "      <td>8191</td>\n",
       "      <td>8191</td>\n",
       "      <td>8192</td>\n",
       "      <td>/opt/ml/model</td>\n",
       "      <td>1</td>\n",
       "      <td>1</td>\n",
       "      <td>inference.py</td>\n",
       "      <td>1</td>\n",
       "    </tr>\n",
       "    <tr>\n",
       "      <th>4</th>\n",
       "      <td>lmistral7b-g5-2xlarge-1706329863</td>\n",
       "      <td>&lt;s&gt;[INST] &lt;&lt;SYS&gt;&gt;\\nYou are an assistant for qu...</td>\n",
       "      <td>True</td>\n",
       "      <td>0.1</td>\n",
       "      <td>0.92</td>\n",
       "      <td>120</td>\n",
       "      <td>100</td>\n",
       "      <td>980</td>\n",
       "      <td>Both WAGS Atlanta and WAGS are reality televi...</td>\n",
       "      <td>980</td>\n",
       "      <td>...</td>\n",
       "      <td>3600</td>\n",
       "      <td>/opt/ml/model</td>\n",
       "      <td>8191</td>\n",
       "      <td>8191</td>\n",
       "      <td>8192</td>\n",
       "      <td>/opt/ml/model</td>\n",
       "      <td>1</td>\n",
       "      <td>1</td>\n",
       "      <td>inference.py</td>\n",
       "      <td>1</td>\n",
       "    </tr>\n",
       "  </tbody>\n",
       "</table>\n",
       "<p>5 rows × 29 columns</p>\n",
       "</div>"
      ],
      "text/plain": [
       "                      endpoint_name  \\\n",
       "0  lmistral7b-g5-2xlarge-1706329863   \n",
       "1  lmistral7b-g5-2xlarge-1706329863   \n",
       "2  lmistral7b-g5-2xlarge-1706329863   \n",
       "3  lmistral7b-g5-2xlarge-1706329863   \n",
       "4  lmistral7b-g5-2xlarge-1706329863   \n",
       "\n",
       "                                              prompt  do_sample  temperature  \\\n",
       "0  <s>[INST] <<SYS>>\\nYou are an assistant for qu...       True          0.1   \n",
       "1  <s>[INST] <<SYS>>\\nYou are an assistant for qu...       True          0.1   \n",
       "2  <s>[INST] <<SYS>>\\nYou are an assistant for qu...       True          0.1   \n",
       "3  <s>[INST] <<SYS>>\\nYou are an assistant for qu...       True          0.1   \n",
       "4  <s>[INST] <<SYS>>\\nYou are an assistant for qu...       True          0.1   \n",
       "\n",
       "   top_p  top_k  max_new_tokens  truncate  \\\n",
       "0   0.92    120             100       304   \n",
       "1   0.92    120             100       980   \n",
       "2   0.92    120             100       304   \n",
       "3   0.92    120             100       304   \n",
       "4   0.92    120             100       980   \n",
       "\n",
       "                                          completion  prompt_tokens  ...  \\\n",
       "0  \\n\\n```\\nThe genus Sinofranchetia is from the ...            304  ...   \n",
       "1   Both WAGS Atlanta and WAGS are reality televi...            980  ...   \n",
       "2  \\n\\n```\\nThe genus Sinofranchetia and Staunton...            304  ...   \n",
       "3  \\n\\n```\\nThe genus Sinofranchetia is from the ...            304  ...   \n",
       "4   Both WAGS Atlanta and WAGS are reality televi...            980  ...   \n",
       "\n",
       "   ENDPOINT_SERVER_TIMEOUT    HF_MODEL_ID MAX_BATCH_PREFILL_TOKENS  \\\n",
       "0                     3600  /opt/ml/model                     8191   \n",
       "1                     3600  /opt/ml/model                     8191   \n",
       "2                     3600  /opt/ml/model                     8191   \n",
       "3                     3600  /opt/ml/model                     8191   \n",
       "4                     3600  /opt/ml/model                     8191   \n",
       "\n",
       "   MAX_INPUT_LENGTH MAX_TOTAL_TOKENS MODEL_CACHE_ROOT SAGEMAKER_ENV  \\\n",
       "0              8191             8192    /opt/ml/model             1   \n",
       "1              8191             8192    /opt/ml/model             1   \n",
       "2              8191             8192    /opt/ml/model             1   \n",
       "3              8191             8192    /opt/ml/model             1   \n",
       "4              8191             8192    /opt/ml/model             1   \n",
       "\n",
       "  SAGEMAKER_MODEL_SERVER_WORKERS SAGEMAKER_PROGRAM SM_NUM_GPUS  \n",
       "0                              1      inference.py           1  \n",
       "1                              1      inference.py           1  \n",
       "2                              1      inference.py           1  \n",
       "3                              1      inference.py           1  \n",
       "4                              1      inference.py           1  \n",
       "\n",
       "[5 rows x 29 columns]"
      ]
     },
     "execution_count": 29,
     "metadata": {},
     "output_type": "execute_result"
    }
   ],
   "source": [
    "df_results = pd.merge(left=df_responses, right=df_endpoints, how='left', left_on='experiment_name', right_on='experiment_name')\n",
    "df_results.head()"
   ]
  },
  {
   "cell_type": "code",
   "execution_count": null,
   "metadata": {
    "tags": []
   },
   "outputs": [
    {
     "name": "stderr",
     "output_type": "stream",
     "text": [
      "[2024-01-26 23:46:16,611] p32493 {2449880785.py:7} INFO - results s3 path for per inference csv --> data/metrics/mistral-7b-tgi-g5-v1/per_inference_request_results.csv\n"
     ]
    },
    {
     "name": "stderr",
     "output_type": "stream",
     "text": [
      "[2024-01-26 23:46:17,031] p32493 {2449880785.py:9} INFO - saved results dataframe of shape=(42, 29) in s3://fmbt/data/metrics/mistral-7b-tgi-g5-v1/per_inference_request_results.csv\n"
     ]
    },
    {
     "name": "stdout",
     "output_type": "stream",
     "text": [
      "Data successfully written to s3://fmbt/data/metrics/mistral-7b-tgi-g5-v1/per_inference_request_results.csv\n"
     ]
    }
   ],
   "source": [
    "# Convert df_results to CSV and write to S3\n",
    "csv_buffer = io.StringIO()\n",
    "df_results.to_csv(csv_buffer, index=False)\n",
    "csv_data_results = csv_buffer.getvalue()\n",
    "results_file_name = config['results']['per_inference_request_file'].format(datetime=date_time)\n",
    "results_s3_path = os.path.join(METRICS_DIR, results_file_name)\n",
    "logger.info(f\"results s3 path for per inference csv --> {results_s3_path}\")\n",
    "write_to_s3(csv_data_results, BUCKET_NAME, \"\", METRICS_DIR, results_file_name)\n",
    "logger.info(f\"saved results dataframe of shape={df_results.shape} in s3://{BUCKET_NAME}/{results_s3_path}\")"
   ]
  },
  {
   "cell_type": "code",
   "execution_count": null,
   "metadata": {
    "tags": []
   },
   "outputs": [
    {
     "name": "stderr",
     "output_type": "stream",
     "text": [
      "[2024-01-26 23:46:31,228] p32493 {3262244809.py:10} INFO - results s3 path for metrics csv --> data/metrics/mistral-7b-tgi-g5-v1/all_metrics.csv\n"
     ]
    },
    {
     "name": "stderr",
     "output_type": "stream",
     "text": [
      "[2024-01-26 23:46:31,470] p32493 {3262244809.py:12} INFO - saved metrics results dataframe of shape=(10, 31) in s3://fmbt/data/metrics/mistral-7b-tgi-g5-v1/all_metrics.csv\n"
     ]
    },
    {
     "name": "stdout",
     "output_type": "stream",
     "text": [
      "Data successfully written to s3://fmbt/data/metrics/mistral-7b-tgi-g5-v1/all_metrics.csv\n"
     ]
    }
   ],
   "source": [
    "df_metrics = pd.merge(left=df_metrics, right=df_endpoints, how='left', left_on='experiment_name', right_on='experiment_name')\n",
    "df_metrics.head()\n",
    "\n",
    "# Convert df_metrics to CSV and write to S3\n",
    "csv_buffer = io.StringIO()\n",
    "df_metrics.to_csv(csv_buffer, index=False)\n",
    "csv_data_metrics = csv_buffer.getvalue()\n",
    "metrics_file_name = config['results']['all_metrics_file'].format(datetime=date_time)\n",
    "metrics_s3_path = os.path.join(METRICS_DIR, metrics_file_name)\n",
    "logger.info(f\"results s3 path for metrics csv --> {metrics_s3_path}\")\n",
    "write_to_s3(csv_data_metrics, BUCKET_NAME, \"\", METRICS_DIR, metrics_file_name)\n",
    "logger.info(f\"saved metrics results dataframe of shape={df_metrics.shape} in s3://{BUCKET_NAME}/{metrics_s3_path}\")"
   ]
  },
  {
   "cell_type": "code",
   "execution_count": null,
   "metadata": {},
   "outputs": [],
   "source": []
  },
  {
   "cell_type": "code",
   "execution_count": null,
   "metadata": {},
   "outputs": [],
   "source": []
  },
  {
   "cell_type": "code",
   "execution_count": null,
   "metadata": {},
   "outputs": [],
   "source": []
  }
 ],
 "metadata": {
  "availableInstances": [
   {
    "_defaultOrder": 0,
    "_isFastLaunch": true,
    "category": "General purpose",
    "gpuNum": 0,
    "hideHardwareSpecs": false,
    "memoryGiB": 4,
    "name": "ml.t3.medium",
    "vcpuNum": 2
   },
   {
    "_defaultOrder": 1,
    "_isFastLaunch": false,
    "category": "General purpose",
    "gpuNum": 0,
    "hideHardwareSpecs": false,
    "memoryGiB": 8,
    "name": "ml.t3.large",
    "vcpuNum": 2
   },
   {
    "_defaultOrder": 2,
    "_isFastLaunch": false,
    "category": "General purpose",
    "gpuNum": 0,
    "hideHardwareSpecs": false,
    "memoryGiB": 16,
    "name": "ml.t3.xlarge",
    "vcpuNum": 4
   },
   {
    "_defaultOrder": 3,
    "_isFastLaunch": false,
    "category": "General purpose",
    "gpuNum": 0,
    "hideHardwareSpecs": false,
    "memoryGiB": 32,
    "name": "ml.t3.2xlarge",
    "vcpuNum": 8
   },
   {
    "_defaultOrder": 4,
    "_isFastLaunch": true,
    "category": "General purpose",
    "gpuNum": 0,
    "hideHardwareSpecs": false,
    "memoryGiB": 8,
    "name": "ml.m5.large",
    "vcpuNum": 2
   },
   {
    "_defaultOrder": 5,
    "_isFastLaunch": false,
    "category": "General purpose",
    "gpuNum": 0,
    "hideHardwareSpecs": false,
    "memoryGiB": 16,
    "name": "ml.m5.xlarge",
    "vcpuNum": 4
   },
   {
    "_defaultOrder": 6,
    "_isFastLaunch": false,
    "category": "General purpose",
    "gpuNum": 0,
    "hideHardwareSpecs": false,
    "memoryGiB": 32,
    "name": "ml.m5.2xlarge",
    "vcpuNum": 8
   },
   {
    "_defaultOrder": 7,
    "_isFastLaunch": false,
    "category": "General purpose",
    "gpuNum": 0,
    "hideHardwareSpecs": false,
    "memoryGiB": 64,
    "name": "ml.m5.4xlarge",
    "vcpuNum": 16
   },
   {
    "_defaultOrder": 8,
    "_isFastLaunch": false,
    "category": "General purpose",
    "gpuNum": 0,
    "hideHardwareSpecs": false,
    "memoryGiB": 128,
    "name": "ml.m5.8xlarge",
    "vcpuNum": 32
   },
   {
    "_defaultOrder": 9,
    "_isFastLaunch": false,
    "category": "General purpose",
    "gpuNum": 0,
    "hideHardwareSpecs": false,
    "memoryGiB": 192,
    "name": "ml.m5.12xlarge",
    "vcpuNum": 48
   },
   {
    "_defaultOrder": 10,
    "_isFastLaunch": false,
    "category": "General purpose",
    "gpuNum": 0,
    "hideHardwareSpecs": false,
    "memoryGiB": 256,
    "name": "ml.m5.16xlarge",
    "vcpuNum": 64
   },
   {
    "_defaultOrder": 11,
    "_isFastLaunch": false,
    "category": "General purpose",
    "gpuNum": 0,
    "hideHardwareSpecs": false,
    "memoryGiB": 384,
    "name": "ml.m5.24xlarge",
    "vcpuNum": 96
   },
   {
    "_defaultOrder": 12,
    "_isFastLaunch": false,
    "category": "General purpose",
    "gpuNum": 0,
    "hideHardwareSpecs": false,
    "memoryGiB": 8,
    "name": "ml.m5d.large",
    "vcpuNum": 2
   },
   {
    "_defaultOrder": 13,
    "_isFastLaunch": false,
    "category": "General purpose",
    "gpuNum": 0,
    "hideHardwareSpecs": false,
    "memoryGiB": 16,
    "name": "ml.m5d.xlarge",
    "vcpuNum": 4
   },
   {
    "_defaultOrder": 14,
    "_isFastLaunch": false,
    "category": "General purpose",
    "gpuNum": 0,
    "hideHardwareSpecs": false,
    "memoryGiB": 32,
    "name": "ml.m5d.2xlarge",
    "vcpuNum": 8
   },
   {
    "_defaultOrder": 15,
    "_isFastLaunch": false,
    "category": "General purpose",
    "gpuNum": 0,
    "hideHardwareSpecs": false,
    "memoryGiB": 64,
    "name": "ml.m5d.4xlarge",
    "vcpuNum": 16
   },
   {
    "_defaultOrder": 16,
    "_isFastLaunch": false,
    "category": "General purpose",
    "gpuNum": 0,
    "hideHardwareSpecs": false,
    "memoryGiB": 128,
    "name": "ml.m5d.8xlarge",
    "vcpuNum": 32
   },
   {
    "_defaultOrder": 17,
    "_isFastLaunch": false,
    "category": "General purpose",
    "gpuNum": 0,
    "hideHardwareSpecs": false,
    "memoryGiB": 192,
    "name": "ml.m5d.12xlarge",
    "vcpuNum": 48
   },
   {
    "_defaultOrder": 18,
    "_isFastLaunch": false,
    "category": "General purpose",
    "gpuNum": 0,
    "hideHardwareSpecs": false,
    "memoryGiB": 256,
    "name": "ml.m5d.16xlarge",
    "vcpuNum": 64
   },
   {
    "_defaultOrder": 19,
    "_isFastLaunch": false,
    "category": "General purpose",
    "gpuNum": 0,
    "hideHardwareSpecs": false,
    "memoryGiB": 384,
    "name": "ml.m5d.24xlarge",
    "vcpuNum": 96
   },
   {
    "_defaultOrder": 20,
    "_isFastLaunch": false,
    "category": "General purpose",
    "gpuNum": 0,
    "hideHardwareSpecs": true,
    "memoryGiB": 0,
    "name": "ml.geospatial.interactive",
    "supportedImageNames": [
     "sagemaker-geospatial-v1-0"
    ],
    "vcpuNum": 0
   },
   {
    "_defaultOrder": 21,
    "_isFastLaunch": true,
    "category": "Compute optimized",
    "gpuNum": 0,
    "hideHardwareSpecs": false,
    "memoryGiB": 4,
    "name": "ml.c5.large",
    "vcpuNum": 2
   },
   {
    "_defaultOrder": 22,
    "_isFastLaunch": false,
    "category": "Compute optimized",
    "gpuNum": 0,
    "hideHardwareSpecs": false,
    "memoryGiB": 8,
    "name": "ml.c5.xlarge",
    "vcpuNum": 4
   },
   {
    "_defaultOrder": 23,
    "_isFastLaunch": false,
    "category": "Compute optimized",
    "gpuNum": 0,
    "hideHardwareSpecs": false,
    "memoryGiB": 16,
    "name": "ml.c5.2xlarge",
    "vcpuNum": 8
   },
   {
    "_defaultOrder": 24,
    "_isFastLaunch": false,
    "category": "Compute optimized",
    "gpuNum": 0,
    "hideHardwareSpecs": false,
    "memoryGiB": 32,
    "name": "ml.c5.4xlarge",
    "vcpuNum": 16
   },
   {
    "_defaultOrder": 25,
    "_isFastLaunch": false,
    "category": "Compute optimized",
    "gpuNum": 0,
    "hideHardwareSpecs": false,
    "memoryGiB": 72,
    "name": "ml.c5.9xlarge",
    "vcpuNum": 36
   },
   {
    "_defaultOrder": 26,
    "_isFastLaunch": false,
    "category": "Compute optimized",
    "gpuNum": 0,
    "hideHardwareSpecs": false,
    "memoryGiB": 96,
    "name": "ml.c5.12xlarge",
    "vcpuNum": 48
   },
   {
    "_defaultOrder": 27,
    "_isFastLaunch": false,
    "category": "Compute optimized",
    "gpuNum": 0,
    "hideHardwareSpecs": false,
    "memoryGiB": 144,
    "name": "ml.c5.18xlarge",
    "vcpuNum": 72
   },
   {
    "_defaultOrder": 28,
    "_isFastLaunch": false,
    "category": "Compute optimized",
    "gpuNum": 0,
    "hideHardwareSpecs": false,
    "memoryGiB": 192,
    "name": "ml.c5.24xlarge",
    "vcpuNum": 96
   },
   {
    "_defaultOrder": 29,
    "_isFastLaunch": true,
    "category": "Accelerated computing",
    "gpuNum": 1,
    "hideHardwareSpecs": false,
    "memoryGiB": 16,
    "name": "ml.g4dn.xlarge",
    "vcpuNum": 4
   },
   {
    "_defaultOrder": 30,
    "_isFastLaunch": false,
    "category": "Accelerated computing",
    "gpuNum": 1,
    "hideHardwareSpecs": false,
    "memoryGiB": 32,
    "name": "ml.g4dn.2xlarge",
    "vcpuNum": 8
   },
   {
    "_defaultOrder": 31,
    "_isFastLaunch": false,
    "category": "Accelerated computing",
    "gpuNum": 1,
    "hideHardwareSpecs": false,
    "memoryGiB": 64,
    "name": "ml.g4dn.4xlarge",
    "vcpuNum": 16
   },
   {
    "_defaultOrder": 32,
    "_isFastLaunch": false,
    "category": "Accelerated computing",
    "gpuNum": 1,
    "hideHardwareSpecs": false,
    "memoryGiB": 128,
    "name": "ml.g4dn.8xlarge",
    "vcpuNum": 32
   },
   {
    "_defaultOrder": 33,
    "_isFastLaunch": false,
    "category": "Accelerated computing",
    "gpuNum": 4,
    "hideHardwareSpecs": false,
    "memoryGiB": 192,
    "name": "ml.g4dn.12xlarge",
    "vcpuNum": 48
   },
   {
    "_defaultOrder": 34,
    "_isFastLaunch": false,
    "category": "Accelerated computing",
    "gpuNum": 1,
    "hideHardwareSpecs": false,
    "memoryGiB": 256,
    "name": "ml.g4dn.16xlarge",
    "vcpuNum": 64
   },
   {
    "_defaultOrder": 35,
    "_isFastLaunch": false,
    "category": "Accelerated computing",
    "gpuNum": 1,
    "hideHardwareSpecs": false,
    "memoryGiB": 61,
    "name": "ml.p3.2xlarge",
    "vcpuNum": 8
   },
   {
    "_defaultOrder": 36,
    "_isFastLaunch": false,
    "category": "Accelerated computing",
    "gpuNum": 4,
    "hideHardwareSpecs": false,
    "memoryGiB": 244,
    "name": "ml.p3.8xlarge",
    "vcpuNum": 32
   },
   {
    "_defaultOrder": 37,
    "_isFastLaunch": false,
    "category": "Accelerated computing",
    "gpuNum": 8,
    "hideHardwareSpecs": false,
    "memoryGiB": 488,
    "name": "ml.p3.16xlarge",
    "vcpuNum": 64
   },
   {
    "_defaultOrder": 38,
    "_isFastLaunch": false,
    "category": "Accelerated computing",
    "gpuNum": 8,
    "hideHardwareSpecs": false,
    "memoryGiB": 768,
    "name": "ml.p3dn.24xlarge",
    "vcpuNum": 96
   },
   {
    "_defaultOrder": 39,
    "_isFastLaunch": false,
    "category": "Memory Optimized",
    "gpuNum": 0,
    "hideHardwareSpecs": false,
    "memoryGiB": 16,
    "name": "ml.r5.large",
    "vcpuNum": 2
   },
   {
    "_defaultOrder": 40,
    "_isFastLaunch": false,
    "category": "Memory Optimized",
    "gpuNum": 0,
    "hideHardwareSpecs": false,
    "memoryGiB": 32,
    "name": "ml.r5.xlarge",
    "vcpuNum": 4
   },
   {
    "_defaultOrder": 41,
    "_isFastLaunch": false,
    "category": "Memory Optimized",
    "gpuNum": 0,
    "hideHardwareSpecs": false,
    "memoryGiB": 64,
    "name": "ml.r5.2xlarge",
    "vcpuNum": 8
   },
   {
    "_defaultOrder": 42,
    "_isFastLaunch": false,
    "category": "Memory Optimized",
    "gpuNum": 0,
    "hideHardwareSpecs": false,
    "memoryGiB": 128,
    "name": "ml.r5.4xlarge",
    "vcpuNum": 16
   },
   {
    "_defaultOrder": 43,
    "_isFastLaunch": false,
    "category": "Memory Optimized",
    "gpuNum": 0,
    "hideHardwareSpecs": false,
    "memoryGiB": 256,
    "name": "ml.r5.8xlarge",
    "vcpuNum": 32
   },
   {
    "_defaultOrder": 44,
    "_isFastLaunch": false,
    "category": "Memory Optimized",
    "gpuNum": 0,
    "hideHardwareSpecs": false,
    "memoryGiB": 384,
    "name": "ml.r5.12xlarge",
    "vcpuNum": 48
   },
   {
    "_defaultOrder": 45,
    "_isFastLaunch": false,
    "category": "Memory Optimized",
    "gpuNum": 0,
    "hideHardwareSpecs": false,
    "memoryGiB": 512,
    "name": "ml.r5.16xlarge",
    "vcpuNum": 64
   },
   {
    "_defaultOrder": 46,
    "_isFastLaunch": false,
    "category": "Memory Optimized",
    "gpuNum": 0,
    "hideHardwareSpecs": false,
    "memoryGiB": 768,
    "name": "ml.r5.24xlarge",
    "vcpuNum": 96
   },
   {
    "_defaultOrder": 47,
    "_isFastLaunch": false,
    "category": "Accelerated computing",
    "gpuNum": 1,
    "hideHardwareSpecs": false,
    "memoryGiB": 16,
    "name": "ml.g5.xlarge",
    "vcpuNum": 4
   },
   {
    "_defaultOrder": 48,
    "_isFastLaunch": false,
    "category": "Accelerated computing",
    "gpuNum": 1,
    "hideHardwareSpecs": false,
    "memoryGiB": 32,
    "name": "ml.g5.2xlarge",
    "vcpuNum": 8
   },
   {
    "_defaultOrder": 49,
    "_isFastLaunch": false,
    "category": "Accelerated computing",
    "gpuNum": 1,
    "hideHardwareSpecs": false,
    "memoryGiB": 64,
    "name": "ml.g5.4xlarge",
    "vcpuNum": 16
   },
   {
    "_defaultOrder": 50,
    "_isFastLaunch": false,
    "category": "Accelerated computing",
    "gpuNum": 1,
    "hideHardwareSpecs": false,
    "memoryGiB": 128,
    "name": "ml.g5.8xlarge",
    "vcpuNum": 32
   },
   {
    "_defaultOrder": 51,
    "_isFastLaunch": false,
    "category": "Accelerated computing",
    "gpuNum": 1,
    "hideHardwareSpecs": false,
    "memoryGiB": 256,
    "name": "ml.g5.16xlarge",
    "vcpuNum": 64
   },
   {
    "_defaultOrder": 52,
    "_isFastLaunch": false,
    "category": "Accelerated computing",
    "gpuNum": 4,
    "hideHardwareSpecs": false,
    "memoryGiB": 192,
    "name": "ml.g5.12xlarge",
    "vcpuNum": 48
   },
   {
    "_defaultOrder": 53,
    "_isFastLaunch": false,
    "category": "Accelerated computing",
    "gpuNum": 4,
    "hideHardwareSpecs": false,
    "memoryGiB": 384,
    "name": "ml.g5.24xlarge",
    "vcpuNum": 96
   },
   {
    "_defaultOrder": 54,
    "_isFastLaunch": false,
    "category": "Accelerated computing",
    "gpuNum": 8,
    "hideHardwareSpecs": false,
    "memoryGiB": 768,
    "name": "ml.g5.48xlarge",
    "vcpuNum": 192
   },
   {
    "_defaultOrder": 55,
    "_isFastLaunch": false,
    "category": "Accelerated computing",
    "gpuNum": 8,
    "hideHardwareSpecs": false,
    "memoryGiB": 1152,
    "name": "ml.p4d.24xlarge",
    "vcpuNum": 96
   },
   {
    "_defaultOrder": 56,
    "_isFastLaunch": false,
    "category": "Accelerated computing",
    "gpuNum": 8,
    "hideHardwareSpecs": false,
    "memoryGiB": 1152,
    "name": "ml.p4de.24xlarge",
    "vcpuNum": 96
   },
   {
    "_defaultOrder": 57,
    "_isFastLaunch": false,
    "category": "Accelerated computing",
    "gpuNum": 0,
    "hideHardwareSpecs": false,
    "memoryGiB": 32,
    "name": "ml.trn1.2xlarge",
    "vcpuNum": 8
   },
   {
    "_defaultOrder": 58,
    "_isFastLaunch": false,
    "category": "Accelerated computing",
    "gpuNum": 0,
    "hideHardwareSpecs": false,
    "memoryGiB": 512,
    "name": "ml.trn1.32xlarge",
    "vcpuNum": 128
   },
   {
    "_defaultOrder": 59,
    "_isFastLaunch": false,
    "category": "Accelerated computing",
    "gpuNum": 0,
    "hideHardwareSpecs": false,
    "memoryGiB": 512,
    "name": "ml.trn1n.32xlarge",
    "vcpuNum": 128
   }
  ],
  "instance_type": "ml.c5.large",
  "kernelspec": {
   "display_name": "Python 3",
   "language": "python",
   "name": "python3"
  },
  "language_info": {
   "codemirror_mode": {
    "name": "ipython",
    "version": 3
   },
   "file_extension": ".py",
   "mimetype": "text/x-python",
   "name": "python",
   "nbconvert_exporter": "python",
   "pygments_lexer": "ipython3",
   "version": "3.11.7"
  }
 },
 "nbformat": 4,
 "nbformat_minor": 4
}
