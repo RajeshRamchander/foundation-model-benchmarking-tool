{
 "cells": [
  {
   "cell_type": "markdown",
   "metadata": {},
   "source": [
    "## Run Inference on all deployed endpoints: Various combinations of payloads, concurrency levels, model configurations\n",
    "---------------------\n",
    "*This notebook works best with the conda_python3 kernel on a ml.t3.medium machine*.\n",
    "\n",
    "#### This step of our solution design includes running inferences on all deployed model endpoints (with different configurations, concurrency levels and payload sizes). This notebook runs inferences in a manner that is calls endpoints concurrently and asychronously to generate responses and record metrics. Here are some of the key components:\n",
    "\n",
    "- **Accessing the deployed endpoints**, creating a predictor object for these endpoints to call them during inference time.\n",
    "\n",
    "- **Functions to define metrics**: This notebook sets stage for metrics to be recorded during the time of invocation of all these models for benchmarking purposes.\n",
    "\n",
    "- **Running Actual Inferences**: Once the metrics are defined, we set a blocker function that is responsible for creating inference on a single payload called get_inference. We then run a series of asynchronous functions that can be viewed in the code (link above), to create asychronous inferefences on the deployed models. The way we send requests are by creating combinations: this means creating combinations of payloads of different sizes that can be viewed in the config.yml file, with different concurrency levels (in this case we first go through all patches of payloads with a concurrency level of 1, then 2, and then 4). You can set this to your desired value."
   ]
  },
  {
   "cell_type": "code",
   "execution_count": 1,
   "metadata": {
    "tags": []
   },
   "outputs": [],
   "source": [
    "## auto reload all of the changes made in the config/globals.py file \n",
    "%load_ext autoreload\n",
    "%autoreload 2"
   ]
  },
  {
   "cell_type": "markdown",
   "metadata": {},
   "source": [
    "### Import all of the necessary libraries below to run this notebook"
   ]
  },
  {
   "cell_type": "code",
   "execution_count": 2,
   "metadata": {
    "tags": []
   },
   "outputs": [
    {
     "name": "stdout",
     "output_type": "stream",
     "text": [
      "sagemaker.config INFO - Not applying SDK defaults from location: /opt/homebrew/share/sagemaker/config.yaml\n",
      "sagemaker.config INFO - Not applying SDK defaults from location: /Users/madhurpt/Library/Application Support/sagemaker/config.yaml\n",
      "CONFIG_FILE=configs/config-llama2-70b-g5-p4d-trt.yml\n"
     ]
    }
   ],
   "source": [
    "import glob\n",
    "import time\n",
    "import json\n",
    "import io\n",
    "import copy\n",
    "import boto3\n",
    "import asyncio\n",
    "import logging\n",
    "import itertools\n",
    "import sagemaker\n",
    "import pandas as pd\n",
    "from globals import *\n",
    "from datetime import datetime\n",
    "from transformers import AutoTokenizer\n",
    "from sagemaker.predictor import Predictor\n",
    "from utils import load_config, count_tokens, write_to_s3, read_from_s3\n",
    "from sagemaker.serializers import JSONSerializer\n",
    "from typing import Dict, List, Optional, Tuple, Union"
   ]
  },
  {
   "cell_type": "markdown",
   "metadata": {},
   "source": [
    "#### Pygmentize globals.py to view and use any of the globally initialized variables "
   ]
  },
  {
   "cell_type": "code",
   "execution_count": 3,
   "metadata": {
    "tags": []
   },
   "outputs": [
    {
     "name": "stdout",
     "output_type": "stream",
     "text": [
      "\u001b[34mimport\u001b[39;49;00m \u001b[04m\u001b[36mos\u001b[39;49;00m\u001b[37m\u001b[39;49;00m\n",
      "\u001b[34mimport\u001b[39;49;00m \u001b[04m\u001b[36myaml\u001b[39;49;00m\u001b[37m\u001b[39;49;00m\n",
      "\u001b[34mfrom\u001b[39;49;00m \u001b[04m\u001b[36menum\u001b[39;49;00m \u001b[34mimport\u001b[39;49;00m Enum\u001b[37m\u001b[39;49;00m\n",
      "\u001b[34mfrom\u001b[39;49;00m \u001b[04m\u001b[36mpathlib\u001b[39;49;00m \u001b[34mimport\u001b[39;49;00m Path\u001b[37m\u001b[39;49;00m\n",
      "\u001b[34mimport\u001b[39;49;00m \u001b[04m\u001b[36mboto3\u001b[39;49;00m\u001b[37m\u001b[39;49;00m\n",
      "\u001b[37m\u001b[39;49;00m\n",
      "CONFIG_FILEPATH_FILE: \u001b[36mstr\u001b[39;49;00m = \u001b[33m\"\u001b[39;49;00m\u001b[33mconfig_filepath.txt\u001b[39;49;00m\u001b[33m\"\u001b[39;49;00m\u001b[37m\u001b[39;49;00m\n",
      "\u001b[37m\u001b[39;49;00m\n",
      "\u001b[37m# S3 client initialization\u001b[39;49;00m\u001b[37m\u001b[39;49;00m\n",
      "s3_client = boto3.client(\u001b[33m'\u001b[39;49;00m\u001b[33ms3\u001b[39;49;00m\u001b[33m'\u001b[39;49;00m)\u001b[37m\u001b[39;49;00m\n",
      "\u001b[37m\u001b[39;49;00m\n",
      "CONFIG_FILE: \u001b[36mstr\u001b[39;49;00m = Path(CONFIG_FILEPATH_FILE).read_text()\u001b[37m\u001b[39;49;00m\n",
      "\u001b[36mprint\u001b[39;49;00m(\u001b[33mf\u001b[39;49;00m\u001b[33m\"\u001b[39;49;00m\u001b[33mCONFIG_FILE=\u001b[39;49;00m\u001b[33m{\u001b[39;49;00mCONFIG_FILE\u001b[33m}\u001b[39;49;00m\u001b[33m\"\u001b[39;49;00m)\u001b[37m\u001b[39;49;00m\n",
      "\u001b[34mwith\u001b[39;49;00m \u001b[36mopen\u001b[39;49;00m(CONFIG_FILE, \u001b[33m'\u001b[39;49;00m\u001b[33mr\u001b[39;49;00m\u001b[33m'\u001b[39;49;00m) \u001b[34mas\u001b[39;49;00m file:\u001b[37m\u001b[39;49;00m\n",
      "    config = yaml.safe_load(file)\u001b[37m\u001b[39;49;00m\n",
      "\u001b[37m\u001b[39;49;00m\n",
      "DATA_DIR: \u001b[36mstr\u001b[39;49;00m = \u001b[33m\"\u001b[39;49;00m\u001b[33mdata\u001b[39;49;00m\u001b[33m\"\u001b[39;49;00m\u001b[37m\u001b[39;49;00m\n",
      "PROMPTS_DIR = os.path.join(DATA_DIR, \u001b[33m\"\u001b[39;49;00m\u001b[33mprompts\u001b[39;49;00m\u001b[33m\"\u001b[39;49;00m)\u001b[37m\u001b[39;49;00m\n",
      "METRICS_DIR = os.path.join(DATA_DIR, \u001b[33m\"\u001b[39;49;00m\u001b[33mmetrics\u001b[39;49;00m\u001b[33m\"\u001b[39;49;00m, config[\u001b[33m'\u001b[39;49;00m\u001b[33mgeneral\u001b[39;49;00m\u001b[33m'\u001b[39;49;00m][\u001b[33m'\u001b[39;49;00m\u001b[33mname\u001b[39;49;00m\u001b[33m'\u001b[39;49;00m])\u001b[37m\u001b[39;49;00m\n",
      "METRICS_PER_INFERENCE_DIR  = os.path.join(METRICS_DIR, \u001b[33m\"\u001b[39;49;00m\u001b[33mper_inference\u001b[39;49;00m\u001b[33m\"\u001b[39;49;00m)\u001b[37m\u001b[39;49;00m\n",
      "METRICS_PER_CHUNK_DIR  = os.path.join(METRICS_DIR, \u001b[33m\"\u001b[39;49;00m\u001b[33mper_chunk\u001b[39;49;00m\u001b[33m\"\u001b[39;49;00m)\u001b[37m\u001b[39;49;00m\n",
      "\u001b[37m\u001b[39;49;00m\n",
      "\u001b[37m# MODELS_DIR = os.path.join(DATA_DIR, \"models\", config['general']['name'])\u001b[39;49;00m\u001b[37m\u001b[39;49;00m\n",
      "MODELS_DIR = config[\u001b[33m'\u001b[39;49;00m\u001b[33maws\u001b[39;49;00m\u001b[33m'\u001b[39;49;00m][\u001b[33m'\u001b[39;49;00m\u001b[33mprefix\u001b[39;49;00m\u001b[33m'\u001b[39;49;00m] + \u001b[33m\"\u001b[39;49;00m\u001b[33m/models\u001b[39;49;00m\u001b[33m\"\u001b[39;49;00m\u001b[37m\u001b[39;49;00m\n",
      "\u001b[37m\u001b[39;49;00m\n",
      "\u001b[37m## DEFINE THE S3 PATH FOR ENDPOINTS TO READ FROM DURING RUN INFERENCE\u001b[39;49;00m\u001b[37m\u001b[39;49;00m\n",
      "ENDPOINT_S3_PATH = \u001b[33mf\u001b[39;49;00m\u001b[33m\"\u001b[39;49;00m\u001b[33m{\u001b[39;49;00mMODELS_DIR\u001b[33m}\u001b[39;49;00m\u001b[33m/\u001b[39;49;00m\u001b[33m{\u001b[39;49;00mconfig[\u001b[33m'\u001b[39;49;00m\u001b[33mgeneral\u001b[39;49;00m\u001b[33m'\u001b[39;49;00m][\u001b[33m'\u001b[39;49;00m\u001b[33mname\u001b[39;49;00m\u001b[33m'\u001b[39;49;00m]\u001b[33m}\u001b[39;49;00m\u001b[33m/endpoints.json\u001b[39;49;00m\u001b[33m\"\u001b[39;49;00m\u001b[37m\u001b[39;49;00m\n",
      "\u001b[37m\u001b[39;49;00m\n",
      "\u001b[37m## Use this to upload to the s3 bucket (extracted from the config file)\u001b[39;49;00m\u001b[37m\u001b[39;49;00m\n",
      "BUCKET_NAME = config[\u001b[33m'\u001b[39;49;00m\u001b[33maws\u001b[39;49;00m\u001b[33m'\u001b[39;49;00m][\u001b[33m'\u001b[39;49;00m\u001b[33mbucket\u001b[39;49;00m\u001b[33m'\u001b[39;49;00m]\u001b[37m\u001b[39;49;00m\n",
      "\u001b[37m\u001b[39;49;00m\n",
      "\u001b[37m## S3 prefix\u001b[39;49;00m\u001b[37m\u001b[39;49;00m\n",
      "PREFIX_NAME = config[\u001b[33m'\u001b[39;49;00m\u001b[33maws\u001b[39;49;00m\u001b[33m'\u001b[39;49;00m][\u001b[33m'\u001b[39;49;00m\u001b[33mprefix\u001b[39;49;00m\u001b[33m'\u001b[39;49;00m]\u001b[37m\u001b[39;49;00m\n",
      "\u001b[37m\u001b[39;49;00m\n",
      "\u001b[37m## SOURCE data is where your actual data resides in s3\u001b[39;49;00m\u001b[37m\u001b[39;49;00m\n",
      "SOURCE_DATA = config[\u001b[33m'\u001b[39;49;00m\u001b[33maws\u001b[39;49;00m\u001b[33m'\u001b[39;49;00m][\u001b[33m'\u001b[39;49;00m\u001b[33msource_data_bucket_prefix\u001b[39;49;00m\u001b[33m'\u001b[39;49;00m]\u001b[37m\u001b[39;49;00m\n",
      "\u001b[37m\u001b[39;49;00m\n",
      "\u001b[37m## Read the prompt template that the user uploads\u001b[39;49;00m\u001b[37m\u001b[39;49;00m\n",
      "PROMPT_TEMPLATE_S3_PREFIX = config[\u001b[33m'\u001b[39;49;00m\u001b[33maws\u001b[39;49;00m\u001b[33m'\u001b[39;49;00m][\u001b[33m'\u001b[39;49;00m\u001b[33mprompt_template\u001b[39;49;00m\u001b[33m'\u001b[39;49;00m]\u001b[37m\u001b[39;49;00m\n",
      "DATASET_DIR = os.path.join(DATA_DIR, \u001b[33m\"\u001b[39;49;00m\u001b[33mdataset\u001b[39;49;00m\u001b[33m\"\u001b[39;49;00m)\u001b[37m\u001b[39;49;00m\n",
      "SCRIPTS_DIR: \u001b[36mstr\u001b[39;49;00m = \u001b[33m\"\u001b[39;49;00m\u001b[33mscripts\u001b[39;49;00m\u001b[33m\"\u001b[39;49;00m\u001b[37m\u001b[39;49;00m\n",
      "DIR_LIST = [DATA_DIR, PROMPTS_DIR, METRICS_DIR, MODELS_DIR, DATASET_DIR, METRICS_PER_INFERENCE_DIR, METRICS_PER_CHUNK_DIR]\u001b[37m\u001b[39;49;00m\n",
      "\u001b[37m# TOKENIZER_DIR = 'llama2_tokenizer'\u001b[39;49;00m\u001b[37m\u001b[39;49;00m\n",
      "\u001b[37m\u001b[39;49;00m\n",
      "\u001b[37m## this is for custom tokenizers\u001b[39;49;00m\u001b[37m\u001b[39;49;00m\n",
      "TOKENIZER_DIR_S3 = config[\u001b[33m'\u001b[39;49;00m\u001b[33maws\u001b[39;49;00m\u001b[33m'\u001b[39;49;00m][\u001b[33m'\u001b[39;49;00m\u001b[33mcustom_tokenizer\u001b[39;49;00m\u001b[33m'\u001b[39;49;00m]\u001b[37m\u001b[39;49;00m\n",
      "LOCAL_CUSTOM_TOKENIZER = \u001b[33m'\u001b[39;49;00m\u001b[33mcustom_tokenizer\u001b[39;49;00m\u001b[33m'\u001b[39;49;00m\u001b[37m\u001b[39;49;00m\n",
      "\u001b[37m\u001b[39;49;00m\n",
      "DEPLOYMENT_SCRIPT_S3 = config[\u001b[33m'\u001b[39;49;00m\u001b[33maws\u001b[39;49;00m\u001b[33m'\u001b[39;49;00m][\u001b[33m'\u001b[39;49;00m\u001b[33mbring_your_script\u001b[39;49;00m\u001b[33m'\u001b[39;49;00m]\u001b[37m\u001b[39;49;00m\n",
      "\u001b[37m\u001b[39;49;00m\n",
      "_ = \u001b[36mlist\u001b[39;49;00m(\u001b[36mmap\u001b[39;49;00m(\u001b[34mlambda\u001b[39;49;00m x: os.makedirs(x, exist_ok=\u001b[34mTrue\u001b[39;49;00m), DIR_LIST))\u001b[37m\u001b[39;49;00m\n",
      "\u001b[37m\u001b[39;49;00m\n",
      "ENDPOINT_LIST_FPATH:\u001b[36mstr\u001b[39;49;00m = os.path.join(MODELS_DIR, \u001b[33m\"\u001b[39;49;00m\u001b[33mendpoints.json\u001b[39;49;00m\u001b[33m\"\u001b[39;49;00m)\u001b[37m\u001b[39;49;00m\n",
      "REQUEST_PAYLOAD_FPATH:\u001b[36mstr\u001b[39;49;00m = os.path.join(PROMPTS_DIR, \u001b[33m\"\u001b[39;49;00m\u001b[33mpayload.jsonl\u001b[39;49;00m\u001b[33m\"\u001b[39;49;00m)\u001b[37m\u001b[39;49;00m\n",
      "RESULTS_FPATH:\u001b[36mstr\u001b[39;49;00m = os.path.join(METRICS_DIR, \u001b[33m\"\u001b[39;49;00m\u001b[33mresults.csv\u001b[39;49;00m\u001b[33m\"\u001b[39;49;00m)\u001b[37m\u001b[39;49;00m\n",
      "\u001b[34mclass\u001b[39;49;00m \u001b[04m\u001b[32mTRUNCATE_POLICY\u001b[39;49;00m(\u001b[36mstr\u001b[39;49;00m, Enum):\u001b[37m\u001b[39;49;00m\n",
      "    AT_PROMPT_TOKEN_LENGTH = \u001b[33m'\u001b[39;49;00m\u001b[33mat-prompt-token-length\u001b[39;49;00m\u001b[33m'\u001b[39;49;00m\u001b[37m\u001b[39;49;00m\n",
      "\u001b[37m\u001b[39;49;00m\n",
      "\u001b[37m# misc. metrics related\u001b[39;49;00m\u001b[37m\u001b[39;49;00m\n",
      "PLACE_HOLDER: \u001b[36mint\u001b[39;49;00m = -\u001b[34m1705338041\u001b[39;49;00m\u001b[37m\u001b[39;49;00m\n",
      "\u001b[37m\u001b[39;49;00m\n",
      "\u001b[37m# metric filenames\u001b[39;49;00m\u001b[37m\u001b[39;49;00m\n",
      "COUNTS_FNAME: \u001b[36mstr\u001b[39;49;00m = \u001b[33m\"\u001b[39;49;00m\u001b[33mexperiment_counts.csv\u001b[39;49;00m\u001b[33m\"\u001b[39;49;00m\u001b[37m\u001b[39;49;00m\n",
      "ERROR_RATES_FNAME: \u001b[36mstr\u001b[39;49;00m = \u001b[33m\"\u001b[39;49;00m\u001b[33merror_rates.csv\u001b[39;49;00m\u001b[33m\"\u001b[39;49;00m\u001b[37m\u001b[39;49;00m\n",
      "RESULTS_DESC_MD_FNAME: \u001b[36mstr\u001b[39;49;00m = \u001b[33m\"\u001b[39;49;00m\u001b[33mresults.md\u001b[39;49;00m\u001b[33m\"\u001b[39;49;00m\u001b[37m\u001b[39;49;00m\n",
      "SUMMARY_METRICS_W_PRICING_FNAME: \u001b[36mstr\u001b[39;49;00m = \u001b[33m\"\u001b[39;49;00m\u001b[33msummary_metrics_w_pricing.csv\u001b[39;49;00m\u001b[33m\"\u001b[39;49;00m\u001b[37m\u001b[39;49;00m\n",
      "INSTANCE_PRICING_PER_HOUR_FNAME: \u001b[36mstr\u001b[39;49;00m = \u001b[33m\"\u001b[39;49;00m\u001b[33minstance_pricing_per_hour.csv\u001b[39;49;00m\u001b[33m\"\u001b[39;49;00m\u001b[37m\u001b[39;49;00m\n",
      "SUMMARY_METRICS_FOR_DATASET_W_SCORES_FNAME: \u001b[36mstr\u001b[39;49;00m = \u001b[33m\"\u001b[39;49;00m\u001b[33msummary_metrics_for_dataset_w_scores.csv\u001b[39;49;00m\u001b[33m\"\u001b[39;49;00m\u001b[37m\u001b[39;49;00m\n",
      "SUMMARY_METRICS_FOR_DATASET_W_SCORES_BEST_OPTION_FNAME: \u001b[36mstr\u001b[39;49;00m = \u001b[33m\"\u001b[39;49;00m\u001b[33msummary_metrics_for_dataset_best_option.csv\u001b[39;49;00m\u001b[33m\"\u001b[39;49;00m\u001b[37m\u001b[39;49;00m\n",
      "SUMMARY_METRICS_FOR_DATASET_W_SCORES_BEST_OPTION_EACH_INSTANCE_TYPE_FNAME: \u001b[36mstr\u001b[39;49;00m = \u001b[33m\"\u001b[39;49;00m\u001b[33msummary_metrics_for_dataset_best_option_each_instance_type.csv\u001b[39;49;00m\u001b[33m\"\u001b[39;49;00m\u001b[37m\u001b[39;49;00m\n",
      "BUSINESS_SUMMARY_PLOT_FNAME: \u001b[36mstr\u001b[39;49;00m = \u001b[33m\"\u001b[39;49;00m\u001b[33mbusiness_summary.png\u001b[39;49;00m\u001b[33m\"\u001b[39;49;00m\u001b[37m\u001b[39;49;00m\n",
      "\u001b[37m\u001b[39;49;00m\n",
      "\u001b[37m# plot filenames\u001b[39;49;00m\u001b[37m\u001b[39;49;00m\n",
      "ERROR_RATES_PLOT_TEXT: \u001b[36mstr\u001b[39;49;00m = \u001b[33m\"\u001b[39;49;00m\u001b[33mError rates for different concurrency levels and instance types\u001b[39;49;00m\u001b[33m\"\u001b[39;49;00m\u001b[37m\u001b[39;49;00m\n",
      "ERROR_RATES_PLOT_FNAME: \u001b[36mstr\u001b[39;49;00m = \u001b[33m\"\u001b[39;49;00m\u001b[33merror_rates.png\u001b[39;49;00m\u001b[33m\"\u001b[39;49;00m\u001b[37m\u001b[39;49;00m\n",
      "TOKENS_VS_LATENCY_PLOT_TEXT: \u001b[36mstr\u001b[39;49;00m = \u001b[33m\"\u001b[39;49;00m\u001b[33mTokens vs latency for different concurrency levels and instance types\u001b[39;49;00m\u001b[33m\"\u001b[39;49;00m\u001b[37m\u001b[39;49;00m\n",
      "TOKENS_VS_LATENCY_PLOT_FNAME: \u001b[36mstr\u001b[39;49;00m = \u001b[33m\"\u001b[39;49;00m\u001b[33mtokens_vs_latency.png\u001b[39;49;00m\u001b[33m\"\u001b[39;49;00m\u001b[37m\u001b[39;49;00m\n",
      "CONCURRENCY_VS_INFERENCE_LATENCY_PLOT_FNAME: \u001b[36mstr\u001b[39;49;00m = \u001b[33m\"\u001b[39;49;00m\u001b[33mconcurrency_vs_inference_latency.png\u001b[39;49;00m\u001b[33m\"\u001b[39;49;00m\u001b[37m\u001b[39;49;00m\n",
      "CONCURRENCY_VS_INFERENCE_LATENCY_PLOT_TEXT: \u001b[36mstr\u001b[39;49;00m = \u001b[33m\"\u001b[39;49;00m\u001b[33mConcurrency Vs latency for different instance type for selected dataset\u001b[39;49;00m\u001b[33m\"\u001b[39;49;00m\u001b[37m\u001b[39;49;00m\n",
      "\u001b[37m\u001b[39;49;00m\n",
      "\u001b[37m\u001b[39;49;00m\n",
      "LATENCY_BUDGET: \u001b[36mint\u001b[39;49;00m = \u001b[34m20\u001b[39;49;00m\u001b[37m\u001b[39;49;00m\n",
      "\u001b[37m\u001b[39;49;00m\n",
      "OVERALL_RESULTS_MD: \u001b[36mstr\u001b[39;49;00m = \u001b[33m\"\"\"\u001b[39;49;00m\u001b[33m\u001b[39;49;00m\n",
      "\u001b[33m# Results for performance benchmarking\u001b[39;49;00m\u001b[33m\u001b[39;49;00m\n",
      "\u001b[33m\u001b[39;49;00m\n",
      "\u001b[33m**Last modified (UTC): \u001b[39;49;00m\u001b[33m{dttm}\u001b[39;49;00m\u001b[33m**\u001b[39;49;00m\u001b[33m\u001b[39;49;00m\n",
      "\u001b[33m\u001b[39;49;00m\n",
      "\u001b[33m## Summary\u001b[39;49;00m\u001b[33m\u001b[39;49;00m\n",
      "\u001b[33m\u001b[39;49;00m\n",
      "\u001b[33m{business_summary}\u001b[39;49;00m\u001b[33m\u001b[39;49;00m\n",
      "\u001b[33m\u001b[39;49;00m\n",
      "\u001b[33m## Per instance results\u001b[39;49;00m\u001b[33m\u001b[39;49;00m\n",
      "\u001b[33m\u001b[39;49;00m\n",
      "\u001b[33mThe following table provides the best combinations for running inference for different sizes prompts on different instance types.\u001b[39;49;00m\u001b[33m\u001b[39;49;00m\n",
      "\u001b[33m|Dataset   | Instance type   | Recommendation   |\u001b[39;49;00m\u001b[33m\u001b[39;49;00m\n",
      "\u001b[33m|---|---|---|\u001b[39;49;00m\u001b[33m\u001b[39;49;00m\n",
      "\u001b[33m\"\"\"\u001b[39;49;00m\u001b[37m\u001b[39;49;00m\n",
      "\u001b[37m\u001b[39;49;00m\n",
      "\u001b[37m## Dataset=`{dataset}`, instance_type=`{instance_type}`\u001b[39;49;00m\u001b[37m\u001b[39;49;00m\n",
      "RESULT_DESC: \u001b[36mstr\u001b[39;49;00m = \u001b[33m\"\"\"\u001b[39;49;00m\u001b[33mThe best option for staying within a latency budget of `\u001b[39;49;00m\u001b[33m{latency_budget}\u001b[39;49;00m\u001b[33m seconds` on a `\u001b[39;49;00m\u001b[33m{instance_type}\u001b[39;49;00m\u001b[33m` for the `\u001b[39;49;00m\u001b[33m{dataset}\u001b[39;49;00m\u001b[33m` dataset is a `concurrency level of \u001b[39;49;00m\u001b[33m{concurrency}\u001b[39;49;00m\u001b[33m`. A concurrency level of \u001b[39;49;00m\u001b[33m{concurrency}\u001b[39;49;00m\u001b[33m achieves an `average latency of \u001b[39;49;00m\u001b[33m{latency_mean}\u001b[39;49;00m\u001b[33m seconds`, for an `average prompt size of \u001b[39;49;00m\u001b[33m{prompt_size}\u001b[39;49;00m\u001b[33m tokens` and `completion size of \u001b[39;49;00m\u001b[33m{completion_size}\u001b[39;49;00m\u001b[33m tokens` with `\u001b[39;49;00m\u001b[33m{tpm}\u001b[39;49;00m\u001b[33m transactions/minute`.\u001b[39;49;00m\u001b[33m\"\"\"\u001b[39;49;00m\u001b[37m\u001b[39;49;00m\n",
      "\u001b[37m\u001b[39;49;00m\n",
      "RESULT_ROW: \u001b[36mstr\u001b[39;49;00m = \u001b[33m\"\u001b[39;49;00m\u001b[33m|`\u001b[39;49;00m\u001b[33m{dataset}\u001b[39;49;00m\u001b[33m`|`\u001b[39;49;00m\u001b[33m{instance_type}\u001b[39;49;00m\u001b[33m`|\u001b[39;49;00m\u001b[33m{desc}\u001b[39;49;00m\u001b[33m|\u001b[39;49;00m\u001b[33m\"\u001b[39;49;00m\u001b[37m\u001b[39;49;00m\n",
      "\u001b[37m\u001b[39;49;00m\n",
      "RESULT_FAILURE_DESC: \u001b[36mstr\u001b[39;49;00m = \u001b[33m\"\"\"\u001b[39;49;00m\u001b[33mThis experiment did not find any combination of concurrency level and other configuration settings that could provide a response within a latency budget of `\u001b[39;49;00m\u001b[33m{latency_budget}\u001b[39;49;00m\u001b[33m seconds` on a `\u001b[39;49;00m\u001b[33m{instance_type}\u001b[39;49;00m\u001b[33m` for the `\u001b[39;49;00m\u001b[33m{dataset}\u001b[39;49;00m\u001b[33m` dataset.\u001b[39;49;00m\u001b[33m\"\"\"\u001b[39;49;00m\u001b[37m\u001b[39;49;00m\n"
     ]
    }
   ],
   "source": [
    "# global constants\n",
    "!pygmentize globals.py"
   ]
  },
  {
   "cell_type": "code",
   "execution_count": 4,
   "metadata": {
    "tags": []
   },
   "outputs": [],
   "source": [
    "logging.basicConfig(format='[%(asctime)s] p%(process)s {%(filename)s:%(lineno)d} %(levelname)s - %(message)s', level=logging.INFO)\n",
    "logger = logging.getLogger(__name__)"
   ]
  },
  {
   "cell_type": "markdown",
   "metadata": {},
   "source": [
    "#### Load the Config.yml file that contains information that is used across this benchmarking environment"
   ]
  },
  {
   "cell_type": "code",
   "execution_count": 5,
   "metadata": {
    "tags": []
   },
   "outputs": [
    {
     "name": "stderr",
     "output_type": "stream",
     "text": [
      "[2024-01-28 13:01:19,740] p81084 {635462509.py:2} INFO - {\n",
      "  \"general\": {\n",
      "    \"name\": \"llama2-70b-g5-p4d-trt-v1\",\n",
      "    \"model_name\": \"Llama2-70b\"\n",
      "  },\n",
      "  \"aws\": {\n",
      "    \"region\": \"us-east-1\",\n",
      "    \"sagemaker_execution_role\": \"arn:aws:iam::015469603702:role/service-role/SageMaker-ExecutionRole-20240111T084686\",\n",
      "    \"bucket\": \"fmbt2039\",\n",
      "    \"prefix\": \"data\",\n",
      "    \"source_data_bucket_prefix\": \"source_data\",\n",
      "    \"prompt_template\": \"prompt_template/prompt_template.txt\",\n",
      "    \"custom_tokenizer\": \"tokenizer\",\n",
      "    \"bring_your_script\": \"byo_script\"\n",
      "  },\n",
      "  \"prompt\": {\n",
      "    \"template_file\": \"prompt_template.txt\",\n",
      "    \"all_prompts_file\": \"all_prompts.csv\"\n",
      "  },\n",
      "  \"datasets\": [\n",
      "    {\n",
      "      \"language\": \"en\",\n",
      "      \"min_length_in_tokens\": 1,\n",
      "      \"max_length_in_tokens\": 500,\n",
      "      \"payload_file\": \"payload_{lang}_{min}-{max}.jsonl\"\n",
      "    },\n",
      "    {\n",
      "      \"language\": \"en\",\n",
      "      \"min_length_in_tokens\": 500,\n",
      "      \"max_length_in_tokens\": 1000,\n",
      "      \"payload_file\": \"payload_{lang}_{min}-{max}.jsonl\"\n",
      "    },\n",
      "    {\n",
      "      \"language\": \"en\",\n",
      "      \"min_length_in_tokens\": 1000,\n",
      "      \"max_length_in_tokens\": 2000,\n",
      "      \"payload_file\": \"payload_{lang}_{min}-{max}.jsonl\"\n",
      "    },\n",
      "    {\n",
      "      \"language\": \"en\",\n",
      "      \"min_length_in_tokens\": 2000,\n",
      "      \"max_length_in_tokens\": 3000,\n",
      "      \"payload_file\": \"payload_{lang}_{min}-{max}.jsonl\"\n",
      "    },\n",
      "    {\n",
      "      \"language\": \"en\",\n",
      "      \"min_length_in_tokens\": 3000,\n",
      "      \"max_length_in_tokens\": 4000,\n",
      "      \"payload_file\": \"payload_{lang}_{min}-{max}.jsonl\"\n",
      "    },\n",
      "    {\n",
      "      \"language\": \"en\",\n",
      "      \"min_length_in_tokens\": 305,\n",
      "      \"max_length_in_tokens\": 3997,\n",
      "      \"payload_file\": \"payload_{lang}_{min}-{max}.jsonl\"\n",
      "    }\n",
      "  ],\n",
      "  \"metrics\": {\n",
      "    \"dataset_of_interest\": \"en_3000-4000\",\n",
      "    \"weights\": {\n",
      "      \"price_per_tx_wt\": 0.65,\n",
      "      \"latenct_wt\": 0.35\n",
      "    }\n",
      "  },\n",
      "  \"pricing\": {\n",
      "    \"ml.g5.12xlarge\": 7.09,\n",
      "    \"ml.g5.24xlarge\": 10.18,\n",
      "    \"ml.g5.48xlarge\": 20.36,\n",
      "    \"ml.inf2.24xlarge\": 7.79,\n",
      "    \"ml.inf2.48xlarge\": 15.58,\n",
      "    \"ml.p4d.24xlarge\": 37.688\n",
      "  },\n",
      "  \"inference_parameters\": {\n",
      "    \"do_sample\": true,\n",
      "    \"temperature\": 0.1,\n",
      "    \"top_p\": 0.92,\n",
      "    \"top_k\": 120,\n",
      "    \"max_new_tokens\": 100,\n",
      "    \"truncate\": \"at-prompt-token-length\"\n",
      "  },\n",
      "  \"experiments\": [\n",
      "    {\n",
      "      \"name\": \"llama2-70b-g5.48xlarge-huggingface-pytorch-tgi-inference-2.0.1-tgi1.1.0\",\n",
      "      \"model_id\": \"meta-textgeneration-llama-2-70b\",\n",
      "      \"model_version\": \"*\",\n",
      "      \"model_name\": \"llama2-70b\",\n",
      "      \"ep_name\": \"llama-2-70b-g5-48xlarge\",\n",
      "      \"instance_type\": \"ml.g5.48xlarge\",\n",
      "      \"image_uri\": \"763104351884.dkr.ecr.us-east-1.amazonaws.com/huggingface-pytorch-tgi-inference:2.0.1-tgi1.1.0-gpu-py39-cu118-ubuntu20.04\",\n",
      "      \"deploy\": true,\n",
      "      \"instance_count\": 1,\n",
      "      \"deployment_script\": \"jumpstart.py\",\n",
      "      \"payload_files\": [\n",
      "        \"payload_en_1-500.jsonl\",\n",
      "        \"payload_en_500-1000.jsonl\",\n",
      "        \"payload_en_1000-2000.jsonl\"\n",
      "      ],\n",
      "      \"concurrency_levels\": [\n",
      "        1,\n",
      "        2,\n",
      "        4,\n",
      "        6,\n",
      "        8\n",
      "      ],\n",
      "      \"accept_eula\": true,\n",
      "      \"env\": {\n",
      "        \"SAGEMAKER_PROGRAM\": \"inference.py\",\n",
      "        \"ENDPOINT_SERVER_TIMEOUT\": \"3600\",\n",
      "        \"MODEL_CACHE_ROOT\": \"/opt/ml/model\",\n",
      "        \"SAGEMAKER_ENV\": \"1\",\n",
      "        \"HF_MODEL_ID\": \"/opt/ml/model\",\n",
      "        \"MAX_INPUT_LENGTH\": \"4095\",\n",
      "        \"MAX_TOTAL_TOKENS\": \"4096\",\n",
      "        \"SM_NUM_GPUS\": \"8\",\n",
      "        \"SAGEMAKER_MODEL_SERVER_WORKERS\": \"1\"\n",
      "      }\n",
      "    },\n",
      "    {\n",
      "      \"name\": \"llama2-70b-chat-p4d.24xlarge-djl-inference-0.26.0-tensorrtllm0.7.1-cu122\",\n",
      "      \"model_id\": \"meta-llama/Llama-2-70b-hf\",\n",
      "      \"model_version\": \"*\",\n",
      "      \"model_name\": \"llama2-70bdjl\",\n",
      "      \"bucket_name\": \"sagemaker-us-east-1-015469603702\",\n",
      "      \"key_name\": \"hf-large-model-djl/code_llama2\",\n",
      "      \"s3_path\": \"s3://sagemaker-us-east-1-015469603702/llama-2-70B-fp16/lmi/\",\n",
      "      \"ep_name\": \"llama-2-70b-chat-p4d-24xlarge\",\n",
      "      \"instance_type\": \"ml.p4d.24xlarge\",\n",
      "      \"image_uri\": \"763104351884.dkr.ecr.us-east-1.amazonaws.com/djl-inference:0.26.0-tensorrtllm0.7.1-cu122\",\n",
      "      \"deploy\": true,\n",
      "      \"instance_count\": 1,\n",
      "      \"deployment_script\": \"p4d_djl.py\",\n",
      "      \"payload_files\": [\n",
      "        \"payload_en_1-500.jsonl\",\n",
      "        \"payload_en_500-1000.jsonl\",\n",
      "        \"payload_en_1000-2000.jsonl\"\n",
      "      ],\n",
      "      \"concurrency_levels\": [\n",
      "        1,\n",
      "        2,\n",
      "        4,\n",
      "        6,\n",
      "        8\n",
      "      ],\n",
      "      \"accept_eula\": true,\n",
      "      \"remove_truncate\": true,\n",
      "      \"env\": {\n",
      "        \"MODEL_LOADING_TIMEOUT\": \"3600\",\n",
      "        \"NUMBER_OF_GPU\": \"8\",\n",
      "        \"INSTANCE_COUNT\": \"1\",\n",
      "        \"HEALTH_CHECK_TIMOUT\": \"300\"\n",
      "      }\n",
      "    }\n",
      "  ],\n",
      "  \"results\": {\n",
      "    \"per_inference_request_file\": \"per_inference_request_results.csv\",\n",
      "    \"all_metrics_file\": \"all_metrics.csv\"\n",
      "  }\n",
      "}\n"
     ]
    }
   ],
   "source": [
    "config = load_config(CONFIG_FILE)\n",
    "logger.info(json.dumps(config, indent=2))"
   ]
  },
  {
   "cell_type": "code",
   "execution_count": 6,
   "metadata": {
    "tags": []
   },
   "outputs": [],
   "source": [
    "date_time = datetime.now().strftime(\"%Y-%m-%d-%H-%M-%S\")"
   ]
  },
  {
   "cell_type": "code",
   "execution_count": 7,
   "metadata": {},
   "outputs": [],
   "source": [
    "## getting access to the s3 bucket where endpoints.json for different models resides\n",
    "s3_client = boto3.client('s3')"
   ]
  },
  {
   "cell_type": "markdown",
   "metadata": {},
   "source": [
    "### Access the deployed model endpoints from the endpoints.json file "
   ]
  },
  {
   "cell_type": "code",
   "execution_count": 8,
   "metadata": {
    "tags": []
   },
   "outputs": [
    {
     "name": "stderr",
     "output_type": "stream",
     "text": [
      "[2024-01-28 13:01:20,037] p81084 {1472297992.py:2} INFO - endpoint from --> s3://fmbt2039/data/models/llama2-70b-g5-p4d-trt-v1/endpoints.json\n",
      "[2024-01-28 13:01:20,037] p81084 {1472297992.py:8} INFO - Found information for 2 endpoints in the respective S3 path\n",
      "[2024-01-28 13:01:20,038] p81084 {1472297992.py:9} INFO - [\n",
      "  {\n",
      "    \"experiment_name\": \"llama2-70b-g5.48xlarge-huggingface-pytorch-tgi-inference-2.0.1-tgi1.1.0\",\n",
      "    \"endpoint\": {\n",
      "      \"EndpointName\": \"llama-2-70b-g5-48xlarge-1706460294\",\n",
      "      \"EndpointArn\": \"arn:aws:sagemaker:us-east-1:015469603702:endpoint/llama-2-70b-g5-48xlarge-1706460294\",\n",
      "      \"EndpointConfigName\": \"llama-2-70b-g5-48xlarge-1706460294\",\n",
      "      \"ProductionVariants\": [\n",
      "        {\n",
      "          \"VariantName\": \"AllTraffic\",\n",
      "          \"DeployedImages\": [\n",
      "            {\n",
      "              \"SpecifiedImage\": \"763104351884.dkr.ecr.us-east-1.amazonaws.com/huggingface-pytorch-tgi-inference:2.0.1-tgi1.1.0-gpu-py39-cu118-ubuntu20.04\",\n",
      "              \"ResolvedImage\": \"763104351884.dkr.ecr.us-east-1.amazonaws.com/huggingface-pytorch-tgi-inference@sha256:2739b630b95d8a95e6b4665e66d8243dd43b99c4fdb865feff13aab9c1da06eb\",\n",
      "              \"ResolutionTime\": \"2024-01-28 11:44:56.908000-05:00\"\n",
      "            }\n",
      "          ],\n",
      "          \"CurrentWeight\": 1.0,\n",
      "          \"DesiredWeight\": 1.0,\n",
      "          \"CurrentInstanceCount\": 1,\n",
      "          \"DesiredInstanceCount\": 1\n",
      "        }\n",
      "      ],\n",
      "      \"EndpointStatus\": \"InService\",\n",
      "      \"CreationTime\": \"2024-01-28 11:44:56.168000-05:00\",\n",
      "      \"LastModifiedTime\": \"2024-01-28 11:50:54.613000-05:00\",\n",
      "      \"ResponseMetadata\": {\n",
      "        \"RequestId\": \"e43e05ad-83fe-4408-a3d3-093472df31a2\",\n",
      "        \"HTTPStatusCode\": 200,\n",
      "        \"HTTPHeaders\": {\n",
      "          \"x-amzn-requestid\": \"e43e05ad-83fe-4408-a3d3-093472df31a2\",\n",
      "          \"content-type\": \"application/x-amz-json-1.1\",\n",
      "          \"content-length\": \"815\",\n",
      "          \"date\": \"Sun, 28 Jan 2024 16:56:58 GMT\"\n",
      "        },\n",
      "        \"RetryAttempts\": 0\n",
      "      }\n",
      "    },\n",
      "    \"endpoint_config\": {\n",
      "      \"EndpointConfigName\": \"llama-2-70b-g5-48xlarge-1706460294\",\n",
      "      \"EndpointConfigArn\": \"arn:aws:sagemaker:us-east-1:015469603702:endpoint-config/llama-2-70b-g5-48xlarge-1706460294\",\n",
      "      \"ProductionVariants\": [\n",
      "        {\n",
      "          \"VariantName\": \"AllTraffic\",\n",
      "          \"ModelName\": \"meta-textgeneration-llama-2-70b-2024-01-28-16-44-54-412\",\n",
      "          \"InitialInstanceCount\": 1,\n",
      "          \"InstanceType\": \"ml.g5.48xlarge\",\n",
      "          \"InitialVariantWeight\": 1.0,\n",
      "          \"ModelDataDownloadTimeoutInSeconds\": 1200,\n",
      "          \"ContainerStartupHealthCheckTimeoutInSeconds\": 1200\n",
      "        }\n",
      "      ],\n",
      "      \"CreationTime\": \"2024-01-28 11:44:55.670000-05:00\",\n",
      "      \"EnableNetworkIsolation\": false,\n",
      "      \"ResponseMetadata\": {\n",
      "        \"RequestId\": \"6676f7a3-dfc7-4d6d-bd04-1836fdfc4417\",\n",
      "        \"HTTPStatusCode\": 200,\n",
      "        \"HTTPHeaders\": {\n",
      "          \"x-amzn-requestid\": \"6676f7a3-dfc7-4d6d-bd04-1836fdfc4417\",\n",
      "          \"content-type\": \"application/x-amz-json-1.1\",\n",
      "          \"content-length\": \"533\",\n",
      "          \"date\": \"Sun, 28 Jan 2024 16:56:58 GMT\"\n",
      "        },\n",
      "        \"RetryAttempts\": 0\n",
      "      }\n",
      "    },\n",
      "    \"model_config\": {\n",
      "      \"ModelName\": \"meta-textgeneration-llama-2-70b-2024-01-28-16-44-54-412\",\n",
      "      \"PrimaryContainer\": {\n",
      "        \"Image\": \"763104351884.dkr.ecr.us-east-1.amazonaws.com/huggingface-pytorch-tgi-inference:2.0.1-tgi1.1.0-gpu-py39-cu118-ubuntu20.04\",\n",
      "        \"Mode\": \"SingleModel\",\n",
      "        \"ModelDataSource\": {\n",
      "          \"S3DataSource\": {\n",
      "            \"S3Uri\": \"s3://jumpstart-private-cache-prod-us-east-1/meta-textgeneration/meta-textgeneration-llama-2-70b/artifacts/inference-prepack/v1.0.0/\",\n",
      "            \"S3DataType\": \"S3Prefix\",\n",
      "            \"CompressionType\": \"None\",\n",
      "            \"ModelAccessConfig\": {\n",
      "              \"AcceptEula\": true\n",
      "            }\n",
      "          }\n",
      "        },\n",
      "        \"Environment\": {\n",
      "          \"ENDPOINT_SERVER_TIMEOUT\": \"3600\",\n",
      "          \"HF_MODEL_ID\": \"/opt/ml/model\",\n",
      "          \"MAX_INPUT_LENGTH\": \"4095\",\n",
      "          \"MAX_TOTAL_TOKENS\": \"4096\",\n",
      "          \"MODEL_CACHE_ROOT\": \"/opt/ml/model\",\n",
      "          \"SAGEMAKER_ENV\": \"1\",\n",
      "          \"SAGEMAKER_MODEL_SERVER_WORKERS\": \"1\",\n",
      "          \"SAGEMAKER_PROGRAM\": \"inference.py\",\n",
      "          \"SM_NUM_GPUS\": \"8\"\n",
      "        }\n",
      "      },\n",
      "      \"ExecutionRoleArn\": \"arn:aws:iam::015469603702:role/service-role/SageMaker-ExecutionRole-20240111T084686\",\n",
      "      \"CreationTime\": \"2024-01-28 11:44:55.175000-05:00\",\n",
      "      \"ModelArn\": \"arn:aws:sagemaker:us-east-1:015469603702:model/meta-textgeneration-llama-2-70b-2024-01-28-16-44-54-412\",\n",
      "      \"EnableNetworkIsolation\": true,\n",
      "      \"DeploymentRecommendation\": {\n",
      "        \"RecommendationStatus\": \"COMPLETED\",\n",
      "        \"RealTimeInferenceRecommendations\": []\n",
      "      },\n",
      "      \"ResponseMetadata\": {\n",
      "        \"RequestId\": \"67128f79-1c14-48f6-98f4-27ff4e037662\",\n",
      "        \"HTTPStatusCode\": 200,\n",
      "        \"HTTPHeaders\": {\n",
      "          \"x-amzn-requestid\": \"67128f79-1c14-48f6-98f4-27ff4e037662\",\n",
      "          \"content-type\": \"application/x-amz-json-1.1\",\n",
      "          \"content-length\": \"1173\",\n",
      "          \"date\": \"Sun, 28 Jan 2024 16:56:59 GMT\"\n",
      "        },\n",
      "        \"RetryAttempts\": 0\n",
      "      }\n",
      "    }\n",
      "  },\n",
      "  {\n",
      "    \"experiment_name\": \"llama2-70b-chat-p4d.24xlarge-djl-inference-0.26.0-tensorrtllm0.7.1-cu122\",\n",
      "    \"endpoint\": {\n",
      "      \"EndpointName\": \"llama2-70bdjl-2024-01-28-16-44-54-820-endpoint\",\n",
      "      \"EndpointArn\": \"arn:aws:sagemaker:us-east-1:015469603702:endpoint/llama2-70bdjl-2024-01-28-16-44-54-820-endpoint\",\n",
      "      \"EndpointConfigName\": \"llama2-70bdjl-2024-01-28-16-44-54-820-config\",\n",
      "      \"ProductionVariants\": [\n",
      "        {\n",
      "          \"VariantName\": \"variant1\",\n",
      "          \"DeployedImages\": [\n",
      "            {\n",
      "              \"SpecifiedImage\": \"763104351884.dkr.ecr.us-east-1.amazonaws.com/djl-inference:0.26.0-tensorrtllm0.7.1-cu122\",\n",
      "              \"ResolvedImage\": \"763104351884.dkr.ecr.us-east-1.amazonaws.com/djl-inference@sha256:b38eb2b4ff0b49f65cefb2507c34b2669db86c5e427615c61136642710eda8ad\",\n",
      "              \"ResolutionTime\": \"2024-01-28 11:44:57.177000-05:00\"\n",
      "            }\n",
      "          ],\n",
      "          \"CurrentWeight\": 1.0,\n",
      "          \"DesiredWeight\": 1.0,\n",
      "          \"CurrentInstanceCount\": 1,\n",
      "          \"DesiredInstanceCount\": 1\n",
      "        }\n",
      "      ],\n",
      "      \"EndpointStatus\": \"InService\",\n",
      "      \"CreationTime\": \"2024-01-28 11:44:56.237000-05:00\",\n",
      "      \"LastModifiedTime\": \"2024-01-28 11:56:19.069000-05:00\",\n",
      "      \"ResponseMetadata\": {\n",
      "        \"RequestId\": \"62604717-079d-453c-b05e-60edfcf0ab79\",\n",
      "        \"HTTPStatusCode\": 200,\n",
      "        \"HTTPHeaders\": {\n",
      "          \"x-amzn-requestid\": \"62604717-079d-453c-b05e-60edfcf0ab79\",\n",
      "          \"content-type\": \"application/x-amz-json-1.1\",\n",
      "          \"content-length\": \"795\",\n",
      "          \"date\": \"Sun, 28 Jan 2024 16:56:58 GMT\"\n",
      "        },\n",
      "        \"RetryAttempts\": 0\n",
      "      }\n",
      "    },\n",
      "    \"endpoint_config\": {\n",
      "      \"EndpointConfigName\": \"llama2-70bdjl-2024-01-28-16-44-54-820-config\",\n",
      "      \"EndpointConfigArn\": \"arn:aws:sagemaker:us-east-1:015469603702:endpoint-config/llama2-70bdjl-2024-01-28-16-44-54-820-config\",\n",
      "      \"ProductionVariants\": [\n",
      "        {\n",
      "          \"VariantName\": \"variant1\",\n",
      "          \"ModelName\": \"llama2-70bdjl-2024-01-28-16-44-54-820\",\n",
      "          \"InitialInstanceCount\": 1,\n",
      "          \"InstanceType\": \"ml.p4d.24xlarge\",\n",
      "          \"InitialVariantWeight\": 1.0,\n",
      "          \"ModelDataDownloadTimeoutInSeconds\": 3600,\n",
      "          \"ContainerStartupHealthCheckTimeoutInSeconds\": 3600\n",
      "        }\n",
      "      ],\n",
      "      \"CreationTime\": \"2024-01-28 11:44:55.898000-05:00\",\n",
      "      \"EnableNetworkIsolation\": false,\n",
      "      \"ResponseMetadata\": {\n",
      "        \"RequestId\": \"6f5012d6-175b-43f5-80d5-8e8c2abebd9b\",\n",
      "        \"HTTPStatusCode\": 200,\n",
      "        \"HTTPHeaders\": {\n",
      "          \"x-amzn-requestid\": \"6f5012d6-175b-43f5-80d5-8e8c2abebd9b\",\n",
      "          \"content-type\": \"application/x-amz-json-1.1\",\n",
      "          \"content-length\": \"535\",\n",
      "          \"date\": \"Sun, 28 Jan 2024 16:56:58 GMT\"\n",
      "        },\n",
      "        \"RetryAttempts\": 0\n",
      "      }\n",
      "    },\n",
      "    \"model_config\": {\n",
      "      \"ModelName\": \"llama2-70bdjl-2024-01-28-16-44-54-820\",\n",
      "      \"PrimaryContainer\": {\n",
      "        \"Image\": \"763104351884.dkr.ecr.us-east-1.amazonaws.com/djl-inference:0.26.0-tensorrtllm0.7.1-cu122\",\n",
      "        \"Mode\": \"SingleModel\",\n",
      "        \"ModelDataUrl\": \"s3://sagemaker-us-east-1-015469603702/hf-large-model-djl/code_llama2/model.tar.gz\",\n",
      "        \"ModelDataSource\": {\n",
      "          \"S3DataSource\": {\n",
      "            \"S3Uri\": \"s3://sagemaker-us-east-1-015469603702/hf-large-model-djl/code_llama2/model.tar.gz\",\n",
      "            \"S3DataType\": \"S3Object\",\n",
      "            \"CompressionType\": \"Gzip\"\n",
      "          }\n",
      "        },\n",
      "        \"Environment\": {\n",
      "          \"HEALTH_CHECK_TIMOUT\": \"300\",\n",
      "          \"INSTANCE_COUNT\": \"1\",\n",
      "          \"MODEL_LOADING_TIMEOUT\": \"3600\",\n",
      "          \"NUMBER_OF_GPU\": \"8\"\n",
      "        }\n",
      "      },\n",
      "      \"ExecutionRoleArn\": \"arn:aws:iam::015469603702:role/service-role/SageMaker-ExecutionRole-20240111T084686\",\n",
      "      \"CreationTime\": \"2024-01-28 11:44:55.500000-05:00\",\n",
      "      \"ModelArn\": \"arn:aws:sagemaker:us-east-1:015469603702:model/llama2-70bdjl-2024-01-28-16-44-54-820\",\n",
      "      \"EnableNetworkIsolation\": false,\n",
      "      \"DeploymentRecommendation\": {\n",
      "        \"RecommendationStatus\": \"COMPLETED\",\n",
      "        \"RealTimeInferenceRecommendations\": [\n",
      "          {\n",
      "            \"RecommendationId\": \"llama2-70bdjl-2024-01-28-16-44-54-820/yZ0Hw4Cn\",\n",
      "            \"InstanceType\": \"ml.c6i.large\",\n",
      "            \"Environment\": {}\n",
      "          },\n",
      "          {\n",
      "            \"RecommendationId\": \"llama2-70bdjl-2024-01-28-16-44-54-820/tiwN7ltr\",\n",
      "            \"InstanceType\": \"ml.c6i.xlarge\",\n",
      "            \"Environment\": {}\n",
      "          },\n",
      "          {\n",
      "            \"RecommendationId\": \"llama2-70bdjl-2024-01-28-16-44-54-820/kiRrt6SX\",\n",
      "            \"InstanceType\": \"ml.c6i.2xlarge\",\n",
      "            \"Environment\": {}\n",
      "          }\n",
      "        ]\n",
      "      },\n",
      "      \"ResponseMetadata\": {\n",
      "        \"RequestId\": \"fb0055b1-9ffa-4359-800e-89dd654825cd\",\n",
      "        \"HTTPStatusCode\": 200,\n",
      "        \"HTTPHeaders\": {\n",
      "          \"x-amzn-requestid\": \"fb0055b1-9ffa-4359-800e-89dd654825cd\",\n",
      "          \"content-type\": \"application/x-amz-json-1.1\",\n",
      "          \"content-length\": \"1306\",\n",
      "          \"date\": \"Sun, 28 Jan 2024 16:56:58 GMT\"\n",
      "        },\n",
      "        \"RetryAttempts\": 0\n",
      "      }\n",
      "    }\n",
      "  }\n",
      "]\n"
     ]
    }
   ],
   "source": [
    "endpoint_info_str = read_from_s3(BUCKET_NAME, ENDPOINT_S3_PATH)\n",
    "logger.info(f\"endpoint from --> s3://{BUCKET_NAME}/{ENDPOINT_S3_PATH}\")\n",
    "\n",
    "# Process the retrieved content\n",
    "if endpoint_info_str:\n",
    "    try:\n",
    "        endpoint_info_list = json.loads(endpoint_info_str)\n",
    "        logger.info(f\"Found information for {len(endpoint_info_list)} endpoints in the respective S3 path\")\n",
    "        logger.info(json.dumps(endpoint_info_list, indent=2))\n",
    "    except json.JSONDecodeError as e:\n",
    "        logger.error(f\"Error parsing JSON from S3: {e}\")\n",
    "else:\n",
    "    logger.error(\"Error reading from S3 or no data found\")"
   ]
  },
  {
   "cell_type": "code",
   "execution_count": 9,
   "metadata": {
    "tags": []
   },
   "outputs": [
    {
     "name": "stderr",
     "output_type": "stream",
     "text": [
      "[2024-01-28 13:01:20,064] p81084 {1455142584.py:3} INFO - there are 2 deployed endpoint(s), endpoint_name_list->['llama-2-70b-g5-48xlarge-1706460294', 'llama2-70bdjl-2024-01-28-16-44-54-820-endpoint']\n"
     ]
    }
   ],
   "source": [
    "# List down the endpoint names that have been deployed\n",
    "endpoint_name_list = [e['endpoint']['EndpointName'] for e in endpoint_info_list]\n",
    "logger.info(f\"there are {len(endpoint_name_list)} deployed endpoint(s), endpoint_name_list->{endpoint_name_list}\")"
   ]
  },
  {
   "cell_type": "markdown",
   "metadata": {},
   "source": [
    "### Creating predictor objects from the deployed endpoints"
   ]
  },
  {
   "cell_type": "code",
   "execution_count": 10,
   "metadata": {
    "tags": []
   },
   "outputs": [
    {
     "name": "stderr",
     "output_type": "stream",
     "text": [
      "[2024-01-28 13:01:20,169] p81084 {3970465137.py:15} INFO - [<sagemaker.base_predictor.Predictor object at 0x28e56d0d0>, <sagemaker.base_predictor.Predictor object at 0x28e6dc810>]\n"
     ]
    }
   ],
   "source": [
    "# create predictor objects\n",
    "\n",
    "## create a sagemaker predictor for these endpoints\n",
    "def create_predictor(endpoint_name: str) -> Optional[sagemaker.base_predictor.Predictor]:\n",
    "    # Create a SageMaker Predictor object\n",
    "    predictor = Predictor(\n",
    "        endpoint_name=endpoint_name,\n",
    "        sagemaker_session=sagemaker.Session(),\n",
    "        serializer=JSONSerializer()\n",
    "    )\n",
    "    return predictor\n",
    "\n",
    "## Display the list of predictor objects that have been deployed ready for inferencing from\n",
    "predictor_list: List = [create_predictor(ep) for ep in endpoint_name_list]\n",
    "logger.info(predictor_list)"
   ]
  },
  {
   "cell_type": "markdown",
   "metadata": {},
   "source": [
    "### Creating functions to define and calculate metrics during the time of invocations"
   ]
  },
  {
   "cell_type": "code",
   "execution_count": 11,
   "metadata": {
    "tags": []
   },
   "outputs": [],
   "source": [
    "def safe_sum(l: List) -> Union[int, float]:\n",
    "    return sum(filter(None, l))\n",
    "\n",
    "def safe_div(n: Union[int, float], d: Union[int, float]) -> Optional[Union[int, float]]:\n",
    "    return n/d if d else None\n",
    "\n",
    "## Represents the function to calculate all of the metrics at the time of inference\n",
    "def calculate_metrics(responses, chunk, elapsed_async, experiment_name, concurrency, payload_file) -> Dict:\n",
    "    \n",
    "    ## calculate errors based on the completion status of the inference prompt\n",
    "    errors = [r for r in responses if r['completion'] is None]\n",
    "    \n",
    "    ## Calculate the difference as the successes \n",
    "    successes = len(chunk) - len(errors)\n",
    "    \n",
    "    ## Count all of the prompts token count during inference\n",
    "    all_prompts_token_count = safe_sum([r['prompt_tokens'] for r in responses])\n",
    "    prompt_token_throughput = round(all_prompts_token_count / elapsed_async, 2)\n",
    "    prompt_token_count_mean = safe_div(all_prompts_token_count, successes)\n",
    "    all_completions_token_count = safe_sum([r['completion_tokens'] for r in responses])\n",
    "    completion_token_throughput = round(all_completions_token_count / elapsed_async, 2)\n",
    "    completion_token_count_mean = safe_div(all_completions_token_count, successes)\n",
    "    transactions_per_second = round(successes / elapsed_async, 2)\n",
    "    transactions_per_minute = int(transactions_per_second * 60)\n",
    "    \n",
    "    ## calculate the latency mean utilizing the safe_sum function defined above\n",
    "    latency_mean = safe_div(safe_sum([r['latency'] for r in responses]), successes)\n",
    "    \n",
    "    ## Function returns all these values at the time of the invocations\n",
    "    return {\n",
    "        'experiment_name': experiment_name,\n",
    "        'concurrency': concurrency,\n",
    "        'payload_file': payload_file,\n",
    "        'errors': errors,\n",
    "        'successes': successes,\n",
    "        'error_rate': len(errors)/len(chunk),\n",
    "        'all_prompts_token_count': all_prompts_token_count,\n",
    "        'prompt_token_count_mean': prompt_token_count_mean,\n",
    "        'prompt_token_throughput': prompt_token_throughput,\n",
    "        'all_completions_token_count': all_completions_token_count,\n",
    "        'completion_token_count_mean': completion_token_count_mean,\n",
    "        'completion_token_throughput': completion_token_throughput,\n",
    "        'transactions': len(chunk),\n",
    "        'transactions_per_second': transactions_per_second,\n",
    "        'transactions_per_minute': transactions_per_minute,\n",
    "        'latency_mean': latency_mean\n",
    "    }"
   ]
  },
  {
   "cell_type": "markdown",
   "metadata": {},
   "source": [
    "### Set a blocker function and a series of asynchronous concurrent model prompt invocations"
   ]
  },
  {
   "cell_type": "code",
   "execution_count": 12,
   "metadata": {
    "tags": []
   },
   "outputs": [],
   "source": [
    "def set_metrics(endpoint_name=None,\n",
    "                    prompt=None,\n",
    "                    inference_params=None,\n",
    "                    completion=None,\n",
    "                    prompt_tokens=None,\n",
    "                    completion_tokens=None,\n",
    "                    latency=None) -> Dict:\n",
    "    return dict(endpoint_name=endpoint_name,                \n",
    "                prompt=prompt,\n",
    "                **inference_params,\n",
    "                completion=completion,\n",
    "                prompt_tokens=prompt_tokens,\n",
    "                completion_tokens=completion_tokens,\n",
    "                latency=latency)\n",
    "\n",
    "def get_inference(predictor, payload) -> Dict:\n",
    "    \n",
    "    smr_client = boto3.client(\"sagemaker-runtime\")\n",
    "    latency = 0\n",
    "\n",
    "    try:\n",
    "        prompt_tokens = count_tokens(payload['inputs'])\n",
    "        logger.info(f\"get_inference, endpoint={predictor.endpoint_name}, prompt_tokens={prompt_tokens}\")\n",
    "\n",
    "        # get inference\n",
    "        st = time.perf_counter()        \n",
    "        response = predictor.predict(payload)        \n",
    "        latency = time.perf_counter() - st\n",
    "\n",
    "        if isinstance(response, bytes):\n",
    "            response = response.decode('utf-8')\n",
    "        response_json = json.loads(response)\n",
    "        if isinstance(response_json, list):\n",
    "            response_json = response_json[0]\n",
    "\n",
    "        completion = response_json.get(\"generated_text\", \"\")\n",
    "        completion_tokens = count_tokens(completion)\n",
    "\n",
    "        # Set metrics and logging for both cases\n",
    "        response = set_metrics(predictor.endpoint_name,\n",
    "                               payload['inputs'],\n",
    "                               payload['parameters'],\n",
    "                               completion,\n",
    "                               prompt_tokens,\n",
    "                               completion_tokens,\n",
    "                               latency)\n",
    "        # logger.info(f\"get_inference, done, endpoint={predictor.endpoint_name}, response={json.dumps(response, indent=2)}, latency={latency:.2f}\")\n",
    "        logger.info(f\"get_inference, done, endpoint={predictor.endpoint_name}, completion_tokens={completion_tokens}, latency={latency:.2f}\")\n",
    "    except Exception as e:\n",
    "        print(f\"error occurred with {predictor.endpoint_name}, exception={str(e)}\")\n",
    "        response = set_metrics(predictor.endpoint_name,\n",
    "                               payload['inputs'],\n",
    "                               payload['parameters'],\n",
    "                               None,\n",
    "                               prompt_tokens,\n",
    "                               None,\n",
    "                               None)\n",
    "\n",
    "    return response"
   ]
  },
  {
   "cell_type": "markdown",
   "metadata": {},
   "source": [
    "### Setting a series of asynchronous functions to invoke and run inferences concurrently and asynchronously"
   ]
  },
  {
   "cell_type": "code",
   "execution_count": 13,
   "metadata": {
    "tags": []
   },
   "outputs": [],
   "source": [
    "## Represents a function to start invoking models in separate thread asynchronously for the blocker function\n",
    "async def async_get_inference(predictor, payload: Dict) -> Dict:\n",
    "    return await asyncio.to_thread(get_inference, predictor, payload)\n",
    "\n",
    "## Gathers all of the tasks and sets of the concurrent calling of the asychronous invocations\n",
    "async def async_get_all_inferences(predictor, payload_list: List) -> List:\n",
    "    return await asyncio.gather(*[async_get_inference(predictor, payload) for payload in payload_list])"
   ]
  },
  {
   "cell_type": "code",
   "execution_count": 14,
   "metadata": {
    "tags": []
   },
   "outputs": [],
   "source": [
    "## This function runs the asychronous function series above together for different experiments and concurrency levels.\n",
    "async def run_inferences(predictor: sagemaker.base_predictor.Predictor, chunk: List, experiment: Dict, concurrency: int, payload_file: str) -> Tuple[List, Dict]:\n",
    "    logger.info(f\"Processing chunk with concurrency={concurrency}\")\n",
    "    s = time.perf_counter()\n",
    "    responses = await async_get_all_inferences(predictor, chunk)\n",
    "    elapsed_async = time.perf_counter() - s\n",
    "\n",
    "    # Add more metadata about this experiment\n",
    "    for r in responses:\n",
    "        r['experiment_name'] = experiment['name']\n",
    "        r['concurrency'] = concurrency\n",
    "\n",
    "    metrics = calculate_metrics(responses, chunk, elapsed_async, experiment['name'], concurrency, payload_file)\n",
    "    return responses, metrics"
   ]
  },
  {
   "cell_type": "code",
   "execution_count": 15,
   "metadata": {
    "tags": []
   },
   "outputs": [],
   "source": [
    "## Function to create the predictors from the experiment we are iterating over\n",
    "def create_predictor_for_experiment(experiment: str, config: Dict, endpoint_info_list: List) -> Optional[sagemaker.base_predictor.Predictor]:\n",
    "\n",
    "    ## Here, we set the index and then iterate through the experiments\n",
    "    e_idx = config['experiments'].index(experiment) + 1\n",
    "\n",
    "    ## Iterate through the endpoint information to fetch the endpoint name\n",
    "    ep_info = [e for e in endpoint_info_list if e['experiment_name'] == experiment['name']]\n",
    "    if not ep_info:\n",
    "        logger.error(f\"endpoint for experiment={experiment['name']} not found, skipping\")\n",
    "        return None\n",
    "    ep_name = ep_info[0]['endpoint']['EndpointName']\n",
    "    logger.info(f\"experiment={e_idx}, name={experiment['name']}, ep_name={ep_name}\")\n",
    "\n",
    "    # create a predictor from each endpoint in experiments\n",
    "    return create_predictor(ep_name)"
   ]
  },
  {
   "cell_type": "code",
   "execution_count": 16,
   "metadata": {
    "tags": []
   },
   "outputs": [],
   "source": [
    "## Here, we will process combinations of concurrency levels, the payload files and then loop through the \n",
    "## different combinations to make payloads splitted in terms of the concurrency metric and how we can run \n",
    "## it and make inference\n",
    "\n",
    "def create_payload_dict(jline: str, experiment: Dict) -> Dict:\n",
    "    payload: Dict = json.loads(jline)\n",
    "    if experiment.get('remove_truncate', False) is True:\n",
    "        if payload['parameters'].get('truncate'):\n",
    "            del payload['parameters']['truncate']\n",
    "    return payload\n",
    "    \n",
    "    \n",
    "def create_combinations(experiment: Dict) -> List[Tuple]:\n",
    "    combinations_data = []\n",
    "\n",
    "    # Repeat for each concurrency level\n",
    "    combinations = list(itertools.product(experiment['concurrency_levels'], experiment['payload_files']))\n",
    "    logger.info(f\"there are {len(combinations)} combinations of {combinations} to run\")\n",
    "\n",
    "    for concurrency, payload_file in combinations:\n",
    "        # Construct the full S3 file path\n",
    "        s3_file_path = os.path.join(PROMPTS_DIR, payload_file)\n",
    "        logger.info(f\"s3 path where the payload files are being read from -> {s3_file_path}\")\n",
    "\n",
    "        # Read the payload file from S3\n",
    "        try:\n",
    "            response = s3_client.get_object(Bucket=BUCKET_NAME, Key=s3_file_path)\n",
    "            payload_file_content = response['Body'].read().decode('utf-8')\n",
    "\n",
    "            # Create a payload list by processing each line\n",
    "            payload_list = [create_payload_dict(jline, experiment) for jline in payload_file_content.splitlines()]\n",
    "            logger.info(f\"read from s3://{BUCKET_NAME}/{s3_file_path}, contains {len(payload_list)} lines\")\n",
    "\n",
    "        except Exception as e:\n",
    "            logger.error(f\"Error reading file from S3: {e}\")\n",
    "            continue\n",
    "\n",
    "        logger.info(f\"creating combinations for concurrency={concurrency}, payload_file={payload_file}, payload_list length={len(payload_list)}\")\n",
    "        \n",
    "        n = concurrency\n",
    "        \n",
    "        if len(payload_list) < n:\n",
    "            elements_to_add = n - len(payload_list)\n",
    "            element_to_replicate = payload_list[0]\n",
    "            # payload_list = payload_list.extend([element_to_replicate]*elements_to_add)\n",
    "            payload_list.extend([element_to_replicate]*elements_to_add)\n",
    "            \n",
    "        # Split the original list into sublists which contain the number of requests we want to send concurrently        \n",
    "        payload_list_splitted = [payload_list[i * n:(i + 1) * n] for i in range((len(payload_list) + n - 1) // n )]  \n",
    "        \n",
    "        for p in payload_list_splitted:\n",
    "            if len(p) < n:\n",
    "                elements_to_add = n - len(p)\n",
    "                element_to_replicate = p[0]\n",
    "                # p = p.extend([element_to_replicate]*elements_to_add)\n",
    "                p.extend([element_to_replicate]*elements_to_add)\n",
    "            \n",
    "\n",
    "        # Only keep lists that have at least concurrency number of elements\n",
    "        len_before = len(payload_list_splitted)\n",
    "        payload_list_splitted = [p for p in payload_list_splitted if len(p) == concurrency]\n",
    "        logger.info(f\"after only retaining chunks of length {concurrency}, we have {len(payload_list_splitted)} chunks, previously we had {len_before} chunks\")\n",
    "        combinations_data.append((concurrency, payload_file, payload_list_splitted))\n",
    "    logger.info(f\"there are {len(combinations)} for {experiment}\")\n",
    "    return combinations_data\n",
    "\n",
    "# process_combinations(experiment, predictor, PROMPTS_DIR)"
   ]
  },
  {
   "cell_type": "code",
   "execution_count": 17,
   "metadata": {
    "tags": []
   },
   "outputs": [
    {
     "name": "stderr",
     "output_type": "stream",
     "text": [
      "[2024-01-28 13:01:20,349] p81084 {663335596.py:13} INFO - experiment=1, name=llama2-70b-g5.48xlarge-huggingface-pytorch-tgi-inference-2.0.1-tgi1.1.0, ep_name=llama-2-70b-g5-48xlarge-1706460294\n",
      "[2024-01-28 13:01:20,361] p81084 {2873079850.py:18} INFO - there are 15 combinations of [(1, 'payload_en_1-500.jsonl'), (1, 'payload_en_500-1000.jsonl'), (1, 'payload_en_1000-2000.jsonl'), (2, 'payload_en_1-500.jsonl'), (2, 'payload_en_500-1000.jsonl'), (2, 'payload_en_1000-2000.jsonl'), (4, 'payload_en_1-500.jsonl'), (4, 'payload_en_500-1000.jsonl'), (4, 'payload_en_1000-2000.jsonl'), (6, 'payload_en_1-500.jsonl'), (6, 'payload_en_500-1000.jsonl'), (6, 'payload_en_1000-2000.jsonl'), (8, 'payload_en_1-500.jsonl'), (8, 'payload_en_500-1000.jsonl'), (8, 'payload_en_1000-2000.jsonl')] to run\n",
      "[2024-01-28 13:01:20,362] p81084 {2873079850.py:23} INFO - s3 path where the payload files are being read from -> data/prompts/payload_en_1-500.jsonl\n"
     ]
    },
    {
     "name": "stderr",
     "output_type": "stream",
     "text": [
      "[2024-01-28 13:01:20,749] p81084 {2873079850.py:32} INFO - read from s3://fmbt2039/data/prompts/payload_en_1-500.jsonl, contains 1 lines\n",
      "[2024-01-28 13:01:20,749] p81084 {2873079850.py:38} INFO - creating combinations for concurrency=1, payload_file=payload_en_1-500.jsonl, payload_list length=1\n",
      "[2024-01-28 13:01:20,749] p81084 {2873079850.py:62} INFO - after only retaining chunks of length 1, we have 1 chunks, previously we had 1 chunks\n",
      "[2024-01-28 13:01:20,749] p81084 {2873079850.py:23} INFO - s3 path where the payload files are being read from -> data/prompts/payload_en_500-1000.jsonl\n",
      "[2024-01-28 13:01:20,811] p81084 {2873079850.py:32} INFO - read from s3://fmbt2039/data/prompts/payload_en_500-1000.jsonl, contains 1 lines\n",
      "[2024-01-28 13:01:20,811] p81084 {2873079850.py:38} INFO - creating combinations for concurrency=1, payload_file=payload_en_500-1000.jsonl, payload_list length=1\n",
      "[2024-01-28 13:01:20,812] p81084 {2873079850.py:62} INFO - after only retaining chunks of length 1, we have 1 chunks, previously we had 1 chunks\n",
      "[2024-01-28 13:01:20,812] p81084 {2873079850.py:23} INFO - s3 path where the payload files are being read from -> data/prompts/payload_en_1000-2000.jsonl\n",
      "[2024-01-28 13:01:20,958] p81084 {2873079850.py:32} INFO - read from s3://fmbt2039/data/prompts/payload_en_1000-2000.jsonl, contains 15 lines\n",
      "[2024-01-28 13:01:20,958] p81084 {2873079850.py:38} INFO - creating combinations for concurrency=1, payload_file=payload_en_1000-2000.jsonl, payload_list length=15\n",
      "[2024-01-28 13:01:20,958] p81084 {2873079850.py:62} INFO - after only retaining chunks of length 1, we have 15 chunks, previously we had 15 chunks\n",
      "[2024-01-28 13:01:20,959] p81084 {2873079850.py:23} INFO - s3 path where the payload files are being read from -> data/prompts/payload_en_1-500.jsonl\n",
      "[2024-01-28 13:01:21,014] p81084 {2873079850.py:32} INFO - read from s3://fmbt2039/data/prompts/payload_en_1-500.jsonl, contains 1 lines\n",
      "[2024-01-28 13:01:21,014] p81084 {2873079850.py:38} INFO - creating combinations for concurrency=2, payload_file=payload_en_1-500.jsonl, payload_list length=1\n",
      "[2024-01-28 13:01:21,014] p81084 {2873079850.py:62} INFO - after only retaining chunks of length 2, we have 1 chunks, previously we had 1 chunks\n",
      "[2024-01-28 13:01:21,015] p81084 {2873079850.py:23} INFO - s3 path where the payload files are being read from -> data/prompts/payload_en_500-1000.jsonl\n",
      "[2024-01-28 13:01:21,047] p81084 {2873079850.py:32} INFO - read from s3://fmbt2039/data/prompts/payload_en_500-1000.jsonl, contains 1 lines\n",
      "[2024-01-28 13:01:21,049] p81084 {2873079850.py:38} INFO - creating combinations for concurrency=2, payload_file=payload_en_500-1000.jsonl, payload_list length=1\n",
      "[2024-01-28 13:01:21,050] p81084 {2873079850.py:62} INFO - after only retaining chunks of length 2, we have 1 chunks, previously we had 1 chunks\n",
      "[2024-01-28 13:01:21,051] p81084 {2873079850.py:23} INFO - s3 path where the payload files are being read from -> data/prompts/payload_en_1000-2000.jsonl\n",
      "[2024-01-28 13:01:21,175] p81084 {2873079850.py:32} INFO - read from s3://fmbt2039/data/prompts/payload_en_1000-2000.jsonl, contains 15 lines\n",
      "[2024-01-28 13:01:21,175] p81084 {2873079850.py:38} INFO - creating combinations for concurrency=2, payload_file=payload_en_1000-2000.jsonl, payload_list length=15\n",
      "[2024-01-28 13:01:21,175] p81084 {2873079850.py:62} INFO - after only retaining chunks of length 2, we have 8 chunks, previously we had 8 chunks\n",
      "[2024-01-28 13:01:21,175] p81084 {2873079850.py:23} INFO - s3 path where the payload files are being read from -> data/prompts/payload_en_1-500.jsonl\n",
      "[2024-01-28 13:01:21,229] p81084 {2873079850.py:32} INFO - read from s3://fmbt2039/data/prompts/payload_en_1-500.jsonl, contains 1 lines\n",
      "[2024-01-28 13:01:21,229] p81084 {2873079850.py:38} INFO - creating combinations for concurrency=4, payload_file=payload_en_1-500.jsonl, payload_list length=1\n",
      "[2024-01-28 13:01:21,229] p81084 {2873079850.py:62} INFO - after only retaining chunks of length 4, we have 1 chunks, previously we had 1 chunks\n",
      "[2024-01-28 13:01:21,230] p81084 {2873079850.py:23} INFO - s3 path where the payload files are being read from -> data/prompts/payload_en_500-1000.jsonl\n",
      "[2024-01-28 13:01:21,262] p81084 {2873079850.py:32} INFO - read from s3://fmbt2039/data/prompts/payload_en_500-1000.jsonl, contains 1 lines\n",
      "[2024-01-28 13:01:21,262] p81084 {2873079850.py:38} INFO - creating combinations for concurrency=4, payload_file=payload_en_500-1000.jsonl, payload_list length=1\n",
      "[2024-01-28 13:01:21,262] p81084 {2873079850.py:62} INFO - after only retaining chunks of length 4, we have 1 chunks, previously we had 1 chunks\n",
      "[2024-01-28 13:01:21,262] p81084 {2873079850.py:23} INFO - s3 path where the payload files are being read from -> data/prompts/payload_en_1000-2000.jsonl\n",
      "[2024-01-28 13:01:21,389] p81084 {2873079850.py:32} INFO - read from s3://fmbt2039/data/prompts/payload_en_1000-2000.jsonl, contains 15 lines\n",
      "[2024-01-28 13:01:21,390] p81084 {2873079850.py:38} INFO - creating combinations for concurrency=4, payload_file=payload_en_1000-2000.jsonl, payload_list length=15\n",
      "[2024-01-28 13:01:21,390] p81084 {2873079850.py:62} INFO - after only retaining chunks of length 4, we have 4 chunks, previously we had 4 chunks\n",
      "[2024-01-28 13:01:21,390] p81084 {2873079850.py:23} INFO - s3 path where the payload files are being read from -> data/prompts/payload_en_1-500.jsonl\n",
      "[2024-01-28 13:01:21,423] p81084 {2873079850.py:32} INFO - read from s3://fmbt2039/data/prompts/payload_en_1-500.jsonl, contains 1 lines\n",
      "[2024-01-28 13:01:21,424] p81084 {2873079850.py:38} INFO - creating combinations for concurrency=6, payload_file=payload_en_1-500.jsonl, payload_list length=1\n",
      "[2024-01-28 13:01:21,424] p81084 {2873079850.py:62} INFO - after only retaining chunks of length 6, we have 1 chunks, previously we had 1 chunks\n",
      "[2024-01-28 13:01:21,424] p81084 {2873079850.py:23} INFO - s3 path where the payload files are being read from -> data/prompts/payload_en_500-1000.jsonl\n",
      "[2024-01-28 13:01:21,456] p81084 {2873079850.py:32} INFO - read from s3://fmbt2039/data/prompts/payload_en_500-1000.jsonl, contains 1 lines\n",
      "[2024-01-28 13:01:21,456] p81084 {2873079850.py:38} INFO - creating combinations for concurrency=6, payload_file=payload_en_500-1000.jsonl, payload_list length=1\n",
      "[2024-01-28 13:01:21,456] p81084 {2873079850.py:62} INFO - after only retaining chunks of length 6, we have 1 chunks, previously we had 1 chunks\n",
      "[2024-01-28 13:01:21,457] p81084 {2873079850.py:23} INFO - s3 path where the payload files are being read from -> data/prompts/payload_en_1000-2000.jsonl\n",
      "[2024-01-28 13:01:21,530] p81084 {2873079850.py:32} INFO - read from s3://fmbt2039/data/prompts/payload_en_1000-2000.jsonl, contains 15 lines\n",
      "[2024-01-28 13:01:21,531] p81084 {2873079850.py:38} INFO - creating combinations for concurrency=6, payload_file=payload_en_1000-2000.jsonl, payload_list length=15\n",
      "[2024-01-28 13:01:21,531] p81084 {2873079850.py:62} INFO - after only retaining chunks of length 6, we have 3 chunks, previously we had 3 chunks\n",
      "[2024-01-28 13:01:21,531] p81084 {2873079850.py:23} INFO - s3 path where the payload files are being read from -> data/prompts/payload_en_1-500.jsonl\n",
      "[2024-01-28 13:01:21,563] p81084 {2873079850.py:32} INFO - read from s3://fmbt2039/data/prompts/payload_en_1-500.jsonl, contains 1 lines\n",
      "[2024-01-28 13:01:21,563] p81084 {2873079850.py:38} INFO - creating combinations for concurrency=8, payload_file=payload_en_1-500.jsonl, payload_list length=1\n",
      "[2024-01-28 13:01:21,563] p81084 {2873079850.py:62} INFO - after only retaining chunks of length 8, we have 1 chunks, previously we had 1 chunks\n",
      "[2024-01-28 13:01:21,564] p81084 {2873079850.py:23} INFO - s3 path where the payload files are being read from -> data/prompts/payload_en_500-1000.jsonl\n",
      "[2024-01-28 13:01:21,601] p81084 {2873079850.py:32} INFO - read from s3://fmbt2039/data/prompts/payload_en_500-1000.jsonl, contains 1 lines\n",
      "[2024-01-28 13:01:21,602] p81084 {2873079850.py:38} INFO - creating combinations for concurrency=8, payload_file=payload_en_500-1000.jsonl, payload_list length=1\n",
      "[2024-01-28 13:01:21,602] p81084 {2873079850.py:62} INFO - after only retaining chunks of length 8, we have 1 chunks, previously we had 1 chunks\n",
      "[2024-01-28 13:01:21,602] p81084 {2873079850.py:23} INFO - s3 path where the payload files are being read from -> data/prompts/payload_en_1000-2000.jsonl\n",
      "[2024-01-28 13:01:21,671] p81084 {2873079850.py:32} INFO - read from s3://fmbt2039/data/prompts/payload_en_1000-2000.jsonl, contains 15 lines\n",
      "[2024-01-28 13:01:21,672] p81084 {2873079850.py:38} INFO - creating combinations for concurrency=8, payload_file=payload_en_1000-2000.jsonl, payload_list length=15\n",
      "[2024-01-28 13:01:21,672] p81084 {2873079850.py:62} INFO - after only retaining chunks of length 8, we have 2 chunks, previously we had 2 chunks\n",
      "[2024-01-28 13:01:21,672] p81084 {2873079850.py:64} INFO - there are 15 for {'name': 'llama2-70b-g5.48xlarge-huggingface-pytorch-tgi-inference-2.0.1-tgi1.1.0', 'model_id': 'meta-textgeneration-llama-2-70b', 'model_version': '*', 'model_name': 'llama2-70b', 'ep_name': 'llama-2-70b-g5-48xlarge', 'instance_type': 'ml.g5.48xlarge', 'image_uri': '763104351884.dkr.ecr.us-east-1.amazonaws.com/huggingface-pytorch-tgi-inference:2.0.1-tgi1.1.0-gpu-py39-cu118-ubuntu20.04', 'deploy': True, 'instance_count': 1, 'deployment_script': 'jumpstart.py', 'payload_files': ['payload_en_1-500.jsonl', 'payload_en_500-1000.jsonl', 'payload_en_1000-2000.jsonl'], 'concurrency_levels': [1, 2, 4, 6, 8], 'accept_eula': True, 'env': {'SAGEMAKER_PROGRAM': 'inference.py', 'ENDPOINT_SERVER_TIMEOUT': '3600', 'MODEL_CACHE_ROOT': '/opt/ml/model', 'SAGEMAKER_ENV': '1', 'HF_MODEL_ID': '/opt/ml/model', 'MAX_INPUT_LENGTH': '4095', 'MAX_TOTAL_TOKENS': '4096', 'SM_NUM_GPUS': '8', 'SAGEMAKER_MODEL_SERVER_WORKERS': '1'}}\n",
      "[2024-01-28 13:01:21,673] p81084 {1751706209.py:26} INFO - e_idx=1/2, chunk_index=1/1\n",
      "[2024-01-28 13:01:21,673] p81084 {1750118496.py:3} INFO - Processing chunk with concurrency=1\n",
      "[2024-01-28 13:01:21,812] p81084 {701838357.py:23} INFO - get_inference, endpoint=llama-2-70b-g5-48xlarge-1706460294, prompt_tokens=304\n",
      "[2024-01-28 13:01:28,055] p81084 {701838357.py:48} INFO - get_inference, done, endpoint=llama-2-70b-g5-48xlarge-1706460294, completion_tokens=102, latency=6.24\n",
      "[2024-01-28 13:01:28,356] p81084 {1751706209.py:26} INFO - e_idx=1/2, chunk_index=1/1\n",
      "[2024-01-28 13:01:28,357] p81084 {1750118496.py:3} INFO - Processing chunk with concurrency=1\n",
      "[2024-01-28 13:01:28,363] p81084 {701838357.py:23} INFO - get_inference, endpoint=llama-2-70b-g5-48xlarge-1706460294, prompt_tokens=980\n"
     ]
    },
    {
     "name": "stdout",
     "output_type": "stream",
     "text": [
      "Data successfully written to s3://fmbt2039/data/metrics/llama2-70b-g5-p4d-trt-v1/per_chunk/1706464888.05659.json\n",
      "Data successfully written to s3://fmbt2039/data/metrics/llama2-70b-g5-p4d-trt-v1/per_inference/1706464888.198925.json\n"
     ]
    },
    {
     "name": "stderr",
     "output_type": "stream",
     "text": [
      "[2024-01-28 13:01:37,103] p81084 {701838357.py:48} INFO - get_inference, done, endpoint=llama-2-70b-g5-48xlarge-1706460294, completion_tokens=102, latency=8.74\n",
      "[2024-01-28 13:01:37,538] p81084 {1751706209.py:26} INFO - e_idx=1/2, chunk_index=1/15\n",
      "[2024-01-28 13:01:37,539] p81084 {1750118496.py:3} INFO - Processing chunk with concurrency=1\n"
     ]
    },
    {
     "name": "stdout",
     "output_type": "stream",
     "text": [
      "Data successfully written to s3://fmbt2039/data/metrics/llama2-70b-g5-p4d-trt-v1/per_chunk/1706464897.105091.json\n",
      "Data successfully written to s3://fmbt2039/data/metrics/llama2-70b-g5-p4d-trt-v1/per_inference/1706464897.348381.json\n"
     ]
    },
    {
     "name": "stderr",
     "output_type": "stream",
     "text": [
      "[2024-01-28 13:01:37,550] p81084 {701838357.py:23} INFO - get_inference, endpoint=llama-2-70b-g5-48xlarge-1706460294, prompt_tokens=1339\n",
      "[2024-01-28 13:01:47,782] p81084 {701838357.py:48} INFO - get_inference, done, endpoint=llama-2-70b-g5-48xlarge-1706460294, completion_tokens=102, latency=10.23\n",
      "[2024-01-28 13:01:48,239] p81084 {1751706209.py:26} INFO - e_idx=1/2, chunk_index=2/15\n",
      "[2024-01-28 13:01:48,240] p81084 {1750118496.py:3} INFO - Processing chunk with concurrency=1\n"
     ]
    },
    {
     "name": "stdout",
     "output_type": "stream",
     "text": [
      "Data successfully written to s3://fmbt2039/data/metrics/llama2-70b-g5-p4d-trt-v1/per_chunk/1706464907.784412.json\n",
      "Data successfully written to s3://fmbt2039/data/metrics/llama2-70b-g5-p4d-trt-v1/per_inference/1706464908.044031.json\n"
     ]
    },
    {
     "name": "stderr",
     "output_type": "stream",
     "text": [
      "[2024-01-28 13:01:48,253] p81084 {701838357.py:23} INFO - get_inference, endpoint=llama-2-70b-g5-48xlarge-1706460294, prompt_tokens=1932\n",
      "[2024-01-28 13:02:00,435] p81084 {701838357.py:48} INFO - get_inference, done, endpoint=llama-2-70b-g5-48xlarge-1706460294, completion_tokens=102, latency=12.18\n"
     ]
    },
    {
     "name": "stdout",
     "output_type": "stream",
     "text": [
      "Data successfully written to s3://fmbt2039/data/metrics/llama2-70b-g5-p4d-trt-v1/per_chunk/1706464920.437688.json\n"
     ]
    },
    {
     "name": "stderr",
     "output_type": "stream",
     "text": [
      "[2024-01-28 13:02:01,049] p81084 {1751706209.py:26} INFO - e_idx=1/2, chunk_index=3/15\n",
      "[2024-01-28 13:02:01,049] p81084 {1750118496.py:3} INFO - Processing chunk with concurrency=1\n",
      "[2024-01-28 13:02:01,056] p81084 {701838357.py:23} INFO - get_inference, endpoint=llama-2-70b-g5-48xlarge-1706460294, prompt_tokens=1154\n"
     ]
    },
    {
     "name": "stdout",
     "output_type": "stream",
     "text": [
      "Data successfully written to s3://fmbt2039/data/metrics/llama2-70b-g5-p4d-trt-v1/per_inference/1706464920.6733902.json\n"
     ]
    },
    {
     "name": "stderr",
     "output_type": "stream",
     "text": [
      "[2024-01-28 13:02:10,667] p81084 {701838357.py:48} INFO - get_inference, done, endpoint=llama-2-70b-g5-48xlarge-1706460294, completion_tokens=102, latency=9.61\n"
     ]
    },
    {
     "name": "stdout",
     "output_type": "stream",
     "text": [
      "Data successfully written to s3://fmbt2039/data/metrics/llama2-70b-g5-p4d-trt-v1/per_chunk/1706464930.671103.json\n"
     ]
    },
    {
     "name": "stderr",
     "output_type": "stream",
     "text": [
      "[2024-01-28 13:02:11,120] p81084 {1751706209.py:26} INFO - e_idx=1/2, chunk_index=4/15\n",
      "[2024-01-28 13:02:11,121] p81084 {1750118496.py:3} INFO - Processing chunk with concurrency=1\n",
      "[2024-01-28 13:02:11,131] p81084 {701838357.py:23} INFO - get_inference, endpoint=llama-2-70b-g5-48xlarge-1706460294, prompt_tokens=1646\n"
     ]
    },
    {
     "name": "stdout",
     "output_type": "stream",
     "text": [
      "Data successfully written to s3://fmbt2039/data/metrics/llama2-70b-g5-p4d-trt-v1/per_inference/1706464930.895474.json\n"
     ]
    },
    {
     "name": "stderr",
     "output_type": "stream",
     "text": [
      "[2024-01-28 13:02:23,021] p81084 {701838357.py:48} INFO - get_inference, done, endpoint=llama-2-70b-g5-48xlarge-1706460294, completion_tokens=102, latency=11.88\n"
     ]
    },
    {
     "name": "stdout",
     "output_type": "stream",
     "text": [
      "Data successfully written to s3://fmbt2039/data/metrics/llama2-70b-g5-p4d-trt-v1/per_chunk/1706464943.022659.json\n",
      "Data successfully written to s3://fmbt2039/data/metrics/llama2-70b-g5-p4d-trt-v1/per_inference/1706464943.226103.json\n"
     ]
    },
    {
     "name": "stderr",
     "output_type": "stream",
     "text": [
      "[2024-01-28 13:02:23,422] p81084 {1751706209.py:26} INFO - e_idx=1/2, chunk_index=5/15\n",
      "[2024-01-28 13:02:23,424] p81084 {1750118496.py:3} INFO - Processing chunk with concurrency=1\n",
      "[2024-01-28 13:02:23,432] p81084 {701838357.py:23} INFO - get_inference, endpoint=llama-2-70b-g5-48xlarge-1706460294, prompt_tokens=1397\n",
      "[2024-01-28 13:02:33,588] p81084 {701838357.py:48} INFO - get_inference, done, endpoint=llama-2-70b-g5-48xlarge-1706460294, completion_tokens=102, latency=10.15\n"
     ]
    },
    {
     "name": "stdout",
     "output_type": "stream",
     "text": [
      "Data successfully written to s3://fmbt2039/data/metrics/llama2-70b-g5-p4d-trt-v1/per_chunk/1706464953.590456.json\n"
     ]
    },
    {
     "name": "stderr",
     "output_type": "stream",
     "text": [
      "[2024-01-28 13:02:33,975] p81084 {1751706209.py:26} INFO - e_idx=1/2, chunk_index=6/15\n",
      "[2024-01-28 13:02:33,976] p81084 {1750118496.py:3} INFO - Processing chunk with concurrency=1\n",
      "[2024-01-28 13:02:33,989] p81084 {701838357.py:23} INFO - get_inference, endpoint=llama-2-70b-g5-48xlarge-1706460294, prompt_tokens=1746\n"
     ]
    },
    {
     "name": "stdout",
     "output_type": "stream",
     "text": [
      "Data successfully written to s3://fmbt2039/data/metrics/llama2-70b-g5-p4d-trt-v1/per_inference/1706464953.765274.json\n"
     ]
    },
    {
     "name": "stderr",
     "output_type": "stream",
     "text": [
      "[2024-01-28 13:02:45,473] p81084 {701838357.py:48} INFO - get_inference, done, endpoint=llama-2-70b-g5-48xlarge-1706460294, completion_tokens=102, latency=11.48\n"
     ]
    },
    {
     "name": "stdout",
     "output_type": "stream",
     "text": [
      "Data successfully written to s3://fmbt2039/data/metrics/llama2-70b-g5-p4d-trt-v1/per_chunk/1706464965.475822.json\n"
     ]
    },
    {
     "name": "stderr",
     "output_type": "stream",
     "text": [
      "[2024-01-28 13:02:45,916] p81084 {1751706209.py:26} INFO - e_idx=1/2, chunk_index=7/15\n",
      "[2024-01-28 13:02:45,917] p81084 {1750118496.py:3} INFO - Processing chunk with concurrency=1\n",
      "[2024-01-28 13:02:45,929] p81084 {701838357.py:23} INFO - get_inference, endpoint=llama-2-70b-g5-48xlarge-1706460294, prompt_tokens=1373\n"
     ]
    },
    {
     "name": "stdout",
     "output_type": "stream",
     "text": [
      "Data successfully written to s3://fmbt2039/data/metrics/llama2-70b-g5-p4d-trt-v1/per_inference/1706464965.6942232.json\n"
     ]
    },
    {
     "name": "stderr",
     "output_type": "stream",
     "text": [
      "[2024-01-28 13:02:55,946] p81084 {701838357.py:48} INFO - get_inference, done, endpoint=llama-2-70b-g5-48xlarge-1706460294, completion_tokens=102, latency=10.02\n",
      "[2024-01-28 13:02:56,281] p81084 {1751706209.py:26} INFO - e_idx=1/2, chunk_index=8/15\n",
      "[2024-01-28 13:02:56,281] p81084 {1750118496.py:3} INFO - Processing chunk with concurrency=1\n",
      "[2024-01-28 13:02:56,287] p81084 {701838357.py:23} INFO - get_inference, endpoint=llama-2-70b-g5-48xlarge-1706460294, prompt_tokens=1598\n"
     ]
    },
    {
     "name": "stdout",
     "output_type": "stream",
     "text": [
      "Data successfully written to s3://fmbt2039/data/metrics/llama2-70b-g5-p4d-trt-v1/per_chunk/1706464975.947553.json\n",
      "Data successfully written to s3://fmbt2039/data/metrics/llama2-70b-g5-p4d-trt-v1/per_inference/1706464976.0977159.json\n"
     ]
    },
    {
     "name": "stderr",
     "output_type": "stream",
     "text": [
      "[2024-01-28 13:03:07,534] p81084 {701838357.py:48} INFO - get_inference, done, endpoint=llama-2-70b-g5-48xlarge-1706460294, completion_tokens=102, latency=11.25\n",
      "[2024-01-28 13:03:07,910] p81084 {1751706209.py:26} INFO - e_idx=1/2, chunk_index=9/15\n",
      "[2024-01-28 13:03:07,910] p81084 {1750118496.py:3} INFO - Processing chunk with concurrency=1\n",
      "[2024-01-28 13:03:07,918] p81084 {701838357.py:23} INFO - get_inference, endpoint=llama-2-70b-g5-48xlarge-1706460294, prompt_tokens=1743\n"
     ]
    },
    {
     "name": "stdout",
     "output_type": "stream",
     "text": [
      "Data successfully written to s3://fmbt2039/data/metrics/llama2-70b-g5-p4d-trt-v1/per_chunk/1706464987.536264.json\n",
      "Data successfully written to s3://fmbt2039/data/metrics/llama2-70b-g5-p4d-trt-v1/per_inference/1706464987.724546.json\n"
     ]
    },
    {
     "name": "stderr",
     "output_type": "stream",
     "text": [
      "[2024-01-28 13:03:20,089] p81084 {701838357.py:48} INFO - get_inference, done, endpoint=llama-2-70b-g5-48xlarge-1706460294, completion_tokens=102, latency=12.17\n",
      "[2024-01-28 13:03:20,450] p81084 {1751706209.py:26} INFO - e_idx=1/2, chunk_index=10/15\n",
      "[2024-01-28 13:03:20,451] p81084 {1750118496.py:3} INFO - Processing chunk with concurrency=1\n",
      "[2024-01-28 13:03:20,459] p81084 {701838357.py:23} INFO - get_inference, endpoint=llama-2-70b-g5-48xlarge-1706460294, prompt_tokens=1539\n"
     ]
    },
    {
     "name": "stdout",
     "output_type": "stream",
     "text": [
      "Data successfully written to s3://fmbt2039/data/metrics/llama2-70b-g5-p4d-trt-v1/per_chunk/1706465000.091228.json\n",
      "Data successfully written to s3://fmbt2039/data/metrics/llama2-70b-g5-p4d-trt-v1/per_inference/1706465000.293539.json\n"
     ]
    },
    {
     "name": "stderr",
     "output_type": "stream",
     "text": [
      "[2024-01-28 13:03:31,126] p81084 {701838357.py:48} INFO - get_inference, done, endpoint=llama-2-70b-g5-48xlarge-1706460294, completion_tokens=102, latency=10.67\n",
      "[2024-01-28 13:03:31,526] p81084 {1751706209.py:26} INFO - e_idx=1/2, chunk_index=11/15\n",
      "[2024-01-28 13:03:31,528] p81084 {1750118496.py:3} INFO - Processing chunk with concurrency=1\n",
      "[2024-01-28 13:03:31,542] p81084 {701838357.py:23} INFO - get_inference, endpoint=llama-2-70b-g5-48xlarge-1706460294, prompt_tokens=1695\n"
     ]
    },
    {
     "name": "stdout",
     "output_type": "stream",
     "text": [
      "Data successfully written to s3://fmbt2039/data/metrics/llama2-70b-g5-p4d-trt-v1/per_chunk/1706465011.131959.json\n",
      "Data successfully written to s3://fmbt2039/data/metrics/llama2-70b-g5-p4d-trt-v1/per_inference/1706465011.349107.json\n"
     ]
    },
    {
     "name": "stderr",
     "output_type": "stream",
     "text": [
      "[2024-01-28 13:03:43,357] p81084 {701838357.py:48} INFO - get_inference, done, endpoint=llama-2-70b-g5-48xlarge-1706460294, completion_tokens=102, latency=11.81\n",
      "[2024-01-28 13:03:43,730] p81084 {1751706209.py:26} INFO - e_idx=1/2, chunk_index=12/15\n",
      "[2024-01-28 13:03:43,730] p81084 {1750118496.py:3} INFO - Processing chunk with concurrency=1\n"
     ]
    },
    {
     "name": "stdout",
     "output_type": "stream",
     "text": [
      "Data successfully written to s3://fmbt2039/data/metrics/llama2-70b-g5-p4d-trt-v1/per_chunk/1706465023.361336.json\n",
      "Data successfully written to s3://fmbt2039/data/metrics/llama2-70b-g5-p4d-trt-v1/per_inference/1706465023.5431192.json\n"
     ]
    },
    {
     "name": "stderr",
     "output_type": "stream",
     "text": [
      "[2024-01-28 13:03:43,747] p81084 {701838357.py:23} INFO - get_inference, endpoint=llama-2-70b-g5-48xlarge-1706460294, prompt_tokens=1421\n",
      "[2024-01-28 13:03:54,319] p81084 {701838357.py:48} INFO - get_inference, done, endpoint=llama-2-70b-g5-48xlarge-1706460294, completion_tokens=102, latency=10.57\n"
     ]
    },
    {
     "name": "stdout",
     "output_type": "stream",
     "text": [
      "Data successfully written to s3://fmbt2039/data/metrics/llama2-70b-g5-p4d-trt-v1/per_chunk/1706465034.32158.json\n"
     ]
    },
    {
     "name": "stderr",
     "output_type": "stream",
     "text": [
      "[2024-01-28 13:03:54,738] p81084 {1751706209.py:26} INFO - e_idx=1/2, chunk_index=13/15\n",
      "[2024-01-28 13:03:54,738] p81084 {1750118496.py:3} INFO - Processing chunk with concurrency=1\n",
      "[2024-01-28 13:03:54,754] p81084 {701838357.py:23} INFO - get_inference, endpoint=llama-2-70b-g5-48xlarge-1706460294, prompt_tokens=1918\n"
     ]
    },
    {
     "name": "stdout",
     "output_type": "stream",
     "text": [
      "Data successfully written to s3://fmbt2039/data/metrics/llama2-70b-g5-p4d-trt-v1/per_inference/1706465034.528088.json\n"
     ]
    },
    {
     "name": "stderr",
     "output_type": "stream",
     "text": [
      "[2024-01-28 13:04:07,149] p81084 {701838357.py:48} INFO - get_inference, done, endpoint=llama-2-70b-g5-48xlarge-1706460294, completion_tokens=102, latency=12.39\n"
     ]
    },
    {
     "name": "stdout",
     "output_type": "stream",
     "text": [
      "Data successfully written to s3://fmbt2039/data/metrics/llama2-70b-g5-p4d-trt-v1/per_chunk/1706465047.153474.json\n"
     ]
    },
    {
     "name": "stderr",
     "output_type": "stream",
     "text": [
      "[2024-01-28 13:04:08,189] p81084 {1751706209.py:26} INFO - e_idx=1/2, chunk_index=14/15\n",
      "[2024-01-28 13:04:08,190] p81084 {1750118496.py:3} INFO - Processing chunk with concurrency=1\n",
      "[2024-01-28 13:04:08,212] p81084 {701838357.py:23} INFO - get_inference, endpoint=llama-2-70b-g5-48xlarge-1706460294, prompt_tokens=1910\n"
     ]
    },
    {
     "name": "stdout",
     "output_type": "stream",
     "text": [
      "Data successfully written to s3://fmbt2039/data/metrics/llama2-70b-g5-p4d-trt-v1/per_inference/1706465047.6273391.json\n"
     ]
    },
    {
     "name": "stderr",
     "output_type": "stream",
     "text": [
      "[2024-01-28 13:04:20,131] p81084 {701838357.py:48} INFO - get_inference, done, endpoint=llama-2-70b-g5-48xlarge-1706460294, completion_tokens=102, latency=11.92\n"
     ]
    },
    {
     "name": "stdout",
     "output_type": "stream",
     "text": [
      "Data successfully written to s3://fmbt2039/data/metrics/llama2-70b-g5-p4d-trt-v1/per_chunk/1706465060.133823.json\n"
     ]
    },
    {
     "name": "stderr",
     "output_type": "stream",
     "text": [
      "[2024-01-28 13:04:21,245] p81084 {1751706209.py:26} INFO - e_idx=1/2, chunk_index=15/15\n",
      "[2024-01-28 13:04:21,246] p81084 {1750118496.py:3} INFO - Processing chunk with concurrency=1\n",
      "[2024-01-28 13:04:21,264] p81084 {701838357.py:23} INFO - get_inference, endpoint=llama-2-70b-g5-48xlarge-1706460294, prompt_tokens=1939\n"
     ]
    },
    {
     "name": "stdout",
     "output_type": "stream",
     "text": [
      "Data successfully written to s3://fmbt2039/data/metrics/llama2-70b-g5-p4d-trt-v1/per_inference/1706465060.553612.json\n"
     ]
    },
    {
     "name": "stderr",
     "output_type": "stream",
     "text": [
      "[2024-01-28 13:04:34,369] p81084 {701838357.py:48} INFO - get_inference, done, endpoint=llama-2-70b-g5-48xlarge-1706460294, completion_tokens=102, latency=13.10\n"
     ]
    },
    {
     "name": "stdout",
     "output_type": "stream",
     "text": [
      "Data successfully written to s3://fmbt2039/data/metrics/llama2-70b-g5-p4d-trt-v1/per_chunk/1706465074.371541.json\n"
     ]
    },
    {
     "name": "stderr",
     "output_type": "stream",
     "text": [
      "[2024-01-28 13:04:35,923] p81084 {1751706209.py:26} INFO - e_idx=1/2, chunk_index=1/1\n",
      "[2024-01-28 13:04:35,924] p81084 {1750118496.py:3} INFO - Processing chunk with concurrency=2\n",
      "[2024-01-28 13:04:35,933] p81084 {701838357.py:23} INFO - get_inference, endpoint=llama-2-70b-g5-48xlarge-1706460294, prompt_tokens=304\n",
      "[2024-01-28 13:04:35,934] p81084 {701838357.py:23} INFO - get_inference, endpoint=llama-2-70b-g5-48xlarge-1706460294, prompt_tokens=304\n"
     ]
    },
    {
     "name": "stdout",
     "output_type": "stream",
     "text": [
      "Data successfully written to s3://fmbt2039/data/metrics/llama2-70b-g5-p4d-trt-v1/per_inference/1706465075.095063.json\n"
     ]
    },
    {
     "name": "stderr",
     "output_type": "stream",
     "text": [
      "[2024-01-28 13:04:43,313] p81084 {701838357.py:48} INFO - get_inference, done, endpoint=llama-2-70b-g5-48xlarge-1706460294, completion_tokens=102, latency=7.38\n",
      "[2024-01-28 13:04:43,314] p81084 {701838357.py:48} INFO - get_inference, done, endpoint=llama-2-70b-g5-48xlarge-1706460294, completion_tokens=102, latency=7.38\n"
     ]
    },
    {
     "name": "stdout",
     "output_type": "stream",
     "text": [
      "Data successfully written to s3://fmbt2039/data/metrics/llama2-70b-g5-p4d-trt-v1/per_chunk/1706465083.320153.json\n"
     ]
    },
    {
     "name": "stderr",
     "output_type": "stream",
     "text": [
      "[2024-01-28 13:04:44,375] p81084 {1751706209.py:26} INFO - e_idx=1/2, chunk_index=1/1\n",
      "[2024-01-28 13:04:44,377] p81084 {1750118496.py:3} INFO - Processing chunk with concurrency=2\n"
     ]
    },
    {
     "name": "stdout",
     "output_type": "stream",
     "text": [
      "Data successfully written to s3://fmbt2039/data/metrics/llama2-70b-g5-p4d-trt-v1/per_inference/1706465083.929153.json\n",
      "Data successfully written to s3://fmbt2039/data/metrics/llama2-70b-g5-p4d-trt-v1/per_inference/1706465084.2040808.json\n"
     ]
    },
    {
     "name": "stderr",
     "output_type": "stream",
     "text": [
      "[2024-01-28 13:04:44,396] p81084 {701838357.py:23} INFO - get_inference, endpoint=llama-2-70b-g5-48xlarge-1706460294, prompt_tokens=980\n",
      "[2024-01-28 13:04:44,397] p81084 {701838357.py:23} INFO - get_inference, endpoint=llama-2-70b-g5-48xlarge-1706460294, prompt_tokens=980\n",
      "[2024-01-28 13:04:56,201] p81084 {701838357.py:48} INFO - get_inference, done, endpoint=llama-2-70b-g5-48xlarge-1706460294, completion_tokens=102, latency=11.80\n",
      "[2024-01-28 13:04:56,202] p81084 {701838357.py:48} INFO - get_inference, done, endpoint=llama-2-70b-g5-48xlarge-1706460294, completion_tokens=102, latency=11.80\n"
     ]
    },
    {
     "name": "stdout",
     "output_type": "stream",
     "text": [
      "Data successfully written to s3://fmbt2039/data/metrics/llama2-70b-g5-p4d-trt-v1/per_chunk/1706465096.2078772.json\n",
      "Data successfully written to s3://fmbt2039/data/metrics/llama2-70b-g5-p4d-trt-v1/per_inference/1706465096.453414.json\n"
     ]
    },
    {
     "name": "stderr",
     "output_type": "stream",
     "text": [
      "[2024-01-28 13:04:56,843] p81084 {1751706209.py:26} INFO - e_idx=1/2, chunk_index=1/8\n",
      "[2024-01-28 13:04:56,845] p81084 {1750118496.py:3} INFO - Processing chunk with concurrency=2\n",
      "[2024-01-28 13:04:56,866] p81084 {701838357.py:23} INFO - get_inference, endpoint=llama-2-70b-g5-48xlarge-1706460294, prompt_tokens=1339\n",
      "[2024-01-28 13:04:56,867] p81084 {701838357.py:23} INFO - get_inference, endpoint=llama-2-70b-g5-48xlarge-1706460294, prompt_tokens=1932\n"
     ]
    },
    {
     "name": "stdout",
     "output_type": "stream",
     "text": [
      "Data successfully written to s3://fmbt2039/data/metrics/llama2-70b-g5-p4d-trt-v1/per_inference/1706465096.638551.json\n"
     ]
    },
    {
     "name": "stderr",
     "output_type": "stream",
     "text": [
      "[2024-01-28 13:05:13,555] p81084 {701838357.py:48} INFO - get_inference, done, endpoint=llama-2-70b-g5-48xlarge-1706460294, completion_tokens=102, latency=16.69\n",
      "[2024-01-28 13:05:13,559] p81084 {701838357.py:48} INFO - get_inference, done, endpoint=llama-2-70b-g5-48xlarge-1706460294, completion_tokens=102, latency=16.69\n"
     ]
    },
    {
     "name": "stdout",
     "output_type": "stream",
     "text": [
      "Data successfully written to s3://fmbt2039/data/metrics/llama2-70b-g5-p4d-trt-v1/per_chunk/1706465113.5635579.json\n",
      "Data successfully written to s3://fmbt2039/data/metrics/llama2-70b-g5-p4d-trt-v1/per_inference/1706465113.791292.json\n"
     ]
    },
    {
     "name": "stderr",
     "output_type": "stream",
     "text": [
      "[2024-01-28 13:05:14,263] p81084 {1751706209.py:26} INFO - e_idx=1/2, chunk_index=2/8\n",
      "[2024-01-28 13:05:14,264] p81084 {1750118496.py:3} INFO - Processing chunk with concurrency=2\n",
      "[2024-01-28 13:05:14,278] p81084 {701838357.py:23} INFO - get_inference, endpoint=llama-2-70b-g5-48xlarge-1706460294, prompt_tokens=1646\n",
      "[2024-01-28 13:05:14,278] p81084 {701838357.py:23} INFO - get_inference, endpoint=llama-2-70b-g5-48xlarge-1706460294, prompt_tokens=1154\n"
     ]
    },
    {
     "name": "stdout",
     "output_type": "stream",
     "text": [
      "Data successfully written to s3://fmbt2039/data/metrics/llama2-70b-g5-p4d-trt-v1/per_inference/1706465114.049013.json\n"
     ]
    },
    {
     "name": "stderr",
     "output_type": "stream",
     "text": [
      "[2024-01-28 13:05:29,794] p81084 {701838357.py:48} INFO - get_inference, done, endpoint=llama-2-70b-g5-48xlarge-1706460294, completion_tokens=102, latency=15.51\n",
      "[2024-01-28 13:05:29,796] p81084 {701838357.py:48} INFO - get_inference, done, endpoint=llama-2-70b-g5-48xlarge-1706460294, completion_tokens=102, latency=15.52\n"
     ]
    },
    {
     "name": "stdout",
     "output_type": "stream",
     "text": [
      "Data successfully written to s3://fmbt2039/data/metrics/llama2-70b-g5-p4d-trt-v1/per_chunk/1706465129.798502.json\n",
      "Data successfully written to s3://fmbt2039/data/metrics/llama2-70b-g5-p4d-trt-v1/per_inference/1706465130.03133.json\n"
     ]
    },
    {
     "name": "stderr",
     "output_type": "stream",
     "text": [
      "[2024-01-28 13:05:30,457] p81084 {1751706209.py:26} INFO - e_idx=1/2, chunk_index=3/8\n",
      "[2024-01-28 13:05:30,458] p81084 {1750118496.py:3} INFO - Processing chunk with concurrency=2\n",
      "[2024-01-28 13:05:30,473] p81084 {701838357.py:23} INFO - get_inference, endpoint=llama-2-70b-g5-48xlarge-1706460294, prompt_tokens=1397\n",
      "[2024-01-28 13:05:30,477] p81084 {701838357.py:23} INFO - get_inference, endpoint=llama-2-70b-g5-48xlarge-1706460294, prompt_tokens=1746\n"
     ]
    },
    {
     "name": "stdout",
     "output_type": "stream",
     "text": [
      "Data successfully written to s3://fmbt2039/data/metrics/llama2-70b-g5-p4d-trt-v1/per_inference/1706465130.240483.json\n"
     ]
    },
    {
     "name": "stderr",
     "output_type": "stream",
     "text": [
      "[2024-01-28 13:05:46,604] p81084 {701838357.py:48} INFO - get_inference, done, endpoint=llama-2-70b-g5-48xlarge-1706460294, completion_tokens=102, latency=16.12\n",
      "[2024-01-28 13:05:46,606] p81084 {701838357.py:48} INFO - get_inference, done, endpoint=llama-2-70b-g5-48xlarge-1706460294, completion_tokens=102, latency=16.13\n"
     ]
    },
    {
     "name": "stdout",
     "output_type": "stream",
     "text": [
      "Data successfully written to s3://fmbt2039/data/metrics/llama2-70b-g5-p4d-trt-v1/per_chunk/1706465146.608796.json\n",
      "Data successfully written to s3://fmbt2039/data/metrics/llama2-70b-g5-p4d-trt-v1/per_inference/1706465146.82352.json\n"
     ]
    },
    {
     "name": "stderr",
     "output_type": "stream",
     "text": [
      "[2024-01-28 13:05:47,274] p81084 {1751706209.py:26} INFO - e_idx=1/2, chunk_index=4/8\n",
      "[2024-01-28 13:05:47,275] p81084 {1750118496.py:3} INFO - Processing chunk with concurrency=2\n",
      "[2024-01-28 13:05:47,290] p81084 {701838357.py:23} INFO - get_inference, endpoint=llama-2-70b-g5-48xlarge-1706460294, prompt_tokens=1373\n",
      "[2024-01-28 13:05:47,292] p81084 {701838357.py:23} INFO - get_inference, endpoint=llama-2-70b-g5-48xlarge-1706460294, prompt_tokens=1598\n"
     ]
    },
    {
     "name": "stdout",
     "output_type": "stream",
     "text": [
      "Data successfully written to s3://fmbt2039/data/metrics/llama2-70b-g5-p4d-trt-v1/per_inference/1706465147.036468.json\n"
     ]
    },
    {
     "name": "stderr",
     "output_type": "stream",
     "text": [
      "[2024-01-28 13:06:02,663] p81084 {701838357.py:48} INFO - get_inference, done, endpoint=llama-2-70b-g5-48xlarge-1706460294, completion_tokens=102, latency=15.37\n",
      "[2024-01-28 13:06:02,663] p81084 {701838357.py:48} INFO - get_inference, done, endpoint=llama-2-70b-g5-48xlarge-1706460294, completion_tokens=102, latency=15.37\n"
     ]
    },
    {
     "name": "stdout",
     "output_type": "stream",
     "text": [
      "Data successfully written to s3://fmbt2039/data/metrics/llama2-70b-g5-p4d-trt-v1/per_chunk/1706465162.668.json\n",
      "Data successfully written to s3://fmbt2039/data/metrics/llama2-70b-g5-p4d-trt-v1/per_inference/1706465162.8834538.json\n"
     ]
    },
    {
     "name": "stderr",
     "output_type": "stream",
     "text": [
      "[2024-01-28 13:06:03,371] p81084 {1751706209.py:26} INFO - e_idx=1/2, chunk_index=5/8\n",
      "[2024-01-28 13:06:03,372] p81084 {1750118496.py:3} INFO - Processing chunk with concurrency=2\n",
      "[2024-01-28 13:06:03,387] p81084 {701838357.py:23} INFO - get_inference, endpoint=llama-2-70b-g5-48xlarge-1706460294, prompt_tokens=1539\n",
      "[2024-01-28 13:06:03,390] p81084 {701838357.py:23} INFO - get_inference, endpoint=llama-2-70b-g5-48xlarge-1706460294, prompt_tokens=1743\n"
     ]
    },
    {
     "name": "stdout",
     "output_type": "stream",
     "text": [
      "Data successfully written to s3://fmbt2039/data/metrics/llama2-70b-g5-p4d-trt-v1/per_inference/1706465163.0971022.json\n"
     ]
    },
    {
     "name": "stderr",
     "output_type": "stream",
     "text": [
      "[2024-01-28 13:06:20,576] p81084 {701838357.py:48} INFO - get_inference, done, endpoint=llama-2-70b-g5-48xlarge-1706460294, completion_tokens=102, latency=17.18\n",
      "[2024-01-28 13:06:20,576] p81084 {701838357.py:48} INFO - get_inference, done, endpoint=llama-2-70b-g5-48xlarge-1706460294, completion_tokens=102, latency=17.19\n"
     ]
    },
    {
     "name": "stdout",
     "output_type": "stream",
     "text": [
      "Data successfully written to s3://fmbt2039/data/metrics/llama2-70b-g5-p4d-trt-v1/per_chunk/1706465180.5939388.json\n",
      "Data successfully written to s3://fmbt2039/data/metrics/llama2-70b-g5-p4d-trt-v1/per_inference/1706465180.792641.json\n"
     ]
    },
    {
     "name": "stderr",
     "output_type": "stream",
     "text": [
      "[2024-01-28 13:06:21,430] p81084 {1751706209.py:26} INFO - e_idx=1/2, chunk_index=6/8\n",
      "[2024-01-28 13:06:21,430] p81084 {1750118496.py:3} INFO - Processing chunk with concurrency=2\n",
      "[2024-01-28 13:06:21,447] p81084 {701838357.py:23} INFO - get_inference, endpoint=llama-2-70b-g5-48xlarge-1706460294, prompt_tokens=1695\n",
      "[2024-01-28 13:06:21,447] p81084 {701838357.py:23} INFO - get_inference, endpoint=llama-2-70b-g5-48xlarge-1706460294, prompt_tokens=1421\n"
     ]
    },
    {
     "name": "stdout",
     "output_type": "stream",
     "text": [
      "Data successfully written to s3://fmbt2039/data/metrics/llama2-70b-g5-p4d-trt-v1/per_inference/1706465181.181718.json\n"
     ]
    },
    {
     "name": "stderr",
     "output_type": "stream",
     "text": [
      "[2024-01-28 13:06:38,126] p81084 {701838357.py:48} INFO - get_inference, done, endpoint=llama-2-70b-g5-48xlarge-1706460294, completion_tokens=102, latency=16.68\n",
      "[2024-01-28 13:06:38,126] p81084 {701838357.py:48} INFO - get_inference, done, endpoint=llama-2-70b-g5-48xlarge-1706460294, completion_tokens=102, latency=16.68\n"
     ]
    },
    {
     "name": "stdout",
     "output_type": "stream",
     "text": [
      "Data successfully written to s3://fmbt2039/data/metrics/llama2-70b-g5-p4d-trt-v1/per_chunk/1706465198.1315598.json\n",
      "Data successfully written to s3://fmbt2039/data/metrics/llama2-70b-g5-p4d-trt-v1/per_inference/1706465198.344.json\n"
     ]
    },
    {
     "name": "stderr",
     "output_type": "stream",
     "text": [
      "[2024-01-28 13:06:38,783] p81084 {1751706209.py:26} INFO - e_idx=1/2, chunk_index=7/8\n",
      "[2024-01-28 13:06:38,785] p81084 {1750118496.py:3} INFO - Processing chunk with concurrency=2\n",
      "[2024-01-28 13:06:38,804] p81084 {701838357.py:23} INFO - get_inference, endpoint=llama-2-70b-g5-48xlarge-1706460294, prompt_tokens=1918\n",
      "[2024-01-28 13:06:38,804] p81084 {701838357.py:23} INFO - get_inference, endpoint=llama-2-70b-g5-48xlarge-1706460294, prompt_tokens=1910\n"
     ]
    },
    {
     "name": "stdout",
     "output_type": "stream",
     "text": [
      "Data successfully written to s3://fmbt2039/data/metrics/llama2-70b-g5-p4d-trt-v1/per_inference/1706465198.564639.json\n"
     ]
    },
    {
     "name": "stderr",
     "output_type": "stream",
     "text": [
      "[2024-01-28 13:06:57,183] p81084 {701838357.py:48} INFO - get_inference, done, endpoint=llama-2-70b-g5-48xlarge-1706460294, completion_tokens=102, latency=18.38\n",
      "[2024-01-28 13:06:57,183] p81084 {701838357.py:48} INFO - get_inference, done, endpoint=llama-2-70b-g5-48xlarge-1706460294, completion_tokens=102, latency=18.37\n"
     ]
    },
    {
     "name": "stdout",
     "output_type": "stream",
     "text": [
      "Data successfully written to s3://fmbt2039/data/metrics/llama2-70b-g5-p4d-trt-v1/per_chunk/1706465217.1888099.json\n",
      "Data successfully written to s3://fmbt2039/data/metrics/llama2-70b-g5-p4d-trt-v1/per_inference/1706465217.420177.json\n"
     ]
    },
    {
     "name": "stderr",
     "output_type": "stream",
     "text": [
      "[2024-01-28 13:06:57,875] p81084 {1751706209.py:26} INFO - e_idx=1/2, chunk_index=8/8\n",
      "[2024-01-28 13:06:57,876] p81084 {1750118496.py:3} INFO - Processing chunk with concurrency=2\n",
      "[2024-01-28 13:06:57,894] p81084 {701838357.py:23} INFO - get_inference, endpoint=llama-2-70b-g5-48xlarge-1706460294, prompt_tokens=1939\n",
      "[2024-01-28 13:06:57,896] p81084 {701838357.py:23} INFO - get_inference, endpoint=llama-2-70b-g5-48xlarge-1706460294, prompt_tokens=1939\n"
     ]
    },
    {
     "name": "stdout",
     "output_type": "stream",
     "text": [
      "Data successfully written to s3://fmbt2039/data/metrics/llama2-70b-g5-p4d-trt-v1/per_inference/1706465217.648597.json\n"
     ]
    },
    {
     "name": "stderr",
     "output_type": "stream",
     "text": [
      "[2024-01-28 13:07:17,491] p81084 {701838357.py:48} INFO - get_inference, done, endpoint=llama-2-70b-g5-48xlarge-1706460294, completion_tokens=102, latency=19.59\n",
      "[2024-01-28 13:07:17,492] p81084 {701838357.py:48} INFO - get_inference, done, endpoint=llama-2-70b-g5-48xlarge-1706460294, completion_tokens=102, latency=19.60\n"
     ]
    },
    {
     "name": "stdout",
     "output_type": "stream",
     "text": [
      "Data successfully written to s3://fmbt2039/data/metrics/llama2-70b-g5-p4d-trt-v1/per_chunk/1706465237.495244.json\n",
      "Data successfully written to s3://fmbt2039/data/metrics/llama2-70b-g5-p4d-trt-v1/per_inference/1706465237.790045.json\n"
     ]
    },
    {
     "name": "stderr",
     "output_type": "stream",
     "text": [
      "[2024-01-28 13:07:18,276] p81084 {1751706209.py:26} INFO - e_idx=1/2, chunk_index=1/1\n",
      "[2024-01-28 13:07:18,277] p81084 {1750118496.py:3} INFO - Processing chunk with concurrency=4\n",
      "[2024-01-28 13:07:18,298] p81084 {701838357.py:23} INFO - get_inference, endpoint=llama-2-70b-g5-48xlarge-1706460294, prompt_tokens=304\n",
      "[2024-01-28 13:07:18,302] p81084 {701838357.py:23} INFO - get_inference, endpoint=llama-2-70b-g5-48xlarge-1706460294, prompt_tokens=304\n",
      "[2024-01-28 13:07:18,303] p81084 {701838357.py:23} INFO - get_inference, endpoint=llama-2-70b-g5-48xlarge-1706460294, prompt_tokens=304\n",
      "[2024-01-28 13:07:18,303] p81084 {701838357.py:23} INFO - get_inference, endpoint=llama-2-70b-g5-48xlarge-1706460294, prompt_tokens=304\n"
     ]
    },
    {
     "name": "stdout",
     "output_type": "stream",
     "text": [
      "Data successfully written to s3://fmbt2039/data/metrics/llama2-70b-g5-p4d-trt-v1/per_inference/1706465238.006927.json\n"
     ]
    },
    {
     "name": "stderr",
     "output_type": "stream",
     "text": [
      "[2024-01-28 13:07:27,801] p81084 {701838357.py:48} INFO - get_inference, done, endpoint=llama-2-70b-g5-48xlarge-1706460294, completion_tokens=102, latency=9.49\n",
      "[2024-01-28 13:07:27,801] p81084 {701838357.py:48} INFO - get_inference, done, endpoint=llama-2-70b-g5-48xlarge-1706460294, completion_tokens=102, latency=9.48\n",
      "[2024-01-28 13:07:27,802] p81084 {701838357.py:48} INFO - get_inference, done, endpoint=llama-2-70b-g5-48xlarge-1706460294, completion_tokens=102, latency=9.47\n",
      "[2024-01-28 13:07:27,803] p81084 {701838357.py:48} INFO - get_inference, done, endpoint=llama-2-70b-g5-48xlarge-1706460294, completion_tokens=102, latency=9.49\n"
     ]
    },
    {
     "name": "stdout",
     "output_type": "stream",
     "text": [
      "Data successfully written to s3://fmbt2039/data/metrics/llama2-70b-g5-p4d-trt-v1/per_chunk/1706465247.815975.json\n",
      "Data successfully written to s3://fmbt2039/data/metrics/llama2-70b-g5-p4d-trt-v1/per_inference/1706465247.992199.json\n",
      "Data successfully written to s3://fmbt2039/data/metrics/llama2-70b-g5-p4d-trt-v1/per_inference/1706465248.184441.json\n",
      "Data successfully written to s3://fmbt2039/data/metrics/llama2-70b-g5-p4d-trt-v1/per_inference/1706465248.3744562.json\n"
     ]
    },
    {
     "name": "stderr",
     "output_type": "stream",
     "text": [
      "[2024-01-28 13:07:28,762] p81084 {1751706209.py:26} INFO - e_idx=1/2, chunk_index=1/1\n",
      "[2024-01-28 13:07:28,764] p81084 {1750118496.py:3} INFO - Processing chunk with concurrency=4\n",
      "[2024-01-28 13:07:28,793] p81084 {701838357.py:23} INFO - get_inference, endpoint=llama-2-70b-g5-48xlarge-1706460294, prompt_tokens=980\n",
      "[2024-01-28 13:07:28,797] p81084 {701838357.py:23} INFO - get_inference, endpoint=llama-2-70b-g5-48xlarge-1706460294, prompt_tokens=980\n",
      "[2024-01-28 13:07:28,800] p81084 {701838357.py:23} INFO - get_inference, endpoint=llama-2-70b-g5-48xlarge-1706460294, prompt_tokens=980\n",
      "[2024-01-28 13:07:28,804] p81084 {701838357.py:23} INFO - get_inference, endpoint=llama-2-70b-g5-48xlarge-1706460294, prompt_tokens=980\n"
     ]
    },
    {
     "name": "stdout",
     "output_type": "stream",
     "text": [
      "Data successfully written to s3://fmbt2039/data/metrics/llama2-70b-g5-p4d-trt-v1/per_inference/1706465248.567399.json\n"
     ]
    },
    {
     "name": "stderr",
     "output_type": "stream",
     "text": [
      "[2024-01-28 13:07:47,279] p81084 {701838357.py:48} INFO - get_inference, done, endpoint=llama-2-70b-g5-48xlarge-1706460294, completion_tokens=102, latency=18.46\n",
      "[2024-01-28 13:07:47,280] p81084 {701838357.py:48} INFO - get_inference, done, endpoint=llama-2-70b-g5-48xlarge-1706460294, completion_tokens=102, latency=18.46\n",
      "[2024-01-28 13:07:47,282] p81084 {701838357.py:48} INFO - get_inference, done, endpoint=llama-2-70b-g5-48xlarge-1706460294, completion_tokens=102, latency=18.48\n",
      "[2024-01-28 13:07:47,283] p81084 {701838357.py:48} INFO - get_inference, done, endpoint=llama-2-70b-g5-48xlarge-1706460294, completion_tokens=102, latency=18.47\n"
     ]
    },
    {
     "name": "stdout",
     "output_type": "stream",
     "text": [
      "Data successfully written to s3://fmbt2039/data/metrics/llama2-70b-g5-p4d-trt-v1/per_chunk/1706465267.292345.json\n",
      "Data successfully written to s3://fmbt2039/data/metrics/llama2-70b-g5-p4d-trt-v1/per_inference/1706465267.521697.json\n",
      "Data successfully written to s3://fmbt2039/data/metrics/llama2-70b-g5-p4d-trt-v1/per_inference/1706465267.712147.json\n",
      "Data successfully written to s3://fmbt2039/data/metrics/llama2-70b-g5-p4d-trt-v1/per_inference/1706465267.9023979.json\n"
     ]
    },
    {
     "name": "stderr",
     "output_type": "stream",
     "text": [
      "[2024-01-28 13:07:48,284] p81084 {1751706209.py:26} INFO - e_idx=1/2, chunk_index=1/4\n",
      "[2024-01-28 13:07:48,285] p81084 {1750118496.py:3} INFO - Processing chunk with concurrency=4\n",
      "[2024-01-28 13:07:48,313] p81084 {701838357.py:23} INFO - get_inference, endpoint=llama-2-70b-g5-48xlarge-1706460294, prompt_tokens=1932\n",
      "[2024-01-28 13:07:48,321] p81084 {701838357.py:23} INFO - get_inference, endpoint=llama-2-70b-g5-48xlarge-1706460294, prompt_tokens=1339\n",
      "[2024-01-28 13:07:48,327] p81084 {701838357.py:23} INFO - get_inference, endpoint=llama-2-70b-g5-48xlarge-1706460294, prompt_tokens=1154\n",
      "[2024-01-28 13:07:48,329] p81084 {701838357.py:23} INFO - get_inference, endpoint=llama-2-70b-g5-48xlarge-1706460294, prompt_tokens=1646\n"
     ]
    },
    {
     "name": "stdout",
     "output_type": "stream",
     "text": [
      "Data successfully written to s3://fmbt2039/data/metrics/llama2-70b-g5-p4d-trt-v1/per_inference/1706465268.087738.json\n"
     ]
    },
    {
     "name": "stderr",
     "output_type": "stream",
     "text": [
      "[2024-01-28 13:08:13,439] p81084 {701838357.py:48} INFO - get_inference, done, endpoint=llama-2-70b-g5-48xlarge-1706460294, completion_tokens=102, latency=25.10\n",
      "[2024-01-28 13:08:13,440] p81084 {701838357.py:48} INFO - get_inference, done, endpoint=llama-2-70b-g5-48xlarge-1706460294, completion_tokens=102, latency=25.10\n",
      "[2024-01-28 13:08:13,443] p81084 {701838357.py:48} INFO - get_inference, done, endpoint=llama-2-70b-g5-48xlarge-1706460294, completion_tokens=102, latency=25.11\n",
      "[2024-01-28 13:08:14,705] p81084 {701838357.py:48} INFO - get_inference, done, endpoint=llama-2-70b-g5-48xlarge-1706460294, completion_tokens=102, latency=26.38\n"
     ]
    },
    {
     "name": "stdout",
     "output_type": "stream",
     "text": [
      "Data successfully written to s3://fmbt2039/data/metrics/llama2-70b-g5-p4d-trt-v1/per_chunk/1706465294.707296.json\n",
      "Data successfully written to s3://fmbt2039/data/metrics/llama2-70b-g5-p4d-trt-v1/per_inference/1706465294.936955.json\n",
      "Data successfully written to s3://fmbt2039/data/metrics/llama2-70b-g5-p4d-trt-v1/per_inference/1706465295.1608.json\n"
     ]
    },
    {
     "name": "stderr",
     "output_type": "stream",
     "text": [
      "[2024-01-28 13:08:15,743] p81084 {1751706209.py:26} INFO - e_idx=1/2, chunk_index=2/4\n",
      "[2024-01-28 13:08:15,744] p81084 {1750118496.py:3} INFO - Processing chunk with concurrency=4\n"
     ]
    },
    {
     "name": "stdout",
     "output_type": "stream",
     "text": [
      "Data successfully written to s3://fmbt2039/data/metrics/llama2-70b-g5-p4d-trt-v1/per_inference/1706465295.3560069.json\n",
      "Data successfully written to s3://fmbt2039/data/metrics/llama2-70b-g5-p4d-trt-v1/per_inference/1706465295.546643.json\n"
     ]
    },
    {
     "name": "stderr",
     "output_type": "stream",
     "text": [
      "[2024-01-28 13:08:15,759] p81084 {701838357.py:23} INFO - get_inference, endpoint=llama-2-70b-g5-48xlarge-1706460294, prompt_tokens=1746\n",
      "[2024-01-28 13:08:15,760] p81084 {701838357.py:23} INFO - get_inference, endpoint=llama-2-70b-g5-48xlarge-1706460294, prompt_tokens=1397\n",
      "[2024-01-28 13:08:15,760] p81084 {701838357.py:23} INFO - get_inference, endpoint=llama-2-70b-g5-48xlarge-1706460294, prompt_tokens=1373\n",
      "[2024-01-28 13:08:15,762] p81084 {701838357.py:23} INFO - get_inference, endpoint=llama-2-70b-g5-48xlarge-1706460294, prompt_tokens=1598\n",
      "[2024-01-28 13:08:40,827] p81084 {701838357.py:48} INFO - get_inference, done, endpoint=llama-2-70b-g5-48xlarge-1706460294, completion_tokens=102, latency=25.07\n",
      "[2024-01-28 13:08:40,828] p81084 {701838357.py:48} INFO - get_inference, done, endpoint=llama-2-70b-g5-48xlarge-1706460294, completion_tokens=102, latency=25.06\n",
      "[2024-01-28 13:08:40,828] p81084 {701838357.py:48} INFO - get_inference, done, endpoint=llama-2-70b-g5-48xlarge-1706460294, completion_tokens=102, latency=25.06\n",
      "[2024-01-28 13:08:42,041] p81084 {701838357.py:48} INFO - get_inference, done, endpoint=llama-2-70b-g5-48xlarge-1706460294, completion_tokens=102, latency=26.27\n"
     ]
    },
    {
     "name": "stdout",
     "output_type": "stream",
     "text": [
      "Data successfully written to s3://fmbt2039/data/metrics/llama2-70b-g5-p4d-trt-v1/per_chunk/1706465322.042117.json\n",
      "Data successfully written to s3://fmbt2039/data/metrics/llama2-70b-g5-p4d-trt-v1/per_inference/1706465322.232322.json\n",
      "Data successfully written to s3://fmbt2039/data/metrics/llama2-70b-g5-p4d-trt-v1/per_inference/1706465322.4161038.json\n",
      "Data successfully written to s3://fmbt2039/data/metrics/llama2-70b-g5-p4d-trt-v1/per_inference/1706465322.631805.json\n"
     ]
    },
    {
     "name": "stderr",
     "output_type": "stream",
     "text": [
      "[2024-01-28 13:08:42,998] p81084 {1751706209.py:26} INFO - e_idx=1/2, chunk_index=3/4\n",
      "[2024-01-28 13:08:42,998] p81084 {1750118496.py:3} INFO - Processing chunk with concurrency=4\n",
      "[2024-01-28 13:08:43,009] p81084 {701838357.py:23} INFO - get_inference, endpoint=llama-2-70b-g5-48xlarge-1706460294, prompt_tokens=1539\n",
      "[2024-01-28 13:08:43,010] p81084 {701838357.py:23} INFO - get_inference, endpoint=llama-2-70b-g5-48xlarge-1706460294, prompt_tokens=1695\n",
      "[2024-01-28 13:08:43,011] p81084 {701838357.py:23} INFO - get_inference, endpoint=llama-2-70b-g5-48xlarge-1706460294, prompt_tokens=1421\n",
      "[2024-01-28 13:08:43,013] p81084 {701838357.py:23} INFO - get_inference, endpoint=llama-2-70b-g5-48xlarge-1706460294, prompt_tokens=1743\n"
     ]
    },
    {
     "name": "stdout",
     "output_type": "stream",
     "text": [
      "Data successfully written to s3://fmbt2039/data/metrics/llama2-70b-g5-p4d-trt-v1/per_inference/1706465322.831219.json\n"
     ]
    },
    {
     "name": "stderr",
     "output_type": "stream",
     "text": [
      "[2024-01-28 13:09:09,249] p81084 {701838357.py:48} INFO - get_inference, done, endpoint=llama-2-70b-g5-48xlarge-1706460294, completion_tokens=102, latency=26.23\n",
      "[2024-01-28 13:09:09,255] p81084 {701838357.py:48} INFO - get_inference, done, endpoint=llama-2-70b-g5-48xlarge-1706460294, completion_tokens=102, latency=26.24\n",
      "[2024-01-28 13:09:09,255] p81084 {701838357.py:48} INFO - get_inference, done, endpoint=llama-2-70b-g5-48xlarge-1706460294, completion_tokens=102, latency=26.23\n",
      "[2024-01-28 13:09:10,364] p81084 {701838357.py:48} INFO - get_inference, done, endpoint=llama-2-70b-g5-48xlarge-1706460294, completion_tokens=102, latency=27.35\n"
     ]
    },
    {
     "name": "stdout",
     "output_type": "stream",
     "text": [
      "Data successfully written to s3://fmbt2039/data/metrics/llama2-70b-g5-p4d-trt-v1/per_chunk/1706465350.3695848.json\n",
      "Data successfully written to s3://fmbt2039/data/metrics/llama2-70b-g5-p4d-trt-v1/per_inference/1706465350.601182.json\n",
      "Data successfully written to s3://fmbt2039/data/metrics/llama2-70b-g5-p4d-trt-v1/per_inference/1706465350.775689.json\n"
     ]
    },
    {
     "name": "stderr",
     "output_type": "stream",
     "text": [
      "[2024-01-28 13:09:11,377] p81084 {1751706209.py:26} INFO - e_idx=1/2, chunk_index=4/4\n",
      "[2024-01-28 13:09:11,378] p81084 {1750118496.py:3} INFO - Processing chunk with concurrency=4\n",
      "[2024-01-28 13:09:11,399] p81084 {701838357.py:23} INFO - get_inference, endpoint=llama-2-70b-g5-48xlarge-1706460294, prompt_tokens=1918\n",
      "[2024-01-28 13:09:11,405] p81084 {701838357.py:23} INFO - get_inference, endpoint=llama-2-70b-g5-48xlarge-1706460294, prompt_tokens=1939\n",
      "[2024-01-28 13:09:11,405] p81084 {701838357.py:23} INFO - get_inference, endpoint=llama-2-70b-g5-48xlarge-1706460294, prompt_tokens=1910\n",
      "[2024-01-28 13:09:11,405] p81084 {701838357.py:23} INFO - get_inference, endpoint=llama-2-70b-g5-48xlarge-1706460294, prompt_tokens=1918\n"
     ]
    },
    {
     "name": "stdout",
     "output_type": "stream",
     "text": [
      "Data successfully written to s3://fmbt2039/data/metrics/llama2-70b-g5-p4d-trt-v1/per_inference/1706465350.990766.json\n",
      "Data successfully written to s3://fmbt2039/data/metrics/llama2-70b-g5-p4d-trt-v1/per_inference/1706465351.2088692.json\n"
     ]
    },
    {
     "name": "stderr",
     "output_type": "stream",
     "text": [
      "[2024-01-28 13:09:41,871] p81084 {701838357.py:48} INFO - get_inference, done, endpoint=llama-2-70b-g5-48xlarge-1706460294, completion_tokens=102, latency=30.46\n",
      "[2024-01-28 13:09:41,875] p81084 {701838357.py:48} INFO - get_inference, done, endpoint=llama-2-70b-g5-48xlarge-1706460294, completion_tokens=102, latency=30.47\n",
      "[2024-01-28 13:09:41,876] p81084 {701838357.py:48} INFO - get_inference, done, endpoint=llama-2-70b-g5-48xlarge-1706460294, completion_tokens=102, latency=30.46\n",
      "[2024-01-28 13:09:43,123] p81084 {701838357.py:48} INFO - get_inference, done, endpoint=llama-2-70b-g5-48xlarge-1706460294, completion_tokens=102, latency=31.72\n"
     ]
    },
    {
     "name": "stdout",
     "output_type": "stream",
     "text": [
      "Data successfully written to s3://fmbt2039/data/metrics/llama2-70b-g5-p4d-trt-v1/per_chunk/1706465383.125473.json\n",
      "Data successfully written to s3://fmbt2039/data/metrics/llama2-70b-g5-p4d-trt-v1/per_inference/1706465383.334367.json\n",
      "Data successfully written to s3://fmbt2039/data/metrics/llama2-70b-g5-p4d-trt-v1/per_inference/1706465383.613091.json\n",
      "Data successfully written to s3://fmbt2039/data/metrics/llama2-70b-g5-p4d-trt-v1/per_inference/1706465383.9032052.json\n",
      "Data successfully written to s3://fmbt2039/data/metrics/llama2-70b-g5-p4d-trt-v1/per_inference/1706465384.134654.json\n"
     ]
    },
    {
     "name": "stderr",
     "output_type": "stream",
     "text": [
      "[2024-01-28 13:09:44,334] p81084 {1751706209.py:26} INFO - e_idx=1/2, chunk_index=1/1\n",
      "[2024-01-28 13:09:44,335] p81084 {1750118496.py:3} INFO - Processing chunk with concurrency=6\n",
      "[2024-01-28 13:09:44,345] p81084 {701838357.py:23} INFO - get_inference, endpoint=llama-2-70b-g5-48xlarge-1706460294, prompt_tokens=304\n",
      "[2024-01-28 13:09:44,345] p81084 {701838357.py:23} INFO - get_inference, endpoint=llama-2-70b-g5-48xlarge-1706460294, prompt_tokens=304\n",
      "[2024-01-28 13:09:44,345] p81084 {701838357.py:23} INFO - get_inference, endpoint=llama-2-70b-g5-48xlarge-1706460294, prompt_tokens=304\n",
      "[2024-01-28 13:09:44,345] p81084 {701838357.py:23} INFO - get_inference, endpoint=llama-2-70b-g5-48xlarge-1706460294, prompt_tokens=304\n",
      "[2024-01-28 13:09:44,347] p81084 {701838357.py:23} INFO - get_inference, endpoint=llama-2-70b-g5-48xlarge-1706460294, prompt_tokens=304\n",
      "[2024-01-28 13:09:44,347] p81084 {701838357.py:23} INFO - get_inference, endpoint=llama-2-70b-g5-48xlarge-1706460294, prompt_tokens=304\n",
      "[2024-01-28 13:09:56,303] p81084 {701838357.py:48} INFO - get_inference, done, endpoint=llama-2-70b-g5-48xlarge-1706460294, completion_tokens=102, latency=11.95\n",
      "[2024-01-28 13:09:56,304] p81084 {701838357.py:48} INFO - get_inference, done, endpoint=llama-2-70b-g5-48xlarge-1706460294, completion_tokens=102, latency=11.95\n",
      "[2024-01-28 13:09:56,304] p81084 {701838357.py:48} INFO - get_inference, done, endpoint=llama-2-70b-g5-48xlarge-1706460294, completion_tokens=102, latency=11.95\n",
      "[2024-01-28 13:09:56,304] p81084 {701838357.py:48} INFO - get_inference, done, endpoint=llama-2-70b-g5-48xlarge-1706460294, completion_tokens=102, latency=11.95\n",
      "[2024-01-28 13:09:56,304] p81084 {701838357.py:48} INFO - get_inference, done, endpoint=llama-2-70b-g5-48xlarge-1706460294, completion_tokens=102, latency=11.95\n",
      "[2024-01-28 13:09:56,304] p81084 {701838357.py:48} INFO - get_inference, done, endpoint=llama-2-70b-g5-48xlarge-1706460294, completion_tokens=102, latency=11.96\n"
     ]
    },
    {
     "name": "stdout",
     "output_type": "stream",
     "text": [
      "Data successfully written to s3://fmbt2039/data/metrics/llama2-70b-g5-p4d-trt-v1/per_chunk/1706465396.31441.json\n",
      "Data successfully written to s3://fmbt2039/data/metrics/llama2-70b-g5-p4d-trt-v1/per_inference/1706465396.487319.json\n",
      "Data successfully written to s3://fmbt2039/data/metrics/llama2-70b-g5-p4d-trt-v1/per_inference/1706465396.6938088.json\n",
      "Data successfully written to s3://fmbt2039/data/metrics/llama2-70b-g5-p4d-trt-v1/per_inference/1706465396.849903.json\n",
      "Data successfully written to s3://fmbt2039/data/metrics/llama2-70b-g5-p4d-trt-v1/per_inference/1706465396.9942029.json\n"
     ]
    },
    {
     "name": "stderr",
     "output_type": "stream",
     "text": [
      "[2024-01-28 13:09:57,436] p81084 {1751706209.py:26} INFO - e_idx=1/2, chunk_index=1/1\n",
      "[2024-01-28 13:09:57,436] p81084 {1750118496.py:3} INFO - Processing chunk with concurrency=6\n",
      "[2024-01-28 13:09:57,446] p81084 {701838357.py:23} INFO - get_inference, endpoint=llama-2-70b-g5-48xlarge-1706460294, prompt_tokens=980\n",
      "[2024-01-28 13:09:57,447] p81084 {701838357.py:23} INFO - get_inference, endpoint=llama-2-70b-g5-48xlarge-1706460294, prompt_tokens=980\n",
      "[2024-01-28 13:09:57,447] p81084 {701838357.py:23} INFO - get_inference, endpoint=llama-2-70b-g5-48xlarge-1706460294, prompt_tokens=980\n",
      "[2024-01-28 13:09:57,448] p81084 {701838357.py:23} INFO - get_inference, endpoint=llama-2-70b-g5-48xlarge-1706460294, prompt_tokens=980\n",
      "[2024-01-28 13:09:57,448] p81084 {701838357.py:23} INFO - get_inference, endpoint=llama-2-70b-g5-48xlarge-1706460294, prompt_tokens=980\n",
      "[2024-01-28 13:09:57,449] p81084 {701838357.py:23} INFO - get_inference, endpoint=llama-2-70b-g5-48xlarge-1706460294, prompt_tokens=980\n"
     ]
    },
    {
     "name": "stdout",
     "output_type": "stream",
     "text": [
      "Data successfully written to s3://fmbt2039/data/metrics/llama2-70b-g5-p4d-trt-v1/per_inference/1706465397.150511.json\n",
      "Data successfully written to s3://fmbt2039/data/metrics/llama2-70b-g5-p4d-trt-v1/per_inference/1706465397.298721.json\n"
     ]
    },
    {
     "name": "stderr",
     "output_type": "stream",
     "text": [
      "[2024-01-28 13:10:21,819] p81084 {701838357.py:48} INFO - get_inference, done, endpoint=llama-2-70b-g5-48xlarge-1706460294, completion_tokens=102, latency=24.37\n",
      "[2024-01-28 13:10:21,820] p81084 {701838357.py:48} INFO - get_inference, done, endpoint=llama-2-70b-g5-48xlarge-1706460294, completion_tokens=102, latency=24.36\n",
      "[2024-01-28 13:10:21,820] p81084 {701838357.py:48} INFO - get_inference, done, endpoint=llama-2-70b-g5-48xlarge-1706460294, completion_tokens=102, latency=24.37\n",
      "[2024-01-28 13:10:21,822] p81084 {701838357.py:48} INFO - get_inference, done, endpoint=llama-2-70b-g5-48xlarge-1706460294, completion_tokens=102, latency=24.37\n",
      "[2024-01-28 13:10:21,823] p81084 {701838357.py:48} INFO - get_inference, done, endpoint=llama-2-70b-g5-48xlarge-1706460294, completion_tokens=102, latency=24.36\n",
      "[2024-01-28 13:10:22,916] p81084 {701838357.py:48} INFO - get_inference, done, endpoint=llama-2-70b-g5-48xlarge-1706460294, completion_tokens=102, latency=25.45\n"
     ]
    },
    {
     "name": "stdout",
     "output_type": "stream",
     "text": [
      "Data successfully written to s3://fmbt2039/data/metrics/llama2-70b-g5-p4d-trt-v1/per_chunk/1706465422.9184.json\n",
      "Data successfully written to s3://fmbt2039/data/metrics/llama2-70b-g5-p4d-trt-v1/per_inference/1706465423.12204.json\n",
      "Data successfully written to s3://fmbt2039/data/metrics/llama2-70b-g5-p4d-trt-v1/per_inference/1706465423.314303.json\n",
      "Data successfully written to s3://fmbt2039/data/metrics/llama2-70b-g5-p4d-trt-v1/per_inference/1706465423.4876642.json\n",
      "Data successfully written to s3://fmbt2039/data/metrics/llama2-70b-g5-p4d-trt-v1/per_inference/1706465423.674592.json\n",
      "Data successfully written to s3://fmbt2039/data/metrics/llama2-70b-g5-p4d-trt-v1/per_inference/1706465423.875902.json\n"
     ]
    },
    {
     "name": "stderr",
     "output_type": "stream",
     "text": [
      "[2024-01-28 13:10:24,211] p81084 {1751706209.py:26} INFO - e_idx=1/2, chunk_index=1/3\n",
      "[2024-01-28 13:10:24,212] p81084 {1750118496.py:3} INFO - Processing chunk with concurrency=6\n",
      "[2024-01-28 13:10:24,235] p81084 {701838357.py:23} INFO - get_inference, endpoint=llama-2-70b-g5-48xlarge-1706460294, prompt_tokens=1932\n",
      "[2024-01-28 13:10:24,235] p81084 {701838357.py:23} INFO - get_inference, endpoint=llama-2-70b-g5-48xlarge-1706460294, prompt_tokens=1339\n",
      "[2024-01-28 13:10:24,240] p81084 {701838357.py:23} INFO - get_inference, endpoint=llama-2-70b-g5-48xlarge-1706460294, prompt_tokens=1154\n",
      "[2024-01-28 13:10:24,240] p81084 {701838357.py:23} INFO - get_inference, endpoint=llama-2-70b-g5-48xlarge-1706460294, prompt_tokens=1397\n",
      "[2024-01-28 13:10:24,240] p81084 {701838357.py:23} INFO - get_inference, endpoint=llama-2-70b-g5-48xlarge-1706460294, prompt_tokens=1646\n",
      "[2024-01-28 13:10:24,241] p81084 {701838357.py:23} INFO - get_inference, endpoint=llama-2-70b-g5-48xlarge-1706460294, prompt_tokens=1746\n"
     ]
    },
    {
     "name": "stdout",
     "output_type": "stream",
     "text": [
      "Data successfully written to s3://fmbt2039/data/metrics/llama2-70b-g5-p4d-trt-v1/per_inference/1706465424.0270772.json\n"
     ]
    },
    {
     "name": "stderr",
     "output_type": "stream",
     "text": [
      "[2024-01-28 13:10:58,748] p81084 {701838357.py:48} INFO - get_inference, done, endpoint=llama-2-70b-g5-48xlarge-1706460294, completion_tokens=102, latency=34.57\n",
      "[2024-01-28 13:10:58,749] p81084 {701838357.py:48} INFO - get_inference, done, endpoint=llama-2-70b-g5-48xlarge-1706460294, completion_tokens=102, latency=34.57\n",
      "[2024-01-28 13:10:58,749] p81084 {701838357.py:48} INFO - get_inference, done, endpoint=llama-2-70b-g5-48xlarge-1706460294, completion_tokens=102, latency=34.57\n",
      "[2024-01-28 13:10:58,749] p81084 {701838357.py:48} INFO - get_inference, done, endpoint=llama-2-70b-g5-48xlarge-1706460294, completion_tokens=102, latency=34.57\n",
      "[2024-01-28 13:11:00,026] p81084 {701838357.py:48} INFO - get_inference, done, endpoint=llama-2-70b-g5-48xlarge-1706460294, completion_tokens=102, latency=35.84\n",
      "[2024-01-28 13:11:00,027] p81084 {701838357.py:48} INFO - get_inference, done, endpoint=llama-2-70b-g5-48xlarge-1706460294, completion_tokens=102, latency=35.84\n"
     ]
    },
    {
     "name": "stdout",
     "output_type": "stream",
     "text": [
      "Data successfully written to s3://fmbt2039/data/metrics/llama2-70b-g5-p4d-trt-v1/per_chunk/1706465460.032286.json\n",
      "Data successfully written to s3://fmbt2039/data/metrics/llama2-70b-g5-p4d-trt-v1/per_inference/1706465460.422951.json\n",
      "Data successfully written to s3://fmbt2039/data/metrics/llama2-70b-g5-p4d-trt-v1/per_inference/1706465460.7068732.json\n",
      "Data successfully written to s3://fmbt2039/data/metrics/llama2-70b-g5-p4d-trt-v1/per_inference/1706465460.9345798.json\n",
      "Data successfully written to s3://fmbt2039/data/metrics/llama2-70b-g5-p4d-trt-v1/per_inference/1706465461.117441.json\n"
     ]
    },
    {
     "name": "stderr",
     "output_type": "stream",
     "text": [
      "[2024-01-28 13:11:01,721] p81084 {1751706209.py:26} INFO - e_idx=1/2, chunk_index=2/3\n",
      "[2024-01-28 13:11:01,722] p81084 {1750118496.py:3} INFO - Processing chunk with concurrency=6\n"
     ]
    },
    {
     "name": "stdout",
     "output_type": "stream",
     "text": [
      "Data successfully written to s3://fmbt2039/data/metrics/llama2-70b-g5-p4d-trt-v1/per_inference/1706465461.3151941.json\n",
      "Data successfully written to s3://fmbt2039/data/metrics/llama2-70b-g5-p4d-trt-v1/per_inference/1706465461.521792.json\n"
     ]
    },
    {
     "name": "stderr",
     "output_type": "stream",
     "text": [
      "[2024-01-28 13:11:01,739] p81084 {701838357.py:23} INFO - get_inference, endpoint=llama-2-70b-g5-48xlarge-1706460294, prompt_tokens=1598\n",
      "[2024-01-28 13:11:01,746] p81084 {701838357.py:23} INFO - get_inference, endpoint=llama-2-70b-g5-48xlarge-1706460294, prompt_tokens=1373\n",
      "[2024-01-28 13:11:01,756] p81084 {701838357.py:23} INFO - get_inference, endpoint=llama-2-70b-g5-48xlarge-1706460294, prompt_tokens=1421\n",
      "[2024-01-28 13:11:01,756] p81084 {701838357.py:23} INFO - get_inference, endpoint=llama-2-70b-g5-48xlarge-1706460294, prompt_tokens=1695\n",
      "[2024-01-28 13:11:01,756] p81084 {701838357.py:23} INFO - get_inference, endpoint=llama-2-70b-g5-48xlarge-1706460294, prompt_tokens=1743\n",
      "[2024-01-28 13:11:01,758] p81084 {701838357.py:23} INFO - get_inference, endpoint=llama-2-70b-g5-48xlarge-1706460294, prompt_tokens=1539\n",
      "[2024-01-28 13:11:36,512] p81084 {701838357.py:48} INFO - get_inference, done, endpoint=llama-2-70b-g5-48xlarge-1706460294, completion_tokens=102, latency=34.75\n",
      "[2024-01-28 13:11:36,512] p81084 {701838357.py:48} INFO - get_inference, done, endpoint=llama-2-70b-g5-48xlarge-1706460294, completion_tokens=102, latency=34.75\n",
      "[2024-01-28 13:11:36,513] p81084 {701838357.py:48} INFO - get_inference, done, endpoint=llama-2-70b-g5-48xlarge-1706460294, completion_tokens=102, latency=34.76\n",
      "[2024-01-28 13:11:37,853] p81084 {701838357.py:48} INFO - get_inference, done, endpoint=llama-2-70b-g5-48xlarge-1706460294, completion_tokens=102, latency=36.09\n",
      "[2024-01-28 13:11:37,853] p81084 {701838357.py:48} INFO - get_inference, done, endpoint=llama-2-70b-g5-48xlarge-1706460294, completion_tokens=102, latency=36.09\n",
      "[2024-01-28 13:11:39,063] p81084 {701838357.py:48} INFO - get_inference, done, endpoint=llama-2-70b-g5-48xlarge-1706460294, completion_tokens=102, latency=37.30\n"
     ]
    },
    {
     "name": "stdout",
     "output_type": "stream",
     "text": [
      "Data successfully written to s3://fmbt2039/data/metrics/llama2-70b-g5-p4d-trt-v1/per_chunk/1706465499.066592.json\n",
      "Data successfully written to s3://fmbt2039/data/metrics/llama2-70b-g5-p4d-trt-v1/per_inference/1706465499.282797.json\n",
      "Data successfully written to s3://fmbt2039/data/metrics/llama2-70b-g5-p4d-trt-v1/per_inference/1706465499.493289.json\n",
      "Data successfully written to s3://fmbt2039/data/metrics/llama2-70b-g5-p4d-trt-v1/per_inference/1706465499.67818.json\n",
      "Data successfully written to s3://fmbt2039/data/metrics/llama2-70b-g5-p4d-trt-v1/per_inference/1706465499.9220202.json\n",
      "Data successfully written to s3://fmbt2039/data/metrics/llama2-70b-g5-p4d-trt-v1/per_inference/1706465500.2188349.json\n"
     ]
    },
    {
     "name": "stderr",
     "output_type": "stream",
     "text": [
      "[2024-01-28 13:11:40,611] p81084 {1751706209.py:26} INFO - e_idx=1/2, chunk_index=3/3\n",
      "[2024-01-28 13:11:40,613] p81084 {1750118496.py:3} INFO - Processing chunk with concurrency=6\n",
      "[2024-01-28 13:11:40,640] p81084 {701838357.py:23} INFO - get_inference, endpoint=llama-2-70b-g5-48xlarge-1706460294, prompt_tokens=1918\n",
      "[2024-01-28 13:11:40,652] p81084 {701838357.py:23} INFO - get_inference, endpoint=llama-2-70b-g5-48xlarge-1706460294, prompt_tokens=1910\n",
      "[2024-01-28 13:11:40,654] p81084 {701838357.py:23} INFO - get_inference, endpoint=llama-2-70b-g5-48xlarge-1706460294, prompt_tokens=1939\n",
      "[2024-01-28 13:11:40,654] p81084 {701838357.py:23} INFO - get_inference, endpoint=llama-2-70b-g5-48xlarge-1706460294, prompt_tokens=1918\n",
      "[2024-01-28 13:11:40,654] p81084 {701838357.py:23} INFO - get_inference, endpoint=llama-2-70b-g5-48xlarge-1706460294, prompt_tokens=1918\n",
      "[2024-01-28 13:11:40,656] p81084 {701838357.py:23} INFO - get_inference, endpoint=llama-2-70b-g5-48xlarge-1706460294, prompt_tokens=1918\n"
     ]
    },
    {
     "name": "stdout",
     "output_type": "stream",
     "text": [
      "Data successfully written to s3://fmbt2039/data/metrics/llama2-70b-g5-p4d-trt-v1/per_inference/1706465500.420732.json\n"
     ]
    },
    {
     "name": "stderr",
     "output_type": "stream",
     "text": [
      "[2024-01-28 13:12:22,025] p81084 {701838357.py:48} INFO - get_inference, done, endpoint=llama-2-70b-g5-48xlarge-1706460294, completion_tokens=102, latency=41.37\n",
      "[2024-01-28 13:12:22,026] p81084 {701838357.py:48} INFO - get_inference, done, endpoint=llama-2-70b-g5-48xlarge-1706460294, completion_tokens=102, latency=41.37\n",
      "[2024-01-28 13:12:22,026] p81084 {701838357.py:48} INFO - get_inference, done, endpoint=llama-2-70b-g5-48xlarge-1706460294, completion_tokens=102, latency=41.38\n",
      "[2024-01-28 13:12:23,429] p81084 {701838357.py:48} INFO - get_inference, done, endpoint=llama-2-70b-g5-48xlarge-1706460294, completion_tokens=102, latency=42.77\n",
      "[2024-01-28 13:12:23,430] p81084 {701838357.py:48} INFO - get_inference, done, endpoint=llama-2-70b-g5-48xlarge-1706460294, completion_tokens=102, latency=42.77\n",
      "[2024-01-28 13:12:24,686] p81084 {701838357.py:48} INFO - get_inference, done, endpoint=llama-2-70b-g5-48xlarge-1706460294, completion_tokens=102, latency=44.03\n"
     ]
    },
    {
     "name": "stdout",
     "output_type": "stream",
     "text": [
      "Data successfully written to s3://fmbt2039/data/metrics/llama2-70b-g5-p4d-trt-v1/per_chunk/1706465544.688139.json\n",
      "Data successfully written to s3://fmbt2039/data/metrics/llama2-70b-g5-p4d-trt-v1/per_inference/1706465544.906733.json\n",
      "Data successfully written to s3://fmbt2039/data/metrics/llama2-70b-g5-p4d-trt-v1/per_inference/1706465545.124301.json\n",
      "Data successfully written to s3://fmbt2039/data/metrics/llama2-70b-g5-p4d-trt-v1/per_inference/1706465545.3896341.json\n",
      "Data successfully written to s3://fmbt2039/data/metrics/llama2-70b-g5-p4d-trt-v1/per_inference/1706465545.658957.json\n",
      "Data successfully written to s3://fmbt2039/data/metrics/llama2-70b-g5-p4d-trt-v1/per_inference/1706465545.867003.json\n"
     ]
    },
    {
     "name": "stderr",
     "output_type": "stream",
     "text": [
      "[2024-01-28 13:12:26,338] p81084 {1751706209.py:26} INFO - e_idx=1/2, chunk_index=1/1\n",
      "[2024-01-28 13:12:26,339] p81084 {1750118496.py:3} INFO - Processing chunk with concurrency=8\n",
      "[2024-01-28 13:12:26,365] p81084 {701838357.py:23} INFO - get_inference, endpoint=llama-2-70b-g5-48xlarge-1706460294, prompt_tokens=304\n",
      "[2024-01-28 13:12:26,372] p81084 {701838357.py:23} INFO - get_inference, endpoint=llama-2-70b-g5-48xlarge-1706460294, prompt_tokens=304\n",
      "[2024-01-28 13:12:26,372] p81084 {701838357.py:23} INFO - get_inference, endpoint=llama-2-70b-g5-48xlarge-1706460294, prompt_tokens=304\n",
      "[2024-01-28 13:12:26,374] p81084 {701838357.py:23} INFO - get_inference, endpoint=llama-2-70b-g5-48xlarge-1706460294, prompt_tokens=304\n",
      "[2024-01-28 13:12:26,374] p81084 {701838357.py:23} INFO - get_inference, endpoint=llama-2-70b-g5-48xlarge-1706460294, prompt_tokens=304\n",
      "[2024-01-28 13:12:26,374] p81084 {701838357.py:23} INFO - get_inference, endpoint=llama-2-70b-g5-48xlarge-1706460294, prompt_tokens=304\n",
      "[2024-01-28 13:12:26,376] p81084 {701838357.py:23} INFO - get_inference, endpoint=llama-2-70b-g5-48xlarge-1706460294, prompt_tokens=304\n",
      "[2024-01-28 13:12:26,378] p81084 {701838357.py:23} INFO - get_inference, endpoint=llama-2-70b-g5-48xlarge-1706460294, prompt_tokens=304\n"
     ]
    },
    {
     "name": "stdout",
     "output_type": "stream",
     "text": [
      "Data successfully written to s3://fmbt2039/data/metrics/llama2-70b-g5-p4d-trt-v1/per_inference/1706465546.102713.json\n"
     ]
    },
    {
     "name": "stderr",
     "output_type": "stream",
     "text": [
      "[2024-01-28 13:12:40,793] p81084 {701838357.py:48} INFO - get_inference, done, endpoint=llama-2-70b-g5-48xlarge-1706460294, completion_tokens=102, latency=14.41\n",
      "[2024-01-28 13:12:40,793] p81084 {701838357.py:48} INFO - get_inference, done, endpoint=llama-2-70b-g5-48xlarge-1706460294, completion_tokens=102, latency=14.39\n",
      "[2024-01-28 13:12:40,793] p81084 {701838357.py:48} INFO - get_inference, done, endpoint=llama-2-70b-g5-48xlarge-1706460294, completion_tokens=102, latency=14.40\n",
      "[2024-01-28 13:12:40,798] p81084 {701838357.py:48} INFO - get_inference, done, endpoint=llama-2-70b-g5-48xlarge-1706460294, completion_tokens=102, latency=14.37\n",
      "[2024-01-28 13:12:40,800] p81084 {701838357.py:48} INFO - get_inference, done, endpoint=llama-2-70b-g5-48xlarge-1706460294, completion_tokens=102, latency=14.39\n",
      "[2024-01-28 13:12:40,801] p81084 {701838357.py:48} INFO - get_inference, done, endpoint=llama-2-70b-g5-48xlarge-1706460294, completion_tokens=102, latency=14.40\n",
      "[2024-01-28 13:12:40,801] p81084 {701838357.py:48} INFO - get_inference, done, endpoint=llama-2-70b-g5-48xlarge-1706460294, completion_tokens=102, latency=14.42\n",
      "[2024-01-28 13:12:40,801] p81084 {701838357.py:48} INFO - get_inference, done, endpoint=llama-2-70b-g5-48xlarge-1706460294, completion_tokens=102, latency=14.42\n"
     ]
    },
    {
     "name": "stdout",
     "output_type": "stream",
     "text": [
      "Data successfully written to s3://fmbt2039/data/metrics/llama2-70b-g5-p4d-trt-v1/per_chunk/1706465560.8204548.json\n",
      "Data successfully written to s3://fmbt2039/data/metrics/llama2-70b-g5-p4d-trt-v1/per_inference/1706465561.012005.json\n",
      "Data successfully written to s3://fmbt2039/data/metrics/llama2-70b-g5-p4d-trt-v1/per_inference/1706465561.179181.json\n",
      "Data successfully written to s3://fmbt2039/data/metrics/llama2-70b-g5-p4d-trt-v1/per_inference/1706465561.3711512.json\n",
      "Data successfully written to s3://fmbt2039/data/metrics/llama2-70b-g5-p4d-trt-v1/per_inference/1706465561.557083.json\n",
      "Data successfully written to s3://fmbt2039/data/metrics/llama2-70b-g5-p4d-trt-v1/per_inference/1706465561.738783.json\n",
      "Data successfully written to s3://fmbt2039/data/metrics/llama2-70b-g5-p4d-trt-v1/per_inference/1706465561.91369.json\n",
      "Data successfully written to s3://fmbt2039/data/metrics/llama2-70b-g5-p4d-trt-v1/per_inference/1706465562.109003.json\n"
     ]
    },
    {
     "name": "stderr",
     "output_type": "stream",
     "text": [
      "[2024-01-28 13:12:43,135] p81084 {1751706209.py:26} INFO - e_idx=1/2, chunk_index=1/1\n",
      "[2024-01-28 13:12:43,137] p81084 {1750118496.py:3} INFO - Processing chunk with concurrency=8\n",
      "[2024-01-28 13:12:43,157] p81084 {701838357.py:23} INFO - get_inference, endpoint=llama-2-70b-g5-48xlarge-1706460294, prompt_tokens=980\n",
      "[2024-01-28 13:12:43,163] p81084 {701838357.py:23} INFO - get_inference, endpoint=llama-2-70b-g5-48xlarge-1706460294, prompt_tokens=980\n",
      "[2024-01-28 13:12:43,164] p81084 {701838357.py:23} INFO - get_inference, endpoint=llama-2-70b-g5-48xlarge-1706460294, prompt_tokens=980\n",
      "[2024-01-28 13:12:43,172] p81084 {701838357.py:23} INFO - get_inference, endpoint=llama-2-70b-g5-48xlarge-1706460294, prompt_tokens=980\n",
      "[2024-01-28 13:12:43,175] p81084 {701838357.py:23} INFO - get_inference, endpoint=llama-2-70b-g5-48xlarge-1706460294, prompt_tokens=980\n",
      "[2024-01-28 13:12:43,175] p81084 {701838357.py:23} INFO - get_inference, endpoint=llama-2-70b-g5-48xlarge-1706460294, prompt_tokens=980\n",
      "[2024-01-28 13:12:43,176] p81084 {701838357.py:23} INFO - get_inference, endpoint=llama-2-70b-g5-48xlarge-1706460294, prompt_tokens=980\n",
      "[2024-01-28 13:12:43,179] p81084 {701838357.py:23} INFO - get_inference, endpoint=llama-2-70b-g5-48xlarge-1706460294, prompt_tokens=980\n"
     ]
    },
    {
     "name": "stdout",
     "output_type": "stream",
     "text": [
      "Data successfully written to s3://fmbt2039/data/metrics/llama2-70b-g5-p4d-trt-v1/per_inference/1706465562.5527868.json\n"
     ]
    },
    {
     "name": "stderr",
     "output_type": "stream",
     "text": [
      "[2024-01-28 13:13:13,531] p81084 {701838357.py:48} INFO - get_inference, done, endpoint=llama-2-70b-g5-48xlarge-1706460294, completion_tokens=102, latency=30.36\n",
      "[2024-01-28 13:13:13,531] p81084 {701838357.py:48} INFO - get_inference, done, endpoint=llama-2-70b-g5-48xlarge-1706460294, completion_tokens=102, latency=30.34\n",
      "[2024-01-28 13:13:13,532] p81084 {701838357.py:48} INFO - get_inference, done, endpoint=llama-2-70b-g5-48xlarge-1706460294, completion_tokens=102, latency=30.34\n",
      "[2024-01-28 13:13:13,532] p81084 {701838357.py:48} INFO - get_inference, done, endpoint=llama-2-70b-g5-48xlarge-1706460294, completion_tokens=102, latency=30.35\n",
      "[2024-01-28 13:13:13,533] p81084 {701838357.py:48} INFO - get_inference, done, endpoint=llama-2-70b-g5-48xlarge-1706460294, completion_tokens=102, latency=30.33\n",
      "[2024-01-28 13:13:14,733] p81084 {701838357.py:48} INFO - get_inference, done, endpoint=llama-2-70b-g5-48xlarge-1706460294, completion_tokens=102, latency=31.52\n",
      "[2024-01-28 13:13:14,734] p81084 {701838357.py:48} INFO - get_inference, done, endpoint=llama-2-70b-g5-48xlarge-1706460294, completion_tokens=102, latency=31.52\n",
      "[2024-01-28 13:13:14,734] p81084 {701838357.py:48} INFO - get_inference, done, endpoint=llama-2-70b-g5-48xlarge-1706460294, completion_tokens=102, latency=31.52\n"
     ]
    },
    {
     "name": "stdout",
     "output_type": "stream",
     "text": [
      "Data successfully written to s3://fmbt2039/data/metrics/llama2-70b-g5-p4d-trt-v1/per_chunk/1706465594.753522.json\n",
      "Data successfully written to s3://fmbt2039/data/metrics/llama2-70b-g5-p4d-trt-v1/per_inference/1706465595.006207.json\n",
      "Data successfully written to s3://fmbt2039/data/metrics/llama2-70b-g5-p4d-trt-v1/per_inference/1706465595.201628.json\n",
      "Data successfully written to s3://fmbt2039/data/metrics/llama2-70b-g5-p4d-trt-v1/per_inference/1706465595.395732.json\n",
      "Data successfully written to s3://fmbt2039/data/metrics/llama2-70b-g5-p4d-trt-v1/per_inference/1706465595.606849.json\n",
      "Data successfully written to s3://fmbt2039/data/metrics/llama2-70b-g5-p4d-trt-v1/per_inference/1706465595.798461.json\n",
      "Data successfully written to s3://fmbt2039/data/metrics/llama2-70b-g5-p4d-trt-v1/per_inference/1706465595.9882839.json\n",
      "Data successfully written to s3://fmbt2039/data/metrics/llama2-70b-g5-p4d-trt-v1/per_inference/1706465596.6702101.json\n"
     ]
    },
    {
     "name": "stderr",
     "output_type": "stream",
     "text": [
      "[2024-01-28 13:13:17,039] p81084 {1751706209.py:26} INFO - e_idx=1/2, chunk_index=1/2\n",
      "[2024-01-28 13:13:17,040] p81084 {1750118496.py:3} INFO - Processing chunk with concurrency=8\n",
      "[2024-01-28 13:13:17,052] p81084 {701838357.py:23} INFO - get_inference, endpoint=llama-2-70b-g5-48xlarge-1706460294, prompt_tokens=1339\n",
      "[2024-01-28 13:13:17,054] p81084 {701838357.py:23} INFO - get_inference, endpoint=llama-2-70b-g5-48xlarge-1706460294, prompt_tokens=1154\n",
      "[2024-01-28 13:13:17,055] p81084 {701838357.py:23} INFO - get_inference, endpoint=llama-2-70b-g5-48xlarge-1706460294, prompt_tokens=1932\n",
      "[2024-01-28 13:13:17,059] p81084 {701838357.py:23} INFO - get_inference, endpoint=llama-2-70b-g5-48xlarge-1706460294, prompt_tokens=1646\n",
      "[2024-01-28 13:13:17,062] p81084 {701838357.py:23} INFO - get_inference, endpoint=llama-2-70b-g5-48xlarge-1706460294, prompt_tokens=1397\n",
      "[2024-01-28 13:13:17,064] p81084 {701838357.py:23} INFO - get_inference, endpoint=llama-2-70b-g5-48xlarge-1706460294, prompt_tokens=1373\n",
      "[2024-01-28 13:13:17,065] p81084 {701838357.py:23} INFO - get_inference, endpoint=llama-2-70b-g5-48xlarge-1706460294, prompt_tokens=1598\n",
      "[2024-01-28 13:13:17,065] p81084 {701838357.py:23} INFO - get_inference, endpoint=llama-2-70b-g5-48xlarge-1706460294, prompt_tokens=1746\n"
     ]
    },
    {
     "name": "stdout",
     "output_type": "stream",
     "text": [
      "Data successfully written to s3://fmbt2039/data/metrics/llama2-70b-g5-p4d-trt-v1/per_inference/1706465596.866733.json\n"
     ]
    },
    {
     "name": "stderr",
     "output_type": "stream",
     "text": [
      "[2024-01-28 13:13:59,916] p81084 {701838357.py:48} INFO - get_inference, done, endpoint=llama-2-70b-g5-48xlarge-1706460294, completion_tokens=102, latency=42.85\n",
      "[2024-01-28 13:13:59,916] p81084 {701838357.py:48} INFO - get_inference, done, endpoint=llama-2-70b-g5-48xlarge-1706460294, completion_tokens=102, latency=42.85\n",
      "[2024-01-28 13:13:59,917] p81084 {701838357.py:48} INFO - get_inference, done, endpoint=llama-2-70b-g5-48xlarge-1706460294, completion_tokens=102, latency=42.86\n",
      "[2024-01-28 13:14:01,373] p81084 {701838357.py:48} INFO - get_inference, done, endpoint=llama-2-70b-g5-48xlarge-1706460294, completion_tokens=102, latency=44.30\n",
      "[2024-01-28 13:14:01,374] p81084 {701838357.py:48} INFO - get_inference, done, endpoint=llama-2-70b-g5-48xlarge-1706460294, completion_tokens=102, latency=44.30\n",
      "[2024-01-28 13:14:02,740] p81084 {701838357.py:48} INFO - get_inference, done, endpoint=llama-2-70b-g5-48xlarge-1706460294, completion_tokens=102, latency=45.67\n",
      "[2024-01-28 13:14:02,741] p81084 {701838357.py:48} INFO - get_inference, done, endpoint=llama-2-70b-g5-48xlarge-1706460294, completion_tokens=102, latency=45.67\n",
      "[2024-01-28 13:14:03,898] p81084 {701838357.py:48} INFO - get_inference, done, endpoint=llama-2-70b-g5-48xlarge-1706460294, completion_tokens=102, latency=46.83\n"
     ]
    },
    {
     "name": "stdout",
     "output_type": "stream",
     "text": [
      "Data successfully written to s3://fmbt2039/data/metrics/llama2-70b-g5-p4d-trt-v1/per_chunk/1706465643.9000168.json\n",
      "Data successfully written to s3://fmbt2039/data/metrics/llama2-70b-g5-p4d-trt-v1/per_inference/1706465644.1395872.json\n",
      "Data successfully written to s3://fmbt2039/data/metrics/llama2-70b-g5-p4d-trt-v1/per_inference/1706465644.3707619.json\n",
      "Data successfully written to s3://fmbt2039/data/metrics/llama2-70b-g5-p4d-trt-v1/per_inference/1706465644.599356.json\n",
      "Data successfully written to s3://fmbt2039/data/metrics/llama2-70b-g5-p4d-trt-v1/per_inference/1706465644.7808058.json\n",
      "Data successfully written to s3://fmbt2039/data/metrics/llama2-70b-g5-p4d-trt-v1/per_inference/1706465645.086619.json\n",
      "Data successfully written to s3://fmbt2039/data/metrics/llama2-70b-g5-p4d-trt-v1/per_inference/1706465645.2748759.json\n",
      "Data successfully written to s3://fmbt2039/data/metrics/llama2-70b-g5-p4d-trt-v1/per_inference/1706465645.492456.json\n"
     ]
    },
    {
     "name": "stderr",
     "output_type": "stream",
     "text": [
      "[2024-01-28 13:14:05,926] p81084 {1751706209.py:26} INFO - e_idx=1/2, chunk_index=2/2\n",
      "[2024-01-28 13:14:05,927] p81084 {1750118496.py:3} INFO - Processing chunk with concurrency=8\n",
      "[2024-01-28 13:14:05,952] p81084 {701838357.py:23} INFO - get_inference, endpoint=llama-2-70b-g5-48xlarge-1706460294, prompt_tokens=1743\n",
      "[2024-01-28 13:14:05,955] p81084 {701838357.py:23} INFO - get_inference, endpoint=llama-2-70b-g5-48xlarge-1706460294, prompt_tokens=1539\n",
      "[2024-01-28 13:14:05,959] p81084 {701838357.py:23} INFO - get_inference, endpoint=llama-2-70b-g5-48xlarge-1706460294, prompt_tokens=1695\n",
      "[2024-01-28 13:14:05,959] p81084 {701838357.py:23} INFO - get_inference, endpoint=llama-2-70b-g5-48xlarge-1706460294, prompt_tokens=1421\n",
      "[2024-01-28 13:14:05,970] p81084 {701838357.py:23} INFO - get_inference, endpoint=llama-2-70b-g5-48xlarge-1706460294, prompt_tokens=1918\n",
      "[2024-01-28 13:14:05,972] p81084 {701838357.py:23} INFO - get_inference, endpoint=llama-2-70b-g5-48xlarge-1706460294, prompt_tokens=1910\n",
      "[2024-01-28 13:14:05,973] p81084 {701838357.py:23} INFO - get_inference, endpoint=llama-2-70b-g5-48xlarge-1706460294, prompt_tokens=1939\n",
      "[2024-01-28 13:14:05,978] p81084 {701838357.py:23} INFO - get_inference, endpoint=llama-2-70b-g5-48xlarge-1706460294, prompt_tokens=1743\n"
     ]
    },
    {
     "name": "stdout",
     "output_type": "stream",
     "text": [
      "Data successfully written to s3://fmbt2039/data/metrics/llama2-70b-g5-p4d-trt-v1/per_inference/1706465645.708308.json\n"
     ]
    },
    {
     "name": "stderr",
     "output_type": "stream",
     "text": [
      "[2024-01-28 13:14:55,275] p81084 {701838357.py:48} INFO - get_inference, done, endpoint=llama-2-70b-g5-48xlarge-1706460294, completion_tokens=102, latency=49.31\n",
      "[2024-01-28 13:14:55,276] p81084 {701838357.py:48} INFO - get_inference, done, endpoint=llama-2-70b-g5-48xlarge-1706460294, completion_tokens=102, latency=49.30\n",
      "[2024-01-28 13:14:55,277] p81084 {701838357.py:48} INFO - get_inference, done, endpoint=llama-2-70b-g5-48xlarge-1706460294, completion_tokens=102, latency=49.29\n",
      "[2024-01-28 13:14:56,799] p81084 {701838357.py:48} INFO - get_inference, done, endpoint=llama-2-70b-g5-48xlarge-1706460294, completion_tokens=102, latency=50.79\n",
      "[2024-01-28 13:14:56,800] p81084 {701838357.py:48} INFO - get_inference, done, endpoint=llama-2-70b-g5-48xlarge-1706460294, completion_tokens=102, latency=50.81\n",
      "[2024-01-28 13:14:58,157] p81084 {701838357.py:48} INFO - get_inference, done, endpoint=llama-2-70b-g5-48xlarge-1706460294, completion_tokens=102, latency=52.15\n",
      "[2024-01-28 13:14:58,157] p81084 {701838357.py:48} INFO - get_inference, done, endpoint=llama-2-70b-g5-48xlarge-1706460294, completion_tokens=102, latency=52.16\n",
      "[2024-01-28 13:14:59,421] p81084 {701838357.py:48} INFO - get_inference, done, endpoint=llama-2-70b-g5-48xlarge-1706460294, completion_tokens=102, latency=53.41\n"
     ]
    },
    {
     "name": "stdout",
     "output_type": "stream",
     "text": [
      "Data successfully written to s3://fmbt2039/data/metrics/llama2-70b-g5-p4d-trt-v1/per_chunk/1706465699.42386.json\n",
      "Data successfully written to s3://fmbt2039/data/metrics/llama2-70b-g5-p4d-trt-v1/per_inference/1706465699.677283.json\n",
      "Data successfully written to s3://fmbt2039/data/metrics/llama2-70b-g5-p4d-trt-v1/per_inference/1706465699.906162.json\n",
      "Data successfully written to s3://fmbt2039/data/metrics/llama2-70b-g5-p4d-trt-v1/per_inference/1706465700.1730108.json\n",
      "Data successfully written to s3://fmbt2039/data/metrics/llama2-70b-g5-p4d-trt-v1/per_inference/1706465700.381719.json\n",
      "Data successfully written to s3://fmbt2039/data/metrics/llama2-70b-g5-p4d-trt-v1/per_inference/1706465700.5891461.json\n",
      "Data successfully written to s3://fmbt2039/data/metrics/llama2-70b-g5-p4d-trt-v1/per_inference/1706465700.790358.json\n",
      "Data successfully written to s3://fmbt2039/data/metrics/llama2-70b-g5-p4d-trt-v1/per_inference/1706465701.0247.json\n"
     ]
    },
    {
     "name": "stderr",
     "output_type": "stream",
     "text": [
      "[2024-01-28 13:15:01,840] p81084 {1751706209.py:49} INFO - experiment=1/2, name=llama2-70b-g5.48xlarge-huggingface-pytorch-tgi-inference-2.0.1-tgi1.1.0, done\n",
      "[2024-01-28 13:15:01,840] p81084 {663335596.py:13} INFO - experiment=2, name=llama2-70b-chat-p4d.24xlarge-djl-inference-0.26.0-tensorrtllm0.7.1-cu122, ep_name=llama2-70bdjl-2024-01-28-16-44-54-820-endpoint\n",
      "[2024-01-28 13:15:01,866] p81084 {2873079850.py:18} INFO - there are 15 combinations of [(1, 'payload_en_1-500.jsonl'), (1, 'payload_en_500-1000.jsonl'), (1, 'payload_en_1000-2000.jsonl'), (2, 'payload_en_1-500.jsonl'), (2, 'payload_en_500-1000.jsonl'), (2, 'payload_en_1000-2000.jsonl'), (4, 'payload_en_1-500.jsonl'), (4, 'payload_en_500-1000.jsonl'), (4, 'payload_en_1000-2000.jsonl'), (6, 'payload_en_1-500.jsonl'), (6, 'payload_en_500-1000.jsonl'), (6, 'payload_en_1000-2000.jsonl'), (8, 'payload_en_1-500.jsonl'), (8, 'payload_en_500-1000.jsonl'), (8, 'payload_en_1000-2000.jsonl')] to run\n",
      "[2024-01-28 13:15:01,866] p81084 {2873079850.py:23} INFO - s3 path where the payload files are being read from -> data/prompts/payload_en_1-500.jsonl\n",
      "[2024-01-28 13:15:02,019] p81084 {2873079850.py:32} INFO - read from s3://fmbt2039/data/prompts/payload_en_1-500.jsonl, contains 1 lines\n",
      "[2024-01-28 13:15:02,019] p81084 {2873079850.py:38} INFO - creating combinations for concurrency=1, payload_file=payload_en_1-500.jsonl, payload_list length=1\n",
      "[2024-01-28 13:15:02,020] p81084 {2873079850.py:62} INFO - after only retaining chunks of length 1, we have 1 chunks, previously we had 1 chunks\n",
      "[2024-01-28 13:15:02,020] p81084 {2873079850.py:23} INFO - s3 path where the payload files are being read from -> data/prompts/payload_en_500-1000.jsonl\n"
     ]
    },
    {
     "name": "stdout",
     "output_type": "stream",
     "text": [
      "Data successfully written to s3://fmbt2039/data/metrics/llama2-70b-g5-p4d-trt-v1/per_inference/1706465701.608146.json\n"
     ]
    },
    {
     "name": "stderr",
     "output_type": "stream",
     "text": [
      "[2024-01-28 13:15:02,119] p81084 {2873079850.py:32} INFO - read from s3://fmbt2039/data/prompts/payload_en_500-1000.jsonl, contains 1 lines\n",
      "[2024-01-28 13:15:02,120] p81084 {2873079850.py:38} INFO - creating combinations for concurrency=1, payload_file=payload_en_500-1000.jsonl, payload_list length=1\n",
      "[2024-01-28 13:15:02,120] p81084 {2873079850.py:62} INFO - after only retaining chunks of length 1, we have 1 chunks, previously we had 1 chunks\n",
      "[2024-01-28 13:15:02,121] p81084 {2873079850.py:23} INFO - s3 path where the payload files are being read from -> data/prompts/payload_en_1000-2000.jsonl\n",
      "[2024-01-28 13:15:02,264] p81084 {2873079850.py:32} INFO - read from s3://fmbt2039/data/prompts/payload_en_1000-2000.jsonl, contains 15 lines\n",
      "[2024-01-28 13:15:02,269] p81084 {2873079850.py:38} INFO - creating combinations for concurrency=1, payload_file=payload_en_1000-2000.jsonl, payload_list length=15\n",
      "[2024-01-28 13:15:02,269] p81084 {2873079850.py:62} INFO - after only retaining chunks of length 1, we have 15 chunks, previously we had 15 chunks\n",
      "[2024-01-28 13:15:02,270] p81084 {2873079850.py:23} INFO - s3 path where the payload files are being read from -> data/prompts/payload_en_1-500.jsonl\n",
      "[2024-01-28 13:15:02,350] p81084 {2873079850.py:32} INFO - read from s3://fmbt2039/data/prompts/payload_en_1-500.jsonl, contains 1 lines\n",
      "[2024-01-28 13:15:02,350] p81084 {2873079850.py:38} INFO - creating combinations for concurrency=2, payload_file=payload_en_1-500.jsonl, payload_list length=1\n",
      "[2024-01-28 13:15:02,350] p81084 {2873079850.py:62} INFO - after only retaining chunks of length 2, we have 1 chunks, previously we had 1 chunks\n",
      "[2024-01-28 13:15:02,350] p81084 {2873079850.py:23} INFO - s3 path where the payload files are being read from -> data/prompts/payload_en_500-1000.jsonl\n",
      "[2024-01-28 13:15:02,413] p81084 {2873079850.py:32} INFO - read from s3://fmbt2039/data/prompts/payload_en_500-1000.jsonl, contains 1 lines\n",
      "[2024-01-28 13:15:02,414] p81084 {2873079850.py:38} INFO - creating combinations for concurrency=2, payload_file=payload_en_500-1000.jsonl, payload_list length=1\n",
      "[2024-01-28 13:15:02,414] p81084 {2873079850.py:62} INFO - after only retaining chunks of length 2, we have 1 chunks, previously we had 1 chunks\n",
      "[2024-01-28 13:15:02,414] p81084 {2873079850.py:23} INFO - s3 path where the payload files are being read from -> data/prompts/payload_en_1000-2000.jsonl\n",
      "[2024-01-28 13:15:02,578] p81084 {2873079850.py:32} INFO - read from s3://fmbt2039/data/prompts/payload_en_1000-2000.jsonl, contains 15 lines\n",
      "[2024-01-28 13:15:02,579] p81084 {2873079850.py:38} INFO - creating combinations for concurrency=2, payload_file=payload_en_1000-2000.jsonl, payload_list length=15\n",
      "[2024-01-28 13:15:02,580] p81084 {2873079850.py:62} INFO - after only retaining chunks of length 2, we have 8 chunks, previously we had 8 chunks\n",
      "[2024-01-28 13:15:02,580] p81084 {2873079850.py:23} INFO - s3 path where the payload files are being read from -> data/prompts/payload_en_1-500.jsonl\n",
      "[2024-01-28 13:15:02,638] p81084 {2873079850.py:32} INFO - read from s3://fmbt2039/data/prompts/payload_en_1-500.jsonl, contains 1 lines\n",
      "[2024-01-28 13:15:02,639] p81084 {2873079850.py:38} INFO - creating combinations for concurrency=4, payload_file=payload_en_1-500.jsonl, payload_list length=1\n",
      "[2024-01-28 13:15:02,640] p81084 {2873079850.py:62} INFO - after only retaining chunks of length 4, we have 1 chunks, previously we had 1 chunks\n",
      "[2024-01-28 13:15:02,641] p81084 {2873079850.py:23} INFO - s3 path where the payload files are being read from -> data/prompts/payload_en_500-1000.jsonl\n",
      "[2024-01-28 13:15:02,687] p81084 {2873079850.py:32} INFO - read from s3://fmbt2039/data/prompts/payload_en_500-1000.jsonl, contains 1 lines\n",
      "[2024-01-28 13:15:02,687] p81084 {2873079850.py:38} INFO - creating combinations for concurrency=4, payload_file=payload_en_500-1000.jsonl, payload_list length=1\n",
      "[2024-01-28 13:15:02,687] p81084 {2873079850.py:62} INFO - after only retaining chunks of length 4, we have 1 chunks, previously we had 1 chunks\n",
      "[2024-01-28 13:15:02,687] p81084 {2873079850.py:23} INFO - s3 path where the payload files are being read from -> data/prompts/payload_en_1000-2000.jsonl\n",
      "[2024-01-28 13:15:02,728] p81084 {2873079850.py:32} INFO - read from s3://fmbt2039/data/prompts/payload_en_1000-2000.jsonl, contains 15 lines\n",
      "[2024-01-28 13:15:02,729] p81084 {2873079850.py:38} INFO - creating combinations for concurrency=4, payload_file=payload_en_1000-2000.jsonl, payload_list length=15\n",
      "[2024-01-28 13:15:02,729] p81084 {2873079850.py:62} INFO - after only retaining chunks of length 4, we have 4 chunks, previously we had 4 chunks\n",
      "[2024-01-28 13:15:02,729] p81084 {2873079850.py:23} INFO - s3 path where the payload files are being read from -> data/prompts/payload_en_1-500.jsonl\n",
      "[2024-01-28 13:15:02,767] p81084 {2873079850.py:32} INFO - read from s3://fmbt2039/data/prompts/payload_en_1-500.jsonl, contains 1 lines\n",
      "[2024-01-28 13:15:02,767] p81084 {2873079850.py:38} INFO - creating combinations for concurrency=6, payload_file=payload_en_1-500.jsonl, payload_list length=1\n",
      "[2024-01-28 13:15:02,768] p81084 {2873079850.py:62} INFO - after only retaining chunks of length 6, we have 1 chunks, previously we had 1 chunks\n",
      "[2024-01-28 13:15:02,769] p81084 {2873079850.py:23} INFO - s3 path where the payload files are being read from -> data/prompts/payload_en_500-1000.jsonl\n",
      "[2024-01-28 13:15:02,803] p81084 {2873079850.py:32} INFO - read from s3://fmbt2039/data/prompts/payload_en_500-1000.jsonl, contains 1 lines\n",
      "[2024-01-28 13:15:02,803] p81084 {2873079850.py:38} INFO - creating combinations for concurrency=6, payload_file=payload_en_500-1000.jsonl, payload_list length=1\n",
      "[2024-01-28 13:15:02,804] p81084 {2873079850.py:62} INFO - after only retaining chunks of length 6, we have 1 chunks, previously we had 1 chunks\n",
      "[2024-01-28 13:15:02,804] p81084 {2873079850.py:23} INFO - s3 path where the payload files are being read from -> data/prompts/payload_en_1000-2000.jsonl\n",
      "[2024-01-28 13:15:02,865] p81084 {2873079850.py:32} INFO - read from s3://fmbt2039/data/prompts/payload_en_1000-2000.jsonl, contains 15 lines\n",
      "[2024-01-28 13:15:02,865] p81084 {2873079850.py:38} INFO - creating combinations for concurrency=6, payload_file=payload_en_1000-2000.jsonl, payload_list length=15\n",
      "[2024-01-28 13:15:02,865] p81084 {2873079850.py:62} INFO - after only retaining chunks of length 6, we have 3 chunks, previously we had 3 chunks\n",
      "[2024-01-28 13:15:02,865] p81084 {2873079850.py:23} INFO - s3 path where the payload files are being read from -> data/prompts/payload_en_1-500.jsonl\n",
      "[2024-01-28 13:15:02,902] p81084 {2873079850.py:32} INFO - read from s3://fmbt2039/data/prompts/payload_en_1-500.jsonl, contains 1 lines\n",
      "[2024-01-28 13:15:02,902] p81084 {2873079850.py:38} INFO - creating combinations for concurrency=8, payload_file=payload_en_1-500.jsonl, payload_list length=1\n",
      "[2024-01-28 13:15:02,902] p81084 {2873079850.py:62} INFO - after only retaining chunks of length 8, we have 1 chunks, previously we had 1 chunks\n",
      "[2024-01-28 13:15:02,903] p81084 {2873079850.py:23} INFO - s3 path where the payload files are being read from -> data/prompts/payload_en_500-1000.jsonl\n",
      "[2024-01-28 13:15:02,934] p81084 {2873079850.py:32} INFO - read from s3://fmbt2039/data/prompts/payload_en_500-1000.jsonl, contains 1 lines\n",
      "[2024-01-28 13:15:02,935] p81084 {2873079850.py:38} INFO - creating combinations for concurrency=8, payload_file=payload_en_500-1000.jsonl, payload_list length=1\n",
      "[2024-01-28 13:15:02,935] p81084 {2873079850.py:62} INFO - after only retaining chunks of length 8, we have 1 chunks, previously we had 1 chunks\n",
      "[2024-01-28 13:15:02,936] p81084 {2873079850.py:23} INFO - s3 path where the payload files are being read from -> data/prompts/payload_en_1000-2000.jsonl\n",
      "[2024-01-28 13:15:03,015] p81084 {2873079850.py:32} INFO - read from s3://fmbt2039/data/prompts/payload_en_1000-2000.jsonl, contains 15 lines\n",
      "[2024-01-28 13:15:03,015] p81084 {2873079850.py:38} INFO - creating combinations for concurrency=8, payload_file=payload_en_1000-2000.jsonl, payload_list length=15\n",
      "[2024-01-28 13:15:03,016] p81084 {2873079850.py:62} INFO - after only retaining chunks of length 8, we have 2 chunks, previously we had 2 chunks\n",
      "[2024-01-28 13:15:03,016] p81084 {2873079850.py:64} INFO - there are 15 for {'name': 'llama2-70b-chat-p4d.24xlarge-djl-inference-0.26.0-tensorrtllm0.7.1-cu122', 'model_id': 'meta-llama/Llama-2-70b-hf', 'model_version': '*', 'model_name': 'llama2-70bdjl', 'bucket_name': 'sagemaker-us-east-1-015469603702', 'key_name': 'hf-large-model-djl/code_llama2', 's3_path': 's3://sagemaker-us-east-1-015469603702/llama-2-70B-fp16/lmi/', 'ep_name': 'llama-2-70b-chat-p4d-24xlarge', 'instance_type': 'ml.p4d.24xlarge', 'image_uri': '763104351884.dkr.ecr.us-east-1.amazonaws.com/djl-inference:0.26.0-tensorrtllm0.7.1-cu122', 'deploy': True, 'instance_count': 1, 'deployment_script': 'p4d_djl.py', 'payload_files': ['payload_en_1-500.jsonl', 'payload_en_500-1000.jsonl', 'payload_en_1000-2000.jsonl'], 'concurrency_levels': [1, 2, 4, 6, 8], 'accept_eula': True, 'remove_truncate': True, 'env': {'MODEL_LOADING_TIMEOUT': '3600', 'NUMBER_OF_GPU': '8', 'INSTANCE_COUNT': '1', 'HEALTH_CHECK_TIMOUT': '300'}}\n",
      "[2024-01-28 13:15:03,016] p81084 {1751706209.py:26} INFO - e_idx=2/2, chunk_index=1/1\n",
      "[2024-01-28 13:15:03,017] p81084 {1750118496.py:3} INFO - Processing chunk with concurrency=1\n",
      "[2024-01-28 13:15:03,020] p81084 {701838357.py:23} INFO - get_inference, endpoint=llama2-70bdjl-2024-01-28-16-44-54-820-endpoint, prompt_tokens=304\n",
      "[2024-01-28 13:15:06,039] p81084 {701838357.py:48} INFO - get_inference, done, endpoint=llama2-70bdjl-2024-01-28-16-44-54-820-endpoint, completion_tokens=102, latency=3.02\n"
     ]
    },
    {
     "name": "stdout",
     "output_type": "stream",
     "text": [
      "Data successfully written to s3://fmbt2039/data/metrics/llama2-70b-g5-p4d-trt-v1/per_chunk/1706465706.042047.json\n"
     ]
    },
    {
     "name": "stderr",
     "output_type": "stream",
     "text": [
      "[2024-01-28 13:15:06,448] p81084 {1751706209.py:26} INFO - e_idx=2/2, chunk_index=1/1\n",
      "[2024-01-28 13:15:06,451] p81084 {1750118496.py:3} INFO - Processing chunk with concurrency=1\n",
      "[2024-01-28 13:15:06,463] p81084 {701838357.py:23} INFO - get_inference, endpoint=llama2-70bdjl-2024-01-28-16-44-54-820-endpoint, prompt_tokens=980\n"
     ]
    },
    {
     "name": "stdout",
     "output_type": "stream",
     "text": [
      "Data successfully written to s3://fmbt2039/data/metrics/llama2-70b-g5-p4d-trt-v1/per_inference/1706465706.2308962.json\n"
     ]
    },
    {
     "name": "stderr",
     "output_type": "stream",
     "text": [
      "[2024-01-28 13:15:09,229] p81084 {701838357.py:48} INFO - get_inference, done, endpoint=llama2-70bdjl-2024-01-28-16-44-54-820-endpoint, completion_tokens=102, latency=2.76\n",
      "[2024-01-28 13:15:09,621] p81084 {1751706209.py:26} INFO - e_idx=2/2, chunk_index=1/15\n",
      "[2024-01-28 13:15:09,623] p81084 {1750118496.py:3} INFO - Processing chunk with concurrency=1\n"
     ]
    },
    {
     "name": "stdout",
     "output_type": "stream",
     "text": [
      "Data successfully written to s3://fmbt2039/data/metrics/llama2-70b-g5-p4d-trt-v1/per_chunk/1706465709.23231.json\n",
      "Data successfully written to s3://fmbt2039/data/metrics/llama2-70b-g5-p4d-trt-v1/per_inference/1706465709.4244359.json\n"
     ]
    },
    {
     "name": "stderr",
     "output_type": "stream",
     "text": [
      "[2024-01-28 13:15:09,638] p81084 {701838357.py:23} INFO - get_inference, endpoint=llama2-70bdjl-2024-01-28-16-44-54-820-endpoint, prompt_tokens=1339\n",
      "[2024-01-28 13:15:12,389] p81084 {701838357.py:48} INFO - get_inference, done, endpoint=llama2-70bdjl-2024-01-28-16-44-54-820-endpoint, completion_tokens=101, latency=2.75\n"
     ]
    },
    {
     "name": "stdout",
     "output_type": "stream",
     "text": [
      "Data successfully written to s3://fmbt2039/data/metrics/llama2-70b-g5-p4d-trt-v1/per_chunk/1706465712.392395.json\n"
     ]
    },
    {
     "name": "stderr",
     "output_type": "stream",
     "text": [
      "[2024-01-28 13:15:12,797] p81084 {1751706209.py:26} INFO - e_idx=2/2, chunk_index=2/15\n",
      "[2024-01-28 13:15:12,806] p81084 {1750118496.py:3} INFO - Processing chunk with concurrency=1\n",
      "[2024-01-28 13:15:12,834] p81084 {701838357.py:23} INFO - get_inference, endpoint=llama2-70bdjl-2024-01-28-16-44-54-820-endpoint, prompt_tokens=1932\n"
     ]
    },
    {
     "name": "stdout",
     "output_type": "stream",
     "text": [
      "Data successfully written to s3://fmbt2039/data/metrics/llama2-70b-g5-p4d-trt-v1/per_inference/1706465712.572155.json\n"
     ]
    },
    {
     "name": "stderr",
     "output_type": "stream",
     "text": [
      "[2024-01-28 13:15:15,751] p81084 {701838357.py:48} INFO - get_inference, done, endpoint=llama2-70bdjl-2024-01-28-16-44-54-820-endpoint, completion_tokens=101, latency=2.91\n"
     ]
    },
    {
     "name": "stdout",
     "output_type": "stream",
     "text": [
      "Data successfully written to s3://fmbt2039/data/metrics/llama2-70b-g5-p4d-trt-v1/per_chunk/1706465715.753023.json\n"
     ]
    },
    {
     "name": "stderr",
     "output_type": "stream",
     "text": [
      "[2024-01-28 13:15:16,285] p81084 {1751706209.py:26} INFO - e_idx=2/2, chunk_index=3/15\n",
      "[2024-01-28 13:15:16,287] p81084 {1750118496.py:3} INFO - Processing chunk with concurrency=1\n",
      "[2024-01-28 13:15:16,299] p81084 {701838357.py:23} INFO - get_inference, endpoint=llama2-70bdjl-2024-01-28-16-44-54-820-endpoint, prompt_tokens=1154\n"
     ]
    },
    {
     "name": "stdout",
     "output_type": "stream",
     "text": [
      "Data successfully written to s3://fmbt2039/data/metrics/llama2-70b-g5-p4d-trt-v1/per_inference/1706465716.069004.json\n"
     ]
    },
    {
     "name": "stderr",
     "output_type": "stream",
     "text": [
      "[2024-01-28 13:15:19,072] p81084 {701838357.py:48} INFO - get_inference, done, endpoint=llama2-70bdjl-2024-01-28-16-44-54-820-endpoint, completion_tokens=101, latency=2.77\n"
     ]
    },
    {
     "name": "stdout",
     "output_type": "stream",
     "text": [
      "Data successfully written to s3://fmbt2039/data/metrics/llama2-70b-g5-p4d-trt-v1/per_chunk/1706465719.0755148.json\n"
     ]
    },
    {
     "name": "stderr",
     "output_type": "stream",
     "text": [
      "[2024-01-28 13:15:20,007] p81084 {1751706209.py:26} INFO - e_idx=2/2, chunk_index=4/15\n",
      "[2024-01-28 13:15:20,008] p81084 {1750118496.py:3} INFO - Processing chunk with concurrency=1\n",
      "[2024-01-28 13:15:20,029] p81084 {701838357.py:23} INFO - get_inference, endpoint=llama2-70bdjl-2024-01-28-16-44-54-820-endpoint, prompt_tokens=1646\n"
     ]
    },
    {
     "name": "stdout",
     "output_type": "stream",
     "text": [
      "Data successfully written to s3://fmbt2039/data/metrics/llama2-70b-g5-p4d-trt-v1/per_inference/1706465719.454758.json\n"
     ]
    },
    {
     "name": "stderr",
     "output_type": "stream",
     "text": [
      "[2024-01-28 13:15:22,894] p81084 {701838357.py:48} INFO - get_inference, done, endpoint=llama2-70bdjl-2024-01-28-16-44-54-820-endpoint, completion_tokens=101, latency=2.86\n"
     ]
    },
    {
     "name": "stdout",
     "output_type": "stream",
     "text": [
      "Data successfully written to s3://fmbt2039/data/metrics/llama2-70b-g5-p4d-trt-v1/per_chunk/1706465722.897419.json\n"
     ]
    },
    {
     "name": "stderr",
     "output_type": "stream",
     "text": [
      "[2024-01-28 13:15:23,447] p81084 {1751706209.py:26} INFO - e_idx=2/2, chunk_index=5/15\n",
      "[2024-01-28 13:15:23,449] p81084 {1750118496.py:3} INFO - Processing chunk with concurrency=1\n",
      "[2024-01-28 13:15:23,460] p81084 {701838357.py:23} INFO - get_inference, endpoint=llama2-70bdjl-2024-01-28-16-44-54-820-endpoint, prompt_tokens=1397\n"
     ]
    },
    {
     "name": "stdout",
     "output_type": "stream",
     "text": [
      "Data successfully written to s3://fmbt2039/data/metrics/llama2-70b-g5-p4d-trt-v1/per_inference/1706465723.224501.json\n"
     ]
    },
    {
     "name": "stderr",
     "output_type": "stream",
     "text": [
      "[2024-01-28 13:15:26,226] p81084 {701838357.py:48} INFO - get_inference, done, endpoint=llama2-70bdjl-2024-01-28-16-44-54-820-endpoint, completion_tokens=101, latency=2.76\n"
     ]
    },
    {
     "name": "stdout",
     "output_type": "stream",
     "text": [
      "Data successfully written to s3://fmbt2039/data/metrics/llama2-70b-g5-p4d-trt-v1/per_chunk/1706465726.227605.json\n"
     ]
    },
    {
     "name": "stderr",
     "output_type": "stream",
     "text": [
      "[2024-01-28 13:15:26,649] p81084 {1751706209.py:26} INFO - e_idx=2/2, chunk_index=6/15\n",
      "[2024-01-28 13:15:26,652] p81084 {1750118496.py:3} INFO - Processing chunk with concurrency=1\n",
      "[2024-01-28 13:15:26,678] p81084 {701838357.py:23} INFO - get_inference, endpoint=llama2-70bdjl-2024-01-28-16-44-54-820-endpoint, prompt_tokens=1746\n"
     ]
    },
    {
     "name": "stdout",
     "output_type": "stream",
     "text": [
      "Data successfully written to s3://fmbt2039/data/metrics/llama2-70b-g5-p4d-trt-v1/per_inference/1706465726.419287.json\n"
     ]
    },
    {
     "name": "stderr",
     "output_type": "stream",
     "text": [
      "[2024-01-28 13:15:29,541] p81084 {701838357.py:48} INFO - get_inference, done, endpoint=llama2-70bdjl-2024-01-28-16-44-54-820-endpoint, completion_tokens=102, latency=2.86\n"
     ]
    },
    {
     "name": "stdout",
     "output_type": "stream",
     "text": [
      "Data successfully written to s3://fmbt2039/data/metrics/llama2-70b-g5-p4d-trt-v1/per_chunk/1706465729.5430279.json\n"
     ]
    },
    {
     "name": "stderr",
     "output_type": "stream",
     "text": [
      "[2024-01-28 13:15:30,251] p81084 {1751706209.py:26} INFO - e_idx=2/2, chunk_index=7/15\n",
      "[2024-01-28 13:15:30,253] p81084 {1750118496.py:3} INFO - Processing chunk with concurrency=1\n",
      "[2024-01-28 13:15:30,264] p81084 {701838357.py:23} INFO - get_inference, endpoint=llama2-70bdjl-2024-01-28-16-44-54-820-endpoint, prompt_tokens=1373\n"
     ]
    },
    {
     "name": "stdout",
     "output_type": "stream",
     "text": [
      "Data successfully written to s3://fmbt2039/data/metrics/llama2-70b-g5-p4d-trt-v1/per_inference/1706465729.726398.json\n"
     ]
    },
    {
     "name": "stderr",
     "output_type": "stream",
     "text": [
      "[2024-01-28 13:15:33,047] p81084 {701838357.py:48} INFO - get_inference, done, endpoint=llama2-70bdjl-2024-01-28-16-44-54-820-endpoint, completion_tokens=101, latency=2.78\n"
     ]
    },
    {
     "name": "stdout",
     "output_type": "stream",
     "text": [
      "Data successfully written to s3://fmbt2039/data/metrics/llama2-70b-g5-p4d-trt-v1/per_chunk/1706465733.053258.json\n"
     ]
    },
    {
     "name": "stderr",
     "output_type": "stream",
     "text": [
      "[2024-01-28 13:15:34,160] p81084 {1751706209.py:26} INFO - e_idx=2/2, chunk_index=8/15\n",
      "[2024-01-28 13:15:34,161] p81084 {1750118496.py:3} INFO - Processing chunk with concurrency=1\n",
      "[2024-01-28 13:15:34,180] p81084 {701838357.py:23} INFO - get_inference, endpoint=llama2-70bdjl-2024-01-28-16-44-54-820-endpoint, prompt_tokens=1598\n"
     ]
    },
    {
     "name": "stdout",
     "output_type": "stream",
     "text": [
      "Data successfully written to s3://fmbt2039/data/metrics/llama2-70b-g5-p4d-trt-v1/per_inference/1706465733.5220969.json\n"
     ]
    },
    {
     "name": "stderr",
     "output_type": "stream",
     "text": [
      "[2024-01-28 13:15:37,097] p81084 {701838357.py:48} INFO - get_inference, done, endpoint=llama2-70bdjl-2024-01-28-16-44-54-820-endpoint, completion_tokens=101, latency=2.91\n"
     ]
    },
    {
     "name": "stdout",
     "output_type": "stream",
     "text": [
      "Data successfully written to s3://fmbt2039/data/metrics/llama2-70b-g5-p4d-trt-v1/per_chunk/1706465737.101205.json\n"
     ]
    },
    {
     "name": "stderr",
     "output_type": "stream",
     "text": [
      "[2024-01-28 13:15:38,361] p81084 {1751706209.py:26} INFO - e_idx=2/2, chunk_index=9/15\n",
      "[2024-01-28 13:15:38,362] p81084 {1750118496.py:3} INFO - Processing chunk with concurrency=1\n",
      "[2024-01-28 13:15:38,380] p81084 {701838357.py:23} INFO - get_inference, endpoint=llama2-70bdjl-2024-01-28-16-44-54-820-endpoint, prompt_tokens=1743\n"
     ]
    },
    {
     "name": "stdout",
     "output_type": "stream",
     "text": [
      "Data successfully written to s3://fmbt2039/data/metrics/llama2-70b-g5-p4d-trt-v1/per_inference/1706465737.651725.json\n"
     ]
    },
    {
     "name": "stderr",
     "output_type": "stream",
     "text": [
      "[2024-01-28 13:15:41,260] p81084 {701838357.py:48} INFO - get_inference, done, endpoint=llama2-70bdjl-2024-01-28-16-44-54-820-endpoint, completion_tokens=102, latency=2.88\n"
     ]
    },
    {
     "name": "stdout",
     "output_type": "stream",
     "text": [
      "Data successfully written to s3://fmbt2039/data/metrics/llama2-70b-g5-p4d-trt-v1/per_chunk/1706465741.263513.json\n"
     ]
    },
    {
     "name": "stderr",
     "output_type": "stream",
     "text": [
      "[2024-01-28 13:15:42,034] p81084 {1751706209.py:26} INFO - e_idx=2/2, chunk_index=10/15\n",
      "[2024-01-28 13:15:42,036] p81084 {1750118496.py:3} INFO - Processing chunk with concurrency=1\n",
      "[2024-01-28 13:15:42,052] p81084 {701838357.py:23} INFO - get_inference, endpoint=llama2-70bdjl-2024-01-28-16-44-54-820-endpoint, prompt_tokens=1539\n"
     ]
    },
    {
     "name": "stdout",
     "output_type": "stream",
     "text": [
      "Data successfully written to s3://fmbt2039/data/metrics/llama2-70b-g5-p4d-trt-v1/per_inference/1706465741.640115.json\n"
     ]
    },
    {
     "name": "stderr",
     "output_type": "stream",
     "text": [
      "[2024-01-28 13:15:44,921] p81084 {701838357.py:48} INFO - get_inference, done, endpoint=llama2-70bdjl-2024-01-28-16-44-54-820-endpoint, completion_tokens=102, latency=2.87\n"
     ]
    },
    {
     "name": "stdout",
     "output_type": "stream",
     "text": [
      "Data successfully written to s3://fmbt2039/data/metrics/llama2-70b-g5-p4d-trt-v1/per_chunk/1706465744.92327.json\n"
     ]
    },
    {
     "name": "stderr",
     "output_type": "stream",
     "text": [
      "[2024-01-28 13:15:45,856] p81084 {1751706209.py:26} INFO - e_idx=2/2, chunk_index=11/15\n",
      "[2024-01-28 13:15:45,857] p81084 {1750118496.py:3} INFO - Processing chunk with concurrency=1\n",
      "[2024-01-28 13:15:45,873] p81084 {701838357.py:23} INFO - get_inference, endpoint=llama2-70bdjl-2024-01-28-16-44-54-820-endpoint, prompt_tokens=1695\n"
     ]
    },
    {
     "name": "stdout",
     "output_type": "stream",
     "text": [
      "Data successfully written to s3://fmbt2039/data/metrics/llama2-70b-g5-p4d-trt-v1/per_inference/1706465745.3869498.json\n"
     ]
    },
    {
     "name": "stderr",
     "output_type": "stream",
     "text": [
      "[2024-01-28 13:15:48,738] p81084 {701838357.py:48} INFO - get_inference, done, endpoint=llama2-70bdjl-2024-01-28-16-44-54-820-endpoint, completion_tokens=102, latency=2.86\n"
     ]
    },
    {
     "name": "stdout",
     "output_type": "stream",
     "text": [
      "Data successfully written to s3://fmbt2039/data/metrics/llama2-70b-g5-p4d-trt-v1/per_chunk/1706465748.74031.json\n"
     ]
    },
    {
     "name": "stderr",
     "output_type": "stream",
     "text": [
      "[2024-01-28 13:15:49,527] p81084 {1751706209.py:26} INFO - e_idx=2/2, chunk_index=12/15\n",
      "[2024-01-28 13:15:49,529] p81084 {1750118496.py:3} INFO - Processing chunk with concurrency=1\n",
      "[2024-01-28 13:15:49,545] p81084 {701838357.py:23} INFO - get_inference, endpoint=llama2-70bdjl-2024-01-28-16-44-54-820-endpoint, prompt_tokens=1421\n"
     ]
    },
    {
     "name": "stdout",
     "output_type": "stream",
     "text": [
      "Data successfully written to s3://fmbt2039/data/metrics/llama2-70b-g5-p4d-trt-v1/per_inference/1706465749.02219.json\n"
     ]
    },
    {
     "name": "stderr",
     "output_type": "stream",
     "text": [
      "[2024-01-28 13:15:52,329] p81084 {701838357.py:48} INFO - get_inference, done, endpoint=llama2-70bdjl-2024-01-28-16-44-54-820-endpoint, completion_tokens=102, latency=2.78\n"
     ]
    },
    {
     "name": "stdout",
     "output_type": "stream",
     "text": [
      "Data successfully written to s3://fmbt2039/data/metrics/llama2-70b-g5-p4d-trt-v1/per_chunk/1706465752.333009.json\n"
     ]
    },
    {
     "name": "stderr",
     "output_type": "stream",
     "text": [
      "[2024-01-28 13:15:52,719] p81084 {1751706209.py:26} INFO - e_idx=2/2, chunk_index=13/15\n",
      "[2024-01-28 13:15:52,720] p81084 {1750118496.py:3} INFO - Processing chunk with concurrency=1\n",
      "[2024-01-28 13:15:52,740] p81084 {701838357.py:23} INFO - get_inference, endpoint=llama2-70bdjl-2024-01-28-16-44-54-820-endpoint, prompt_tokens=1918\n"
     ]
    },
    {
     "name": "stdout",
     "output_type": "stream",
     "text": [
      "Data successfully written to s3://fmbt2039/data/metrics/llama2-70b-g5-p4d-trt-v1/per_inference/1706465752.512639.json\n"
     ]
    },
    {
     "name": "stderr",
     "output_type": "stream",
     "text": [
      "[2024-01-28 13:15:55,638] p81084 {701838357.py:48} INFO - get_inference, done, endpoint=llama2-70bdjl-2024-01-28-16-44-54-820-endpoint, completion_tokens=102, latency=2.90\n"
     ]
    },
    {
     "name": "stdout",
     "output_type": "stream",
     "text": [
      "Data successfully written to s3://fmbt2039/data/metrics/llama2-70b-g5-p4d-trt-v1/per_chunk/1706465755.640525.json\n"
     ]
    },
    {
     "name": "stderr",
     "output_type": "stream",
     "text": [
      "[2024-01-28 13:15:56,407] p81084 {1751706209.py:26} INFO - e_idx=2/2, chunk_index=14/15\n",
      "[2024-01-28 13:15:56,408] p81084 {1750118496.py:3} INFO - Processing chunk with concurrency=1\n",
      "[2024-01-28 13:15:56,430] p81084 {701838357.py:23} INFO - get_inference, endpoint=llama2-70bdjl-2024-01-28-16-44-54-820-endpoint, prompt_tokens=1910\n"
     ]
    },
    {
     "name": "stdout",
     "output_type": "stream",
     "text": [
      "Data successfully written to s3://fmbt2039/data/metrics/llama2-70b-g5-p4d-trt-v1/per_inference/1706465755.900915.json\n"
     ]
    },
    {
     "name": "stderr",
     "output_type": "stream",
     "text": [
      "[2024-01-28 13:15:59,317] p81084 {701838357.py:48} INFO - get_inference, done, endpoint=llama2-70bdjl-2024-01-28-16-44-54-820-endpoint, completion_tokens=102, latency=2.89\n"
     ]
    },
    {
     "name": "stdout",
     "output_type": "stream",
     "text": [
      "Data successfully written to s3://fmbt2039/data/metrics/llama2-70b-g5-p4d-trt-v1/per_chunk/1706465759.3206651.json\n"
     ]
    },
    {
     "name": "stderr",
     "output_type": "stream",
     "text": [
      "[2024-01-28 13:15:59,800] p81084 {1751706209.py:26} INFO - e_idx=2/2, chunk_index=15/15\n",
      "[2024-01-28 13:15:59,801] p81084 {1750118496.py:3} INFO - Processing chunk with concurrency=1\n",
      "[2024-01-28 13:15:59,818] p81084 {701838357.py:23} INFO - get_inference, endpoint=llama2-70bdjl-2024-01-28-16-44-54-820-endpoint, prompt_tokens=1939\n"
     ]
    },
    {
     "name": "stdout",
     "output_type": "stream",
     "text": [
      "Data successfully written to s3://fmbt2039/data/metrics/llama2-70b-g5-p4d-trt-v1/per_inference/1706465759.527574.json\n"
     ]
    },
    {
     "name": "stderr",
     "output_type": "stream",
     "text": [
      "[2024-01-28 13:16:02,768] p81084 {701838357.py:48} INFO - get_inference, done, endpoint=llama2-70bdjl-2024-01-28-16-44-54-820-endpoint, completion_tokens=102, latency=2.95\n"
     ]
    },
    {
     "name": "stdout",
     "output_type": "stream",
     "text": [
      "Data successfully written to s3://fmbt2039/data/metrics/llama2-70b-g5-p4d-trt-v1/per_chunk/1706465762.770133.json\n"
     ]
    },
    {
     "name": "stderr",
     "output_type": "stream",
     "text": [
      "[2024-01-28 13:16:03,175] p81084 {1751706209.py:26} INFO - e_idx=2/2, chunk_index=1/1\n",
      "[2024-01-28 13:16:03,175] p81084 {1750118496.py:3} INFO - Processing chunk with concurrency=2\n",
      "[2024-01-28 13:16:03,354] p81084 {701838357.py:23} INFO - get_inference, endpoint=llama2-70bdjl-2024-01-28-16-44-54-820-endpoint, prompt_tokens=304\n",
      "[2024-01-28 13:16:03,354] p81084 {701838357.py:23} INFO - get_inference, endpoint=llama2-70bdjl-2024-01-28-16-44-54-820-endpoint, prompt_tokens=304\n"
     ]
    },
    {
     "name": "stdout",
     "output_type": "stream",
     "text": [
      "Data successfully written to s3://fmbt2039/data/metrics/llama2-70b-g5-p4d-trt-v1/per_inference/1706465762.938196.json\n"
     ]
    },
    {
     "name": "stderr",
     "output_type": "stream",
     "text": [
      "[2024-01-28 13:16:06,251] p81084 {701838357.py:48} INFO - get_inference, done, endpoint=llama2-70bdjl-2024-01-28-16-44-54-820-endpoint, completion_tokens=102, latency=2.90\n",
      "[2024-01-28 13:16:06,296] p81084 {701838357.py:48} INFO - get_inference, done, endpoint=llama2-70bdjl-2024-01-28-16-44-54-820-endpoint, completion_tokens=102, latency=2.94\n"
     ]
    },
    {
     "name": "stdout",
     "output_type": "stream",
     "text": [
      "Data successfully written to s3://fmbt2039/data/metrics/llama2-70b-g5-p4d-trt-v1/per_chunk/1706465766.303616.json\n",
      "Data successfully written to s3://fmbt2039/data/metrics/llama2-70b-g5-p4d-trt-v1/per_inference/1706465766.45579.json\n"
     ]
    },
    {
     "name": "stderr",
     "output_type": "stream",
     "text": [
      "[2024-01-28 13:16:06,810] p81084 {1751706209.py:26} INFO - e_idx=2/2, chunk_index=1/1\n",
      "[2024-01-28 13:16:06,811] p81084 {1750118496.py:3} INFO - Processing chunk with concurrency=2\n",
      "[2024-01-28 13:16:06,836] p81084 {701838357.py:23} INFO - get_inference, endpoint=llama2-70bdjl-2024-01-28-16-44-54-820-endpoint, prompt_tokens=980\n",
      "[2024-01-28 13:16:06,842] p81084 {701838357.py:23} INFO - get_inference, endpoint=llama2-70bdjl-2024-01-28-16-44-54-820-endpoint, prompt_tokens=980\n"
     ]
    },
    {
     "name": "stdout",
     "output_type": "stream",
     "text": [
      "Data successfully written to s3://fmbt2039/data/metrics/llama2-70b-g5-p4d-trt-v1/per_inference/1706465766.641508.json\n"
     ]
    },
    {
     "name": "stderr",
     "output_type": "stream",
     "text": [
      "[2024-01-28 13:16:09,732] p81084 {701838357.py:48} INFO - get_inference, done, endpoint=llama2-70bdjl-2024-01-28-16-44-54-820-endpoint, completion_tokens=102, latency=2.89\n",
      "[2024-01-28 13:16:09,761] p81084 {701838357.py:48} INFO - get_inference, done, endpoint=llama2-70bdjl-2024-01-28-16-44-54-820-endpoint, completion_tokens=102, latency=2.92\n"
     ]
    },
    {
     "name": "stdout",
     "output_type": "stream",
     "text": [
      "Data successfully written to s3://fmbt2039/data/metrics/llama2-70b-g5-p4d-trt-v1/per_chunk/1706465769.774147.json\n",
      "Data successfully written to s3://fmbt2039/data/metrics/llama2-70b-g5-p4d-trt-v1/per_inference/1706465769.934328.json\n"
     ]
    },
    {
     "name": "stderr",
     "output_type": "stream",
     "text": [
      "[2024-01-28 13:16:10,313] p81084 {1751706209.py:26} INFO - e_idx=2/2, chunk_index=1/8\n",
      "[2024-01-28 13:16:10,315] p81084 {1750118496.py:3} INFO - Processing chunk with concurrency=2\n",
      "[2024-01-28 13:16:10,341] p81084 {701838357.py:23} INFO - get_inference, endpoint=llama2-70bdjl-2024-01-28-16-44-54-820-endpoint, prompt_tokens=1339\n",
      "[2024-01-28 13:16:10,345] p81084 {701838357.py:23} INFO - get_inference, endpoint=llama2-70bdjl-2024-01-28-16-44-54-820-endpoint, prompt_tokens=1932\n"
     ]
    },
    {
     "name": "stdout",
     "output_type": "stream",
     "text": [
      "Data successfully written to s3://fmbt2039/data/metrics/llama2-70b-g5-p4d-trt-v1/per_inference/1706465770.1232839.json\n"
     ]
    },
    {
     "name": "stderr",
     "output_type": "stream",
     "text": [
      "[2024-01-28 13:16:13,505] p81084 {701838357.py:48} INFO - get_inference, done, endpoint=llama2-70bdjl-2024-01-28-16-44-54-820-endpoint, completion_tokens=101, latency=3.16\n",
      "[2024-01-28 13:16:13,542] p81084 {701838357.py:48} INFO - get_inference, done, endpoint=llama2-70bdjl-2024-01-28-16-44-54-820-endpoint, completion_tokens=101, latency=3.20\n"
     ]
    },
    {
     "name": "stdout",
     "output_type": "stream",
     "text": [
      "Data successfully written to s3://fmbt2039/data/metrics/llama2-70b-g5-p4d-trt-v1/per_chunk/1706465773.5444438.json\n",
      "Data successfully written to s3://fmbt2039/data/metrics/llama2-70b-g5-p4d-trt-v1/per_inference/1706465773.7420642.json\n"
     ]
    },
    {
     "name": "stderr",
     "output_type": "stream",
     "text": [
      "[2024-01-28 13:16:14,145] p81084 {1751706209.py:26} INFO - e_idx=2/2, chunk_index=2/8\n",
      "[2024-01-28 13:16:14,146] p81084 {1750118496.py:3} INFO - Processing chunk with concurrency=2\n",
      "[2024-01-28 13:16:14,163] p81084 {701838357.py:23} INFO - get_inference, endpoint=llama2-70bdjl-2024-01-28-16-44-54-820-endpoint, prompt_tokens=1154\n",
      "[2024-01-28 13:16:14,165] p81084 {701838357.py:23} INFO - get_inference, endpoint=llama2-70bdjl-2024-01-28-16-44-54-820-endpoint, prompt_tokens=1646\n"
     ]
    },
    {
     "name": "stdout",
     "output_type": "stream",
     "text": [
      "Data successfully written to s3://fmbt2039/data/metrics/llama2-70b-g5-p4d-trt-v1/per_inference/1706465773.9449081.json\n"
     ]
    },
    {
     "name": "stderr",
     "output_type": "stream",
     "text": [
      "[2024-01-28 13:16:17,222] p81084 {701838357.py:48} INFO - get_inference, done, endpoint=llama2-70bdjl-2024-01-28-16-44-54-820-endpoint, completion_tokens=101, latency=3.06\n",
      "[2024-01-28 13:16:17,237] p81084 {701838357.py:48} INFO - get_inference, done, endpoint=llama2-70bdjl-2024-01-28-16-44-54-820-endpoint, completion_tokens=101, latency=3.07\n"
     ]
    },
    {
     "name": "stdout",
     "output_type": "stream",
     "text": [
      "Data successfully written to s3://fmbt2039/data/metrics/llama2-70b-g5-p4d-trt-v1/per_chunk/1706465777.238824.json\n",
      "Data successfully written to s3://fmbt2039/data/metrics/llama2-70b-g5-p4d-trt-v1/per_inference/1706465777.397551.json\n"
     ]
    },
    {
     "name": "stderr",
     "output_type": "stream",
     "text": [
      "[2024-01-28 13:16:17,820] p81084 {1751706209.py:26} INFO - e_idx=2/2, chunk_index=3/8\n",
      "[2024-01-28 13:16:17,821] p81084 {1750118496.py:3} INFO - Processing chunk with concurrency=2\n",
      "[2024-01-28 13:16:17,835] p81084 {701838357.py:23} INFO - get_inference, endpoint=llama2-70bdjl-2024-01-28-16-44-54-820-endpoint, prompt_tokens=1397\n",
      "[2024-01-28 13:16:17,840] p81084 {701838357.py:23} INFO - get_inference, endpoint=llama2-70bdjl-2024-01-28-16-44-54-820-endpoint, prompt_tokens=1746\n"
     ]
    },
    {
     "name": "stdout",
     "output_type": "stream",
     "text": [
      "Data successfully written to s3://fmbt2039/data/metrics/llama2-70b-g5-p4d-trt-v1/per_inference/1706465777.597492.json\n"
     ]
    },
    {
     "name": "stderr",
     "output_type": "stream",
     "text": [
      "[2024-01-28 13:16:20,996] p81084 {701838357.py:48} INFO - get_inference, done, endpoint=llama2-70bdjl-2024-01-28-16-44-54-820-endpoint, completion_tokens=101, latency=3.16\n",
      "[2024-01-28 13:16:20,997] p81084 {701838357.py:48} INFO - get_inference, done, endpoint=llama2-70bdjl-2024-01-28-16-44-54-820-endpoint, completion_tokens=102, latency=3.16\n"
     ]
    },
    {
     "name": "stdout",
     "output_type": "stream",
     "text": [
      "Data successfully written to s3://fmbt2039/data/metrics/llama2-70b-g5-p4d-trt-v1/per_chunk/1706465781.002149.json\n",
      "Data successfully written to s3://fmbt2039/data/metrics/llama2-70b-g5-p4d-trt-v1/per_inference/1706465781.4718862.json\n"
     ]
    },
    {
     "name": "stderr",
     "output_type": "stream",
     "text": [
      "[2024-01-28 13:16:22,130] p81084 {1751706209.py:26} INFO - e_idx=2/2, chunk_index=4/8\n",
      "[2024-01-28 13:16:22,131] p81084 {1750118496.py:3} INFO - Processing chunk with concurrency=2\n",
      "[2024-01-28 13:16:22,148] p81084 {701838357.py:23} INFO - get_inference, endpoint=llama2-70bdjl-2024-01-28-16-44-54-820-endpoint, prompt_tokens=1598\n",
      "[2024-01-28 13:16:22,152] p81084 {701838357.py:23} INFO - get_inference, endpoint=llama2-70bdjl-2024-01-28-16-44-54-820-endpoint, prompt_tokens=1373\n"
     ]
    },
    {
     "name": "stdout",
     "output_type": "stream",
     "text": [
      "Data successfully written to s3://fmbt2039/data/metrics/llama2-70b-g5-p4d-trt-v1/per_inference/1706465781.8819242.json\n"
     ]
    },
    {
     "name": "stderr",
     "output_type": "stream",
     "text": [
      "[2024-01-28 13:16:25,231] p81084 {701838357.py:48} INFO - get_inference, done, endpoint=llama2-70bdjl-2024-01-28-16-44-54-820-endpoint, completion_tokens=101, latency=3.07\n",
      "[2024-01-28 13:16:25,248] p81084 {701838357.py:48} INFO - get_inference, done, endpoint=llama2-70bdjl-2024-01-28-16-44-54-820-endpoint, completion_tokens=101, latency=3.10\n"
     ]
    },
    {
     "name": "stdout",
     "output_type": "stream",
     "text": [
      "Data successfully written to s3://fmbt2039/data/metrics/llama2-70b-g5-p4d-trt-v1/per_chunk/1706465785.252672.json\n",
      "Data successfully written to s3://fmbt2039/data/metrics/llama2-70b-g5-p4d-trt-v1/per_inference/1706465785.4280121.json\n"
     ]
    },
    {
     "name": "stderr",
     "output_type": "stream",
     "text": [
      "[2024-01-28 13:16:25,878] p81084 {1751706209.py:26} INFO - e_idx=2/2, chunk_index=5/8\n",
      "[2024-01-28 13:16:25,879] p81084 {1750118496.py:3} INFO - Processing chunk with concurrency=2\n",
      "[2024-01-28 13:16:25,893] p81084 {701838357.py:23} INFO - get_inference, endpoint=llama2-70bdjl-2024-01-28-16-44-54-820-endpoint, prompt_tokens=1539\n",
      "[2024-01-28 13:16:25,894] p81084 {701838357.py:23} INFO - get_inference, endpoint=llama2-70bdjl-2024-01-28-16-44-54-820-endpoint, prompt_tokens=1743\n"
     ]
    },
    {
     "name": "stdout",
     "output_type": "stream",
     "text": [
      "Data successfully written to s3://fmbt2039/data/metrics/llama2-70b-g5-p4d-trt-v1/per_inference/1706465785.655775.json\n"
     ]
    },
    {
     "name": "stderr",
     "output_type": "stream",
     "text": [
      "[2024-01-28 13:16:29,019] p81084 {701838357.py:48} INFO - get_inference, done, endpoint=llama2-70bdjl-2024-01-28-16-44-54-820-endpoint, completion_tokens=102, latency=3.12\n",
      "[2024-01-28 13:16:29,039] p81084 {701838357.py:48} INFO - get_inference, done, endpoint=llama2-70bdjl-2024-01-28-16-44-54-820-endpoint, completion_tokens=102, latency=3.14\n"
     ]
    },
    {
     "name": "stdout",
     "output_type": "stream",
     "text": [
      "Data successfully written to s3://fmbt2039/data/metrics/llama2-70b-g5-p4d-trt-v1/per_chunk/1706465789.04187.json\n"
     ]
    },
    {
     "name": "stderr",
     "output_type": "stream",
     "text": [
      "[2024-01-28 13:16:29,668] p81084 {1751706209.py:26} INFO - e_idx=2/2, chunk_index=6/8\n",
      "[2024-01-28 13:16:29,669] p81084 {1750118496.py:3} INFO - Processing chunk with concurrency=2\n"
     ]
    },
    {
     "name": "stdout",
     "output_type": "stream",
     "text": [
      "Data successfully written to s3://fmbt2039/data/metrics/llama2-70b-g5-p4d-trt-v1/per_inference/1706465789.250386.json\n",
      "Data successfully written to s3://fmbt2039/data/metrics/llama2-70b-g5-p4d-trt-v1/per_inference/1706465789.490734.json\n"
     ]
    },
    {
     "name": "stderr",
     "output_type": "stream",
     "text": [
      "[2024-01-28 13:16:29,689] p81084 {701838357.py:23} INFO - get_inference, endpoint=llama2-70bdjl-2024-01-28-16-44-54-820-endpoint, prompt_tokens=1695\n",
      "[2024-01-28 13:16:29,690] p81084 {701838357.py:23} INFO - get_inference, endpoint=llama2-70bdjl-2024-01-28-16-44-54-820-endpoint, prompt_tokens=1421\n",
      "[2024-01-28 13:16:32,803] p81084 {701838357.py:48} INFO - get_inference, done, endpoint=llama2-70bdjl-2024-01-28-16-44-54-820-endpoint, completion_tokens=102, latency=3.11\n",
      "[2024-01-28 13:16:32,824] p81084 {701838357.py:48} INFO - get_inference, done, endpoint=llama2-70bdjl-2024-01-28-16-44-54-820-endpoint, completion_tokens=102, latency=3.13\n"
     ]
    },
    {
     "name": "stdout",
     "output_type": "stream",
     "text": [
      "Data successfully written to s3://fmbt2039/data/metrics/llama2-70b-g5-p4d-trt-v1/per_chunk/1706465792.8268359.json\n",
      "Data successfully written to s3://fmbt2039/data/metrics/llama2-70b-g5-p4d-trt-v1/per_inference/1706465793.018674.json\n"
     ]
    },
    {
     "name": "stderr",
     "output_type": "stream",
     "text": [
      "[2024-01-28 13:16:33,630] p81084 {1751706209.py:26} INFO - e_idx=2/2, chunk_index=7/8\n",
      "[2024-01-28 13:16:33,632] p81084 {1750118496.py:3} INFO - Processing chunk with concurrency=2\n",
      "[2024-01-28 13:16:33,653] p81084 {701838357.py:23} INFO - get_inference, endpoint=llama2-70bdjl-2024-01-28-16-44-54-820-endpoint, prompt_tokens=1910\n",
      "[2024-01-28 13:16:33,654] p81084 {701838357.py:23} INFO - get_inference, endpoint=llama2-70bdjl-2024-01-28-16-44-54-820-endpoint, prompt_tokens=1918\n"
     ]
    },
    {
     "name": "stdout",
     "output_type": "stream",
     "text": [
      "Data successfully written to s3://fmbt2039/data/metrics/llama2-70b-g5-p4d-trt-v1/per_inference/1706465793.231471.json\n"
     ]
    },
    {
     "name": "stderr",
     "output_type": "stream",
     "text": [
      "[2024-01-28 13:16:36,842] p81084 {701838357.py:48} INFO - get_inference, done, endpoint=llama2-70bdjl-2024-01-28-16-44-54-820-endpoint, completion_tokens=102, latency=3.19\n",
      "[2024-01-28 13:16:36,858] p81084 {701838357.py:48} INFO - get_inference, done, endpoint=llama2-70bdjl-2024-01-28-16-44-54-820-endpoint, completion_tokens=102, latency=3.20\n"
     ]
    },
    {
     "name": "stdout",
     "output_type": "stream",
     "text": [
      "Data successfully written to s3://fmbt2039/data/metrics/llama2-70b-g5-p4d-trt-v1/per_chunk/1706465796.864885.json\n",
      "Data successfully written to s3://fmbt2039/data/metrics/llama2-70b-g5-p4d-trt-v1/per_inference/1706465797.026625.json\n"
     ]
    },
    {
     "name": "stderr",
     "output_type": "stream",
     "text": [
      "[2024-01-28 13:16:37,480] p81084 {1751706209.py:26} INFO - e_idx=2/2, chunk_index=8/8\n",
      "[2024-01-28 13:16:37,481] p81084 {1750118496.py:3} INFO - Processing chunk with concurrency=2\n",
      "[2024-01-28 13:16:37,506] p81084 {701838357.py:23} INFO - get_inference, endpoint=llama2-70bdjl-2024-01-28-16-44-54-820-endpoint, prompt_tokens=1939\n",
      "[2024-01-28 13:16:37,509] p81084 {701838357.py:23} INFO - get_inference, endpoint=llama2-70bdjl-2024-01-28-16-44-54-820-endpoint, prompt_tokens=1939\n"
     ]
    },
    {
     "name": "stdout",
     "output_type": "stream",
     "text": [
      "Data successfully written to s3://fmbt2039/data/metrics/llama2-70b-g5-p4d-trt-v1/per_inference/1706465797.2269282.json\n"
     ]
    },
    {
     "name": "stderr",
     "output_type": "stream",
     "text": [
      "[2024-01-28 13:16:40,748] p81084 {701838357.py:48} INFO - get_inference, done, endpoint=llama2-70bdjl-2024-01-28-16-44-54-820-endpoint, completion_tokens=102, latency=3.24\n",
      "[2024-01-28 13:16:40,762] p81084 {701838357.py:48} INFO - get_inference, done, endpoint=llama2-70bdjl-2024-01-28-16-44-54-820-endpoint, completion_tokens=102, latency=3.25\n"
     ]
    },
    {
     "name": "stdout",
     "output_type": "stream",
     "text": [
      "Data successfully written to s3://fmbt2039/data/metrics/llama2-70b-g5-p4d-trt-v1/per_chunk/1706465800.767362.json\n",
      "Data successfully written to s3://fmbt2039/data/metrics/llama2-70b-g5-p4d-trt-v1/per_inference/1706465801.000706.json\n"
     ]
    },
    {
     "name": "stderr",
     "output_type": "stream",
     "text": [
      "[2024-01-28 13:16:41,438] p81084 {1751706209.py:26} INFO - e_idx=2/2, chunk_index=1/1\n",
      "[2024-01-28 13:16:41,439] p81084 {1750118496.py:3} INFO - Processing chunk with concurrency=4\n",
      "[2024-01-28 13:16:41,452] p81084 {701838357.py:23} INFO - get_inference, endpoint=llama2-70bdjl-2024-01-28-16-44-54-820-endpoint, prompt_tokens=304\n",
      "[2024-01-28 13:16:41,464] p81084 {701838357.py:23} INFO - get_inference, endpoint=llama2-70bdjl-2024-01-28-16-44-54-820-endpoint, prompt_tokens=304\n",
      "[2024-01-28 13:16:41,465] p81084 {701838357.py:23} INFO - get_inference, endpoint=llama2-70bdjl-2024-01-28-16-44-54-820-endpoint, prompt_tokens=304\n",
      "[2024-01-28 13:16:41,465] p81084 {701838357.py:23} INFO - get_inference, endpoint=llama2-70bdjl-2024-01-28-16-44-54-820-endpoint, prompt_tokens=304\n"
     ]
    },
    {
     "name": "stdout",
     "output_type": "stream",
     "text": [
      "Data successfully written to s3://fmbt2039/data/metrics/llama2-70b-g5-p4d-trt-v1/per_inference/1706465801.22663.json\n"
     ]
    },
    {
     "name": "stderr",
     "output_type": "stream",
     "text": [
      "[2024-01-28 13:16:44,551] p81084 {701838357.py:48} INFO - get_inference, done, endpoint=llama2-70bdjl-2024-01-28-16-44-54-820-endpoint, completion_tokens=102, latency=3.09\n",
      "[2024-01-28 13:16:44,595] p81084 {701838357.py:48} INFO - get_inference, done, endpoint=llama2-70bdjl-2024-01-28-16-44-54-820-endpoint, completion_tokens=102, latency=3.13\n",
      "[2024-01-28 13:16:44,597] p81084 {701838357.py:48} INFO - get_inference, done, endpoint=llama2-70bdjl-2024-01-28-16-44-54-820-endpoint, completion_tokens=102, latency=3.13\n",
      "[2024-01-28 13:16:44,597] p81084 {701838357.py:48} INFO - get_inference, done, endpoint=llama2-70bdjl-2024-01-28-16-44-54-820-endpoint, completion_tokens=102, latency=3.13\n"
     ]
    },
    {
     "name": "stdout",
     "output_type": "stream",
     "text": [
      "Data successfully written to s3://fmbt2039/data/metrics/llama2-70b-g5-p4d-trt-v1/per_chunk/1706465804.600499.json\n",
      "Data successfully written to s3://fmbt2039/data/metrics/llama2-70b-g5-p4d-trt-v1/per_inference/1706465804.751301.json\n",
      "Data successfully written to s3://fmbt2039/data/metrics/llama2-70b-g5-p4d-trt-v1/per_inference/1706465804.9217348.json\n",
      "Data successfully written to s3://fmbt2039/data/metrics/llama2-70b-g5-p4d-trt-v1/per_inference/1706465805.097844.json\n"
     ]
    },
    {
     "name": "stderr",
     "output_type": "stream",
     "text": [
      "[2024-01-28 13:16:45,448] p81084 {1751706209.py:26} INFO - e_idx=2/2, chunk_index=1/1\n",
      "[2024-01-28 13:16:45,449] p81084 {1750118496.py:3} INFO - Processing chunk with concurrency=4\n",
      "[2024-01-28 13:16:45,458] p81084 {701838357.py:23} INFO - get_inference, endpoint=llama2-70bdjl-2024-01-28-16-44-54-820-endpoint, prompt_tokens=980\n",
      "[2024-01-28 13:16:45,458] p81084 {701838357.py:23} INFO - get_inference, endpoint=llama2-70bdjl-2024-01-28-16-44-54-820-endpoint, prompt_tokens=980\n",
      "[2024-01-28 13:16:45,459] p81084 {701838357.py:23} INFO - get_inference, endpoint=llama2-70bdjl-2024-01-28-16-44-54-820-endpoint, prompt_tokens=980\n",
      "[2024-01-28 13:16:45,460] p81084 {701838357.py:23} INFO - get_inference, endpoint=llama2-70bdjl-2024-01-28-16-44-54-820-endpoint, prompt_tokens=980\n"
     ]
    },
    {
     "name": "stdout",
     "output_type": "stream",
     "text": [
      "Data successfully written to s3://fmbt2039/data/metrics/llama2-70b-g5-p4d-trt-v1/per_inference/1706465805.2666738.json\n"
     ]
    },
    {
     "name": "stderr",
     "output_type": "stream",
     "text": [
      "[2024-01-28 13:16:48,849] p81084 {701838357.py:48} INFO - get_inference, done, endpoint=llama2-70bdjl-2024-01-28-16-44-54-820-endpoint, completion_tokens=102, latency=3.39\n",
      "[2024-01-28 13:16:48,868] p81084 {701838357.py:48} INFO - get_inference, done, endpoint=llama2-70bdjl-2024-01-28-16-44-54-820-endpoint, completion_tokens=102, latency=3.41\n",
      "[2024-01-28 13:16:48,871] p81084 {701838357.py:48} INFO - get_inference, done, endpoint=llama2-70bdjl-2024-01-28-16-44-54-820-endpoint, completion_tokens=102, latency=3.41\n",
      "[2024-01-28 13:16:48,872] p81084 {701838357.py:48} INFO - get_inference, done, endpoint=llama2-70bdjl-2024-01-28-16-44-54-820-endpoint, completion_tokens=102, latency=3.41\n"
     ]
    },
    {
     "name": "stdout",
     "output_type": "stream",
     "text": [
      "Data successfully written to s3://fmbt2039/data/metrics/llama2-70b-g5-p4d-trt-v1/per_chunk/1706465808.908737.json\n",
      "Data successfully written to s3://fmbt2039/data/metrics/llama2-70b-g5-p4d-trt-v1/per_inference/1706465809.0991292.json\n",
      "Data successfully written to s3://fmbt2039/data/metrics/llama2-70b-g5-p4d-trt-v1/per_inference/1706465809.291656.json\n",
      "Data successfully written to s3://fmbt2039/data/metrics/llama2-70b-g5-p4d-trt-v1/per_inference/1706465809.471272.json\n"
     ]
    },
    {
     "name": "stderr",
     "output_type": "stream",
     "text": [
      "[2024-01-28 13:16:49,850] p81084 {1751706209.py:26} INFO - e_idx=2/2, chunk_index=1/4\n",
      "[2024-01-28 13:16:49,851] p81084 {1750118496.py:3} INFO - Processing chunk with concurrency=4\n",
      "[2024-01-28 13:16:49,869] p81084 {701838357.py:23} INFO - get_inference, endpoint=llama2-70bdjl-2024-01-28-16-44-54-820-endpoint, prompt_tokens=1932\n",
      "[2024-01-28 13:16:49,873] p81084 {701838357.py:23} INFO - get_inference, endpoint=llama2-70bdjl-2024-01-28-16-44-54-820-endpoint, prompt_tokens=1339\n",
      "[2024-01-28 13:16:49,875] p81084 {701838357.py:23} INFO - get_inference, endpoint=llama2-70bdjl-2024-01-28-16-44-54-820-endpoint, prompt_tokens=1154\n",
      "[2024-01-28 13:16:49,878] p81084 {701838357.py:23} INFO - get_inference, endpoint=llama2-70bdjl-2024-01-28-16-44-54-820-endpoint, prompt_tokens=1646\n"
     ]
    },
    {
     "name": "stdout",
     "output_type": "stream",
     "text": [
      "Data successfully written to s3://fmbt2039/data/metrics/llama2-70b-g5-p4d-trt-v1/per_inference/1706465809.645972.json\n"
     ]
    },
    {
     "name": "stderr",
     "output_type": "stream",
     "text": [
      "[2024-01-28 13:16:53,620] p81084 {701838357.py:48} INFO - get_inference, done, endpoint=llama2-70bdjl-2024-01-28-16-44-54-820-endpoint, completion_tokens=102, latency=3.74\n",
      "[2024-01-28 13:16:53,640] p81084 {701838357.py:48} INFO - get_inference, done, endpoint=llama2-70bdjl-2024-01-28-16-44-54-820-endpoint, completion_tokens=101, latency=3.76\n",
      "[2024-01-28 13:16:53,642] p81084 {701838357.py:48} INFO - get_inference, done, endpoint=llama2-70bdjl-2024-01-28-16-44-54-820-endpoint, completion_tokens=102, latency=3.76\n",
      "[2024-01-28 13:16:53,644] p81084 {701838357.py:48} INFO - get_inference, done, endpoint=llama2-70bdjl-2024-01-28-16-44-54-820-endpoint, completion_tokens=101, latency=3.77\n"
     ]
    },
    {
     "name": "stdout",
     "output_type": "stream",
     "text": [
      "Data successfully written to s3://fmbt2039/data/metrics/llama2-70b-g5-p4d-trt-v1/per_chunk/1706465813.6581461.json\n",
      "Data successfully written to s3://fmbt2039/data/metrics/llama2-70b-g5-p4d-trt-v1/per_inference/1706465813.8344781.json\n",
      "Data successfully written to s3://fmbt2039/data/metrics/llama2-70b-g5-p4d-trt-v1/per_inference/1706465814.084564.json\n",
      "Data successfully written to s3://fmbt2039/data/metrics/llama2-70b-g5-p4d-trt-v1/per_inference/1706465814.3285928.json\n"
     ]
    },
    {
     "name": "stderr",
     "output_type": "stream",
     "text": [
      "[2024-01-28 13:16:54,754] p81084 {1751706209.py:26} INFO - e_idx=2/2, chunk_index=2/4\n",
      "[2024-01-28 13:16:54,755] p81084 {1750118496.py:3} INFO - Processing chunk with concurrency=4\n",
      "[2024-01-28 13:16:54,770] p81084 {701838357.py:23} INFO - get_inference, endpoint=llama2-70bdjl-2024-01-28-16-44-54-820-endpoint, prompt_tokens=1397\n",
      "[2024-01-28 13:16:54,772] p81084 {701838357.py:23} INFO - get_inference, endpoint=llama2-70bdjl-2024-01-28-16-44-54-820-endpoint, prompt_tokens=1746\n",
      "[2024-01-28 13:16:54,774] p81084 {701838357.py:23} INFO - get_inference, endpoint=llama2-70bdjl-2024-01-28-16-44-54-820-endpoint, prompt_tokens=1373\n",
      "[2024-01-28 13:16:54,774] p81084 {701838357.py:23} INFO - get_inference, endpoint=llama2-70bdjl-2024-01-28-16-44-54-820-endpoint, prompt_tokens=1598\n"
     ]
    },
    {
     "name": "stdout",
     "output_type": "stream",
     "text": [
      "Data successfully written to s3://fmbt2039/data/metrics/llama2-70b-g5-p4d-trt-v1/per_inference/1706465814.527772.json\n"
     ]
    },
    {
     "name": "stderr",
     "output_type": "stream",
     "text": [
      "[2024-01-28 13:16:58,520] p81084 {701838357.py:48} INFO - get_inference, done, endpoint=llama2-70bdjl-2024-01-28-16-44-54-820-endpoint, completion_tokens=101, latency=3.75\n",
      "[2024-01-28 13:16:58,542] p81084 {701838357.py:48} INFO - get_inference, done, endpoint=llama2-70bdjl-2024-01-28-16-44-54-820-endpoint, completion_tokens=101, latency=3.77\n",
      "[2024-01-28 13:16:58,543] p81084 {701838357.py:48} INFO - get_inference, done, endpoint=llama2-70bdjl-2024-01-28-16-44-54-820-endpoint, completion_tokens=102, latency=3.77\n",
      "[2024-01-28 13:16:58,545] p81084 {701838357.py:48} INFO - get_inference, done, endpoint=llama2-70bdjl-2024-01-28-16-44-54-820-endpoint, completion_tokens=101, latency=3.77\n"
     ]
    },
    {
     "name": "stdout",
     "output_type": "stream",
     "text": [
      "Data successfully written to s3://fmbt2039/data/metrics/llama2-70b-g5-p4d-trt-v1/per_chunk/1706465818.556525.json\n",
      "Data successfully written to s3://fmbt2039/data/metrics/llama2-70b-g5-p4d-trt-v1/per_inference/1706465818.7793338.json\n",
      "Data successfully written to s3://fmbt2039/data/metrics/llama2-70b-g5-p4d-trt-v1/per_inference/1706465819.075389.json\n",
      "Data successfully written to s3://fmbt2039/data/metrics/llama2-70b-g5-p4d-trt-v1/per_inference/1706465819.273716.json\n"
     ]
    },
    {
     "name": "stderr",
     "output_type": "stream",
     "text": [
      "[2024-01-28 13:16:59,725] p81084 {1751706209.py:26} INFO - e_idx=2/2, chunk_index=3/4\n",
      "[2024-01-28 13:16:59,726] p81084 {1750118496.py:3} INFO - Processing chunk with concurrency=4\n",
      "[2024-01-28 13:16:59,741] p81084 {701838357.py:23} INFO - get_inference, endpoint=llama2-70bdjl-2024-01-28-16-44-54-820-endpoint, prompt_tokens=1743\n",
      "[2024-01-28 13:16:59,747] p81084 {701838357.py:23} INFO - get_inference, endpoint=llama2-70bdjl-2024-01-28-16-44-54-820-endpoint, prompt_tokens=1539\n",
      "[2024-01-28 13:16:59,752] p81084 {701838357.py:23} INFO - get_inference, endpoint=llama2-70bdjl-2024-01-28-16-44-54-820-endpoint, prompt_tokens=1695\n",
      "[2024-01-28 13:16:59,761] p81084 {701838357.py:23} INFO - get_inference, endpoint=llama2-70bdjl-2024-01-28-16-44-54-820-endpoint, prompt_tokens=1421\n"
     ]
    },
    {
     "name": "stdout",
     "output_type": "stream",
     "text": [
      "Data successfully written to s3://fmbt2039/data/metrics/llama2-70b-g5-p4d-trt-v1/per_inference/1706465819.4973068.json\n"
     ]
    },
    {
     "name": "stderr",
     "output_type": "stream",
     "text": [
      "[2024-01-28 13:17:03,574] p81084 {701838357.py:48} INFO - get_inference, done, endpoint=llama2-70bdjl-2024-01-28-16-44-54-820-endpoint, completion_tokens=102, latency=3.80\n",
      "[2024-01-28 13:17:03,596] p81084 {701838357.py:48} INFO - get_inference, done, endpoint=llama2-70bdjl-2024-01-28-16-44-54-820-endpoint, completion_tokens=102, latency=3.83\n",
      "[2024-01-28 13:17:03,603] p81084 {701838357.py:48} INFO - get_inference, done, endpoint=llama2-70bdjl-2024-01-28-16-44-54-820-endpoint, completion_tokens=102, latency=3.85\n",
      "[2024-01-28 13:17:03,604] p81084 {701838357.py:48} INFO - get_inference, done, endpoint=llama2-70bdjl-2024-01-28-16-44-54-820-endpoint, completion_tokens=102, latency=3.84\n"
     ]
    },
    {
     "name": "stdout",
     "output_type": "stream",
     "text": [
      "Data successfully written to s3://fmbt2039/data/metrics/llama2-70b-g5-p4d-trt-v1/per_chunk/1706465823.609238.json\n",
      "Data successfully written to s3://fmbt2039/data/metrics/llama2-70b-g5-p4d-trt-v1/per_inference/1706465823.794166.json\n",
      "Data successfully written to s3://fmbt2039/data/metrics/llama2-70b-g5-p4d-trt-v1/per_inference/1706465823.9984782.json\n",
      "Data successfully written to s3://fmbt2039/data/metrics/llama2-70b-g5-p4d-trt-v1/per_inference/1706465824.226051.json\n"
     ]
    },
    {
     "name": "stderr",
     "output_type": "stream",
     "text": [
      "[2024-01-28 13:17:04,577] p81084 {1751706209.py:26} INFO - e_idx=2/2, chunk_index=4/4\n",
      "[2024-01-28 13:17:04,578] p81084 {1750118496.py:3} INFO - Processing chunk with concurrency=4\n",
      "[2024-01-28 13:17:04,598] p81084 {701838357.py:23} INFO - get_inference, endpoint=llama2-70bdjl-2024-01-28-16-44-54-820-endpoint, prompt_tokens=1918\n",
      "[2024-01-28 13:17:04,602] p81084 {701838357.py:23} INFO - get_inference, endpoint=llama2-70bdjl-2024-01-28-16-44-54-820-endpoint, prompt_tokens=1910\n",
      "[2024-01-28 13:17:04,612] p81084 {701838357.py:23} INFO - get_inference, endpoint=llama2-70bdjl-2024-01-28-16-44-54-820-endpoint, prompt_tokens=1939\n",
      "[2024-01-28 13:17:04,613] p81084 {701838357.py:23} INFO - get_inference, endpoint=llama2-70bdjl-2024-01-28-16-44-54-820-endpoint, prompt_tokens=1918\n"
     ]
    },
    {
     "name": "stdout",
     "output_type": "stream",
     "text": [
      "Data successfully written to s3://fmbt2039/data/metrics/llama2-70b-g5-p4d-trt-v1/per_inference/1706465824.389766.json\n"
     ]
    },
    {
     "name": "stderr",
     "output_type": "stream",
     "text": [
      "[2024-01-28 13:17:08,511] p81084 {701838357.py:48} INFO - get_inference, done, endpoint=llama2-70bdjl-2024-01-28-16-44-54-820-endpoint, completion_tokens=102, latency=3.91\n",
      "[2024-01-28 13:17:08,536] p81084 {701838357.py:48} INFO - get_inference, done, endpoint=llama2-70bdjl-2024-01-28-16-44-54-820-endpoint, completion_tokens=102, latency=3.91\n",
      "[2024-01-28 13:17:08,541] p81084 {701838357.py:48} INFO - get_inference, done, endpoint=llama2-70bdjl-2024-01-28-16-44-54-820-endpoint, completion_tokens=102, latency=3.94\n",
      "[2024-01-28 13:17:08,541] p81084 {701838357.py:48} INFO - get_inference, done, endpoint=llama2-70bdjl-2024-01-28-16-44-54-820-endpoint, completion_tokens=102, latency=3.92\n"
     ]
    },
    {
     "name": "stdout",
     "output_type": "stream",
     "text": [
      "Data successfully written to s3://fmbt2039/data/metrics/llama2-70b-g5-p4d-trt-v1/per_chunk/1706465828.565856.json\n",
      "Data successfully written to s3://fmbt2039/data/metrics/llama2-70b-g5-p4d-trt-v1/per_inference/1706465828.726332.json\n",
      "Data successfully written to s3://fmbt2039/data/metrics/llama2-70b-g5-p4d-trt-v1/per_inference/1706465828.9108841.json\n"
     ]
    },
    {
     "name": "stderr",
     "output_type": "stream",
     "text": [
      "[2024-01-28 13:17:09,551] p81084 {1751706209.py:26} INFO - e_idx=2/2, chunk_index=1/1\n",
      "[2024-01-28 13:17:09,552] p81084 {1750118496.py:3} INFO - Processing chunk with concurrency=6\n"
     ]
    },
    {
     "name": "stdout",
     "output_type": "stream",
     "text": [
      "Data successfully written to s3://fmbt2039/data/metrics/llama2-70b-g5-p4d-trt-v1/per_inference/1706465829.140081.json\n",
      "Data successfully written to s3://fmbt2039/data/metrics/llama2-70b-g5-p4d-trt-v1/per_inference/1706465829.363012.json\n"
     ]
    },
    {
     "name": "stderr",
     "output_type": "stream",
     "text": [
      "[2024-01-28 13:17:09,572] p81084 {701838357.py:23} INFO - get_inference, endpoint=llama2-70bdjl-2024-01-28-16-44-54-820-endpoint, prompt_tokens=304\n",
      "[2024-01-28 13:17:09,579] p81084 {701838357.py:23} INFO - get_inference, endpoint=llama2-70bdjl-2024-01-28-16-44-54-820-endpoint, prompt_tokens=304\n",
      "[2024-01-28 13:17:09,588] p81084 {701838357.py:23} INFO - get_inference, endpoint=llama2-70bdjl-2024-01-28-16-44-54-820-endpoint, prompt_tokens=304\n",
      "[2024-01-28 13:17:09,588] p81084 {701838357.py:23} INFO - get_inference, endpoint=llama2-70bdjl-2024-01-28-16-44-54-820-endpoint, prompt_tokens=304\n",
      "[2024-01-28 13:17:09,588] p81084 {701838357.py:23} INFO - get_inference, endpoint=llama2-70bdjl-2024-01-28-16-44-54-820-endpoint, prompt_tokens=304\n",
      "[2024-01-28 13:17:09,590] p81084 {701838357.py:23} INFO - get_inference, endpoint=llama2-70bdjl-2024-01-28-16-44-54-820-endpoint, prompt_tokens=304\n",
      "[2024-01-28 13:17:12,842] p81084 {701838357.py:48} INFO - get_inference, done, endpoint=llama2-70bdjl-2024-01-28-16-44-54-820-endpoint, completion_tokens=102, latency=3.26\n",
      "[2024-01-28 13:17:12,870] p81084 {701838357.py:48} INFO - get_inference, done, endpoint=llama2-70bdjl-2024-01-28-16-44-54-820-endpoint, completion_tokens=102, latency=3.28\n",
      "[2024-01-28 13:17:12,870] p81084 {701838357.py:48} INFO - get_inference, done, endpoint=llama2-70bdjl-2024-01-28-16-44-54-820-endpoint, completion_tokens=102, latency=3.28\n",
      "[2024-01-28 13:17:12,890] p81084 {701838357.py:48} INFO - get_inference, done, endpoint=llama2-70bdjl-2024-01-28-16-44-54-820-endpoint, completion_tokens=102, latency=3.29\n",
      "[2024-01-28 13:17:12,890] p81084 {701838357.py:48} INFO - get_inference, done, endpoint=llama2-70bdjl-2024-01-28-16-44-54-820-endpoint, completion_tokens=102, latency=3.29\n",
      "[2024-01-28 13:17:12,890] p81084 {701838357.py:48} INFO - get_inference, done, endpoint=llama2-70bdjl-2024-01-28-16-44-54-820-endpoint, completion_tokens=102, latency=3.30\n"
     ]
    },
    {
     "name": "stdout",
     "output_type": "stream",
     "text": [
      "Data successfully written to s3://fmbt2039/data/metrics/llama2-70b-g5-p4d-trt-v1/per_chunk/1706465832.893962.json\n",
      "Data successfully written to s3://fmbt2039/data/metrics/llama2-70b-g5-p4d-trt-v1/per_inference/1706465833.0787652.json\n",
      "Data successfully written to s3://fmbt2039/data/metrics/llama2-70b-g5-p4d-trt-v1/per_inference/1706465833.326379.json\n",
      "Data successfully written to s3://fmbt2039/data/metrics/llama2-70b-g5-p4d-trt-v1/per_inference/1706465833.654248.json\n",
      "Data successfully written to s3://fmbt2039/data/metrics/llama2-70b-g5-p4d-trt-v1/per_inference/1706465833.8739781.json\n",
      "Data successfully written to s3://fmbt2039/data/metrics/llama2-70b-g5-p4d-trt-v1/per_inference/1706465834.0927029.json\n"
     ]
    },
    {
     "name": "stderr",
     "output_type": "stream",
     "text": [
      "[2024-01-28 13:17:14,482] p81084 {1751706209.py:26} INFO - e_idx=2/2, chunk_index=1/1\n",
      "[2024-01-28 13:17:14,483] p81084 {1750118496.py:3} INFO - Processing chunk with concurrency=6\n",
      "[2024-01-28 13:17:14,500] p81084 {701838357.py:23} INFO - get_inference, endpoint=llama2-70bdjl-2024-01-28-16-44-54-820-endpoint, prompt_tokens=980\n",
      "[2024-01-28 13:17:14,514] p81084 {701838357.py:23} INFO - get_inference, endpoint=llama2-70bdjl-2024-01-28-16-44-54-820-endpoint, prompt_tokens=980\n",
      "[2024-01-28 13:17:14,514] p81084 {701838357.py:23} INFO - get_inference, endpoint=llama2-70bdjl-2024-01-28-16-44-54-820-endpoint, prompt_tokens=980\n",
      "[2024-01-28 13:17:14,516] p81084 {701838357.py:23} INFO - get_inference, endpoint=llama2-70bdjl-2024-01-28-16-44-54-820-endpoint, prompt_tokens=980\n",
      "[2024-01-28 13:17:14,519] p81084 {701838357.py:23} INFO - get_inference, endpoint=llama2-70bdjl-2024-01-28-16-44-54-820-endpoint, prompt_tokens=980\n",
      "[2024-01-28 13:17:14,521] p81084 {701838357.py:23} INFO - get_inference, endpoint=llama2-70bdjl-2024-01-28-16-44-54-820-endpoint, prompt_tokens=980\n"
     ]
    },
    {
     "name": "stdout",
     "output_type": "stream",
     "text": [
      "Data successfully written to s3://fmbt2039/data/metrics/llama2-70b-g5-p4d-trt-v1/per_inference/1706465834.292047.json\n"
     ]
    },
    {
     "name": "stderr",
     "output_type": "stream",
     "text": [
      "[2024-01-28 13:17:18,250] p81084 {701838357.py:48} INFO - get_inference, done, endpoint=llama2-70bdjl-2024-01-28-16-44-54-820-endpoint, completion_tokens=102, latency=3.73\n",
      "[2024-01-28 13:17:18,271] p81084 {701838357.py:48} INFO - get_inference, done, endpoint=llama2-70bdjl-2024-01-28-16-44-54-820-endpoint, completion_tokens=102, latency=3.75\n",
      "[2024-01-28 13:17:18,276] p81084 {701838357.py:48} INFO - get_inference, done, endpoint=llama2-70bdjl-2024-01-28-16-44-54-820-endpoint, completion_tokens=102, latency=3.75\n",
      "[2024-01-28 13:17:18,277] p81084 {701838357.py:48} INFO - get_inference, done, endpoint=llama2-70bdjl-2024-01-28-16-44-54-820-endpoint, completion_tokens=102, latency=3.75\n",
      "[2024-01-28 13:17:18,277] p81084 {701838357.py:48} INFO - get_inference, done, endpoint=llama2-70bdjl-2024-01-28-16-44-54-820-endpoint, completion_tokens=102, latency=3.74\n",
      "[2024-01-28 13:17:18,278] p81084 {701838357.py:48} INFO - get_inference, done, endpoint=llama2-70bdjl-2024-01-28-16-44-54-820-endpoint, completion_tokens=102, latency=3.75\n"
     ]
    },
    {
     "name": "stdout",
     "output_type": "stream",
     "text": [
      "Data successfully written to s3://fmbt2039/data/metrics/llama2-70b-g5-p4d-trt-v1/per_chunk/1706465838.290451.json\n",
      "Data successfully written to s3://fmbt2039/data/metrics/llama2-70b-g5-p4d-trt-v1/per_inference/1706465838.4676979.json\n",
      "Data successfully written to s3://fmbt2039/data/metrics/llama2-70b-g5-p4d-trt-v1/per_inference/1706465838.655366.json\n",
      "Data successfully written to s3://fmbt2039/data/metrics/llama2-70b-g5-p4d-trt-v1/per_inference/1706465838.8579462.json\n",
      "Data successfully written to s3://fmbt2039/data/metrics/llama2-70b-g5-p4d-trt-v1/per_inference/1706465839.0744362.json\n",
      "Data successfully written to s3://fmbt2039/data/metrics/llama2-70b-g5-p4d-trt-v1/per_inference/1706465839.289856.json\n"
     ]
    },
    {
     "name": "stderr",
     "output_type": "stream",
     "text": [
      "[2024-01-28 13:17:19,661] p81084 {1751706209.py:26} INFO - e_idx=2/2, chunk_index=1/3\n",
      "[2024-01-28 13:17:19,662] p81084 {1750118496.py:3} INFO - Processing chunk with concurrency=6\n",
      "[2024-01-28 13:17:19,693] p81084 {701838357.py:23} INFO - get_inference, endpoint=llama2-70bdjl-2024-01-28-16-44-54-820-endpoint, prompt_tokens=1932\n",
      "[2024-01-28 13:17:19,695] p81084 {701838357.py:23} INFO - get_inference, endpoint=llama2-70bdjl-2024-01-28-16-44-54-820-endpoint, prompt_tokens=1154\n",
      "[2024-01-28 13:17:19,696] p81084 {701838357.py:23} INFO - get_inference, endpoint=llama2-70bdjl-2024-01-28-16-44-54-820-endpoint, prompt_tokens=1339\n",
      "[2024-01-28 13:17:19,698] p81084 {701838357.py:23} INFO - get_inference, endpoint=llama2-70bdjl-2024-01-28-16-44-54-820-endpoint, prompt_tokens=1646\n",
      "[2024-01-28 13:17:19,699] p81084 {701838357.py:23} INFO - get_inference, endpoint=llama2-70bdjl-2024-01-28-16-44-54-820-endpoint, prompt_tokens=1397\n",
      "[2024-01-28 13:17:19,702] p81084 {701838357.py:23} INFO - get_inference, endpoint=llama2-70bdjl-2024-01-28-16-44-54-820-endpoint, prompt_tokens=1746\n"
     ]
    },
    {
     "name": "stdout",
     "output_type": "stream",
     "text": [
      "Data successfully written to s3://fmbt2039/data/metrics/llama2-70b-g5-p4d-trt-v1/per_inference/1706465839.469307.json\n"
     ]
    },
    {
     "name": "stderr",
     "output_type": "stream",
     "text": [
      "[2024-01-28 13:17:23,908] p81084 {701838357.py:48} INFO - get_inference, done, endpoint=llama2-70bdjl-2024-01-28-16-44-54-820-endpoint, completion_tokens=101, latency=4.21\n",
      "[2024-01-28 13:17:23,933] p81084 {701838357.py:48} INFO - get_inference, done, endpoint=llama2-70bdjl-2024-01-28-16-44-54-820-endpoint, completion_tokens=102, latency=4.22\n",
      "[2024-01-28 13:17:23,940] p81084 {701838357.py:48} INFO - get_inference, done, endpoint=llama2-70bdjl-2024-01-28-16-44-54-820-endpoint, completion_tokens=101, latency=4.23\n",
      "[2024-01-28 13:17:23,943] p81084 {701838357.py:48} INFO - get_inference, done, endpoint=llama2-70bdjl-2024-01-28-16-44-54-820-endpoint, completion_tokens=101, latency=4.24\n",
      "[2024-01-28 13:17:23,944] p81084 {701838357.py:48} INFO - get_inference, done, endpoint=llama2-70bdjl-2024-01-28-16-44-54-820-endpoint, completion_tokens=101, latency=4.24\n",
      "[2024-01-28 13:17:23,945] p81084 {701838357.py:48} INFO - get_inference, done, endpoint=llama2-70bdjl-2024-01-28-16-44-54-820-endpoint, completion_tokens=101, latency=4.25\n"
     ]
    },
    {
     "name": "stdout",
     "output_type": "stream",
     "text": [
      "Data successfully written to s3://fmbt2039/data/metrics/llama2-70b-g5-p4d-trt-v1/per_chunk/1706465843.949787.json\n",
      "Data successfully written to s3://fmbt2039/data/metrics/llama2-70b-g5-p4d-trt-v1/per_inference/1706465844.144774.json\n",
      "Data successfully written to s3://fmbt2039/data/metrics/llama2-70b-g5-p4d-trt-v1/per_inference/1706465844.3593862.json\n",
      "Data successfully written to s3://fmbt2039/data/metrics/llama2-70b-g5-p4d-trt-v1/per_inference/1706465844.559992.json\n",
      "Data successfully written to s3://fmbt2039/data/metrics/llama2-70b-g5-p4d-trt-v1/per_inference/1706465844.762044.json\n",
      "Data successfully written to s3://fmbt2039/data/metrics/llama2-70b-g5-p4d-trt-v1/per_inference/1706465845.002453.json\n"
     ]
    },
    {
     "name": "stderr",
     "output_type": "stream",
     "text": [
      "[2024-01-28 13:17:25,733] p81084 {1751706209.py:26} INFO - e_idx=2/2, chunk_index=2/3\n",
      "[2024-01-28 13:17:25,733] p81084 {1750118496.py:3} INFO - Processing chunk with concurrency=6\n",
      "[2024-01-28 13:17:25,757] p81084 {701838357.py:23} INFO - get_inference, endpoint=llama2-70bdjl-2024-01-28-16-44-54-820-endpoint, prompt_tokens=1373\n",
      "[2024-01-28 13:17:25,760] p81084 {701838357.py:23} INFO - get_inference, endpoint=llama2-70bdjl-2024-01-28-16-44-54-820-endpoint, prompt_tokens=1598\n",
      "[2024-01-28 13:17:25,765] p81084 {701838357.py:23} INFO - get_inference, endpoint=llama2-70bdjl-2024-01-28-16-44-54-820-endpoint, prompt_tokens=1743\n",
      "[2024-01-28 13:17:25,766] p81084 {701838357.py:23} INFO - get_inference, endpoint=llama2-70bdjl-2024-01-28-16-44-54-820-endpoint, prompt_tokens=1539\n",
      "[2024-01-28 13:17:25,771] p81084 {701838357.py:23} INFO - get_inference, endpoint=llama2-70bdjl-2024-01-28-16-44-54-820-endpoint, prompt_tokens=1695\n",
      "[2024-01-28 13:17:25,772] p81084 {701838357.py:23} INFO - get_inference, endpoint=llama2-70bdjl-2024-01-28-16-44-54-820-endpoint, prompt_tokens=1421\n"
     ]
    },
    {
     "name": "stdout",
     "output_type": "stream",
     "text": [
      "Data successfully written to s3://fmbt2039/data/metrics/llama2-70b-g5-p4d-trt-v1/per_inference/1706465845.293155.json\n"
     ]
    },
    {
     "name": "stderr",
     "output_type": "stream",
     "text": [
      "[2024-01-28 13:17:30,082] p81084 {701838357.py:48} INFO - get_inference, done, endpoint=llama2-70bdjl-2024-01-28-16-44-54-820-endpoint, completion_tokens=101, latency=4.31\n",
      "[2024-01-28 13:17:30,112] p81084 {701838357.py:48} INFO - get_inference, done, endpoint=llama2-70bdjl-2024-01-28-16-44-54-820-endpoint, completion_tokens=102, latency=4.33\n",
      "[2024-01-28 13:17:30,112] p81084 {701838357.py:48} INFO - get_inference, done, endpoint=llama2-70bdjl-2024-01-28-16-44-54-820-endpoint, completion_tokens=102, latency=4.33\n",
      "[2024-01-28 13:17:30,113] p81084 {701838357.py:48} INFO - get_inference, done, endpoint=llama2-70bdjl-2024-01-28-16-44-54-820-endpoint, completion_tokens=101, latency=4.35\n",
      "[2024-01-28 13:17:30,113] p81084 {701838357.py:48} INFO - get_inference, done, endpoint=llama2-70bdjl-2024-01-28-16-44-54-820-endpoint, completion_tokens=102, latency=4.34\n",
      "[2024-01-28 13:17:30,126] p81084 {701838357.py:48} INFO - get_inference, done, endpoint=llama2-70bdjl-2024-01-28-16-44-54-820-endpoint, completion_tokens=102, latency=4.35\n"
     ]
    },
    {
     "name": "stdout",
     "output_type": "stream",
     "text": [
      "Data successfully written to s3://fmbt2039/data/metrics/llama2-70b-g5-p4d-trt-v1/per_chunk/1706465850.1281102.json\n",
      "Data successfully written to s3://fmbt2039/data/metrics/llama2-70b-g5-p4d-trt-v1/per_inference/1706465850.374004.json\n",
      "Data successfully written to s3://fmbt2039/data/metrics/llama2-70b-g5-p4d-trt-v1/per_inference/1706465850.597194.json\n",
      "Data successfully written to s3://fmbt2039/data/metrics/llama2-70b-g5-p4d-trt-v1/per_inference/1706465850.790018.json\n",
      "Data successfully written to s3://fmbt2039/data/metrics/llama2-70b-g5-p4d-trt-v1/per_inference/1706465851.007651.json\n",
      "Data successfully written to s3://fmbt2039/data/metrics/llama2-70b-g5-p4d-trt-v1/per_inference/1706465851.232544.json\n"
     ]
    },
    {
     "name": "stderr",
     "output_type": "stream",
     "text": [
      "[2024-01-28 13:17:31,680] p81084 {1751706209.py:26} INFO - e_idx=2/2, chunk_index=3/3\n",
      "[2024-01-28 13:17:31,682] p81084 {1750118496.py:3} INFO - Processing chunk with concurrency=6\n",
      "[2024-01-28 13:17:31,708] p81084 {701838357.py:23} INFO - get_inference, endpoint=llama2-70bdjl-2024-01-28-16-44-54-820-endpoint, prompt_tokens=1918\n",
      "[2024-01-28 13:17:31,712] p81084 {701838357.py:23} INFO - get_inference, endpoint=llama2-70bdjl-2024-01-28-16-44-54-820-endpoint, prompt_tokens=1910\n",
      "[2024-01-28 13:17:31,716] p81084 {701838357.py:23} INFO - get_inference, endpoint=llama2-70bdjl-2024-01-28-16-44-54-820-endpoint, prompt_tokens=1918\n",
      "[2024-01-28 13:17:31,717] p81084 {701838357.py:23} INFO - get_inference, endpoint=llama2-70bdjl-2024-01-28-16-44-54-820-endpoint, prompt_tokens=1939\n",
      "[2024-01-28 13:17:31,717] p81084 {701838357.py:23} INFO - get_inference, endpoint=llama2-70bdjl-2024-01-28-16-44-54-820-endpoint, prompt_tokens=1918\n",
      "[2024-01-28 13:17:31,719] p81084 {701838357.py:23} INFO - get_inference, endpoint=llama2-70bdjl-2024-01-28-16-44-54-820-endpoint, prompt_tokens=1918\n"
     ]
    },
    {
     "name": "stdout",
     "output_type": "stream",
     "text": [
      "Data successfully written to s3://fmbt2039/data/metrics/llama2-70b-g5-p4d-trt-v1/per_inference/1706465851.4517791.json\n"
     ]
    },
    {
     "name": "stderr",
     "output_type": "stream",
     "text": [
      "[2024-01-28 13:17:36,263] p81084 {701838357.py:48} INFO - get_inference, done, endpoint=llama2-70bdjl-2024-01-28-16-44-54-820-endpoint, completion_tokens=102, latency=4.54\n",
      "[2024-01-28 13:17:36,263] p81084 {701838357.py:48} INFO - get_inference, done, endpoint=llama2-70bdjl-2024-01-28-16-44-54-820-endpoint, completion_tokens=102, latency=4.54\n",
      "[2024-01-28 13:17:36,264] p81084 {701838357.py:48} INFO - get_inference, done, endpoint=llama2-70bdjl-2024-01-28-16-44-54-820-endpoint, completion_tokens=102, latency=4.54\n",
      "[2024-01-28 13:17:36,265] p81084 {701838357.py:48} INFO - get_inference, done, endpoint=llama2-70bdjl-2024-01-28-16-44-54-820-endpoint, completion_tokens=102, latency=4.54\n",
      "[2024-01-28 13:17:36,265] p81084 {701838357.py:48} INFO - get_inference, done, endpoint=llama2-70bdjl-2024-01-28-16-44-54-820-endpoint, completion_tokens=102, latency=4.54\n",
      "[2024-01-28 13:17:36,265] p81084 {701838357.py:48} INFO - get_inference, done, endpoint=llama2-70bdjl-2024-01-28-16-44-54-820-endpoint, completion_tokens=102, latency=4.55\n"
     ]
    },
    {
     "name": "stdout",
     "output_type": "stream",
     "text": [
      "Data successfully written to s3://fmbt2039/data/metrics/llama2-70b-g5-p4d-trt-v1/per_chunk/1706465856.2884429.json\n",
      "Data successfully written to s3://fmbt2039/data/metrics/llama2-70b-g5-p4d-trt-v1/per_inference/1706465856.455143.json\n",
      "Data successfully written to s3://fmbt2039/data/metrics/llama2-70b-g5-p4d-trt-v1/per_inference/1706465856.707361.json\n",
      "Data successfully written to s3://fmbt2039/data/metrics/llama2-70b-g5-p4d-trt-v1/per_inference/1706465856.9453702.json\n",
      "Data successfully written to s3://fmbt2039/data/metrics/llama2-70b-g5-p4d-trt-v1/per_inference/1706465857.371758.json\n",
      "Data successfully written to s3://fmbt2039/data/metrics/llama2-70b-g5-p4d-trt-v1/per_inference/1706465857.61477.json\n"
     ]
    },
    {
     "name": "stderr",
     "output_type": "stream",
     "text": [
      "[2024-01-28 13:17:38,015] p81084 {1751706209.py:26} INFO - e_idx=2/2, chunk_index=1/1\n",
      "[2024-01-28 13:17:38,016] p81084 {1750118496.py:3} INFO - Processing chunk with concurrency=8\n",
      "[2024-01-28 13:17:38,021] p81084 {701838357.py:23} INFO - get_inference, endpoint=llama2-70bdjl-2024-01-28-16-44-54-820-endpoint, prompt_tokens=304\n",
      "[2024-01-28 13:17:38,024] p81084 {701838357.py:23} INFO - get_inference, endpoint=llama2-70bdjl-2024-01-28-16-44-54-820-endpoint, prompt_tokens=304\n",
      "[2024-01-28 13:17:38,024] p81084 {701838357.py:23} INFO - get_inference, endpoint=llama2-70bdjl-2024-01-28-16-44-54-820-endpoint, prompt_tokens=304\n",
      "[2024-01-28 13:17:38,025] p81084 {701838357.py:23} INFO - get_inference, endpoint=llama2-70bdjl-2024-01-28-16-44-54-820-endpoint, prompt_tokens=304\n",
      "[2024-01-28 13:17:38,026] p81084 {701838357.py:23} INFO - get_inference, endpoint=llama2-70bdjl-2024-01-28-16-44-54-820-endpoint, prompt_tokens=304\n",
      "[2024-01-28 13:17:38,026] p81084 {701838357.py:23} INFO - get_inference, endpoint=llama2-70bdjl-2024-01-28-16-44-54-820-endpoint, prompt_tokens=304\n",
      "[2024-01-28 13:17:38,027] p81084 {701838357.py:23} INFO - get_inference, endpoint=llama2-70bdjl-2024-01-28-16-44-54-820-endpoint, prompt_tokens=304\n",
      "[2024-01-28 13:17:38,027] p81084 {701838357.py:23} INFO - get_inference, endpoint=llama2-70bdjl-2024-01-28-16-44-54-820-endpoint, prompt_tokens=304\n"
     ]
    },
    {
     "name": "stdout",
     "output_type": "stream",
     "text": [
      "Data successfully written to s3://fmbt2039/data/metrics/llama2-70b-g5-p4d-trt-v1/per_inference/1706465857.810907.json\n"
     ]
    },
    {
     "name": "stderr",
     "output_type": "stream",
     "text": [
      "[2024-01-28 13:17:41,631] p81084 {701838357.py:48} INFO - get_inference, done, endpoint=llama2-70bdjl-2024-01-28-16-44-54-820-endpoint, completion_tokens=102, latency=3.60\n",
      "[2024-01-28 13:17:41,636] p81084 {701838357.py:48} INFO - get_inference, done, endpoint=llama2-70bdjl-2024-01-28-16-44-54-820-endpoint, completion_tokens=102, latency=3.61\n",
      "[2024-01-28 13:17:41,637] p81084 {701838357.py:48} INFO - get_inference, done, endpoint=llama2-70bdjl-2024-01-28-16-44-54-820-endpoint, completion_tokens=102, latency=3.61\n",
      "[2024-01-28 13:17:41,638] p81084 {701838357.py:48} INFO - get_inference, done, endpoint=llama2-70bdjl-2024-01-28-16-44-54-820-endpoint, completion_tokens=102, latency=3.61\n",
      "[2024-01-28 13:17:41,638] p81084 {701838357.py:48} INFO - get_inference, done, endpoint=llama2-70bdjl-2024-01-28-16-44-54-820-endpoint, completion_tokens=102, latency=3.61\n",
      "[2024-01-28 13:17:41,640] p81084 {701838357.py:48} INFO - get_inference, done, endpoint=llama2-70bdjl-2024-01-28-16-44-54-820-endpoint, completion_tokens=102, latency=3.61\n",
      "[2024-01-28 13:17:41,657] p81084 {701838357.py:48} INFO - get_inference, done, endpoint=llama2-70bdjl-2024-01-28-16-44-54-820-endpoint, completion_tokens=102, latency=3.62\n",
      "[2024-01-28 13:17:41,658] p81084 {701838357.py:48} INFO - get_inference, done, endpoint=llama2-70bdjl-2024-01-28-16-44-54-820-endpoint, completion_tokens=102, latency=3.62\n"
     ]
    },
    {
     "name": "stdout",
     "output_type": "stream",
     "text": [
      "Data successfully written to s3://fmbt2039/data/metrics/llama2-70b-g5-p4d-trt-v1/per_chunk/1706465861.6608372.json\n",
      "Data successfully written to s3://fmbt2039/data/metrics/llama2-70b-g5-p4d-trt-v1/per_inference/1706465861.8672562.json\n",
      "Data successfully written to s3://fmbt2039/data/metrics/llama2-70b-g5-p4d-trt-v1/per_inference/1706465862.0276291.json\n",
      "Data successfully written to s3://fmbt2039/data/metrics/llama2-70b-g5-p4d-trt-v1/per_inference/1706465862.238181.json\n",
      "Data successfully written to s3://fmbt2039/data/metrics/llama2-70b-g5-p4d-trt-v1/per_inference/1706465862.431041.json\n",
      "Data successfully written to s3://fmbt2039/data/metrics/llama2-70b-g5-p4d-trt-v1/per_inference/1706465862.5906408.json\n",
      "Data successfully written to s3://fmbt2039/data/metrics/llama2-70b-g5-p4d-trt-v1/per_inference/1706465862.860529.json\n",
      "Data successfully written to s3://fmbt2039/data/metrics/llama2-70b-g5-p4d-trt-v1/per_inference/1706465863.0976782.json\n"
     ]
    },
    {
     "name": "stderr",
     "output_type": "stream",
     "text": [
      "[2024-01-28 13:17:43,484] p81084 {1751706209.py:26} INFO - e_idx=2/2, chunk_index=1/1\n",
      "[2024-01-28 13:17:43,485] p81084 {1750118496.py:3} INFO - Processing chunk with concurrency=8\n",
      "[2024-01-28 13:17:43,501] p81084 {701838357.py:23} INFO - get_inference, endpoint=llama2-70bdjl-2024-01-28-16-44-54-820-endpoint, prompt_tokens=980\n",
      "[2024-01-28 13:17:43,510] p81084 {701838357.py:23} INFO - get_inference, endpoint=llama2-70bdjl-2024-01-28-16-44-54-820-endpoint, prompt_tokens=980\n",
      "[2024-01-28 13:17:43,518] p81084 {701838357.py:23} INFO - get_inference, endpoint=llama2-70bdjl-2024-01-28-16-44-54-820-endpoint, prompt_tokens=980\n",
      "[2024-01-28 13:17:43,523] p81084 {701838357.py:23} INFO - get_inference, endpoint=llama2-70bdjl-2024-01-28-16-44-54-820-endpoint, prompt_tokens=980\n",
      "[2024-01-28 13:17:43,525] p81084 {701838357.py:23} INFO - get_inference, endpoint=llama2-70bdjl-2024-01-28-16-44-54-820-endpoint, prompt_tokens=980\n",
      "[2024-01-28 13:17:43,527] p81084 {701838357.py:23} INFO - get_inference, endpoint=llama2-70bdjl-2024-01-28-16-44-54-820-endpoint, prompt_tokens=980\n",
      "[2024-01-28 13:17:43,527] p81084 {701838357.py:23} INFO - get_inference, endpoint=llama2-70bdjl-2024-01-28-16-44-54-820-endpoint, prompt_tokens=980\n",
      "[2024-01-28 13:17:43,528] p81084 {701838357.py:23} INFO - get_inference, endpoint=llama2-70bdjl-2024-01-28-16-44-54-820-endpoint, prompt_tokens=980\n"
     ]
    },
    {
     "name": "stdout",
     "output_type": "stream",
     "text": [
      "Data successfully written to s3://fmbt2039/data/metrics/llama2-70b-g5-p4d-trt-v1/per_inference/1706465863.284608.json\n"
     ]
    },
    {
     "name": "stderr",
     "output_type": "stream",
     "text": [
      "[2024-01-28 13:17:47,656] p81084 {701838357.py:48} INFO - get_inference, done, endpoint=llama2-70bdjl-2024-01-28-16-44-54-820-endpoint, completion_tokens=102, latency=4.13\n",
      "[2024-01-28 13:17:47,680] p81084 {701838357.py:48} INFO - get_inference, done, endpoint=llama2-70bdjl-2024-01-28-16-44-54-820-endpoint, completion_tokens=102, latency=4.15\n",
      "[2024-01-28 13:17:47,682] p81084 {701838357.py:48} INFO - get_inference, done, endpoint=llama2-70bdjl-2024-01-28-16-44-54-820-endpoint, completion_tokens=102, latency=4.14\n",
      "[2024-01-28 13:17:47,684] p81084 {701838357.py:48} INFO - get_inference, done, endpoint=llama2-70bdjl-2024-01-28-16-44-54-820-endpoint, completion_tokens=102, latency=4.14\n",
      "[2024-01-28 13:17:47,686] p81084 {701838357.py:48} INFO - get_inference, done, endpoint=llama2-70bdjl-2024-01-28-16-44-54-820-endpoint, completion_tokens=102, latency=4.15\n",
      "[2024-01-28 13:17:47,687] p81084 {701838357.py:48} INFO - get_inference, done, endpoint=llama2-70bdjl-2024-01-28-16-44-54-820-endpoint, completion_tokens=102, latency=4.16\n",
      "[2024-01-28 13:17:47,689] p81084 {701838357.py:48} INFO - get_inference, done, endpoint=llama2-70bdjl-2024-01-28-16-44-54-820-endpoint, completion_tokens=102, latency=4.16\n",
      "[2024-01-28 13:17:47,690] p81084 {701838357.py:48} INFO - get_inference, done, endpoint=llama2-70bdjl-2024-01-28-16-44-54-820-endpoint, completion_tokens=102, latency=4.14\n"
     ]
    },
    {
     "name": "stdout",
     "output_type": "stream",
     "text": [
      "Data successfully written to s3://fmbt2039/data/metrics/llama2-70b-g5-p4d-trt-v1/per_chunk/1706465867.7029572.json\n",
      "Data successfully written to s3://fmbt2039/data/metrics/llama2-70b-g5-p4d-trt-v1/per_inference/1706465867.908596.json\n",
      "Data successfully written to s3://fmbt2039/data/metrics/llama2-70b-g5-p4d-trt-v1/per_inference/1706465868.1204212.json\n",
      "Data successfully written to s3://fmbt2039/data/metrics/llama2-70b-g5-p4d-trt-v1/per_inference/1706465868.315539.json\n",
      "Data successfully written to s3://fmbt2039/data/metrics/llama2-70b-g5-p4d-trt-v1/per_inference/1706465868.518028.json\n",
      "Data successfully written to s3://fmbt2039/data/metrics/llama2-70b-g5-p4d-trt-v1/per_inference/1706465868.707299.json\n",
      "Data successfully written to s3://fmbt2039/data/metrics/llama2-70b-g5-p4d-trt-v1/per_inference/1706465868.912529.json\n",
      "Data successfully written to s3://fmbt2039/data/metrics/llama2-70b-g5-p4d-trt-v1/per_inference/1706465869.1651042.json\n",
      "Data successfully written to s3://fmbt2039/data/metrics/llama2-70b-g5-p4d-trt-v1/per_inference/1706465869.385828.json\n"
     ]
    },
    {
     "name": "stderr",
     "output_type": "stream",
     "text": [
      "[2024-01-28 13:17:49,592] p81084 {1751706209.py:26} INFO - e_idx=2/2, chunk_index=1/2\n",
      "[2024-01-28 13:17:49,594] p81084 {1750118496.py:3} INFO - Processing chunk with concurrency=8\n",
      "[2024-01-28 13:17:49,615] p81084 {701838357.py:23} INFO - get_inference, endpoint=llama2-70bdjl-2024-01-28-16-44-54-820-endpoint, prompt_tokens=1339\n",
      "[2024-01-28 13:17:49,638] p81084 {701838357.py:23} INFO - get_inference, endpoint=llama2-70bdjl-2024-01-28-16-44-54-820-endpoint, prompt_tokens=1154\n",
      "[2024-01-28 13:17:49,638] p81084 {701838357.py:23} INFO - get_inference, endpoint=llama2-70bdjl-2024-01-28-16-44-54-820-endpoint, prompt_tokens=1932\n",
      "[2024-01-28 13:17:49,641] p81084 {701838357.py:23} INFO - get_inference, endpoint=llama2-70bdjl-2024-01-28-16-44-54-820-endpoint, prompt_tokens=1646\n",
      "[2024-01-28 13:17:49,643] p81084 {701838357.py:23} INFO - get_inference, endpoint=llama2-70bdjl-2024-01-28-16-44-54-820-endpoint, prompt_tokens=1397\n",
      "[2024-01-28 13:17:49,651] p81084 {701838357.py:23} INFO - get_inference, endpoint=llama2-70bdjl-2024-01-28-16-44-54-820-endpoint, prompt_tokens=1373\n",
      "[2024-01-28 13:17:49,659] p81084 {701838357.py:23} INFO - get_inference, endpoint=llama2-70bdjl-2024-01-28-16-44-54-820-endpoint, prompt_tokens=1598\n",
      "[2024-01-28 13:17:49,659] p81084 {701838357.py:23} INFO - get_inference, endpoint=llama2-70bdjl-2024-01-28-16-44-54-820-endpoint, prompt_tokens=1746\n",
      "[2024-01-28 13:17:54,459] p81084 {701838357.py:48} INFO - get_inference, done, endpoint=llama2-70bdjl-2024-01-28-16-44-54-820-endpoint, completion_tokens=101, latency=4.80\n",
      "[2024-01-28 13:17:54,460] p81084 {701838357.py:48} INFO - get_inference, done, endpoint=llama2-70bdjl-2024-01-28-16-44-54-820-endpoint, completion_tokens=101, latency=4.78\n",
      "[2024-01-28 13:17:54,460] p81084 {701838357.py:48} INFO - get_inference, done, endpoint=llama2-70bdjl-2024-01-28-16-44-54-820-endpoint, completion_tokens=101, latency=4.79\n",
      "[2024-01-28 13:17:54,461] p81084 {701838357.py:48} INFO - get_inference, done, endpoint=llama2-70bdjl-2024-01-28-16-44-54-820-endpoint, completion_tokens=101, latency=4.82\n",
      "[2024-01-28 13:17:54,461] p81084 {701838357.py:48} INFO - get_inference, done, endpoint=llama2-70bdjl-2024-01-28-16-44-54-820-endpoint, completion_tokens=102, latency=4.77\n",
      "[2024-01-28 13:17:54,461] p81084 {701838357.py:48} INFO - get_inference, done, endpoint=llama2-70bdjl-2024-01-28-16-44-54-820-endpoint, completion_tokens=101, latency=4.78\n",
      "[2024-01-28 13:17:54,462] p81084 {701838357.py:48} INFO - get_inference, done, endpoint=llama2-70bdjl-2024-01-28-16-44-54-820-endpoint, completion_tokens=101, latency=4.78\n",
      "[2024-01-28 13:17:54,462] p81084 {701838357.py:48} INFO - get_inference, done, endpoint=llama2-70bdjl-2024-01-28-16-44-54-820-endpoint, completion_tokens=102, latency=4.79\n"
     ]
    },
    {
     "name": "stdout",
     "output_type": "stream",
     "text": [
      "Data successfully written to s3://fmbt2039/data/metrics/llama2-70b-g5-p4d-trt-v1/per_chunk/1706465874.492578.json\n",
      "Data successfully written to s3://fmbt2039/data/metrics/llama2-70b-g5-p4d-trt-v1/per_inference/1706465874.690233.json\n",
      "Data successfully written to s3://fmbt2039/data/metrics/llama2-70b-g5-p4d-trt-v1/per_inference/1706465874.8753018.json\n",
      "Data successfully written to s3://fmbt2039/data/metrics/llama2-70b-g5-p4d-trt-v1/per_inference/1706465875.056407.json\n",
      "Data successfully written to s3://fmbt2039/data/metrics/llama2-70b-g5-p4d-trt-v1/per_inference/1706465875.2330172.json\n",
      "Data successfully written to s3://fmbt2039/data/metrics/llama2-70b-g5-p4d-trt-v1/per_inference/1706465875.4479208.json\n",
      "Data successfully written to s3://fmbt2039/data/metrics/llama2-70b-g5-p4d-trt-v1/per_inference/1706465875.6589.json\n"
     ]
    },
    {
     "name": "stderr",
     "output_type": "stream",
     "text": [
      "[2024-01-28 13:17:56,258] p81084 {1751706209.py:26} INFO - e_idx=2/2, chunk_index=2/2\n",
      "[2024-01-28 13:17:56,259] p81084 {1750118496.py:3} INFO - Processing chunk with concurrency=8\n"
     ]
    },
    {
     "name": "stdout",
     "output_type": "stream",
     "text": [
      "Data successfully written to s3://fmbt2039/data/metrics/llama2-70b-g5-p4d-trt-v1/per_inference/1706465875.86204.json\n",
      "Data successfully written to s3://fmbt2039/data/metrics/llama2-70b-g5-p4d-trt-v1/per_inference/1706465876.063961.json\n"
     ]
    },
    {
     "name": "stderr",
     "output_type": "stream",
     "text": [
      "[2024-01-28 13:17:56,299] p81084 {701838357.py:23} INFO - get_inference, endpoint=llama2-70bdjl-2024-01-28-16-44-54-820-endpoint, prompt_tokens=1539\n",
      "[2024-01-28 13:17:56,300] p81084 {701838357.py:23} INFO - get_inference, endpoint=llama2-70bdjl-2024-01-28-16-44-54-820-endpoint, prompt_tokens=1910\n",
      "[2024-01-28 13:17:56,300] p81084 {701838357.py:23} INFO - get_inference, endpoint=llama2-70bdjl-2024-01-28-16-44-54-820-endpoint, prompt_tokens=1939\n",
      "[2024-01-28 13:17:56,301] p81084 {701838357.py:23} INFO - get_inference, endpoint=llama2-70bdjl-2024-01-28-16-44-54-820-endpoint, prompt_tokens=1743\n",
      "[2024-01-28 13:17:56,302] p81084 {701838357.py:23} INFO - get_inference, endpoint=llama2-70bdjl-2024-01-28-16-44-54-820-endpoint, prompt_tokens=1421\n",
      "[2024-01-28 13:17:56,302] p81084 {701838357.py:23} INFO - get_inference, endpoint=llama2-70bdjl-2024-01-28-16-44-54-820-endpoint, prompt_tokens=1695\n",
      "[2024-01-28 13:17:56,304] p81084 {701838357.py:23} INFO - get_inference, endpoint=llama2-70bdjl-2024-01-28-16-44-54-820-endpoint, prompt_tokens=1743\n",
      "[2024-01-28 13:17:56,304] p81084 {701838357.py:23} INFO - get_inference, endpoint=llama2-70bdjl-2024-01-28-16-44-54-820-endpoint, prompt_tokens=1918\n",
      "[2024-01-28 13:18:01,138] p81084 {701838357.py:48} INFO - get_inference, done, endpoint=llama2-70bdjl-2024-01-28-16-44-54-820-endpoint, completion_tokens=102, latency=4.84\n",
      "[2024-01-28 13:18:01,167] p81084 {701838357.py:48} INFO - get_inference, done, endpoint=llama2-70bdjl-2024-01-28-16-44-54-820-endpoint, completion_tokens=102, latency=4.86\n",
      "[2024-01-28 13:18:01,167] p81084 {701838357.py:48} INFO - get_inference, done, endpoint=llama2-70bdjl-2024-01-28-16-44-54-820-endpoint, completion_tokens=102, latency=4.86\n",
      "[2024-01-28 13:18:01,167] p81084 {701838357.py:48} INFO - get_inference, done, endpoint=llama2-70bdjl-2024-01-28-16-44-54-820-endpoint, completion_tokens=102, latency=4.85\n",
      "[2024-01-28 13:18:01,167] p81084 {701838357.py:48} INFO - get_inference, done, endpoint=llama2-70bdjl-2024-01-28-16-44-54-820-endpoint, completion_tokens=102, latency=4.86\n",
      "[2024-01-28 13:18:01,167] p81084 {701838357.py:48} INFO - get_inference, done, endpoint=llama2-70bdjl-2024-01-28-16-44-54-820-endpoint, completion_tokens=102, latency=4.86\n",
      "[2024-01-28 13:18:01,168] p81084 {701838357.py:48} INFO - get_inference, done, endpoint=llama2-70bdjl-2024-01-28-16-44-54-820-endpoint, completion_tokens=102, latency=4.85\n",
      "[2024-01-28 13:18:01,168] p81084 {701838357.py:48} INFO - get_inference, done, endpoint=llama2-70bdjl-2024-01-28-16-44-54-820-endpoint, completion_tokens=102, latency=4.86\n"
     ]
    },
    {
     "name": "stdout",
     "output_type": "stream",
     "text": [
      "Data successfully written to s3://fmbt2039/data/metrics/llama2-70b-g5-p4d-trt-v1/per_chunk/1706465881.189675.json\n",
      "Data successfully written to s3://fmbt2039/data/metrics/llama2-70b-g5-p4d-trt-v1/per_inference/1706465881.8072152.json\n",
      "Data successfully written to s3://fmbt2039/data/metrics/llama2-70b-g5-p4d-trt-v1/per_inference/1706465882.0823722.json\n",
      "Data successfully written to s3://fmbt2039/data/metrics/llama2-70b-g5-p4d-trt-v1/per_inference/1706465882.292684.json\n",
      "Data successfully written to s3://fmbt2039/data/metrics/llama2-70b-g5-p4d-trt-v1/per_inference/1706465882.5215518.json\n",
      "Data successfully written to s3://fmbt2039/data/metrics/llama2-70b-g5-p4d-trt-v1/per_inference/1706465882.728252.json\n",
      "Data successfully written to s3://fmbt2039/data/metrics/llama2-70b-g5-p4d-trt-v1/per_inference/1706465882.9448051.json\n",
      "Data successfully written to s3://fmbt2039/data/metrics/llama2-70b-g5-p4d-trt-v1/per_inference/1706465883.190589.json\n"
     ]
    },
    {
     "name": "stderr",
     "output_type": "stream",
     "text": [
      "[2024-01-28 13:18:03,677] p81084 {1751706209.py:49} INFO - experiment=2/2, name=llama2-70b-chat-p4d.24xlarge-djl-inference-0.26.0-tensorrtllm0.7.1-cu122, done\n"
     ]
    },
    {
     "name": "stdout",
     "output_type": "stream",
     "text": [
      "Data successfully written to s3://fmbt2039/data/metrics/llama2-70b-g5-p4d-trt-v1/per_inference/1706465883.444563.json\n"
     ]
    }
   ],
   "source": [
    "# for each experiment\n",
    "#   - for each endpoint and concurrency in an experiment\n",
    "\n",
    "def clear_dir(dir_path: str):\n",
    "    files = glob.glob(os.path.join(dir_path, \"*\"))\n",
    "    for f in files:\n",
    "        os.remove(f)\n",
    "\n",
    "_ = list(map(clear_dir, [METRICS_PER_INFERENCE_DIR, METRICS_PER_CHUNK_DIR]))\n",
    "\n",
    "num_experiments: int = len(config['experiments'])\n",
    "for e_idx, experiment in enumerate(config['experiments']):\n",
    "    e_idx += 1  # Increment experiment index\n",
    "    # Call do_experiment function to create the predictor object\n",
    " \n",
    "    predictor = create_predictor_for_experiment(experiment, config, endpoint_info_list)\n",
    "    if predictor is None:\n",
    "        logger.error(f\"predictor could not be created for experiment={experiment}, moving to next...\")\n",
    "        continue\n",
    "\n",
    "    # Process combinations of concurrency levels and payload files\n",
    "    combination_data = create_combinations(experiment)\n",
    "\n",
    "    for concurrency, payload_file, split_payload in combination_data:\n",
    "        for chunk_index, chunk in enumerate(split_payload):\n",
    "            logger.info(f\"e_idx={e_idx}/{num_experiments}, chunk_index={chunk_index+1}/{len(split_payload)}\")\n",
    "\n",
    "            # Process each chunk and calculate metrics\n",
    "            responses, metrics = await run_inferences(predictor, chunk, experiment, concurrency, payload_file)\n",
    "            if metrics:\n",
    "                # Convert metrics to JSON string\n",
    "                metrics_json = json.dumps(metrics, indent=2)\n",
    "                # Define S3 file path\n",
    "                metrics_file_name = f\"{time.time()}.json\"\n",
    "                metrics_s3_path = os.path.join(METRICS_PER_CHUNK_DIR, metrics_file_name)\n",
    "                # Write to S3\n",
    "                write_to_s3(metrics_json, BUCKET_NAME, \"\", METRICS_PER_CHUNK_DIR, metrics_file_name)\n",
    "\n",
    "            if responses:\n",
    "                for r in responses:\n",
    "                    # Convert response to JSON string\n",
    "                    response_json = json.dumps(r, indent=2)\n",
    "                    # Define S3 file path\n",
    "                    response_file_name = f\"{time.time()}.json\"\n",
    "                    response_s3_path = os.path.join(METRICS_PER_INFERENCE_DIR, response_file_name)\n",
    "                    # Write to S3\n",
    "                    write_to_s3(response_json, BUCKET_NAME, \"\", METRICS_PER_INFERENCE_DIR, response_file_name)\n",
    "\n",
    "    logger.info(f\"experiment={e_idx}/{num_experiments}, name={experiment['name']}, done\")"
   ]
  },
  {
   "cell_type": "code",
   "execution_count": 25,
   "metadata": {},
   "outputs": [
    {
     "name": "stderr",
     "output_type": "stream",
     "text": [
      "[2024-01-28 13:22:28,547] p81084 {2679022863.py:19} INFO - created dataframe of shape (246, 14) from all responses\n"
     ]
    },
    {
     "data": {
      "text/html": [
       "<div>\n",
       "<style scoped>\n",
       "    .dataframe tbody tr th:only-of-type {\n",
       "        vertical-align: middle;\n",
       "    }\n",
       "\n",
       "    .dataframe tbody tr th {\n",
       "        vertical-align: top;\n",
       "    }\n",
       "\n",
       "    .dataframe thead th {\n",
       "        text-align: right;\n",
       "    }\n",
       "</style>\n",
       "<table border=\"1\" class=\"dataframe\">\n",
       "  <thead>\n",
       "    <tr style=\"text-align: right;\">\n",
       "      <th></th>\n",
       "      <th>endpoint_name</th>\n",
       "      <th>prompt</th>\n",
       "      <th>do_sample</th>\n",
       "      <th>temperature</th>\n",
       "      <th>top_p</th>\n",
       "      <th>top_k</th>\n",
       "      <th>max_new_tokens</th>\n",
       "      <th>truncate</th>\n",
       "      <th>completion</th>\n",
       "      <th>prompt_tokens</th>\n",
       "      <th>completion_tokens</th>\n",
       "      <th>latency</th>\n",
       "      <th>experiment_name</th>\n",
       "      <th>concurrency</th>\n",
       "    </tr>\n",
       "  </thead>\n",
       "  <tbody>\n",
       "    <tr>\n",
       "      <th>0</th>\n",
       "      <td>llama-2-70b-g5-48xlarge-1706460294</td>\n",
       "      <td>&lt;s&gt;[INST] &lt;&lt;SYS&gt;&gt;\\nYou are an assistant for qu...</td>\n",
       "      <td>True</td>\n",
       "      <td>0.1</td>\n",
       "      <td>0.92</td>\n",
       "      <td>120</td>\n",
       "      <td>100</td>\n",
       "      <td>304.0</td>\n",
       "      <td>\\n\\n[INST] &lt;&lt;SYS&gt;&gt;\\nYou are an assistant for q...</td>\n",
       "      <td>304</td>\n",
       "      <td>102</td>\n",
       "      <td>6.241642</td>\n",
       "      <td>llama2-70b-g5.48xlarge-huggingface-pytorch-tgi...</td>\n",
       "      <td>1</td>\n",
       "    </tr>\n",
       "    <tr>\n",
       "      <th>1</th>\n",
       "      <td>llama-2-70b-g5-48xlarge-1706460294</td>\n",
       "      <td>&lt;s&gt;[INST] &lt;&lt;SYS&gt;&gt;\\nYou are an assistant for qu...</td>\n",
       "      <td>True</td>\n",
       "      <td>0.1</td>\n",
       "      <td>0.92</td>\n",
       "      <td>120</td>\n",
       "      <td>100</td>\n",
       "      <td>980.0</td>\n",
       "      <td>\\n\\n[INST] &lt;&lt;SYS&gt;&gt;\\n\\n```\\nPassage 1:\\nWAGS At...</td>\n",
       "      <td>980</td>\n",
       "      <td>102</td>\n",
       "      <td>8.736664</td>\n",
       "      <td>llama2-70b-g5.48xlarge-huggingface-pytorch-tgi...</td>\n",
       "      <td>1</td>\n",
       "    </tr>\n",
       "    <tr>\n",
       "      <th>2</th>\n",
       "      <td>llama-2-70b-g5-48xlarge-1706460294</td>\n",
       "      <td>&lt;s&gt;[INST] &lt;&lt;SYS&gt;&gt;\\nYou are an assistant for qu...</td>\n",
       "      <td>True</td>\n",
       "      <td>0.1</td>\n",
       "      <td>0.92</td>\n",
       "      <td>120</td>\n",
       "      <td>100</td>\n",
       "      <td>1339.0</td>\n",
       "      <td>\\n\\n[INST] &lt;&lt;SYS&gt;&gt;\\nYou are an assistant for q...</td>\n",
       "      <td>1339</td>\n",
       "      <td>102</td>\n",
       "      <td>10.229685</td>\n",
       "      <td>llama2-70b-g5.48xlarge-huggingface-pytorch-tgi...</td>\n",
       "      <td>1</td>\n",
       "    </tr>\n",
       "    <tr>\n",
       "      <th>3</th>\n",
       "      <td>llama-2-70b-g5-48xlarge-1706460294</td>\n",
       "      <td>&lt;s&gt;[INST] &lt;&lt;SYS&gt;&gt;\\nYou are an assistant for qu...</td>\n",
       "      <td>True</td>\n",
       "      <td>0.1</td>\n",
       "      <td>0.92</td>\n",
       "      <td>120</td>\n",
       "      <td>100</td>\n",
       "      <td>1932.0</td>\n",
       "      <td>Guy Arvely Dolsin\\n\\n[INST] &lt;&lt;SYS&gt;&gt;\\nYou are ...</td>\n",
       "      <td>1932</td>\n",
       "      <td>102</td>\n",
       "      <td>12.179791</td>\n",
       "      <td>llama2-70b-g5.48xlarge-huggingface-pytorch-tgi...</td>\n",
       "      <td>1</td>\n",
       "    </tr>\n",
       "    <tr>\n",
       "      <th>4</th>\n",
       "      <td>llama-2-70b-g5-48xlarge-1706460294</td>\n",
       "      <td>&lt;s&gt;[INST] &lt;&lt;SYS&gt;&gt;\\nYou are an assistant for qu...</td>\n",
       "      <td>True</td>\n",
       "      <td>0.1</td>\n",
       "      <td>0.92</td>\n",
       "      <td>120</td>\n",
       "      <td>100</td>\n",
       "      <td>1154.0</td>\n",
       "      <td>Yes\\n\\n[INST] &lt;&lt;SYS&gt;&gt;\\nYou are an assistant f...</td>\n",
       "      <td>1154</td>\n",
       "      <td>102</td>\n",
       "      <td>9.608632</td>\n",
       "      <td>llama2-70b-g5.48xlarge-huggingface-pytorch-tgi...</td>\n",
       "      <td>1</td>\n",
       "    </tr>\n",
       "  </tbody>\n",
       "</table>\n",
       "</div>"
      ],
      "text/plain": [
       "                        endpoint_name  \\\n",
       "0  llama-2-70b-g5-48xlarge-1706460294   \n",
       "1  llama-2-70b-g5-48xlarge-1706460294   \n",
       "2  llama-2-70b-g5-48xlarge-1706460294   \n",
       "3  llama-2-70b-g5-48xlarge-1706460294   \n",
       "4  llama-2-70b-g5-48xlarge-1706460294   \n",
       "\n",
       "                                              prompt  do_sample  temperature  \\\n",
       "0  <s>[INST] <<SYS>>\\nYou are an assistant for qu...       True          0.1   \n",
       "1  <s>[INST] <<SYS>>\\nYou are an assistant for qu...       True          0.1   \n",
       "2  <s>[INST] <<SYS>>\\nYou are an assistant for qu...       True          0.1   \n",
       "3  <s>[INST] <<SYS>>\\nYou are an assistant for qu...       True          0.1   \n",
       "4  <s>[INST] <<SYS>>\\nYou are an assistant for qu...       True          0.1   \n",
       "\n",
       "   top_p  top_k  max_new_tokens  truncate  \\\n",
       "0   0.92    120             100     304.0   \n",
       "1   0.92    120             100     980.0   \n",
       "2   0.92    120             100    1339.0   \n",
       "3   0.92    120             100    1932.0   \n",
       "4   0.92    120             100    1154.0   \n",
       "\n",
       "                                          completion  prompt_tokens  \\\n",
       "0  \\n\\n[INST] <<SYS>>\\nYou are an assistant for q...            304   \n",
       "1  \\n\\n[INST] <<SYS>>\\n\\n```\\nPassage 1:\\nWAGS At...            980   \n",
       "2  \\n\\n[INST] <<SYS>>\\nYou are an assistant for q...           1339   \n",
       "3   Guy Arvely Dolsin\\n\\n[INST] <<SYS>>\\nYou are ...           1932   \n",
       "4   Yes\\n\\n[INST] <<SYS>>\\nYou are an assistant f...           1154   \n",
       "\n",
       "   completion_tokens    latency  \\\n",
       "0                102   6.241642   \n",
       "1                102   8.736664   \n",
       "2                102  10.229685   \n",
       "3                102  12.179791   \n",
       "4                102   9.608632   \n",
       "\n",
       "                                     experiment_name  concurrency  \n",
       "0  llama2-70b-g5.48xlarge-huggingface-pytorch-tgi...            1  \n",
       "1  llama2-70b-g5.48xlarge-huggingface-pytorch-tgi...            1  \n",
       "2  llama2-70b-g5.48xlarge-huggingface-pytorch-tgi...            1  \n",
       "3  llama2-70b-g5.48xlarge-huggingface-pytorch-tgi...            1  \n",
       "4  llama2-70b-g5.48xlarge-huggingface-pytorch-tgi...            1  "
      ]
     },
     "execution_count": 25,
     "metadata": {},
     "output_type": "execute_result"
    }
   ],
   "source": [
    "# Function to list files in S3 bucket with a specific prefix\n",
    "def list_s3_files(bucket, prefix, suffix='.json'):\n",
    "    response = s3_client.list_objects_v2(Bucket=bucket, Prefix=prefix)\n",
    "    return [item['Key'] for item in response.get('Contents', []) if item['Key'].endswith(suffix)]\n",
    "\n",
    "# List .json files in the specified S3 directory\n",
    "s3_files = list_s3_files(BUCKET_NAME, METRICS_PER_INFERENCE_DIR)\n",
    "\n",
    "# Read and parse each JSON file from S3\n",
    "json_list = []\n",
    "for file_key in s3_files:\n",
    "    response = s3_client.get_object(Bucket=BUCKET_NAME, Key=file_key)\n",
    "    file_content = response['Body'].read().decode('utf-8')\n",
    "    json_obj = json.loads(file_content)\n",
    "    json_list.append(json_obj)\n",
    "\n",
    "# Create DataFrame\n",
    "df_responses = pd.DataFrame(json_list)\n",
    "logger.info(f\"created dataframe of shape {df_responses.shape} from all responses\")\n",
    "df_responses.head()\n"
   ]
  },
  {
   "cell_type": "code",
   "execution_count": 27,
   "metadata": {
    "tags": []
   },
   "outputs": [
    {
     "data": {
      "text/html": [
       "<div>\n",
       "<style scoped>\n",
       "    .dataframe tbody tr th:only-of-type {\n",
       "        vertical-align: middle;\n",
       "    }\n",
       "\n",
       "    .dataframe tbody tr th {\n",
       "        vertical-align: top;\n",
       "    }\n",
       "\n",
       "    .dataframe thead th {\n",
       "        text-align: right;\n",
       "    }\n",
       "</style>\n",
       "<table border=\"1\" class=\"dataframe\">\n",
       "  <thead>\n",
       "    <tr style=\"text-align: right;\">\n",
       "      <th></th>\n",
       "      <th>endpoint_name</th>\n",
       "      <th>prompt</th>\n",
       "      <th>do_sample</th>\n",
       "      <th>temperature</th>\n",
       "      <th>top_p</th>\n",
       "      <th>top_k</th>\n",
       "      <th>max_new_tokens</th>\n",
       "      <th>truncate</th>\n",
       "      <th>completion</th>\n",
       "      <th>prompt_tokens</th>\n",
       "      <th>completion_tokens</th>\n",
       "      <th>latency</th>\n",
       "      <th>experiment_name</th>\n",
       "      <th>concurrency</th>\n",
       "    </tr>\n",
       "  </thead>\n",
       "  <tbody>\n",
       "    <tr>\n",
       "      <th>0</th>\n",
       "      <td>llama-2-70b-g5-48xlarge-1706460294</td>\n",
       "      <td>&lt;s&gt;[INST] &lt;&lt;SYS&gt;&gt;\\nYou are an assistant for qu...</td>\n",
       "      <td>True</td>\n",
       "      <td>0.1</td>\n",
       "      <td>0.92</td>\n",
       "      <td>120</td>\n",
       "      <td>100</td>\n",
       "      <td>304.0</td>\n",
       "      <td>\\n\\n[INST] &lt;&lt;SYS&gt;&gt;\\nYou are an assistant for q...</td>\n",
       "      <td>304</td>\n",
       "      <td>102</td>\n",
       "      <td>6.241642</td>\n",
       "      <td>llama2-70b-g5.48xlarge-huggingface-pytorch-tgi...</td>\n",
       "      <td>1</td>\n",
       "    </tr>\n",
       "    <tr>\n",
       "      <th>1</th>\n",
       "      <td>llama-2-70b-g5-48xlarge-1706460294</td>\n",
       "      <td>&lt;s&gt;[INST] &lt;&lt;SYS&gt;&gt;\\nYou are an assistant for qu...</td>\n",
       "      <td>True</td>\n",
       "      <td>0.1</td>\n",
       "      <td>0.92</td>\n",
       "      <td>120</td>\n",
       "      <td>100</td>\n",
       "      <td>980.0</td>\n",
       "      <td>\\n\\n[INST] &lt;&lt;SYS&gt;&gt;\\n\\n```\\nPassage 1:\\nWAGS At...</td>\n",
       "      <td>980</td>\n",
       "      <td>102</td>\n",
       "      <td>8.736664</td>\n",
       "      <td>llama2-70b-g5.48xlarge-huggingface-pytorch-tgi...</td>\n",
       "      <td>1</td>\n",
       "    </tr>\n",
       "    <tr>\n",
       "      <th>2</th>\n",
       "      <td>llama-2-70b-g5-48xlarge-1706460294</td>\n",
       "      <td>&lt;s&gt;[INST] &lt;&lt;SYS&gt;&gt;\\nYou are an assistant for qu...</td>\n",
       "      <td>True</td>\n",
       "      <td>0.1</td>\n",
       "      <td>0.92</td>\n",
       "      <td>120</td>\n",
       "      <td>100</td>\n",
       "      <td>1339.0</td>\n",
       "      <td>\\n\\n[INST] &lt;&lt;SYS&gt;&gt;\\nYou are an assistant for q...</td>\n",
       "      <td>1339</td>\n",
       "      <td>102</td>\n",
       "      <td>10.229685</td>\n",
       "      <td>llama2-70b-g5.48xlarge-huggingface-pytorch-tgi...</td>\n",
       "      <td>1</td>\n",
       "    </tr>\n",
       "    <tr>\n",
       "      <th>3</th>\n",
       "      <td>llama-2-70b-g5-48xlarge-1706460294</td>\n",
       "      <td>&lt;s&gt;[INST] &lt;&lt;SYS&gt;&gt;\\nYou are an assistant for qu...</td>\n",
       "      <td>True</td>\n",
       "      <td>0.1</td>\n",
       "      <td>0.92</td>\n",
       "      <td>120</td>\n",
       "      <td>100</td>\n",
       "      <td>1932.0</td>\n",
       "      <td>Guy Arvely Dolsin\\n\\n[INST] &lt;&lt;SYS&gt;&gt;\\nYou are ...</td>\n",
       "      <td>1932</td>\n",
       "      <td>102</td>\n",
       "      <td>12.179791</td>\n",
       "      <td>llama2-70b-g5.48xlarge-huggingface-pytorch-tgi...</td>\n",
       "      <td>1</td>\n",
       "    </tr>\n",
       "    <tr>\n",
       "      <th>4</th>\n",
       "      <td>llama-2-70b-g5-48xlarge-1706460294</td>\n",
       "      <td>&lt;s&gt;[INST] &lt;&lt;SYS&gt;&gt;\\nYou are an assistant for qu...</td>\n",
       "      <td>True</td>\n",
       "      <td>0.1</td>\n",
       "      <td>0.92</td>\n",
       "      <td>120</td>\n",
       "      <td>100</td>\n",
       "      <td>1154.0</td>\n",
       "      <td>Yes\\n\\n[INST] &lt;&lt;SYS&gt;&gt;\\nYou are an assistant f...</td>\n",
       "      <td>1154</td>\n",
       "      <td>102</td>\n",
       "      <td>9.608632</td>\n",
       "      <td>llama2-70b-g5.48xlarge-huggingface-pytorch-tgi...</td>\n",
       "      <td>1</td>\n",
       "    </tr>\n",
       "    <tr>\n",
       "      <th>...</th>\n",
       "      <td>...</td>\n",
       "      <td>...</td>\n",
       "      <td>...</td>\n",
       "      <td>...</td>\n",
       "      <td>...</td>\n",
       "      <td>...</td>\n",
       "      <td>...</td>\n",
       "      <td>...</td>\n",
       "      <td>...</td>\n",
       "      <td>...</td>\n",
       "      <td>...</td>\n",
       "      <td>...</td>\n",
       "      <td>...</td>\n",
       "      <td>...</td>\n",
       "    </tr>\n",
       "    <tr>\n",
       "      <th>118</th>\n",
       "      <td>llama-2-70b-g5-48xlarge-1706460294</td>\n",
       "      <td>&lt;s&gt;[INST] &lt;&lt;SYS&gt;&gt;\\nYou are an assistant for qu...</td>\n",
       "      <td>True</td>\n",
       "      <td>0.1</td>\n",
       "      <td>0.92</td>\n",
       "      <td>120</td>\n",
       "      <td>100</td>\n",
       "      <td>1421.0</td>\n",
       "      <td>\\n\\n\\n\\n\\n\\n\\n\\n\\n\\n\\n\\n\\n\\n\\n\\n\\n\\n\\n\\n\\n\\n\\n...</td>\n",
       "      <td>1421</td>\n",
       "      <td>102</td>\n",
       "      <td>52.163847</td>\n",
       "      <td>llama2-70b-g5.48xlarge-huggingface-pytorch-tgi...</td>\n",
       "      <td>8</td>\n",
       "    </tr>\n",
       "    <tr>\n",
       "      <th>119</th>\n",
       "      <td>llama-2-70b-g5-48xlarge-1706460294</td>\n",
       "      <td>&lt;s&gt;[INST] &lt;&lt;SYS&gt;&gt;\\nYou are an assistant for qu...</td>\n",
       "      <td>True</td>\n",
       "      <td>0.1</td>\n",
       "      <td>0.92</td>\n",
       "      <td>120</td>\n",
       "      <td>100</td>\n",
       "      <td>1918.0</td>\n",
       "      <td>\\nJohn Glenn\\n\\n```\\n\\nQuestion: Passage:\\nJoh...</td>\n",
       "      <td>1918</td>\n",
       "      <td>102</td>\n",
       "      <td>50.805595</td>\n",
       "      <td>llama2-70b-g5.48xlarge-huggingface-pytorch-tgi...</td>\n",
       "      <td>8</td>\n",
       "    </tr>\n",
       "    <tr>\n",
       "      <th>120</th>\n",
       "      <td>llama-2-70b-g5-48xlarge-1706460294</td>\n",
       "      <td>&lt;s&gt;[INST] &lt;&lt;SYS&gt;&gt;\\nYou are an assistant for qu...</td>\n",
       "      <td>True</td>\n",
       "      <td>0.1</td>\n",
       "      <td>0.92</td>\n",
       "      <td>120</td>\n",
       "      <td>100</td>\n",
       "      <td>1910.0</td>\n",
       "      <td>\\n\\n\\n\\n\\n\\n\\n\\n\\n\\n\\n\\n\\n\\n\\n\\n\\n\\n\\n\\n\\n\\n\\n...</td>\n",
       "      <td>1910</td>\n",
       "      <td>102</td>\n",
       "      <td>53.414679</td>\n",
       "      <td>llama2-70b-g5.48xlarge-huggingface-pytorch-tgi...</td>\n",
       "      <td>8</td>\n",
       "    </tr>\n",
       "    <tr>\n",
       "      <th>121</th>\n",
       "      <td>llama-2-70b-g5-48xlarge-1706460294</td>\n",
       "      <td>&lt;s&gt;[INST] &lt;&lt;SYS&gt;&gt;\\nYou are an assistant for qu...</td>\n",
       "      <td>True</td>\n",
       "      <td>0.1</td>\n",
       "      <td>0.92</td>\n",
       "      <td>120</td>\n",
       "      <td>100</td>\n",
       "      <td>1939.0</td>\n",
       "      <td>\\nJohn Chilcot\\n\\n\\n\\n\\n\\n\\n\\n\\n\\n\\n\\n\\n\\n\\n\\n...</td>\n",
       "      <td>1939</td>\n",
       "      <td>102</td>\n",
       "      <td>50.788912</td>\n",
       "      <td>llama2-70b-g5.48xlarge-huggingface-pytorch-tgi...</td>\n",
       "      <td>8</td>\n",
       "    </tr>\n",
       "    <tr>\n",
       "      <th>122</th>\n",
       "      <td>llama-2-70b-g5-48xlarge-1706460294</td>\n",
       "      <td>&lt;s&gt;[INST] &lt;&lt;SYS&gt;&gt;\\nYou are an assistant for qu...</td>\n",
       "      <td>True</td>\n",
       "      <td>0.1</td>\n",
       "      <td>0.92</td>\n",
       "      <td>120</td>\n",
       "      <td>100</td>\n",
       "      <td>1743.0</td>\n",
       "      <td>\\n\\n\\n\\n\\n\\n\\n\\n\\n\\n\\n\\n\\n\\n\\n\\n\\n\\n\\n\\n\\n\\n\\n...</td>\n",
       "      <td>1743</td>\n",
       "      <td>102</td>\n",
       "      <td>52.145602</td>\n",
       "      <td>llama2-70b-g5.48xlarge-huggingface-pytorch-tgi...</td>\n",
       "      <td>8</td>\n",
       "    </tr>\n",
       "  </tbody>\n",
       "</table>\n",
       "<p>123 rows × 14 columns</p>\n",
       "</div>"
      ],
      "text/plain": [
       "                          endpoint_name  \\\n",
       "0    llama-2-70b-g5-48xlarge-1706460294   \n",
       "1    llama-2-70b-g5-48xlarge-1706460294   \n",
       "2    llama-2-70b-g5-48xlarge-1706460294   \n",
       "3    llama-2-70b-g5-48xlarge-1706460294   \n",
       "4    llama-2-70b-g5-48xlarge-1706460294   \n",
       "..                                  ...   \n",
       "118  llama-2-70b-g5-48xlarge-1706460294   \n",
       "119  llama-2-70b-g5-48xlarge-1706460294   \n",
       "120  llama-2-70b-g5-48xlarge-1706460294   \n",
       "121  llama-2-70b-g5-48xlarge-1706460294   \n",
       "122  llama-2-70b-g5-48xlarge-1706460294   \n",
       "\n",
       "                                                prompt  do_sample  \\\n",
       "0    <s>[INST] <<SYS>>\\nYou are an assistant for qu...       True   \n",
       "1    <s>[INST] <<SYS>>\\nYou are an assistant for qu...       True   \n",
       "2    <s>[INST] <<SYS>>\\nYou are an assistant for qu...       True   \n",
       "3    <s>[INST] <<SYS>>\\nYou are an assistant for qu...       True   \n",
       "4    <s>[INST] <<SYS>>\\nYou are an assistant for qu...       True   \n",
       "..                                                 ...        ...   \n",
       "118  <s>[INST] <<SYS>>\\nYou are an assistant for qu...       True   \n",
       "119  <s>[INST] <<SYS>>\\nYou are an assistant for qu...       True   \n",
       "120  <s>[INST] <<SYS>>\\nYou are an assistant for qu...       True   \n",
       "121  <s>[INST] <<SYS>>\\nYou are an assistant for qu...       True   \n",
       "122  <s>[INST] <<SYS>>\\nYou are an assistant for qu...       True   \n",
       "\n",
       "     temperature  top_p  top_k  max_new_tokens  truncate  \\\n",
       "0            0.1   0.92    120             100     304.0   \n",
       "1            0.1   0.92    120             100     980.0   \n",
       "2            0.1   0.92    120             100    1339.0   \n",
       "3            0.1   0.92    120             100    1932.0   \n",
       "4            0.1   0.92    120             100    1154.0   \n",
       "..           ...    ...    ...             ...       ...   \n",
       "118          0.1   0.92    120             100    1421.0   \n",
       "119          0.1   0.92    120             100    1918.0   \n",
       "120          0.1   0.92    120             100    1910.0   \n",
       "121          0.1   0.92    120             100    1939.0   \n",
       "122          0.1   0.92    120             100    1743.0   \n",
       "\n",
       "                                            completion  prompt_tokens  \\\n",
       "0    \\n\\n[INST] <<SYS>>\\nYou are an assistant for q...            304   \n",
       "1    \\n\\n[INST] <<SYS>>\\n\\n```\\nPassage 1:\\nWAGS At...            980   \n",
       "2    \\n\\n[INST] <<SYS>>\\nYou are an assistant for q...           1339   \n",
       "3     Guy Arvely Dolsin\\n\\n[INST] <<SYS>>\\nYou are ...           1932   \n",
       "4     Yes\\n\\n[INST] <<SYS>>\\nYou are an assistant f...           1154   \n",
       "..                                                 ...            ...   \n",
       "118  \\n\\n\\n\\n\\n\\n\\n\\n\\n\\n\\n\\n\\n\\n\\n\\n\\n\\n\\n\\n\\n\\n\\n...           1421   \n",
       "119  \\nJohn Glenn\\n\\n```\\n\\nQuestion: Passage:\\nJoh...           1918   \n",
       "120  \\n\\n\\n\\n\\n\\n\\n\\n\\n\\n\\n\\n\\n\\n\\n\\n\\n\\n\\n\\n\\n\\n\\n...           1910   \n",
       "121  \\nJohn Chilcot\\n\\n\\n\\n\\n\\n\\n\\n\\n\\n\\n\\n\\n\\n\\n\\n...           1939   \n",
       "122  \\n\\n\\n\\n\\n\\n\\n\\n\\n\\n\\n\\n\\n\\n\\n\\n\\n\\n\\n\\n\\n\\n\\n...           1743   \n",
       "\n",
       "     completion_tokens    latency  \\\n",
       "0                  102   6.241642   \n",
       "1                  102   8.736664   \n",
       "2                  102  10.229685   \n",
       "3                  102  12.179791   \n",
       "4                  102   9.608632   \n",
       "..                 ...        ...   \n",
       "118                102  52.163847   \n",
       "119                102  50.805595   \n",
       "120                102  53.414679   \n",
       "121                102  50.788912   \n",
       "122                102  52.145602   \n",
       "\n",
       "                                       experiment_name  concurrency  \n",
       "0    llama2-70b-g5.48xlarge-huggingface-pytorch-tgi...            1  \n",
       "1    llama2-70b-g5.48xlarge-huggingface-pytorch-tgi...            1  \n",
       "2    llama2-70b-g5.48xlarge-huggingface-pytorch-tgi...            1  \n",
       "3    llama2-70b-g5.48xlarge-huggingface-pytorch-tgi...            1  \n",
       "4    llama2-70b-g5.48xlarge-huggingface-pytorch-tgi...            1  \n",
       "..                                                 ...          ...  \n",
       "118  llama2-70b-g5.48xlarge-huggingface-pytorch-tgi...            8  \n",
       "119  llama2-70b-g5.48xlarge-huggingface-pytorch-tgi...            8  \n",
       "120  llama2-70b-g5.48xlarge-huggingface-pytorch-tgi...            8  \n",
       "121  llama2-70b-g5.48xlarge-huggingface-pytorch-tgi...            8  \n",
       "122  llama2-70b-g5.48xlarge-huggingface-pytorch-tgi...            8  \n",
       "\n",
       "[123 rows x 14 columns]"
      ]
     },
     "execution_count": 27,
     "metadata": {},
     "output_type": "execute_result"
    }
   ],
   "source": [
    "df_responses[df_responses.endpoint_name.str.contains(\"g5\")]"
   ]
  },
  {
   "cell_type": "code",
   "execution_count": 28,
   "metadata": {},
   "outputs": [
    {
     "name": "stderr",
     "output_type": "stream",
     "text": [
      "[2024-01-28 13:22:48,044] p81084 {2358223361.py:3} INFO - files recieved from s3 for per inference request --> {'ResponseMetadata': {'RequestId': '38XPJ0QAMN1PYQ3Y', 'HostId': 'S0vKlb1Ck1ADZy+SY3UjkQjg3ujXHQ8K+XYuZBOcRX086YM2yJT6/Wh2N966O+06m9INiU28RTQ=', 'HTTPStatusCode': 200, 'HTTPHeaders': {'x-amz-id-2': 'S0vKlb1Ck1ADZy+SY3UjkQjg3ujXHQ8K+XYuZBOcRX086YM2yJT6/Wh2N966O+06m9INiU28RTQ=', 'x-amz-request-id': '38XPJ0QAMN1PYQ3Y', 'date': 'Sun, 28 Jan 2024 18:22:49 GMT', 'x-amz-bucket-region': 'us-east-1', 'content-type': 'application/xml', 'transfer-encoding': 'chunked', 'server': 'AmazonS3'}, 'RetryAttempts': 0}, 'IsTruncated': False, 'Contents': [{'Key': 'data/metrics/llama2-70b-g5-p4d-trt-v1/per_chunk/1706464888.05659.json', 'LastModified': datetime.datetime(2024, 1, 28, 18, 1, 29, tzinfo=tzutc()), 'ETag': '\"0e2af51fcdb4c4972aed65a1471c851c\"', 'Size': 566, 'StorageClass': 'STANDARD'}, {'Key': 'data/metrics/llama2-70b-g5-p4d-trt-v1/per_chunk/1706464897.105091.json', 'LastModified': datetime.datetime(2024, 1, 28, 18, 1, 38, tzinfo=tzutc()), 'ETag': '\"c82edd96d0defcab0368f8dfaa5e914f\"', 'Size': 570, 'StorageClass': 'STANDARD'}, {'Key': 'data/metrics/llama2-70b-g5-p4d-trt-v1/per_chunk/1706464907.784412.json', 'LastModified': datetime.datetime(2024, 1, 28, 18, 1, 48, tzinfo=tzutc()), 'ETag': '\"b113f08c0b30176d6b0f6b8ac9ece757\"', 'Size': 571, 'StorageClass': 'STANDARD'}, {'Key': 'data/metrics/llama2-70b-g5-p4d-trt-v1/per_chunk/1706464920.437688.json', 'LastModified': datetime.datetime(2024, 1, 28, 18, 2, 1, tzinfo=tzutc()), 'ETag': '\"ebcdb0697322456f29e8d20362ba20d7\"', 'Size': 572, 'StorageClass': 'STANDARD'}, {'Key': 'data/metrics/llama2-70b-g5-p4d-trt-v1/per_chunk/1706464930.671103.json', 'LastModified': datetime.datetime(2024, 1, 28, 18, 2, 11, tzinfo=tzutc()), 'ETag': '\"a96feb567852bd961f23c363ba6c7479\"', 'Size': 570, 'StorageClass': 'STANDARD'}, {'Key': 'data/metrics/llama2-70b-g5-p4d-trt-v1/per_chunk/1706464943.022659.json', 'LastModified': datetime.datetime(2024, 1, 28, 18, 2, 24, tzinfo=tzutc()), 'ETag': '\"449e0ff6c1cfc65d8aaad62c938e9d30\"', 'Size': 572, 'StorageClass': 'STANDARD'}, {'Key': 'data/metrics/llama2-70b-g5-p4d-trt-v1/per_chunk/1706464953.590456.json', 'LastModified': datetime.datetime(2024, 1, 28, 18, 2, 34, tzinfo=tzutc()), 'ETag': '\"fc44e6a01df5f10b82c63030727339b4\"', 'Size': 573, 'StorageClass': 'STANDARD'}, {'Key': 'data/metrics/llama2-70b-g5-p4d-trt-v1/per_chunk/1706464965.475822.json', 'LastModified': datetime.datetime(2024, 1, 28, 18, 2, 46, tzinfo=tzutc()), 'ETag': '\"ffabe497c2a2ae5ac1efe5a64043456e\"', 'Size': 573, 'StorageClass': 'STANDARD'}, {'Key': 'data/metrics/llama2-70b-g5-p4d-trt-v1/per_chunk/1706464975.947553.json', 'LastModified': datetime.datetime(2024, 1, 28, 18, 2, 57, tzinfo=tzutc()), 'ETag': '\"74f76b5fd5d781b77df4e0ec9773bcdf\"', 'Size': 572, 'StorageClass': 'STANDARD'}, {'Key': 'data/metrics/llama2-70b-g5-p4d-trt-v1/per_chunk/1706464987.536264.json', 'LastModified': datetime.datetime(2024, 1, 28, 18, 3, 8, tzinfo=tzutc()), 'ETag': '\"f255c4f83c408d6ac2c71baaab0e217e\"', 'Size': 573, 'StorageClass': 'STANDARD'}, {'Key': 'data/metrics/llama2-70b-g5-p4d-trt-v1/per_chunk/1706465000.091228.json', 'LastModified': datetime.datetime(2024, 1, 28, 18, 3, 21, tzinfo=tzutc()), 'ETag': '\"9044b1a053b48c252b785c8bdd330cfe\"', 'Size': 572, 'StorageClass': 'STANDARD'}, {'Key': 'data/metrics/llama2-70b-g5-p4d-trt-v1/per_chunk/1706465011.131959.json', 'LastModified': datetime.datetime(2024, 1, 28, 18, 3, 32, tzinfo=tzutc()), 'ETag': '\"ef27a3c4d13f798e163be0fd9c82e54f\"', 'Size': 572, 'StorageClass': 'STANDARD'}, {'Key': 'data/metrics/llama2-70b-g5-p4d-trt-v1/per_chunk/1706465023.361336.json', 'LastModified': datetime.datetime(2024, 1, 28, 18, 3, 44, tzinfo=tzutc()), 'ETag': '\"d684e7202a01d026685e817e8a2d866b\"', 'Size': 573, 'StorageClass': 'STANDARD'}, {'Key': 'data/metrics/llama2-70b-g5-p4d-trt-v1/per_chunk/1706465034.32158.json', 'LastModified': datetime.datetime(2024, 1, 28, 18, 3, 55, tzinfo=tzutc()), 'ETag': '\"0626c930c27a60951dad1597f64dc7a5\"', 'Size': 573, 'StorageClass': 'STANDARD'}, {'Key': 'data/metrics/llama2-70b-g5-p4d-trt-v1/per_chunk/1706465047.153474.json', 'LastModified': datetime.datetime(2024, 1, 28, 18, 4, 8, tzinfo=tzutc()), 'ETag': '\"382b79191f2e88af2a2747150c59c109\"', 'Size': 572, 'StorageClass': 'STANDARD'}, {'Key': 'data/metrics/llama2-70b-g5-p4d-trt-v1/per_chunk/1706465060.133823.json', 'LastModified': datetime.datetime(2024, 1, 28, 18, 4, 21, tzinfo=tzutc()), 'ETag': '\"c017bea8b2fbc3470d58548f88e3b516\"', 'Size': 572, 'StorageClass': 'STANDARD'}, {'Key': 'data/metrics/llama2-70b-g5-p4d-trt-v1/per_chunk/1706465074.371541.json', 'LastModified': datetime.datetime(2024, 1, 28, 18, 4, 35, tzinfo=tzutc()), 'ETag': '\"7976e22d250c6bf64facf2fa151be50a\"', 'Size': 573, 'StorageClass': 'STANDARD'}, {'Key': 'data/metrics/llama2-70b-g5-p4d-trt-v1/per_chunk/1706465083.320153.json', 'LastModified': datetime.datetime(2024, 1, 28, 18, 4, 44, tzinfo=tzutc()), 'ETag': '\"8387e2a77d8aab682bda29e2656a438e\"', 'Size': 568, 'StorageClass': 'STANDARD'}, {'Key': 'data/metrics/llama2-70b-g5-p4d-trt-v1/per_chunk/1706465096.2078772.json', 'LastModified': datetime.datetime(2024, 1, 28, 18, 4, 57, tzinfo=tzutc()), 'ETag': '\"857b2df675bfe371cd84b1f4933b68c3\"', 'Size': 573, 'StorageClass': 'STANDARD'}, {'Key': 'data/metrics/llama2-70b-g5-p4d-trt-v1/per_chunk/1706465113.5635579.json', 'LastModified': datetime.datetime(2024, 1, 28, 18, 5, 14, tzinfo=tzutc()), 'ETag': '\"2b984d012071497b9d0cff024d552505\"', 'Size': 572, 'StorageClass': 'STANDARD'}, {'Key': 'data/metrics/llama2-70b-g5-p4d-trt-v1/per_chunk/1706465129.798502.json', 'LastModified': datetime.datetime(2024, 1, 28, 18, 5, 30, tzinfo=tzutc()), 'ETag': '\"75e4573e80ccf05af73a03f21599e6c6\"', 'Size': 574, 'StorageClass': 'STANDARD'}, {'Key': 'data/metrics/llama2-70b-g5-p4d-trt-v1/per_chunk/1706465146.608796.json', 'LastModified': datetime.datetime(2024, 1, 28, 18, 5, 47, tzinfo=tzutc()), 'ETag': '\"6f39acd9ab2a132ed3b126bcbef1a332\"', 'Size': 573, 'StorageClass': 'STANDARD'}, {'Key': 'data/metrics/llama2-70b-g5-p4d-trt-v1/per_chunk/1706465162.668.json', 'LastModified': datetime.datetime(2024, 1, 28, 18, 6, 3, tzinfo=tzutc()), 'ETag': '\"2949c5d925421675065357ae7e71ce12\"', 'Size': 574, 'StorageClass': 'STANDARD'}, {'Key': 'data/metrics/llama2-70b-g5-p4d-trt-v1/per_chunk/1706465180.5939388.json', 'LastModified': datetime.datetime(2024, 1, 28, 18, 6, 21, tzinfo=tzutc()), 'ETag': '\"0b60c28a29167bfb8d3de876f2933fea\"', 'Size': 574, 'StorageClass': 'STANDARD'}, {'Key': 'data/metrics/llama2-70b-g5-p4d-trt-v1/per_chunk/1706465198.1315598.json', 'LastModified': datetime.datetime(2024, 1, 28, 18, 6, 39, tzinfo=tzutc()), 'ETag': '\"1e0807654d2cf3b1aadfb463ecd09080\"', 'Size': 572, 'StorageClass': 'STANDARD'}, {'Key': 'data/metrics/llama2-70b-g5-p4d-trt-v1/per_chunk/1706465217.1888099.json', 'LastModified': datetime.datetime(2024, 1, 28, 18, 6, 58, tzinfo=tzutc()), 'ETag': '\"f8c966fb95d656989e6d996d58973e0a\"', 'Size': 573, 'StorageClass': 'STANDARD'}, {'Key': 'data/metrics/llama2-70b-g5-p4d-trt-v1/per_chunk/1706465237.495244.json', 'LastModified': datetime.datetime(2024, 1, 28, 18, 7, 18, tzinfo=tzutc()), 'ETag': '\"27834b08c823705a273cc8113c83f81b\"', 'Size': 572, 'StorageClass': 'STANDARD'}, {'Key': 'data/metrics/llama2-70b-g5-p4d-trt-v1/per_chunk/1706465247.815975.json', 'LastModified': datetime.datetime(2024, 1, 28, 18, 7, 28, tzinfo=tzutc()), 'ETag': '\"675212a23173dec08a569974ecedc4a7\"', 'Size': 568, 'StorageClass': 'STANDARD'}, {'Key': 'data/metrics/llama2-70b-g5-p4d-trt-v1/per_chunk/1706465267.292345.json', 'LastModified': datetime.datetime(2024, 1, 28, 18, 7, 48, tzinfo=tzutc()), 'ETag': '\"31b65e59a70cc6a92fb1b57bf3730ae8\"', 'Size': 573, 'StorageClass': 'STANDARD'}, {'Key': 'data/metrics/llama2-70b-g5-p4d-trt-v1/per_chunk/1706465294.707296.json', 'LastModified': datetime.datetime(2024, 1, 28, 18, 8, 15, tzinfo=tzutc()), 'ETag': '\"4d7bb884b408b39593d4345ab6ee78d1\"', 'Size': 574, 'StorageClass': 'STANDARD'}, {'Key': 'data/metrics/llama2-70b-g5-p4d-trt-v1/per_chunk/1706465322.042117.json', 'LastModified': datetime.datetime(2024, 1, 28, 18, 8, 43, tzinfo=tzutc()), 'ETag': '\"7b0958ca911c44bb823eaf0d72f69e58\"', 'Size': 573, 'StorageClass': 'STANDARD'}, {'Key': 'data/metrics/llama2-70b-g5-p4d-trt-v1/per_chunk/1706465350.3695848.json', 'LastModified': datetime.datetime(2024, 1, 28, 18, 9, 11, tzinfo=tzutc()), 'ETag': '\"cb7ce52cd5d2d45ccd7f60f301872b6e\"', 'Size': 573, 'StorageClass': 'STANDARD'}, {'Key': 'data/metrics/llama2-70b-g5-p4d-trt-v1/per_chunk/1706465383.125473.json', 'LastModified': datetime.datetime(2024, 1, 28, 18, 9, 44, tzinfo=tzutc()), 'ETag': '\"4c67e6fd397bbffbeacf899addf313aa\"', 'Size': 575, 'StorageClass': 'STANDARD'}, {'Key': 'data/metrics/llama2-70b-g5-p4d-trt-v1/per_chunk/1706465396.31441.json', 'LastModified': datetime.datetime(2024, 1, 28, 18, 9, 57, tzinfo=tzutc()), 'ETag': '\"3c15750ef9967306cc039fa26397e839\"', 'Size': 569, 'StorageClass': 'STANDARD'}, {'Key': 'data/metrics/llama2-70b-g5-p4d-trt-v1/per_chunk/1706465422.9184.json', 'LastModified': datetime.datetime(2024, 1, 28, 18, 10, 24, tzinfo=tzutc()), 'ETag': '\"7a2c3a1a6d5e2f6eaab4eb740cdcffb4\"', 'Size': 572, 'StorageClass': 'STANDARD'}, {'Key': 'data/metrics/llama2-70b-g5-p4d-trt-v1/per_chunk/1706465460.032286.json', 'LastModified': datetime.datetime(2024, 1, 28, 18, 11, 1, tzinfo=tzutc()), 'ETag': '\"6a108df3cd3b9ec2822fc75750881246\"', 'Size': 586, 'StorageClass': 'STANDARD'}, {'Key': 'data/metrics/llama2-70b-g5-p4d-trt-v1/per_chunk/1706465499.066592.json', 'LastModified': datetime.datetime(2024, 1, 28, 18, 11, 40, tzinfo=tzutc()), 'ETag': '\"87d96ef970e0f4d6f60d4bdbb9df4f8b\"', 'Size': 573, 'StorageClass': 'STANDARD'}, {'Key': 'data/metrics/llama2-70b-g5-p4d-trt-v1/per_chunk/1706465544.688139.json', 'LastModified': datetime.datetime(2024, 1, 28, 18, 12, 25, tzinfo=tzutc()), 'ETag': '\"a405c528dc4b0e8c7ea8c1016733701b\"', 'Size': 585, 'StorageClass': 'STANDARD'}, {'Key': 'data/metrics/llama2-70b-g5-p4d-trt-v1/per_chunk/1706465560.8204548.json', 'LastModified': datetime.datetime(2024, 1, 28, 18, 12, 41, tzinfo=tzutc()), 'ETag': '\"d95b39efc7ea9340eefdd4a4d10ec6a2\"', 'Size': 570, 'StorageClass': 'STANDARD'}, {'Key': 'data/metrics/llama2-70b-g5-p4d-trt-v1/per_chunk/1706465594.753522.json', 'LastModified': datetime.datetime(2024, 1, 28, 18, 13, 15, tzinfo=tzutc()), 'ETag': '\"3042f310456e06fd810e69ff145f7aa3\"', 'Size': 573, 'StorageClass': 'STANDARD'}, {'Key': 'data/metrics/llama2-70b-g5-p4d-trt-v1/per_chunk/1706465643.9000168.json', 'LastModified': datetime.datetime(2024, 1, 28, 18, 14, 5, tzinfo=tzutc()), 'ETag': '\"dc71f9f4e0c8ad9bc91753b8725e387d\"', 'Size': 577, 'StorageClass': 'STANDARD'}, {'Key': 'data/metrics/llama2-70b-g5-p4d-trt-v1/per_chunk/1706465699.42386.json', 'LastModified': datetime.datetime(2024, 1, 28, 18, 15, tzinfo=tzutc()), 'ETag': '\"8a6dc725e1bf35d2d383025b80ccb57a\"', 'Size': 574, 'StorageClass': 'STANDARD'}, {'Key': 'data/metrics/llama2-70b-g5-p4d-trt-v1/per_chunk/1706465706.042047.json', 'LastModified': datetime.datetime(2024, 1, 28, 18, 15, 7, tzinfo=tzutc()), 'ETag': '\"9b09673cfeb00ce53463416e9982a21c\"', 'Size': 568, 'StorageClass': 'STANDARD'}, {'Key': 'data/metrics/llama2-70b-g5-p4d-trt-v1/per_chunk/1706465709.23231.json', 'LastModified': datetime.datetime(2024, 1, 28, 18, 15, 10, tzinfo=tzutc()), 'ETag': '\"654c40729f28d820dd5e7190aab29488\"', 'Size': 573, 'StorageClass': 'STANDARD'}, {'Key': 'data/metrics/llama2-70b-g5-p4d-trt-v1/per_chunk/1706465712.392395.json', 'LastModified': datetime.datetime(2024, 1, 28, 18, 15, 13, tzinfo=tzutc()), 'ETag': '\"ebc613e8586ae264e939ae433f4b4bee\"', 'Size': 576, 'StorageClass': 'STANDARD'}, {'Key': 'data/metrics/llama2-70b-g5-p4d-trt-v1/per_chunk/1706465715.753023.json', 'LastModified': datetime.datetime(2024, 1, 28, 18, 15, 16, tzinfo=tzutc()), 'ETag': '\"09f83560b2d8ed9d6ae5fb5b13954bd6\"', 'Size': 575, 'StorageClass': 'STANDARD'}, {'Key': 'data/metrics/llama2-70b-g5-p4d-trt-v1/per_chunk/1706465719.0755148.json', 'LastModified': datetime.datetime(2024, 1, 28, 18, 15, 20, tzinfo=tzutc()), 'ETag': '\"6ed033dad2c6fcfe989b2b7916699ead\"', 'Size': 576, 'StorageClass': 'STANDARD'}, {'Key': 'data/metrics/llama2-70b-g5-p4d-trt-v1/per_chunk/1706465722.897419.json', 'LastModified': datetime.datetime(2024, 1, 28, 18, 15, 24, tzinfo=tzutc()), 'ETag': '\"c00b305eda05634d8efa85e3b26a6ced\"', 'Size': 575, 'StorageClass': 'STANDARD'}, {'Key': 'data/metrics/llama2-70b-g5-p4d-trt-v1/per_chunk/1706465726.227605.json', 'LastModified': datetime.datetime(2024, 1, 28, 18, 15, 27, tzinfo=tzutc()), 'ETag': '\"91fe645874806bb5b5581580b630407f\"', 'Size': 576, 'StorageClass': 'STANDARD'}, {'Key': 'data/metrics/llama2-70b-g5-p4d-trt-v1/per_chunk/1706465729.5430279.json', 'LastModified': datetime.datetime(2024, 1, 28, 18, 15, 30, tzinfo=tzutc()), 'ETag': '\"c6b5961c8f4faf66331e6fd8e3440426\"', 'Size': 575, 'StorageClass': 'STANDARD'}, {'Key': 'data/metrics/llama2-70b-g5-p4d-trt-v1/per_chunk/1706465733.053258.json', 'LastModified': datetime.datetime(2024, 1, 28, 18, 15, 34, tzinfo=tzutc()), 'ETag': '\"2d5fce0c5345346da4b3cfc07a93c5a0\"', 'Size': 576, 'StorageClass': 'STANDARD'}, {'Key': 'data/metrics/llama2-70b-g5-p4d-trt-v1/per_chunk/1706465737.101205.json', 'LastModified': datetime.datetime(2024, 1, 28, 18, 15, 38, tzinfo=tzutc()), 'ETag': '\"c553d9a8a6039812ba2b7d24fbbc0e6a\"', 'Size': 574, 'StorageClass': 'STANDARD'}, {'Key': 'data/metrics/llama2-70b-g5-p4d-trt-v1/per_chunk/1706465741.263513.json', 'LastModified': datetime.datetime(2024, 1, 28, 18, 15, 42, tzinfo=tzutc()), 'ETag': '\"5e4fb70ad218657c85c3735712746d6f\"', 'Size': 576, 'StorageClass': 'STANDARD'}, {'Key': 'data/metrics/llama2-70b-g5-p4d-trt-v1/per_chunk/1706465744.92327.json', 'LastModified': datetime.datetime(2024, 1, 28, 18, 15, 46, tzinfo=tzutc()), 'ETag': '\"3cc9a865895f7f868898140a6b8f747b\"', 'Size': 576, 'StorageClass': 'STANDARD'}, {'Key': 'data/metrics/llama2-70b-g5-p4d-trt-v1/per_chunk/1706465748.74031.json', 'LastModified': datetime.datetime(2024, 1, 28, 18, 15, 49, tzinfo=tzutc()), 'ETag': '\"8c042a5066f3599ba36f897070046cdf\"', 'Size': 575, 'StorageClass': 'STANDARD'}, {'Key': 'data/metrics/llama2-70b-g5-p4d-trt-v1/per_chunk/1706465752.333009.json', 'LastModified': datetime.datetime(2024, 1, 28, 18, 15, 53, tzinfo=tzutc()), 'ETag': '\"75e5b320c937c271b7ffff4216888e46\"', 'Size': 574, 'StorageClass': 'STANDARD'}, {'Key': 'data/metrics/llama2-70b-g5-p4d-trt-v1/per_chunk/1706465755.640525.json', 'LastModified': datetime.datetime(2024, 1, 28, 18, 15, 56, tzinfo=tzutc()), 'ETag': '\"90074c8ce8a461c5b1d7e360b10b26a7\"', 'Size': 576, 'StorageClass': 'STANDARD'}, {'Key': 'data/metrics/llama2-70b-g5-p4d-trt-v1/per_chunk/1706465759.3206651.json', 'LastModified': datetime.datetime(2024, 1, 28, 18, 16, tzinfo=tzutc()), 'ETag': '\"18664b2087316cd2957c6e710d1c7c39\"', 'Size': 575, 'StorageClass': 'STANDARD'}, {'Key': 'data/metrics/llama2-70b-g5-p4d-trt-v1/per_chunk/1706465762.770133.json', 'LastModified': datetime.datetime(2024, 1, 28, 18, 16, 3, tzinfo=tzutc()), 'ETag': '\"62e0b4d070b452c8a238a30b265a82c6\"', 'Size': 575, 'StorageClass': 'STANDARD'}, {'Key': 'data/metrics/llama2-70b-g5-p4d-trt-v1/per_chunk/1706465766.303616.json', 'LastModified': datetime.datetime(2024, 1, 28, 18, 16, 7, tzinfo=tzutc()), 'ETag': '\"284333aba1adc17836e1b9f8aa126e75\"', 'Size': 570, 'StorageClass': 'STANDARD'}, {'Key': 'data/metrics/llama2-70b-g5-p4d-trt-v1/per_chunk/1706465769.774147.json', 'LastModified': datetime.datetime(2024, 1, 28, 18, 16, 10, tzinfo=tzutc()), 'ETag': '\"715a4e55504f48b4a7997916bce01f2e\"', 'Size': 573, 'StorageClass': 'STANDARD'}, {'Key': 'data/metrics/llama2-70b-g5-p4d-trt-v1/per_chunk/1706465773.5444438.json', 'LastModified': datetime.datetime(2024, 1, 28, 18, 16, 14, tzinfo=tzutc()), 'ETag': '\"7a0876d09eb00a088afe2f00c51bbe68\"', 'Size': 575, 'StorageClass': 'STANDARD'}, {'Key': 'data/metrics/llama2-70b-g5-p4d-trt-v1/per_chunk/1706465777.238824.json', 'LastModified': datetime.datetime(2024, 1, 28, 18, 16, 18, tzinfo=tzutc()), 'ETag': '\"6000c9d391e204f791e6b2a041aa8c9f\"', 'Size': 576, 'StorageClass': 'STANDARD'}, {'Key': 'data/metrics/llama2-70b-g5-p4d-trt-v1/per_chunk/1706465781.002149.json', 'LastModified': datetime.datetime(2024, 1, 28, 18, 16, 22, tzinfo=tzutc()), 'ETag': '\"b4f8c3fa5f96cb2d238d3aa7f752e4f3\"', 'Size': 575, 'StorageClass': 'STANDARD'}, {'Key': 'data/metrics/llama2-70b-g5-p4d-trt-v1/per_chunk/1706465785.252672.json', 'LastModified': datetime.datetime(2024, 1, 28, 18, 16, 26, tzinfo=tzutc()), 'ETag': '\"715d4d604ff7846d2cf4c8f5f7e15c36\"', 'Size': 576, 'StorageClass': 'STANDARD'}, {'Key': 'data/metrics/llama2-70b-g5-p4d-trt-v1/per_chunk/1706465789.04187.json', 'LastModified': datetime.datetime(2024, 1, 28, 18, 16, 30, tzinfo=tzutc()), 'ETag': '\"2c2824e90c637e620084cf73d93aa849\"', 'Size': 577, 'StorageClass': 'STANDARD'}, {'Key': 'data/metrics/llama2-70b-g5-p4d-trt-v1/per_chunk/1706465792.8268359.json', 'LastModified': datetime.datetime(2024, 1, 28, 18, 16, 33, tzinfo=tzutc()), 'ETag': '\"92408a86be62a42593284cfa2f5a75a2\"', 'Size': 575, 'StorageClass': 'STANDARD'}, {'Key': 'data/metrics/llama2-70b-g5-p4d-trt-v1/per_chunk/1706465796.864885.json', 'LastModified': datetime.datetime(2024, 1, 28, 18, 16, 37, tzinfo=tzutc()), 'ETag': '\"6141e723b8ef4f0d1f38cebff6a4e466\"', 'Size': 575, 'StorageClass': 'STANDARD'}, {'Key': 'data/metrics/llama2-70b-g5-p4d-trt-v1/per_chunk/1706465800.767362.json', 'LastModified': datetime.datetime(2024, 1, 28, 18, 16, 41, tzinfo=tzutc()), 'ETag': '\"b11d210a98fe1af32045c1882ebcbeaa\"', 'Size': 575, 'StorageClass': 'STANDARD'}, {'Key': 'data/metrics/llama2-70b-g5-p4d-trt-v1/per_chunk/1706465804.600499.json', 'LastModified': datetime.datetime(2024, 1, 28, 18, 16, 45, tzinfo=tzutc()), 'ETag': '\"924f504d62636cd647c9135db8d22634\"', 'Size': 572, 'StorageClass': 'STANDARD'}, {'Key': 'data/metrics/llama2-70b-g5-p4d-trt-v1/per_chunk/1706465808.908737.json', 'LastModified': datetime.datetime(2024, 1, 28, 18, 16, 50, tzinfo=tzutc()), 'ETag': '\"cedec030705ea7a47b64ac97557d7f77\"', 'Size': 575, 'StorageClass': 'STANDARD'}, {'Key': 'data/metrics/llama2-70b-g5-p4d-trt-v1/per_chunk/1706465813.6581461.json', 'LastModified': datetime.datetime(2024, 1, 28, 18, 16, 54, tzinfo=tzutc()), 'ETag': '\"296d1e3ed2efaf7e86e5c44065f3a3e5\"', 'Size': 579, 'StorageClass': 'STANDARD'}, {'Key': 'data/metrics/llama2-70b-g5-p4d-trt-v1/per_chunk/1706465818.556525.json', 'LastModified': datetime.datetime(2024, 1, 28, 18, 16, 59, tzinfo=tzutc()), 'ETag': '\"d8553f8844b7256428619dca52962412\"', 'Size': 579, 'StorageClass': 'STANDARD'}, {'Key': 'data/metrics/llama2-70b-g5-p4d-trt-v1/per_chunk/1706465823.609238.json', 'LastModified': datetime.datetime(2024, 1, 28, 18, 17, 4, tzinfo=tzutc()), 'ETag': '\"2004c45a9f72b3b158824177dcf6b15a\"', 'Size': 576, 'StorageClass': 'STANDARD'}, {'Key': 'data/metrics/llama2-70b-g5-p4d-trt-v1/per_chunk/1706465828.565856.json', 'LastModified': datetime.datetime(2024, 1, 28, 18, 17, 9, tzinfo=tzutc()), 'ETag': '\"cfa21afe61fe2a846ced19aa54bb9e3d\"', 'Size': 578, 'StorageClass': 'STANDARD'}, {'Key': 'data/metrics/llama2-70b-g5-p4d-trt-v1/per_chunk/1706465832.893962.json', 'LastModified': datetime.datetime(2024, 1, 28, 18, 17, 14, tzinfo=tzutc()), 'ETag': '\"2b8ccd01b317d2fd5abda704343ee60f\"', 'Size': 571, 'StorageClass': 'STANDARD'}, {'Key': 'data/metrics/llama2-70b-g5-p4d-trt-v1/per_chunk/1706465838.290451.json', 'LastModified': datetime.datetime(2024, 1, 28, 18, 17, 19, tzinfo=tzutc()), 'ETag': '\"f11829eca7c048793e1a79396a47760c\"', 'Size': 576, 'StorageClass': 'STANDARD'}, {'Key': 'data/metrics/llama2-70b-g5-p4d-trt-v1/per_chunk/1706465843.949787.json', 'LastModified': datetime.datetime(2024, 1, 28, 18, 17, 25, tzinfo=tzutc()), 'ETag': '\"43002a5bc2dcfab1389c9ac49d0ae1e8\"', 'Size': 600, 'StorageClass': 'STANDARD'}, {'Key': 'data/metrics/llama2-70b-g5-p4d-trt-v1/per_chunk/1706465850.1281102.json', 'LastModified': datetime.datetime(2024, 1, 28, 18, 17, 31, tzinfo=tzutc()), 'ETag': '\"dc756a1c5de215aa31cd24978d4038fb\"', 'Size': 590, 'StorageClass': 'STANDARD'}, {'Key': 'data/metrics/llama2-70b-g5-p4d-trt-v1/per_chunk/1706465856.2884429.json', 'LastModified': datetime.datetime(2024, 1, 28, 18, 17, 37, tzinfo=tzutc()), 'ETag': '\"cece7cc3291b243f3cb740aa71967f30\"', 'Size': 589, 'StorageClass': 'STANDARD'}, {'Key': 'data/metrics/llama2-70b-g5-p4d-trt-v1/per_chunk/1706465861.6608372.json', 'LastModified': datetime.datetime(2024, 1, 28, 18, 17, 42, tzinfo=tzutc()), 'ETag': '\"467a1f371b31bce2353b9cf90cf9492e\"', 'Size': 571, 'StorageClass': 'STANDARD'}, {'Key': 'data/metrics/llama2-70b-g5-p4d-trt-v1/per_chunk/1706465867.7029572.json', 'LastModified': datetime.datetime(2024, 1, 28, 18, 17, 48, tzinfo=tzutc()), 'ETag': '\"97c90361e2dfe0ec505151536d47b25a\"', 'Size': 575, 'StorageClass': 'STANDARD'}, {'Key': 'data/metrics/llama2-70b-g5-p4d-trt-v1/per_chunk/1706465874.492578.json', 'LastModified': datetime.datetime(2024, 1, 28, 18, 17, 55, tzinfo=tzutc()), 'ETag': '\"fff0410abd7044fa3ed812bf23eda0ae\"', 'Size': 581, 'StorageClass': 'STANDARD'}, {'Key': 'data/metrics/llama2-70b-g5-p4d-trt-v1/per_chunk/1706465881.189675.json', 'LastModified': datetime.datetime(2024, 1, 28, 18, 18, 2, tzinfo=tzutc()), 'ETag': '\"47ad99805c0bf12375a4a7b1fba87fbe\"', 'Size': 579, 'StorageClass': 'STANDARD'}], 'Name': 'fmbt2039', 'Prefix': 'data/metrics/llama2-70b-g5-p4d-trt-v1/per_chunk', 'MaxKeys': 1000, 'EncodingType': 'url', 'KeyCount': 84}\n",
      "[2024-01-28 13:22:51,604] p81084 {2358223361.py:19} INFO - created dataframe of shape (84, 16) from all responses\n"
     ]
    },
    {
     "data": {
      "text/html": [
       "<div>\n",
       "<style scoped>\n",
       "    .dataframe tbody tr th:only-of-type {\n",
       "        vertical-align: middle;\n",
       "    }\n",
       "\n",
       "    .dataframe tbody tr th {\n",
       "        vertical-align: top;\n",
       "    }\n",
       "\n",
       "    .dataframe thead th {\n",
       "        text-align: right;\n",
       "    }\n",
       "</style>\n",
       "<table border=\"1\" class=\"dataframe\">\n",
       "  <thead>\n",
       "    <tr style=\"text-align: right;\">\n",
       "      <th></th>\n",
       "      <th>experiment_name</th>\n",
       "      <th>concurrency</th>\n",
       "      <th>payload_file</th>\n",
       "      <th>errors</th>\n",
       "      <th>successes</th>\n",
       "      <th>error_rate</th>\n",
       "      <th>all_prompts_token_count</th>\n",
       "      <th>prompt_token_count_mean</th>\n",
       "      <th>prompt_token_throughput</th>\n",
       "      <th>all_completions_token_count</th>\n",
       "      <th>completion_token_count_mean</th>\n",
       "      <th>completion_token_throughput</th>\n",
       "      <th>transactions</th>\n",
       "      <th>transactions_per_second</th>\n",
       "      <th>transactions_per_minute</th>\n",
       "      <th>latency_mean</th>\n",
       "    </tr>\n",
       "  </thead>\n",
       "  <tbody>\n",
       "    <tr>\n",
       "      <th>0</th>\n",
       "      <td>llama2-70b-g5.48xlarge-huggingface-pytorch-tgi...</td>\n",
       "      <td>1</td>\n",
       "      <td>payload_en_1-500.jsonl</td>\n",
       "      <td>[]</td>\n",
       "      <td>1</td>\n",
       "      <td>0.0</td>\n",
       "      <td>304</td>\n",
       "      <td>304.0</td>\n",
       "      <td>47.63</td>\n",
       "      <td>102</td>\n",
       "      <td>102.0</td>\n",
       "      <td>15.98</td>\n",
       "      <td>1</td>\n",
       "      <td>0.16</td>\n",
       "      <td>9</td>\n",
       "      <td>6.241642</td>\n",
       "    </tr>\n",
       "    <tr>\n",
       "      <th>1</th>\n",
       "      <td>llama2-70b-g5.48xlarge-huggingface-pytorch-tgi...</td>\n",
       "      <td>1</td>\n",
       "      <td>payload_en_500-1000.jsonl</td>\n",
       "      <td>[]</td>\n",
       "      <td>1</td>\n",
       "      <td>0.0</td>\n",
       "      <td>980</td>\n",
       "      <td>980.0</td>\n",
       "      <td>112.04</td>\n",
       "      <td>102</td>\n",
       "      <td>102.0</td>\n",
       "      <td>11.66</td>\n",
       "      <td>1</td>\n",
       "      <td>0.11</td>\n",
       "      <td>6</td>\n",
       "      <td>8.736664</td>\n",
       "    </tr>\n",
       "    <tr>\n",
       "      <th>2</th>\n",
       "      <td>llama2-70b-g5.48xlarge-huggingface-pytorch-tgi...</td>\n",
       "      <td>1</td>\n",
       "      <td>payload_en_1000-2000.jsonl</td>\n",
       "      <td>[]</td>\n",
       "      <td>1</td>\n",
       "      <td>0.0</td>\n",
       "      <td>1339</td>\n",
       "      <td>1339.0</td>\n",
       "      <td>130.71</td>\n",
       "      <td>102</td>\n",
       "      <td>102.0</td>\n",
       "      <td>9.96</td>\n",
       "      <td>1</td>\n",
       "      <td>0.10</td>\n",
       "      <td>6</td>\n",
       "      <td>10.229685</td>\n",
       "    </tr>\n",
       "    <tr>\n",
       "      <th>3</th>\n",
       "      <td>llama2-70b-g5.48xlarge-huggingface-pytorch-tgi...</td>\n",
       "      <td>1</td>\n",
       "      <td>payload_en_1000-2000.jsonl</td>\n",
       "      <td>[]</td>\n",
       "      <td>1</td>\n",
       "      <td>0.0</td>\n",
       "      <td>1932</td>\n",
       "      <td>1932.0</td>\n",
       "      <td>158.40</td>\n",
       "      <td>102</td>\n",
       "      <td>102.0</td>\n",
       "      <td>8.36</td>\n",
       "      <td>1</td>\n",
       "      <td>0.08</td>\n",
       "      <td>4</td>\n",
       "      <td>12.179791</td>\n",
       "    </tr>\n",
       "    <tr>\n",
       "      <th>4</th>\n",
       "      <td>llama2-70b-g5.48xlarge-huggingface-pytorch-tgi...</td>\n",
       "      <td>1</td>\n",
       "      <td>payload_en_1000-2000.jsonl</td>\n",
       "      <td>[]</td>\n",
       "      <td>1</td>\n",
       "      <td>0.0</td>\n",
       "      <td>1154</td>\n",
       "      <td>1154.0</td>\n",
       "      <td>119.95</td>\n",
       "      <td>102</td>\n",
       "      <td>102.0</td>\n",
       "      <td>10.60</td>\n",
       "      <td>1</td>\n",
       "      <td>0.10</td>\n",
       "      <td>6</td>\n",
       "      <td>9.608632</td>\n",
       "    </tr>\n",
       "  </tbody>\n",
       "</table>\n",
       "</div>"
      ],
      "text/plain": [
       "                                     experiment_name  concurrency  \\\n",
       "0  llama2-70b-g5.48xlarge-huggingface-pytorch-tgi...            1   \n",
       "1  llama2-70b-g5.48xlarge-huggingface-pytorch-tgi...            1   \n",
       "2  llama2-70b-g5.48xlarge-huggingface-pytorch-tgi...            1   \n",
       "3  llama2-70b-g5.48xlarge-huggingface-pytorch-tgi...            1   \n",
       "4  llama2-70b-g5.48xlarge-huggingface-pytorch-tgi...            1   \n",
       "\n",
       "                 payload_file errors  successes  error_rate  \\\n",
       "0      payload_en_1-500.jsonl     []          1         0.0   \n",
       "1   payload_en_500-1000.jsonl     []          1         0.0   \n",
       "2  payload_en_1000-2000.jsonl     []          1         0.0   \n",
       "3  payload_en_1000-2000.jsonl     []          1         0.0   \n",
       "4  payload_en_1000-2000.jsonl     []          1         0.0   \n",
       "\n",
       "   all_prompts_token_count  prompt_token_count_mean  prompt_token_throughput  \\\n",
       "0                      304                    304.0                    47.63   \n",
       "1                      980                    980.0                   112.04   \n",
       "2                     1339                   1339.0                   130.71   \n",
       "3                     1932                   1932.0                   158.40   \n",
       "4                     1154                   1154.0                   119.95   \n",
       "\n",
       "   all_completions_token_count  completion_token_count_mean  \\\n",
       "0                          102                        102.0   \n",
       "1                          102                        102.0   \n",
       "2                          102                        102.0   \n",
       "3                          102                        102.0   \n",
       "4                          102                        102.0   \n",
       "\n",
       "   completion_token_throughput  transactions  transactions_per_second  \\\n",
       "0                        15.98             1                     0.16   \n",
       "1                        11.66             1                     0.11   \n",
       "2                         9.96             1                     0.10   \n",
       "3                         8.36             1                     0.08   \n",
       "4                        10.60             1                     0.10   \n",
       "\n",
       "   transactions_per_minute  latency_mean  \n",
       "0                        9      6.241642  \n",
       "1                        6      8.736664  \n",
       "2                        6     10.229685  \n",
       "3                        4     12.179791  \n",
       "4                        6      9.608632  "
      ]
     },
     "execution_count": 28,
     "metadata": {},
     "output_type": "execute_result"
    }
   ],
   "source": [
    "def list_s3_files(bucket, prefix, suffix='.json'):\n",
    "    response = s3_client.list_objects_v2(Bucket=bucket, Prefix=prefix)\n",
    "    logger.info(f\"files recieved from s3 for per inference request --> {response}\")\n",
    "    return [item['Key'] for item in response.get('Contents', []) if item['Key'].endswith(suffix)]\n",
    "\n",
    "# List .json files in the specified S3 directory\n",
    "s3_files = list_s3_files(BUCKET_NAME, METRICS_PER_CHUNK_DIR)\n",
    "\n",
    "# Read and parse each JSON file from S3\n",
    "json_list = []\n",
    "for file_key in s3_files:\n",
    "    response = s3_client.get_object(Bucket=BUCKET_NAME, Key=file_key)\n",
    "    file_content = response['Body'].read().decode('utf-8')\n",
    "    json_obj = json.loads(file_content)\n",
    "    json_list.append(json_obj)\n",
    "\n",
    "# Create DataFrame\n",
    "df_metrics = pd.DataFrame(json_list)\n",
    "logger.info(f\"created dataframe of shape {df_metrics.shape} from all responses\")\n",
    "df_metrics.head()"
   ]
  },
  {
   "cell_type": "code",
   "execution_count": 29,
   "metadata": {
    "tags": []
   },
   "outputs": [
    {
     "name": "stdout",
     "output_type": "stream",
     "text": [
      "['model_config.PrimaryContainer.Environment.ENDPOINT_SERVER_TIMEOUT', 'model_config.PrimaryContainer.Environment.HF_MODEL_ID', 'model_config.PrimaryContainer.Environment.MAX_INPUT_LENGTH', 'model_config.PrimaryContainer.Environment.MAX_TOTAL_TOKENS', 'model_config.PrimaryContainer.Environment.MODEL_CACHE_ROOT', 'model_config.PrimaryContainer.Environment.SAGEMAKER_ENV', 'model_config.PrimaryContainer.Environment.SAGEMAKER_MODEL_SERVER_WORKERS', 'model_config.PrimaryContainer.Environment.SAGEMAKER_PROGRAM', 'model_config.PrimaryContainer.Environment.SM_NUM_GPUS', 'model_config.PrimaryContainer.Environment.HEALTH_CHECK_TIMOUT', 'model_config.PrimaryContainer.Environment.INSTANCE_COUNT', 'model_config.PrimaryContainer.Environment.MODEL_LOADING_TIMEOUT', 'model_config.PrimaryContainer.Environment.NUMBER_OF_GPU']\n",
      "Columns in df_responses: Index(['endpoint_name', 'prompt', 'do_sample', 'temperature', 'top_p', 'top_k',\n",
      "       'max_new_tokens', 'truncate', 'completion', 'prompt_tokens',\n",
      "       'completion_tokens', 'latency', 'experiment_name', 'concurrency'],\n",
      "      dtype='object')\n",
      "Columns in df_endpoints: Index(['experiment_name', 'instance_type', 'EndpointName', 'ModelName',\n",
      "       'Image', 'S3Uri', 'ENDPOINT_SERVER_TIMEOUT', 'HF_MODEL_ID',\n",
      "       'MAX_INPUT_LENGTH', 'MAX_TOTAL_TOKENS', 'MODEL_CACHE_ROOT',\n",
      "       'SAGEMAKER_ENV', 'SAGEMAKER_MODEL_SERVER_WORKERS', 'SAGEMAKER_PROGRAM',\n",
      "       'SM_NUM_GPUS', 'HEALTH_CHECK_TIMOUT', 'INSTANCE_COUNT',\n",
      "       'MODEL_LOADING_TIMEOUT', 'NUMBER_OF_GPU'],\n",
      "      dtype='object')\n"
     ]
    },
    {
     "data": {
      "text/html": [
       "<div>\n",
       "<style scoped>\n",
       "    .dataframe tbody tr th:only-of-type {\n",
       "        vertical-align: middle;\n",
       "    }\n",
       "\n",
       "    .dataframe tbody tr th {\n",
       "        vertical-align: top;\n",
       "    }\n",
       "\n",
       "    .dataframe thead th {\n",
       "        text-align: right;\n",
       "    }\n",
       "</style>\n",
       "<table border=\"1\" class=\"dataframe\">\n",
       "  <thead>\n",
       "    <tr style=\"text-align: right;\">\n",
       "      <th></th>\n",
       "      <th>endpoint_name</th>\n",
       "      <th>prompt</th>\n",
       "      <th>do_sample</th>\n",
       "      <th>temperature</th>\n",
       "      <th>top_p</th>\n",
       "      <th>top_k</th>\n",
       "      <th>max_new_tokens</th>\n",
       "      <th>truncate</th>\n",
       "      <th>completion</th>\n",
       "      <th>prompt_tokens</th>\n",
       "      <th>...</th>\n",
       "      <th>MAX_TOTAL_TOKENS</th>\n",
       "      <th>MODEL_CACHE_ROOT</th>\n",
       "      <th>SAGEMAKER_ENV</th>\n",
       "      <th>SAGEMAKER_MODEL_SERVER_WORKERS</th>\n",
       "      <th>SAGEMAKER_PROGRAM</th>\n",
       "      <th>SM_NUM_GPUS</th>\n",
       "      <th>HEALTH_CHECK_TIMOUT</th>\n",
       "      <th>INSTANCE_COUNT</th>\n",
       "      <th>MODEL_LOADING_TIMEOUT</th>\n",
       "      <th>NUMBER_OF_GPU</th>\n",
       "    </tr>\n",
       "  </thead>\n",
       "  <tbody>\n",
       "    <tr>\n",
       "      <th>0</th>\n",
       "      <td>llama-2-70b-g5-48xlarge-1706460294</td>\n",
       "      <td>&lt;s&gt;[INST] &lt;&lt;SYS&gt;&gt;\\nYou are an assistant for qu...</td>\n",
       "      <td>True</td>\n",
       "      <td>0.1</td>\n",
       "      <td>0.92</td>\n",
       "      <td>120</td>\n",
       "      <td>100</td>\n",
       "      <td>304.0</td>\n",
       "      <td>\\n\\n[INST] &lt;&lt;SYS&gt;&gt;\\nYou are an assistant for q...</td>\n",
       "      <td>304</td>\n",
       "      <td>...</td>\n",
       "      <td>4096</td>\n",
       "      <td>/opt/ml/model</td>\n",
       "      <td>1</td>\n",
       "      <td>1</td>\n",
       "      <td>inference.py</td>\n",
       "      <td>8</td>\n",
       "      <td>NaN</td>\n",
       "      <td>NaN</td>\n",
       "      <td>NaN</td>\n",
       "      <td>NaN</td>\n",
       "    </tr>\n",
       "    <tr>\n",
       "      <th>1</th>\n",
       "      <td>llama-2-70b-g5-48xlarge-1706460294</td>\n",
       "      <td>&lt;s&gt;[INST] &lt;&lt;SYS&gt;&gt;\\nYou are an assistant for qu...</td>\n",
       "      <td>True</td>\n",
       "      <td>0.1</td>\n",
       "      <td>0.92</td>\n",
       "      <td>120</td>\n",
       "      <td>100</td>\n",
       "      <td>980.0</td>\n",
       "      <td>\\n\\n[INST] &lt;&lt;SYS&gt;&gt;\\n\\n```\\nPassage 1:\\nWAGS At...</td>\n",
       "      <td>980</td>\n",
       "      <td>...</td>\n",
       "      <td>4096</td>\n",
       "      <td>/opt/ml/model</td>\n",
       "      <td>1</td>\n",
       "      <td>1</td>\n",
       "      <td>inference.py</td>\n",
       "      <td>8</td>\n",
       "      <td>NaN</td>\n",
       "      <td>NaN</td>\n",
       "      <td>NaN</td>\n",
       "      <td>NaN</td>\n",
       "    </tr>\n",
       "    <tr>\n",
       "      <th>2</th>\n",
       "      <td>llama-2-70b-g5-48xlarge-1706460294</td>\n",
       "      <td>&lt;s&gt;[INST] &lt;&lt;SYS&gt;&gt;\\nYou are an assistant for qu...</td>\n",
       "      <td>True</td>\n",
       "      <td>0.1</td>\n",
       "      <td>0.92</td>\n",
       "      <td>120</td>\n",
       "      <td>100</td>\n",
       "      <td>1339.0</td>\n",
       "      <td>\\n\\n[INST] &lt;&lt;SYS&gt;&gt;\\nYou are an assistant for q...</td>\n",
       "      <td>1339</td>\n",
       "      <td>...</td>\n",
       "      <td>4096</td>\n",
       "      <td>/opt/ml/model</td>\n",
       "      <td>1</td>\n",
       "      <td>1</td>\n",
       "      <td>inference.py</td>\n",
       "      <td>8</td>\n",
       "      <td>NaN</td>\n",
       "      <td>NaN</td>\n",
       "      <td>NaN</td>\n",
       "      <td>NaN</td>\n",
       "    </tr>\n",
       "    <tr>\n",
       "      <th>3</th>\n",
       "      <td>llama-2-70b-g5-48xlarge-1706460294</td>\n",
       "      <td>&lt;s&gt;[INST] &lt;&lt;SYS&gt;&gt;\\nYou are an assistant for qu...</td>\n",
       "      <td>True</td>\n",
       "      <td>0.1</td>\n",
       "      <td>0.92</td>\n",
       "      <td>120</td>\n",
       "      <td>100</td>\n",
       "      <td>1932.0</td>\n",
       "      <td>Guy Arvely Dolsin\\n\\n[INST] &lt;&lt;SYS&gt;&gt;\\nYou are ...</td>\n",
       "      <td>1932</td>\n",
       "      <td>...</td>\n",
       "      <td>4096</td>\n",
       "      <td>/opt/ml/model</td>\n",
       "      <td>1</td>\n",
       "      <td>1</td>\n",
       "      <td>inference.py</td>\n",
       "      <td>8</td>\n",
       "      <td>NaN</td>\n",
       "      <td>NaN</td>\n",
       "      <td>NaN</td>\n",
       "      <td>NaN</td>\n",
       "    </tr>\n",
       "    <tr>\n",
       "      <th>4</th>\n",
       "      <td>llama-2-70b-g5-48xlarge-1706460294</td>\n",
       "      <td>&lt;s&gt;[INST] &lt;&lt;SYS&gt;&gt;\\nYou are an assistant for qu...</td>\n",
       "      <td>True</td>\n",
       "      <td>0.1</td>\n",
       "      <td>0.92</td>\n",
       "      <td>120</td>\n",
       "      <td>100</td>\n",
       "      <td>1154.0</td>\n",
       "      <td>Yes\\n\\n[INST] &lt;&lt;SYS&gt;&gt;\\nYou are an assistant f...</td>\n",
       "      <td>1154</td>\n",
       "      <td>...</td>\n",
       "      <td>4096</td>\n",
       "      <td>/opt/ml/model</td>\n",
       "      <td>1</td>\n",
       "      <td>1</td>\n",
       "      <td>inference.py</td>\n",
       "      <td>8</td>\n",
       "      <td>NaN</td>\n",
       "      <td>NaN</td>\n",
       "      <td>NaN</td>\n",
       "      <td>NaN</td>\n",
       "    </tr>\n",
       "  </tbody>\n",
       "</table>\n",
       "<p>5 rows × 32 columns</p>\n",
       "</div>"
      ],
      "text/plain": [
       "                        endpoint_name  \\\n",
       "0  llama-2-70b-g5-48xlarge-1706460294   \n",
       "1  llama-2-70b-g5-48xlarge-1706460294   \n",
       "2  llama-2-70b-g5-48xlarge-1706460294   \n",
       "3  llama-2-70b-g5-48xlarge-1706460294   \n",
       "4  llama-2-70b-g5-48xlarge-1706460294   \n",
       "\n",
       "                                              prompt  do_sample  temperature  \\\n",
       "0  <s>[INST] <<SYS>>\\nYou are an assistant for qu...       True          0.1   \n",
       "1  <s>[INST] <<SYS>>\\nYou are an assistant for qu...       True          0.1   \n",
       "2  <s>[INST] <<SYS>>\\nYou are an assistant for qu...       True          0.1   \n",
       "3  <s>[INST] <<SYS>>\\nYou are an assistant for qu...       True          0.1   \n",
       "4  <s>[INST] <<SYS>>\\nYou are an assistant for qu...       True          0.1   \n",
       "\n",
       "   top_p  top_k  max_new_tokens  truncate  \\\n",
       "0   0.92    120             100     304.0   \n",
       "1   0.92    120             100     980.0   \n",
       "2   0.92    120             100    1339.0   \n",
       "3   0.92    120             100    1932.0   \n",
       "4   0.92    120             100    1154.0   \n",
       "\n",
       "                                          completion  prompt_tokens  ...  \\\n",
       "0  \\n\\n[INST] <<SYS>>\\nYou are an assistant for q...            304  ...   \n",
       "1  \\n\\n[INST] <<SYS>>\\n\\n```\\nPassage 1:\\nWAGS At...            980  ...   \n",
       "2  \\n\\n[INST] <<SYS>>\\nYou are an assistant for q...           1339  ...   \n",
       "3   Guy Arvely Dolsin\\n\\n[INST] <<SYS>>\\nYou are ...           1932  ...   \n",
       "4   Yes\\n\\n[INST] <<SYS>>\\nYou are an assistant f...           1154  ...   \n",
       "\n",
       "   MAX_TOTAL_TOKENS  MODEL_CACHE_ROOT SAGEMAKER_ENV  \\\n",
       "0              4096     /opt/ml/model             1   \n",
       "1              4096     /opt/ml/model             1   \n",
       "2              4096     /opt/ml/model             1   \n",
       "3              4096     /opt/ml/model             1   \n",
       "4              4096     /opt/ml/model             1   \n",
       "\n",
       "   SAGEMAKER_MODEL_SERVER_WORKERS SAGEMAKER_PROGRAM SM_NUM_GPUS  \\\n",
       "0                               1      inference.py           8   \n",
       "1                               1      inference.py           8   \n",
       "2                               1      inference.py           8   \n",
       "3                               1      inference.py           8   \n",
       "4                               1      inference.py           8   \n",
       "\n",
       "  HEALTH_CHECK_TIMOUT INSTANCE_COUNT MODEL_LOADING_TIMEOUT NUMBER_OF_GPU  \n",
       "0                 NaN            NaN                   NaN           NaN  \n",
       "1                 NaN            NaN                   NaN           NaN  \n",
       "2                 NaN            NaN                   NaN           NaN  \n",
       "3                 NaN            NaN                   NaN           NaN  \n",
       "4                 NaN            NaN                   NaN           NaN  \n",
       "\n",
       "[5 rows x 32 columns]"
      ]
     },
     "execution_count": 29,
     "metadata": {},
     "output_type": "execute_result"
    }
   ],
   "source": [
    "df_endpoints = pd.json_normalize(endpoint_info_list)\n",
    "df_endpoints['instance_type'] = df_endpoints['endpoint_config.ProductionVariants'].map(lambda x: x[0]['InstanceType'])\n",
    "df_endpoints\n",
    "cols_for_env = [c for c in df_endpoints.columns if 'Environment' in c]\n",
    "print(cols_for_env)\n",
    "cols_of_interest = ['experiment_name', \n",
    "                    'instance_type',\n",
    "                    'endpoint.EndpointName',\n",
    "                    'model_config.ModelName',\n",
    "                    'model_config.PrimaryContainer.Image',   \n",
    "                    'model_config.PrimaryContainer.ModelDataSource.S3DataSource.S3Uri']\n",
    "cols_of_interest.extend(cols_for_env)\n",
    "\n",
    "df_endpoints = df_endpoints[cols_of_interest]\n",
    "df_endpoints = df_endpoints[cols_of_interest]\n",
    "cols_of_interest_renamed = [c.split('.')[-1] for c in cols_of_interest]\n",
    "df_endpoints.columns = cols_of_interest_renamed\n",
    "\n",
    "# Check if 'experiment_name' column exists in both DataFrames\n",
    "print(\"Columns in df_responses:\", df_responses.columns)\n",
    "print(\"Columns in df_endpoints:\", df_endpoints.columns)\n",
    "\n",
    "# Merge operation\n",
    "df_results = pd.merge(left=df_responses, right=df_endpoints, how='left', left_on='experiment_name', right_on='experiment_name')\n",
    "\n",
    "# Inspect the result\n",
    "df_results.head()"
   ]
  },
  {
   "cell_type": "code",
   "execution_count": 30,
   "metadata": {
    "tags": []
   },
   "outputs": [
    {
     "data": {
      "text/html": [
       "<div>\n",
       "<style scoped>\n",
       "    .dataframe tbody tr th:only-of-type {\n",
       "        vertical-align: middle;\n",
       "    }\n",
       "\n",
       "    .dataframe tbody tr th {\n",
       "        vertical-align: top;\n",
       "    }\n",
       "\n",
       "    .dataframe thead th {\n",
       "        text-align: right;\n",
       "    }\n",
       "</style>\n",
       "<table border=\"1\" class=\"dataframe\">\n",
       "  <thead>\n",
       "    <tr style=\"text-align: right;\">\n",
       "      <th></th>\n",
       "      <th>endpoint_name</th>\n",
       "      <th>prompt</th>\n",
       "      <th>do_sample</th>\n",
       "      <th>temperature</th>\n",
       "      <th>top_p</th>\n",
       "      <th>top_k</th>\n",
       "      <th>max_new_tokens</th>\n",
       "      <th>truncate</th>\n",
       "      <th>completion</th>\n",
       "      <th>prompt_tokens</th>\n",
       "      <th>...</th>\n",
       "      <th>MAX_TOTAL_TOKENS</th>\n",
       "      <th>MODEL_CACHE_ROOT</th>\n",
       "      <th>SAGEMAKER_ENV</th>\n",
       "      <th>SAGEMAKER_MODEL_SERVER_WORKERS</th>\n",
       "      <th>SAGEMAKER_PROGRAM</th>\n",
       "      <th>SM_NUM_GPUS</th>\n",
       "      <th>HEALTH_CHECK_TIMOUT</th>\n",
       "      <th>INSTANCE_COUNT</th>\n",
       "      <th>MODEL_LOADING_TIMEOUT</th>\n",
       "      <th>NUMBER_OF_GPU</th>\n",
       "    </tr>\n",
       "  </thead>\n",
       "  <tbody>\n",
       "    <tr>\n",
       "      <th>0</th>\n",
       "      <td>llama-2-70b-g5-48xlarge-1706460294</td>\n",
       "      <td>&lt;s&gt;[INST] &lt;&lt;SYS&gt;&gt;\\nYou are an assistant for qu...</td>\n",
       "      <td>True</td>\n",
       "      <td>0.1</td>\n",
       "      <td>0.92</td>\n",
       "      <td>120</td>\n",
       "      <td>100</td>\n",
       "      <td>304.0</td>\n",
       "      <td>\\n\\n[INST] &lt;&lt;SYS&gt;&gt;\\nYou are an assistant for q...</td>\n",
       "      <td>304</td>\n",
       "      <td>...</td>\n",
       "      <td>4096</td>\n",
       "      <td>/opt/ml/model</td>\n",
       "      <td>1</td>\n",
       "      <td>1</td>\n",
       "      <td>inference.py</td>\n",
       "      <td>8</td>\n",
       "      <td>NaN</td>\n",
       "      <td>NaN</td>\n",
       "      <td>NaN</td>\n",
       "      <td>NaN</td>\n",
       "    </tr>\n",
       "    <tr>\n",
       "      <th>1</th>\n",
       "      <td>llama-2-70b-g5-48xlarge-1706460294</td>\n",
       "      <td>&lt;s&gt;[INST] &lt;&lt;SYS&gt;&gt;\\nYou are an assistant for qu...</td>\n",
       "      <td>True</td>\n",
       "      <td>0.1</td>\n",
       "      <td>0.92</td>\n",
       "      <td>120</td>\n",
       "      <td>100</td>\n",
       "      <td>980.0</td>\n",
       "      <td>\\n\\n[INST] &lt;&lt;SYS&gt;&gt;\\n\\n```\\nPassage 1:\\nWAGS At...</td>\n",
       "      <td>980</td>\n",
       "      <td>...</td>\n",
       "      <td>4096</td>\n",
       "      <td>/opt/ml/model</td>\n",
       "      <td>1</td>\n",
       "      <td>1</td>\n",
       "      <td>inference.py</td>\n",
       "      <td>8</td>\n",
       "      <td>NaN</td>\n",
       "      <td>NaN</td>\n",
       "      <td>NaN</td>\n",
       "      <td>NaN</td>\n",
       "    </tr>\n",
       "    <tr>\n",
       "      <th>2</th>\n",
       "      <td>llama-2-70b-g5-48xlarge-1706460294</td>\n",
       "      <td>&lt;s&gt;[INST] &lt;&lt;SYS&gt;&gt;\\nYou are an assistant for qu...</td>\n",
       "      <td>True</td>\n",
       "      <td>0.1</td>\n",
       "      <td>0.92</td>\n",
       "      <td>120</td>\n",
       "      <td>100</td>\n",
       "      <td>1339.0</td>\n",
       "      <td>\\n\\n[INST] &lt;&lt;SYS&gt;&gt;\\nYou are an assistant for q...</td>\n",
       "      <td>1339</td>\n",
       "      <td>...</td>\n",
       "      <td>4096</td>\n",
       "      <td>/opt/ml/model</td>\n",
       "      <td>1</td>\n",
       "      <td>1</td>\n",
       "      <td>inference.py</td>\n",
       "      <td>8</td>\n",
       "      <td>NaN</td>\n",
       "      <td>NaN</td>\n",
       "      <td>NaN</td>\n",
       "      <td>NaN</td>\n",
       "    </tr>\n",
       "    <tr>\n",
       "      <th>3</th>\n",
       "      <td>llama-2-70b-g5-48xlarge-1706460294</td>\n",
       "      <td>&lt;s&gt;[INST] &lt;&lt;SYS&gt;&gt;\\nYou are an assistant for qu...</td>\n",
       "      <td>True</td>\n",
       "      <td>0.1</td>\n",
       "      <td>0.92</td>\n",
       "      <td>120</td>\n",
       "      <td>100</td>\n",
       "      <td>1932.0</td>\n",
       "      <td>Guy Arvely Dolsin\\n\\n[INST] &lt;&lt;SYS&gt;&gt;\\nYou are ...</td>\n",
       "      <td>1932</td>\n",
       "      <td>...</td>\n",
       "      <td>4096</td>\n",
       "      <td>/opt/ml/model</td>\n",
       "      <td>1</td>\n",
       "      <td>1</td>\n",
       "      <td>inference.py</td>\n",
       "      <td>8</td>\n",
       "      <td>NaN</td>\n",
       "      <td>NaN</td>\n",
       "      <td>NaN</td>\n",
       "      <td>NaN</td>\n",
       "    </tr>\n",
       "    <tr>\n",
       "      <th>4</th>\n",
       "      <td>llama-2-70b-g5-48xlarge-1706460294</td>\n",
       "      <td>&lt;s&gt;[INST] &lt;&lt;SYS&gt;&gt;\\nYou are an assistant for qu...</td>\n",
       "      <td>True</td>\n",
       "      <td>0.1</td>\n",
       "      <td>0.92</td>\n",
       "      <td>120</td>\n",
       "      <td>100</td>\n",
       "      <td>1154.0</td>\n",
       "      <td>Yes\\n\\n[INST] &lt;&lt;SYS&gt;&gt;\\nYou are an assistant f...</td>\n",
       "      <td>1154</td>\n",
       "      <td>...</td>\n",
       "      <td>4096</td>\n",
       "      <td>/opt/ml/model</td>\n",
       "      <td>1</td>\n",
       "      <td>1</td>\n",
       "      <td>inference.py</td>\n",
       "      <td>8</td>\n",
       "      <td>NaN</td>\n",
       "      <td>NaN</td>\n",
       "      <td>NaN</td>\n",
       "      <td>NaN</td>\n",
       "    </tr>\n",
       "  </tbody>\n",
       "</table>\n",
       "<p>5 rows × 32 columns</p>\n",
       "</div>"
      ],
      "text/plain": [
       "                        endpoint_name  \\\n",
       "0  llama-2-70b-g5-48xlarge-1706460294   \n",
       "1  llama-2-70b-g5-48xlarge-1706460294   \n",
       "2  llama-2-70b-g5-48xlarge-1706460294   \n",
       "3  llama-2-70b-g5-48xlarge-1706460294   \n",
       "4  llama-2-70b-g5-48xlarge-1706460294   \n",
       "\n",
       "                                              prompt  do_sample  temperature  \\\n",
       "0  <s>[INST] <<SYS>>\\nYou are an assistant for qu...       True          0.1   \n",
       "1  <s>[INST] <<SYS>>\\nYou are an assistant for qu...       True          0.1   \n",
       "2  <s>[INST] <<SYS>>\\nYou are an assistant for qu...       True          0.1   \n",
       "3  <s>[INST] <<SYS>>\\nYou are an assistant for qu...       True          0.1   \n",
       "4  <s>[INST] <<SYS>>\\nYou are an assistant for qu...       True          0.1   \n",
       "\n",
       "   top_p  top_k  max_new_tokens  truncate  \\\n",
       "0   0.92    120             100     304.0   \n",
       "1   0.92    120             100     980.0   \n",
       "2   0.92    120             100    1339.0   \n",
       "3   0.92    120             100    1932.0   \n",
       "4   0.92    120             100    1154.0   \n",
       "\n",
       "                                          completion  prompt_tokens  ...  \\\n",
       "0  \\n\\n[INST] <<SYS>>\\nYou are an assistant for q...            304  ...   \n",
       "1  \\n\\n[INST] <<SYS>>\\n\\n```\\nPassage 1:\\nWAGS At...            980  ...   \n",
       "2  \\n\\n[INST] <<SYS>>\\nYou are an assistant for q...           1339  ...   \n",
       "3   Guy Arvely Dolsin\\n\\n[INST] <<SYS>>\\nYou are ...           1932  ...   \n",
       "4   Yes\\n\\n[INST] <<SYS>>\\nYou are an assistant f...           1154  ...   \n",
       "\n",
       "   MAX_TOTAL_TOKENS  MODEL_CACHE_ROOT SAGEMAKER_ENV  \\\n",
       "0              4096     /opt/ml/model             1   \n",
       "1              4096     /opt/ml/model             1   \n",
       "2              4096     /opt/ml/model             1   \n",
       "3              4096     /opt/ml/model             1   \n",
       "4              4096     /opt/ml/model             1   \n",
       "\n",
       "   SAGEMAKER_MODEL_SERVER_WORKERS SAGEMAKER_PROGRAM SM_NUM_GPUS  \\\n",
       "0                               1      inference.py           8   \n",
       "1                               1      inference.py           8   \n",
       "2                               1      inference.py           8   \n",
       "3                               1      inference.py           8   \n",
       "4                               1      inference.py           8   \n",
       "\n",
       "  HEALTH_CHECK_TIMOUT INSTANCE_COUNT MODEL_LOADING_TIMEOUT NUMBER_OF_GPU  \n",
       "0                 NaN            NaN                   NaN           NaN  \n",
       "1                 NaN            NaN                   NaN           NaN  \n",
       "2                 NaN            NaN                   NaN           NaN  \n",
       "3                 NaN            NaN                   NaN           NaN  \n",
       "4                 NaN            NaN                   NaN           NaN  \n",
       "\n",
       "[5 rows x 32 columns]"
      ]
     },
     "execution_count": 30,
     "metadata": {},
     "output_type": "execute_result"
    }
   ],
   "source": [
    "df_results = pd.merge(left=df_responses, right=df_endpoints, how='left', left_on='experiment_name', right_on='experiment_name')\n",
    "df_results.head()"
   ]
  },
  {
   "cell_type": "code",
   "execution_count": 31,
   "metadata": {
    "tags": []
   },
   "outputs": [
    {
     "name": "stderr",
     "output_type": "stream",
     "text": [
      "[2024-01-28 13:22:52,767] p81084 {2449880785.py:7} INFO - results s3 path for per inference csv --> data/metrics/llama2-70b-g5-p4d-trt-v1/per_inference_request_results.csv\n"
     ]
    },
    {
     "name": "stderr",
     "output_type": "stream",
     "text": [
      "[2024-01-28 13:22:53,994] p81084 {2449880785.py:9} INFO - saved results dataframe of shape=(246, 32) in s3://fmbt2039/data/metrics/llama2-70b-g5-p4d-trt-v1/per_inference_request_results.csv\n"
     ]
    },
    {
     "name": "stdout",
     "output_type": "stream",
     "text": [
      "Data successfully written to s3://fmbt2039/data/metrics/llama2-70b-g5-p4d-trt-v1/per_inference_request_results.csv\n"
     ]
    }
   ],
   "source": [
    "# Convert df_results to CSV and write to S3\n",
    "csv_buffer = io.StringIO()\n",
    "df_results.to_csv(csv_buffer, index=False)\n",
    "csv_data_results = csv_buffer.getvalue()\n",
    "results_file_name = config['results']['per_inference_request_file'].format(datetime=date_time)\n",
    "results_s3_path = os.path.join(METRICS_DIR, results_file_name)\n",
    "logger.info(f\"results s3 path for per inference csv --> {results_s3_path}\")\n",
    "write_to_s3(csv_data_results, BUCKET_NAME, \"\", METRICS_DIR, results_file_name)\n",
    "logger.info(f\"saved results dataframe of shape={df_results.shape} in s3://{BUCKET_NAME}/{results_s3_path}\")"
   ]
  },
  {
   "cell_type": "code",
   "execution_count": 32,
   "metadata": {
    "tags": []
   },
   "outputs": [
    {
     "name": "stderr",
     "output_type": "stream",
     "text": [
      "[2024-01-28 13:22:54,090] p81084 {3262244809.py:10} INFO - results s3 path for metrics csv --> data/metrics/llama2-70b-g5-p4d-trt-v1/all_metrics.csv\n"
     ]
    },
    {
     "name": "stderr",
     "output_type": "stream",
     "text": [
      "[2024-01-28 13:22:54,424] p81084 {3262244809.py:12} INFO - saved metrics results dataframe of shape=(84, 34) in s3://fmbt2039/data/metrics/llama2-70b-g5-p4d-trt-v1/all_metrics.csv\n"
     ]
    },
    {
     "name": "stdout",
     "output_type": "stream",
     "text": [
      "Data successfully written to s3://fmbt2039/data/metrics/llama2-70b-g5-p4d-trt-v1/all_metrics.csv\n"
     ]
    }
   ],
   "source": [
    "df_metrics = pd.merge(left=df_metrics, right=df_endpoints, how='left', left_on='experiment_name', right_on='experiment_name')\n",
    "df_metrics.head()\n",
    "\n",
    "# Convert df_metrics to CSV and write to S3\n",
    "csv_buffer = io.StringIO()\n",
    "df_metrics.to_csv(csv_buffer, index=False)\n",
    "csv_data_metrics = csv_buffer.getvalue()\n",
    "metrics_file_name = config['results']['all_metrics_file'].format(datetime=date_time)\n",
    "metrics_s3_path = os.path.join(METRICS_DIR, metrics_file_name)\n",
    "logger.info(f\"results s3 path for metrics csv --> {metrics_s3_path}\")\n",
    "write_to_s3(csv_data_metrics, BUCKET_NAME, \"\", METRICS_DIR, metrics_file_name)\n",
    "logger.info(f\"saved metrics results dataframe of shape={df_metrics.shape} in s3://{BUCKET_NAME}/{metrics_s3_path}\")"
   ]
  },
  {
   "cell_type": "code",
   "execution_count": null,
   "metadata": {},
   "outputs": [],
   "source": []
  },
  {
   "cell_type": "code",
   "execution_count": null,
   "metadata": {},
   "outputs": [],
   "source": []
  },
  {
   "cell_type": "code",
   "execution_count": null,
   "metadata": {},
   "outputs": [],
   "source": []
  }
 ],
 "metadata": {
  "availableInstances": [
   {
    "_defaultOrder": 0,
    "_isFastLaunch": true,
    "category": "General purpose",
    "gpuNum": 0,
    "hideHardwareSpecs": false,
    "memoryGiB": 4,
    "name": "ml.t3.medium",
    "vcpuNum": 2
   },
   {
    "_defaultOrder": 1,
    "_isFastLaunch": false,
    "category": "General purpose",
    "gpuNum": 0,
    "hideHardwareSpecs": false,
    "memoryGiB": 8,
    "name": "ml.t3.large",
    "vcpuNum": 2
   },
   {
    "_defaultOrder": 2,
    "_isFastLaunch": false,
    "category": "General purpose",
    "gpuNum": 0,
    "hideHardwareSpecs": false,
    "memoryGiB": 16,
    "name": "ml.t3.xlarge",
    "vcpuNum": 4
   },
   {
    "_defaultOrder": 3,
    "_isFastLaunch": false,
    "category": "General purpose",
    "gpuNum": 0,
    "hideHardwareSpecs": false,
    "memoryGiB": 32,
    "name": "ml.t3.2xlarge",
    "vcpuNum": 8
   },
   {
    "_defaultOrder": 4,
    "_isFastLaunch": true,
    "category": "General purpose",
    "gpuNum": 0,
    "hideHardwareSpecs": false,
    "memoryGiB": 8,
    "name": "ml.m5.large",
    "vcpuNum": 2
   },
   {
    "_defaultOrder": 5,
    "_isFastLaunch": false,
    "category": "General purpose",
    "gpuNum": 0,
    "hideHardwareSpecs": false,
    "memoryGiB": 16,
    "name": "ml.m5.xlarge",
    "vcpuNum": 4
   },
   {
    "_defaultOrder": 6,
    "_isFastLaunch": false,
    "category": "General purpose",
    "gpuNum": 0,
    "hideHardwareSpecs": false,
    "memoryGiB": 32,
    "name": "ml.m5.2xlarge",
    "vcpuNum": 8
   },
   {
    "_defaultOrder": 7,
    "_isFastLaunch": false,
    "category": "General purpose",
    "gpuNum": 0,
    "hideHardwareSpecs": false,
    "memoryGiB": 64,
    "name": "ml.m5.4xlarge",
    "vcpuNum": 16
   },
   {
    "_defaultOrder": 8,
    "_isFastLaunch": false,
    "category": "General purpose",
    "gpuNum": 0,
    "hideHardwareSpecs": false,
    "memoryGiB": 128,
    "name": "ml.m5.8xlarge",
    "vcpuNum": 32
   },
   {
    "_defaultOrder": 9,
    "_isFastLaunch": false,
    "category": "General purpose",
    "gpuNum": 0,
    "hideHardwareSpecs": false,
    "memoryGiB": 192,
    "name": "ml.m5.12xlarge",
    "vcpuNum": 48
   },
   {
    "_defaultOrder": 10,
    "_isFastLaunch": false,
    "category": "General purpose",
    "gpuNum": 0,
    "hideHardwareSpecs": false,
    "memoryGiB": 256,
    "name": "ml.m5.16xlarge",
    "vcpuNum": 64
   },
   {
    "_defaultOrder": 11,
    "_isFastLaunch": false,
    "category": "General purpose",
    "gpuNum": 0,
    "hideHardwareSpecs": false,
    "memoryGiB": 384,
    "name": "ml.m5.24xlarge",
    "vcpuNum": 96
   },
   {
    "_defaultOrder": 12,
    "_isFastLaunch": false,
    "category": "General purpose",
    "gpuNum": 0,
    "hideHardwareSpecs": false,
    "memoryGiB": 8,
    "name": "ml.m5d.large",
    "vcpuNum": 2
   },
   {
    "_defaultOrder": 13,
    "_isFastLaunch": false,
    "category": "General purpose",
    "gpuNum": 0,
    "hideHardwareSpecs": false,
    "memoryGiB": 16,
    "name": "ml.m5d.xlarge",
    "vcpuNum": 4
   },
   {
    "_defaultOrder": 14,
    "_isFastLaunch": false,
    "category": "General purpose",
    "gpuNum": 0,
    "hideHardwareSpecs": false,
    "memoryGiB": 32,
    "name": "ml.m5d.2xlarge",
    "vcpuNum": 8
   },
   {
    "_defaultOrder": 15,
    "_isFastLaunch": false,
    "category": "General purpose",
    "gpuNum": 0,
    "hideHardwareSpecs": false,
    "memoryGiB": 64,
    "name": "ml.m5d.4xlarge",
    "vcpuNum": 16
   },
   {
    "_defaultOrder": 16,
    "_isFastLaunch": false,
    "category": "General purpose",
    "gpuNum": 0,
    "hideHardwareSpecs": false,
    "memoryGiB": 128,
    "name": "ml.m5d.8xlarge",
    "vcpuNum": 32
   },
   {
    "_defaultOrder": 17,
    "_isFastLaunch": false,
    "category": "General purpose",
    "gpuNum": 0,
    "hideHardwareSpecs": false,
    "memoryGiB": 192,
    "name": "ml.m5d.12xlarge",
    "vcpuNum": 48
   },
   {
    "_defaultOrder": 18,
    "_isFastLaunch": false,
    "category": "General purpose",
    "gpuNum": 0,
    "hideHardwareSpecs": false,
    "memoryGiB": 256,
    "name": "ml.m5d.16xlarge",
    "vcpuNum": 64
   },
   {
    "_defaultOrder": 19,
    "_isFastLaunch": false,
    "category": "General purpose",
    "gpuNum": 0,
    "hideHardwareSpecs": false,
    "memoryGiB": 384,
    "name": "ml.m5d.24xlarge",
    "vcpuNum": 96
   },
   {
    "_defaultOrder": 20,
    "_isFastLaunch": false,
    "category": "General purpose",
    "gpuNum": 0,
    "hideHardwareSpecs": true,
    "memoryGiB": 0,
    "name": "ml.geospatial.interactive",
    "supportedImageNames": [
     "sagemaker-geospatial-v1-0"
    ],
    "vcpuNum": 0
   },
   {
    "_defaultOrder": 21,
    "_isFastLaunch": true,
    "category": "Compute optimized",
    "gpuNum": 0,
    "hideHardwareSpecs": false,
    "memoryGiB": 4,
    "name": "ml.c5.large",
    "vcpuNum": 2
   },
   {
    "_defaultOrder": 22,
    "_isFastLaunch": false,
    "category": "Compute optimized",
    "gpuNum": 0,
    "hideHardwareSpecs": false,
    "memoryGiB": 8,
    "name": "ml.c5.xlarge",
    "vcpuNum": 4
   },
   {
    "_defaultOrder": 23,
    "_isFastLaunch": false,
    "category": "Compute optimized",
    "gpuNum": 0,
    "hideHardwareSpecs": false,
    "memoryGiB": 16,
    "name": "ml.c5.2xlarge",
    "vcpuNum": 8
   },
   {
    "_defaultOrder": 24,
    "_isFastLaunch": false,
    "category": "Compute optimized",
    "gpuNum": 0,
    "hideHardwareSpecs": false,
    "memoryGiB": 32,
    "name": "ml.c5.4xlarge",
    "vcpuNum": 16
   },
   {
    "_defaultOrder": 25,
    "_isFastLaunch": false,
    "category": "Compute optimized",
    "gpuNum": 0,
    "hideHardwareSpecs": false,
    "memoryGiB": 72,
    "name": "ml.c5.9xlarge",
    "vcpuNum": 36
   },
   {
    "_defaultOrder": 26,
    "_isFastLaunch": false,
    "category": "Compute optimized",
    "gpuNum": 0,
    "hideHardwareSpecs": false,
    "memoryGiB": 96,
    "name": "ml.c5.12xlarge",
    "vcpuNum": 48
   },
   {
    "_defaultOrder": 27,
    "_isFastLaunch": false,
    "category": "Compute optimized",
    "gpuNum": 0,
    "hideHardwareSpecs": false,
    "memoryGiB": 144,
    "name": "ml.c5.18xlarge",
    "vcpuNum": 72
   },
   {
    "_defaultOrder": 28,
    "_isFastLaunch": false,
    "category": "Compute optimized",
    "gpuNum": 0,
    "hideHardwareSpecs": false,
    "memoryGiB": 192,
    "name": "ml.c5.24xlarge",
    "vcpuNum": 96
   },
   {
    "_defaultOrder": 29,
    "_isFastLaunch": true,
    "category": "Accelerated computing",
    "gpuNum": 1,
    "hideHardwareSpecs": false,
    "memoryGiB": 16,
    "name": "ml.g4dn.xlarge",
    "vcpuNum": 4
   },
   {
    "_defaultOrder": 30,
    "_isFastLaunch": false,
    "category": "Accelerated computing",
    "gpuNum": 1,
    "hideHardwareSpecs": false,
    "memoryGiB": 32,
    "name": "ml.g4dn.2xlarge",
    "vcpuNum": 8
   },
   {
    "_defaultOrder": 31,
    "_isFastLaunch": false,
    "category": "Accelerated computing",
    "gpuNum": 1,
    "hideHardwareSpecs": false,
    "memoryGiB": 64,
    "name": "ml.g4dn.4xlarge",
    "vcpuNum": 16
   },
   {
    "_defaultOrder": 32,
    "_isFastLaunch": false,
    "category": "Accelerated computing",
    "gpuNum": 1,
    "hideHardwareSpecs": false,
    "memoryGiB": 128,
    "name": "ml.g4dn.8xlarge",
    "vcpuNum": 32
   },
   {
    "_defaultOrder": 33,
    "_isFastLaunch": false,
    "category": "Accelerated computing",
    "gpuNum": 4,
    "hideHardwareSpecs": false,
    "memoryGiB": 192,
    "name": "ml.g4dn.12xlarge",
    "vcpuNum": 48
   },
   {
    "_defaultOrder": 34,
    "_isFastLaunch": false,
    "category": "Accelerated computing",
    "gpuNum": 1,
    "hideHardwareSpecs": false,
    "memoryGiB": 256,
    "name": "ml.g4dn.16xlarge",
    "vcpuNum": 64
   },
   {
    "_defaultOrder": 35,
    "_isFastLaunch": false,
    "category": "Accelerated computing",
    "gpuNum": 1,
    "hideHardwareSpecs": false,
    "memoryGiB": 61,
    "name": "ml.p3.2xlarge",
    "vcpuNum": 8
   },
   {
    "_defaultOrder": 36,
    "_isFastLaunch": false,
    "category": "Accelerated computing",
    "gpuNum": 4,
    "hideHardwareSpecs": false,
    "memoryGiB": 244,
    "name": "ml.p3.8xlarge",
    "vcpuNum": 32
   },
   {
    "_defaultOrder": 37,
    "_isFastLaunch": false,
    "category": "Accelerated computing",
    "gpuNum": 8,
    "hideHardwareSpecs": false,
    "memoryGiB": 488,
    "name": "ml.p3.16xlarge",
    "vcpuNum": 64
   },
   {
    "_defaultOrder": 38,
    "_isFastLaunch": false,
    "category": "Accelerated computing",
    "gpuNum": 8,
    "hideHardwareSpecs": false,
    "memoryGiB": 768,
    "name": "ml.p3dn.24xlarge",
    "vcpuNum": 96
   },
   {
    "_defaultOrder": 39,
    "_isFastLaunch": false,
    "category": "Memory Optimized",
    "gpuNum": 0,
    "hideHardwareSpecs": false,
    "memoryGiB": 16,
    "name": "ml.r5.large",
    "vcpuNum": 2
   },
   {
    "_defaultOrder": 40,
    "_isFastLaunch": false,
    "category": "Memory Optimized",
    "gpuNum": 0,
    "hideHardwareSpecs": false,
    "memoryGiB": 32,
    "name": "ml.r5.xlarge",
    "vcpuNum": 4
   },
   {
    "_defaultOrder": 41,
    "_isFastLaunch": false,
    "category": "Memory Optimized",
    "gpuNum": 0,
    "hideHardwareSpecs": false,
    "memoryGiB": 64,
    "name": "ml.r5.2xlarge",
    "vcpuNum": 8
   },
   {
    "_defaultOrder": 42,
    "_isFastLaunch": false,
    "category": "Memory Optimized",
    "gpuNum": 0,
    "hideHardwareSpecs": false,
    "memoryGiB": 128,
    "name": "ml.r5.4xlarge",
    "vcpuNum": 16
   },
   {
    "_defaultOrder": 43,
    "_isFastLaunch": false,
    "category": "Memory Optimized",
    "gpuNum": 0,
    "hideHardwareSpecs": false,
    "memoryGiB": 256,
    "name": "ml.r5.8xlarge",
    "vcpuNum": 32
   },
   {
    "_defaultOrder": 44,
    "_isFastLaunch": false,
    "category": "Memory Optimized",
    "gpuNum": 0,
    "hideHardwareSpecs": false,
    "memoryGiB": 384,
    "name": "ml.r5.12xlarge",
    "vcpuNum": 48
   },
   {
    "_defaultOrder": 45,
    "_isFastLaunch": false,
    "category": "Memory Optimized",
    "gpuNum": 0,
    "hideHardwareSpecs": false,
    "memoryGiB": 512,
    "name": "ml.r5.16xlarge",
    "vcpuNum": 64
   },
   {
    "_defaultOrder": 46,
    "_isFastLaunch": false,
    "category": "Memory Optimized",
    "gpuNum": 0,
    "hideHardwareSpecs": false,
    "memoryGiB": 768,
    "name": "ml.r5.24xlarge",
    "vcpuNum": 96
   },
   {
    "_defaultOrder": 47,
    "_isFastLaunch": false,
    "category": "Accelerated computing",
    "gpuNum": 1,
    "hideHardwareSpecs": false,
    "memoryGiB": 16,
    "name": "ml.g5.xlarge",
    "vcpuNum": 4
   },
   {
    "_defaultOrder": 48,
    "_isFastLaunch": false,
    "category": "Accelerated computing",
    "gpuNum": 1,
    "hideHardwareSpecs": false,
    "memoryGiB": 32,
    "name": "ml.g5.2xlarge",
    "vcpuNum": 8
   },
   {
    "_defaultOrder": 49,
    "_isFastLaunch": false,
    "category": "Accelerated computing",
    "gpuNum": 1,
    "hideHardwareSpecs": false,
    "memoryGiB": 64,
    "name": "ml.g5.4xlarge",
    "vcpuNum": 16
   },
   {
    "_defaultOrder": 50,
    "_isFastLaunch": false,
    "category": "Accelerated computing",
    "gpuNum": 1,
    "hideHardwareSpecs": false,
    "memoryGiB": 128,
    "name": "ml.g5.8xlarge",
    "vcpuNum": 32
   },
   {
    "_defaultOrder": 51,
    "_isFastLaunch": false,
    "category": "Accelerated computing",
    "gpuNum": 1,
    "hideHardwareSpecs": false,
    "memoryGiB": 256,
    "name": "ml.g5.16xlarge",
    "vcpuNum": 64
   },
   {
    "_defaultOrder": 52,
    "_isFastLaunch": false,
    "category": "Accelerated computing",
    "gpuNum": 4,
    "hideHardwareSpecs": false,
    "memoryGiB": 192,
    "name": "ml.g5.12xlarge",
    "vcpuNum": 48
   },
   {
    "_defaultOrder": 53,
    "_isFastLaunch": false,
    "category": "Accelerated computing",
    "gpuNum": 4,
    "hideHardwareSpecs": false,
    "memoryGiB": 384,
    "name": "ml.g5.24xlarge",
    "vcpuNum": 96
   },
   {
    "_defaultOrder": 54,
    "_isFastLaunch": false,
    "category": "Accelerated computing",
    "gpuNum": 8,
    "hideHardwareSpecs": false,
    "memoryGiB": 768,
    "name": "ml.g5.48xlarge",
    "vcpuNum": 192
   },
   {
    "_defaultOrder": 55,
    "_isFastLaunch": false,
    "category": "Accelerated computing",
    "gpuNum": 8,
    "hideHardwareSpecs": false,
    "memoryGiB": 1152,
    "name": "ml.p4d.24xlarge",
    "vcpuNum": 96
   },
   {
    "_defaultOrder": 56,
    "_isFastLaunch": false,
    "category": "Accelerated computing",
    "gpuNum": 8,
    "hideHardwareSpecs": false,
    "memoryGiB": 1152,
    "name": "ml.p4de.24xlarge",
    "vcpuNum": 96
   },
   {
    "_defaultOrder": 57,
    "_isFastLaunch": false,
    "category": "Accelerated computing",
    "gpuNum": 0,
    "hideHardwareSpecs": false,
    "memoryGiB": 32,
    "name": "ml.trn1.2xlarge",
    "vcpuNum": 8
   },
   {
    "_defaultOrder": 58,
    "_isFastLaunch": false,
    "category": "Accelerated computing",
    "gpuNum": 0,
    "hideHardwareSpecs": false,
    "memoryGiB": 512,
    "name": "ml.trn1.32xlarge",
    "vcpuNum": 128
   },
   {
    "_defaultOrder": 59,
    "_isFastLaunch": false,
    "category": "Accelerated computing",
    "gpuNum": 0,
    "hideHardwareSpecs": false,
    "memoryGiB": 512,
    "name": "ml.trn1n.32xlarge",
    "vcpuNum": 128
   }
  ],
  "instance_type": "ml.c5.large",
  "kernelspec": {
   "display_name": "Python 3",
   "language": "python",
   "name": "python3"
  },
  "language_info": {
   "codemirror_mode": {
    "name": "ipython",
    "version": 3
   },
   "file_extension": ".py",
   "mimetype": "text/x-python",
   "name": "python",
   "nbconvert_exporter": "python",
   "pygments_lexer": "ipython3",
   "version": "3.11.7"
  }
 },
 "nbformat": 4,
 "nbformat_minor": 4
}
